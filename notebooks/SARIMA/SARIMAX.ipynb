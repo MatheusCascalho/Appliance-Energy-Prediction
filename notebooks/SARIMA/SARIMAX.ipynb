{
 "cells": [
  {
   "cell_type": "code",
   "execution_count": 1,
   "id": "c1893871-1be5-452c-8178-4205d6d8c7c2",
   "metadata": {},
   "outputs": [],
   "source": [
    "import pandas as pd\n",
    "import numpy as np\n",
    "from datetime import datetime\n",
    "import matplotlib.pyplot as plt\n",
    "from statsmodels.tsa.arima.model import ARIMA\n",
    "import statsmodels.api as sm\n",
    "from pyFTS.benchmarks import Measures\n",
    "import math\n",
    "from pyFTS.common import Util\n",
    "import datetime\n",
    "import statistics"
   ]
  },
  {
   "cell_type": "code",
   "execution_count": 2,
   "id": "4b63ff4b-f465-495e-b863-2ea7434ca0bc",
   "metadata": {},
   "outputs": [
    {
     "data": {
      "text/html": [
       "<div>\n",
       "<style scoped>\n",
       "    .dataframe tbody tr th:only-of-type {\n",
       "        vertical-align: middle;\n",
       "    }\n",
       "\n",
       "    .dataframe tbody tr th {\n",
       "        vertical-align: top;\n",
       "    }\n",
       "\n",
       "    .dataframe thead th {\n",
       "        text-align: right;\n",
       "    }\n",
       "</style>\n",
       "<table border=\"1\" class=\"dataframe\">\n",
       "  <thead>\n",
       "    <tr style=\"text-align: right;\">\n",
       "      <th></th>\n",
       "      <th>date</th>\n",
       "      <th>Appliances</th>\n",
       "      <th>lights</th>\n",
       "      <th>T1</th>\n",
       "      <th>RH_1</th>\n",
       "      <th>T2</th>\n",
       "      <th>RH_2</th>\n",
       "      <th>T3</th>\n",
       "      <th>RH_3</th>\n",
       "      <th>T4</th>\n",
       "      <th>...</th>\n",
       "      <th>T8</th>\n",
       "      <th>RH_8</th>\n",
       "      <th>T9</th>\n",
       "      <th>RH_9</th>\n",
       "      <th>T_out</th>\n",
       "      <th>Press_mm_hg</th>\n",
       "      <th>RH_out</th>\n",
       "      <th>Windspeed</th>\n",
       "      <th>Visibility</th>\n",
       "      <th>Tdewpoint</th>\n",
       "    </tr>\n",
       "    <tr>\n",
       "      <th>date</th>\n",
       "      <th></th>\n",
       "      <th></th>\n",
       "      <th></th>\n",
       "      <th></th>\n",
       "      <th></th>\n",
       "      <th></th>\n",
       "      <th></th>\n",
       "      <th></th>\n",
       "      <th></th>\n",
       "      <th></th>\n",
       "      <th></th>\n",
       "      <th></th>\n",
       "      <th></th>\n",
       "      <th></th>\n",
       "      <th></th>\n",
       "      <th></th>\n",
       "      <th></th>\n",
       "      <th></th>\n",
       "      <th></th>\n",
       "      <th></th>\n",
       "      <th></th>\n",
       "    </tr>\n",
       "  </thead>\n",
       "  <tbody>\n",
       "    <tr>\n",
       "      <th>2016-01-11 17:00:00</th>\n",
       "      <td>2016-01-11 17:00:00</td>\n",
       "      <td>60</td>\n",
       "      <td>30</td>\n",
       "      <td>19.890000</td>\n",
       "      <td>47.596667</td>\n",
       "      <td>19.200000</td>\n",
       "      <td>44.790000</td>\n",
       "      <td>19.790000</td>\n",
       "      <td>44.730000</td>\n",
       "      <td>19.000000</td>\n",
       "      <td>...</td>\n",
       "      <td>18.2000</td>\n",
       "      <td>48.900000</td>\n",
       "      <td>17.033333</td>\n",
       "      <td>45.5300</td>\n",
       "      <td>6.600000</td>\n",
       "      <td>733.5</td>\n",
       "      <td>92.000000</td>\n",
       "      <td>7.000000</td>\n",
       "      <td>63.000000</td>\n",
       "      <td>5.300000</td>\n",
       "    </tr>\n",
       "    <tr>\n",
       "      <th>2016-01-11 17:10:00</th>\n",
       "      <td>2016-01-11 17:10:00</td>\n",
       "      <td>60</td>\n",
       "      <td>30</td>\n",
       "      <td>19.890000</td>\n",
       "      <td>46.693333</td>\n",
       "      <td>19.200000</td>\n",
       "      <td>44.722500</td>\n",
       "      <td>19.790000</td>\n",
       "      <td>44.790000</td>\n",
       "      <td>19.000000</td>\n",
       "      <td>...</td>\n",
       "      <td>18.2000</td>\n",
       "      <td>48.863333</td>\n",
       "      <td>17.066667</td>\n",
       "      <td>45.5600</td>\n",
       "      <td>6.483333</td>\n",
       "      <td>733.6</td>\n",
       "      <td>92.000000</td>\n",
       "      <td>6.666667</td>\n",
       "      <td>59.166667</td>\n",
       "      <td>5.200000</td>\n",
       "    </tr>\n",
       "    <tr>\n",
       "      <th>2016-01-11 17:20:00</th>\n",
       "      <td>2016-01-11 17:20:00</td>\n",
       "      <td>50</td>\n",
       "      <td>30</td>\n",
       "      <td>19.890000</td>\n",
       "      <td>46.300000</td>\n",
       "      <td>19.200000</td>\n",
       "      <td>44.626667</td>\n",
       "      <td>19.790000</td>\n",
       "      <td>44.933333</td>\n",
       "      <td>18.926667</td>\n",
       "      <td>...</td>\n",
       "      <td>18.2000</td>\n",
       "      <td>48.730000</td>\n",
       "      <td>17.000000</td>\n",
       "      <td>45.5000</td>\n",
       "      <td>6.366667</td>\n",
       "      <td>733.7</td>\n",
       "      <td>92.000000</td>\n",
       "      <td>6.333333</td>\n",
       "      <td>55.333333</td>\n",
       "      <td>5.100000</td>\n",
       "    </tr>\n",
       "    <tr>\n",
       "      <th>2016-01-11 17:30:00</th>\n",
       "      <td>2016-01-11 17:30:00</td>\n",
       "      <td>50</td>\n",
       "      <td>40</td>\n",
       "      <td>19.890000</td>\n",
       "      <td>46.066667</td>\n",
       "      <td>19.200000</td>\n",
       "      <td>44.590000</td>\n",
       "      <td>19.790000</td>\n",
       "      <td>45.000000</td>\n",
       "      <td>18.890000</td>\n",
       "      <td>...</td>\n",
       "      <td>18.1000</td>\n",
       "      <td>48.590000</td>\n",
       "      <td>17.000000</td>\n",
       "      <td>45.4000</td>\n",
       "      <td>6.250000</td>\n",
       "      <td>733.8</td>\n",
       "      <td>92.000000</td>\n",
       "      <td>6.000000</td>\n",
       "      <td>51.500000</td>\n",
       "      <td>5.000000</td>\n",
       "    </tr>\n",
       "    <tr>\n",
       "      <th>2016-01-11 17:40:00</th>\n",
       "      <td>2016-01-11 17:40:00</td>\n",
       "      <td>60</td>\n",
       "      <td>40</td>\n",
       "      <td>19.890000</td>\n",
       "      <td>46.333333</td>\n",
       "      <td>19.200000</td>\n",
       "      <td>44.530000</td>\n",
       "      <td>19.790000</td>\n",
       "      <td>45.000000</td>\n",
       "      <td>18.890000</td>\n",
       "      <td>...</td>\n",
       "      <td>18.1000</td>\n",
       "      <td>48.590000</td>\n",
       "      <td>17.000000</td>\n",
       "      <td>45.4000</td>\n",
       "      <td>6.133333</td>\n",
       "      <td>733.9</td>\n",
       "      <td>92.000000</td>\n",
       "      <td>5.666667</td>\n",
       "      <td>47.666667</td>\n",
       "      <td>4.900000</td>\n",
       "    </tr>\n",
       "    <tr>\n",
       "      <th>...</th>\n",
       "      <td>...</td>\n",
       "      <td>...</td>\n",
       "      <td>...</td>\n",
       "      <td>...</td>\n",
       "      <td>...</td>\n",
       "      <td>...</td>\n",
       "      <td>...</td>\n",
       "      <td>...</td>\n",
       "      <td>...</td>\n",
       "      <td>...</td>\n",
       "      <td>...</td>\n",
       "      <td>...</td>\n",
       "      <td>...</td>\n",
       "      <td>...</td>\n",
       "      <td>...</td>\n",
       "      <td>...</td>\n",
       "      <td>...</td>\n",
       "      <td>...</td>\n",
       "      <td>...</td>\n",
       "      <td>...</td>\n",
       "      <td>...</td>\n",
       "    </tr>\n",
       "    <tr>\n",
       "      <th>2016-05-27 17:20:00</th>\n",
       "      <td>2016-05-27 17:20:00</td>\n",
       "      <td>100</td>\n",
       "      <td>0</td>\n",
       "      <td>25.566667</td>\n",
       "      <td>46.560000</td>\n",
       "      <td>25.890000</td>\n",
       "      <td>42.025714</td>\n",
       "      <td>27.200000</td>\n",
       "      <td>41.163333</td>\n",
       "      <td>24.700000</td>\n",
       "      <td>...</td>\n",
       "      <td>24.7000</td>\n",
       "      <td>50.074000</td>\n",
       "      <td>23.200000</td>\n",
       "      <td>46.7900</td>\n",
       "      <td>22.733333</td>\n",
       "      <td>755.2</td>\n",
       "      <td>55.666667</td>\n",
       "      <td>3.333333</td>\n",
       "      <td>23.666667</td>\n",
       "      <td>13.333333</td>\n",
       "    </tr>\n",
       "    <tr>\n",
       "      <th>2016-05-27 17:30:00</th>\n",
       "      <td>2016-05-27 17:30:00</td>\n",
       "      <td>90</td>\n",
       "      <td>0</td>\n",
       "      <td>25.500000</td>\n",
       "      <td>46.500000</td>\n",
       "      <td>25.754000</td>\n",
       "      <td>42.080000</td>\n",
       "      <td>27.133333</td>\n",
       "      <td>41.223333</td>\n",
       "      <td>24.700000</td>\n",
       "      <td>...</td>\n",
       "      <td>24.7000</td>\n",
       "      <td>49.790000</td>\n",
       "      <td>23.200000</td>\n",
       "      <td>46.7900</td>\n",
       "      <td>22.600000</td>\n",
       "      <td>755.2</td>\n",
       "      <td>56.000000</td>\n",
       "      <td>3.500000</td>\n",
       "      <td>24.500000</td>\n",
       "      <td>13.300000</td>\n",
       "    </tr>\n",
       "    <tr>\n",
       "      <th>2016-05-27 17:40:00</th>\n",
       "      <td>2016-05-27 17:40:00</td>\n",
       "      <td>270</td>\n",
       "      <td>10</td>\n",
       "      <td>25.500000</td>\n",
       "      <td>46.596667</td>\n",
       "      <td>25.628571</td>\n",
       "      <td>42.768571</td>\n",
       "      <td>27.050000</td>\n",
       "      <td>41.690000</td>\n",
       "      <td>24.700000</td>\n",
       "      <td>...</td>\n",
       "      <td>24.7000</td>\n",
       "      <td>49.660000</td>\n",
       "      <td>23.200000</td>\n",
       "      <td>46.7900</td>\n",
       "      <td>22.466667</td>\n",
       "      <td>755.2</td>\n",
       "      <td>56.333333</td>\n",
       "      <td>3.666667</td>\n",
       "      <td>25.333333</td>\n",
       "      <td>13.266667</td>\n",
       "    </tr>\n",
       "    <tr>\n",
       "      <th>2016-05-27 17:50:00</th>\n",
       "      <td>2016-05-27 17:50:00</td>\n",
       "      <td>420</td>\n",
       "      <td>10</td>\n",
       "      <td>25.500000</td>\n",
       "      <td>46.990000</td>\n",
       "      <td>25.414000</td>\n",
       "      <td>43.036000</td>\n",
       "      <td>26.890000</td>\n",
       "      <td>41.290000</td>\n",
       "      <td>24.700000</td>\n",
       "      <td>...</td>\n",
       "      <td>24.6625</td>\n",
       "      <td>49.518750</td>\n",
       "      <td>23.200000</td>\n",
       "      <td>46.8175</td>\n",
       "      <td>22.333333</td>\n",
       "      <td>755.2</td>\n",
       "      <td>56.666667</td>\n",
       "      <td>3.833333</td>\n",
       "      <td>26.166667</td>\n",
       "      <td>13.233333</td>\n",
       "    </tr>\n",
       "    <tr>\n",
       "      <th>2016-05-27 18:00:00</th>\n",
       "      <td>2016-05-27 18:00:00</td>\n",
       "      <td>430</td>\n",
       "      <td>10</td>\n",
       "      <td>25.500000</td>\n",
       "      <td>46.600000</td>\n",
       "      <td>25.264286</td>\n",
       "      <td>42.971429</td>\n",
       "      <td>26.823333</td>\n",
       "      <td>41.156667</td>\n",
       "      <td>24.700000</td>\n",
       "      <td>...</td>\n",
       "      <td>24.7360</td>\n",
       "      <td>49.736000</td>\n",
       "      <td>23.200000</td>\n",
       "      <td>46.8450</td>\n",
       "      <td>22.200000</td>\n",
       "      <td>755.2</td>\n",
       "      <td>57.000000</td>\n",
       "      <td>4.000000</td>\n",
       "      <td>27.000000</td>\n",
       "      <td>13.200000</td>\n",
       "    </tr>\n",
       "  </tbody>\n",
       "</table>\n",
       "<p>19735 rows × 27 columns</p>\n",
       "</div>"
      ],
      "text/plain": [
       "                                    date  Appliances  lights         T1  \\\n",
       "date                                                                      \n",
       "2016-01-11 17:00:00  2016-01-11 17:00:00          60      30  19.890000   \n",
       "2016-01-11 17:10:00  2016-01-11 17:10:00          60      30  19.890000   \n",
       "2016-01-11 17:20:00  2016-01-11 17:20:00          50      30  19.890000   \n",
       "2016-01-11 17:30:00  2016-01-11 17:30:00          50      40  19.890000   \n",
       "2016-01-11 17:40:00  2016-01-11 17:40:00          60      40  19.890000   \n",
       "...                                  ...         ...     ...        ...   \n",
       "2016-05-27 17:20:00  2016-05-27 17:20:00         100       0  25.566667   \n",
       "2016-05-27 17:30:00  2016-05-27 17:30:00          90       0  25.500000   \n",
       "2016-05-27 17:40:00  2016-05-27 17:40:00         270      10  25.500000   \n",
       "2016-05-27 17:50:00  2016-05-27 17:50:00         420      10  25.500000   \n",
       "2016-05-27 18:00:00  2016-05-27 18:00:00         430      10  25.500000   \n",
       "\n",
       "                          RH_1         T2       RH_2         T3       RH_3  \\\n",
       "date                                                                         \n",
       "2016-01-11 17:00:00  47.596667  19.200000  44.790000  19.790000  44.730000   \n",
       "2016-01-11 17:10:00  46.693333  19.200000  44.722500  19.790000  44.790000   \n",
       "2016-01-11 17:20:00  46.300000  19.200000  44.626667  19.790000  44.933333   \n",
       "2016-01-11 17:30:00  46.066667  19.200000  44.590000  19.790000  45.000000   \n",
       "2016-01-11 17:40:00  46.333333  19.200000  44.530000  19.790000  45.000000   \n",
       "...                        ...        ...        ...        ...        ...   \n",
       "2016-05-27 17:20:00  46.560000  25.890000  42.025714  27.200000  41.163333   \n",
       "2016-05-27 17:30:00  46.500000  25.754000  42.080000  27.133333  41.223333   \n",
       "2016-05-27 17:40:00  46.596667  25.628571  42.768571  27.050000  41.690000   \n",
       "2016-05-27 17:50:00  46.990000  25.414000  43.036000  26.890000  41.290000   \n",
       "2016-05-27 18:00:00  46.600000  25.264286  42.971429  26.823333  41.156667   \n",
       "\n",
       "                            T4  ...       T8       RH_8         T9     RH_9  \\\n",
       "date                            ...                                           \n",
       "2016-01-11 17:00:00  19.000000  ...  18.2000  48.900000  17.033333  45.5300   \n",
       "2016-01-11 17:10:00  19.000000  ...  18.2000  48.863333  17.066667  45.5600   \n",
       "2016-01-11 17:20:00  18.926667  ...  18.2000  48.730000  17.000000  45.5000   \n",
       "2016-01-11 17:30:00  18.890000  ...  18.1000  48.590000  17.000000  45.4000   \n",
       "2016-01-11 17:40:00  18.890000  ...  18.1000  48.590000  17.000000  45.4000   \n",
       "...                        ...  ...      ...        ...        ...      ...   \n",
       "2016-05-27 17:20:00  24.700000  ...  24.7000  50.074000  23.200000  46.7900   \n",
       "2016-05-27 17:30:00  24.700000  ...  24.7000  49.790000  23.200000  46.7900   \n",
       "2016-05-27 17:40:00  24.700000  ...  24.7000  49.660000  23.200000  46.7900   \n",
       "2016-05-27 17:50:00  24.700000  ...  24.6625  49.518750  23.200000  46.8175   \n",
       "2016-05-27 18:00:00  24.700000  ...  24.7360  49.736000  23.200000  46.8450   \n",
       "\n",
       "                         T_out  Press_mm_hg     RH_out  Windspeed  Visibility  \\\n",
       "date                                                                            \n",
       "2016-01-11 17:00:00   6.600000        733.5  92.000000   7.000000   63.000000   \n",
       "2016-01-11 17:10:00   6.483333        733.6  92.000000   6.666667   59.166667   \n",
       "2016-01-11 17:20:00   6.366667        733.7  92.000000   6.333333   55.333333   \n",
       "2016-01-11 17:30:00   6.250000        733.8  92.000000   6.000000   51.500000   \n",
       "2016-01-11 17:40:00   6.133333        733.9  92.000000   5.666667   47.666667   \n",
       "...                        ...          ...        ...        ...         ...   \n",
       "2016-05-27 17:20:00  22.733333        755.2  55.666667   3.333333   23.666667   \n",
       "2016-05-27 17:30:00  22.600000        755.2  56.000000   3.500000   24.500000   \n",
       "2016-05-27 17:40:00  22.466667        755.2  56.333333   3.666667   25.333333   \n",
       "2016-05-27 17:50:00  22.333333        755.2  56.666667   3.833333   26.166667   \n",
       "2016-05-27 18:00:00  22.200000        755.2  57.000000   4.000000   27.000000   \n",
       "\n",
       "                     Tdewpoint  \n",
       "date                            \n",
       "2016-01-11 17:00:00   5.300000  \n",
       "2016-01-11 17:10:00   5.200000  \n",
       "2016-01-11 17:20:00   5.100000  \n",
       "2016-01-11 17:30:00   5.000000  \n",
       "2016-01-11 17:40:00   4.900000  \n",
       "...                        ...  \n",
       "2016-05-27 17:20:00  13.333333  \n",
       "2016-05-27 17:30:00  13.300000  \n",
       "2016-05-27 17:40:00  13.266667  \n",
       "2016-05-27 17:50:00  13.233333  \n",
       "2016-05-27 18:00:00  13.200000  \n",
       "\n",
       "[19735 rows x 27 columns]"
      ]
     },
     "execution_count": 2,
     "metadata": {},
     "output_type": "execute_result"
    }
   ],
   "source": [
    "df = pd.read_csv('/home/hugo/projetos-doutorado/Appliance-Energy-Prediction/data/energydata_complete.csv')\n",
    "#df.pop('date')\n",
    "df.pop('rv1')\n",
    "df.pop('rv2')\n",
    "df.index = df.date\n",
    "df.index.freq = \"QS-OCT\"\n",
    "df"
   ]
  },
  {
   "cell_type": "code",
   "execution_count": 3,
   "id": "9ca14fe9-544f-418b-ba92-c9365a4506c3",
   "metadata": {},
   "outputs": [],
   "source": [
    "train_percentage = round(0.75*len(df))\n",
    "train = df[0:train_percentage]\n",
    "test = df[train_percentage:len(df)]"
   ]
  },
  {
   "cell_type": "code",
   "execution_count": 4,
   "id": "invalid-heart",
   "metadata": {},
   "outputs": [],
   "source": [
    "# Variables\n",
    "endog=train['Appliances']\n",
    "exog=train.loc[:,'Appliances':'Tdewpoint']"
   ]
  },
  {
   "cell_type": "code",
   "execution_count": 5,
   "id": "maritime-ticket",
   "metadata": {},
   "outputs": [
    {
     "name": "stderr",
     "output_type": "stream",
     "text": [
      "/home/hugo/anaconda3/lib/python3.8/site-packages/statsmodels/tsa/base/tsa_model.py:524: ValueWarning: No frequency information was provided, so inferred frequency 10T will be used.\n",
      "  warnings.warn('No frequency information was'\n",
      "/home/hugo/anaconda3/lib/python3.8/site-packages/statsmodels/tsa/base/tsa_model.py:524: ValueWarning: No frequency information was provided, so inferred frequency 10T will be used.\n",
      "  warnings.warn('No frequency information was'\n",
      "/home/hugo/anaconda3/lib/python3.8/site-packages/statsmodels/base/model.py:566: ConvergenceWarning: Maximum Likelihood optimization failed to converge. Check mle_retvals\n",
      "  warnings.warn(\"Maximum Likelihood optimization failed to \"\n"
     ]
    },
    {
     "name": "stdout",
     "output_type": "stream",
     "text": [
      "                               SARIMAX Results                                \n",
      "==============================================================================\n",
      "Dep. Variable:             Appliances   No. Observations:                14801\n",
      "Model:               SARIMAX(1, 0, 1)   Log Likelihood              156797.607\n",
      "Date:                Mon, 07 Jun 2021   AIC                        -313537.214\n",
      "Time:                        22:20:55   BIC                        -313316.743\n",
      "Sample:                    01-11-2016   HQIC                       -313464.017\n",
      "                         - 04-23-2016                                         \n",
      "Covariance Type:                  opg                                         \n",
      "===============================================================================\n",
      "                  coef    std err          z      P>|z|      [0.025      0.975]\n",
      "-------------------------------------------------------------------------------\n",
      "Appliances      1.0000   2.29e-10   4.36e+09      0.000       1.000       1.000\n",
      "lights      -1.334e-15   6.81e-12     -0.000      1.000   -1.34e-11    1.34e-11\n",
      "T1           1.286e-15   2.83e-12      0.000      1.000   -5.54e-12    5.54e-12\n",
      "RH_1          9.31e-15   7.35e-12      0.001      0.999   -1.44e-11    1.44e-11\n",
      "T2          -6.403e-15    2.7e-12     -0.002      0.998   -5.29e-12    5.28e-12\n",
      "RH_2         -3.16e-15   6.52e-12     -0.000      1.000   -1.28e-11    1.28e-11\n",
      "T3           6.438e-16   2.77e-12      0.000      1.000   -5.43e-12    5.43e-12\n",
      "RH_3         1.218e-15   6.35e-12      0.000      1.000   -1.24e-11    1.24e-11\n",
      "T4          -1.038e-14   2.64e-12     -0.004      0.997   -5.18e-12    5.16e-12\n",
      "RH_4         1.388e-15   6.63e-12      0.000      1.000    -1.3e-11     1.3e-11\n",
      "T5          -2.946e-15   2.44e-12     -0.001      0.999   -4.78e-12    4.78e-12\n",
      "RH_5         2.275e-16    8.1e-12   2.81e-05      1.000   -1.59e-11    1.59e-11\n",
      "T6          -5.712e-15    7.9e-13     -0.007      0.994   -1.55e-12    1.54e-12\n",
      "RH_6         -7.07e-16   1.31e-11   -5.4e-05      1.000   -2.56e-11    2.56e-11\n",
      "T7          -9.869e-15   2.43e-12     -0.004      0.997   -4.77e-12    4.75e-12\n",
      "RH_7         9.817e-16   6.05e-12      0.000      1.000   -1.18e-11    1.19e-11\n",
      "T8          -6.565e-15   2.58e-12     -0.003      0.998   -5.07e-12    5.06e-12\n",
      "RH_8        -1.898e-15   7.11e-12     -0.000      1.000   -1.39e-11    1.39e-11\n",
      "T9            1.23e-14   2.45e-12      0.005      0.996   -4.78e-12    4.81e-12\n",
      "RH_9        -1.562e-15   6.46e-12     -0.000      1.000   -1.27e-11    1.27e-11\n",
      "T_out        5.892e-15    7.5e-13      0.008      0.994   -1.46e-12    1.48e-12\n",
      "Press_mm_hg -1.946e-15   1.05e-10  -1.85e-05      1.000   -2.06e-10    2.06e-10\n",
      "RH_out        4.77e-15   1.53e-11      0.000      1.000   -2.99e-11    2.99e-11\n",
      "Windspeed   -3.854e-16   8.56e-13     -0.000      1.000   -1.68e-12    1.68e-12\n",
      "Visibility  -2.652e-16   8.25e-12  -3.21e-05      1.000   -1.62e-11    1.62e-11\n",
      "Tdewpoint    8.025e-15   9.86e-13      0.008      0.994   -1.92e-12    1.94e-12\n",
      "ar.L1           0.9999      0.000   5481.426      0.000       1.000       1.000\n",
      "ma.L1          -0.3013   4.76e-08  -6.33e+06      0.000      -0.301      -0.301\n",
      "sigma2           1e-10   1.63e-11      6.139      0.000    6.81e-11    1.32e-10\n",
      "===================================================================================\n",
      "Ljung-Box (L1) (Q):                 206.80   Jarque-Bera (JB):            163552.29\n",
      "Prob(Q):                              0.00   Prob(JB):                         0.00\n",
      "Heteroskedasticity (H):               0.79   Skew:                            -0.83\n",
      "Prob(H) (two-sided):                  0.00   Kurtosis:                        19.20\n",
      "===================================================================================\n",
      "\n",
      "Warnings:\n",
      "[1] Covariance matrix calculated using the outer product of gradients (complex-step).\n",
      "[2] Covariance matrix is singular or near-singular, with condition number 3.12e+33. Standard errors may be unstable.\n"
     ]
    }
   ],
   "source": [
    "# Fit the model\n",
    "mod = sm.tsa.statespace.SARIMAX(endog, exog, order=(1,0,1))\n",
    "res = mod.fit(disp=False)\n",
    "print(res.summary())"
   ]
  },
  {
   "cell_type": "code",
   "execution_count": 6,
   "id": "copyrighted-morgan",
   "metadata": {},
   "outputs": [],
   "source": [
    "# In-sample one-step-ahead predictions\n",
    "predict = res.get_prediction()\n",
    "predict_ci = predict.conf_int()"
   ]
  },
  {
   "cell_type": "code",
   "execution_count": 7,
   "id": "organizational-probability",
   "metadata": {},
   "outputs": [
    {
     "data": {
      "text/html": [
       "<div>\n",
       "<style scoped>\n",
       "    .dataframe tbody tr th:only-of-type {\n",
       "        vertical-align: middle;\n",
       "    }\n",
       "\n",
       "    .dataframe tbody tr th {\n",
       "        vertical-align: top;\n",
       "    }\n",
       "\n",
       "    .dataframe thead th {\n",
       "        text-align: right;\n",
       "    }\n",
       "</style>\n",
       "<table border=\"1\" class=\"dataframe\">\n",
       "  <thead>\n",
       "    <tr style=\"text-align: right;\">\n",
       "      <th></th>\n",
       "      <th>lower Appliances</th>\n",
       "      <th>upper Appliances</th>\n",
       "    </tr>\n",
       "  </thead>\n",
       "  <tbody>\n",
       "    <tr>\n",
       "      <th>2016-01-11 17:00:00</th>\n",
       "      <td>59.998986</td>\n",
       "      <td>60.001014</td>\n",
       "    </tr>\n",
       "    <tr>\n",
       "      <th>2016-01-11 17:10:00</th>\n",
       "      <td>59.999980</td>\n",
       "      <td>60.000020</td>\n",
       "    </tr>\n",
       "    <tr>\n",
       "      <th>2016-01-11 17:20:00</th>\n",
       "      <td>49.999980</td>\n",
       "      <td>50.000020</td>\n",
       "    </tr>\n",
       "    <tr>\n",
       "      <th>2016-01-11 17:30:00</th>\n",
       "      <td>49.999980</td>\n",
       "      <td>50.000020</td>\n",
       "    </tr>\n",
       "    <tr>\n",
       "      <th>2016-01-11 17:40:00</th>\n",
       "      <td>59.999980</td>\n",
       "      <td>60.000020</td>\n",
       "    </tr>\n",
       "    <tr>\n",
       "      <th>...</th>\n",
       "      <td>...</td>\n",
       "      <td>...</td>\n",
       "    </tr>\n",
       "    <tr>\n",
       "      <th>2016-04-23 11:00:00</th>\n",
       "      <td>369.999980</td>\n",
       "      <td>370.000020</td>\n",
       "    </tr>\n",
       "    <tr>\n",
       "      <th>2016-04-23 11:10:00</th>\n",
       "      <td>399.999980</td>\n",
       "      <td>400.000020</td>\n",
       "    </tr>\n",
       "    <tr>\n",
       "      <th>2016-04-23 11:20:00</th>\n",
       "      <td>299.999980</td>\n",
       "      <td>300.000020</td>\n",
       "    </tr>\n",
       "    <tr>\n",
       "      <th>2016-04-23 11:30:00</th>\n",
       "      <td>299.999980</td>\n",
       "      <td>300.000020</td>\n",
       "    </tr>\n",
       "    <tr>\n",
       "      <th>2016-04-23 11:40:00</th>\n",
       "      <td>279.999980</td>\n",
       "      <td>280.000020</td>\n",
       "    </tr>\n",
       "  </tbody>\n",
       "</table>\n",
       "<p>14801 rows × 2 columns</p>\n",
       "</div>"
      ],
      "text/plain": [
       "                     lower Appliances  upper Appliances\n",
       "2016-01-11 17:00:00         59.998986         60.001014\n",
       "2016-01-11 17:10:00         59.999980         60.000020\n",
       "2016-01-11 17:20:00         49.999980         50.000020\n",
       "2016-01-11 17:30:00         49.999980         50.000020\n",
       "2016-01-11 17:40:00         59.999980         60.000020\n",
       "...                               ...               ...\n",
       "2016-04-23 11:00:00        369.999980        370.000020\n",
       "2016-04-23 11:10:00        399.999980        400.000020\n",
       "2016-04-23 11:20:00        299.999980        300.000020\n",
       "2016-04-23 11:30:00        299.999980        300.000020\n",
       "2016-04-23 11:40:00        279.999980        280.000020\n",
       "\n",
       "[14801 rows x 2 columns]"
      ]
     },
     "execution_count": 7,
     "metadata": {},
     "output_type": "execute_result"
    }
   ],
   "source": [
    "predict_ci"
   ]
  },
  {
   "cell_type": "code",
   "execution_count": 8,
   "id": "entire-works",
   "metadata": {},
   "outputs": [
    {
     "data": {
      "image/png": "[encoded data removed]",
      "text/plain": [
       "<Figure size 1080x216 with 1 Axes>"
      ]
     },
     "metadata": {
      "needs_background": "light"
     },
     "output_type": "display_data"
    }
   ],
   "source": [
    "fig, ax = plt.subplots(nrows=1, ncols=1, figsize=[15, 3])\n",
    "ax.plot(train['Appliances'].values[1000:1100], label='Original')\n",
    "ax.plot(predict_ci['upper Appliances'].values[1000:1100], label='Forecast')\n",
    "handles, labels = ax.get_legend_handles_labels()\n",
    "lgd = ax.legend(handles, labels, loc=2, bbox_to_anchor=(1, 1))\n",
    "plt.show()"
   ]
  },
  {
   "cell_type": "code",
   "execution_count": 9,
   "id": "2bc07592-4520-428f-9f06-a4d8b22c5173",
   "metadata": {},
   "outputs": [
    {
     "name": "stderr",
     "output_type": "stream",
     "text": [
      "/home/hugo/anaconda3/lib/python3.8/site-packages/statsmodels/tsa/base/tsa_model.py:524: ValueWarning: No frequency information was provided, so inferred frequency 10T will be used.\n",
      "  warnings.warn('No frequency information was'\n",
      "/home/hugo/anaconda3/lib/python3.8/site-packages/statsmodels/tsa/base/tsa_model.py:524: ValueWarning: No frequency information was provided, so inferred frequency 10T will be used.\n",
      "  warnings.warn('No frequency information was'\n"
     ]
    }
   ],
   "source": [
    "# df['passengers'],order=(1, 0, 1),\n",
    "#               seasonal_order=(2, 1, 0, 12),\n",
    "#               enforce_stationarity=False,\n",
    "#               enforce_invertibility=False)\n",
    "\n",
    "#model=sm.tsa.SARIMAX(endog=train['Appliances'],exog=train.loc[:,'Appliances':'Tdewpoint'],order=[3,1,1])\n",
    "model=sm.tsa.SARIMAX(endog=train['Appliances'],exog=train.loc[:,'Appliances':'Tdewpoint'],\n",
    "        order=(1, 0, 1),\n",
    "        seasonal_order=(2, 1, 0, 12),\n",
    "        enforce_stationarity=False,\n",
    "        enforce_invertibility=False)"
   ]
  },
  {
   "cell_type": "code",
   "execution_count": 10,
   "id": "a2852f66-f70a-4fd9-ad87-21b065a831e0",
   "metadata": {},
   "outputs": [
    {
     "name": "stderr",
     "output_type": "stream",
     "text": [
      "/home/hugo/anaconda3/lib/python3.8/site-packages/statsmodels/base/model.py:566: ConvergenceWarning: Maximum Likelihood optimization failed to converge. Check mle_retvals\n",
      "  warnings.warn(\"Maximum Likelihood optimization failed to \"\n"
     ]
    }
   ],
   "source": [
    "sarimax = model.fit()"
   ]
  },
  {
   "cell_type": "code",
   "execution_count": 11,
   "id": "a0a280d4-a75d-4329-bd42-085bd8d49be3",
   "metadata": {},
   "outputs": [
    {
     "data": {
      "text/html": [
       "<table class=\"simpletable\">\n",
       "<caption>SARIMAX Results</caption>\n",
       "<tr>\n",
       "  <th>Dep. Variable:</th>             <td>Appliances</td>            <th>  No. Observations:  </th>    <td>14801</td>   \n",
       "</tr>\n",
       "<tr>\n",
       "  <th>Model:</th>           <td>SARIMAX(1, 0, 1)x(2, 1, [], 12)</td> <th>  Log Likelihood     </th> <td>156409.521</td> \n",
       "</tr>\n",
       "<tr>\n",
       "  <th>Date:</th>                   <td>Tue, 08 Jun 2021</td>         <th>  AIC                </th> <td>-312757.042</td>\n",
       "</tr>\n",
       "<tr>\n",
       "  <th>Time:</th>                       <td>00:17:18</td>             <th>  BIC                </th> <td>-312521.443</td>\n",
       "</tr>\n",
       "<tr>\n",
       "  <th>Sample:</th>                    <td>01-11-2016</td>            <th>  HQIC               </th> <td>-312678.813</td>\n",
       "</tr>\n",
       "<tr>\n",
       "  <th></th>                          <td>- 04-23-2016</td>           <th>                     </th>      <td> </td>     \n",
       "</tr>\n",
       "<tr>\n",
       "  <th>Covariance Type:</th>               <td>opg</td>               <th>                     </th>      <td> </td>     \n",
       "</tr>\n",
       "</table>\n",
       "<table class=\"simpletable\">\n",
       "<tr>\n",
       "       <td></td>          <th>coef</th>     <th>std err</th>      <th>z</th>      <th>P>|z|</th>  <th>[0.025</th>    <th>0.975]</th>  \n",
       "</tr>\n",
       "<tr>\n",
       "  <th>Appliances</th>  <td>    1.0000</td> <td> 1.69e-21</td> <td> 5.91e+20</td> <td> 0.000</td> <td>    1.000</td> <td>    1.000</td>\n",
       "</tr>\n",
       "<tr>\n",
       "  <th>lights</th>      <td>-2.864e-16</td> <td>    6e-24</td> <td>-4.77e+07</td> <td> 0.000</td> <td>-2.86e-16</td> <td>-2.86e-16</td>\n",
       "</tr>\n",
       "<tr>\n",
       "  <th>T1</th>          <td>  7.28e-15</td> <td> 1.05e-25</td> <td>  6.9e+10</td> <td> 0.000</td> <td> 7.28e-15</td> <td> 7.28e-15</td>\n",
       "</tr>\n",
       "<tr>\n",
       "  <th>RH_1</th>        <td>-5.384e-16</td> <td> 8.37e-25</td> <td>-6.43e+08</td> <td> 0.000</td> <td>-5.38e-16</td> <td>-5.38e-16</td>\n",
       "</tr>\n",
       "<tr>\n",
       "  <th>T2</th>          <td> 1.819e-15</td> <td> 7.69e-25</td> <td> 2.37e+09</td> <td> 0.000</td> <td> 1.82e-15</td> <td> 1.82e-15</td>\n",
       "</tr>\n",
       "<tr>\n",
       "  <th>RH_2</th>        <td> 1.505e-15</td> <td>  1.6e-24</td> <td> 9.44e+08</td> <td> 0.000</td> <td> 1.51e-15</td> <td> 1.51e-15</td>\n",
       "</tr>\n",
       "<tr>\n",
       "  <th>T3</th>          <td> 5.014e-15</td> <td> 8.14e-26</td> <td> 6.16e+10</td> <td> 0.000</td> <td> 5.01e-15</td> <td> 5.01e-15</td>\n",
       "</tr>\n",
       "<tr>\n",
       "  <th>RH_3</th>        <td> 1.667e-15</td> <td> 5.92e-26</td> <td> 2.81e+10</td> <td> 0.000</td> <td> 1.67e-15</td> <td> 1.67e-15</td>\n",
       "</tr>\n",
       "<tr>\n",
       "  <th>T4</th>          <td>-1.054e-15</td> <td> 1.58e-25</td> <td>-6.69e+09</td> <td> 0.000</td> <td>-1.05e-15</td> <td>-1.05e-15</td>\n",
       "</tr>\n",
       "<tr>\n",
       "  <th>RH_4</th>        <td>  8.97e-16</td> <td> 1.14e-25</td> <td> 7.87e+09</td> <td> 0.000</td> <td> 8.97e-16</td> <td> 8.97e-16</td>\n",
       "</tr>\n",
       "<tr>\n",
       "  <th>T5</th>          <td>-1.427e-15</td> <td> 4.95e-26</td> <td>-2.88e+10</td> <td> 0.000</td> <td>-1.43e-15</td> <td>-1.43e-15</td>\n",
       "</tr>\n",
       "<tr>\n",
       "  <th>RH_5</th>        <td>-2.156e-16</td> <td> 1.72e-24</td> <td>-1.25e+08</td> <td> 0.000</td> <td>-2.16e-16</td> <td>-2.16e-16</td>\n",
       "</tr>\n",
       "<tr>\n",
       "  <th>T6</th>          <td> 2.274e-15</td> <td> 2.94e-24</td> <td> 7.73e+08</td> <td> 0.000</td> <td> 2.27e-15</td> <td> 2.27e-15</td>\n",
       "</tr>\n",
       "<tr>\n",
       "  <th>RH_6</th>        <td>-6.776e-17</td> <td> 1.03e-23</td> <td>-6.58e+06</td> <td> 0.000</td> <td>-6.78e-17</td> <td>-6.78e-17</td>\n",
       "</tr>\n",
       "<tr>\n",
       "  <th>T7</th>          <td> 3.566e-15</td> <td> 1.99e-25</td> <td> 1.79e+10</td> <td> 0.000</td> <td> 3.57e-15</td> <td> 3.57e-15</td>\n",
       "</tr>\n",
       "<tr>\n",
       "  <th>RH_7</th>        <td>-1.282e-15</td> <td> 1.32e-24</td> <td>-9.69e+08</td> <td> 0.000</td> <td>-1.28e-15</td> <td>-1.28e-15</td>\n",
       "</tr>\n",
       "<tr>\n",
       "  <th>T8</th>          <td>-1.126e-15</td> <td> 1.75e-25</td> <td>-6.44e+09</td> <td> 0.000</td> <td>-1.13e-15</td> <td>-1.13e-15</td>\n",
       "</tr>\n",
       "<tr>\n",
       "  <th>RH_8</th>        <td> 8.283e-16</td> <td>  2.1e-24</td> <td> 3.94e+08</td> <td> 0.000</td> <td> 8.28e-16</td> <td> 8.28e-16</td>\n",
       "</tr>\n",
       "<tr>\n",
       "  <th>T9</th>          <td>  2.05e-15</td> <td> 5.06e-26</td> <td> 4.05e+10</td> <td> 0.000</td> <td> 2.05e-15</td> <td> 2.05e-15</td>\n",
       "</tr>\n",
       "<tr>\n",
       "  <th>RH_9</th>        <td>-3.022e-15</td> <td> 1.29e-24</td> <td>-2.35e+09</td> <td> 0.000</td> <td>-3.02e-15</td> <td>-3.02e-15</td>\n",
       "</tr>\n",
       "<tr>\n",
       "  <th>T_out</th>       <td>-2.398e-15</td> <td> 2.55e-24</td> <td>-9.42e+08</td> <td> 0.000</td> <td> -2.4e-15</td> <td> -2.4e-15</td>\n",
       "</tr>\n",
       "<tr>\n",
       "  <th>Press_mm_hg</th> <td>-5.446e-16</td> <td> 1.98e-25</td> <td>-2.75e+09</td> <td> 0.000</td> <td>-5.45e-16</td> <td>-5.45e-16</td>\n",
       "</tr>\n",
       "<tr>\n",
       "  <th>RH_out</th>      <td>-3.088e-15</td> <td> 1.08e-23</td> <td>-2.87e+08</td> <td> 0.000</td> <td>-3.09e-15</td> <td>-3.09e-15</td>\n",
       "</tr>\n",
       "<tr>\n",
       "  <th>Windspeed</th>   <td>-3.368e-16</td> <td> 8.02e-25</td> <td> -4.2e+08</td> <td> 0.000</td> <td>-3.37e-16</td> <td>-3.37e-16</td>\n",
       "</tr>\n",
       "<tr>\n",
       "  <th>Visibility</th>  <td> 2.554e-17</td> <td> 3.99e-25</td> <td> 6.41e+07</td> <td> 0.000</td> <td> 2.55e-17</td> <td> 2.55e-17</td>\n",
       "</tr>\n",
       "<tr>\n",
       "  <th>Tdewpoint</th>   <td>   1.7e-14</td> <td> 4.47e-25</td> <td> 3.81e+10</td> <td> 0.000</td> <td>  1.7e-14</td> <td>  1.7e-14</td>\n",
       "</tr>\n",
       "<tr>\n",
       "  <th>ar.L1</th>       <td>    0.5723</td> <td>  7.3e-25</td> <td> 7.84e+23</td> <td> 0.000</td> <td>    0.572</td> <td>    0.572</td>\n",
       "</tr>\n",
       "<tr>\n",
       "  <th>ma.L1</th>       <td>    0.1848</td> <td> 6.34e-25</td> <td> 2.91e+23</td> <td> 0.000</td> <td>    0.185</td> <td>    0.185</td>\n",
       "</tr>\n",
       "<tr>\n",
       "  <th>ar.S.L12</th>    <td>   -0.2700</td> <td> 1.37e-24</td> <td>-1.98e+23</td> <td> 0.000</td> <td>   -0.270</td> <td>   -0.270</td>\n",
       "</tr>\n",
       "<tr>\n",
       "  <th>ar.S.L24</th>    <td>   -0.1007</td> <td> 1.96e-24</td> <td>-5.14e+22</td> <td> 0.000</td> <td>   -0.101</td> <td>   -0.101</td>\n",
       "</tr>\n",
       "<tr>\n",
       "  <th>sigma2</th>      <td>     1e-10</td> <td> 1.63e-11</td> <td>    6.131</td> <td> 0.000</td> <td>  6.8e-11</td> <td> 1.32e-10</td>\n",
       "</tr>\n",
       "</table>\n",
       "<table class=\"simpletable\">\n",
       "<tr>\n",
       "  <th>Ljung-Box (L1) (Q):</th>     <td>132.13</td> <th>  Jarque-Bera (JB):  </th> <td>69569.26</td>\n",
       "</tr>\n",
       "<tr>\n",
       "  <th>Prob(Q):</th>                 <td>0.00</td>  <th>  Prob(JB):          </th>   <td>0.00</td>  \n",
       "</tr>\n",
       "<tr>\n",
       "  <th>Heteroskedasticity (H):</th>  <td>0.92</td>  <th>  Skew:              </th>   <td>-0.92</td> \n",
       "</tr>\n",
       "<tr>\n",
       "  <th>Prob(H) (two-sided):</th>     <td>0.00</td>  <th>  Kurtosis:          </th>   <td>13.47</td> \n",
       "</tr>\n",
       "</table><br/><br/>Warnings:<br/>[1] Covariance matrix calculated using the outer product of gradients (complex-step).<br/>[2] Covariance matrix is singular or near-singular, with condition number 4.94e+45. Standard errors may be unstable."
      ],
      "text/plain": [
       "<class 'statsmodels.iolib.summary.Summary'>\n",
       "\"\"\"\n",
       "                                      SARIMAX Results                                      \n",
       "===========================================================================================\n",
       "Dep. Variable:                          Appliances   No. Observations:                14801\n",
       "Model:             SARIMAX(1, 0, 1)x(2, 1, [], 12)   Log Likelihood              156409.521\n",
       "Date:                             Tue, 08 Jun 2021   AIC                        -312757.042\n",
       "Time:                                     00:17:18   BIC                        -312521.443\n",
       "Sample:                                 01-11-2016   HQIC                       -312678.813\n",
       "                                      - 04-23-2016                                         \n",
       "Covariance Type:                               opg                                         \n",
       "===============================================================================\n",
       "                  coef    std err          z      P>|z|      [0.025      0.975]\n",
       "-------------------------------------------------------------------------------\n",
       "Appliances      1.0000   1.69e-21   5.91e+20      0.000       1.000       1.000\n",
       "lights      -2.864e-16      6e-24  -4.77e+07      0.000   -2.86e-16   -2.86e-16\n",
       "T1            7.28e-15   1.05e-25    6.9e+10      0.000    7.28e-15    7.28e-15\n",
       "RH_1        -5.384e-16   8.37e-25  -6.43e+08      0.000   -5.38e-16   -5.38e-16\n",
       "T2           1.819e-15   7.69e-25   2.37e+09      0.000    1.82e-15    1.82e-15\n",
       "RH_2         1.505e-15    1.6e-24   9.44e+08      0.000    1.51e-15    1.51e-15\n",
       "T3           5.014e-15   8.14e-26   6.16e+10      0.000    5.01e-15    5.01e-15\n",
       "RH_3         1.667e-15   5.92e-26   2.81e+10      0.000    1.67e-15    1.67e-15\n",
       "T4          -1.054e-15   1.58e-25  -6.69e+09      0.000   -1.05e-15   -1.05e-15\n",
       "RH_4          8.97e-16   1.14e-25   7.87e+09      0.000    8.97e-16    8.97e-16\n",
       "T5          -1.427e-15   4.95e-26  -2.88e+10      0.000   -1.43e-15   -1.43e-15\n",
       "RH_5        -2.156e-16   1.72e-24  -1.25e+08      0.000   -2.16e-16   -2.16e-16\n",
       "T6           2.274e-15   2.94e-24   7.73e+08      0.000    2.27e-15    2.27e-15\n",
       "RH_6        -6.776e-17   1.03e-23  -6.58e+06      0.000   -6.78e-17   -6.78e-17\n",
       "T7           3.566e-15   1.99e-25   1.79e+10      0.000    3.57e-15    3.57e-15\n",
       "RH_7        -1.282e-15   1.32e-24  -9.69e+08      0.000   -1.28e-15   -1.28e-15\n",
       "T8          -1.126e-15   1.75e-25  -6.44e+09      0.000   -1.13e-15   -1.13e-15\n",
       "RH_8         8.283e-16    2.1e-24   3.94e+08      0.000    8.28e-16    8.28e-16\n",
       "T9            2.05e-15   5.06e-26   4.05e+10      0.000    2.05e-15    2.05e-15\n",
       "RH_9        -3.022e-15   1.29e-24  -2.35e+09      0.000   -3.02e-15   -3.02e-15\n",
       "T_out       -2.398e-15   2.55e-24  -9.42e+08      0.000    -2.4e-15    -2.4e-15\n",
       "Press_mm_hg -5.446e-16   1.98e-25  -2.75e+09      0.000   -5.45e-16   -5.45e-16\n",
       "RH_out      -3.088e-15   1.08e-23  -2.87e+08      0.000   -3.09e-15   -3.09e-15\n",
       "Windspeed   -3.368e-16   8.02e-25   -4.2e+08      0.000   -3.37e-16   -3.37e-16\n",
       "Visibility   2.554e-17   3.99e-25   6.41e+07      0.000    2.55e-17    2.55e-17\n",
       "Tdewpoint      1.7e-14   4.47e-25   3.81e+10      0.000     1.7e-14     1.7e-14\n",
       "ar.L1           0.5723    7.3e-25   7.84e+23      0.000       0.572       0.572\n",
       "ma.L1           0.1848   6.34e-25   2.91e+23      0.000       0.185       0.185\n",
       "ar.S.L12       -0.2700   1.37e-24  -1.98e+23      0.000      -0.270      -0.270\n",
       "ar.S.L24       -0.1007   1.96e-24  -5.14e+22      0.000      -0.101      -0.101\n",
       "sigma2           1e-10   1.63e-11      6.131      0.000     6.8e-11    1.32e-10\n",
       "===================================================================================\n",
       "Ljung-Box (L1) (Q):                 132.13   Jarque-Bera (JB):             69569.26\n",
       "Prob(Q):                              0.00   Prob(JB):                         0.00\n",
       "Heteroskedasticity (H):               0.92   Skew:                            -0.92\n",
       "Prob(H) (two-sided):                  0.00   Kurtosis:                        13.47\n",
       "===================================================================================\n",
       "\n",
       "Warnings:\n",
       "[1] Covariance matrix calculated using the outer product of gradients (complex-step).\n",
       "[2] Covariance matrix is singular or near-singular, with condition number 4.94e+45. Standard errors may be unstable.\n",
       "\"\"\""
      ]
     },
     "execution_count": 11,
     "metadata": {},
     "output_type": "execute_result"
    }
   ],
   "source": [
    "sarimax.summary()"
   ]
  },
  {
   "cell_type": "code",
   "execution_count": 12,
   "id": "9cc06547-ce2d-4d1c-8d45-3baea515f210",
   "metadata": {},
   "outputs": [],
   "source": [
    "start = len(train)\n",
    "end = len(train)+ len(test) -1"
   ]
  },
  {
   "cell_type": "code",
   "execution_count": 13,
   "id": "abd40f88-49a5-4033-8f60-4dc2d548bf38",
   "metadata": {},
   "outputs": [
    {
     "ename": "ValueError",
     "evalue": "Provided exogenous values are not of the appropriate shape. Required (4934, 26), got (4934, 27).",
     "output_type": "error",
     "traceback": [
      "\u001b[0;31m---------------------------------------------------------------------------\u001b[0m",
      "\u001b[0;31mValueError\u001b[0m                                Traceback (most recent call last)",
      "\u001b[0;32m~/anaconda3/lib/python3.8/site-packages/statsmodels/tsa/statespace/mlemodel.py\u001b[0m in \u001b[0;36m_validate_out_of_sample_exog\u001b[0;34m(self, exog, out_of_sample)\u001b[0m\n\u001b[1;32m   1759\u001b[0m             \u001b[0;32mtry\u001b[0m\u001b[0;34m:\u001b[0m\u001b[0;34m\u001b[0m\u001b[0;34m\u001b[0m\u001b[0m\n\u001b[0;32m-> 1760\u001b[0;31m                 \u001b[0mexog\u001b[0m \u001b[0;34m=\u001b[0m \u001b[0mexog\u001b[0m\u001b[0;34m.\u001b[0m\u001b[0mreshape\u001b[0m\u001b[0;34m(\u001b[0m\u001b[0mrequired_exog_shape\u001b[0m\u001b[0;34m)\u001b[0m\u001b[0;34m\u001b[0m\u001b[0;34m\u001b[0m\u001b[0m\n\u001b[0m\u001b[1;32m   1761\u001b[0m             \u001b[0;32mexcept\u001b[0m \u001b[0mValueError\u001b[0m\u001b[0;34m:\u001b[0m\u001b[0;34m\u001b[0m\u001b[0;34m\u001b[0m\u001b[0m\n",
      "\u001b[0;31mValueError\u001b[0m: cannot reshape array of size 133218 into shape (4934,26)",
      "\nDuring handling of the above exception, another exception occurred:\n",
      "\u001b[0;31mValueError\u001b[0m                                Traceback (most recent call last)",
      "\u001b[0;32m<ipython-input-13-0d47e2da5cee>\u001b[0m in \u001b[0;36m<module>\u001b[0;34m\u001b[0m\n\u001b[0;32m----> 1\u001b[0;31m \u001b[0mforecasts\u001b[0m \u001b[0;34m=\u001b[0m \u001b[0msarimax\u001b[0m\u001b[0;34m.\u001b[0m\u001b[0mpredict\u001b[0m\u001b[0;34m(\u001b[0m\u001b[0mstart\u001b[0m\u001b[0;34m=\u001b[0m\u001b[0mstart\u001b[0m\u001b[0;34m,\u001b[0m \u001b[0mend\u001b[0m\u001b[0;34m=\u001b[0m\u001b[0mend\u001b[0m\u001b[0;34m,\u001b[0m \u001b[0mexog\u001b[0m\u001b[0;34m=\u001b[0m\u001b[0mtest\u001b[0m\u001b[0;34m,\u001b[0m \u001b[0mtyp\u001b[0m\u001b[0;34m=\u001b[0m\u001b[0;34m'linear'\u001b[0m\u001b[0;34m)\u001b[0m\u001b[0;34m\u001b[0m\u001b[0;34m\u001b[0m\u001b[0m\n\u001b[0m",
      "\u001b[0;32m~/anaconda3/lib/python3.8/site-packages/statsmodels/base/wrapper.py\u001b[0m in \u001b[0;36mwrapper\u001b[0;34m(self, *args, **kwargs)\u001b[0m\n\u001b[1;32m    111\u001b[0m             \u001b[0mobj\u001b[0m \u001b[0;34m=\u001b[0m \u001b[0mdata\u001b[0m\u001b[0;34m.\u001b[0m\u001b[0mwrap_output\u001b[0m\u001b[0;34m(\u001b[0m\u001b[0mfunc\u001b[0m\u001b[0;34m(\u001b[0m\u001b[0mresults\u001b[0m\u001b[0;34m,\u001b[0m \u001b[0;34m*\u001b[0m\u001b[0margs\u001b[0m\u001b[0;34m,\u001b[0m \u001b[0;34m**\u001b[0m\u001b[0mkwargs\u001b[0m\u001b[0;34m)\u001b[0m\u001b[0;34m,\u001b[0m \u001b[0mhow\u001b[0m\u001b[0;34m[\u001b[0m\u001b[0;36m0\u001b[0m\u001b[0;34m]\u001b[0m\u001b[0;34m,\u001b[0m \u001b[0mhow\u001b[0m\u001b[0;34m[\u001b[0m\u001b[0;36m1\u001b[0m\u001b[0;34m:\u001b[0m\u001b[0;34m]\u001b[0m\u001b[0;34m)\u001b[0m\u001b[0;34m\u001b[0m\u001b[0;34m\u001b[0m\u001b[0m\n\u001b[1;32m    112\u001b[0m         \u001b[0;32melif\u001b[0m \u001b[0mhow\u001b[0m\u001b[0;34m:\u001b[0m\u001b[0;34m\u001b[0m\u001b[0;34m\u001b[0m\u001b[0m\n\u001b[0;32m--> 113\u001b[0;31m             \u001b[0mobj\u001b[0m \u001b[0;34m=\u001b[0m \u001b[0mdata\u001b[0m\u001b[0;34m.\u001b[0m\u001b[0mwrap_output\u001b[0m\u001b[0;34m(\u001b[0m\u001b[0mfunc\u001b[0m\u001b[0;34m(\u001b[0m\u001b[0mresults\u001b[0m\u001b[0;34m,\u001b[0m \u001b[0;34m*\u001b[0m\u001b[0margs\u001b[0m\u001b[0;34m,\u001b[0m \u001b[0;34m**\u001b[0m\u001b[0mkwargs\u001b[0m\u001b[0;34m)\u001b[0m\u001b[0;34m,\u001b[0m \u001b[0mhow\u001b[0m\u001b[0;34m)\u001b[0m\u001b[0;34m\u001b[0m\u001b[0;34m\u001b[0m\u001b[0m\n\u001b[0m\u001b[1;32m    114\u001b[0m         \u001b[0;32mreturn\u001b[0m \u001b[0mobj\u001b[0m\u001b[0;34m\u001b[0m\u001b[0;34m\u001b[0m\u001b[0m\n\u001b[1;32m    115\u001b[0m \u001b[0;34m\u001b[0m\u001b[0m\n",
      "\u001b[0;32m~/anaconda3/lib/python3.8/site-packages/statsmodels/tsa/statespace/mlemodel.py\u001b[0m in \u001b[0;36mpredict\u001b[0;34m(self, start, end, dynamic, **kwargs)\u001b[0m\n\u001b[1;32m   3346\u001b[0m         \"\"\"\n\u001b[1;32m   3347\u001b[0m         \u001b[0;31m# Perform the prediction\u001b[0m\u001b[0;34m\u001b[0m\u001b[0;34m\u001b[0m\u001b[0;34m\u001b[0m\u001b[0m\n\u001b[0;32m-> 3348\u001b[0;31m         \u001b[0mprediction_results\u001b[0m \u001b[0;34m=\u001b[0m \u001b[0mself\u001b[0m\u001b[0;34m.\u001b[0m\u001b[0mget_prediction\u001b[0m\u001b[0;34m(\u001b[0m\u001b[0mstart\u001b[0m\u001b[0;34m,\u001b[0m \u001b[0mend\u001b[0m\u001b[0;34m,\u001b[0m \u001b[0mdynamic\u001b[0m\u001b[0;34m,\u001b[0m \u001b[0;34m**\u001b[0m\u001b[0mkwargs\u001b[0m\u001b[0;34m)\u001b[0m\u001b[0;34m\u001b[0m\u001b[0;34m\u001b[0m\u001b[0m\n\u001b[0m\u001b[1;32m   3349\u001b[0m         \u001b[0;32mreturn\u001b[0m \u001b[0mprediction_results\u001b[0m\u001b[0;34m.\u001b[0m\u001b[0mpredicted_mean\u001b[0m\u001b[0;34m\u001b[0m\u001b[0;34m\u001b[0m\u001b[0m\n\u001b[1;32m   3350\u001b[0m \u001b[0;34m\u001b[0m\u001b[0m\n",
      "\u001b[0;32m~/anaconda3/lib/python3.8/site-packages/statsmodels/tsa/statespace/mlemodel.py\u001b[0m in \u001b[0;36mget_prediction\u001b[0;34m(self, start, end, dynamic, index, exog, extend_model, extend_kwargs, **kwargs)\u001b[0m\n\u001b[1;32m   3259\u001b[0m                             not self.filter_results.time_invariant)\n\u001b[1;32m   3260\u001b[0m         \u001b[0;32mif\u001b[0m \u001b[0mout_of_sample\u001b[0m \u001b[0;32mand\u001b[0m \u001b[0mextend_model\u001b[0m\u001b[0;34m:\u001b[0m\u001b[0;34m\u001b[0m\u001b[0;34m\u001b[0m\u001b[0m\n\u001b[0;32m-> 3261\u001b[0;31m             kwargs = self.model._get_extension_time_varying_matrices(\n\u001b[0m\u001b[1;32m   3262\u001b[0m                 \u001b[0mself\u001b[0m\u001b[0;34m.\u001b[0m\u001b[0mparams\u001b[0m\u001b[0;34m,\u001b[0m \u001b[0mexog\u001b[0m\u001b[0;34m,\u001b[0m \u001b[0mout_of_sample\u001b[0m\u001b[0;34m,\u001b[0m \u001b[0mextend_kwargs\u001b[0m\u001b[0;34m,\u001b[0m\u001b[0;34m\u001b[0m\u001b[0;34m\u001b[0m\u001b[0m\n\u001b[1;32m   3263\u001b[0m                 transformed=True, includes_fixed=True, **kwargs)\n",
      "\u001b[0;32m~/anaconda3/lib/python3.8/site-packages/statsmodels/tsa/statespace/sarimax.py\u001b[0m in \u001b[0;36m_get_extension_time_varying_matrices\u001b[0;34m(self, params, exog, out_of_sample, extend_kwargs, transformed, includes_fixed, **kwargs)\u001b[0m\n\u001b[1;32m   1716\u001b[0m \u001b[0;34m\u001b[0m\u001b[0m\n\u001b[1;32m   1717\u001b[0m         \u001b[0;31m# Get the appropriate exog for the extended sample\u001b[0m\u001b[0;34m\u001b[0m\u001b[0;34m\u001b[0m\u001b[0;34m\u001b[0m\u001b[0m\n\u001b[0;32m-> 1718\u001b[0;31m         \u001b[0mexog\u001b[0m \u001b[0;34m=\u001b[0m \u001b[0mself\u001b[0m\u001b[0;34m.\u001b[0m\u001b[0m_validate_out_of_sample_exog\u001b[0m\u001b[0;34m(\u001b[0m\u001b[0mexog\u001b[0m\u001b[0;34m,\u001b[0m \u001b[0mout_of_sample\u001b[0m\u001b[0;34m)\u001b[0m\u001b[0;34m\u001b[0m\u001b[0;34m\u001b[0m\u001b[0m\n\u001b[0m\u001b[1;32m   1719\u001b[0m \u001b[0;34m\u001b[0m\u001b[0m\n\u001b[1;32m   1720\u001b[0m         \u001b[0;31m# Get the tmp endog, exog\u001b[0m\u001b[0;34m\u001b[0m\u001b[0;34m\u001b[0m\u001b[0;34m\u001b[0m\u001b[0m\n",
      "\u001b[0;32m~/anaconda3/lib/python3.8/site-packages/statsmodels/tsa/statespace/mlemodel.py\u001b[0m in \u001b[0;36m_validate_out_of_sample_exog\u001b[0;34m(self, exog, out_of_sample)\u001b[0m\n\u001b[1;32m   1760\u001b[0m                 \u001b[0mexog\u001b[0m \u001b[0;34m=\u001b[0m \u001b[0mexog\u001b[0m\u001b[0;34m.\u001b[0m\u001b[0mreshape\u001b[0m\u001b[0;34m(\u001b[0m\u001b[0mrequired_exog_shape\u001b[0m\u001b[0;34m)\u001b[0m\u001b[0;34m\u001b[0m\u001b[0;34m\u001b[0m\u001b[0m\n\u001b[1;32m   1761\u001b[0m             \u001b[0;32mexcept\u001b[0m \u001b[0mValueError\u001b[0m\u001b[0;34m:\u001b[0m\u001b[0;34m\u001b[0m\u001b[0;34m\u001b[0m\u001b[0m\n\u001b[0;32m-> 1762\u001b[0;31m                 raise ValueError('Provided exogenous values are not of the'\n\u001b[0m\u001b[1;32m   1763\u001b[0m                                  \u001b[0;34m' appropriate shape. Required %s, got %s.'\u001b[0m\u001b[0;34m\u001b[0m\u001b[0;34m\u001b[0m\u001b[0m\n\u001b[1;32m   1764\u001b[0m                                  % (str(required_exog_shape),\n",
      "\u001b[0;31mValueError\u001b[0m: Provided exogenous values are not of the appropriate shape. Required (4934, 26), got (4934, 27)."
     ]
    }
   ],
   "source": [
    "forecasts = sarimax.predict(start=start, end=end, exog=test, typ='linear')"
   ]
  },
  {
   "cell_type": "code",
   "execution_count": null,
   "id": "b8a7c4f1-c614-4470-abdf-9a7963d1cebe",
   "metadata": {},
   "outputs": [],
   "source": [
    "fig, ax = plt.subplots(nrows=1, ncols=1, figsize=[15, 3])\n",
    "ax.plot(test['Appliances'].values[1000:1100], label='Original')\n",
    "ax.plot(forecasts.values[1000:1100], label='Forecast')\n",
    "handles, labels = ax.get_legend_handles_labels()\n",
    "lgd = ax.legend(handles, labels, loc=2, bbox_to_anchor=(1, 1))\n",
    "plt.show()\n",
    "\n",
    "# plt.plot(forecasts.values[1000:1100])\n",
    "# plt.plot(test['Appliances'].values[1000:1100])"
   ]
  },
  {
   "cell_type": "code",
   "execution_count": null,
   "id": "410bc49b-bc1c-4203-a777-eb8f769ac290",
   "metadata": {},
   "outputs": [],
   "source": [
    "Measures.rmse(forecasts.values, test['Appliances'].values)"
   ]
  },
  {
   "cell_type": "code",
   "execution_count": null,
   "id": "23c0bfc4-a268-425a-ac06-da8c9014c24b",
   "metadata": {},
   "outputs": [],
   "source": [
    "test"
   ]
  },
  {
   "cell_type": "code",
   "execution_count": null,
   "id": "25dccebb-5055-4202-99d5-83be513e96ac",
   "metadata": {},
   "outputs": [],
   "source": [
    "def train_arima(train, order):\n",
    "    model=sm.tsa.SARIMAX(endog=train['Appliances'],exog=train.loc[:,'Appliances':'Tdewpoint'],order=[3,1,1])\n",
    "    arima = model.fit()\n",
    "    return arima\n",
    "\n",
    "\n",
    "def predict_arima(model,start,end,test):\n",
    "    forecasts = model.predict(start=start, end=end, exog=test, typ='linear')\n",
    "    return forecasts\n",
    "    "
   ]
  },
  {
   "cell_type": "code",
   "execution_count": 20,
   "id": "105ac04e-00a2-4b82-a15e-56adf503dee2",
   "metadata": {
    "scrolled": true,
    "tags": []
   },
   "outputs": [
    {
     "name": "stdout",
     "output_type": "stream",
     "text": [
      "--------------------\n",
      "training window 0\n"
     ]
    },
    {
     "name": "stderr",
     "output_type": "stream",
     "text": [
      "/home/hugo/anaconda3/lib/python3.8/site-packages/statsmodels/base/model.py:566: ConvergenceWarning: Maximum Likelihood optimization failed to converge. Check mle_retvals\n",
      "  warnings.warn(\"Maximum Likelihood optimization failed to \"\n"
     ]
    },
    {
     "name": "stdout",
     "output_type": "stream",
     "text": [
      "[ 22:56:34] getting statistics\n",
      "--------------------\n",
      "training window 657\n"
     ]
    },
    {
     "name": "stderr",
     "output_type": "stream",
     "text": [
      "/home/hugo/anaconda3/lib/python3.8/site-packages/statsmodels/base/model.py:566: ConvergenceWarning: Maximum Likelihood optimization failed to converge. Check mle_retvals\n",
      "  warnings.warn(\"Maximum Likelihood optimization failed to \"\n"
     ]
    },
    {
     "name": "stdout",
     "output_type": "stream",
     "text": [
      "[ 22:56:36] getting statistics\n",
      "--------------------\n",
      "training window 1314\n"
     ]
    },
    {
     "name": "stderr",
     "output_type": "stream",
     "text": [
      "/home/hugo/anaconda3/lib/python3.8/site-packages/statsmodels/base/model.py:566: ConvergenceWarning: Maximum Likelihood optimization failed to converge. Check mle_retvals\n",
      "  warnings.warn(\"Maximum Likelihood optimization failed to \"\n"
     ]
    },
    {
     "name": "stdout",
     "output_type": "stream",
     "text": [
      "[ 22:56:38] getting statistics\n",
      "--------------------\n",
      "training window 1971\n"
     ]
    },
    {
     "name": "stderr",
     "output_type": "stream",
     "text": [
      "/home/hugo/anaconda3/lib/python3.8/site-packages/statsmodels/base/model.py:566: ConvergenceWarning: Maximum Likelihood optimization failed to converge. Check mle_retvals\n",
      "  warnings.warn(\"Maximum Likelihood optimization failed to \"\n"
     ]
    },
    {
     "name": "stdout",
     "output_type": "stream",
     "text": [
      "[ 22:56:41] getting statistics\n",
      "--------------------\n",
      "training window 2628\n"
     ]
    },
    {
     "name": "stderr",
     "output_type": "stream",
     "text": [
      "/home/hugo/anaconda3/lib/python3.8/site-packages/statsmodels/base/model.py:566: ConvergenceWarning: Maximum Likelihood optimization failed to converge. Check mle_retvals\n",
      "  warnings.warn(\"Maximum Likelihood optimization failed to \"\n"
     ]
    },
    {
     "name": "stdout",
     "output_type": "stream",
     "text": [
      "[ 22:56:43] getting statistics\n",
      "--------------------\n",
      "training window 3285\n"
     ]
    },
    {
     "name": "stderr",
     "output_type": "stream",
     "text": [
      "/home/hugo/anaconda3/lib/python3.8/site-packages/statsmodels/base/model.py:566: ConvergenceWarning: Maximum Likelihood optimization failed to converge. Check mle_retvals\n",
      "  warnings.warn(\"Maximum Likelihood optimization failed to \"\n"
     ]
    },
    {
     "name": "stdout",
     "output_type": "stream",
     "text": [
      "[ 22:56:45] getting statistics\n",
      "--------------------\n",
      "training window 3942\n"
     ]
    },
    {
     "name": "stderr",
     "output_type": "stream",
     "text": [
      "/home/hugo/anaconda3/lib/python3.8/site-packages/statsmodels/base/model.py:566: ConvergenceWarning: Maximum Likelihood optimization failed to converge. Check mle_retvals\n",
      "  warnings.warn(\"Maximum Likelihood optimization failed to \"\n"
     ]
    },
    {
     "name": "stdout",
     "output_type": "stream",
     "text": [
      "[ 22:56:47] getting statistics\n",
      "--------------------\n",
      "training window 4599\n"
     ]
    },
    {
     "name": "stderr",
     "output_type": "stream",
     "text": [
      "/home/hugo/anaconda3/lib/python3.8/site-packages/statsmodels/base/model.py:566: ConvergenceWarning: Maximum Likelihood optimization failed to converge. Check mle_retvals\n",
      "  warnings.warn(\"Maximum Likelihood optimization failed to \"\n"
     ]
    },
    {
     "name": "stdout",
     "output_type": "stream",
     "text": [
      "[ 22:56:49] getting statistics\n",
      "--------------------\n",
      "training window 5256\n"
     ]
    },
    {
     "name": "stderr",
     "output_type": "stream",
     "text": [
      "/home/hugo/anaconda3/lib/python3.8/site-packages/statsmodels/base/model.py:566: ConvergenceWarning: Maximum Likelihood optimization failed to converge. Check mle_retvals\n",
      "  warnings.warn(\"Maximum Likelihood optimization failed to \"\n"
     ]
    },
    {
     "name": "stdout",
     "output_type": "stream",
     "text": [
      "[ 22:56:52] getting statistics\n",
      "--------------------\n",
      "training window 5913\n"
     ]
    },
    {
     "name": "stderr",
     "output_type": "stream",
     "text": [
      "/home/hugo/anaconda3/lib/python3.8/site-packages/statsmodels/base/model.py:566: ConvergenceWarning: Maximum Likelihood optimization failed to converge. Check mle_retvals\n",
      "  warnings.warn(\"Maximum Likelihood optimization failed to \"\n"
     ]
    },
    {
     "name": "stdout",
     "output_type": "stream",
     "text": [
      "[ 22:56:54] getting statistics\n",
      "--------------------\n",
      "training window 6570\n"
     ]
    },
    {
     "name": "stderr",
     "output_type": "stream",
     "text": [
      "/home/hugo/anaconda3/lib/python3.8/site-packages/statsmodels/base/model.py:566: ConvergenceWarning: Maximum Likelihood optimization failed to converge. Check mle_retvals\n",
      "  warnings.warn(\"Maximum Likelihood optimization failed to \"\n"
     ]
    },
    {
     "name": "stdout",
     "output_type": "stream",
     "text": [
      "[ 22:56:56] getting statistics\n",
      "--------------------\n",
      "training window 7227\n"
     ]
    },
    {
     "name": "stderr",
     "output_type": "stream",
     "text": [
      "/home/hugo/anaconda3/lib/python3.8/site-packages/statsmodels/base/model.py:566: ConvergenceWarning: Maximum Likelihood optimization failed to converge. Check mle_retvals\n",
      "  warnings.warn(\"Maximum Likelihood optimization failed to \"\n"
     ]
    },
    {
     "name": "stdout",
     "output_type": "stream",
     "text": [
      "[ 22:56:58] getting statistics\n",
      "--------------------\n",
      "training window 7884\n"
     ]
    },
    {
     "name": "stderr",
     "output_type": "stream",
     "text": [
      "/home/hugo/anaconda3/lib/python3.8/site-packages/statsmodels/base/model.py:566: ConvergenceWarning: Maximum Likelihood optimization failed to converge. Check mle_retvals\n",
      "  warnings.warn(\"Maximum Likelihood optimization failed to \"\n"
     ]
    },
    {
     "name": "stdout",
     "output_type": "stream",
     "text": [
      "[ 22:57:01] getting statistics\n",
      "--------------------\n",
      "training window 8541\n"
     ]
    },
    {
     "name": "stderr",
     "output_type": "stream",
     "text": [
      "/home/hugo/anaconda3/lib/python3.8/site-packages/statsmodels/base/model.py:566: ConvergenceWarning: Maximum Likelihood optimization failed to converge. Check mle_retvals\n",
      "  warnings.warn(\"Maximum Likelihood optimization failed to \"\n"
     ]
    },
    {
     "name": "stdout",
     "output_type": "stream",
     "text": [
      "[ 22:57:04] getting statistics\n",
      "--------------------\n",
      "training window 9198\n"
     ]
    },
    {
     "name": "stderr",
     "output_type": "stream",
     "text": [
      "/home/hugo/anaconda3/lib/python3.8/site-packages/statsmodels/base/model.py:566: ConvergenceWarning: Maximum Likelihood optimization failed to converge. Check mle_retvals\n",
      "  warnings.warn(\"Maximum Likelihood optimization failed to \"\n"
     ]
    },
    {
     "name": "stdout",
     "output_type": "stream",
     "text": [
      "[ 22:57:07] getting statistics\n",
      "--------------------\n",
      "training window 9855\n"
     ]
    },
    {
     "name": "stderr",
     "output_type": "stream",
     "text": [
      "/home/hugo/anaconda3/lib/python3.8/site-packages/statsmodels/base/model.py:566: ConvergenceWarning: Maximum Likelihood optimization failed to converge. Check mle_retvals\n",
      "  warnings.warn(\"Maximum Likelihood optimization failed to \"\n"
     ]
    },
    {
     "name": "stdout",
     "output_type": "stream",
     "text": [
      "[ 22:57:10] getting statistics\n",
      "--------------------\n",
      "training window 10512\n"
     ]
    },
    {
     "name": "stderr",
     "output_type": "stream",
     "text": [
      "/home/hugo/anaconda3/lib/python3.8/site-packages/statsmodels/base/model.py:566: ConvergenceWarning: Maximum Likelihood optimization failed to converge. Check mle_retvals\n",
      "  warnings.warn(\"Maximum Likelihood optimization failed to \"\n"
     ]
    },
    {
     "name": "stdout",
     "output_type": "stream",
     "text": [
      "[ 22:57:13] getting statistics\n",
      "--------------------\n",
      "training window 11169\n"
     ]
    },
    {
     "name": "stderr",
     "output_type": "stream",
     "text": [
      "/home/hugo/anaconda3/lib/python3.8/site-packages/statsmodels/base/model.py:566: ConvergenceWarning: Maximum Likelihood optimization failed to converge. Check mle_retvals\n",
      "  warnings.warn(\"Maximum Likelihood optimization failed to \"\n"
     ]
    },
    {
     "name": "stdout",
     "output_type": "stream",
     "text": [
      "[ 22:57:15] getting statistics\n",
      "--------------------\n",
      "training window 11826\n"
     ]
    },
    {
     "name": "stderr",
     "output_type": "stream",
     "text": [
      "/home/hugo/anaconda3/lib/python3.8/site-packages/statsmodels/base/model.py:566: ConvergenceWarning: Maximum Likelihood optimization failed to converge. Check mle_retvals\n",
      "  warnings.warn(\"Maximum Likelihood optimization failed to \"\n"
     ]
    },
    {
     "name": "stdout",
     "output_type": "stream",
     "text": [
      "[ 22:57:18] getting statistics\n",
      "--------------------\n",
      "training window 12483\n"
     ]
    },
    {
     "name": "stderr",
     "output_type": "stream",
     "text": [
      "/home/hugo/anaconda3/lib/python3.8/site-packages/statsmodels/base/model.py:566: ConvergenceWarning: Maximum Likelihood optimization failed to converge. Check mle_retvals\n",
      "  warnings.warn(\"Maximum Likelihood optimization failed to \"\n"
     ]
    },
    {
     "name": "stdout",
     "output_type": "stream",
     "text": [
      "[ 22:57:20] getting statistics\n",
      "--------------------\n",
      "training window 13140\n"
     ]
    },
    {
     "name": "stderr",
     "output_type": "stream",
     "text": [
      "/home/hugo/anaconda3/lib/python3.8/site-packages/statsmodels/base/model.py:566: ConvergenceWarning: Maximum Likelihood optimization failed to converge. Check mle_retvals\n",
      "  warnings.warn(\"Maximum Likelihood optimization failed to \"\n"
     ]
    },
    {
     "name": "stdout",
     "output_type": "stream",
     "text": [
      "[ 22:57:22] getting statistics\n",
      "--------------------\n",
      "training window 13797\n"
     ]
    },
    {
     "name": "stderr",
     "output_type": "stream",
     "text": [
      "/home/hugo/anaconda3/lib/python3.8/site-packages/statsmodels/base/model.py:566: ConvergenceWarning: Maximum Likelihood optimization failed to converge. Check mle_retvals\n",
      "  warnings.warn(\"Maximum Likelihood optimization failed to \"\n"
     ]
    },
    {
     "name": "stdout",
     "output_type": "stream",
     "text": [
      "[ 22:57:25] getting statistics\n",
      "--------------------\n",
      "training window 14454\n"
     ]
    },
    {
     "name": "stderr",
     "output_type": "stream",
     "text": [
      "/home/hugo/anaconda3/lib/python3.8/site-packages/statsmodels/base/model.py:566: ConvergenceWarning: Maximum Likelihood optimization failed to converge. Check mle_retvals\n",
      "  warnings.warn(\"Maximum Likelihood optimization failed to \"\n"
     ]
    },
    {
     "name": "stdout",
     "output_type": "stream",
     "text": [
      "[ 22:57:28] getting statistics\n",
      "--------------------\n",
      "training window 15111\n"
     ]
    },
    {
     "name": "stderr",
     "output_type": "stream",
     "text": [
      "/home/hugo/anaconda3/lib/python3.8/site-packages/statsmodels/base/model.py:566: ConvergenceWarning: Maximum Likelihood optimization failed to converge. Check mle_retvals\n",
      "  warnings.warn(\"Maximum Likelihood optimization failed to \"\n"
     ]
    },
    {
     "name": "stdout",
     "output_type": "stream",
     "text": [
      "[ 22:57:31] getting statistics\n",
      "--------------------\n",
      "training window 15768\n"
     ]
    },
    {
     "name": "stderr",
     "output_type": "stream",
     "text": [
      "/home/hugo/anaconda3/lib/python3.8/site-packages/statsmodels/base/model.py:566: ConvergenceWarning: Maximum Likelihood optimization failed to converge. Check mle_retvals\n",
      "  warnings.warn(\"Maximum Likelihood optimization failed to \"\n"
     ]
    },
    {
     "name": "stdout",
     "output_type": "stream",
     "text": [
      "[ 22:57:34] getting statistics\n",
      "--------------------\n",
      "training window 16425\n"
     ]
    },
    {
     "name": "stderr",
     "output_type": "stream",
     "text": [
      "/home/hugo/anaconda3/lib/python3.8/site-packages/statsmodels/base/model.py:566: ConvergenceWarning: Maximum Likelihood optimization failed to converge. Check mle_retvals\n",
      "  warnings.warn(\"Maximum Likelihood optimization failed to \"\n"
     ]
    },
    {
     "name": "stdout",
     "output_type": "stream",
     "text": [
      "[ 22:57:36] getting statistics\n",
      "--------------------\n",
      "training window 17082\n"
     ]
    },
    {
     "name": "stderr",
     "output_type": "stream",
     "text": [
      "/home/hugo/anaconda3/lib/python3.8/site-packages/statsmodels/base/model.py:566: ConvergenceWarning: Maximum Likelihood optimization failed to converge. Check mle_retvals\n",
      "  warnings.warn(\"Maximum Likelihood optimization failed to \"\n"
     ]
    },
    {
     "name": "stdout",
     "output_type": "stream",
     "text": [
      "[ 22:57:38] getting statistics\n",
      "--------------------\n",
      "training window 17739\n"
     ]
    },
    {
     "name": "stderr",
     "output_type": "stream",
     "text": [
      "/home/hugo/anaconda3/lib/python3.8/site-packages/statsmodels/base/model.py:566: ConvergenceWarning: Maximum Likelihood optimization failed to converge. Check mle_retvals\n",
      "  warnings.warn(\"Maximum Likelihood optimization failed to \"\n"
     ]
    },
    {
     "name": "stdout",
     "output_type": "stream",
     "text": [
      "[ 22:57:40] getting statistics\n",
      "--------------------\n",
      "training window 18396\n"
     ]
    },
    {
     "name": "stderr",
     "output_type": "stream",
     "text": [
      "/home/hugo/anaconda3/lib/python3.8/site-packages/statsmodels/base/model.py:566: ConvergenceWarning: Maximum Likelihood optimization failed to converge. Check mle_retvals\n",
      "  warnings.warn(\"Maximum Likelihood optimization failed to \"\n"
     ]
    },
    {
     "name": "stdout",
     "output_type": "stream",
     "text": [
      "[ 22:57:43] getting statistics\n",
      "--------------------\n",
      "training window 19053\n",
      "[ 22:57:46] getting statistics\n"
     ]
    },
    {
     "name": "stderr",
     "output_type": "stream",
     "text": [
      "/home/hugo/anaconda3/lib/python3.8/site-packages/statsmodels/base/model.py:566: ConvergenceWarning: Maximum Likelihood optimization failed to converge. Check mle_retvals\n",
      "  warnings.warn(\"Maximum Likelihood optimization failed to \"\n"
     ]
    }
   ],
   "source": [
    "forecasts = []\n",
    "appliances = []\n",
    "result = {\n",
    "     \"window\": [],\n",
    "     \"rmse\": [],\n",
    "     \"mape\": [],\n",
    "     \"smape\": []\n",
    "}\n",
    "\n",
    "tam = len(df)\n",
    "n_windows = 30\n",
    "windows_length = math.floor(tam / n_windows)\n",
    "for ct, ttrain, ttest in Util.sliding_window(df, windows_length, 0.75, inc=1):\n",
    "    if len(ttest) > 0:\n",
    "        start = len(ttrain)\n",
    "        end = len(ttrain)+ len(ttest) -1\n",
    "        appliance = ttest['Appliances'].reset_index()\n",
    "        print('-' * 20)\n",
    "        print(f'training window {(ct)}')\n",
    "        model = train_arima(ttrain, [1,1,1])\n",
    "        forecast = predict_arima(model, start, end, ttest)\n",
    "        \n",
    "        print(\"[{0: %H:%M:%S}]\".format(datetime.datetime.now()) + f\" getting statistics\")\n",
    "        appliance.pop('index')\n",
    "        appliances = [i[0] for i in appliance.values]\n",
    "        rmse = Measures.rmse(appliances,forecast)\n",
    "        mape = Measures.mape(appliances,forecast)\n",
    "        smape = Measures.smape(appliances,forecast)\n",
    "        \n",
    "        forecasts.append(forecast)\n",
    "        appliances.append(appliances)\n",
    "        \n",
    "        result[\"rmse\"].append(rmse)\n",
    "        result[\"mape\"].append(mape)\n",
    "        result[\"smape\"].append(smape)\n",
    "        result[\"window\"].append(ct)\n",
    "\n",
    "measures = pd.DataFrame(result)\n",
    "\n"
   ]
  },
  {
   "cell_type": "code",
   "execution_count": 21,
   "id": "172e09ab-fee8-48d1-b3c0-175a6d71eff0",
   "metadata": {},
   "outputs": [
    {
     "data": {
      "text/html": [
       "<div>\n",
       "<style scoped>\n",
       "    .dataframe tbody tr th:only-of-type {\n",
       "        vertical-align: middle;\n",
       "    }\n",
       "\n",
       "    .dataframe tbody tr th {\n",
       "        vertical-align: top;\n",
       "    }\n",
       "\n",
       "    .dataframe thead th {\n",
       "        text-align: right;\n",
       "    }\n",
       "</style>\n",
       "<table border=\"1\" class=\"dataframe\">\n",
       "  <thead>\n",
       "    <tr style=\"text-align: right;\">\n",
       "      <th></th>\n",
       "      <th>window</th>\n",
       "      <th>rmse</th>\n",
       "      <th>mape</th>\n",
       "      <th>smape</th>\n",
       "    </tr>\n",
       "  </thead>\n",
       "  <tbody>\n",
       "    <tr>\n",
       "      <th>0</th>\n",
       "      <td>0</td>\n",
       "      <td>1.687548e-13</td>\n",
       "      <td>1.660851e-13</td>\n",
       "      <td>8.304253e-14</td>\n",
       "    </tr>\n",
       "    <tr>\n",
       "      <th>1</th>\n",
       "      <td>657</td>\n",
       "      <td>2.653660e-13</td>\n",
       "      <td>4.067673e-13</td>\n",
       "      <td>2.033837e-13</td>\n",
       "    </tr>\n",
       "    <tr>\n",
       "      <th>2</th>\n",
       "      <td>1314</td>\n",
       "      <td>2.196759e-13</td>\n",
       "      <td>2.859346e-13</td>\n",
       "      <td>1.429673e-13</td>\n",
       "    </tr>\n",
       "    <tr>\n",
       "      <th>3</th>\n",
       "      <td>1971</td>\n",
       "      <td>3.129045e-13</td>\n",
       "      <td>7.223426e-13</td>\n",
       "      <td>3.611713e-13</td>\n",
       "    </tr>\n",
       "    <tr>\n",
       "      <th>4</th>\n",
       "      <td>2628</td>\n",
       "      <td>4.031425e-13</td>\n",
       "      <td>4.452538e-13</td>\n",
       "      <td>2.226269e-13</td>\n",
       "    </tr>\n",
       "    <tr>\n",
       "      <th>5</th>\n",
       "      <td>3285</td>\n",
       "      <td>3.174227e-13</td>\n",
       "      <td>3.665181e-13</td>\n",
       "      <td>1.832591e-13</td>\n",
       "    </tr>\n",
       "    <tr>\n",
       "      <th>6</th>\n",
       "      <td>3942</td>\n",
       "      <td>9.112004e-13</td>\n",
       "      <td>1.142202e-12</td>\n",
       "      <td>5.711010e-13</td>\n",
       "    </tr>\n",
       "    <tr>\n",
       "      <th>7</th>\n",
       "      <td>4599</td>\n",
       "      <td>2.071771e-13</td>\n",
       "      <td>2.672968e-13</td>\n",
       "      <td>1.336484e-13</td>\n",
       "    </tr>\n",
       "    <tr>\n",
       "      <th>8</th>\n",
       "      <td>5256</td>\n",
       "      <td>3.345277e-13</td>\n",
       "      <td>5.226284e-13</td>\n",
       "      <td>2.613142e-13</td>\n",
       "    </tr>\n",
       "    <tr>\n",
       "      <th>9</th>\n",
       "      <td>5913</td>\n",
       "      <td>1.414564e-13</td>\n",
       "      <td>1.738605e-13</td>\n",
       "      <td>8.693025e-14</td>\n",
       "    </tr>\n",
       "    <tr>\n",
       "      <th>10</th>\n",
       "      <td>6570</td>\n",
       "      <td>5.832502e-13</td>\n",
       "      <td>1.091709e-12</td>\n",
       "      <td>5.458547e-13</td>\n",
       "    </tr>\n",
       "    <tr>\n",
       "      <th>11</th>\n",
       "      <td>7227</td>\n",
       "      <td>1.544845e-13</td>\n",
       "      <td>1.770188e-13</td>\n",
       "      <td>8.850940e-14</td>\n",
       "    </tr>\n",
       "    <tr>\n",
       "      <th>12</th>\n",
       "      <td>7884</td>\n",
       "      <td>2.586422e-13</td>\n",
       "      <td>4.293587e-13</td>\n",
       "      <td>2.146794e-13</td>\n",
       "    </tr>\n",
       "    <tr>\n",
       "      <th>13</th>\n",
       "      <td>8541</td>\n",
       "      <td>1.809993e-13</td>\n",
       "      <td>2.438275e-13</td>\n",
       "      <td>1.219138e-13</td>\n",
       "    </tr>\n",
       "    <tr>\n",
       "      <th>14</th>\n",
       "      <td>9198</td>\n",
       "      <td>1.189143e-13</td>\n",
       "      <td>1.659279e-13</td>\n",
       "      <td>8.296395e-14</td>\n",
       "    </tr>\n",
       "    <tr>\n",
       "      <th>15</th>\n",
       "      <td>9855</td>\n",
       "      <td>1.039272e-13</td>\n",
       "      <td>1.627575e-13</td>\n",
       "      <td>8.137876e-14</td>\n",
       "    </tr>\n",
       "    <tr>\n",
       "      <th>16</th>\n",
       "      <td>10512</td>\n",
       "      <td>3.052980e-13</td>\n",
       "      <td>2.869440e-13</td>\n",
       "      <td>1.434720e-13</td>\n",
       "    </tr>\n",
       "    <tr>\n",
       "      <th>17</th>\n",
       "      <td>11169</td>\n",
       "      <td>2.209452e-13</td>\n",
       "      <td>4.423273e-13</td>\n",
       "      <td>2.211636e-13</td>\n",
       "    </tr>\n",
       "    <tr>\n",
       "      <th>18</th>\n",
       "      <td>11826</td>\n",
       "      <td>1.629697e-13</td>\n",
       "      <td>1.578732e-13</td>\n",
       "      <td>7.893661e-14</td>\n",
       "    </tr>\n",
       "    <tr>\n",
       "      <th>19</th>\n",
       "      <td>12483</td>\n",
       "      <td>1.711378e-13</td>\n",
       "      <td>2.442581e-13</td>\n",
       "      <td>1.221290e-13</td>\n",
       "    </tr>\n",
       "    <tr>\n",
       "      <th>20</th>\n",
       "      <td>13140</td>\n",
       "      <td>4.545872e-13</td>\n",
       "      <td>5.895697e-13</td>\n",
       "      <td>2.947848e-13</td>\n",
       "    </tr>\n",
       "    <tr>\n",
       "      <th>21</th>\n",
       "      <td>13797</td>\n",
       "      <td>1.751388e-13</td>\n",
       "      <td>2.255943e-13</td>\n",
       "      <td>1.127972e-13</td>\n",
       "    </tr>\n",
       "    <tr>\n",
       "      <th>22</th>\n",
       "      <td>14454</td>\n",
       "      <td>1.007280e-13</td>\n",
       "      <td>1.230914e-13</td>\n",
       "      <td>6.154569e-14</td>\n",
       "    </tr>\n",
       "    <tr>\n",
       "      <th>23</th>\n",
       "      <td>15111</td>\n",
       "      <td>1.715855e-13</td>\n",
       "      <td>2.237117e-13</td>\n",
       "      <td>1.118558e-13</td>\n",
       "    </tr>\n",
       "    <tr>\n",
       "      <th>24</th>\n",
       "      <td>15768</td>\n",
       "      <td>3.431149e-13</td>\n",
       "      <td>4.296988e-13</td>\n",
       "      <td>2.148494e-13</td>\n",
       "    </tr>\n",
       "    <tr>\n",
       "      <th>25</th>\n",
       "      <td>16425</td>\n",
       "      <td>1.082338e-13</td>\n",
       "      <td>1.591835e-13</td>\n",
       "      <td>7.959175e-14</td>\n",
       "    </tr>\n",
       "    <tr>\n",
       "      <th>26</th>\n",
       "      <td>17082</td>\n",
       "      <td>1.676124e-13</td>\n",
       "      <td>1.504446e-13</td>\n",
       "      <td>7.522229e-14</td>\n",
       "    </tr>\n",
       "    <tr>\n",
       "      <th>27</th>\n",
       "      <td>17739</td>\n",
       "      <td>2.806466e-13</td>\n",
       "      <td>4.082839e-13</td>\n",
       "      <td>2.041420e-13</td>\n",
       "    </tr>\n",
       "    <tr>\n",
       "      <th>28</th>\n",
       "      <td>18396</td>\n",
       "      <td>2.834655e-13</td>\n",
       "      <td>2.556356e-13</td>\n",
       "      <td>1.278178e-13</td>\n",
       "    </tr>\n",
       "    <tr>\n",
       "      <th>29</th>\n",
       "      <td>19053</td>\n",
       "      <td>1.135473e-13</td>\n",
       "      <td>1.301954e-13</td>\n",
       "      <td>6.509769e-14</td>\n",
       "    </tr>\n",
       "  </tbody>\n",
       "</table>\n",
       "</div>"
      ],
      "text/plain": [
       "    window          rmse          mape         smape\n",
       "0        0  1.687548e-13  1.660851e-13  8.304253e-14\n",
       "1      657  2.653660e-13  4.067673e-13  2.033837e-13\n",
       "2     1314  2.196759e-13  2.859346e-13  1.429673e-13\n",
       "3     1971  3.129045e-13  7.223426e-13  3.611713e-13\n",
       "4     2628  4.031425e-13  4.452538e-13  2.226269e-13\n",
       "5     3285  3.174227e-13  3.665181e-13  1.832591e-13\n",
       "6     3942  9.112004e-13  1.142202e-12  5.711010e-13\n",
       "7     4599  2.071771e-13  2.672968e-13  1.336484e-13\n",
       "8     5256  3.345277e-13  5.226284e-13  2.613142e-13\n",
       "9     5913  1.414564e-13  1.738605e-13  8.693025e-14\n",
       "10    6570  5.832502e-13  1.091709e-12  5.458547e-13\n",
       "11    7227  1.544845e-13  1.770188e-13  8.850940e-14\n",
       "12    7884  2.586422e-13  4.293587e-13  2.146794e-13\n",
       "13    8541  1.809993e-13  2.438275e-13  1.219138e-13\n",
       "14    9198  1.189143e-13  1.659279e-13  8.296395e-14\n",
       "15    9855  1.039272e-13  1.627575e-13  8.137876e-14\n",
       "16   10512  3.052980e-13  2.869440e-13  1.434720e-13\n",
       "17   11169  2.209452e-13  4.423273e-13  2.211636e-13\n",
       "18   11826  1.629697e-13  1.578732e-13  7.893661e-14\n",
       "19   12483  1.711378e-13  2.442581e-13  1.221290e-13\n",
       "20   13140  4.545872e-13  5.895697e-13  2.947848e-13\n",
       "21   13797  1.751388e-13  2.255943e-13  1.127972e-13\n",
       "22   14454  1.007280e-13  1.230914e-13  6.154569e-14\n",
       "23   15111  1.715855e-13  2.237117e-13  1.118558e-13\n",
       "24   15768  3.431149e-13  4.296988e-13  2.148494e-13\n",
       "25   16425  1.082338e-13  1.591835e-13  7.959175e-14\n",
       "26   17082  1.676124e-13  1.504446e-13  7.522229e-14\n",
       "27   17739  2.806466e-13  4.082839e-13  2.041420e-13\n",
       "28   18396  2.834655e-13  2.556356e-13  1.278178e-13\n",
       "29   19053  1.135473e-13  1.301954e-13  6.509769e-14"
      ]
     },
     "execution_count": 21,
     "metadata": {},
     "output_type": "execute_result"
    }
   ],
   "source": [
    "measures"
   ]
  },
  {
   "cell_type": "code",
   "execution_count": 22,
   "id": "4a963b54-0b18-472c-ac61-4f6d8091bb05",
   "metadata": {},
   "outputs": [
    {
     "name": "stdout",
     "output_type": "stream",
     "text": [
      "Mean: \n",
      "2.580285463457015e-13\n",
      "3.532100223191663e-13\n",
      "1.76605011159583e-13\n"
     ]
    }
   ],
   "source": [
    "print(\"Mean: \")\n",
    "print(statistics.mean(measures['rmse']))\n",
    "print(statistics.mean(measures['mape']))\n",
    "print(statistics.mean(measures['smape']))"
   ]
  },
  {
   "cell_type": "code",
   "execution_count": null,
   "id": "c6af7184-0c84-4b4f-bd47-2786f593b567",
   "metadata": {},
   "outputs": [],
   "source": []
  }
 ],
 "metadata": {
  "kernelspec": {
   "display_name": "Python 3",
   "language": "python",
   "name": "python3"
  },
  "language_info": {
   "codemirror_mode": {
    "name": "ipython",
    "version": 3
   },
   "file_extension": ".py",
   "mimetype": "text/x-python",
   "name": "python",
   "nbconvert_exporter": "python",
   "pygments_lexer": "ipython3",
   "version": "3.8.5"
  }
 },
 "nbformat": 4,
 "nbformat_minor": 5
}
