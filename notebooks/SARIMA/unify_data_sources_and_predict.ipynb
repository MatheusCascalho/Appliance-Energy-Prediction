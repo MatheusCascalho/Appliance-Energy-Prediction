{
 "cells": [
  {
   "cell_type": "code",
   "execution_count": 1,
   "metadata": {},
   "outputs": [],
   "source": [
    "# In this Notebook Feriados and Ventas datasets will be joined, transformed and utilised to make predictions\n",
    "\n",
    "import warnings\n",
    "import pandas as pd\n",
    "import sys\n",
    "import numpy as np\n",
    "import matplotlib.pyplot as plt\n",
    "from statsmodels.tsa.stattools import adfuller\n",
    "import statsmodels.api as sm\n",
    "\n",
    "warnings.filterwarnings(\"ignore\")"
   ]
  },
  {
   "cell_type": "code",
   "execution_count": 2,
   "metadata": {},
   "outputs": [],
   "source": [
    "def test_stationarity(timeseries):\n",
    "    \n",
    "    #Determing rolling statistics\n",
    "    rolmean = timeseries.rolling(12).mean()\n",
    "    rolstd = timeseries.rolling(12).std()\n",
    "\n",
    "    #Plot rolling statistics:\n",
    "    orig = plt.plot(timeseries, color='blue',label='Original')\n",
    "    mean = plt.plot(rolmean, color='red', label='Rolling Mean')\n",
    "    std = plt.plot(rolstd, color='black', label = 'Rolling Std')\n",
    "    plt.legend(loc='best')\n",
    "    plt.title('Rolling Mean & Standard Deviation')\n",
    "    plt.show(block=False)\n",
    "    \n",
    "    #Perform Dickey-Fuller test:\n",
    "    print ('Results of Dickey-Fuller Test:')\n",
    "    timeseries = timeseries.iloc[:,0].values\n",
    "    dftest = adfuller(timeseries, autolag='AIC')\n",
    "    dfoutput = pd.Series(dftest[0:4], index=['Test Statistic','p-value','#Lags Used','Number of Observations Used'])\n",
    "    for key,value in dftest[4].items():\n",
    "        dfoutput['Critical Value (%s)'%key] = value\n",
    "    print(dfoutput)"
   ]
  },
  {
   "cell_type": "code",
   "execution_count": 3,
   "metadata": {},
   "outputs": [
    {
     "data": {
      "text/plain": [
       "DatetimeIndex(['2014-01-01', '2014-01-02', '2014-01-03', '2014-01-04',\n",
       "               '2014-01-05', '2014-01-06', '2014-01-07', '2014-01-08',\n",
       "               '2014-01-09', '2014-01-10',\n",
       "               ...\n",
       "               '2019-03-18', '2019-03-19', '2019-03-20', '2019-03-21',\n",
       "               '2019-03-22', '2019-03-23', '2019-03-24', '2019-03-25',\n",
       "               '2019-03-26', '2019-03-27'],\n",
       "              dtype='datetime64[ns]', name='fecha', length=1912, freq=None)"
      ]
     },
     "execution_count": 3,
     "metadata": {},
     "output_type": "execute_result"
    }
   ],
   "source": [
    "path_to_ventas = r'cant_ventas_2014-2019.csv'\n",
    "ventas_df = pd.read_csv(path_to_ventas)\n",
    "# convert column fecha to datetime\n",
    "ventas_df['fecha'] = ventas_df['fecha'].astype('datetime64[ns]')\n",
    "ventas_df.set_index('fecha', inplace=True)\n",
    "ventas_df.index"
   ]
  },
  {
   "cell_type": "code",
   "execution_count": 4,
   "metadata": {},
   "outputs": [
    {
     "data": {
      "text/plain": [
       "DatetimeIndex(['2012-01-01', '2012-03-01', '2012-04-05', '2012-04-06',\n",
       "               '2012-04-08', '2012-05-01', '2012-05-15', '2012-06-12',\n",
       "               '2012-08-15', '2012-09-29',\n",
       "               ...\n",
       "               '2022-04-14', '2022-04-15', '2022-04-17', '2022-05-01',\n",
       "               '2022-05-15', '2022-06-12', '2022-08-15', '2022-09-29',\n",
       "               '2022-12-08', '2022-12-25'],\n",
       "              dtype='datetime64[ns]', name='Date', length=132, freq=None)"
      ]
     },
     "execution_count": 4,
     "metadata": {},
     "output_type": "execute_result"
    }
   ],
   "source": [
    "path_to_feriados = r\"feriados.csv\"\n",
    "feriados_df = pd.read_csv(path_to_feriados, delimiter=';', parse_dates=True, dayfirst=True)\n",
    "# convert column fecha to datetime enforcing dd/mm/yy format\n",
    "feriados_df['Date'] = pd.to_datetime(feriados_df['Date'], format='%d/%m/%y')\n",
    "# convert column to datetime to make it index\n",
    "feriados_df['Date'] = feriados_df['Date'].astype('datetime64[ns]')\n",
    "feriados_df.set_index('Date', inplace=True)\n",
    "feriados_df.index"
   ]
  },
  {
   "cell_type": "code",
   "execution_count": 5,
   "metadata": {},
   "outputs": [
    {
     "data": {
      "text/html": [
       "<div>\n",
       "<style scoped>\n",
       "    .dataframe tbody tr th:only-of-type {\n",
       "        vertical-align: middle;\n",
       "    }\n",
       "\n",
       "    .dataframe tbody tr th {\n",
       "        vertical-align: top;\n",
       "    }\n",
       "\n",
       "    .dataframe thead th {\n",
       "        text-align: right;\n",
       "    }\n",
       "</style>\n",
       "<table border=\"1\" class=\"dataframe\">\n",
       "  <thead>\n",
       "    <tr style=\"text-align: right;\">\n",
       "      <th></th>\n",
       "      <th>Year</th>\n",
       "      <th>Month</th>\n",
       "      <th>Day</th>\n",
       "      <th>Weekday</th>\n",
       "      <th>Holiday</th>\n",
       "    </tr>\n",
       "    <tr>\n",
       "      <th>Date</th>\n",
       "      <th></th>\n",
       "      <th></th>\n",
       "      <th></th>\n",
       "      <th></th>\n",
       "      <th></th>\n",
       "    </tr>\n",
       "  </thead>\n",
       "  <tbody>\n",
       "    <tr>\n",
       "      <th>2012-01-01</th>\n",
       "      <td>2012</td>\n",
       "      <td>1</td>\n",
       "      <td>1</td>\n",
       "      <td>Sunday</td>\n",
       "      <td>Anho Nuevo</td>\n",
       "    </tr>\n",
       "    <tr>\n",
       "      <th>2012-03-01</th>\n",
       "      <td>2012</td>\n",
       "      <td>3</td>\n",
       "      <td>1</td>\n",
       "      <td>Thursday</td>\n",
       "      <td>Dia de los Heroes de la Patria</td>\n",
       "    </tr>\n",
       "    <tr>\n",
       "      <th>2012-04-05</th>\n",
       "      <td>2012</td>\n",
       "      <td>4</td>\n",
       "      <td>5</td>\n",
       "      <td>Thursday</td>\n",
       "      <td>Jueves Santo (Semana Santa)</td>\n",
       "    </tr>\n",
       "    <tr>\n",
       "      <th>2012-04-06</th>\n",
       "      <td>2012</td>\n",
       "      <td>4</td>\n",
       "      <td>6</td>\n",
       "      <td>Friday</td>\n",
       "      <td>Viernes Santo (Semana Santa)</td>\n",
       "    </tr>\n",
       "    <tr>\n",
       "      <th>2012-04-08</th>\n",
       "      <td>2012</td>\n",
       "      <td>4</td>\n",
       "      <td>8</td>\n",
       "      <td>Sunday</td>\n",
       "      <td>Domingo de Resurreccion (Semana Santa)</td>\n",
       "    </tr>\n",
       "  </tbody>\n",
       "</table>\n",
       "</div>"
      ],
      "text/plain": [
       "            Year  Month  Day   Weekday                                 Holiday\n",
       "Date                                                                          \n",
       "2012-01-01  2012      1    1    Sunday                              Anho Nuevo\n",
       "2012-03-01  2012      3    1  Thursday          Dia de los Heroes de la Patria\n",
       "2012-04-05  2012      4    5  Thursday             Jueves Santo (Semana Santa)\n",
       "2012-04-06  2012      4    6    Friday            Viernes Santo (Semana Santa)\n",
       "2012-04-08  2012      4    8    Sunday  Domingo de Resurreccion (Semana Santa)"
      ]
     },
     "execution_count": 5,
     "metadata": {},
     "output_type": "execute_result"
    }
   ],
   "source": [
    "feriados_df.head()"
   ]
  },
  {
   "cell_type": "markdown",
   "metadata": {},
   "source": [
    "### Transform ventas_df dataframe"
   ]
  },
  {
   "cell_type": "code",
   "execution_count": 6,
   "metadata": {},
   "outputs": [
    {
     "data": {
      "text/html": [
       "<div>\n",
       "<style scoped>\n",
       "    .dataframe tbody tr th:only-of-type {\n",
       "        vertical-align: middle;\n",
       "    }\n",
       "\n",
       "    .dataframe tbody tr th {\n",
       "        vertical-align: top;\n",
       "    }\n",
       "\n",
       "    .dataframe thead th {\n",
       "        text-align: right;\n",
       "    }\n",
       "</style>\n",
       "<table border=\"1\" class=\"dataframe\">\n",
       "  <thead>\n",
       "    <tr style=\"text-align: right;\">\n",
       "      <th></th>\n",
       "      <th>linea</th>\n",
       "      <th>cantidad</th>\n",
       "    </tr>\n",
       "    <tr>\n",
       "      <th>fecha</th>\n",
       "      <th></th>\n",
       "      <th></th>\n",
       "    </tr>\n",
       "  </thead>\n",
       "  <tbody>\n",
       "    <tr>\n",
       "      <th>2014-01-01</th>\n",
       "      <td>PRODUCTO A</td>\n",
       "      <td>7.0</td>\n",
       "    </tr>\n",
       "    <tr>\n",
       "      <th>2014-01-02</th>\n",
       "      <td>PRODUCTO A</td>\n",
       "      <td>57.0</td>\n",
       "    </tr>\n",
       "    <tr>\n",
       "      <th>2014-01-03</th>\n",
       "      <td>PRODUCTO A</td>\n",
       "      <td>67.0</td>\n",
       "    </tr>\n",
       "    <tr>\n",
       "      <th>2014-01-04</th>\n",
       "      <td>PRODUCTO A</td>\n",
       "      <td>17.0</td>\n",
       "    </tr>\n",
       "    <tr>\n",
       "      <th>2014-01-05</th>\n",
       "      <td>PRODUCTO A</td>\n",
       "      <td>6.0</td>\n",
       "    </tr>\n",
       "  </tbody>\n",
       "</table>\n",
       "</div>"
      ],
      "text/plain": [
       "                 linea  cantidad\n",
       "fecha                           \n",
       "2014-01-01  PRODUCTO A       7.0\n",
       "2014-01-02  PRODUCTO A      57.0\n",
       "2014-01-03  PRODUCTO A      67.0\n",
       "2014-01-04  PRODUCTO A      17.0\n",
       "2014-01-05  PRODUCTO A       6.0"
      ]
     },
     "execution_count": 6,
     "metadata": {},
     "output_type": "execute_result"
    }
   ],
   "source": [
    "# Replace NaN values \n",
    "ventas_df['cantidad'] = ventas_df['cantidad'].fillna(0)\n",
    "ventas_df.head()"
   ]
  },
  {
   "cell_type": "code",
   "execution_count": 8,
   "metadata": {},
   "outputs": [
    {
     "data": {
      "text/html": [
       "<div>\n",
       "<style scoped>\n",
       "    .dataframe tbody tr th:only-of-type {\n",
       "        vertical-align: middle;\n",
       "    }\n",
       "\n",
       "    .dataframe tbody tr th {\n",
       "        vertical-align: top;\n",
       "    }\n",
       "\n",
       "    .dataframe thead th {\n",
       "        text-align: right;\n",
       "    }\n",
       "</style>\n",
       "<table border=\"1\" class=\"dataframe\">\n",
       "  <thead>\n",
       "    <tr style=\"text-align: right;\">\n",
       "      <th></th>\n",
       "      <th>cantidad</th>\n",
       "    </tr>\n",
       "    <tr>\n",
       "      <th>fecha</th>\n",
       "      <th></th>\n",
       "    </tr>\n",
       "  </thead>\n",
       "  <tbody>\n",
       "    <tr>\n",
       "      <th>2014-01-01</th>\n",
       "      <td>7.0</td>\n",
       "    </tr>\n",
       "    <tr>\n",
       "      <th>2014-01-02</th>\n",
       "      <td>57.0</td>\n",
       "    </tr>\n",
       "    <tr>\n",
       "      <th>2014-01-03</th>\n",
       "      <td>67.0</td>\n",
       "    </tr>\n",
       "    <tr>\n",
       "      <th>2014-01-04</th>\n",
       "      <td>17.0</td>\n",
       "    </tr>\n",
       "    <tr>\n",
       "      <th>2014-01-05</th>\n",
       "      <td>6.0</td>\n",
       "    </tr>\n",
       "    <tr>\n",
       "      <th>...</th>\n",
       "      <td>...</td>\n",
       "    </tr>\n",
       "    <tr>\n",
       "      <th>2019-03-23</th>\n",
       "      <td>56.0</td>\n",
       "    </tr>\n",
       "    <tr>\n",
       "      <th>2019-03-24</th>\n",
       "      <td>21.0</td>\n",
       "    </tr>\n",
       "    <tr>\n",
       "      <th>2019-03-25</th>\n",
       "      <td>69.0</td>\n",
       "    </tr>\n",
       "    <tr>\n",
       "      <th>2019-03-26</th>\n",
       "      <td>108.0</td>\n",
       "    </tr>\n",
       "    <tr>\n",
       "      <th>2019-03-27</th>\n",
       "      <td>62.0</td>\n",
       "    </tr>\n",
       "  </tbody>\n",
       "</table>\n",
       "<p>1912 rows × 1 columns</p>\n",
       "</div>"
      ],
      "text/plain": [
       "            cantidad\n",
       "fecha               \n",
       "2014-01-01       7.0\n",
       "2014-01-02      57.0\n",
       "2014-01-03      67.0\n",
       "2014-01-04      17.0\n",
       "2014-01-05       6.0\n",
       "...              ...\n",
       "2019-03-23      56.0\n",
       "2019-03-24      21.0\n",
       "2019-03-25      69.0\n",
       "2019-03-26     108.0\n",
       "2019-03-27      62.0\n",
       "\n",
       "[1912 rows x 1 columns]"
      ]
     },
     "execution_count": 8,
     "metadata": {},
     "output_type": "execute_result"
    }
   ],
   "source": [
    "##ventas_df.index = ventas_df.fecha\n",
    "ventas_df = ventas_df.resample('D').mean()\n",
    "ventas_df"
   ]
  },
  {
   "cell_type": "code",
   "execution_count": 9,
   "metadata": {},
   "outputs": [
    {
     "name": "stdout",
     "output_type": "stream",
     "text": [
      "Found records with zero, will add a constant (400)\n"
     ]
    }
   ],
   "source": [
    "# We gotta handle the zero values before applying log transformation\n",
    "if len(ventas_df.loc[ventas_df['cantidad']==0]):\n",
    "    print(\"Found records with zero, will add a constant (400)\")\n",
    "    ventas_df['cantidad'] = ventas_df['cantidad'] + 400\n",
    "\n",
    "# Transform the dataframe:\n",
    "ts_log = np.log(ventas_df)\n",
    "# Replace infs with NaN\n",
    "ts_log.replace([np.inf, -np.inf], np.nan, inplace=True)\n",
    "# Replace NaN with 0\n",
    "ts_log.replace([np.nan], 0, inplace=True)\n",
    "# Remove all the NaN values\n",
    "ts_log.dropna(inplace=True)\n",
    "\n",
    "ts_log = ts_log.asfreq(freq='D')\n",
    "ts_log.index\n",
    "\n",
    "## Get all rows with nan values:\n",
    "# ts_log[np.isnan(ts_log).any(1)]\n",
    "\n",
    "## CHECK OUTPUT OF HEAD():\n",
    "ts_log.head()\n",
    "\n",
    "# 2014-01-01\t6.008813\n",
    "# 2014-01-02\t6.124683\n",
    "# 2014-01-03\t6.146329\n",
    "\n",
    "## Given that the differencing operation makes the values at the beginning of the series go NaN,\n",
    "## we must make sure to store those values so that we can then get the real values back later on.\n",
    "## In this case, something like: ts_log_diff.fillna(0) + 6.008813\n",
    "\n",
    "# Apply differencing:\n",
    "ts_log_diff = ts_log - ts_log.shift()\n",
    "\n",
    "\n",
    "## Get indices with inf values:\n",
    "# ts_log_diff.index[np.isinf(ts_log_diff).any(1)]\n",
    "## Get all rows with inf values:\n",
    "# ts_log_diff[np.isinf(ts_log_diff).any(1)]\n",
    "\n",
    "ts_log_diff.replace([np.inf, -np.inf], np.nan, inplace=True)\n",
    "ts_log_diff.dropna(inplace=True)"
   ]
  },
  {
   "cell_type": "code",
   "execution_count": 10,
   "metadata": {},
   "outputs": [
    {
     "data": {
      "image/png": "[encoded data removed]",
      "text/plain": [
       "<Figure size 432x288 with 1 Axes>"
      ]
     },
     "metadata": {
      "needs_background": "light"
     },
     "output_type": "display_data"
    },
    {
     "name": "stdout",
     "output_type": "stream",
     "text": [
      "Results of Dickey-Fuller Test:\n",
      "Test Statistic                -1.301966e+01\n",
      "p-value                        2.468969e-24\n",
      "#Lags Used                     2.600000e+01\n",
      "Number of Observations Used    1.884000e+03\n",
      "Critical Value (1%)           -3.433826e+00\n",
      "Critical Value (5%)           -2.863075e+00\n",
      "Critical Value (10%)          -2.567587e+00\n",
      "dtype: float64\n"
     ]
    }
   ],
   "source": [
    "test_stationarity(ts_log_diff)"
   ]
  },
  {
   "cell_type": "markdown",
   "metadata": {},
   "source": [
    "## Join the dataframes"
   ]
  },
  {
   "cell_type": "code",
   "execution_count": 11,
   "metadata": {},
   "outputs": [],
   "source": [
    "data_df = ts_log_diff.join(feriados_df, how='left')"
   ]
  },
  {
   "cell_type": "code",
   "execution_count": 13,
   "metadata": {},
   "outputs": [
    {
     "data": {
      "text/html": [
       "<div>\n",
       "<style scoped>\n",
       "    .dataframe tbody tr th:only-of-type {\n",
       "        vertical-align: middle;\n",
       "    }\n",
       "\n",
       "    .dataframe tbody tr th {\n",
       "        vertical-align: top;\n",
       "    }\n",
       "\n",
       "    .dataframe thead th {\n",
       "        text-align: right;\n",
       "    }\n",
       "</style>\n",
       "<table border=\"1\" class=\"dataframe\">\n",
       "  <thead>\n",
       "    <tr style=\"text-align: right;\">\n",
       "      <th></th>\n",
       "      <th>cantidad</th>\n",
       "      <th>Year</th>\n",
       "      <th>Month</th>\n",
       "      <th>Day</th>\n",
       "      <th>Weekday</th>\n",
       "      <th>Holiday</th>\n",
       "    </tr>\n",
       "  </thead>\n",
       "  <tbody>\n",
       "  </tbody>\n",
       "</table>\n",
       "</div>"
      ],
      "text/plain": [
       "Empty DataFrame\n",
       "Columns: [cantidad, Year, Month, Day, Weekday, Holiday]\n",
       "Index: []"
      ]
     },
     "execution_count": 13,
     "metadata": {},
     "output_type": "execute_result"
    }
   ],
   "source": [
    "## data_df.iloc[:,0].values\n",
    "# Replace NaN values \n",
    "data_df['cantidad'] = data_df['cantidad'].fillna(0)\n",
    "# Check nulls: \n",
    "data_df.loc[data_df['cantidad'].isnull()]\n",
    "# Check for other odd values: \n",
    "data_df[data_df['cantidad'].isin([np.nan, np.inf, -np.inf])]"
   ]
  },
  {
   "cell_type": "code",
   "execution_count": 14,
   "metadata": {},
   "outputs": [],
   "source": [
    "## Convertion to int would be an option if we weren't applying log transformation\n",
    "# Convert 'cantidad' to int\n",
    "# data_df['cantidad'] = data_df['cantidad'].astype('int64')"
   ]
  },
  {
   "cell_type": "markdown",
   "metadata": {},
   "source": [
    "# Feature Engineering"
   ]
  },
  {
   "cell_type": "code",
   "execution_count": 15,
   "metadata": {},
   "outputs": [],
   "source": [
    "# Add new columns:\n",
    "# holiday_weekday\n",
    "# holiday_weekend\n",
    "# isweekday\n",
    "# isweekend\n",
    "# inbetween25and5\n",
    "\n",
    "data_df['isweekday'] = [1 if d >= 0 and d <= 4 else 0 for d in data_df.index.dayofweek]\n",
    "data_df['isweekend'] = [0 if d >= 0 and d <= 4 else 1 for d in data_df.index.dayofweek]\n",
    "data_df['inbetween25and5'] = [1 if d >= 25 or d <= 5 else 0 for d in data_df.index.day]\n",
    "data_df['holiday_weekend'] = [1 if (we == 1 and h not in [np.nan]) else 0 for we,h in data_df[['isweekend','Holiday']].values]\n",
    "data_df['holiday_weekday'] = [1 if (wd == 1 and h not in [np.nan]) else 0 for wd,h in data_df[['isweekday','Holiday']].values]\n",
    "\n",
    "# One-Hot Encoding of Holiday:\n",
    "data_df = pd.get_dummies(data_df, columns=['Holiday'], prefix=['holiday'], dummy_na=True)\n"
   ]
  },
  {
   "cell_type": "code",
   "execution_count": 16,
   "metadata": {},
   "outputs": [],
   "source": [
    "# Drop irrelevant columns:\n",
    "data_df.drop(columns=['Year', 'Month', 'Day', 'Weekday', 'Holiday', 'linea'], inplace=True, errors='ignore')"
   ]
  },
  {
   "cell_type": "code",
   "execution_count": 17,
   "metadata": {},
   "outputs": [
    {
     "data": {
      "text/html": [
       "<div>\n",
       "<style scoped>\n",
       "    .dataframe tbody tr th:only-of-type {\n",
       "        vertical-align: middle;\n",
       "    }\n",
       "\n",
       "    .dataframe tbody tr th {\n",
       "        vertical-align: top;\n",
       "    }\n",
       "\n",
       "    .dataframe thead th {\n",
       "        text-align: right;\n",
       "    }\n",
       "</style>\n",
       "<table border=\"1\" class=\"dataframe\">\n",
       "  <thead>\n",
       "    <tr style=\"text-align: right;\">\n",
       "      <th></th>\n",
       "      <th>cantidad</th>\n",
       "      <th>isweekday</th>\n",
       "      <th>isweekend</th>\n",
       "      <th>inbetween25and5</th>\n",
       "      <th>holiday_weekend</th>\n",
       "      <th>holiday_weekday</th>\n",
       "      <th>holiday_Anho Nuevo</th>\n",
       "      <th>holiday_Batalla de Boqueron</th>\n",
       "      <th>holiday_Dia de la Fundacion de Asuncion</th>\n",
       "      <th>holiday_Dia de la Independencia Nacional</th>\n",
       "      <th>holiday_Dia de la Paz del Chaco</th>\n",
       "      <th>holiday_Dia de la Virgen de Caacupe</th>\n",
       "      <th>holiday_Dia de los Heroes de la Patria</th>\n",
       "      <th>holiday_Dia de los Trabajadores</th>\n",
       "      <th>holiday_Domingo de Resurreccion (Semana Santa)</th>\n",
       "      <th>holiday_Jueves Santo (Semana Santa)</th>\n",
       "      <th>holiday_Navidad</th>\n",
       "      <th>holiday_Viernes Santo (Semana Santa)</th>\n",
       "      <th>holiday_nan</th>\n",
       "    </tr>\n",
       "  </thead>\n",
       "  <tbody>\n",
       "    <tr>\n",
       "      <th>2014-01-02</th>\n",
       "      <td>0.115870</td>\n",
       "      <td>1</td>\n",
       "      <td>0</td>\n",
       "      <td>1</td>\n",
       "      <td>0</td>\n",
       "      <td>0</td>\n",
       "      <td>0</td>\n",
       "      <td>0</td>\n",
       "      <td>0</td>\n",
       "      <td>0</td>\n",
       "      <td>0</td>\n",
       "      <td>0</td>\n",
       "      <td>0</td>\n",
       "      <td>0</td>\n",
       "      <td>0</td>\n",
       "      <td>0</td>\n",
       "      <td>0</td>\n",
       "      <td>0</td>\n",
       "      <td>1</td>\n",
       "    </tr>\n",
       "    <tr>\n",
       "      <th>2014-01-03</th>\n",
       "      <td>0.021646</td>\n",
       "      <td>1</td>\n",
       "      <td>0</td>\n",
       "      <td>1</td>\n",
       "      <td>0</td>\n",
       "      <td>0</td>\n",
       "      <td>0</td>\n",
       "      <td>0</td>\n",
       "      <td>0</td>\n",
       "      <td>0</td>\n",
       "      <td>0</td>\n",
       "      <td>0</td>\n",
       "      <td>0</td>\n",
       "      <td>0</td>\n",
       "      <td>0</td>\n",
       "      <td>0</td>\n",
       "      <td>0</td>\n",
       "      <td>0</td>\n",
       "      <td>1</td>\n",
       "    </tr>\n",
       "    <tr>\n",
       "      <th>2014-01-04</th>\n",
       "      <td>-0.113243</td>\n",
       "      <td>0</td>\n",
       "      <td>1</td>\n",
       "      <td>1</td>\n",
       "      <td>0</td>\n",
       "      <td>0</td>\n",
       "      <td>0</td>\n",
       "      <td>0</td>\n",
       "      <td>0</td>\n",
       "      <td>0</td>\n",
       "      <td>0</td>\n",
       "      <td>0</td>\n",
       "      <td>0</td>\n",
       "      <td>0</td>\n",
       "      <td>0</td>\n",
       "      <td>0</td>\n",
       "      <td>0</td>\n",
       "      <td>0</td>\n",
       "      <td>1</td>\n",
       "    </tr>\n",
       "    <tr>\n",
       "      <th>2014-01-05</th>\n",
       "      <td>-0.026733</td>\n",
       "      <td>0</td>\n",
       "      <td>1</td>\n",
       "      <td>1</td>\n",
       "      <td>0</td>\n",
       "      <td>0</td>\n",
       "      <td>0</td>\n",
       "      <td>0</td>\n",
       "      <td>0</td>\n",
       "      <td>0</td>\n",
       "      <td>0</td>\n",
       "      <td>0</td>\n",
       "      <td>0</td>\n",
       "      <td>0</td>\n",
       "      <td>0</td>\n",
       "      <td>0</td>\n",
       "      <td>0</td>\n",
       "      <td>0</td>\n",
       "      <td>1</td>\n",
       "    </tr>\n",
       "    <tr>\n",
       "      <th>2014-01-06</th>\n",
       "      <td>0.133531</td>\n",
       "      <td>1</td>\n",
       "      <td>0</td>\n",
       "      <td>0</td>\n",
       "      <td>0</td>\n",
       "      <td>0</td>\n",
       "      <td>0</td>\n",
       "      <td>0</td>\n",
       "      <td>0</td>\n",
       "      <td>0</td>\n",
       "      <td>0</td>\n",
       "      <td>0</td>\n",
       "      <td>0</td>\n",
       "      <td>0</td>\n",
       "      <td>0</td>\n",
       "      <td>0</td>\n",
       "      <td>0</td>\n",
       "      <td>0</td>\n",
       "      <td>1</td>\n",
       "    </tr>\n",
       "  </tbody>\n",
       "</table>\n",
       "</div>"
      ],
      "text/plain": [
       "            cantidad  isweekday  isweekend  inbetween25and5  holiday_weekend  \\\n",
       "2014-01-02  0.115870          1          0                1                0   \n",
       "2014-01-03  0.021646          1          0                1                0   \n",
       "2014-01-04 -0.113243          0          1                1                0   \n",
       "2014-01-05 -0.026733          0          1                1                0   \n",
       "2014-01-06  0.133531          1          0                0                0   \n",
       "\n",
       "            holiday_weekday  holiday_Anho Nuevo  holiday_Batalla de Boqueron  \\\n",
       "2014-01-02                0                   0                            0   \n",
       "2014-01-03                0                   0                            0   \n",
       "2014-01-04                0                   0                            0   \n",
       "2014-01-05                0                   0                            0   \n",
       "2014-01-06                0                   0                            0   \n",
       "\n",
       "            holiday_Dia de la Fundacion de Asuncion  \\\n",
       "2014-01-02                                        0   \n",
       "2014-01-03                                        0   \n",
       "2014-01-04                                        0   \n",
       "2014-01-05                                        0   \n",
       "2014-01-06                                        0   \n",
       "\n",
       "            holiday_Dia de la Independencia Nacional  \\\n",
       "2014-01-02                                         0   \n",
       "2014-01-03                                         0   \n",
       "2014-01-04                                         0   \n",
       "2014-01-05                                         0   \n",
       "2014-01-06                                         0   \n",
       "\n",
       "            holiday_Dia de la Paz del Chaco  \\\n",
       "2014-01-02                                0   \n",
       "2014-01-03                                0   \n",
       "2014-01-04                                0   \n",
       "2014-01-05                                0   \n",
       "2014-01-06                                0   \n",
       "\n",
       "            holiday_Dia de la Virgen de Caacupe  \\\n",
       "2014-01-02                                    0   \n",
       "2014-01-03                                    0   \n",
       "2014-01-04                                    0   \n",
       "2014-01-05                                    0   \n",
       "2014-01-06                                    0   \n",
       "\n",
       "            holiday_Dia de los Heroes de la Patria  \\\n",
       "2014-01-02                                       0   \n",
       "2014-01-03                                       0   \n",
       "2014-01-04                                       0   \n",
       "2014-01-05                                       0   \n",
       "2014-01-06                                       0   \n",
       "\n",
       "            holiday_Dia de los Trabajadores  \\\n",
       "2014-01-02                                0   \n",
       "2014-01-03                                0   \n",
       "2014-01-04                                0   \n",
       "2014-01-05                                0   \n",
       "2014-01-06                                0   \n",
       "\n",
       "            holiday_Domingo de Resurreccion (Semana Santa)  \\\n",
       "2014-01-02                                               0   \n",
       "2014-01-03                                               0   \n",
       "2014-01-04                                               0   \n",
       "2014-01-05                                               0   \n",
       "2014-01-06                                               0   \n",
       "\n",
       "            holiday_Jueves Santo (Semana Santa)  holiday_Navidad  \\\n",
       "2014-01-02                                    0                0   \n",
       "2014-01-03                                    0                0   \n",
       "2014-01-04                                    0                0   \n",
       "2014-01-05                                    0                0   \n",
       "2014-01-06                                    0                0   \n",
       "\n",
       "            holiday_Viernes Santo (Semana Santa)  holiday_nan  \n",
       "2014-01-02                                     0            1  \n",
       "2014-01-03                                     0            1  \n",
       "2014-01-04                                     0            1  \n",
       "2014-01-05                                     0            1  \n",
       "2014-01-06                                     0            1  "
      ]
     },
     "execution_count": 17,
     "metadata": {},
     "output_type": "execute_result"
    }
   ],
   "source": [
    "data_df.head()"
   ]
  },
  {
   "cell_type": "code",
   "execution_count": 18,
   "metadata": {},
   "outputs": [
    {
     "name": "stdout",
     "output_type": "stream",
     "text": [
      "1 duplicated indices were found.\n"
     ]
    },
    {
     "data": {
      "text/plain": [
       "DatetimeIndex(['2014-01-02', '2014-01-03', '2014-01-04', '2014-01-05',\n",
       "               '2014-01-06', '2014-01-07', '2014-01-08', '2014-01-09',\n",
       "               '2014-01-10', '2014-01-11',\n",
       "               ...\n",
       "               '2019-03-18', '2019-03-19', '2019-03-20', '2019-03-21',\n",
       "               '2019-03-22', '2019-03-23', '2019-03-24', '2019-03-25',\n",
       "               '2019-03-26', '2019-03-27'],\n",
       "              dtype='datetime64[ns]', length=1911, freq='D')"
      ]
     },
     "execution_count": 18,
     "metadata": {},
     "output_type": "execute_result"
    }
   ],
   "source": [
    "# To set the frequency it's important not to have duplicated indices\n",
    "if len(data_df[data_df.index.duplicated()].values):\n",
    "    print(\"{} duplicated indices were found.\".format(len(data_df[data_df.index.duplicated()].values)))\n",
    "    data_df = data_df[~data_df.index.duplicated()]\n",
    "\n",
    "# the following line will add a 'freq' to our datetime index\n",
    "data_df = data_df.asfreq('D')\n",
    "data_df.index"
   ]
  },
  {
   "cell_type": "code",
   "execution_count": 23,
   "metadata": {},
   "outputs": [],
   "source": [
    "\n",
    "#data_df_daily = data_df\n",
    "#data_df_daily.head()\n"
   ]
  },
  {
   "cell_type": "code",
   "execution_count": 27,
   "metadata": {},
   "outputs": [],
   "source": [
    "# Function that trains the model with the received parameters\n",
    "import statsmodels.api as sm\n",
    "import itertools\n",
    "\n",
    "def my_train_sarimax(df, i_order=(2,1,2), i_freq='D', i_seasonorder=(2, 1, 1, 12), print_summary=False):\n",
    "    mod = sm.tsa.statespace.SARIMAX(\n",
    "                                    df.iloc[:,0], # Variable to be predicted\n",
    "                                    order= i_order,\n",
    "                                    freq= i_freq \n",
    "                                    #,exog = ['isweekday', 'isweekend', 'inbetween25and5', 'holiday_weekend', 'holiday_weekday', 'holiday_Anho Nuevo',       'holiday_Batalla de Boqueron',       'holiday_Dia de la Fundacion de Asuncion',       'holiday_Dia de la Independencia Nacional',       'holiday_Dia de la Paz del Chaco',       'holiday_Dia de la Virgen de Caacupe',       'holiday_Dia de los Heroes de la Patria',       'holiday_Dia de los Trabajadores',       'holiday_Domingo de Resurreccion (Semana Santa)',       'holiday_Jueves Santo (Semana Santa)', 'holiday_Navidad',       'holiday_Viernes Santo (Semana Santa)', 'holiday_nan']\n",
    "                                    ,exog = df.iloc[:,0:] # exogenous variables\n",
    "                                    ,seasonal_order=i_seasonorder,\n",
    "                                    enforce_stationarity=False,\n",
    "                                    enforce_invertibility=False\n",
    "                                   )\n",
    "\n",
    "    results = mod.fit()\n",
    "    \n",
    "    if print_summary:\n",
    "        print(results.summary().tables[1])\n",
    "    \n",
    "    return results\n",
    "\n",
    "# Function that compares SARIMAX predictions vs Real values\n",
    "# SARIMAX documentation: https://www.statsmodels.org/dev/generated/statsmodels.tsa.statespace.sarimax.SARIMAX.html\n",
    "def compare_pred_vs_real(results, df, predict_from = '2019-03-01', exog_validation = ''):\n",
    "    # se puede usar el parámetro end para especificar el limite de la predicción\n",
    "    pred = results.get_prediction(start=pd.to_datetime(predict_from), end=pd.to_datetime('2019-03-27'), dynamic=False, exog=exog_validation)\n",
    "    pred_ci = pred.conf_int()\n",
    "\n",
    "    ax = df['2019':].iloc[:,0].plot(label='Observed')\n",
    "    pred.predicted_mean.plot(ax=ax, label='One-step ahead Forecast', alpha=.7, figsize=(14, 7))\n",
    "\n",
    "    ax.fill_between(pred_ci.index,\n",
    "                    pred_ci.iloc[:, 0],\n",
    "                    pred_ci.iloc[:, 1], color='k', alpha=.2)\n",
    "\n",
    "    ax.set_xlabel('Date')\n",
    "    ax.set_ylabel('Cant prod vendidos')\n",
    "    plt.legend()\n",
    "\n",
    "    plt.show()\n",
    "    \n",
    "    y_forecasted = pred.predicted_mean\n",
    "    y_truth = df[predict_from:].iloc[:,0]\n",
    "\n",
    "    mse = ((y_forecasted - y_truth) ** 2).mean()\n",
    "    print('The Mean Squared Error of our forecasts is {}'.format(round(mse, 2)))\n",
    "\n",
    "    print('The Root Mean Squared Error of our forecasts is {}'.format(round(np.sqrt(mse), 2)))\n",
    "    \n",
    "    return y_truth, y_forecasted\n",
    "    \n",
    "    \n",
    "# Function for parameter tuning\n",
    "def find_optimal_params(df, i_freq='D', verbose=False):\n",
    "    p = d = q = range(0, 3)\n",
    "    pdq = list(itertools.product(p, d, q))\n",
    "    seasonal_pdq = [(x[0], x[1], x[2], 12) for x in list(itertools.product(p, d, q))]\n",
    "    min_aic = 99999999999.0\n",
    "    opt_params = {'order':'', 'seasonal_order':''}\n",
    "    for param in pdq:\n",
    "        for param_seasonal in seasonal_pdq:\n",
    "            try:\n",
    "                mod = sm.tsa.statespace.SARIMAX(df.iloc[:,0],\\\n",
    "                                                order=param,\\\n",
    "                                                freq=i_freq\n",
    "                                                ,exog=df.iloc[:,1:]\n",
    "                                                ,seasonal_order=param_seasonal,\\\n",
    "                                                enforce_stationarity=False,\\\n",
    "                                                enforce_invertibility=False)\n",
    "\n",
    "                results = mod.fit()\n",
    "                if verbose:\n",
    "                    print('ARIMA{}x{}12 - AIC:{}'.format(param, param_seasonal, results.aic))\n",
    "                    \n",
    "                if results.aic < min_aic:\n",
    "                    min_aic = results.aic\n",
    "                    opt_params['order'] = param\n",
    "                    opt_params['seasonal_order'] = param_seasonal\n",
    "            except:\n",
    "                print(\"error while fitting model\")\n",
    "                continue\n",
    "    print('Min_AIC')\n",
    "    print(opt_params)"
   ]
  },
  {
   "cell_type": "markdown",
   "metadata": {},
   "source": [
    "# Predict using Daily frequency"
   ]
  },
  {
   "cell_type": "code",
   "execution_count": 26,
   "metadata": {},
   "outputs": [],
   "source": [
    "#data_df[:'2019-02-28'].iloc[:,0:]"
   ]
  },
  {
   "cell_type": "code",
   "execution_count": 29,
   "metadata": {},
   "outputs": [
    {
     "data": {
      "image/png": "[encoded data removed]",
      "text/plain": [
       "<Figure size 1008x504 with 1 Axes>"
      ]
     },
     "metadata": {
      "needs_background": "light"
     },
     "output_type": "display_data"
    },
    {
     "name": "stdout",
     "output_type": "stream",
     "text": [
      "The Mean Squared Error of our forecasts is 0.0\n",
      "The Root Mean Squared Error of our forecasts is 0.0\n"
     ]
    },
    {
     "data": {
      "text/plain": [
       "2019-03-01   -6.106227e-16\n",
       "2019-03-02   -6.245005e-16\n",
       "2019-03-03   -4.302114e-16\n",
       "2019-03-04   -6.938894e-17\n",
       "2019-03-05    2.220446e-16\n",
       "2019-03-06   -2.220446e-16\n",
       "2019-03-07   -2.393918e-16\n",
       "2019-03-08   -1.249001e-16\n",
       "2019-03-09   -8.187895e-16\n",
       "2019-03-10   -6.314393e-16\n",
       "2019-03-11   -5.551115e-17\n",
       "2019-03-12   -3.252607e-16\n",
       "2019-03-13   -2.081668e-16\n",
       "2019-03-14   -3.469447e-16\n",
       "2019-03-15   -3.885781e-16\n",
       "2019-03-16   -7.979728e-16\n",
       "2019-03-17   -6.245005e-16\n",
       "2019-03-18    2.775558e-17\n",
       "2019-03-19   -1.387779e-16\n",
       "2019-03-20   -8.887022e-17\n",
       "2019-03-21   -5.377643e-16\n",
       "2019-03-22   -4.041906e-16\n",
       "2019-03-23   -8.743006e-16\n",
       "2019-03-24   -9.159340e-16\n",
       "2019-03-25   -2.775558e-17\n",
       "2019-03-26   -3.330669e-16\n",
       "2019-03-27   -4.302114e-16\n",
       "Freq: D, dtype: float64"
      ]
     },
     "execution_count": 29,
     "metadata": {},
     "output_type": "execute_result"
    }
   ],
   "source": [
    "result_daily = my_train_sarimax(data_df[:'2019-02-28'], i_order=(2,1,2), i_freq='D', i_seasonorder=(2, 1, 1, 12))\n",
    "ypred, ytruth = compare_pred_vs_real(result_daily, data_df, '2019-03-01', exog_validation=data_df['2019-03-01':].iloc[:,0:])\n",
    "#ypred.astype(np.int64) - ytruth.astype(np.int64)\n",
    "ypred - ytruth"
   ]
  },
  {
   "cell_type": "code",
   "execution_count": 26,
   "metadata": {},
   "outputs": [],
   "source": [
    "#ypred.head() ## desde 2019-03-01\n",
    "#ytruth.head() ## desde 2019-03-01\n",
    "#data_df.head() ## desde 2014-01-02\n"
   ]
  },
  {
   "cell_type": "code",
   "execution_count": 27,
   "metadata": {},
   "outputs": [],
   "source": [
    "\n",
    "## NOW YOU WILL HAVE TO append to y_pred all the dates that are missing (from data_df)\n",
    "## but before doing that, you will have to add the missing dates to data_df (in our case the 1st of jan, 2014)\n",
    "## After doing all that we can revert the differencing with cumsum() and then apply exp() to revert the log transform.\n",
    "\n",
    "\n",
    "#create a series with the dates that were dropped with differencing\n",
    "restore_first_values = pd.Series([6.008813], index=[pd.to_datetime('2014-01-01')])\n",
    "#get the values that the prediction does not have\n",
    "missing_part = data_df['cantidad'][:'2019-02-28']\n",
    "rebuilt = restore_first_values.append(missing_part).append(ypred)\n",
    "\n",
    "#revert the differencing:\n",
    "rebuilt = rebuilt.cumsum()\n",
    "\n",
    "#revert log transformation:\n",
    "rebuilt = np.exp(rebuilt).round() # apply round() to have integers\n"
   ]
  },
  {
   "cell_type": "code",
   "execution_count": 28,
   "metadata": {},
   "outputs": [
    {
     "data": {
      "text/plain": [
       "2019-03-01    0.0\n",
       "2019-03-02    0.0\n",
       "2019-03-03    0.0\n",
       "2019-03-04    0.0\n",
       "2019-03-05    0.0\n",
       "2019-03-06    0.0\n",
       "2019-03-07    0.0\n",
       "2019-03-08    0.0\n",
       "2019-03-09    0.0\n",
       "2019-03-10    0.0\n",
       "2019-03-11    0.0\n",
       "2019-03-12    0.0\n",
       "2019-03-13    0.0\n",
       "2019-03-14    0.0\n",
       "2019-03-15    0.0\n",
       "2019-03-16    0.0\n",
       "2019-03-17    0.0\n",
       "2019-03-18    0.0\n",
       "2019-03-19    0.0\n",
       "2019-03-20    0.0\n",
       "2019-03-21    0.0\n",
       "2019-03-22    0.0\n",
       "2019-03-23    0.0\n",
       "2019-03-24    0.0\n",
       "2019-03-25    0.0\n",
       "2019-03-26    0.0\n",
       "2019-03-27    0.0\n",
       "dtype: float64"
      ]
     },
     "execution_count": 28,
     "metadata": {},
     "output_type": "execute_result"
    }
   ],
   "source": [
    "## check how far was the prediction from the actual value\n",
    "\n",
    "rebuilt['2019-03-01':] - ventas_df['cantidad']['2019-03-01':]"
   ]
  },
  {
   "cell_type": "markdown",
   "metadata": {},
   "source": [
    "# Parameter Tuning"
   ]
  },
  {
   "cell_type": "code",
   "execution_count": 29,
   "metadata": {},
   "outputs": [],
   "source": [
    "find_optimal_params(data_df_weekly, 'W')\n",
    "\n",
    "# Min_AIC\n",
    "# {'seasonal_order': (0, 2, 2, 12), 'order': (0, 1, 1)}\n",
    "\n",
    "## Note: Using these parameters did not result in more accurate predictions for a small window of time. \n",
    "##     Further experimentation is required to see if at a larger time window these parameters will be better."
   ]
  },
  {
   "cell_type": "code",
   "execution_count": 30,
   "metadata": {},
   "outputs": [],
   "source": [
    "#run predictions with optimal parameter for weekly dataset\n",
    "result_weekly_opt = my_train_sarimax(data_df_weekly, i_order=(0,1,1), i_freq='W', i_seasonorder=(0, 2, 2, 12))\n",
    "ytruth, ypred = compare_pred_vs_real(result_weekly_opt, data_df_weekly, '2019-03-03')\n",
    "ypred.astype(np.int64) - ytruth.astype(np.int64) "
   ]
  },
  {
   "cell_type": "code",
   "execution_count": 31,
   "metadata": {},
   "outputs": [],
   "source": [
    "# Execute this to find optimal parameters for different levels of aggregation in the dataset\n",
    "find_optimal_params(data_df, 'D')\n"
   ]
  },
  {
   "cell_type": "code",
   "execution_count": null,
   "metadata": {
    "collapsed": true
   },
   "outputs": [],
   "source": [
    "find_optimal_params(data_df_monthly, 'MS')"
   ]
  }
 ],
 "metadata": {
  "kernelspec": {
   "display_name": "Python 3",
   "language": "python",
   "name": "python3"
  },
  "language_info": {
   "codemirror_mode": {
    "name": "ipython",
    "version": 3
   },
   "file_extension": ".py",
   "mimetype": "text/x-python",
   "name": "python",
   "nbconvert_exporter": "python",
   "pygments_lexer": "ipython3",
   "version": "3.8.5"
  }
 },
 "nbformat": 4,
 "nbformat_minor": 2
}
