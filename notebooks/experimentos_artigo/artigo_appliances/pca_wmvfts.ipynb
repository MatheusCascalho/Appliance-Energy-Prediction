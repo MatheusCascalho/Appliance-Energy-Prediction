{
 "cells": [
  {
   "cell_type": "code",
   "execution_count": 1,
   "id": "informal-dayton",
   "metadata": {},
   "outputs": [
    {
     "data": {
      "text/plain": [
       "{'divide': 'warn', 'over': 'warn', 'under': 'ignore', 'invalid': 'warn'}"
      ]
     },
     "execution_count": 1,
     "metadata": {},
     "output_type": "execute_result"
    }
   ],
   "source": [
    "import sys\n",
    "sys.path.append(\"/home/hugo/projetos-doutorado/Appliance-Energy-Prediction\")\n",
    "import pandas as pd\n",
    "from pca_fts.PcaWeightedMVFTS import PcaWeightedMVFTS\n",
    "from pyFTS.benchmarks import Measures\n",
    "import matplotlib.pyplot as plt\n",
    "from pyFTS.common import Util\n",
    "import datetime\n",
    "import statistics\n",
    "import math\n",
    "import numpy as np\n",
    "from sklearn.metrics import mean_absolute_error\n",
    "from sklearn.metrics import r2_score\n",
    "np.seterr(divide='ignore', invalid='ignore')"
   ]
  },
  {
   "cell_type": "markdown",
   "id": "regulated-compatibility",
   "metadata": {},
   "source": [
    "## Aux functions"
   ]
  },
  {
   "cell_type": "code",
   "execution_count": 2,
   "id": "black-homeless",
   "metadata": {},
   "outputs": [],
   "source": [
    "def sample_first_prows(data, perc=0.75):\n",
    "    return data.head(int(len(data)*(perc)))"
   ]
  },
  {
   "cell_type": "code",
   "execution_count": 3,
   "id": "tropical-vessel",
   "metadata": {},
   "outputs": [],
   "source": [
    "# convert series to supervised learning\n",
    "def series_to_supervised(data, n_in=1, n_out=1, dropnan=True):\n",
    "\t\"\"\"\n",
    "\tFrame a time series as a supervised learning dataset.\n",
    "\tArguments:\n",
    "\t\tdata: Sequence of observations as a list or NumPy array.\n",
    "\t\tn_in: Number of lag observations as input (X).\n",
    "\t\tn_out: Number of observations as output (y).\n",
    "\t\tdropnan: Boolean whether or not to drop rows with NaN values.\n",
    "\tReturns:\n",
    "\t\tPandas DataFrame of series framed for supervised learning.\n",
    "\t\"\"\"\n",
    "\tn_vars = 1 if type(data) is list else data.shape[1]\n",
    "\tdf = pd.DataFrame(data)\n",
    "\tcols, names = list(), list()\n",
    "\t# input sequence (t-n, ... t-1)\n",
    "\tfor i in range(n_in, 0, -1):\n",
    "\t\tcols.append(df.shift(i))\n",
    "\t\tnames += [('var%d(t-%d)' % (j+1, i)) for j in range(n_vars)]\n",
    "\t# forecast sequence (t, t+1, ... t+n)\n",
    "\tfor i in range(0, n_out):\n",
    "\t\tcols.append(df.shift(-i))\n",
    "\t\tif i == 0:\n",
    "\t\t\tnames += [('var%d(t)' % (j+1)) for j in range(n_vars)]\n",
    "\t\telse:\n",
    "\t\t\tnames += [('var%d(t+%d)' % (j+1, i)) for j in range(n_vars)]\n",
    "\t# put it all together\n",
    "\tagg = pd.concat(cols, axis=1)\n",
    "\tagg.columns = names\n",
    "\t# drop rows with NaN values\n",
    "\tif dropnan:\n",
    "\t\tagg.dropna(inplace=True)\n",
    "\treturn agg"
   ]
  },
  {
   "cell_type": "code",
   "execution_count": 4,
   "id": "frozen-hudson",
   "metadata": {},
   "outputs": [],
   "source": [
    "def clean_dataset(df):\n",
    "    assert isinstance(df, pd.DataFrame) \n",
    "    df.dropna(inplace=True)\n",
    "    indices_to_keep = ~df.isin([np.nan, np.inf, -np.inf]).any(1)\n",
    "    return df[indices_to_keep].astype(np.float64)"
   ]
  },
  {
   "cell_type": "code",
   "execution_count": 5,
   "id": "biblical-adjustment",
   "metadata": {},
   "outputs": [],
   "source": [
    "def cal_nrmse(rmse, y):\n",
    "    x = max(y)-min(y)\n",
    "    return (rmse/x)"
   ]
  },
  {
   "cell_type": "code",
   "execution_count": 6,
   "id": "personalized-carnival",
   "metadata": {},
   "outputs": [],
   "source": [
    "# def mae(targets, forecasts):\n",
    "#     sum_error = 0.0\n",
    "#     for i in range(len(targets)):\n",
    "#         sum_error += abs(forecasts[i] - targets[i])\n",
    "#     return sum_error / float(len(targets))\n",
    "# #     if isinstance(targets, list):\n",
    "# #         targets = np.array(targets)\n",
    "# #     if isinstance(forecasts, list):\n",
    "# #         forecasts = np.array(forecasts)\n",
    "# #     return np.nanmean(np.abs(np.subtract(targets, forecasts), targets)) * 100"
   ]
  },
  {
   "cell_type": "markdown",
   "id": "terminal-concord",
   "metadata": {},
   "source": [
    "## Dataset Energy Appliance"
   ]
  },
  {
   "cell_type": "code",
   "execution_count": 7,
   "id": "selective-dealer",
   "metadata": {},
   "outputs": [
    {
     "data": {
      "text/html": [
       "<div>\n",
       "<style scoped>\n",
       "    .dataframe tbody tr th:only-of-type {\n",
       "        vertical-align: middle;\n",
       "    }\n",
       "\n",
       "    .dataframe tbody tr th {\n",
       "        vertical-align: top;\n",
       "    }\n",
       "\n",
       "    .dataframe thead th {\n",
       "        text-align: right;\n",
       "    }\n",
       "</style>\n",
       "<table border=\"1\" class=\"dataframe\">\n",
       "  <thead>\n",
       "    <tr style=\"text-align: right;\">\n",
       "      <th></th>\n",
       "      <th>Appliances</th>\n",
       "      <th>lights</th>\n",
       "      <th>T1</th>\n",
       "      <th>RH_1</th>\n",
       "      <th>T2</th>\n",
       "      <th>RH_2</th>\n",
       "      <th>T3</th>\n",
       "      <th>RH_3</th>\n",
       "      <th>T4</th>\n",
       "      <th>RH_4</th>\n",
       "      <th>...</th>\n",
       "      <th>T8</th>\n",
       "      <th>RH_8</th>\n",
       "      <th>T9</th>\n",
       "      <th>RH_9</th>\n",
       "      <th>T_out</th>\n",
       "      <th>Press_mm_hg</th>\n",
       "      <th>RH_out</th>\n",
       "      <th>Windspeed</th>\n",
       "      <th>Visibility</th>\n",
       "      <th>Tdewpoint</th>\n",
       "    </tr>\n",
       "  </thead>\n",
       "  <tbody>\n",
       "    <tr>\n",
       "      <th>0</th>\n",
       "      <td>60.0</td>\n",
       "      <td>30.0</td>\n",
       "      <td>19.890000</td>\n",
       "      <td>47.596667</td>\n",
       "      <td>19.200000</td>\n",
       "      <td>44.790000</td>\n",
       "      <td>19.790000</td>\n",
       "      <td>44.730000</td>\n",
       "      <td>19.000000</td>\n",
       "      <td>45.566667</td>\n",
       "      <td>...</td>\n",
       "      <td>18.2000</td>\n",
       "      <td>48.900000</td>\n",
       "      <td>17.033333</td>\n",
       "      <td>45.5300</td>\n",
       "      <td>6.600000</td>\n",
       "      <td>733.5</td>\n",
       "      <td>92.000000</td>\n",
       "      <td>7.000000</td>\n",
       "      <td>63.000000</td>\n",
       "      <td>5.300000</td>\n",
       "    </tr>\n",
       "    <tr>\n",
       "      <th>1</th>\n",
       "      <td>60.0</td>\n",
       "      <td>30.0</td>\n",
       "      <td>19.890000</td>\n",
       "      <td>46.693333</td>\n",
       "      <td>19.200000</td>\n",
       "      <td>44.722500</td>\n",
       "      <td>19.790000</td>\n",
       "      <td>44.790000</td>\n",
       "      <td>19.000000</td>\n",
       "      <td>45.992500</td>\n",
       "      <td>...</td>\n",
       "      <td>18.2000</td>\n",
       "      <td>48.863333</td>\n",
       "      <td>17.066667</td>\n",
       "      <td>45.5600</td>\n",
       "      <td>6.483333</td>\n",
       "      <td>733.6</td>\n",
       "      <td>92.000000</td>\n",
       "      <td>6.666667</td>\n",
       "      <td>59.166667</td>\n",
       "      <td>5.200000</td>\n",
       "    </tr>\n",
       "    <tr>\n",
       "      <th>2</th>\n",
       "      <td>50.0</td>\n",
       "      <td>30.0</td>\n",
       "      <td>19.890000</td>\n",
       "      <td>46.300000</td>\n",
       "      <td>19.200000</td>\n",
       "      <td>44.626667</td>\n",
       "      <td>19.790000</td>\n",
       "      <td>44.933333</td>\n",
       "      <td>18.926667</td>\n",
       "      <td>45.890000</td>\n",
       "      <td>...</td>\n",
       "      <td>18.2000</td>\n",
       "      <td>48.730000</td>\n",
       "      <td>17.000000</td>\n",
       "      <td>45.5000</td>\n",
       "      <td>6.366667</td>\n",
       "      <td>733.7</td>\n",
       "      <td>92.000000</td>\n",
       "      <td>6.333333</td>\n",
       "      <td>55.333333</td>\n",
       "      <td>5.100000</td>\n",
       "    </tr>\n",
       "    <tr>\n",
       "      <th>3</th>\n",
       "      <td>50.0</td>\n",
       "      <td>40.0</td>\n",
       "      <td>19.890000</td>\n",
       "      <td>46.066667</td>\n",
       "      <td>19.200000</td>\n",
       "      <td>44.590000</td>\n",
       "      <td>19.790000</td>\n",
       "      <td>45.000000</td>\n",
       "      <td>18.890000</td>\n",
       "      <td>45.723333</td>\n",
       "      <td>...</td>\n",
       "      <td>18.1000</td>\n",
       "      <td>48.590000</td>\n",
       "      <td>17.000000</td>\n",
       "      <td>45.4000</td>\n",
       "      <td>6.250000</td>\n",
       "      <td>733.8</td>\n",
       "      <td>92.000000</td>\n",
       "      <td>6.000000</td>\n",
       "      <td>51.500000</td>\n",
       "      <td>5.000000</td>\n",
       "    </tr>\n",
       "    <tr>\n",
       "      <th>4</th>\n",
       "      <td>60.0</td>\n",
       "      <td>40.0</td>\n",
       "      <td>19.890000</td>\n",
       "      <td>46.333333</td>\n",
       "      <td>19.200000</td>\n",
       "      <td>44.530000</td>\n",
       "      <td>19.790000</td>\n",
       "      <td>45.000000</td>\n",
       "      <td>18.890000</td>\n",
       "      <td>45.530000</td>\n",
       "      <td>...</td>\n",
       "      <td>18.1000</td>\n",
       "      <td>48.590000</td>\n",
       "      <td>17.000000</td>\n",
       "      <td>45.4000</td>\n",
       "      <td>6.133333</td>\n",
       "      <td>733.9</td>\n",
       "      <td>92.000000</td>\n",
       "      <td>5.666667</td>\n",
       "      <td>47.666667</td>\n",
       "      <td>4.900000</td>\n",
       "    </tr>\n",
       "    <tr>\n",
       "      <th>...</th>\n",
       "      <td>...</td>\n",
       "      <td>...</td>\n",
       "      <td>...</td>\n",
       "      <td>...</td>\n",
       "      <td>...</td>\n",
       "      <td>...</td>\n",
       "      <td>...</td>\n",
       "      <td>...</td>\n",
       "      <td>...</td>\n",
       "      <td>...</td>\n",
       "      <td>...</td>\n",
       "      <td>...</td>\n",
       "      <td>...</td>\n",
       "      <td>...</td>\n",
       "      <td>...</td>\n",
       "      <td>...</td>\n",
       "      <td>...</td>\n",
       "      <td>...</td>\n",
       "      <td>...</td>\n",
       "      <td>...</td>\n",
       "      <td>...</td>\n",
       "    </tr>\n",
       "    <tr>\n",
       "      <th>19730</th>\n",
       "      <td>100.0</td>\n",
       "      <td>0.0</td>\n",
       "      <td>25.566667</td>\n",
       "      <td>46.560000</td>\n",
       "      <td>25.890000</td>\n",
       "      <td>42.025714</td>\n",
       "      <td>27.200000</td>\n",
       "      <td>41.163333</td>\n",
       "      <td>24.700000</td>\n",
       "      <td>45.590000</td>\n",
       "      <td>...</td>\n",
       "      <td>24.7000</td>\n",
       "      <td>50.074000</td>\n",
       "      <td>23.200000</td>\n",
       "      <td>46.7900</td>\n",
       "      <td>22.733333</td>\n",
       "      <td>755.2</td>\n",
       "      <td>55.666667</td>\n",
       "      <td>3.333333</td>\n",
       "      <td>23.666667</td>\n",
       "      <td>13.333333</td>\n",
       "    </tr>\n",
       "    <tr>\n",
       "      <th>19731</th>\n",
       "      <td>90.0</td>\n",
       "      <td>0.0</td>\n",
       "      <td>25.500000</td>\n",
       "      <td>46.500000</td>\n",
       "      <td>25.754000</td>\n",
       "      <td>42.080000</td>\n",
       "      <td>27.133333</td>\n",
       "      <td>41.223333</td>\n",
       "      <td>24.700000</td>\n",
       "      <td>45.590000</td>\n",
       "      <td>...</td>\n",
       "      <td>24.7000</td>\n",
       "      <td>49.790000</td>\n",
       "      <td>23.200000</td>\n",
       "      <td>46.7900</td>\n",
       "      <td>22.600000</td>\n",
       "      <td>755.2</td>\n",
       "      <td>56.000000</td>\n",
       "      <td>3.500000</td>\n",
       "      <td>24.500000</td>\n",
       "      <td>13.300000</td>\n",
       "    </tr>\n",
       "    <tr>\n",
       "      <th>19732</th>\n",
       "      <td>270.0</td>\n",
       "      <td>10.0</td>\n",
       "      <td>25.500000</td>\n",
       "      <td>46.596667</td>\n",
       "      <td>25.628571</td>\n",
       "      <td>42.768571</td>\n",
       "      <td>27.050000</td>\n",
       "      <td>41.690000</td>\n",
       "      <td>24.700000</td>\n",
       "      <td>45.730000</td>\n",
       "      <td>...</td>\n",
       "      <td>24.7000</td>\n",
       "      <td>49.660000</td>\n",
       "      <td>23.200000</td>\n",
       "      <td>46.7900</td>\n",
       "      <td>22.466667</td>\n",
       "      <td>755.2</td>\n",
       "      <td>56.333333</td>\n",
       "      <td>3.666667</td>\n",
       "      <td>25.333333</td>\n",
       "      <td>13.266667</td>\n",
       "    </tr>\n",
       "    <tr>\n",
       "      <th>19733</th>\n",
       "      <td>420.0</td>\n",
       "      <td>10.0</td>\n",
       "      <td>25.500000</td>\n",
       "      <td>46.990000</td>\n",
       "      <td>25.414000</td>\n",
       "      <td>43.036000</td>\n",
       "      <td>26.890000</td>\n",
       "      <td>41.290000</td>\n",
       "      <td>24.700000</td>\n",
       "      <td>45.790000</td>\n",
       "      <td>...</td>\n",
       "      <td>24.6625</td>\n",
       "      <td>49.518750</td>\n",
       "      <td>23.200000</td>\n",
       "      <td>46.8175</td>\n",
       "      <td>22.333333</td>\n",
       "      <td>755.2</td>\n",
       "      <td>56.666667</td>\n",
       "      <td>3.833333</td>\n",
       "      <td>26.166667</td>\n",
       "      <td>13.233333</td>\n",
       "    </tr>\n",
       "    <tr>\n",
       "      <th>19734</th>\n",
       "      <td>430.0</td>\n",
       "      <td>10.0</td>\n",
       "      <td>25.500000</td>\n",
       "      <td>46.600000</td>\n",
       "      <td>25.264286</td>\n",
       "      <td>42.971429</td>\n",
       "      <td>26.823333</td>\n",
       "      <td>41.156667</td>\n",
       "      <td>24.700000</td>\n",
       "      <td>45.963333</td>\n",
       "      <td>...</td>\n",
       "      <td>24.7360</td>\n",
       "      <td>49.736000</td>\n",
       "      <td>23.200000</td>\n",
       "      <td>46.8450</td>\n",
       "      <td>22.200000</td>\n",
       "      <td>755.2</td>\n",
       "      <td>57.000000</td>\n",
       "      <td>4.000000</td>\n",
       "      <td>27.000000</td>\n",
       "      <td>13.200000</td>\n",
       "    </tr>\n",
       "  </tbody>\n",
       "</table>\n",
       "<p>19735 rows × 26 columns</p>\n",
       "</div>"
      ],
      "text/plain": [
       "       Appliances  lights         T1       RH_1         T2       RH_2  \\\n",
       "0            60.0    30.0  19.890000  47.596667  19.200000  44.790000   \n",
       "1            60.0    30.0  19.890000  46.693333  19.200000  44.722500   \n",
       "2            50.0    30.0  19.890000  46.300000  19.200000  44.626667   \n",
       "3            50.0    40.0  19.890000  46.066667  19.200000  44.590000   \n",
       "4            60.0    40.0  19.890000  46.333333  19.200000  44.530000   \n",
       "...           ...     ...        ...        ...        ...        ...   \n",
       "19730       100.0     0.0  25.566667  46.560000  25.890000  42.025714   \n",
       "19731        90.0     0.0  25.500000  46.500000  25.754000  42.080000   \n",
       "19732       270.0    10.0  25.500000  46.596667  25.628571  42.768571   \n",
       "19733       420.0    10.0  25.500000  46.990000  25.414000  43.036000   \n",
       "19734       430.0    10.0  25.500000  46.600000  25.264286  42.971429   \n",
       "\n",
       "              T3       RH_3         T4       RH_4  ...       T8       RH_8  \\\n",
       "0      19.790000  44.730000  19.000000  45.566667  ...  18.2000  48.900000   \n",
       "1      19.790000  44.790000  19.000000  45.992500  ...  18.2000  48.863333   \n",
       "2      19.790000  44.933333  18.926667  45.890000  ...  18.2000  48.730000   \n",
       "3      19.790000  45.000000  18.890000  45.723333  ...  18.1000  48.590000   \n",
       "4      19.790000  45.000000  18.890000  45.530000  ...  18.1000  48.590000   \n",
       "...          ...        ...        ...        ...  ...      ...        ...   \n",
       "19730  27.200000  41.163333  24.700000  45.590000  ...  24.7000  50.074000   \n",
       "19731  27.133333  41.223333  24.700000  45.590000  ...  24.7000  49.790000   \n",
       "19732  27.050000  41.690000  24.700000  45.730000  ...  24.7000  49.660000   \n",
       "19733  26.890000  41.290000  24.700000  45.790000  ...  24.6625  49.518750   \n",
       "19734  26.823333  41.156667  24.700000  45.963333  ...  24.7360  49.736000   \n",
       "\n",
       "              T9     RH_9      T_out  Press_mm_hg     RH_out  Windspeed  \\\n",
       "0      17.033333  45.5300   6.600000        733.5  92.000000   7.000000   \n",
       "1      17.066667  45.5600   6.483333        733.6  92.000000   6.666667   \n",
       "2      17.000000  45.5000   6.366667        733.7  92.000000   6.333333   \n",
       "3      17.000000  45.4000   6.250000        733.8  92.000000   6.000000   \n",
       "4      17.000000  45.4000   6.133333        733.9  92.000000   5.666667   \n",
       "...          ...      ...        ...          ...        ...        ...   \n",
       "19730  23.200000  46.7900  22.733333        755.2  55.666667   3.333333   \n",
       "19731  23.200000  46.7900  22.600000        755.2  56.000000   3.500000   \n",
       "19732  23.200000  46.7900  22.466667        755.2  56.333333   3.666667   \n",
       "19733  23.200000  46.8175  22.333333        755.2  56.666667   3.833333   \n",
       "19734  23.200000  46.8450  22.200000        755.2  57.000000   4.000000   \n",
       "\n",
       "       Visibility  Tdewpoint  \n",
       "0       63.000000   5.300000  \n",
       "1       59.166667   5.200000  \n",
       "2       55.333333   5.100000  \n",
       "3       51.500000   5.000000  \n",
       "4       47.666667   4.900000  \n",
       "...           ...        ...  \n",
       "19730   23.666667  13.333333  \n",
       "19731   24.500000  13.300000  \n",
       "19732   25.333333  13.266667  \n",
       "19733   26.166667  13.233333  \n",
       "19734   27.000000  13.200000  \n",
       "\n",
       "[19735 rows x 26 columns]"
      ]
     },
     "execution_count": 7,
     "metadata": {},
     "output_type": "execute_result"
    }
   ],
   "source": [
    "filename = '/home/hugo/projetos-doutorado/Appliance-Energy-Prediction/data/energydata_complete.csv'\n",
    "data = pd.read_csv(filename)\n",
    "data.pop('date')\n",
    "data.pop('rv1')\n",
    "data.pop('rv2')\n",
    "data.dropna(inplace=True)\n",
    "data = clean_dataset(data)\n",
    "data"
   ]
  },
  {
   "cell_type": "code",
   "execution_count": 8,
   "id": "accepting-maine",
   "metadata": {},
   "outputs": [],
   "source": [
    "# values = data.values\n",
    "# values"
   ]
  },
  {
   "cell_type": "markdown",
   "id": "communist-forestry",
   "metadata": {},
   "source": [
    "### Dataset Energy Appliance: columns"
   ]
  },
  {
   "cell_type": "code",
   "execution_count": 9,
   "id": "powerful-vehicle",
   "metadata": {},
   "outputs": [
    {
     "name": "stdout",
     "output_type": "stream",
     "text": [
      "['Appliances', 'lights', 'T1', 'RH_1', 'T2', 'RH_2', 'T3', 'RH_3', 'T4', 'RH_4', 'T5', 'RH_5', 'T6', 'RH_6', 'T7', 'RH_7', 'T8', 'RH_8', 'T9', 'RH_9', 'T_out', 'Press_mm_hg', 'RH_out', 'Windspeed', 'Visibility', 'Tdewpoint', 'Appliances_t+1']\n"
     ]
    }
   ],
   "source": [
    "cols = data.columns\n",
    "list_cols = list(cols)\n",
    "list_cols.append('Appliances_t+1')\n",
    "print(list_cols)"
   ]
  },
  {
   "cell_type": "markdown",
   "id": "enclosed-buying",
   "metadata": {},
   "source": [
    "### Dataset Energy Appliance: Preprocessing, Lag = 1, t+1"
   ]
  },
  {
   "cell_type": "code",
   "execution_count": 10,
   "id": "pregnant-terror",
   "metadata": {},
   "outputs": [
    {
     "ename": "NameError",
     "evalue": "name 'values' is not defined",
     "output_type": "error",
     "traceback": [
      "\u001b[0;31m---------------------------------------------------------------------------\u001b[0m",
      "\u001b[0;31mNameError\u001b[0m                                 Traceback (most recent call last)",
      "\u001b[0;32m<ipython-input-10-a260b18b95aa>\u001b[0m in \u001b[0;36m<module>\u001b[0;34m\u001b[0m\n\u001b[1;32m      1\u001b[0m \u001b[0;31m# frame as supervised learning\u001b[0m\u001b[0;34m\u001b[0m\u001b[0;34m\u001b[0m\u001b[0;34m\u001b[0m\u001b[0m\n\u001b[0;32m----> 2\u001b[0;31m \u001b[0mreframed\u001b[0m \u001b[0;34m=\u001b[0m \u001b[0mseries_to_supervised\u001b[0m\u001b[0;34m(\u001b[0m\u001b[0mvalues\u001b[0m\u001b[0;34m,\u001b[0m \u001b[0;36m1\u001b[0m\u001b[0;34m,\u001b[0m \u001b[0;36m1\u001b[0m\u001b[0;34m)\u001b[0m\u001b[0;34m\u001b[0m\u001b[0;34m\u001b[0m\u001b[0m\n\u001b[0m\u001b[1;32m      3\u001b[0m \u001b[0;31m# drop columns we don't want to predict\u001b[0m\u001b[0;34m\u001b[0m\u001b[0;34m\u001b[0m\u001b[0;34m\u001b[0m\u001b[0m\n\u001b[1;32m      4\u001b[0m \u001b[0mreframed\u001b[0m\u001b[0;34m.\u001b[0m\u001b[0mdrop\u001b[0m\u001b[0;34m(\u001b[0m\u001b[0mreframed\u001b[0m\u001b[0;34m.\u001b[0m\u001b[0mcolumns\u001b[0m\u001b[0;34m[\u001b[0m\u001b[0;34m[\u001b[0m\u001b[0;36m27\u001b[0m\u001b[0;34m,\u001b[0m\u001b[0;36m28\u001b[0m\u001b[0;34m,\u001b[0m\u001b[0;36m29\u001b[0m\u001b[0;34m,\u001b[0m\u001b[0;36m30\u001b[0m\u001b[0;34m,\u001b[0m\u001b[0;36m31\u001b[0m\u001b[0;34m,\u001b[0m\u001b[0;36m32\u001b[0m\u001b[0;34m,\u001b[0m\u001b[0;36m33\u001b[0m\u001b[0;34m,\u001b[0m\u001b[0;36m34\u001b[0m\u001b[0;34m,\u001b[0m\u001b[0;36m35\u001b[0m\u001b[0;34m,\u001b[0m\u001b[0;36m36\u001b[0m\u001b[0;34m,\u001b[0m\u001b[0;36m37\u001b[0m\u001b[0;34m,\u001b[0m\u001b[0;36m38\u001b[0m\u001b[0;34m,\u001b[0m\u001b[0;36m39\u001b[0m\u001b[0;34m,\u001b[0m\u001b[0;36m40\u001b[0m\u001b[0;34m,\u001b[0m\u001b[0;36m41\u001b[0m\u001b[0;34m,\u001b[0m\u001b[0;36m42\u001b[0m\u001b[0;34m,\u001b[0m\u001b[0;36m43\u001b[0m\u001b[0;34m,\u001b[0m\u001b[0;36m44\u001b[0m\u001b[0;34m,\u001b[0m\u001b[0;36m45\u001b[0m\u001b[0;34m,\u001b[0m\u001b[0;36m46\u001b[0m\u001b[0;34m,\u001b[0m\u001b[0;36m47\u001b[0m\u001b[0;34m,\u001b[0m\u001b[0;36m48\u001b[0m\u001b[0;34m,\u001b[0m\u001b[0;36m49\u001b[0m\u001b[0;34m,\u001b[0m\u001b[0;36m50\u001b[0m\u001b[0;34m,\u001b[0m\u001b[0;36m51\u001b[0m\u001b[0;34m]\u001b[0m\u001b[0;34m]\u001b[0m\u001b[0;34m,\u001b[0m \u001b[0maxis\u001b[0m\u001b[0;34m=\u001b[0m\u001b[0;36m1\u001b[0m\u001b[0;34m,\u001b[0m \u001b[0minplace\u001b[0m\u001b[0;34m=\u001b[0m\u001b[0;32mTrue\u001b[0m\u001b[0;34m)\u001b[0m\u001b[0;34m\u001b[0m\u001b[0;34m\u001b[0m\u001b[0m\n\u001b[1;32m      5\u001b[0m \u001b[0;31m#reframed.drop(reframed.columns[[0,27,28,29,30,31,32,33,34,35,36,37,38,39,40,41,42,43,44,45,46,47,48,49,50,51]], axis=1, inplace=True)\u001b[0m\u001b[0;34m\u001b[0m\u001b[0;34m\u001b[0m\u001b[0;34m\u001b[0m\u001b[0m\n",
      "\u001b[0;31mNameError\u001b[0m: name 'values' is not defined"
     ]
    }
   ],
   "source": [
    "# frame as supervised learning\n",
    "reframed = series_to_supervised(values, 1, 1)\n",
    "# drop columns we don't want to predict\n",
    "reframed.drop(reframed.columns[[27,28,29,30,31,32,33,34,35,36,37,38,39,40,41,42,43,44,45,46,47,48,49,50,51]], axis=1, inplace=True)\n",
    "#reframed.drop(reframed.columns[[0,27,28,29,30,31,32,33,34,35,36,37,38,39,40,41,42,43,44,45,46,47,48,49,50,51]], axis=1, inplace=True)\n",
    "reframed.head()"
   ]
  },
  {
   "cell_type": "code",
   "execution_count": null,
   "id": "continued-compression",
   "metadata": {},
   "outputs": [],
   "source": [
    "data = pd.DataFrame(reframed.values,columns=list_cols)\n",
    "data = clean_dataset(data)\n",
    "data.head()"
   ]
  },
  {
   "cell_type": "markdown",
   "id": "sufficient-plain",
   "metadata": {},
   "source": [
    "## Model: PcaWeightedMVFTS - PCA-MVFTS"
   ]
  },
  {
   "cell_type": "code",
   "execution_count": null,
   "id": "signal-security",
   "metadata": {},
   "outputs": [],
   "source": [
    "pca_wmvfts = PcaWeightedMVFTS(n_components = 3,n_part = 50,endogen_variable='Appliances')"
   ]
  },
  {
   "cell_type": "code",
   "execution_count": null,
   "id": "worthy-daniel",
   "metadata": {
    "scrolled": true
   },
   "outputs": [],
   "source": [
    "result = {\n",
    "     \"window\": [],\n",
    "     \"rmse\": [],\n",
    "     \"mape\": [],\n",
    "     \"smape\": [],\n",
    "     \"mae\": [],\n",
    "     \"nrmse\":[]\n",
    "}\n",
    "\n",
    "num_fuzzy_rules = {\n",
    "    \"window\": [],\n",
    "    \"qtd\": []\n",
    "}\n",
    "\n",
    "order = 1\n",
    "tam = len(data)\n",
    "n_windows = 30\n",
    "windows_length = math.floor(tam / n_windows)\n",
    "for ct, ttrain, ttest in Util.sliding_window(data, windows_length, 0.75, inc=1):\n",
    "    if len(ttest) > 0:\n",
    "        \n",
    "        data_train = ttrain.loc[:,'Appliances':'Tdewpoint']\n",
    "        data_test = ttest.loc[:,'lights':'Appliances_t+1']\n",
    "        \n",
    "        #ALtera o nome da columa porque o modelo utiliza esse label como variável endogena \n",
    "        data_test.rename(columns = {'Appliances_t+1': 'Appliances'}, inplace = True)\n",
    "        \n",
    "        #print(data_test)\n",
    "        \n",
    "        print('-' * 20)\n",
    "        print(f'training window {(ct)}')\n",
    "        model, pca_reduced_train = pca_wmvfts.run_train_model(data_train)\n",
    "        forecast, forecast_self, pca_reduced_test = pca_wmvfts.run_test_model(model,data_test)\n",
    "                    \n",
    "        num_fuzzy_rules[\"window\"].append(ct)\n",
    "        num_fuzzy_rules[\"qtd\"].append(len(model))\n",
    "        \n",
    "        #Teste e cálculo dos erros da previsão\n",
    "        #appliance_test = ttest['Appliances_t+1'].values\n",
    "        \n",
    "        #Teste e cálculo dos erros da previsão - valor use  é Appliances o use Appliances_t+1 --> label igual por causa do model\n",
    "        print(\"[{0: %H:%M:%S}]\".format(datetime.datetime.now()) + f\" getting statistics\")\n",
    "        rmse = round(Measures.rmse(pca_reduced_test['Appliances'],forecast),3)\n",
    "        mape = round(Measures.mape(pca_reduced_test['Appliances'],forecast),3)\n",
    "        smape = round(Measures.smape(pca_reduced_test['Appliances'],forecast),3)\n",
    "        \n",
    "        forecast = pd.DataFrame(forecast)\n",
    "        forecast.fillna(forecast.mean(),inplace=True)\n",
    "        forecast = np.array(forecast).reshape(-1)\n",
    "        mae = round(mean_absolute_error(pca_reduced_test['Appliances'], forecast),2)\n",
    "        \n",
    "        nrmse = round(cal_nrmse(rmse, pca_reduced_test['Appliances']),3)\n",
    "        \n",
    "#         # Grafico de comparação Original x Previsto para cada janela\n",
    "#         fig, ax = plt.subplots(nrows=1, ncols=1, figsize=[15, 3])\n",
    "#         ax.plot(pca_reduced_test['Appliances'], label='Original')\n",
    "#         ax.plot(forecast, label='Forecast')\n",
    "#         handles, labels = ax.get_legend_handles_labels()\n",
    "#         lgd = ax.legend(handles, labels, loc=2, bbox_to_anchor=(1, 1))\n",
    "#         plt.show()\n",
    "        \n",
    "        result[\"rmse\"].append(rmse)\n",
    "        result[\"mape\"].append(mape)\n",
    "        result[\"smape\"].append(smape)\n",
    "        result[\"mae\"].append(mae)\n",
    "        result[\"nrmse\"].append(nrmse)\n",
    "        result[\"window\"].append(ct)\n",
    "        \n",
    "measures = pd.DataFrame(result)\n",
    "rules = pd.DataFrame(num_fuzzy_rules)\n",
    "\n"
   ]
  },
  {
   "cell_type": "code",
   "execution_count": null,
   "id": "casual-television",
   "metadata": {},
   "outputs": [],
   "source": [
    "measures"
   ]
  },
  {
   "cell_type": "code",
   "execution_count": null,
   "id": "statutory-logistics",
   "metadata": {},
   "outputs": [],
   "source": [
    "measures.to_csv (r'win_pca_wmvfts_aec.csv', index = False, header=True)"
   ]
  },
  {
   "cell_type": "code",
   "execution_count": null,
   "id": "understood-narrow",
   "metadata": {},
   "outputs": [],
   "source": [
    "rules "
   ]
  },
  {
   "cell_type": "code",
   "execution_count": null,
   "id": "sufficient-burlington",
   "metadata": {},
   "outputs": [],
   "source": [
    "avg_rules = round(statistics.mean(rules.loc[:,'qtd']),3)\n",
    "avg_rules"
   ]
  },
  {
   "cell_type": "markdown",
   "id": "descending-rings",
   "metadata": {},
   "source": [
    "### Mean Statistics PCA-WMVFTS:"
   ]
  },
  {
   "cell_type": "code",
   "execution_count": null,
   "id": "qualified-distinction",
   "metadata": {},
   "outputs": [],
   "source": [
    "final_result = {\n",
    "     \"rmse\": [],\n",
    "     \"mape\": [],\n",
    "     \"smape\": [],\n",
    "     \"mae\": [], \n",
    "     \"nrmse\":[],\n",
    "     \"rmse_std\": [],\n",
    "     \"mae_std\": [],\n",
    "     \"mape_std\": [],\n",
    "     \"smape_std\": [],\n",
    "     \"nrmse_std\": [],\n",
    "     \"rules\":[]\n",
    "}\n",
    "\n",
    "final_result[\"rmse\"].append(round(statistics.mean(measures['rmse']),3))\n",
    "final_result[\"mape\"].append(round(statistics.mean(measures['mape']),3))\n",
    "final_result[\"smape\"].append(round(statistics.mean(measures['smape']),3))\n",
    "final_result[\"mae\"].append(round(statistics.mean(measures['mae']),3))\n",
    "final_result[\"nrmse\"].append(round(statistics.mean(measures['nrmse']),3))\n",
    "\n",
    "final_result[\"rmse_std\"].append(round(statistics.stdev(measures['rmse']),3))\n",
    "final_result[\"mape_std\"].append(round(statistics.stdev(measures['mape']),3))\n",
    "final_result[\"smape_std\"].append(round(statistics.stdev(measures['smape']),3))\n",
    "final_result[\"mae_std\"].append(round(statistics.stdev(measures['mae']),3))\n",
    "final_result[\"nrmse_std\"].append(round(statistics.stdev(measures['nrmse']),3))\n",
    "\n",
    "final_result[\"rules\"].append(round(statistics.mean(rules.loc[:,'qtd']),3))\n",
    "\n",
    "final_measures_pca = pd.DataFrame(final_result)\n",
    "\n",
    "print(\"Mean Statistics PCA-WMVFTS (test): \")\n",
    "final_measures_pca"
   ]
  },
  {
   "cell_type": "code",
   "execution_count": null,
   "id": "civil-greensboro",
   "metadata": {},
   "outputs": [],
   "source": [
    "final_measures_pca.to_csv (r'pca_wmvfts_aec.csv', index = False, header=True)"
   ]
  },
  {
   "cell_type": "code",
   "execution_count": null,
   "id": "diagnostic-analyst",
   "metadata": {},
   "outputs": [],
   "source": [
    "# rmse\tmape\tsmape\tmae\n",
    "# 4.878914\t1.747223\t0.741761\t0.741761"
   ]
  },
  {
   "cell_type": "markdown",
   "id": "found-cradle",
   "metadata": {},
   "source": [
    "### Extras "
   ]
  },
  {
   "cell_type": "code",
   "execution_count": null,
   "id": "chronic-clarity",
   "metadata": {},
   "outputs": [],
   "source": [
    "pca_reduced_train"
   ]
  },
  {
   "cell_type": "code",
   "execution_count": null,
   "id": "better-document",
   "metadata": {},
   "outputs": [],
   "source": [
    "print(model)"
   ]
  },
  {
   "cell_type": "code",
   "execution_count": null,
   "id": "cleared-collins",
   "metadata": {},
   "outputs": [],
   "source": [
    "# train = sample_first_prows(data,0.75)\n",
    "# test = data.iloc[max(train.index):]\n",
    "# y_test = data.iloc[max(train.index):]['Appliances_t+1'].values"
   ]
  },
  {
   "cell_type": "code",
   "execution_count": null,
   "id": "developed-laptop",
   "metadata": {},
   "outputs": [],
   "source": [
    "# pca_wmvfts = PcaWeightedMVFTS(n_components = 2,\n",
    "#                        endogen_variable = 'Appliances_t+1',\n",
    "#                        n_part = 50)"
   ]
  },
  {
   "cell_type": "code",
   "execution_count": null,
   "id": "copyrighted-gregory",
   "metadata": {
    "scrolled": true
   },
   "outputs": [],
   "source": [
    "# model, pca_reduced_train = pca_wmvfts.run_train_model(train)\n",
    "# forecast, forecast_self, pca_reduced_test = pca_wmvfts.run_test_model(model,test)"
   ]
  },
  {
   "cell_type": "code",
   "execution_count": null,
   "id": "auburn-basketball",
   "metadata": {},
   "outputs": [],
   "source": [
    "#model.mvflrg"
   ]
  },
  {
   "cell_type": "code",
   "execution_count": null,
   "id": "smoking-desert",
   "metadata": {},
   "outputs": [],
   "source": [
    "# forecast_1 = model.predict(pca_reduced_test)"
   ]
  },
  {
   "cell_type": "code",
   "execution_count": null,
   "id": "contained-covering",
   "metadata": {},
   "outputs": [],
   "source": [
    "# Measures.rmse(y_test,forecast)"
   ]
  },
  {
   "cell_type": "code",
   "execution_count": null,
   "id": "detected-preview",
   "metadata": {},
   "outputs": [],
   "source": [
    "# Measures.rmse(forecast_1,y_test)"
   ]
  },
  {
   "cell_type": "code",
   "execution_count": null,
   "id": "historic-reference",
   "metadata": {},
   "outputs": [],
   "source": [
    "# Measures.rmse(y_test,forecast_self)"
   ]
  },
  {
   "cell_type": "code",
   "execution_count": null,
   "id": "assisted-sussex",
   "metadata": {},
   "outputs": [],
   "source": [
    "# fig, ax = plt.subplots(nrows=1, ncols=1, figsize=[15, 3])\n",
    "# ax.plot(y_test, label='Original')\n",
    "# ax.plot(forecast, label='Forecast')\n",
    "# handles, labels = ax.get_legend_handles_labels()\n",
    "# lgd = ax.legend(handles, labels, loc=2, bbox_to_anchor=(1, 1))\n",
    "# plt.show()\n"
   ]
  },
  {
   "cell_type": "code",
   "execution_count": null,
   "id": "desperate-airplane",
   "metadata": {},
   "outputs": [],
   "source": [
    "# diff = data.loc[:,'lights':'Tdewpoint']\n",
    "# diff = diff.diff()\n",
    "# diff['Appliances'] = data['Appliances']\n",
    "# data = diff.dropna()"
   ]
  }
 ],
 "metadata": {
  "kernelspec": {
   "display_name": "Python 3",
   "language": "python",
   "name": "python3"
  },
  "language_info": {
   "codemirror_mode": {
    "name": "ipython",
    "version": 3
   },
   "file_extension": ".py",
   "mimetype": "text/x-python",
   "name": "python",
   "nbconvert_exporter": "python",
   "pygments_lexer": "ipython3",
   "version": "3.8.5"
  }
 },
 "nbformat": 4,
 "nbformat_minor": 5
}
