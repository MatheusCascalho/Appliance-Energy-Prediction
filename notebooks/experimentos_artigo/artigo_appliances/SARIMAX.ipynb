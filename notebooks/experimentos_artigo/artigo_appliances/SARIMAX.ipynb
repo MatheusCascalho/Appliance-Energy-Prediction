{
 "cells": [
  {
   "cell_type": "code",
   "execution_count": 2,
   "id": "c1893871-1be5-452c-8178-4205d6d8c7c2",
   "metadata": {},
   "outputs": [],
   "source": [
    "import pandas as pd\n",
    "import numpy as np\n",
    "from datetime import datetime\n",
    "import matplotlib.pyplot as plt\n",
    "from statsmodels.tsa.arima.model import ARIMA\n",
    "import statsmodels.api as sm\n",
    "from pyFTS.benchmarks import Measures\n",
    "import math\n",
    "from pyFTS.common import Util\n",
    "import datetime\n",
    "import statistics\n",
    "from sklearn.preprocessing import MinMaxScaler, StandardScaler\n",
    "from pmdarima.arima import auto_arima\n",
    "from sklearn.metrics import mean_absolute_error\n",
    "from sklearn.metrics import r2_score"
   ]
  },
  {
   "cell_type": "markdown",
   "id": "manual-offset",
   "metadata": {},
   "source": [
    "## Aux functions"
   ]
  },
  {
   "cell_type": "code",
   "execution_count": 3,
   "id": "proved-output",
   "metadata": {},
   "outputs": [],
   "source": [
    "# convert series to supervised learning\n",
    "def series_to_supervised_miso(data, n_in, n_out, endog_var, dropnan=True):\n",
    "\t\"\"\"\n",
    "\tFrame a time series as a supervised learning dataset.\n",
    "\tArguments:\n",
    "\t\tdata: Sequence of observations as a list or NumPy array.\n",
    "\t\tn_in: Number of lag observations as input (X).\n",
    "\t\tn_out: Number of observations as output (y).\n",
    "\t\tdropnan: Boolean whether or not to drop rows with NaN values.\n",
    "\tReturns:\n",
    "\t\tPandas DataFrame of series framed for supervised learning.\n",
    "\t\"\"\"\n",
    "\tn_vars = 1 if type(data) is list else data.shape[1]\n",
    "\tdf = pd.DataFrame(data)\n",
    "\tcols, names = list(), list()\n",
    "\t# input sequence (t-n, ... t-1)\n",
    "\tfor i in range(n_in, 0, -1):\n",
    "\t\tcols.append(df.shift(i))\n",
    "\t\tnames += [(df.columns[j]+'(t-%d)' % (i)) for j in range(n_vars)]\n",
    "\t# forecast sequence (t, t+1, ... t+n)\n",
    "\tfor i in range(0, n_out):\n",
    "\t\tcols.append(df[endog_var].shift(-i))\n",
    "\t\tif i == 0:\n",
    "\t\t\tnames += [(endog_var+'(t)')]\n",
    "\t\telse:\n",
    "\t\t\tnames += [(endog_var+'(t+%d)' % (i))]\n",
    "\t# put it all together\n",
    "\tagg = pd.concat(cols, axis=1)\n",
    "\tagg.columns = names\n",
    "\t# drop rows with NaN values\n",
    "\tif dropnan:\n",
    "\t\tagg.dropna(inplace=True)\n",
    "\treturn agg"
   ]
  },
  {
   "cell_type": "code",
   "execution_count": 4,
   "id": "governmental-stomach",
   "metadata": {},
   "outputs": [],
   "source": [
    "def clean_dataset(df):\n",
    "    assert isinstance(df, pd.DataFrame) \n",
    "    df.dropna(inplace=True)\n",
    "    indices_to_keep = ~df.isin([np.nan, np.inf, -np.inf]).any(1)\n",
    "    return df[indices_to_keep].astype(np.float64)"
   ]
  },
  {
   "cell_type": "code",
   "execution_count": 5,
   "id": "unlike-newcastle",
   "metadata": {},
   "outputs": [],
   "source": [
    "def cal_nrmse(rmse, y):\n",
    "    x = max(y)-min(y)\n",
    "    return (rmse/x)"
   ]
  },
  {
   "cell_type": "markdown",
   "id": "together-deployment",
   "metadata": {},
   "source": [
    "## Dataset Energy Appliances"
   ]
  },
  {
   "cell_type": "code",
   "execution_count": 6,
   "id": "4b63ff4b-f465-495e-b863-2ea7434ca0bc",
   "metadata": {
    "scrolled": true
   },
   "outputs": [],
   "source": [
    "dataset = pd.read_csv('/home/hugo/projetos-doutorado/Appliance-Energy-Prediction/data/energydata_complete.csv')\n",
    "data = dataset.drop(labels=['date','rv1','rv2'], axis=1)\n",
    "data = clean_dataset(data)\n",
    "values = data.values\n",
    "#values"
   ]
  },
  {
   "cell_type": "markdown",
   "id": "eligible-muscle",
   "metadata": {},
   "source": [
    "## Dataset Energy Appliance: Preprocessing, Lag = 1, t+1"
   ]
  },
  {
   "cell_type": "code",
   "execution_count": 7,
   "id": "hungarian-shopper",
   "metadata": {},
   "outputs": [],
   "source": [
    "cols = data.columns\n",
    "list_cols = list(cols)"
   ]
  },
  {
   "cell_type": "code",
   "execution_count": 8,
   "id": "dated-aruba",
   "metadata": {
    "scrolled": true
   },
   "outputs": [
    {
     "data": {
      "text/html": [
       "<div>\n",
       "<style scoped>\n",
       "    .dataframe tbody tr th:only-of-type {\n",
       "        vertical-align: middle;\n",
       "    }\n",
       "\n",
       "    .dataframe tbody tr th {\n",
       "        vertical-align: top;\n",
       "    }\n",
       "\n",
       "    .dataframe thead th {\n",
       "        text-align: right;\n",
       "    }\n",
       "</style>\n",
       "<table border=\"1\" class=\"dataframe\">\n",
       "  <thead>\n",
       "    <tr style=\"text-align: right;\">\n",
       "      <th></th>\n",
       "      <th>Appliances(t-1)</th>\n",
       "      <th>lights(t-1)</th>\n",
       "      <th>T1(t-1)</th>\n",
       "      <th>RH_1(t-1)</th>\n",
       "      <th>T2(t-1)</th>\n",
       "      <th>RH_2(t-1)</th>\n",
       "      <th>T3(t-1)</th>\n",
       "      <th>RH_3(t-1)</th>\n",
       "      <th>T4(t-1)</th>\n",
       "      <th>RH_4(t-1)</th>\n",
       "      <th>...</th>\n",
       "      <th>RH_8(t-1)</th>\n",
       "      <th>T9(t-1)</th>\n",
       "      <th>RH_9(t-1)</th>\n",
       "      <th>T_out(t-1)</th>\n",
       "      <th>Press_mm_hg(t-1)</th>\n",
       "      <th>RH_out(t-1)</th>\n",
       "      <th>Windspeed(t-1)</th>\n",
       "      <th>Visibility(t-1)</th>\n",
       "      <th>Tdewpoint(t-1)</th>\n",
       "      <th>Appliances(t)</th>\n",
       "    </tr>\n",
       "  </thead>\n",
       "  <tbody>\n",
       "    <tr>\n",
       "      <th>1</th>\n",
       "      <td>0.046729</td>\n",
       "      <td>0.428571</td>\n",
       "      <td>0.32735</td>\n",
       "      <td>0.566187</td>\n",
       "      <td>0.225345</td>\n",
       "      <td>0.684038</td>\n",
       "      <td>0.215188</td>\n",
       "      <td>0.746066</td>\n",
       "      <td>0.351351</td>\n",
       "      <td>0.764262</td>\n",
       "      <td>...</td>\n",
       "      <td>0.661412</td>\n",
       "      <td>0.223032</td>\n",
       "      <td>0.677290</td>\n",
       "      <td>0.372990</td>\n",
       "      <td>0.097674</td>\n",
       "      <td>0.894737</td>\n",
       "      <td>0.500000</td>\n",
       "      <td>0.953846</td>\n",
       "      <td>0.538462</td>\n",
       "      <td>0.046729</td>\n",
       "    </tr>\n",
       "    <tr>\n",
       "      <th>2</th>\n",
       "      <td>0.046729</td>\n",
       "      <td>0.428571</td>\n",
       "      <td>0.32735</td>\n",
       "      <td>0.541326</td>\n",
       "      <td>0.225345</td>\n",
       "      <td>0.682140</td>\n",
       "      <td>0.215188</td>\n",
       "      <td>0.748871</td>\n",
       "      <td>0.351351</td>\n",
       "      <td>0.782437</td>\n",
       "      <td>...</td>\n",
       "      <td>0.660155</td>\n",
       "      <td>0.226500</td>\n",
       "      <td>0.678532</td>\n",
       "      <td>0.369239</td>\n",
       "      <td>0.100000</td>\n",
       "      <td>0.894737</td>\n",
       "      <td>0.476190</td>\n",
       "      <td>0.894872</td>\n",
       "      <td>0.533937</td>\n",
       "      <td>0.037383</td>\n",
       "    </tr>\n",
       "    <tr>\n",
       "      <th>3</th>\n",
       "      <td>0.037383</td>\n",
       "      <td>0.428571</td>\n",
       "      <td>0.32735</td>\n",
       "      <td>0.530502</td>\n",
       "      <td>0.225345</td>\n",
       "      <td>0.679445</td>\n",
       "      <td>0.215188</td>\n",
       "      <td>0.755569</td>\n",
       "      <td>0.344745</td>\n",
       "      <td>0.778062</td>\n",
       "      <td>...</td>\n",
       "      <td>0.655586</td>\n",
       "      <td>0.219563</td>\n",
       "      <td>0.676049</td>\n",
       "      <td>0.365488</td>\n",
       "      <td>0.102326</td>\n",
       "      <td>0.894737</td>\n",
       "      <td>0.452381</td>\n",
       "      <td>0.835897</td>\n",
       "      <td>0.529412</td>\n",
       "      <td>0.037383</td>\n",
       "    </tr>\n",
       "    <tr>\n",
       "      <th>4</th>\n",
       "      <td>0.037383</td>\n",
       "      <td>0.571429</td>\n",
       "      <td>0.32735</td>\n",
       "      <td>0.524080</td>\n",
       "      <td>0.225345</td>\n",
       "      <td>0.678414</td>\n",
       "      <td>0.215188</td>\n",
       "      <td>0.758685</td>\n",
       "      <td>0.341441</td>\n",
       "      <td>0.770949</td>\n",
       "      <td>...</td>\n",
       "      <td>0.650788</td>\n",
       "      <td>0.219563</td>\n",
       "      <td>0.671909</td>\n",
       "      <td>0.361736</td>\n",
       "      <td>0.104651</td>\n",
       "      <td>0.894737</td>\n",
       "      <td>0.428571</td>\n",
       "      <td>0.776923</td>\n",
       "      <td>0.524887</td>\n",
       "      <td>0.046729</td>\n",
       "    </tr>\n",
       "    <tr>\n",
       "      <th>5</th>\n",
       "      <td>0.046729</td>\n",
       "      <td>0.571429</td>\n",
       "      <td>0.32735</td>\n",
       "      <td>0.531419</td>\n",
       "      <td>0.225345</td>\n",
       "      <td>0.676727</td>\n",
       "      <td>0.215188</td>\n",
       "      <td>0.758685</td>\n",
       "      <td>0.341441</td>\n",
       "      <td>0.762697</td>\n",
       "      <td>...</td>\n",
       "      <td>0.650788</td>\n",
       "      <td>0.219563</td>\n",
       "      <td>0.671909</td>\n",
       "      <td>0.357985</td>\n",
       "      <td>0.106977</td>\n",
       "      <td>0.894737</td>\n",
       "      <td>0.404762</td>\n",
       "      <td>0.717949</td>\n",
       "      <td>0.520362</td>\n",
       "      <td>0.037383</td>\n",
       "    </tr>\n",
       "  </tbody>\n",
       "</table>\n",
       "<p>5 rows × 27 columns</p>\n",
       "</div>"
      ],
      "text/plain": [
       "   Appliances(t-1)  lights(t-1)  T1(t-1)  RH_1(t-1)   T2(t-1)  RH_2(t-1)  \\\n",
       "1         0.046729     0.428571  0.32735   0.566187  0.225345   0.684038   \n",
       "2         0.046729     0.428571  0.32735   0.541326  0.225345   0.682140   \n",
       "3         0.037383     0.428571  0.32735   0.530502  0.225345   0.679445   \n",
       "4         0.037383     0.571429  0.32735   0.524080  0.225345   0.678414   \n",
       "5         0.046729     0.571429  0.32735   0.531419  0.225345   0.676727   \n",
       "\n",
       "    T3(t-1)  RH_3(t-1)   T4(t-1)  RH_4(t-1)  ...  RH_8(t-1)   T9(t-1)  \\\n",
       "1  0.215188   0.746066  0.351351   0.764262  ...   0.661412  0.223032   \n",
       "2  0.215188   0.748871  0.351351   0.782437  ...   0.660155  0.226500   \n",
       "3  0.215188   0.755569  0.344745   0.778062  ...   0.655586  0.219563   \n",
       "4  0.215188   0.758685  0.341441   0.770949  ...   0.650788  0.219563   \n",
       "5  0.215188   0.758685  0.341441   0.762697  ...   0.650788  0.219563   \n",
       "\n",
       "   RH_9(t-1)  T_out(t-1)  Press_mm_hg(t-1)  RH_out(t-1)  Windspeed(t-1)  \\\n",
       "1   0.677290    0.372990          0.097674     0.894737        0.500000   \n",
       "2   0.678532    0.369239          0.100000     0.894737        0.476190   \n",
       "3   0.676049    0.365488          0.102326     0.894737        0.452381   \n",
       "4   0.671909    0.361736          0.104651     0.894737        0.428571   \n",
       "5   0.671909    0.357985          0.106977     0.894737        0.404762   \n",
       "\n",
       "   Visibility(t-1)  Tdewpoint(t-1)  Appliances(t)  \n",
       "1         0.953846        0.538462       0.046729  \n",
       "2         0.894872        0.533937       0.037383  \n",
       "3         0.835897        0.529412       0.037383  \n",
       "4         0.776923        0.524887       0.046729  \n",
       "5         0.717949        0.520362       0.037383  \n",
       "\n",
       "[5 rows x 27 columns]"
      ]
     },
     "execution_count": 8,
     "metadata": {},
     "output_type": "execute_result"
    }
   ],
   "source": [
    "# normalize features\n",
    "scaler = MinMaxScaler()\n",
    "scaled = scaler.fit_transform(values)\n",
    "data_scaled = pd.DataFrame(scaled, columns=list_cols)\n",
    "# frame as supervised learning\n",
    "data_scaled = series_to_supervised_miso(data_scaled, 1, 1,endog_var='Appliances')\n",
    "data_scaled.head()"
   ]
  },
  {
   "cell_type": "code",
   "execution_count": 9,
   "id": "consolidated-reverse",
   "metadata": {},
   "outputs": [
    {
     "data": {
      "text/html": [
       "<div>\n",
       "<style scoped>\n",
       "    .dataframe tbody tr th:only-of-type {\n",
       "        vertical-align: middle;\n",
       "    }\n",
       "\n",
       "    .dataframe tbody tr th {\n",
       "        vertical-align: top;\n",
       "    }\n",
       "\n",
       "    .dataframe thead th {\n",
       "        text-align: right;\n",
       "    }\n",
       "</style>\n",
       "<table border=\"1\" class=\"dataframe\">\n",
       "  <thead>\n",
       "    <tr style=\"text-align: right;\">\n",
       "      <th></th>\n",
       "      <th>Appliances(t-1)</th>\n",
       "      <th>lights(t-1)</th>\n",
       "      <th>T1(t-1)</th>\n",
       "      <th>RH_1(t-1)</th>\n",
       "      <th>T2(t-1)</th>\n",
       "      <th>RH_2(t-1)</th>\n",
       "      <th>T3(t-1)</th>\n",
       "      <th>RH_3(t-1)</th>\n",
       "      <th>T4(t-1)</th>\n",
       "      <th>RH_4(t-1)</th>\n",
       "      <th>...</th>\n",
       "      <th>RH_8(t-1)</th>\n",
       "      <th>T9(t-1)</th>\n",
       "      <th>RH_9(t-1)</th>\n",
       "      <th>T_out(t-1)</th>\n",
       "      <th>Press_mm_hg(t-1)</th>\n",
       "      <th>RH_out(t-1)</th>\n",
       "      <th>Windspeed(t-1)</th>\n",
       "      <th>Visibility(t-1)</th>\n",
       "      <th>Tdewpoint(t-1)</th>\n",
       "      <th>Appliances(t)</th>\n",
       "    </tr>\n",
       "  </thead>\n",
       "  <tbody>\n",
       "    <tr>\n",
       "      <th>1</th>\n",
       "      <td>60.0</td>\n",
       "      <td>30.0</td>\n",
       "      <td>19.89</td>\n",
       "      <td>47.596667</td>\n",
       "      <td>19.2</td>\n",
       "      <td>44.790000</td>\n",
       "      <td>19.79</td>\n",
       "      <td>44.730000</td>\n",
       "      <td>19.000000</td>\n",
       "      <td>45.566667</td>\n",
       "      <td>...</td>\n",
       "      <td>48.900000</td>\n",
       "      <td>17.033333</td>\n",
       "      <td>45.53</td>\n",
       "      <td>6.600000</td>\n",
       "      <td>733.5</td>\n",
       "      <td>92.0</td>\n",
       "      <td>7.000000</td>\n",
       "      <td>63.000000</td>\n",
       "      <td>5.3</td>\n",
       "      <td>60.0</td>\n",
       "    </tr>\n",
       "    <tr>\n",
       "      <th>2</th>\n",
       "      <td>60.0</td>\n",
       "      <td>30.0</td>\n",
       "      <td>19.89</td>\n",
       "      <td>46.693333</td>\n",
       "      <td>19.2</td>\n",
       "      <td>44.722500</td>\n",
       "      <td>19.79</td>\n",
       "      <td>44.790000</td>\n",
       "      <td>19.000000</td>\n",
       "      <td>45.992500</td>\n",
       "      <td>...</td>\n",
       "      <td>48.863333</td>\n",
       "      <td>17.066667</td>\n",
       "      <td>45.56</td>\n",
       "      <td>6.483333</td>\n",
       "      <td>733.6</td>\n",
       "      <td>92.0</td>\n",
       "      <td>6.666667</td>\n",
       "      <td>59.166667</td>\n",
       "      <td>5.2</td>\n",
       "      <td>50.0</td>\n",
       "    </tr>\n",
       "    <tr>\n",
       "      <th>3</th>\n",
       "      <td>50.0</td>\n",
       "      <td>30.0</td>\n",
       "      <td>19.89</td>\n",
       "      <td>46.300000</td>\n",
       "      <td>19.2</td>\n",
       "      <td>44.626667</td>\n",
       "      <td>19.79</td>\n",
       "      <td>44.933333</td>\n",
       "      <td>18.926667</td>\n",
       "      <td>45.890000</td>\n",
       "      <td>...</td>\n",
       "      <td>48.730000</td>\n",
       "      <td>17.000000</td>\n",
       "      <td>45.50</td>\n",
       "      <td>6.366667</td>\n",
       "      <td>733.7</td>\n",
       "      <td>92.0</td>\n",
       "      <td>6.333333</td>\n",
       "      <td>55.333333</td>\n",
       "      <td>5.1</td>\n",
       "      <td>50.0</td>\n",
       "    </tr>\n",
       "    <tr>\n",
       "      <th>4</th>\n",
       "      <td>50.0</td>\n",
       "      <td>40.0</td>\n",
       "      <td>19.89</td>\n",
       "      <td>46.066667</td>\n",
       "      <td>19.2</td>\n",
       "      <td>44.590000</td>\n",
       "      <td>19.79</td>\n",
       "      <td>45.000000</td>\n",
       "      <td>18.890000</td>\n",
       "      <td>45.723333</td>\n",
       "      <td>...</td>\n",
       "      <td>48.590000</td>\n",
       "      <td>17.000000</td>\n",
       "      <td>45.40</td>\n",
       "      <td>6.250000</td>\n",
       "      <td>733.8</td>\n",
       "      <td>92.0</td>\n",
       "      <td>6.000000</td>\n",
       "      <td>51.500000</td>\n",
       "      <td>5.0</td>\n",
       "      <td>60.0</td>\n",
       "    </tr>\n",
       "    <tr>\n",
       "      <th>5</th>\n",
       "      <td>60.0</td>\n",
       "      <td>40.0</td>\n",
       "      <td>19.89</td>\n",
       "      <td>46.333333</td>\n",
       "      <td>19.2</td>\n",
       "      <td>44.530000</td>\n",
       "      <td>19.79</td>\n",
       "      <td>45.000000</td>\n",
       "      <td>18.890000</td>\n",
       "      <td>45.530000</td>\n",
       "      <td>...</td>\n",
       "      <td>48.590000</td>\n",
       "      <td>17.000000</td>\n",
       "      <td>45.40</td>\n",
       "      <td>6.133333</td>\n",
       "      <td>733.9</td>\n",
       "      <td>92.0</td>\n",
       "      <td>5.666667</td>\n",
       "      <td>47.666667</td>\n",
       "      <td>4.9</td>\n",
       "      <td>50.0</td>\n",
       "    </tr>\n",
       "  </tbody>\n",
       "</table>\n",
       "<p>5 rows × 27 columns</p>\n",
       "</div>"
      ],
      "text/plain": [
       "   Appliances(t-1)  lights(t-1)  T1(t-1)  RH_1(t-1)  T2(t-1)  RH_2(t-1)  \\\n",
       "1             60.0         30.0    19.89  47.596667     19.2  44.790000   \n",
       "2             60.0         30.0    19.89  46.693333     19.2  44.722500   \n",
       "3             50.0         30.0    19.89  46.300000     19.2  44.626667   \n",
       "4             50.0         40.0    19.89  46.066667     19.2  44.590000   \n",
       "5             60.0         40.0    19.89  46.333333     19.2  44.530000   \n",
       "\n",
       "   T3(t-1)  RH_3(t-1)    T4(t-1)  RH_4(t-1)  ...  RH_8(t-1)    T9(t-1)  \\\n",
       "1    19.79  44.730000  19.000000  45.566667  ...  48.900000  17.033333   \n",
       "2    19.79  44.790000  19.000000  45.992500  ...  48.863333  17.066667   \n",
       "3    19.79  44.933333  18.926667  45.890000  ...  48.730000  17.000000   \n",
       "4    19.79  45.000000  18.890000  45.723333  ...  48.590000  17.000000   \n",
       "5    19.79  45.000000  18.890000  45.530000  ...  48.590000  17.000000   \n",
       "\n",
       "   RH_9(t-1)  T_out(t-1)  Press_mm_hg(t-1)  RH_out(t-1)  Windspeed(t-1)  \\\n",
       "1      45.53    6.600000             733.5         92.0        7.000000   \n",
       "2      45.56    6.483333             733.6         92.0        6.666667   \n",
       "3      45.50    6.366667             733.7         92.0        6.333333   \n",
       "4      45.40    6.250000             733.8         92.0        6.000000   \n",
       "5      45.40    6.133333             733.9         92.0        5.666667   \n",
       "\n",
       "   Visibility(t-1)  Tdewpoint(t-1)  Appliances(t)  \n",
       "1        63.000000             5.3           60.0  \n",
       "2        59.166667             5.2           50.0  \n",
       "3        55.333333             5.1           50.0  \n",
       "4        51.500000             5.0           60.0  \n",
       "5        47.666667             4.9           50.0  \n",
       "\n",
       "[5 rows x 27 columns]"
      ]
     },
     "execution_count": 9,
     "metadata": {},
     "output_type": "execute_result"
    }
   ],
   "source": [
    "data = series_to_supervised_miso(data, 1, 1,endog_var='Appliances')\n",
    "data.head()"
   ]
  },
  {
   "cell_type": "markdown",
   "id": "interesting-detection",
   "metadata": {},
   "source": [
    "## Model: SARIMAX"
   ]
  },
  {
   "cell_type": "markdown",
   "id": "sufficient-plain",
   "metadata": {},
   "source": [
    "### Define SARIMAX parameters"
   ]
  },
  {
   "cell_type": "code",
   "execution_count": 10,
   "id": "selective-season",
   "metadata": {},
   "outputs": [
    {
     "data": {
      "text/plain": [
       "(19734, 27)"
      ]
     },
     "execution_count": 10,
     "metadata": {},
     "output_type": "execute_result"
    }
   ],
   "source": [
    "values = data.values\n",
    "values.shape"
   ]
  },
  {
   "cell_type": "code",
   "execution_count": 11,
   "id": "9ca14fe9-544f-418b-ba92-c9365a4506c3",
   "metadata": {},
   "outputs": [
    {
     "name": "stdout",
     "output_type": "stream",
     "text": [
      "13814\n"
     ]
    }
   ],
   "source": [
    "values = data.values\n",
    "train_size=int(len(values)*0.30)\n",
    "test_size = int(len(values)) - train_size\n",
    "print(test_size)"
   ]
  },
  {
   "cell_type": "code",
   "execution_count": 13,
   "id": "invalid-heart",
   "metadata": {},
   "outputs": [
    {
     "name": "stdout",
     "output_type": "stream",
     "text": [
      "(5920, 26) (5920,) (13814, 26) (13814,)\n"
     ]
    }
   ],
   "source": [
    "# split into train and test sets\n",
    "# train_X, train_y = data_scaled.loc[:,'Appliances(t-1)':'Tdewpoint(t-1)'].values[:train_size], data_scaled['Appliances(t-1)'].values[:train_size]\n",
    "# test_X, test_y = data_scaled.loc[:,'Appliances(t-1)':'Tdewpoint(t-1)'].values[train_size:], data_scaled['Appliances(t)'].values[train_size:]\n",
    "\n",
    "# train_y.reshape(-1)\n",
    "# test_y.reshape(-1)\n",
    "\n",
    "\n",
    "train_X, train_y = data_scaled.loc[:,'Appliances(t-1)':'Tdewpoint(t-1)'].values[:train_size], data_scaled['Appliances(t)'].values[:train_size]\n",
    "test_X, test_y = data_scaled.loc[:,'Appliances(t-1)':'Tdewpoint(t-1)'].values[train_size:], data_scaled['Appliances(t)'].values[train_size:]\n",
    "\n",
    "train_y.reshape(-1)\n",
    "test_y.reshape(-1)\n",
    "\n",
    "# # split into input (all columns exceptc last one) and outputs (last column)\n",
    "# train_X, train_y = train_X[:, :-1], train_y[:, -1]\n",
    "# test_X, test_y = test_X[:, :-1], test_y[:, -1]\n",
    "\n",
    "# # reshape input to be 3D [samples, timesteps, features]; each line turns into an 'sub-array'\n",
    "# train_X = train_X.reshape((train_X.shape[0],train_X.shape[1]))\n",
    "# test_X = test_X.reshape((test_X.shape[0],test_X.shape[1]))\n",
    "print(train_X.shape, train_y.shape, test_X.shape, test_y.shape)"
   ]
  },
  {
   "cell_type": "code",
   "execution_count": 12,
   "id": "accomplished-default",
   "metadata": {},
   "outputs": [],
   "source": [
    "# cols = data.columns\n",
    "# list_cols_exog = list(cols)\n",
    "# list_cols_exog.remove(\"Appliances(t)\")"
   ]
  },
  {
   "cell_type": "code",
   "execution_count": 13,
   "id": "present-pacific",
   "metadata": {
    "scrolled": true
   },
   "outputs": [],
   "source": [
    "# df_train_X = pd.DataFrame(train_X,columns=list_cols_exog)\n",
    "# df_test_X = pd.DataFrame(train_X,columns=list_cols_exog)"
   ]
  },
  {
   "cell_type": "code",
   "execution_count": 14,
   "id": "automotive-attraction",
   "metadata": {},
   "outputs": [],
   "source": [
    "# list_cols_endog = []\n",
    "# list_cols_endog.append('Appliances(t)')\n",
    "# df_train_y = pd.DataFrame(train_y,columns=list_cols_endog)\n",
    "# df_test_y = pd.DataFrame(test_y,columns=list_cols_endog)\n",
    "# #df_train_y"
   ]
  },
  {
   "cell_type": "code",
   "execution_count": 15,
   "id": "classified-chemistry",
   "metadata": {},
   "outputs": [],
   "source": [
    "# train_y.shape"
   ]
  },
  {
   "cell_type": "code",
   "execution_count": 16,
   "id": "light-small",
   "metadata": {},
   "outputs": [],
   "source": [
    "# from matplotlib import pyplot\n",
    "# from statsmodels.graphics.tsaplots import plot_acf\n",
    "# plot_acf(train_y)\n",
    "# pyplot.show()"
   ]
  },
  {
   "cell_type": "code",
   "execution_count": 17,
   "id": "strategic-electron",
   "metadata": {},
   "outputs": [
    {
     "data": {
      "image/png": "[encoded data removed]",
      "text/plain": [
       "<Figure size 1440x1080 with 2 Axes>"
      ]
     },
     "metadata": {
      "needs_background": "light"
     },
     "output_type": "display_data"
    }
   ],
   "source": [
    "#Correlograms\n",
    "fig,ax= plt.subplots(2,1, figsize=(20,15))\n",
    "fig=sm.tsa.graphics.plot_acf(train_y, lags=400, ax=ax[0])\n",
    "fig=sm.tsa.graphics.plot_pacf(train_y, lags=400, ax=ax[1])\n",
    "plt.show()"
   ]
  },
  {
   "cell_type": "code",
   "execution_count": 18,
   "id": "atmospheric-mason",
   "metadata": {},
   "outputs": [
    {
     "data": {
      "image/png": "[encoded data removed]",
      "text/plain": [
       "<Figure size 1080x360 with 1 Axes>"
      ]
     },
     "metadata": {
      "needs_background": "light"
     },
     "output_type": "display_data"
    }
   ],
   "source": [
    "fig, ax = plt.subplots(nrows=1, ncols=1, figsize=[15, 5])\n",
    "ax.plot(train_y, label='Appliances')\n",
    "handles, labels = ax.get_legend_handles_labels()\n",
    "lgd = ax.legend(handles, labels, loc=2, bbox_to_anchor=(1, 1))\n",
    "plt.show()"
   ]
  },
  {
   "cell_type": "code",
   "execution_count": 436,
   "id": "ordinary-quebec",
   "metadata": {},
   "outputs": [],
   "source": [
    "# from statsmodels.tsa.seasonal import seasonal_decompose\n",
    "# import matplotlib.pyplot as plt\n",
    "# result = seasonal_decompose(train_y,model='add',period=140)\n",
    "# fig, (ax1,ax2,ax3) = plt.subplots(3,1, figsize=(30,15))\n",
    "# result.trend.plot(ax=ax1)\n",
    "# result.resid.plot(ax=ax2)\n",
    "# result.seasonal.plot(ax=ax3)"
   ]
  },
  {
   "cell_type": "code",
   "execution_count": 437,
   "id": "neutral-calculation",
   "metadata": {},
   "outputs": [],
   "source": [
    "# from pmdarima.arima import auto_arima\n",
    "# step_wise=auto_arima(train_y, \n",
    "#  exogenous= train_X,\n",
    "#  start_p=1, start_q=1, \n",
    "#  max_p=3, max_q=3, \n",
    "#  d=1, max_d=3,\n",
    "#  trace=True, \n",
    "#  error_action='ignore', \n",
    "#  suppress_warnings=True, \n",
    "#  stepwise=True,\n",
    "#  seasonal=True)"
   ]
  },
  {
   "cell_type": "code",
   "execution_count": 438,
   "id": "empty-drinking",
   "metadata": {
    "scrolled": true
   },
   "outputs": [],
   "source": [
    "# m = 7 => daily\n",
    "# m = 54 => weekly\n",
    "# sarimax_model = auto_arima(train_y,\n",
    "#                        exogenous= train_X,\n",
    "#                        test='adf'\n",
    "#                        start_p=1,\n",
    "#                        start_q=1,\n",
    "#                        max_p=3,\n",
    "#                        max_q=3,\n",
    "#                        m=7,\n",
    "#                        seasonal=True,\n",
    "#                        d=None,\n",
    "#                        D=1,\n",
    "#                        trace=True,\n",
    "#                        error_action='ignore',\n",
    "#                        suppress_warnings=True,\n",
    "#                        stepwise=True)"
   ]
  },
  {
   "cell_type": "code",
   "execution_count": 40,
   "id": "loaded-victor",
   "metadata": {
    "scrolled": false
   },
   "outputs": [
    {
     "name": "stdout",
     "output_type": "stream",
     "text": [
      "Performing stepwise search to minimize aic\n",
      " ARIMA(0,0,0)(0,1,0)[7] intercept   : AIC=-130023.969, Time=42.63 sec\n",
      " ARIMA(1,0,0)(1,1,0)[7] intercept   : AIC=-130008.401, Time=125.03 sec\n",
      " ARIMA(0,0,1)(0,1,1)[7] intercept   : AIC=-125925.368, Time=179.30 sec\n",
      " ARIMA(0,0,0)(0,1,0)[7]             : AIC=-125082.174, Time=28.79 sec\n",
      " ARIMA(0,0,0)(1,1,0)[7] intercept   : AIC=-130010.401, Time=99.62 sec\n",
      " ARIMA(0,0,0)(0,1,1)[7] intercept   : AIC=-125927.368, Time=188.52 sec\n",
      " ARIMA(0,0,0)(1,1,1)[7] intercept   : AIC=-125601.953, Time=108.28 sec\n",
      " ARIMA(1,0,0)(0,1,0)[7] intercept   : AIC=-130021.969, Time=45.56 sec\n",
      " ARIMA(0,0,1)(0,1,0)[7] intercept   : AIC=-130021.969, Time=58.10 sec\n",
      " ARIMA(1,0,1)(0,1,0)[7] intercept   : AIC=-130019.969, Time=62.55 sec\n",
      "\n",
      "Best model:  ARIMA(0,0,0)(0,1,0)[7] intercept\n",
      "Total fit time: 938.473 seconds\n"
     ]
    }
   ],
   "source": [
    "# # m = 7 => daily\n",
    "# # m = 52 => weekly\n",
    "# sarimax_model = auto_arima(train_y,\n",
    "#                        exogenous= train_X,\n",
    "#                        test='adf',\n",
    "#                        start_p=0,\n",
    "#                        start_q=0,\n",
    "#                        max_p=5,\n",
    "#                        max_q=5,\n",
    "#                        start_Q=0,\n",
    "#                        start_P=0,\n",
    "#                        max_P=5,\n",
    "#                        max_Q=5,\n",
    "#                        m=7,\n",
    "#                        seasonal=True,\n",
    "#                        d=None,\n",
    "#                        D=1,\n",
    "#                        max_D=5,\n",
    "#                        trace=True,\n",
    "#                        error_action='ignore',\n",
    "#                        suppress_warnings=True,\n",
    "#                        stepwise=True)\n",
    "# #                        n_fits = 50)"
   ]
  },
  {
   "cell_type": "code",
   "execution_count": 328,
   "id": "terminal-force",
   "metadata": {
    "scrolled": true
   },
   "outputs": [],
   "source": [
    "# Best model:  ARIMA(0,0,1)(0,1,2)[12] intercept\n",
    "#ARIMA(0,0,1)(1,1,2)[7] \n",
    "# Total fit time: 11753.701 seconds\n",
    "\n",
    "# Best model:  ARIMA(0,0,1)(1,1,2)[7] intercept\n",
    "# Total fit time: 5686.746 seconds\n",
    "\n",
    "# Best model:  ARIMA(0,0,1)(0,1,1)[4] intercept\n",
    "# Total fit time: 1330.512 seconds\n",
    "\n",
    "# Best model:  ARIMA(0,0,1)(0,1,1)[7]          \n",
    "# Total fit time: 5811.561 seconds\n",
    "\n",
    "# Best model:  ARIMA(0,0,1)(1,1,2)[7] intercept\n",
    "# Total fit time: 5686.746 seconds\n",
    "\n",
    "#sarimax_model.summary()"
   ]
  },
  {
   "cell_type": "code",
   "execution_count": 413,
   "id": "sufficient-position",
   "metadata": {},
   "outputs": [],
   "source": [
    "# from statsmodels.tsa.statespace.sarimax import SARIMAX\n",
    "# model= SARIMAX(endog=train_y, \n",
    "#  exog=train_X,\n",
    "#  order=(3,1,2),\n",
    "#  seasonal_order=(0,1,2,7),\n",
    "#  enforce_invertibility=False, \n",
    "#  enforce_stationarity=False)"
   ]
  },
  {
   "cell_type": "code",
   "execution_count": 331,
   "id": "single-angel",
   "metadata": {},
   "outputs": [],
   "source": [
    "# results = model.fit(disp=True)"
   ]
  },
  {
   "cell_type": "code",
   "execution_count": 332,
   "id": "medium-morning",
   "metadata": {},
   "outputs": [],
   "source": [
    "# results.summary()"
   ]
  },
  {
   "cell_type": "code",
   "execution_count": 333,
   "id": "wooden-thursday",
   "metadata": {},
   "outputs": [],
   "source": [
    "# steps = -1\n",
    "# yhat = results.predict(start=train_size, end=train_size+test_size+(steps),exog=test_X)\n",
    "# #yhat"
   ]
  },
  {
   "cell_type": "code",
   "execution_count": 334,
   "id": "rubber-people",
   "metadata": {},
   "outputs": [],
   "source": [
    "# test_X = test_X.reshape((test_X.shape[0], test_X.shape[1]))\n",
    "# # invert scaling for forecast\n",
    "# inv_yhat = np.concatenate((yhat.reshape(len(yhat),1), test_X[:, 1:]), axis=1)\n",
    "# print(inv_yhat.shape)\n",
    "# inv_yhat = scaler.inverse_transform(inv_yhat)\n",
    "# inv_yhat = inv_yhat[:,0]\n",
    "# # invert scaling for actual - observed data\n",
    "# test_y = test_y.reshape((len(test_y), 1))\n",
    "# inv_y = np.concatenate((test_y, test_X[:, 1:]), axis=1)\n",
    "# inv_y = scaler.inverse_transform(inv_y)\n",
    "# inv_y = inv_y[:,0]"
   ]
  },
  {
   "cell_type": "code",
   "execution_count": 335,
   "id": "unsigned-portable",
   "metadata": {},
   "outputs": [],
   "source": [
    "# rmse = Measures.rmse(inv_yhat,inv_y)\n",
    "# mape = Measures.mape(inv_yhat,inv_y)\n",
    "# smape = Measures.smape(inv_yhat,inv_y)\n",
    "# print('Test RMSE: %.3f' % rmse)\n",
    "# print('Test MAPE: %.3f' % mape)\n",
    "# print('Test SMAPE: %.3f' % smape)"
   ]
  },
  {
   "cell_type": "code",
   "execution_count": 336,
   "id": "entire-works",
   "metadata": {
    "scrolled": true
   },
   "outputs": [],
   "source": [
    "# fig, ax = plt.subplots(nrows=1, ncols=1, figsize=[15, 3])\n",
    "# ax.plot(inv_y[1:300], label='Original')\n",
    "# ax.plot(inv_yhat[1:300], label='Forecast')\n",
    "# handles, labels = ax.get_legend_handles_labels()\n",
    "# lgd = ax.legend(handles, labels, loc=2, bbox_to_anchor=(1, 1))\n",
    "# plt.show()"
   ]
  },
  {
   "cell_type": "markdown",
   "id": "linear-kingdom",
   "metadata": {},
   "source": [
    "## Model: SARIMAX - Final model"
   ]
  },
  {
   "cell_type": "code",
   "execution_count": 337,
   "id": "disturbed-length",
   "metadata": {},
   "outputs": [],
   "source": [
    "#Hyperparameters tested \n",
    "#order=(1,0,1), seasonal_order=(1,1,2,7) ==> 190.596548\t152.632719\t209.728747\t56.147391\n",
    "#order=(0,0,1),seasonal_order=(1,1,2,7), ==> 174.413487\t139.909065\t194.543149\t54.981554\n",
    "#order=(0,0,1), seasonal_order=(0,1,2,7),==> 174.524915\t140.547848\t196.664085\t55.025367\n",
    "#**order=(0,0,1), seasonal_order=(0,1,1,7),==> 172.282777\t139.149823\t195.941663\t53.800212\n",
    "#order=(3,1,2), seasonal_order=(1,1,2,7),==> 2.145111e+06\t719710.123596\t672833.125393\t78.183915\n",
    "#order=(0,0,1), seasonal_order=(0,0,1,7),==> 166.464915\t132.687967\t184.941603\t53.354538\n",
    "\n",
    "# Best model:  ARIMA(1,0,0)(0,1,0)[7] ==> 257.050865\t213.171839\t309.926134\t64.061179          \n",
    "# Total fit time: 890.419 seconds\n",
    "# ARIMA(1,0,0)(1,1,0)[7]==> 221.639305\t180.737487\t259.582936\t57.971092\n",
    "# ARIMA(1,0,0)(0,1,1)[7]            \n",
    "# ARIMA(1,0,0)(1,1,0)[7]             \n",
    "# ARIMA(1,0,0)(0,1,1)[7]             "
   ]
  },
  {
   "cell_type": "code",
   "execution_count": 14,
   "id": "norman-sight",
   "metadata": {},
   "outputs": [],
   "source": [
    "def train_sarimax(endog, exog, order, seasonal_order):\n",
    "    model=sm.tsa.SARIMAX(endog = endog, exog = exog, \n",
    "                          order=order,\n",
    "                          seasonal_order=seasonal_order, \n",
    "                          enforce_invertibility=False, \n",
    "                          enforce_stationarity=False)\n",
    "    sarimax = model.fit()\n",
    "    return sarimax\n",
    "\n",
    "\n",
    "def test_sarimax(model,start,end,exog):\n",
    "    forecasts = model.predict(start=start, end=end, exog=exog)\n",
    "    return forecasts\n",
    "    "
   ]
  },
  {
   "cell_type": "code",
   "execution_count": 15,
   "id": "important-investment",
   "metadata": {},
   "outputs": [],
   "source": [
    "def transform_original(test_X,test_y,yhat):\n",
    "    test_X = test_X.reshape((test_X.shape[0], test_X.shape[1]))\n",
    "    # invert scaling for forecast\n",
    "    inv_yhat = np.concatenate((yhat.reshape(len(yhat),1), test_X[:, 1:]), axis=1)\n",
    "    inv_yhat = scaler.inverse_transform(inv_yhat)\n",
    "    inv_yhat = inv_yhat[:,0]\n",
    "    # invert scaling for actual - observed data\n",
    "    test_y = test_y.reshape((len(test_y), 1))\n",
    "    inv_y = np.concatenate((test_y, test_X[:, 1:]), axis=1)\n",
    "    inv_y = scaler.inverse_transform(inv_y)\n",
    "    inv_y = inv_y[:,0]\n",
    "    \n",
    "#     fig, ax = plt.subplots(nrows=1, ncols=1, figsize=[15, 3])\n",
    "#     ax.plot(inv_y, label='Original')\n",
    "#     ax.plot(inv_yhat, label='Forecast')\n",
    "#     handles, labels = ax.get_legend_handles_labels()\n",
    "#     lgd = ax.legend(handles, labels, loc=2, bbox_to_anchor=(1, 1))\n",
    "#     plt.show()\n",
    "    \n",
    "    return inv_y,inv_yhat"
   ]
  },
  {
   "cell_type": "markdown",
   "id": "requested-shelf",
   "metadata": {},
   "source": [
    "## Sliding Window PyFTS: SARIMAX"
   ]
  },
  {
   "cell_type": "code",
   "execution_count": 16,
   "id": "ideal-customer",
   "metadata": {
    "scrolled": false
   },
   "outputs": [
    {
     "name": "stdout",
     "output_type": "stream",
     "text": [
      "--------------------\n",
      "training window 0\n"
     ]
    },
    {
     "name": "stderr",
     "output_type": "stream",
     "text": [
      "/home/hugo/anaconda3/lib/python3.8/site-packages/statsmodels/tsa/base/tsa_model.py:578: ValueWarning: An unsupported index was provided and will be ignored when e.g. forecasting.\n",
      "  warnings.warn('An unsupported index was provided and will be'\n",
      "/home/hugo/anaconda3/lib/python3.8/site-packages/statsmodels/tsa/base/tsa_model.py:578: ValueWarning: An unsupported index was provided and will be ignored when e.g. forecasting.\n",
      "  warnings.warn('An unsupported index was provided and will be'\n",
      "/home/hugo/anaconda3/lib/python3.8/site-packages/statsmodels/base/model.py:566: ConvergenceWarning: Maximum Likelihood optimization failed to converge. Check mle_retvals\n",
      "  warnings.warn(\"Maximum Likelihood optimization failed to \"\n",
      "/home/hugo/anaconda3/lib/python3.8/site-packages/statsmodels/tsa/base/tsa_model.py:376: ValueWarning: No supported index is available. Prediction results will be given with an integer index beginning at `start`.\n",
      "  warnings.warn('No supported index is available.'\n",
      "/home/hugo/anaconda3/lib/python3.8/site-packages/statsmodels/tsa/base/tsa_model.py:578: ValueWarning: An unsupported index was provided and will be ignored when e.g. forecasting.\n",
      "  warnings.warn('An unsupported index was provided and will be'\n",
      "/home/hugo/anaconda3/lib/python3.8/site-packages/statsmodels/tsa/base/tsa_model.py:578: ValueWarning: An unsupported index was provided and will be ignored when e.g. forecasting.\n",
      "  warnings.warn('An unsupported index was provided and will be'\n"
     ]
    },
    {
     "name": "stdout",
     "output_type": "stream",
     "text": [
      "[ 23:27:05] getting statistics\n",
      "--------------------\n",
      "training window 657\n"
     ]
    },
    {
     "name": "stderr",
     "output_type": "stream",
     "text": [
      "/home/hugo/anaconda3/lib/python3.8/site-packages/statsmodels/base/model.py:566: ConvergenceWarning: Maximum Likelihood optimization failed to converge. Check mle_retvals\n",
      "  warnings.warn(\"Maximum Likelihood optimization failed to \"\n",
      "/home/hugo/anaconda3/lib/python3.8/site-packages/statsmodels/tsa/base/tsa_model.py:376: ValueWarning: No supported index is available. Prediction results will be given with an integer index beginning at `start`.\n",
      "  warnings.warn('No supported index is available.'\n",
      "/home/hugo/anaconda3/lib/python3.8/site-packages/statsmodels/tsa/base/tsa_model.py:578: ValueWarning: An unsupported index was provided and will be ignored when e.g. forecasting.\n",
      "  warnings.warn('An unsupported index was provided and will be'\n",
      "/home/hugo/anaconda3/lib/python3.8/site-packages/statsmodels/tsa/base/tsa_model.py:578: ValueWarning: An unsupported index was provided and will be ignored when e.g. forecasting.\n",
      "  warnings.warn('An unsupported index was provided and will be'\n"
     ]
    },
    {
     "name": "stdout",
     "output_type": "stream",
     "text": [
      "[ 23:27:20] getting statistics\n",
      "--------------------\n",
      "training window 1314\n"
     ]
    },
    {
     "name": "stderr",
     "output_type": "stream",
     "text": [
      "/home/hugo/anaconda3/lib/python3.8/site-packages/statsmodels/base/model.py:566: ConvergenceWarning: Maximum Likelihood optimization failed to converge. Check mle_retvals\n",
      "  warnings.warn(\"Maximum Likelihood optimization failed to \"\n",
      "/home/hugo/anaconda3/lib/python3.8/site-packages/statsmodels/tsa/base/tsa_model.py:376: ValueWarning: No supported index is available. Prediction results will be given with an integer index beginning at `start`.\n",
      "  warnings.warn('No supported index is available.'\n",
      "/home/hugo/anaconda3/lib/python3.8/site-packages/statsmodels/tsa/base/tsa_model.py:578: ValueWarning: An unsupported index was provided and will be ignored when e.g. forecasting.\n",
      "  warnings.warn('An unsupported index was provided and will be'\n",
      "/home/hugo/anaconda3/lib/python3.8/site-packages/statsmodels/tsa/base/tsa_model.py:578: ValueWarning: An unsupported index was provided and will be ignored when e.g. forecasting.\n",
      "  warnings.warn('An unsupported index was provided and will be'\n"
     ]
    },
    {
     "name": "stdout",
     "output_type": "stream",
     "text": [
      "[ 23:27:35] getting statistics\n",
      "--------------------\n",
      "training window 1971\n"
     ]
    },
    {
     "name": "stderr",
     "output_type": "stream",
     "text": [
      "/home/hugo/anaconda3/lib/python3.8/site-packages/statsmodels/base/model.py:566: ConvergenceWarning: Maximum Likelihood optimization failed to converge. Check mle_retvals\n",
      "  warnings.warn(\"Maximum Likelihood optimization failed to \"\n",
      "/home/hugo/anaconda3/lib/python3.8/site-packages/statsmodels/tsa/base/tsa_model.py:376: ValueWarning: No supported index is available. Prediction results will be given with an integer index beginning at `start`.\n",
      "  warnings.warn('No supported index is available.'\n",
      "/home/hugo/anaconda3/lib/python3.8/site-packages/statsmodels/tsa/base/tsa_model.py:578: ValueWarning: An unsupported index was provided and will be ignored when e.g. forecasting.\n",
      "  warnings.warn('An unsupported index was provided and will be'\n",
      "/home/hugo/anaconda3/lib/python3.8/site-packages/statsmodels/tsa/base/tsa_model.py:578: ValueWarning: An unsupported index was provided and will be ignored when e.g. forecasting.\n",
      "  warnings.warn('An unsupported index was provided and will be'\n"
     ]
    },
    {
     "name": "stdout",
     "output_type": "stream",
     "text": [
      "[ 23:27:52] getting statistics\n",
      "--------------------\n",
      "training window 2628\n"
     ]
    },
    {
     "name": "stderr",
     "output_type": "stream",
     "text": [
      "/home/hugo/anaconda3/lib/python3.8/site-packages/statsmodels/base/model.py:566: ConvergenceWarning: Maximum Likelihood optimization failed to converge. Check mle_retvals\n",
      "  warnings.warn(\"Maximum Likelihood optimization failed to \"\n",
      "/home/hugo/anaconda3/lib/python3.8/site-packages/statsmodels/tsa/base/tsa_model.py:376: ValueWarning: No supported index is available. Prediction results will be given with an integer index beginning at `start`.\n",
      "  warnings.warn('No supported index is available.'\n",
      "/home/hugo/anaconda3/lib/python3.8/site-packages/statsmodels/tsa/base/tsa_model.py:578: ValueWarning: An unsupported index was provided and will be ignored when e.g. forecasting.\n",
      "  warnings.warn('An unsupported index was provided and will be'\n",
      "/home/hugo/anaconda3/lib/python3.8/site-packages/statsmodels/tsa/base/tsa_model.py:578: ValueWarning: An unsupported index was provided and will be ignored when e.g. forecasting.\n",
      "  warnings.warn('An unsupported index was provided and will be'\n"
     ]
    },
    {
     "name": "stdout",
     "output_type": "stream",
     "text": [
      "[ 23:28:08] getting statistics\n",
      "--------------------\n",
      "training window 3285\n"
     ]
    },
    {
     "name": "stderr",
     "output_type": "stream",
     "text": [
      "/home/hugo/anaconda3/lib/python3.8/site-packages/statsmodels/base/model.py:566: ConvergenceWarning: Maximum Likelihood optimization failed to converge. Check mle_retvals\n",
      "  warnings.warn(\"Maximum Likelihood optimization failed to \"\n",
      "/home/hugo/anaconda3/lib/python3.8/site-packages/statsmodels/tsa/base/tsa_model.py:376: ValueWarning: No supported index is available. Prediction results will be given with an integer index beginning at `start`.\n",
      "  warnings.warn('No supported index is available.'\n",
      "/home/hugo/anaconda3/lib/python3.8/site-packages/statsmodels/tsa/base/tsa_model.py:578: ValueWarning: An unsupported index was provided and will be ignored when e.g. forecasting.\n",
      "  warnings.warn('An unsupported index was provided and will be'\n",
      "/home/hugo/anaconda3/lib/python3.8/site-packages/statsmodels/tsa/base/tsa_model.py:578: ValueWarning: An unsupported index was provided and will be ignored when e.g. forecasting.\n",
      "  warnings.warn('An unsupported index was provided and will be'\n"
     ]
    },
    {
     "name": "stdout",
     "output_type": "stream",
     "text": [
      "[ 23:28:24] getting statistics\n",
      "--------------------\n",
      "training window 3942\n"
     ]
    },
    {
     "name": "stderr",
     "output_type": "stream",
     "text": [
      "/home/hugo/anaconda3/lib/python3.8/site-packages/statsmodels/base/model.py:566: ConvergenceWarning: Maximum Likelihood optimization failed to converge. Check mle_retvals\n",
      "  warnings.warn(\"Maximum Likelihood optimization failed to \"\n",
      "/home/hugo/anaconda3/lib/python3.8/site-packages/statsmodels/tsa/base/tsa_model.py:376: ValueWarning: No supported index is available. Prediction results will be given with an integer index beginning at `start`.\n",
      "  warnings.warn('No supported index is available.'\n",
      "/home/hugo/anaconda3/lib/python3.8/site-packages/statsmodels/tsa/base/tsa_model.py:578: ValueWarning: An unsupported index was provided and will be ignored when e.g. forecasting.\n",
      "  warnings.warn('An unsupported index was provided and will be'\n",
      "/home/hugo/anaconda3/lib/python3.8/site-packages/statsmodels/tsa/base/tsa_model.py:578: ValueWarning: An unsupported index was provided and will be ignored when e.g. forecasting.\n",
      "  warnings.warn('An unsupported index was provided and will be'\n"
     ]
    },
    {
     "name": "stdout",
     "output_type": "stream",
     "text": [
      "[ 23:28:42] getting statistics\n",
      "--------------------\n",
      "training window 4599\n"
     ]
    },
    {
     "name": "stderr",
     "output_type": "stream",
     "text": [
      "/home/hugo/anaconda3/lib/python3.8/site-packages/statsmodels/base/model.py:566: ConvergenceWarning: Maximum Likelihood optimization failed to converge. Check mle_retvals\n",
      "  warnings.warn(\"Maximum Likelihood optimization failed to \"\n",
      "/home/hugo/anaconda3/lib/python3.8/site-packages/statsmodels/tsa/base/tsa_model.py:376: ValueWarning: No supported index is available. Prediction results will be given with an integer index beginning at `start`.\n",
      "  warnings.warn('No supported index is available.'\n",
      "/home/hugo/anaconda3/lib/python3.8/site-packages/statsmodels/tsa/base/tsa_model.py:578: ValueWarning: An unsupported index was provided and will be ignored when e.g. forecasting.\n",
      "  warnings.warn('An unsupported index was provided and will be'\n",
      "/home/hugo/anaconda3/lib/python3.8/site-packages/statsmodels/tsa/base/tsa_model.py:578: ValueWarning: An unsupported index was provided and will be ignored when e.g. forecasting.\n",
      "  warnings.warn('An unsupported index was provided and will be'\n"
     ]
    },
    {
     "name": "stdout",
     "output_type": "stream",
     "text": [
      "[ 23:28:57] getting statistics\n",
      "--------------------\n",
      "training window 5256\n"
     ]
    },
    {
     "name": "stderr",
     "output_type": "stream",
     "text": [
      "/home/hugo/anaconda3/lib/python3.8/site-packages/statsmodels/base/model.py:566: ConvergenceWarning: Maximum Likelihood optimization failed to converge. Check mle_retvals\n",
      "  warnings.warn(\"Maximum Likelihood optimization failed to \"\n",
      "/home/hugo/anaconda3/lib/python3.8/site-packages/statsmodels/tsa/base/tsa_model.py:376: ValueWarning: No supported index is available. Prediction results will be given with an integer index beginning at `start`.\n",
      "  warnings.warn('No supported index is available.'\n",
      "/home/hugo/anaconda3/lib/python3.8/site-packages/statsmodels/tsa/base/tsa_model.py:578: ValueWarning: An unsupported index was provided and will be ignored when e.g. forecasting.\n",
      "  warnings.warn('An unsupported index was provided and will be'\n",
      "/home/hugo/anaconda3/lib/python3.8/site-packages/statsmodels/tsa/base/tsa_model.py:578: ValueWarning: An unsupported index was provided and will be ignored when e.g. forecasting.\n",
      "  warnings.warn('An unsupported index was provided and will be'\n"
     ]
    },
    {
     "name": "stdout",
     "output_type": "stream",
     "text": [
      "[ 23:29:12] getting statistics\n",
      "--------------------\n",
      "training window 5913\n"
     ]
    },
    {
     "name": "stderr",
     "output_type": "stream",
     "text": [
      "/home/hugo/anaconda3/lib/python3.8/site-packages/statsmodels/base/model.py:566: ConvergenceWarning: Maximum Likelihood optimization failed to converge. Check mle_retvals\n",
      "  warnings.warn(\"Maximum Likelihood optimization failed to \"\n",
      "/home/hugo/anaconda3/lib/python3.8/site-packages/statsmodels/tsa/base/tsa_model.py:376: ValueWarning: No supported index is available. Prediction results will be given with an integer index beginning at `start`.\n",
      "  warnings.warn('No supported index is available.'\n",
      "/home/hugo/anaconda3/lib/python3.8/site-packages/statsmodels/tsa/base/tsa_model.py:578: ValueWarning: An unsupported index was provided and will be ignored when e.g. forecasting.\n",
      "  warnings.warn('An unsupported index was provided and will be'\n",
      "/home/hugo/anaconda3/lib/python3.8/site-packages/statsmodels/tsa/base/tsa_model.py:578: ValueWarning: An unsupported index was provided and will be ignored when e.g. forecasting.\n",
      "  warnings.warn('An unsupported index was provided and will be'\n"
     ]
    },
    {
     "name": "stdout",
     "output_type": "stream",
     "text": [
      "[ 23:29:28] getting statistics\n",
      "--------------------\n",
      "training window 6570\n"
     ]
    },
    {
     "name": "stderr",
     "output_type": "stream",
     "text": [
      "/home/hugo/anaconda3/lib/python3.8/site-packages/statsmodels/base/model.py:566: ConvergenceWarning: Maximum Likelihood optimization failed to converge. Check mle_retvals\n",
      "  warnings.warn(\"Maximum Likelihood optimization failed to \"\n",
      "/home/hugo/anaconda3/lib/python3.8/site-packages/statsmodels/tsa/base/tsa_model.py:376: ValueWarning: No supported index is available. Prediction results will be given with an integer index beginning at `start`.\n",
      "  warnings.warn('No supported index is available.'\n",
      "/home/hugo/anaconda3/lib/python3.8/site-packages/statsmodels/tsa/base/tsa_model.py:578: ValueWarning: An unsupported index was provided and will be ignored when e.g. forecasting.\n",
      "  warnings.warn('An unsupported index was provided and will be'\n",
      "/home/hugo/anaconda3/lib/python3.8/site-packages/statsmodels/tsa/base/tsa_model.py:578: ValueWarning: An unsupported index was provided and will be ignored when e.g. forecasting.\n",
      "  warnings.warn('An unsupported index was provided and will be'\n"
     ]
    },
    {
     "name": "stdout",
     "output_type": "stream",
     "text": [
      "[ 23:29:43] getting statistics\n",
      "--------------------\n",
      "training window 7227\n"
     ]
    },
    {
     "name": "stderr",
     "output_type": "stream",
     "text": [
      "/home/hugo/anaconda3/lib/python3.8/site-packages/statsmodels/base/model.py:566: ConvergenceWarning: Maximum Likelihood optimization failed to converge. Check mle_retvals\n",
      "  warnings.warn(\"Maximum Likelihood optimization failed to \"\n",
      "/home/hugo/anaconda3/lib/python3.8/site-packages/statsmodels/tsa/base/tsa_model.py:376: ValueWarning: No supported index is available. Prediction results will be given with an integer index beginning at `start`.\n",
      "  warnings.warn('No supported index is available.'\n",
      "/home/hugo/anaconda3/lib/python3.8/site-packages/statsmodels/tsa/base/tsa_model.py:578: ValueWarning: An unsupported index was provided and will be ignored when e.g. forecasting.\n",
      "  warnings.warn('An unsupported index was provided and will be'\n",
      "/home/hugo/anaconda3/lib/python3.8/site-packages/statsmodels/tsa/base/tsa_model.py:578: ValueWarning: An unsupported index was provided and will be ignored when e.g. forecasting.\n",
      "  warnings.warn('An unsupported index was provided and will be'\n"
     ]
    },
    {
     "name": "stdout",
     "output_type": "stream",
     "text": [
      "[ 23:29:59] getting statistics\n",
      "--------------------\n",
      "training window 7884\n"
     ]
    },
    {
     "name": "stderr",
     "output_type": "stream",
     "text": [
      "/home/hugo/anaconda3/lib/python3.8/site-packages/statsmodels/base/model.py:566: ConvergenceWarning: Maximum Likelihood optimization failed to converge. Check mle_retvals\n",
      "  warnings.warn(\"Maximum Likelihood optimization failed to \"\n",
      "/home/hugo/anaconda3/lib/python3.8/site-packages/statsmodels/tsa/base/tsa_model.py:376: ValueWarning: No supported index is available. Prediction results will be given with an integer index beginning at `start`.\n",
      "  warnings.warn('No supported index is available.'\n",
      "/home/hugo/anaconda3/lib/python3.8/site-packages/statsmodels/tsa/base/tsa_model.py:578: ValueWarning: An unsupported index was provided and will be ignored when e.g. forecasting.\n",
      "  warnings.warn('An unsupported index was provided and will be'\n",
      "/home/hugo/anaconda3/lib/python3.8/site-packages/statsmodels/tsa/base/tsa_model.py:578: ValueWarning: An unsupported index was provided and will be ignored when e.g. forecasting.\n",
      "  warnings.warn('An unsupported index was provided and will be'\n"
     ]
    },
    {
     "name": "stdout",
     "output_type": "stream",
     "text": [
      "[ 23:30:16] getting statistics\n",
      "--------------------\n",
      "training window 8541\n"
     ]
    },
    {
     "name": "stderr",
     "output_type": "stream",
     "text": [
      "/home/hugo/anaconda3/lib/python3.8/site-packages/statsmodels/base/model.py:566: ConvergenceWarning: Maximum Likelihood optimization failed to converge. Check mle_retvals\n",
      "  warnings.warn(\"Maximum Likelihood optimization failed to \"\n",
      "/home/hugo/anaconda3/lib/python3.8/site-packages/statsmodels/tsa/base/tsa_model.py:376: ValueWarning: No supported index is available. Prediction results will be given with an integer index beginning at `start`.\n",
      "  warnings.warn('No supported index is available.'\n",
      "/home/hugo/anaconda3/lib/python3.8/site-packages/statsmodels/tsa/base/tsa_model.py:578: ValueWarning: An unsupported index was provided and will be ignored when e.g. forecasting.\n",
      "  warnings.warn('An unsupported index was provided and will be'\n",
      "/home/hugo/anaconda3/lib/python3.8/site-packages/statsmodels/tsa/base/tsa_model.py:578: ValueWarning: An unsupported index was provided and will be ignored when e.g. forecasting.\n",
      "  warnings.warn('An unsupported index was provided and will be'\n"
     ]
    },
    {
     "name": "stdout",
     "output_type": "stream",
     "text": [
      "[ 23:30:30] getting statistics\n",
      "--------------------\n",
      "training window 9198\n"
     ]
    },
    {
     "name": "stderr",
     "output_type": "stream",
     "text": [
      "/home/hugo/anaconda3/lib/python3.8/site-packages/statsmodels/base/model.py:566: ConvergenceWarning: Maximum Likelihood optimization failed to converge. Check mle_retvals\n",
      "  warnings.warn(\"Maximum Likelihood optimization failed to \"\n",
      "/home/hugo/anaconda3/lib/python3.8/site-packages/statsmodels/tsa/base/tsa_model.py:376: ValueWarning: No supported index is available. Prediction results will be given with an integer index beginning at `start`.\n",
      "  warnings.warn('No supported index is available.'\n",
      "/home/hugo/anaconda3/lib/python3.8/site-packages/statsmodels/tsa/base/tsa_model.py:578: ValueWarning: An unsupported index was provided and will be ignored when e.g. forecasting.\n",
      "  warnings.warn('An unsupported index was provided and will be'\n",
      "/home/hugo/anaconda3/lib/python3.8/site-packages/statsmodels/tsa/base/tsa_model.py:578: ValueWarning: An unsupported index was provided and will be ignored when e.g. forecasting.\n",
      "  warnings.warn('An unsupported index was provided and will be'\n"
     ]
    },
    {
     "name": "stdout",
     "output_type": "stream",
     "text": [
      "[ 23:30:45] getting statistics\n",
      "--------------------\n",
      "training window 9855\n"
     ]
    },
    {
     "name": "stderr",
     "output_type": "stream",
     "text": [
      "/home/hugo/anaconda3/lib/python3.8/site-packages/statsmodels/base/model.py:566: ConvergenceWarning: Maximum Likelihood optimization failed to converge. Check mle_retvals\n",
      "  warnings.warn(\"Maximum Likelihood optimization failed to \"\n",
      "/home/hugo/anaconda3/lib/python3.8/site-packages/statsmodels/tsa/base/tsa_model.py:376: ValueWarning: No supported index is available. Prediction results will be given with an integer index beginning at `start`.\n",
      "  warnings.warn('No supported index is available.'\n",
      "/home/hugo/anaconda3/lib/python3.8/site-packages/statsmodels/tsa/base/tsa_model.py:578: ValueWarning: An unsupported index was provided and will be ignored when e.g. forecasting.\n",
      "  warnings.warn('An unsupported index was provided and will be'\n",
      "/home/hugo/anaconda3/lib/python3.8/site-packages/statsmodels/tsa/base/tsa_model.py:578: ValueWarning: An unsupported index was provided and will be ignored when e.g. forecasting.\n",
      "  warnings.warn('An unsupported index was provided and will be'\n"
     ]
    },
    {
     "name": "stdout",
     "output_type": "stream",
     "text": [
      "[ 23:31:01] getting statistics\n",
      "--------------------\n",
      "training window 10512\n"
     ]
    },
    {
     "name": "stderr",
     "output_type": "stream",
     "text": [
      "/home/hugo/anaconda3/lib/python3.8/site-packages/statsmodels/base/model.py:566: ConvergenceWarning: Maximum Likelihood optimization failed to converge. Check mle_retvals\n",
      "  warnings.warn(\"Maximum Likelihood optimization failed to \"\n",
      "/home/hugo/anaconda3/lib/python3.8/site-packages/statsmodels/tsa/base/tsa_model.py:376: ValueWarning: No supported index is available. Prediction results will be given with an integer index beginning at `start`.\n",
      "  warnings.warn('No supported index is available.'\n",
      "/home/hugo/anaconda3/lib/python3.8/site-packages/statsmodels/tsa/base/tsa_model.py:578: ValueWarning: An unsupported index was provided and will be ignored when e.g. forecasting.\n",
      "  warnings.warn('An unsupported index was provided and will be'\n",
      "/home/hugo/anaconda3/lib/python3.8/site-packages/statsmodels/tsa/base/tsa_model.py:578: ValueWarning: An unsupported index was provided and will be ignored when e.g. forecasting.\n",
      "  warnings.warn('An unsupported index was provided and will be'\n"
     ]
    },
    {
     "name": "stdout",
     "output_type": "stream",
     "text": [
      "[ 23:31:13] getting statistics\n",
      "--------------------\n",
      "training window 11169\n"
     ]
    },
    {
     "name": "stderr",
     "output_type": "stream",
     "text": [
      "/home/hugo/anaconda3/lib/python3.8/site-packages/statsmodels/base/model.py:566: ConvergenceWarning: Maximum Likelihood optimization failed to converge. Check mle_retvals\n",
      "  warnings.warn(\"Maximum Likelihood optimization failed to \"\n",
      "/home/hugo/anaconda3/lib/python3.8/site-packages/statsmodels/tsa/base/tsa_model.py:376: ValueWarning: No supported index is available. Prediction results will be given with an integer index beginning at `start`.\n",
      "  warnings.warn('No supported index is available.'\n",
      "/home/hugo/anaconda3/lib/python3.8/site-packages/statsmodels/tsa/base/tsa_model.py:578: ValueWarning: An unsupported index was provided and will be ignored when e.g. forecasting.\n",
      "  warnings.warn('An unsupported index was provided and will be'\n",
      "/home/hugo/anaconda3/lib/python3.8/site-packages/statsmodels/tsa/base/tsa_model.py:578: ValueWarning: An unsupported index was provided and will be ignored when e.g. forecasting.\n",
      "  warnings.warn('An unsupported index was provided and will be'\n"
     ]
    },
    {
     "name": "stdout",
     "output_type": "stream",
     "text": [
      "[ 23:31:27] getting statistics\n",
      "--------------------\n",
      "training window 11826\n"
     ]
    },
    {
     "name": "stderr",
     "output_type": "stream",
     "text": [
      "/home/hugo/anaconda3/lib/python3.8/site-packages/statsmodels/base/model.py:566: ConvergenceWarning: Maximum Likelihood optimization failed to converge. Check mle_retvals\n",
      "  warnings.warn(\"Maximum Likelihood optimization failed to \"\n",
      "/home/hugo/anaconda3/lib/python3.8/site-packages/statsmodels/tsa/base/tsa_model.py:376: ValueWarning: No supported index is available. Prediction results will be given with an integer index beginning at `start`.\n",
      "  warnings.warn('No supported index is available.'\n",
      "/home/hugo/anaconda3/lib/python3.8/site-packages/statsmodels/tsa/base/tsa_model.py:578: ValueWarning: An unsupported index was provided and will be ignored when e.g. forecasting.\n",
      "  warnings.warn('An unsupported index was provided and will be'\n",
      "/home/hugo/anaconda3/lib/python3.8/site-packages/statsmodels/tsa/base/tsa_model.py:578: ValueWarning: An unsupported index was provided and will be ignored when e.g. forecasting.\n",
      "  warnings.warn('An unsupported index was provided and will be'\n"
     ]
    },
    {
     "name": "stdout",
     "output_type": "stream",
     "text": [
      "[ 23:31:41] getting statistics\n",
      "--------------------\n",
      "training window 12483\n"
     ]
    },
    {
     "name": "stderr",
     "output_type": "stream",
     "text": [
      "/home/hugo/anaconda3/lib/python3.8/site-packages/statsmodels/base/model.py:566: ConvergenceWarning: Maximum Likelihood optimization failed to converge. Check mle_retvals\n",
      "  warnings.warn(\"Maximum Likelihood optimization failed to \"\n",
      "/home/hugo/anaconda3/lib/python3.8/site-packages/statsmodels/tsa/base/tsa_model.py:376: ValueWarning: No supported index is available. Prediction results will be given with an integer index beginning at `start`.\n",
      "  warnings.warn('No supported index is available.'\n",
      "/home/hugo/anaconda3/lib/python3.8/site-packages/statsmodels/tsa/base/tsa_model.py:578: ValueWarning: An unsupported index was provided and will be ignored when e.g. forecasting.\n",
      "  warnings.warn('An unsupported index was provided and will be'\n",
      "/home/hugo/anaconda3/lib/python3.8/site-packages/statsmodels/tsa/base/tsa_model.py:578: ValueWarning: An unsupported index was provided and will be ignored when e.g. forecasting.\n",
      "  warnings.warn('An unsupported index was provided and will be'\n"
     ]
    },
    {
     "name": "stdout",
     "output_type": "stream",
     "text": [
      "[ 23:31:56] getting statistics\n",
      "--------------------\n",
      "training window 13140\n"
     ]
    },
    {
     "name": "stderr",
     "output_type": "stream",
     "text": [
      "/home/hugo/anaconda3/lib/python3.8/site-packages/statsmodels/base/model.py:566: ConvergenceWarning: Maximum Likelihood optimization failed to converge. Check mle_retvals\n",
      "  warnings.warn(\"Maximum Likelihood optimization failed to \"\n",
      "/home/hugo/anaconda3/lib/python3.8/site-packages/statsmodels/tsa/base/tsa_model.py:376: ValueWarning: No supported index is available. Prediction results will be given with an integer index beginning at `start`.\n",
      "  warnings.warn('No supported index is available.'\n",
      "/home/hugo/anaconda3/lib/python3.8/site-packages/statsmodels/tsa/base/tsa_model.py:578: ValueWarning: An unsupported index was provided and will be ignored when e.g. forecasting.\n",
      "  warnings.warn('An unsupported index was provided and will be'\n",
      "/home/hugo/anaconda3/lib/python3.8/site-packages/statsmodels/tsa/base/tsa_model.py:578: ValueWarning: An unsupported index was provided and will be ignored when e.g. forecasting.\n",
      "  warnings.warn('An unsupported index was provided and will be'\n"
     ]
    },
    {
     "name": "stdout",
     "output_type": "stream",
     "text": [
      "[ 23:32:09] getting statistics\n",
      "--------------------\n",
      "training window 13797\n"
     ]
    },
    {
     "name": "stderr",
     "output_type": "stream",
     "text": [
      "/home/hugo/anaconda3/lib/python3.8/site-packages/statsmodels/base/model.py:566: ConvergenceWarning: Maximum Likelihood optimization failed to converge. Check mle_retvals\n",
      "  warnings.warn(\"Maximum Likelihood optimization failed to \"\n",
      "/home/hugo/anaconda3/lib/python3.8/site-packages/statsmodels/tsa/base/tsa_model.py:376: ValueWarning: No supported index is available. Prediction results will be given with an integer index beginning at `start`.\n",
      "  warnings.warn('No supported index is available.'\n",
      "/home/hugo/anaconda3/lib/python3.8/site-packages/statsmodels/tsa/base/tsa_model.py:578: ValueWarning: An unsupported index was provided and will be ignored when e.g. forecasting.\n",
      "  warnings.warn('An unsupported index was provided and will be'\n",
      "/home/hugo/anaconda3/lib/python3.8/site-packages/statsmodels/tsa/base/tsa_model.py:578: ValueWarning: An unsupported index was provided and will be ignored when e.g. forecasting.\n",
      "  warnings.warn('An unsupported index was provided and will be'\n"
     ]
    },
    {
     "name": "stdout",
     "output_type": "stream",
     "text": [
      "[ 23:32:22] getting statistics\n",
      "--------------------\n",
      "training window 14454\n"
     ]
    },
    {
     "name": "stderr",
     "output_type": "stream",
     "text": [
      "/home/hugo/anaconda3/lib/python3.8/site-packages/statsmodels/base/model.py:566: ConvergenceWarning: Maximum Likelihood optimization failed to converge. Check mle_retvals\n",
      "  warnings.warn(\"Maximum Likelihood optimization failed to \"\n",
      "/home/hugo/anaconda3/lib/python3.8/site-packages/statsmodels/tsa/base/tsa_model.py:376: ValueWarning: No supported index is available. Prediction results will be given with an integer index beginning at `start`.\n",
      "  warnings.warn('No supported index is available.'\n",
      "/home/hugo/anaconda3/lib/python3.8/site-packages/statsmodels/tsa/base/tsa_model.py:578: ValueWarning: An unsupported index was provided and will be ignored when e.g. forecasting.\n",
      "  warnings.warn('An unsupported index was provided and will be'\n",
      "/home/hugo/anaconda3/lib/python3.8/site-packages/statsmodels/tsa/base/tsa_model.py:578: ValueWarning: An unsupported index was provided and will be ignored when e.g. forecasting.\n",
      "  warnings.warn('An unsupported index was provided and will be'\n"
     ]
    },
    {
     "name": "stdout",
     "output_type": "stream",
     "text": [
      "[ 23:32:35] getting statistics\n",
      "--------------------\n",
      "training window 15111\n"
     ]
    },
    {
     "name": "stderr",
     "output_type": "stream",
     "text": [
      "/home/hugo/anaconda3/lib/python3.8/site-packages/statsmodels/base/model.py:566: ConvergenceWarning: Maximum Likelihood optimization failed to converge. Check mle_retvals\n",
      "  warnings.warn(\"Maximum Likelihood optimization failed to \"\n",
      "/home/hugo/anaconda3/lib/python3.8/site-packages/statsmodels/tsa/base/tsa_model.py:376: ValueWarning: No supported index is available. Prediction results will be given with an integer index beginning at `start`.\n",
      "  warnings.warn('No supported index is available.'\n",
      "/home/hugo/anaconda3/lib/python3.8/site-packages/statsmodels/tsa/base/tsa_model.py:578: ValueWarning: An unsupported index was provided and will be ignored when e.g. forecasting.\n",
      "  warnings.warn('An unsupported index was provided and will be'\n",
      "/home/hugo/anaconda3/lib/python3.8/site-packages/statsmodels/tsa/base/tsa_model.py:578: ValueWarning: An unsupported index was provided and will be ignored when e.g. forecasting.\n",
      "  warnings.warn('An unsupported index was provided and will be'\n"
     ]
    },
    {
     "name": "stdout",
     "output_type": "stream",
     "text": [
      "[ 23:32:48] getting statistics\n",
      "--------------------\n",
      "training window 15768\n"
     ]
    },
    {
     "name": "stderr",
     "output_type": "stream",
     "text": [
      "/home/hugo/anaconda3/lib/python3.8/site-packages/statsmodels/base/model.py:566: ConvergenceWarning: Maximum Likelihood optimization failed to converge. Check mle_retvals\n",
      "  warnings.warn(\"Maximum Likelihood optimization failed to \"\n",
      "/home/hugo/anaconda3/lib/python3.8/site-packages/statsmodels/tsa/base/tsa_model.py:376: ValueWarning: No supported index is available. Prediction results will be given with an integer index beginning at `start`.\n",
      "  warnings.warn('No supported index is available.'\n",
      "/home/hugo/anaconda3/lib/python3.8/site-packages/statsmodels/tsa/base/tsa_model.py:578: ValueWarning: An unsupported index was provided and will be ignored when e.g. forecasting.\n",
      "  warnings.warn('An unsupported index was provided and will be'\n",
      "/home/hugo/anaconda3/lib/python3.8/site-packages/statsmodels/tsa/base/tsa_model.py:578: ValueWarning: An unsupported index was provided and will be ignored when e.g. forecasting.\n",
      "  warnings.warn('An unsupported index was provided and will be'\n"
     ]
    },
    {
     "name": "stdout",
     "output_type": "stream",
     "text": [
      "[ 23:33:02] getting statistics\n",
      "--------------------\n",
      "training window 16425\n"
     ]
    },
    {
     "name": "stderr",
     "output_type": "stream",
     "text": [
      "/home/hugo/anaconda3/lib/python3.8/site-packages/statsmodels/base/model.py:566: ConvergenceWarning: Maximum Likelihood optimization failed to converge. Check mle_retvals\n",
      "  warnings.warn(\"Maximum Likelihood optimization failed to \"\n",
      "/home/hugo/anaconda3/lib/python3.8/site-packages/statsmodels/tsa/base/tsa_model.py:376: ValueWarning: No supported index is available. Prediction results will be given with an integer index beginning at `start`.\n",
      "  warnings.warn('No supported index is available.'\n",
      "/home/hugo/anaconda3/lib/python3.8/site-packages/statsmodels/tsa/base/tsa_model.py:578: ValueWarning: An unsupported index was provided and will be ignored when e.g. forecasting.\n",
      "  warnings.warn('An unsupported index was provided and will be'\n",
      "/home/hugo/anaconda3/lib/python3.8/site-packages/statsmodels/tsa/base/tsa_model.py:578: ValueWarning: An unsupported index was provided and will be ignored when e.g. forecasting.\n",
      "  warnings.warn('An unsupported index was provided and will be'\n"
     ]
    },
    {
     "name": "stdout",
     "output_type": "stream",
     "text": [
      "[ 23:33:17] getting statistics\n",
      "--------------------\n",
      "training window 17082\n"
     ]
    },
    {
     "name": "stderr",
     "output_type": "stream",
     "text": [
      "/home/hugo/anaconda3/lib/python3.8/site-packages/statsmodels/base/model.py:566: ConvergenceWarning: Maximum Likelihood optimization failed to converge. Check mle_retvals\n",
      "  warnings.warn(\"Maximum Likelihood optimization failed to \"\n",
      "/home/hugo/anaconda3/lib/python3.8/site-packages/statsmodels/tsa/base/tsa_model.py:376: ValueWarning: No supported index is available. Prediction results will be given with an integer index beginning at `start`.\n",
      "  warnings.warn('No supported index is available.'\n",
      "/home/hugo/anaconda3/lib/python3.8/site-packages/statsmodels/tsa/base/tsa_model.py:578: ValueWarning: An unsupported index was provided and will be ignored when e.g. forecasting.\n",
      "  warnings.warn('An unsupported index was provided and will be'\n",
      "/home/hugo/anaconda3/lib/python3.8/site-packages/statsmodels/tsa/base/tsa_model.py:578: ValueWarning: An unsupported index was provided and will be ignored when e.g. forecasting.\n",
      "  warnings.warn('An unsupported index was provided and will be'\n"
     ]
    },
    {
     "name": "stdout",
     "output_type": "stream",
     "text": [
      "[ 23:33:31] getting statistics\n",
      "--------------------\n",
      "training window 17739\n"
     ]
    },
    {
     "name": "stderr",
     "output_type": "stream",
     "text": [
      "/home/hugo/anaconda3/lib/python3.8/site-packages/statsmodels/base/model.py:566: ConvergenceWarning: Maximum Likelihood optimization failed to converge. Check mle_retvals\n",
      "  warnings.warn(\"Maximum Likelihood optimization failed to \"\n",
      "/home/hugo/anaconda3/lib/python3.8/site-packages/statsmodels/tsa/base/tsa_model.py:376: ValueWarning: No supported index is available. Prediction results will be given with an integer index beginning at `start`.\n",
      "  warnings.warn('No supported index is available.'\n",
      "/home/hugo/anaconda3/lib/python3.8/site-packages/statsmodels/tsa/base/tsa_model.py:578: ValueWarning: An unsupported index was provided and will be ignored when e.g. forecasting.\n",
      "  warnings.warn('An unsupported index was provided and will be'\n",
      "/home/hugo/anaconda3/lib/python3.8/site-packages/statsmodels/tsa/base/tsa_model.py:578: ValueWarning: An unsupported index was provided and will be ignored when e.g. forecasting.\n",
      "  warnings.warn('An unsupported index was provided and will be'\n"
     ]
    },
    {
     "name": "stdout",
     "output_type": "stream",
     "text": [
      "[ 23:33:44] getting statistics\n",
      "--------------------\n",
      "training window 18396\n"
     ]
    },
    {
     "name": "stderr",
     "output_type": "stream",
     "text": [
      "/home/hugo/anaconda3/lib/python3.8/site-packages/statsmodels/base/model.py:566: ConvergenceWarning: Maximum Likelihood optimization failed to converge. Check mle_retvals\n",
      "  warnings.warn(\"Maximum Likelihood optimization failed to \"\n",
      "/home/hugo/anaconda3/lib/python3.8/site-packages/statsmodels/tsa/base/tsa_model.py:376: ValueWarning: No supported index is available. Prediction results will be given with an integer index beginning at `start`.\n",
      "  warnings.warn('No supported index is available.'\n",
      "/home/hugo/anaconda3/lib/python3.8/site-packages/statsmodels/tsa/base/tsa_model.py:578: ValueWarning: An unsupported index was provided and will be ignored when e.g. forecasting.\n",
      "  warnings.warn('An unsupported index was provided and will be'\n",
      "/home/hugo/anaconda3/lib/python3.8/site-packages/statsmodels/tsa/base/tsa_model.py:578: ValueWarning: An unsupported index was provided and will be ignored when e.g. forecasting.\n",
      "  warnings.warn('An unsupported index was provided and will be'\n"
     ]
    },
    {
     "name": "stdout",
     "output_type": "stream",
     "text": [
      "[ 23:33:58] getting statistics\n",
      "--------------------\n",
      "training window 19053\n"
     ]
    },
    {
     "name": "stderr",
     "output_type": "stream",
     "text": [
      "/home/hugo/anaconda3/lib/python3.8/site-packages/statsmodels/base/model.py:566: ConvergenceWarning: Maximum Likelihood optimization failed to converge. Check mle_retvals\n",
      "  warnings.warn(\"Maximum Likelihood optimization failed to \"\n"
     ]
    },
    {
     "name": "stdout",
     "output_type": "stream",
     "text": [
      "[ 23:34:10] getting statistics\n"
     ]
    },
    {
     "name": "stderr",
     "output_type": "stream",
     "text": [
      "/home/hugo/anaconda3/lib/python3.8/site-packages/statsmodels/tsa/base/tsa_model.py:376: ValueWarning: No supported index is available. Prediction results will be given with an integer index beginning at `start`.\n",
      "  warnings.warn('No supported index is available.'\n"
     ]
    }
   ],
   "source": [
    "result = {\n",
    "     \"window\": [],\n",
    "     \"rmse\": [],\n",
    "     \"mae\": [],\n",
    "     \"mape\": [],\n",
    "     \"smape\": [],\n",
    "     \"nrmse\":[]\n",
    "}\n",
    "\n",
    "tam = len(data)\n",
    "n_windows = 30\n",
    "windows_length = math.floor(tam / n_windows)\n",
    "for ct, ttrain, ttest in Util.sliding_window(data_scaled, windows_length, 0.75, inc=1):\n",
    "    if len(ttest) > 0:\n",
    "        \n",
    "        start = len(ttrain)\n",
    "        end = len(ttrain)+ len(ttest) -1\n",
    "        \n",
    "        print('-' * 20)\n",
    "        print(f'training window {(ct)}')\n",
    "        model = train_sarimax(endog = ttrain.loc[:,'Appliances(t)'], \n",
    "                              exog = ttrain.loc[:,'lights(t-1)':'Tdewpoint(t-1)'], \n",
    "                              order = [0,0,1], \n",
    "                              seasonal_order = [0,1,1,7])\n",
    "        \n",
    "        yhat = test_sarimax(model, start, end, exog=ttest.loc[:,'lights(t-1)':'Tdewpoint(t-1)']) \n",
    "        \n",
    "        print(\"[{0: %H:%M:%S}]\".format(datetime.datetime.now()) + f\" getting statistics\")\n",
    "\n",
    "        test_X = ttest.loc[:,'Appliances(t-1)':'Tdewpoint(t-1)'].values\n",
    "        test_X = test_X.reshape((test_X.shape[0],test_X.shape[1]))\n",
    "        test_y = ttest['Appliances(t)'].values\n",
    "        \n",
    "        appliances,forecast = transform_original(test_X = test_X,test_y = test_y,yhat = yhat.values)\n",
    "        \n",
    "        rmse = Measures.rmse(appliances,forecast)\n",
    "        mape = Measures.mape(appliances,forecast)\n",
    "        smape = Measures.smape(appliances,forecast)\n",
    "        \n",
    "        forecast = pd.DataFrame(forecast)\n",
    "        forecast.fillna(forecast.mean(),inplace=True)\n",
    "        forecast = np.array(forecast).reshape(-1)\n",
    "        mae = mean_absolute_error(appliances, forecast)\n",
    "        \n",
    "        nrmse = cal_nrmse(rmse, appliances)\n",
    "                \n",
    "        result[\"rmse\"].append(round(rmse,3))\n",
    "        result[\"mae\"].append(round(mae,3))\n",
    "        result[\"mape\"].append(round(mape,3))\n",
    "        result[\"smape\"].append(round(smape,3))\n",
    "        result[\"nrmse\"].append(round(nrmse,3))\n",
    "        result[\"window\"].append(ct)\n",
    "\n",
    "measures = pd.DataFrame(result)\n"
   ]
  },
  {
   "cell_type": "code",
   "execution_count": 17,
   "id": "finished-transcription",
   "metadata": {},
   "outputs": [
    {
     "data": {
      "text/html": [
       "<div>\n",
       "<style scoped>\n",
       "    .dataframe tbody tr th:only-of-type {\n",
       "        vertical-align: middle;\n",
       "    }\n",
       "\n",
       "    .dataframe tbody tr th {\n",
       "        vertical-align: top;\n",
       "    }\n",
       "\n",
       "    .dataframe thead th {\n",
       "        text-align: right;\n",
       "    }\n",
       "</style>\n",
       "<table border=\"1\" class=\"dataframe\">\n",
       "  <thead>\n",
       "    <tr style=\"text-align: right;\">\n",
       "      <th></th>\n",
       "      <th>window</th>\n",
       "      <th>rmse</th>\n",
       "      <th>mae</th>\n",
       "      <th>mape</th>\n",
       "      <th>smape</th>\n",
       "      <th>nrmse</th>\n",
       "    </tr>\n",
       "  </thead>\n",
       "  <tbody>\n",
       "    <tr>\n",
       "      <th>0</th>\n",
       "      <td>0</td>\n",
       "      <td>209.323</td>\n",
       "      <td>171.710</td>\n",
       "      <td>263.335</td>\n",
       "      <td>49.828</td>\n",
       "      <td>0.436</td>\n",
       "    </tr>\n",
       "    <tr>\n",
       "      <th>1</th>\n",
       "      <td>657</td>\n",
       "      <td>415.183</td>\n",
       "      <td>352.147</td>\n",
       "      <td>521.305</td>\n",
       "      <td>62.236</td>\n",
       "      <td>0.513</td>\n",
       "    </tr>\n",
       "    <tr>\n",
       "      <th>2</th>\n",
       "      <td>1314</td>\n",
       "      <td>406.794</td>\n",
       "      <td>267.534</td>\n",
       "      <td>226.914</td>\n",
       "      <td>68.484</td>\n",
       "      <td>0.490</td>\n",
       "    </tr>\n",
       "    <tr>\n",
       "      <th>3</th>\n",
       "      <td>1971</td>\n",
       "      <td>61.757</td>\n",
       "      <td>48.906</td>\n",
       "      <td>127.495</td>\n",
       "      <td>55.378</td>\n",
       "      <td>0.618</td>\n",
       "    </tr>\n",
       "    <tr>\n",
       "      <th>4</th>\n",
       "      <td>2628</td>\n",
       "      <td>192.104</td>\n",
       "      <td>175.634</td>\n",
       "      <td>254.805</td>\n",
       "      <td>49.921</td>\n",
       "      <td>0.337</td>\n",
       "    </tr>\n",
       "    <tr>\n",
       "      <th>5</th>\n",
       "      <td>3285</td>\n",
       "      <td>101.831</td>\n",
       "      <td>87.920</td>\n",
       "      <td>165.851</td>\n",
       "      <td>40.796</td>\n",
       "      <td>0.248</td>\n",
       "    </tr>\n",
       "    <tr>\n",
       "      <th>6</th>\n",
       "      <td>3942</td>\n",
       "      <td>163.073</td>\n",
       "      <td>127.312</td>\n",
       "      <td>135.953</td>\n",
       "      <td>62.569</td>\n",
       "      <td>0.223</td>\n",
       "    </tr>\n",
       "    <tr>\n",
       "      <th>7</th>\n",
       "      <td>4599</td>\n",
       "      <td>140.001</td>\n",
       "      <td>101.341</td>\n",
       "      <td>120.771</td>\n",
       "      <td>70.822</td>\n",
       "      <td>0.209</td>\n",
       "    </tr>\n",
       "    <tr>\n",
       "      <th>8</th>\n",
       "      <td>5256</td>\n",
       "      <td>158.328</td>\n",
       "      <td>129.519</td>\n",
       "      <td>187.939</td>\n",
       "      <td>46.965</td>\n",
       "      <td>0.323</td>\n",
       "    </tr>\n",
       "    <tr>\n",
       "      <th>9</th>\n",
       "      <td>5913</td>\n",
       "      <td>131.002</td>\n",
       "      <td>77.138</td>\n",
       "      <td>77.272</td>\n",
       "      <td>42.793</td>\n",
       "      <td>0.172</td>\n",
       "    </tr>\n",
       "    <tr>\n",
       "      <th>10</th>\n",
       "      <td>6570</td>\n",
       "      <td>183.522</td>\n",
       "      <td>160.546</td>\n",
       "      <td>300.635</td>\n",
       "      <td>55.795</td>\n",
       "      <td>0.334</td>\n",
       "    </tr>\n",
       "    <tr>\n",
       "      <th>11</th>\n",
       "      <td>7227</td>\n",
       "      <td>76.886</td>\n",
       "      <td>43.332</td>\n",
       "      <td>48.374</td>\n",
       "      <td>28.461</td>\n",
       "      <td>0.130</td>\n",
       "    </tr>\n",
       "    <tr>\n",
       "      <th>12</th>\n",
       "      <td>7884</td>\n",
       "      <td>257.180</td>\n",
       "      <td>176.186</td>\n",
       "      <td>207.749</td>\n",
       "      <td>62.562</td>\n",
       "      <td>0.378</td>\n",
       "    </tr>\n",
       "    <tr>\n",
       "      <th>13</th>\n",
       "      <td>8541</td>\n",
       "      <td>185.152</td>\n",
       "      <td>129.245</td>\n",
       "      <td>126.922</td>\n",
       "      <td>48.502</td>\n",
       "      <td>0.268</td>\n",
       "    </tr>\n",
       "    <tr>\n",
       "      <th>14</th>\n",
       "      <td>9198</td>\n",
       "      <td>112.277</td>\n",
       "      <td>73.257</td>\n",
       "      <td>77.414</td>\n",
       "      <td>29.228</td>\n",
       "      <td>0.168</td>\n",
       "    </tr>\n",
       "    <tr>\n",
       "      <th>15</th>\n",
       "      <td>9855</td>\n",
       "      <td>103.541</td>\n",
       "      <td>74.489</td>\n",
       "      <td>114.756</td>\n",
       "      <td>32.245</td>\n",
       "      <td>0.545</td>\n",
       "    </tr>\n",
       "    <tr>\n",
       "      <th>16</th>\n",
       "      <td>10512</td>\n",
       "      <td>198.406</td>\n",
       "      <td>142.556</td>\n",
       "      <td>124.869</td>\n",
       "      <td>84.130</td>\n",
       "      <td>0.315</td>\n",
       "    </tr>\n",
       "    <tr>\n",
       "      <th>17</th>\n",
       "      <td>11169</td>\n",
       "      <td>40.562</td>\n",
       "      <td>32.027</td>\n",
       "      <td>74.614</td>\n",
       "      <td>23.815</td>\n",
       "      <td>0.676</td>\n",
       "    </tr>\n",
       "    <tr>\n",
       "      <th>18</th>\n",
       "      <td>11826</td>\n",
       "      <td>175.567</td>\n",
       "      <td>158.607</td>\n",
       "      <td>225.095</td>\n",
       "      <td>59.975</td>\n",
       "      <td>0.399</td>\n",
       "    </tr>\n",
       "    <tr>\n",
       "      <th>19</th>\n",
       "      <td>12483</td>\n",
       "      <td>102.863</td>\n",
       "      <td>87.063</td>\n",
       "      <td>138.663</td>\n",
       "      <td>49.031</td>\n",
       "      <td>0.294</td>\n",
       "    </tr>\n",
       "    <tr>\n",
       "      <th>20</th>\n",
       "      <td>13140</td>\n",
       "      <td>204.828</td>\n",
       "      <td>191.594</td>\n",
       "      <td>264.511</td>\n",
       "      <td>52.750</td>\n",
       "      <td>0.270</td>\n",
       "    </tr>\n",
       "    <tr>\n",
       "      <th>21</th>\n",
       "      <td>13797</td>\n",
       "      <td>98.298</td>\n",
       "      <td>80.728</td>\n",
       "      <td>138.133</td>\n",
       "      <td>61.773</td>\n",
       "      <td>0.189</td>\n",
       "    </tr>\n",
       "    <tr>\n",
       "      <th>22</th>\n",
       "      <td>14454</td>\n",
       "      <td>165.652</td>\n",
       "      <td>140.668</td>\n",
       "      <td>215.926</td>\n",
       "      <td>72.032</td>\n",
       "      <td>1.841</td>\n",
       "    </tr>\n",
       "    <tr>\n",
       "      <th>23</th>\n",
       "      <td>15111</td>\n",
       "      <td>187.351</td>\n",
       "      <td>150.887</td>\n",
       "      <td>182.233</td>\n",
       "      <td>77.625</td>\n",
       "      <td>0.247</td>\n",
       "    </tr>\n",
       "    <tr>\n",
       "      <th>24</th>\n",
       "      <td>15768</td>\n",
       "      <td>188.830</td>\n",
       "      <td>153.758</td>\n",
       "      <td>233.144</td>\n",
       "      <td>77.648</td>\n",
       "      <td>0.429</td>\n",
       "    </tr>\n",
       "    <tr>\n",
       "      <th>25</th>\n",
       "      <td>16425</td>\n",
       "      <td>103.977</td>\n",
       "      <td>85.828</td>\n",
       "      <td>146.644</td>\n",
       "      <td>41.304</td>\n",
       "      <td>0.281</td>\n",
       "    </tr>\n",
       "    <tr>\n",
       "      <th>26</th>\n",
       "      <td>17082</td>\n",
       "      <td>234.602</td>\n",
       "      <td>161.497</td>\n",
       "      <td>84.700</td>\n",
       "      <td>60.241</td>\n",
       "      <td>0.378</td>\n",
       "    </tr>\n",
       "    <tr>\n",
       "      <th>27</th>\n",
       "      <td>17739</td>\n",
       "      <td>155.847</td>\n",
       "      <td>137.099</td>\n",
       "      <td>251.324</td>\n",
       "      <td>49.347</td>\n",
       "      <td>0.433</td>\n",
       "    </tr>\n",
       "    <tr>\n",
       "      <th>28</th>\n",
       "      <td>18396</td>\n",
       "      <td>124.337</td>\n",
       "      <td>109.360</td>\n",
       "      <td>125.419</td>\n",
       "      <td>36.870</td>\n",
       "      <td>0.276</td>\n",
       "    </tr>\n",
       "    <tr>\n",
       "      <th>29</th>\n",
       "      <td>19053</td>\n",
       "      <td>282.994</td>\n",
       "      <td>258.010</td>\n",
       "      <td>335.793</td>\n",
       "      <td>52.336</td>\n",
       "      <td>0.349</td>\n",
       "    </tr>\n",
       "  </tbody>\n",
       "</table>\n",
       "</div>"
      ],
      "text/plain": [
       "    window     rmse      mae     mape   smape  nrmse\n",
       "0        0  209.323  171.710  263.335  49.828  0.436\n",
       "1      657  415.183  352.147  521.305  62.236  0.513\n",
       "2     1314  406.794  267.534  226.914  68.484  0.490\n",
       "3     1971   61.757   48.906  127.495  55.378  0.618\n",
       "4     2628  192.104  175.634  254.805  49.921  0.337\n",
       "5     3285  101.831   87.920  165.851  40.796  0.248\n",
       "6     3942  163.073  127.312  135.953  62.569  0.223\n",
       "7     4599  140.001  101.341  120.771  70.822  0.209\n",
       "8     5256  158.328  129.519  187.939  46.965  0.323\n",
       "9     5913  131.002   77.138   77.272  42.793  0.172\n",
       "10    6570  183.522  160.546  300.635  55.795  0.334\n",
       "11    7227   76.886   43.332   48.374  28.461  0.130\n",
       "12    7884  257.180  176.186  207.749  62.562  0.378\n",
       "13    8541  185.152  129.245  126.922  48.502  0.268\n",
       "14    9198  112.277   73.257   77.414  29.228  0.168\n",
       "15    9855  103.541   74.489  114.756  32.245  0.545\n",
       "16   10512  198.406  142.556  124.869  84.130  0.315\n",
       "17   11169   40.562   32.027   74.614  23.815  0.676\n",
       "18   11826  175.567  158.607  225.095  59.975  0.399\n",
       "19   12483  102.863   87.063  138.663  49.031  0.294\n",
       "20   13140  204.828  191.594  264.511  52.750  0.270\n",
       "21   13797   98.298   80.728  138.133  61.773  0.189\n",
       "22   14454  165.652  140.668  215.926  72.032  1.841\n",
       "23   15111  187.351  150.887  182.233  77.625  0.247\n",
       "24   15768  188.830  153.758  233.144  77.648  0.429\n",
       "25   16425  103.977   85.828  146.644  41.304  0.281\n",
       "26   17082  234.602  161.497   84.700  60.241  0.378\n",
       "27   17739  155.847  137.099  251.324  49.347  0.433\n",
       "28   18396  124.337  109.360  125.419  36.870  0.276\n",
       "29   19053  282.994  258.010  335.793  52.336  0.349"
      ]
     },
     "execution_count": 17,
     "metadata": {},
     "output_type": "execute_result"
    }
   ],
   "source": [
    "measures"
   ]
  },
  {
   "cell_type": "code",
   "execution_count": 29,
   "id": "saving-little",
   "metadata": {},
   "outputs": [],
   "source": [
    "#measures.to_csv (r'win_sarimax_aec.csv', index = False, header=True)"
   ]
  },
  {
   "cell_type": "markdown",
   "id": "administrative-guest",
   "metadata": {},
   "source": [
    "### Mean Statistics SARIMAX"
   ]
  },
  {
   "cell_type": "code",
   "execution_count": 19,
   "id": "registered-browser",
   "metadata": {},
   "outputs": [
    {
     "name": "stdout",
     "output_type": "stream",
     "text": [
      "Mean Statistics SARIMAX (test): \n"
     ]
    },
    {
     "data": {
      "text/html": [
       "<div>\n",
       "<style scoped>\n",
       "    .dataframe tbody tr th:only-of-type {\n",
       "        vertical-align: middle;\n",
       "    }\n",
       "\n",
       "    .dataframe tbody tr th {\n",
       "        vertical-align: top;\n",
       "    }\n",
       "\n",
       "    .dataframe thead th {\n",
       "        text-align: right;\n",
       "    }\n",
       "</style>\n",
       "<table border=\"1\" class=\"dataframe\">\n",
       "  <thead>\n",
       "    <tr style=\"text-align: right;\">\n",
       "      <th></th>\n",
       "      <th>rmse</th>\n",
       "      <th>mae</th>\n",
       "      <th>mape</th>\n",
       "      <th>smape</th>\n",
       "      <th>nrmse</th>\n",
       "      <th>rmse_std</th>\n",
       "      <th>mae_std</th>\n",
       "      <th>mape_std</th>\n",
       "      <th>smape_std</th>\n",
       "      <th>nrmse_std</th>\n",
       "    </tr>\n",
       "  </thead>\n",
       "  <tbody>\n",
       "    <tr>\n",
       "      <th>0</th>\n",
       "      <td>172.069</td>\n",
       "      <td>136.197</td>\n",
       "      <td>183.285</td>\n",
       "      <td>53.515</td>\n",
       "      <td>0.392</td>\n",
       "      <td>85.944</td>\n",
       "      <td>69.318</td>\n",
       "      <td>97.133</td>\n",
       "      <td>15.268</td>\n",
       "      <td>0.304</td>\n",
       "    </tr>\n",
       "  </tbody>\n",
       "</table>\n",
       "</div>"
      ],
      "text/plain": [
       "      rmse      mae     mape   smape  nrmse  rmse_std  mae_std  mape_std  \\\n",
       "0  172.069  136.197  183.285  53.515  0.392    85.944   69.318    97.133   \n",
       "\n",
       "   smape_std  nrmse_std  \n",
       "0     15.268      0.304  "
      ]
     },
     "execution_count": 19,
     "metadata": {},
     "output_type": "execute_result"
    }
   ],
   "source": [
    "final_result = {\n",
    "     \"rmse\": [],\n",
    "     \"mae\": [],\n",
    "     \"mape\": [],\n",
    "     \"smape\": [],\n",
    "     \"nrmse\":[],\n",
    "     \"rmse_std\": [],\n",
    "     \"mae_std\": [],\n",
    "     \"mape_std\": [],\n",
    "     \"smape_std\": [],\n",
    "     \"nrmse_std\": []\n",
    "}\n",
    "\n",
    "final_result[\"rmse\"].append(round(statistics.mean(measures['rmse']),3))\n",
    "final_result[\"mape\"].append(round(statistics.mean(measures['mape']),3))\n",
    "final_result[\"smape\"].append(round(statistics.mean(measures['smape']),3))\n",
    "final_result[\"mae\"].append(round(statistics.mean(measures['mae']),3))\n",
    "final_result[\"nrmse\"].append(round(statistics.mean(measures['nrmse']),3))\n",
    "\n",
    "final_result[\"rmse_std\"].append(round(statistics.stdev(measures['rmse']),3))\n",
    "final_result[\"mape_std\"].append(round(statistics.stdev(measures['mape']),3))\n",
    "final_result[\"smape_std\"].append(round(statistics.stdev(measures['smape']),3))\n",
    "final_result[\"mae_std\"].append(round(statistics.stdev(measures['mae']),3))\n",
    "final_result[\"nrmse_std\"].append(round(statistics.stdev(measures['nrmse']),3))\n",
    "        \n",
    "final_measures_pca = pd.DataFrame(final_result)\n",
    "\n",
    "print(\"Mean Statistics SARIMAX (test): \")\n",
    "final_measures_pca"
   ]
  },
  {
   "cell_type": "code",
   "execution_count": null,
   "id": "billion-diesel",
   "metadata": {},
   "outputs": [],
   "source": [
    "#final_measures_pca.to_csv (r'sarimax_aec.csv', index = False, header=True)"
   ]
  }
 ],
 "metadata": {
  "kernelspec": {
   "display_name": "Python 3",
   "language": "python",
   "name": "python3"
  },
  "language_info": {
   "codemirror_mode": {
    "name": "ipython",
    "version": 3
   },
   "file_extension": ".py",
   "mimetype": "text/x-python",
   "name": "python",
   "nbconvert_exporter": "python",
   "pygments_lexer": "ipython3",
   "version": "3.8.5"
  }
 },
 "nbformat": 4,
 "nbformat_minor": 5
}
