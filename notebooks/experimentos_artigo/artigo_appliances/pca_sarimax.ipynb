{
 "cells": [
  {
   "cell_type": "code",
   "execution_count": 1,
   "id": "vocational-contamination",
   "metadata": {},
   "outputs": [],
   "source": [
    "import sys\n",
    "sys.path.append(\"/home/hugo/projetos-doutorado/Appliance-Energy-Prediction\")\n",
    "import pandas as pd\n",
    "from pca_fts.PcaSarimax import PcaSarimax\n",
    "from pyFTS.benchmarks import Measures\n",
    "import matplotlib.pyplot as plt\n",
    "from pyFTS.common import Util\n",
    "import datetime\n",
    "import statistics\n",
    "import math\n",
    "from sklearn.metrics import mean_absolute_error\n",
    "from sklearn.metrics import r2_score"
   ]
  },
  {
   "cell_type": "markdown",
   "id": "clear-group",
   "metadata": {},
   "source": [
    "## Aux functions"
   ]
  },
  {
   "cell_type": "code",
   "execution_count": 2,
   "id": "welcome-dictionary",
   "metadata": {},
   "outputs": [],
   "source": [
    "def sample_first_prows(data, perc=0.75):\n",
    "    return data.head(int(len(data)*(perc)))"
   ]
  },
  {
   "cell_type": "code",
   "execution_count": 3,
   "id": "affecting-clearing",
   "metadata": {},
   "outputs": [],
   "source": [
    "# convert series to supervised learning\n",
    "def series_to_supervised_miso(data, n_in, n_out, endog_var, dropnan=True):\n",
    "\t\"\"\"\n",
    "\tFrame a time series as a supervised learning dataset.\n",
    "\tArguments:\n",
    "\t\tdata: Sequence of observations as a list or NumPy array.\n",
    "\t\tn_in: Number of lag observations as input (X).\n",
    "\t\tn_out: Number of observations as output (y).\n",
    "\t\tdropnan: Boolean whether or not to drop rows with NaN values.\n",
    "\tReturns:\n",
    "\t\tPandas DataFrame of series framed for supervised learning.\n",
    "\t\"\"\"\n",
    "\tn_vars = 1 if type(data) is list else data.shape[1]\n",
    "\tdf = pd.DataFrame(data)\n",
    "\tcols, names = list(), list()\n",
    "\t# input sequence (t-n, ... t-1)\n",
    "\tfor i in range(n_in, 0, -1):\n",
    "\t\tcols.append(df.shift(i))\n",
    "\t\tnames += [(df.columns[j]+'(t-%d)' % (i)) for j in range(n_vars)]\n",
    "\t# forecast sequence (t, t+1, ... t+n)\n",
    "\tfor i in range(0, n_out):\n",
    "\t\tcols.append(df[endog_var].shift(-i))\n",
    "\t\tif i == 0:\n",
    "\t\t\tnames += [(endog_var+'(t)')]\n",
    "\t\telse:\n",
    "\t\t\tnames += [(endog_var+'(t+%d)' % (i))]\n",
    "\t# put it all together\n",
    "\tagg = pd.concat(cols, axis=1)\n",
    "\tagg.columns = names\n",
    "\t# drop rows with NaN values\n",
    "\tif dropnan:\n",
    "\t\tagg.dropna(inplace=True)\n",
    "\treturn agg"
   ]
  },
  {
   "cell_type": "code",
   "execution_count": 4,
   "id": "occupied-heritage",
   "metadata": {},
   "outputs": [],
   "source": [
    "def clean_dataset(df):\n",
    "    assert isinstance(df, pd.DataFrame) \n",
    "    df.dropna(inplace=True)\n",
    "    indices_to_keep = ~df.isin([np.nan, np.inf, -np.inf]).any(1)\n",
    "    return df[indices_to_keep].astype(np.float64)"
   ]
  },
  {
   "cell_type": "code",
   "execution_count": 5,
   "id": "confident-style",
   "metadata": {},
   "outputs": [],
   "source": [
    "def cal_nrmse(rmse, y):\n",
    "    x = max(y)-min(y)\n",
    "    return (rmse/x)"
   ]
  },
  {
   "cell_type": "markdown",
   "id": "filled-movement",
   "metadata": {},
   "source": [
    "## Dataset Energy Appliances"
   ]
  },
  {
   "cell_type": "code",
   "execution_count": 6,
   "id": "allied-cigarette",
   "metadata": {},
   "outputs": [
    {
     "data": {
      "text/html": [
       "<div>\n",
       "<style scoped>\n",
       "    .dataframe tbody tr th:only-of-type {\n",
       "        vertical-align: middle;\n",
       "    }\n",
       "\n",
       "    .dataframe tbody tr th {\n",
       "        vertical-align: top;\n",
       "    }\n",
       "\n",
       "    .dataframe thead th {\n",
       "        text-align: right;\n",
       "    }\n",
       "</style>\n",
       "<table border=\"1\" class=\"dataframe\">\n",
       "  <thead>\n",
       "    <tr style=\"text-align: right;\">\n",
       "      <th></th>\n",
       "      <th>Appliances</th>\n",
       "      <th>lights</th>\n",
       "      <th>T1</th>\n",
       "      <th>RH_1</th>\n",
       "      <th>T2</th>\n",
       "      <th>RH_2</th>\n",
       "      <th>T3</th>\n",
       "      <th>RH_3</th>\n",
       "      <th>T4</th>\n",
       "      <th>RH_4</th>\n",
       "      <th>...</th>\n",
       "      <th>T8</th>\n",
       "      <th>RH_8</th>\n",
       "      <th>T9</th>\n",
       "      <th>RH_9</th>\n",
       "      <th>T_out</th>\n",
       "      <th>Press_mm_hg</th>\n",
       "      <th>RH_out</th>\n",
       "      <th>Windspeed</th>\n",
       "      <th>Visibility</th>\n",
       "      <th>Tdewpoint</th>\n",
       "    </tr>\n",
       "  </thead>\n",
       "  <tbody>\n",
       "    <tr>\n",
       "      <th>0</th>\n",
       "      <td>60</td>\n",
       "      <td>30</td>\n",
       "      <td>19.89</td>\n",
       "      <td>47.596667</td>\n",
       "      <td>19.2</td>\n",
       "      <td>44.790000</td>\n",
       "      <td>19.79</td>\n",
       "      <td>44.730000</td>\n",
       "      <td>19.000000</td>\n",
       "      <td>45.566667</td>\n",
       "      <td>...</td>\n",
       "      <td>18.2</td>\n",
       "      <td>48.900000</td>\n",
       "      <td>17.033333</td>\n",
       "      <td>45.53</td>\n",
       "      <td>6.600000</td>\n",
       "      <td>733.5</td>\n",
       "      <td>92.0</td>\n",
       "      <td>7.000000</td>\n",
       "      <td>63.000000</td>\n",
       "      <td>5.3</td>\n",
       "    </tr>\n",
       "    <tr>\n",
       "      <th>1</th>\n",
       "      <td>60</td>\n",
       "      <td>30</td>\n",
       "      <td>19.89</td>\n",
       "      <td>46.693333</td>\n",
       "      <td>19.2</td>\n",
       "      <td>44.722500</td>\n",
       "      <td>19.79</td>\n",
       "      <td>44.790000</td>\n",
       "      <td>19.000000</td>\n",
       "      <td>45.992500</td>\n",
       "      <td>...</td>\n",
       "      <td>18.2</td>\n",
       "      <td>48.863333</td>\n",
       "      <td>17.066667</td>\n",
       "      <td>45.56</td>\n",
       "      <td>6.483333</td>\n",
       "      <td>733.6</td>\n",
       "      <td>92.0</td>\n",
       "      <td>6.666667</td>\n",
       "      <td>59.166667</td>\n",
       "      <td>5.2</td>\n",
       "    </tr>\n",
       "    <tr>\n",
       "      <th>2</th>\n",
       "      <td>50</td>\n",
       "      <td>30</td>\n",
       "      <td>19.89</td>\n",
       "      <td>46.300000</td>\n",
       "      <td>19.2</td>\n",
       "      <td>44.626667</td>\n",
       "      <td>19.79</td>\n",
       "      <td>44.933333</td>\n",
       "      <td>18.926667</td>\n",
       "      <td>45.890000</td>\n",
       "      <td>...</td>\n",
       "      <td>18.2</td>\n",
       "      <td>48.730000</td>\n",
       "      <td>17.000000</td>\n",
       "      <td>45.50</td>\n",
       "      <td>6.366667</td>\n",
       "      <td>733.7</td>\n",
       "      <td>92.0</td>\n",
       "      <td>6.333333</td>\n",
       "      <td>55.333333</td>\n",
       "      <td>5.1</td>\n",
       "    </tr>\n",
       "    <tr>\n",
       "      <th>3</th>\n",
       "      <td>50</td>\n",
       "      <td>40</td>\n",
       "      <td>19.89</td>\n",
       "      <td>46.066667</td>\n",
       "      <td>19.2</td>\n",
       "      <td>44.590000</td>\n",
       "      <td>19.79</td>\n",
       "      <td>45.000000</td>\n",
       "      <td>18.890000</td>\n",
       "      <td>45.723333</td>\n",
       "      <td>...</td>\n",
       "      <td>18.1</td>\n",
       "      <td>48.590000</td>\n",
       "      <td>17.000000</td>\n",
       "      <td>45.40</td>\n",
       "      <td>6.250000</td>\n",
       "      <td>733.8</td>\n",
       "      <td>92.0</td>\n",
       "      <td>6.000000</td>\n",
       "      <td>51.500000</td>\n",
       "      <td>5.0</td>\n",
       "    </tr>\n",
       "    <tr>\n",
       "      <th>4</th>\n",
       "      <td>60</td>\n",
       "      <td>40</td>\n",
       "      <td>19.89</td>\n",
       "      <td>46.333333</td>\n",
       "      <td>19.2</td>\n",
       "      <td>44.530000</td>\n",
       "      <td>19.79</td>\n",
       "      <td>45.000000</td>\n",
       "      <td>18.890000</td>\n",
       "      <td>45.530000</td>\n",
       "      <td>...</td>\n",
       "      <td>18.1</td>\n",
       "      <td>48.590000</td>\n",
       "      <td>17.000000</td>\n",
       "      <td>45.40</td>\n",
       "      <td>6.133333</td>\n",
       "      <td>733.9</td>\n",
       "      <td>92.0</td>\n",
       "      <td>5.666667</td>\n",
       "      <td>47.666667</td>\n",
       "      <td>4.9</td>\n",
       "    </tr>\n",
       "  </tbody>\n",
       "</table>\n",
       "<p>5 rows × 26 columns</p>\n",
       "</div>"
      ],
      "text/plain": [
       "   Appliances  lights     T1       RH_1    T2       RH_2     T3       RH_3  \\\n",
       "0          60      30  19.89  47.596667  19.2  44.790000  19.79  44.730000   \n",
       "1          60      30  19.89  46.693333  19.2  44.722500  19.79  44.790000   \n",
       "2          50      30  19.89  46.300000  19.2  44.626667  19.79  44.933333   \n",
       "3          50      40  19.89  46.066667  19.2  44.590000  19.79  45.000000   \n",
       "4          60      40  19.89  46.333333  19.2  44.530000  19.79  45.000000   \n",
       "\n",
       "          T4       RH_4  ...    T8       RH_8         T9   RH_9     T_out  \\\n",
       "0  19.000000  45.566667  ...  18.2  48.900000  17.033333  45.53  6.600000   \n",
       "1  19.000000  45.992500  ...  18.2  48.863333  17.066667  45.56  6.483333   \n",
       "2  18.926667  45.890000  ...  18.2  48.730000  17.000000  45.50  6.366667   \n",
       "3  18.890000  45.723333  ...  18.1  48.590000  17.000000  45.40  6.250000   \n",
       "4  18.890000  45.530000  ...  18.1  48.590000  17.000000  45.40  6.133333   \n",
       "\n",
       "   Press_mm_hg  RH_out  Windspeed  Visibility  Tdewpoint  \n",
       "0        733.5    92.0   7.000000   63.000000        5.3  \n",
       "1        733.6    92.0   6.666667   59.166667        5.2  \n",
       "2        733.7    92.0   6.333333   55.333333        5.1  \n",
       "3        733.8    92.0   6.000000   51.500000        5.0  \n",
       "4        733.9    92.0   5.666667   47.666667        4.9  \n",
       "\n",
       "[5 rows x 26 columns]"
      ]
     },
     "execution_count": 6,
     "metadata": {},
     "output_type": "execute_result"
    }
   ],
   "source": [
    "filename = '/home/hugo/projetos-doutorado/Appliance-Energy-Prediction/data/energydata_complete.csv'\n",
    "data = pd.read_csv(filename)\n",
    "data.pop('date')\n",
    "data.pop('rv1')\n",
    "data.pop('rv2')\n",
    "data.head()"
   ]
  },
  {
   "cell_type": "markdown",
   "id": "fleet-particular",
   "metadata": {},
   "source": [
    "### Dataset Energy Appliances: columns"
   ]
  },
  {
   "cell_type": "code",
   "execution_count": 7,
   "id": "olympic-humidity",
   "metadata": {},
   "outputs": [],
   "source": [
    "# cols = data.columns\n",
    "# list_cols = list(cols)\n",
    "# list_cols.append('Appliances_t+1')\n",
    "# print(list_cols)"
   ]
  },
  {
   "cell_type": "markdown",
   "id": "aggregate-flour",
   "metadata": {},
   "source": [
    "## Dataset Energy Appliance: Preprocessing, Lag = 1, t+1"
   ]
  },
  {
   "cell_type": "code",
   "execution_count": 8,
   "id": "statewide-banana",
   "metadata": {},
   "outputs": [
    {
     "data": {
      "text/html": [
       "<div>\n",
       "<style scoped>\n",
       "    .dataframe tbody tr th:only-of-type {\n",
       "        vertical-align: middle;\n",
       "    }\n",
       "\n",
       "    .dataframe tbody tr th {\n",
       "        vertical-align: top;\n",
       "    }\n",
       "\n",
       "    .dataframe thead th {\n",
       "        text-align: right;\n",
       "    }\n",
       "</style>\n",
       "<table border=\"1\" class=\"dataframe\">\n",
       "  <thead>\n",
       "    <tr style=\"text-align: right;\">\n",
       "      <th></th>\n",
       "      <th>Appliances(t-1)</th>\n",
       "      <th>lights(t-1)</th>\n",
       "      <th>T1(t-1)</th>\n",
       "      <th>RH_1(t-1)</th>\n",
       "      <th>T2(t-1)</th>\n",
       "      <th>RH_2(t-1)</th>\n",
       "      <th>T3(t-1)</th>\n",
       "      <th>RH_3(t-1)</th>\n",
       "      <th>T4(t-1)</th>\n",
       "      <th>RH_4(t-1)</th>\n",
       "      <th>...</th>\n",
       "      <th>RH_8(t-1)</th>\n",
       "      <th>T9(t-1)</th>\n",
       "      <th>RH_9(t-1)</th>\n",
       "      <th>T_out(t-1)</th>\n",
       "      <th>Press_mm_hg(t-1)</th>\n",
       "      <th>RH_out(t-1)</th>\n",
       "      <th>Windspeed(t-1)</th>\n",
       "      <th>Visibility(t-1)</th>\n",
       "      <th>Tdewpoint(t-1)</th>\n",
       "      <th>Appliances(t)</th>\n",
       "    </tr>\n",
       "  </thead>\n",
       "  <tbody>\n",
       "    <tr>\n",
       "      <th>1</th>\n",
       "      <td>60.0</td>\n",
       "      <td>30.0</td>\n",
       "      <td>19.89</td>\n",
       "      <td>47.596667</td>\n",
       "      <td>19.2</td>\n",
       "      <td>44.790000</td>\n",
       "      <td>19.79</td>\n",
       "      <td>44.730000</td>\n",
       "      <td>19.000000</td>\n",
       "      <td>45.566667</td>\n",
       "      <td>...</td>\n",
       "      <td>48.900000</td>\n",
       "      <td>17.033333</td>\n",
       "      <td>45.53</td>\n",
       "      <td>6.600000</td>\n",
       "      <td>733.5</td>\n",
       "      <td>92.0</td>\n",
       "      <td>7.000000</td>\n",
       "      <td>63.000000</td>\n",
       "      <td>5.3</td>\n",
       "      <td>60</td>\n",
       "    </tr>\n",
       "    <tr>\n",
       "      <th>2</th>\n",
       "      <td>60.0</td>\n",
       "      <td>30.0</td>\n",
       "      <td>19.89</td>\n",
       "      <td>46.693333</td>\n",
       "      <td>19.2</td>\n",
       "      <td>44.722500</td>\n",
       "      <td>19.79</td>\n",
       "      <td>44.790000</td>\n",
       "      <td>19.000000</td>\n",
       "      <td>45.992500</td>\n",
       "      <td>...</td>\n",
       "      <td>48.863333</td>\n",
       "      <td>17.066667</td>\n",
       "      <td>45.56</td>\n",
       "      <td>6.483333</td>\n",
       "      <td>733.6</td>\n",
       "      <td>92.0</td>\n",
       "      <td>6.666667</td>\n",
       "      <td>59.166667</td>\n",
       "      <td>5.2</td>\n",
       "      <td>50</td>\n",
       "    </tr>\n",
       "    <tr>\n",
       "      <th>3</th>\n",
       "      <td>50.0</td>\n",
       "      <td>30.0</td>\n",
       "      <td>19.89</td>\n",
       "      <td>46.300000</td>\n",
       "      <td>19.2</td>\n",
       "      <td>44.626667</td>\n",
       "      <td>19.79</td>\n",
       "      <td>44.933333</td>\n",
       "      <td>18.926667</td>\n",
       "      <td>45.890000</td>\n",
       "      <td>...</td>\n",
       "      <td>48.730000</td>\n",
       "      <td>17.000000</td>\n",
       "      <td>45.50</td>\n",
       "      <td>6.366667</td>\n",
       "      <td>733.7</td>\n",
       "      <td>92.0</td>\n",
       "      <td>6.333333</td>\n",
       "      <td>55.333333</td>\n",
       "      <td>5.1</td>\n",
       "      <td>50</td>\n",
       "    </tr>\n",
       "    <tr>\n",
       "      <th>4</th>\n",
       "      <td>50.0</td>\n",
       "      <td>40.0</td>\n",
       "      <td>19.89</td>\n",
       "      <td>46.066667</td>\n",
       "      <td>19.2</td>\n",
       "      <td>44.590000</td>\n",
       "      <td>19.79</td>\n",
       "      <td>45.000000</td>\n",
       "      <td>18.890000</td>\n",
       "      <td>45.723333</td>\n",
       "      <td>...</td>\n",
       "      <td>48.590000</td>\n",
       "      <td>17.000000</td>\n",
       "      <td>45.40</td>\n",
       "      <td>6.250000</td>\n",
       "      <td>733.8</td>\n",
       "      <td>92.0</td>\n",
       "      <td>6.000000</td>\n",
       "      <td>51.500000</td>\n",
       "      <td>5.0</td>\n",
       "      <td>60</td>\n",
       "    </tr>\n",
       "    <tr>\n",
       "      <th>5</th>\n",
       "      <td>60.0</td>\n",
       "      <td>40.0</td>\n",
       "      <td>19.89</td>\n",
       "      <td>46.333333</td>\n",
       "      <td>19.2</td>\n",
       "      <td>44.530000</td>\n",
       "      <td>19.79</td>\n",
       "      <td>45.000000</td>\n",
       "      <td>18.890000</td>\n",
       "      <td>45.530000</td>\n",
       "      <td>...</td>\n",
       "      <td>48.590000</td>\n",
       "      <td>17.000000</td>\n",
       "      <td>45.40</td>\n",
       "      <td>6.133333</td>\n",
       "      <td>733.9</td>\n",
       "      <td>92.0</td>\n",
       "      <td>5.666667</td>\n",
       "      <td>47.666667</td>\n",
       "      <td>4.9</td>\n",
       "      <td>50</td>\n",
       "    </tr>\n",
       "  </tbody>\n",
       "</table>\n",
       "<p>5 rows × 27 columns</p>\n",
       "</div>"
      ],
      "text/plain": [
       "   Appliances(t-1)  lights(t-1)  T1(t-1)  RH_1(t-1)  T2(t-1)  RH_2(t-1)  \\\n",
       "1             60.0         30.0    19.89  47.596667     19.2  44.790000   \n",
       "2             60.0         30.0    19.89  46.693333     19.2  44.722500   \n",
       "3             50.0         30.0    19.89  46.300000     19.2  44.626667   \n",
       "4             50.0         40.0    19.89  46.066667     19.2  44.590000   \n",
       "5             60.0         40.0    19.89  46.333333     19.2  44.530000   \n",
       "\n",
       "   T3(t-1)  RH_3(t-1)    T4(t-1)  RH_4(t-1)  ...  RH_8(t-1)    T9(t-1)  \\\n",
       "1    19.79  44.730000  19.000000  45.566667  ...  48.900000  17.033333   \n",
       "2    19.79  44.790000  19.000000  45.992500  ...  48.863333  17.066667   \n",
       "3    19.79  44.933333  18.926667  45.890000  ...  48.730000  17.000000   \n",
       "4    19.79  45.000000  18.890000  45.723333  ...  48.590000  17.000000   \n",
       "5    19.79  45.000000  18.890000  45.530000  ...  48.590000  17.000000   \n",
       "\n",
       "   RH_9(t-1)  T_out(t-1)  Press_mm_hg(t-1)  RH_out(t-1)  Windspeed(t-1)  \\\n",
       "1      45.53    6.600000             733.5         92.0        7.000000   \n",
       "2      45.56    6.483333             733.6         92.0        6.666667   \n",
       "3      45.50    6.366667             733.7         92.0        6.333333   \n",
       "4      45.40    6.250000             733.8         92.0        6.000000   \n",
       "5      45.40    6.133333             733.9         92.0        5.666667   \n",
       "\n",
       "   Visibility(t-1)  Tdewpoint(t-1)  Appliances(t)  \n",
       "1        63.000000             5.3             60  \n",
       "2        59.166667             5.2             50  \n",
       "3        55.333333             5.1             50  \n",
       "4        51.500000             5.0             60  \n",
       "5        47.666667             4.9             50  \n",
       "\n",
       "[5 rows x 27 columns]"
      ]
     },
     "execution_count": 8,
     "metadata": {},
     "output_type": "execute_result"
    }
   ],
   "source": [
    "data = series_to_supervised_miso(data, 1, 1,endog_var='Appliances')\n",
    "data.head()"
   ]
  },
  {
   "cell_type": "markdown",
   "id": "expected-ozone",
   "metadata": {},
   "source": [
    "## Model: PcaSarimax - PCA-SARIMAX"
   ]
  },
  {
   "cell_type": "markdown",
   "id": "destroyed-cargo",
   "metadata": {},
   "source": [
    "### Define SARIMAX parameters "
   ]
  },
  {
   "cell_type": "code",
   "execution_count": 9,
   "id": "becoming-charity",
   "metadata": {},
   "outputs": [],
   "source": [
    "pca_sarimax = PcaSarimax(n_components = 3,\n",
    "                       endogen_variable = 'Appliances(t-1)',\n",
    "                       order = [0, 0, 0],\n",
    "                       seasonal_order = [0,0,0,0])"
   ]
  },
  {
   "cell_type": "code",
   "execution_count": 10,
   "id": "previous-norway",
   "metadata": {},
   "outputs": [],
   "source": [
    "df_train = data.loc[:,'Appliances(t-1)':'Tdewpoint(t-1)']\n",
    "train = sample_first_prows(data, perc=0.30)"
   ]
  },
  {
   "cell_type": "code",
   "execution_count": 11,
   "id": "violent-mentor",
   "metadata": {},
   "outputs": [
    {
     "data": {
      "text/html": [
       "<div>\n",
       "<style scoped>\n",
       "    .dataframe tbody tr th:only-of-type {\n",
       "        vertical-align: middle;\n",
       "    }\n",
       "\n",
       "    .dataframe tbody tr th {\n",
       "        vertical-align: top;\n",
       "    }\n",
       "\n",
       "    .dataframe thead th {\n",
       "        text-align: right;\n",
       "    }\n",
       "</style>\n",
       "<table border=\"1\" class=\"dataframe\">\n",
       "  <thead>\n",
       "    <tr style=\"text-align: right;\">\n",
       "      <th></th>\n",
       "      <th>C0</th>\n",
       "      <th>C1</th>\n",
       "      <th>C2</th>\n",
       "      <th>Appliances(t-1)</th>\n",
       "    </tr>\n",
       "  </thead>\n",
       "  <tbody>\n",
       "    <tr>\n",
       "      <th>0</th>\n",
       "      <td>-0.372708</td>\n",
       "      <td>0.329091</td>\n",
       "      <td>0.035953</td>\n",
       "      <td>60.0</td>\n",
       "    </tr>\n",
       "    <tr>\n",
       "      <th>1</th>\n",
       "      <td>-0.365147</td>\n",
       "      <td>0.323553</td>\n",
       "      <td>0.031642</td>\n",
       "      <td>60.0</td>\n",
       "    </tr>\n",
       "  </tbody>\n",
       "</table>\n",
       "</div>"
      ],
      "text/plain": [
       "         C0        C1        C2  Appliances(t-1)\n",
       "0 -0.372708  0.329091  0.035953             60.0\n",
       "1 -0.365147  0.323553  0.031642             60.0"
      ]
     },
     "execution_count": 11,
     "metadata": {},
     "output_type": "execute_result"
    }
   ],
   "source": [
    "reduced = pca_sarimax.apply_pca(train)\n",
    "reduced.head(2)"
   ]
  },
  {
   "cell_type": "code",
   "execution_count": 12,
   "id": "czech-marketplace",
   "metadata": {},
   "outputs": [
    {
     "data": {
      "text/html": [
       "<div>\n",
       "<style scoped>\n",
       "    .dataframe tbody tr th:only-of-type {\n",
       "        vertical-align: middle;\n",
       "    }\n",
       "\n",
       "    .dataframe tbody tr th {\n",
       "        vertical-align: top;\n",
       "    }\n",
       "\n",
       "    .dataframe thead th {\n",
       "        text-align: right;\n",
       "    }\n",
       "</style>\n",
       "<table border=\"1\" class=\"dataframe\">\n",
       "  <thead>\n",
       "    <tr style=\"text-align: right;\">\n",
       "      <th></th>\n",
       "      <th>C0</th>\n",
       "      <th>C1</th>\n",
       "      <th>C2</th>\n",
       "    </tr>\n",
       "  </thead>\n",
       "  <tbody>\n",
       "    <tr>\n",
       "      <th>0</th>\n",
       "      <td>-0.372708</td>\n",
       "      <td>0.329091</td>\n",
       "      <td>0.035953</td>\n",
       "    </tr>\n",
       "    <tr>\n",
       "      <th>1</th>\n",
       "      <td>-0.365147</td>\n",
       "      <td>0.323553</td>\n",
       "      <td>0.031642</td>\n",
       "    </tr>\n",
       "  </tbody>\n",
       "</table>\n",
       "</div>"
      ],
      "text/plain": [
       "         C0        C1        C2\n",
       "0 -0.372708  0.329091  0.035953\n",
       "1 -0.365147  0.323553  0.031642"
      ]
     },
     "execution_count": 12,
     "metadata": {},
     "output_type": "execute_result"
    }
   ],
   "source": [
    "exog = reduced.drop(labels=['Appliances(t-1)'], axis=1)\n",
    "exog.head(2)"
   ]
  },
  {
   "cell_type": "code",
   "execution_count": 13,
   "id": "motivated-daniel",
   "metadata": {},
   "outputs": [
    {
     "data": {
      "text/plain": [
       "0    60.0\n",
       "1    60.0\n",
       "2    50.0\n",
       "Name: Appliances(t-1), dtype: float64"
      ]
     },
     "execution_count": 13,
     "metadata": {},
     "output_type": "execute_result"
    }
   ],
   "source": [
    "endog = reduced['Appliances(t-1)']\n",
    "endog.head(3)"
   ]
  },
  {
   "cell_type": "code",
   "execution_count": 14,
   "id": "directed-democrat",
   "metadata": {},
   "outputs": [],
   "source": [
    "train_y = endog\n",
    "train_X = exog"
   ]
  },
  {
   "cell_type": "code",
   "execution_count": 15,
   "id": "electoral-morris",
   "metadata": {
    "scrolled": true
   },
   "outputs": [],
   "source": [
    "# # Define arimax paraters using the embedded data \n",
    "# from pmdarima.arima import auto_arima\n",
    "# sarimax_model = auto_arima(train_y,\n",
    "#                        exogenous= train_X,\n",
    "#                        test='adf',\n",
    "#                        start_p=0,\n",
    "#                        start_q=0,\n",
    "#                        max_p=5,\n",
    "#                        max_q=5,\n",
    "#                        start_Q=0,\n",
    "#                        start_P=0,\n",
    "#                        max_P=5,\n",
    "#                        max_Q=5,\n",
    "#                        m=7,\n",
    "#                        seasonal=True,\n",
    "#                        d=None,\n",
    "#                        D=1,\n",
    "#                        max_D=5,\n",
    "#                        trace=True,\n",
    "#                        error_action='ignore',\n",
    "#                        suppress_warnings=True,\n",
    "#                        stepwise=True)\n",
    "# # #                        n_fits = 50)"
   ]
  },
  {
   "cell_type": "code",
   "execution_count": 16,
   "id": "alpine-break",
   "metadata": {},
   "outputs": [],
   "source": [
    "# Performing stepwise search to minimize aic\n",
    "# ARIMA(0,0,0)(0,1,0)[7] intercept   : AIC=75005.277, Time=0.38 sec\n",
    "#  ARIMA(1,0,0)(1,1,0)[7] intercept   : AIC=69365.852, Time=10.86 sec\n",
    "#  ARIMA(0,0,1)(0,1,1)[7] intercept   : AIC=inf, Time=36.41 sec\n",
    "#  ARIMA(0,0,0)(0,1,0)[7]             : AIC=75003.343, Time=6.26 sec\n",
    "#  ARIMA(1,0,0)(0,1,0)[7] intercept   : AIC=71412.790, Time=1.30 sec\n",
    "#  ARIMA(1,0,0)(2,1,0)[7] intercept   : AIC=68791.852, Time=32.35 sec\n",
    "#  ARIMA(1,0,0)(3,1,0)[7] intercept   : AIC=68460.810, Time=49.33 sec\n",
    "#  ARIMA(1,0,0)(4,1,0)[7] intercept   : AIC=68285.441, Time=83.93 sec\n",
    "#  ARIMA(1,0,0)(5,1,0)[7] intercept   : AIC=68136.967, Time=135.29 sec\n",
    "#  ARIMA(1,0,0)(5,1,1)[7] intercept   : AIC=inf, Time=205.73 sec\n",
    "#  ARIMA(1,0,0)(4,1,1)[7] intercept   : AIC=inf, Time=160.41 sec\n",
    "#  ARIMA(0,0,0)(5,1,0)[7] intercept   : AIC=72776.388, Time=178.68 sec\n",
    "#  ARIMA(2,0,0)(5,1,0)[7] intercept   : AIC=68052.850, Time=105.12 sec\n",
    "#  ARIMA(2,0,0)(4,1,0)[7] intercept   : AIC=68194.141, Time=83.07 sec\n",
    "#  ARIMA(2,0,0)(5,1,1)[7] intercept   : AIC=inf, Time=254.29 sec\n",
    "#  ARIMA(2,0,0)(4,1,1)[7] intercept   : AIC=inf, Time=174.13 sec\n",
    "#  ARIMA(3,0,0)(5,1,0)[7] intercept   : AIC=67989.323, Time=127.15 sec\n",
    "#  ARIMA(3,0,0)(4,1,0)[7] intercept   : AIC=68136.326, Time=95.38 sec\n",
    "#  ARIMA(3,0,0)(5,1,1)[7] intercept   : AIC=inf, Time=294.38 sec\n",
    "#  ARIMA(3,0,0)(4,1,1)[7] intercept   : AIC=inf, Time=140.51 sec\n",
    "#  ARIMA(4,0,0)(5,1,0)[7] intercept   : AIC=67982.934, Time=185.41 sec\n",
    "#  ARIMA(4,0,0)(4,1,0)[7] intercept   : AIC=68134.437, Time=119.20 sec"
   ]
  },
  {
   "cell_type": "markdown",
   "id": "consecutive-advice",
   "metadata": {},
   "source": [
    "### Test the model with the best parameters "
   ]
  },
  {
   "cell_type": "code",
   "execution_count": 16,
   "id": "equipped-value",
   "metadata": {},
   "outputs": [],
   "source": [
    "pca_arimax = PcaSarimax(n_components = 3,\n",
    "                       endogen_variable = 'Appliances(t-1)',\n",
    "                       order=[4,0,0],\n",
    "                       seasonal_order=[5,1,0,7])"
   ]
  },
  {
   "cell_type": "code",
   "execution_count": 26,
   "id": "posted-visit",
   "metadata": {},
   "outputs": [],
   "source": [
    "df_train = data.loc[:,'Appliances(t-1)':'Tdewpoint(t-1)']\n",
    "df_test = data.loc[:,'lights(t-1)':'Appliances(t)']\n",
    "train = sample_first_prows(df_train,0.75)\n",
    "test = df_test.iloc[max(train.index):]"
   ]
  },
  {
   "cell_type": "code",
   "execution_count": 18,
   "id": "significant-original",
   "metadata": {},
   "outputs": [
    {
     "name": "stdout",
     "output_type": "stream",
     "text": [
      "(14800, 25)\n",
      "(14800,)\n"
     ]
    },
    {
     "name": "stderr",
     "output_type": "stream",
     "text": [
      "/home/hugo/anaconda3/lib/python3.8/site-packages/statsmodels/base/model.py:566: ConvergenceWarning: Maximum Likelihood optimization failed to converge. Check mle_retvals\n",
      "  warnings.warn(\"Maximum Likelihood optimization failed to \"\n"
     ]
    }
   ],
   "source": [
    "model, sarimax, pca_reduced_train = pca_arimax.run_train_model(train)"
   ]
  },
  {
   "cell_type": "code",
   "execution_count": 19,
   "id": "referenced-wages",
   "metadata": {},
   "outputs": [
    {
     "data": {
      "text/html": [
       "<table class=\"simpletable\">\n",
       "<caption>SARIMAX Results</caption>\n",
       "<tr>\n",
       "  <th>Dep. Variable:</th>                  <td>y</td>               <th>  No. Observations:  </th>    <td>14800</td>  \n",
       "</tr>\n",
       "<tr>\n",
       "  <th>Model:</th>           <td>SARIMAX(3, 0, 1)x(5, 1, [], 7)</td> <th>  Log Likelihood     </th> <td>-84573.705</td>\n",
       "</tr>\n",
       "<tr>\n",
       "  <th>Date:</th>                   <td>Tue, 21 Sep 2021</td>        <th>  AIC                </th> <td>169217.410</td>\n",
       "</tr>\n",
       "<tr>\n",
       "  <th>Time:</th>                       <td>23:44:10</td>            <th>  BIC                </th> <td>169483.387</td>\n",
       "</tr>\n",
       "<tr>\n",
       "  <th>Sample:</th>                         <td>0</td>               <th>  HQIC               </th> <td>169305.728</td>\n",
       "</tr>\n",
       "<tr>\n",
       "  <th></th>                            <td> - 14800</td>            <th>                     </th>      <td> </td>    \n",
       "</tr>\n",
       "<tr>\n",
       "  <th>Covariance Type:</th>               <td>opg</td>              <th>                     </th>      <td> </td>    \n",
       "</tr>\n",
       "</table>\n",
       "<table class=\"simpletable\">\n",
       "<tr>\n",
       "      <td></td>        <th>coef</th>     <th>std err</th>      <th>z</th>      <th>P>|z|</th>  <th>[0.025</th>    <th>0.975]</th>  \n",
       "</tr>\n",
       "<tr>\n",
       "  <th>x1</th>       <td>   -1.0969</td> <td>    0.086</td> <td>  -12.778</td> <td> 0.000</td> <td>   -1.265</td> <td>   -0.929</td>\n",
       "</tr>\n",
       "<tr>\n",
       "  <th>x2</th>       <td>  -40.1247</td> <td>    9.216</td> <td>   -4.354</td> <td> 0.000</td> <td>  -58.187</td> <td>  -22.062</td>\n",
       "</tr>\n",
       "<tr>\n",
       "  <th>x3</th>       <td>    7.9104</td> <td>    0.701</td> <td>   11.278</td> <td> 0.000</td> <td>    6.536</td> <td>    9.285</td>\n",
       "</tr>\n",
       "<tr>\n",
       "  <th>x4</th>       <td>  -18.0210</td> <td>    5.620</td> <td>   -3.207</td> <td> 0.001</td> <td>  -29.035</td> <td>   -7.007</td>\n",
       "</tr>\n",
       "<tr>\n",
       "  <th>x5</th>       <td>  -24.6909</td> <td>    1.471</td> <td>  -16.789</td> <td> 0.000</td> <td>  -27.573</td> <td>  -21.808</td>\n",
       "</tr>\n",
       "<tr>\n",
       "  <th>x6</th>       <td>  -92.7336</td> <td>    5.951</td> <td>  -15.584</td> <td> 0.000</td> <td> -104.397</td> <td>  -81.071</td>\n",
       "</tr>\n",
       "<tr>\n",
       "  <th>x7</th>       <td>   21.3085</td> <td>    2.075</td> <td>   10.269</td> <td> 0.000</td> <td>   17.241</td> <td>   25.376</td>\n",
       "</tr>\n",
       "<tr>\n",
       "  <th>x8</th>       <td>   -9.5306</td> <td>    3.875</td> <td>   -2.459</td> <td> 0.014</td> <td>  -17.126</td> <td>   -1.936</td>\n",
       "</tr>\n",
       "<tr>\n",
       "  <th>x9</th>       <td>    0.5862</td> <td>    2.129</td> <td>    0.275</td> <td> 0.783</td> <td>   -3.587</td> <td>    4.759</td>\n",
       "</tr>\n",
       "<tr>\n",
       "  <th>x10</th>      <td>   21.9202</td> <td>    5.109</td> <td>    4.290</td> <td> 0.000</td> <td>   11.906</td> <td>   31.934</td>\n",
       "</tr>\n",
       "<tr>\n",
       "  <th>x11</th>      <td>   -0.6215</td> <td>    0.280</td> <td>   -2.218</td> <td> 0.027</td> <td>   -1.171</td> <td>   -0.072</td>\n",
       "</tr>\n",
       "<tr>\n",
       "  <th>x12</th>      <td>    2.6942</td> <td>    2.444</td> <td>    1.102</td> <td> 0.270</td> <td>   -2.096</td> <td>    7.484</td>\n",
       "</tr>\n",
       "<tr>\n",
       "  <th>x13</th>      <td>    0.8375</td> <td>    0.353</td> <td>    2.376</td> <td> 0.018</td> <td>    0.147</td> <td>    1.528</td>\n",
       "</tr>\n",
       "<tr>\n",
       "  <th>x14</th>      <td>   15.0180</td> <td>    8.309</td> <td>    1.807</td> <td> 0.071</td> <td>   -1.267</td> <td>   31.303</td>\n",
       "</tr>\n",
       "<tr>\n",
       "  <th>x15</th>      <td>   -4.2509</td> <td>    2.178</td> <td>   -1.952</td> <td> 0.051</td> <td>   -8.519</td> <td>    0.018</td>\n",
       "</tr>\n",
       "<tr>\n",
       "  <th>x16</th>      <td>   31.8440</td> <td>    6.700</td> <td>    4.753</td> <td> 0.000</td> <td>   18.713</td> <td>   44.975</td>\n",
       "</tr>\n",
       "<tr>\n",
       "  <th>x17</th>      <td>   -2.2298</td> <td>    1.971</td> <td>   -1.131</td> <td> 0.258</td> <td>   -6.094</td> <td>    1.634</td>\n",
       "</tr>\n",
       "<tr>\n",
       "  <th>x18</th>      <td>    4.0625</td> <td>   12.661</td> <td>    0.321</td> <td> 0.748</td> <td>  -20.752</td> <td>   28.877</td>\n",
       "</tr>\n",
       "<tr>\n",
       "  <th>x19</th>      <td>   -7.4609</td> <td>    1.859</td> <td>   -4.012</td> <td> 0.000</td> <td>  -11.105</td> <td>   -3.816</td>\n",
       "</tr>\n",
       "<tr>\n",
       "  <th>x20</th>      <td>  -10.7161</td> <td>    9.830</td> <td>   -1.090</td> <td> 0.276</td> <td>  -29.982</td> <td>    8.550</td>\n",
       "</tr>\n",
       "<tr>\n",
       "  <th>x21</th>      <td>   -2.6568</td> <td>    2.061</td> <td>   -1.289</td> <td> 0.197</td> <td>   -6.696</td> <td>    1.383</td>\n",
       "</tr>\n",
       "<tr>\n",
       "  <th>x22</th>      <td>   -2.5201</td> <td>    1.869</td> <td>   -1.349</td> <td> 0.177</td> <td>   -6.182</td> <td>    1.142</td>\n",
       "</tr>\n",
       "<tr>\n",
       "  <th>x23</th>      <td>    0.1239</td> <td>    1.885</td> <td>    0.066</td> <td> 0.948</td> <td>   -3.570</td> <td>    3.818</td>\n",
       "</tr>\n",
       "<tr>\n",
       "  <th>x24</th>      <td>    0.3763</td> <td>    0.176</td> <td>    2.144</td> <td> 0.032</td> <td>    0.032</td> <td>    0.720</td>\n",
       "</tr>\n",
       "<tr>\n",
       "  <th>x25</th>      <td>   14.1621</td> <td>    9.312</td> <td>    1.521</td> <td> 0.128</td> <td>   -4.088</td> <td>   32.413</td>\n",
       "</tr>\n",
       "<tr>\n",
       "  <th>ar.L1</th>    <td>    1.4773</td> <td>    0.017</td> <td>   88.450</td> <td> 0.000</td> <td>    1.445</td> <td>    1.510</td>\n",
       "</tr>\n",
       "<tr>\n",
       "  <th>ar.L2</th>    <td>   -0.6711</td> <td>    0.014</td> <td>  -48.364</td> <td> 0.000</td> <td>   -0.698</td> <td>   -0.644</td>\n",
       "</tr>\n",
       "<tr>\n",
       "  <th>ar.L3</th>    <td>    0.1574</td> <td>    0.006</td> <td>   25.536</td> <td> 0.000</td> <td>    0.145</td> <td>    0.169</td>\n",
       "</tr>\n",
       "<tr>\n",
       "  <th>ma.L1</th>    <td>   -0.7189</td> <td>    0.016</td> <td>  -43.771</td> <td> 0.000</td> <td>   -0.751</td> <td>   -0.687</td>\n",
       "</tr>\n",
       "<tr>\n",
       "  <th>ar.S.L7</th>  <td>   -0.8705</td> <td>    0.006</td> <td> -134.902</td> <td> 0.000</td> <td>   -0.883</td> <td>   -0.858</td>\n",
       "</tr>\n",
       "<tr>\n",
       "  <th>ar.S.L14</th> <td>   -0.6881</td> <td>    0.009</td> <td>  -79.954</td> <td> 0.000</td> <td>   -0.705</td> <td>   -0.671</td>\n",
       "</tr>\n",
       "<tr>\n",
       "  <th>ar.S.L21</th> <td>   -0.5222</td> <td>    0.009</td> <td>  -56.038</td> <td> 0.000</td> <td>   -0.540</td> <td>   -0.504</td>\n",
       "</tr>\n",
       "<tr>\n",
       "  <th>ar.S.L28</th> <td>   -0.3242</td> <td>    0.009</td> <td>  -34.546</td> <td> 0.000</td> <td>   -0.343</td> <td>   -0.306</td>\n",
       "</tr>\n",
       "<tr>\n",
       "  <th>ar.S.L35</th> <td>   -0.1690</td> <td>    0.007</td> <td>  -24.190</td> <td> 0.000</td> <td>   -0.183</td> <td>   -0.155</td>\n",
       "</tr>\n",
       "<tr>\n",
       "  <th>sigma2</th>   <td> 6007.2749</td> <td>   30.995</td> <td>  193.812</td> <td> 0.000</td> <td> 5946.525</td> <td> 6068.025</td>\n",
       "</tr>\n",
       "</table>\n",
       "<table class=\"simpletable\">\n",
       "<tr>\n",
       "  <th>Ljung-Box (L1) (Q):</th>     <td>9.13</td> <th>  Jarque-Bera (JB):  </th> <td>175371.48</td>\n",
       "</tr>\n",
       "<tr>\n",
       "  <th>Prob(Q):</th>                <td>0.00</td> <th>  Prob(JB):          </th>   <td>0.00</td>   \n",
       "</tr>\n",
       "<tr>\n",
       "  <th>Heteroskedasticity (H):</th> <td>0.84</td> <th>  Skew:              </th>   <td>2.27</td>   \n",
       "</tr>\n",
       "<tr>\n",
       "  <th>Prob(H) (two-sided):</th>    <td>0.00</td> <th>  Kurtosis:          </th>   <td>19.27</td>  \n",
       "</tr>\n",
       "</table><br/><br/>Warnings:<br/>[1] Covariance matrix calculated using the outer product of gradients (complex-step)."
      ],
      "text/plain": [
       "<class 'statsmodels.iolib.summary.Summary'>\n",
       "\"\"\"\n",
       "                                     SARIMAX Results                                      \n",
       "==========================================================================================\n",
       "Dep. Variable:                                  y   No. Observations:                14800\n",
       "Model:             SARIMAX(3, 0, 1)x(5, 1, [], 7)   Log Likelihood              -84573.705\n",
       "Date:                            Tue, 21 Sep 2021   AIC                         169217.410\n",
       "Time:                                    23:44:10   BIC                         169483.387\n",
       "Sample:                                         0   HQIC                        169305.728\n",
       "                                          - 14800                                         \n",
       "Covariance Type:                              opg                                         \n",
       "==============================================================================\n",
       "                 coef    std err          z      P>|z|      [0.025      0.975]\n",
       "------------------------------------------------------------------------------\n",
       "x1            -1.0969      0.086    -12.778      0.000      -1.265      -0.929\n",
       "x2           -40.1247      9.216     -4.354      0.000     -58.187     -22.062\n",
       "x3             7.9104      0.701     11.278      0.000       6.536       9.285\n",
       "x4           -18.0210      5.620     -3.207      0.001     -29.035      -7.007\n",
       "x5           -24.6909      1.471    -16.789      0.000     -27.573     -21.808\n",
       "x6           -92.7336      5.951    -15.584      0.000    -104.397     -81.071\n",
       "x7            21.3085      2.075     10.269      0.000      17.241      25.376\n",
       "x8            -9.5306      3.875     -2.459      0.014     -17.126      -1.936\n",
       "x9             0.5862      2.129      0.275      0.783      -3.587       4.759\n",
       "x10           21.9202      5.109      4.290      0.000      11.906      31.934\n",
       "x11           -0.6215      0.280     -2.218      0.027      -1.171      -0.072\n",
       "x12            2.6942      2.444      1.102      0.270      -2.096       7.484\n",
       "x13            0.8375      0.353      2.376      0.018       0.147       1.528\n",
       "x14           15.0180      8.309      1.807      0.071      -1.267      31.303\n",
       "x15           -4.2509      2.178     -1.952      0.051      -8.519       0.018\n",
       "x16           31.8440      6.700      4.753      0.000      18.713      44.975\n",
       "x17           -2.2298      1.971     -1.131      0.258      -6.094       1.634\n",
       "x18            4.0625     12.661      0.321      0.748     -20.752      28.877\n",
       "x19           -7.4609      1.859     -4.012      0.000     -11.105      -3.816\n",
       "x20          -10.7161      9.830     -1.090      0.276     -29.982       8.550\n",
       "x21           -2.6568      2.061     -1.289      0.197      -6.696       1.383\n",
       "x22           -2.5201      1.869     -1.349      0.177      -6.182       1.142\n",
       "x23            0.1239      1.885      0.066      0.948      -3.570       3.818\n",
       "x24            0.3763      0.176      2.144      0.032       0.032       0.720\n",
       "x25           14.1621      9.312      1.521      0.128      -4.088      32.413\n",
       "ar.L1          1.4773      0.017     88.450      0.000       1.445       1.510\n",
       "ar.L2         -0.6711      0.014    -48.364      0.000      -0.698      -0.644\n",
       "ar.L3          0.1574      0.006     25.536      0.000       0.145       0.169\n",
       "ma.L1         -0.7189      0.016    -43.771      0.000      -0.751      -0.687\n",
       "ar.S.L7       -0.8705      0.006   -134.902      0.000      -0.883      -0.858\n",
       "ar.S.L14      -0.6881      0.009    -79.954      0.000      -0.705      -0.671\n",
       "ar.S.L21      -0.5222      0.009    -56.038      0.000      -0.540      -0.504\n",
       "ar.S.L28      -0.3242      0.009    -34.546      0.000      -0.343      -0.306\n",
       "ar.S.L35      -0.1690      0.007    -24.190      0.000      -0.183      -0.155\n",
       "sigma2      6007.2749     30.995    193.812      0.000    5946.525    6068.025\n",
       "===================================================================================\n",
       "Ljung-Box (L1) (Q):                   9.13   Jarque-Bera (JB):            175371.48\n",
       "Prob(Q):                              0.00   Prob(JB):                         0.00\n",
       "Heteroskedasticity (H):               0.84   Skew:                             2.27\n",
       "Prob(H) (two-sided):                  0.00   Kurtosis:                        19.27\n",
       "===================================================================================\n",
       "\n",
       "Warnings:\n",
       "[1] Covariance matrix calculated using the outer product of gradients (complex-step).\n",
       "\"\"\""
      ]
     },
     "execution_count": 19,
     "metadata": {},
     "output_type": "execute_result"
    }
   ],
   "source": [
    "sarimax.summary()"
   ]
  },
  {
   "cell_type": "code",
   "execution_count": 20,
   "id": "innovative-albany",
   "metadata": {},
   "outputs": [
    {
     "data": {
      "text/html": [
       "<div>\n",
       "<style scoped>\n",
       "    .dataframe tbody tr th:only-of-type {\n",
       "        vertical-align: middle;\n",
       "    }\n",
       "\n",
       "    .dataframe tbody tr th {\n",
       "        vertical-align: top;\n",
       "    }\n",
       "\n",
       "    .dataframe thead th {\n",
       "        text-align: right;\n",
       "    }\n",
       "</style>\n",
       "<table border=\"1\" class=\"dataframe\">\n",
       "  <thead>\n",
       "    <tr style=\"text-align: right;\">\n",
       "      <th></th>\n",
       "      <th>C0</th>\n",
       "      <th>C1</th>\n",
       "      <th>C2</th>\n",
       "      <th>Appliances(t-1)</th>\n",
       "    </tr>\n",
       "  </thead>\n",
       "  <tbody>\n",
       "    <tr>\n",
       "      <th>0</th>\n",
       "      <td>-0.790653</td>\n",
       "      <td>0.386887</td>\n",
       "      <td>0.168916</td>\n",
       "      <td>60.0</td>\n",
       "    </tr>\n",
       "    <tr>\n",
       "      <th>1</th>\n",
       "      <td>-0.788940</td>\n",
       "      <td>0.379753</td>\n",
       "      <td>0.161812</td>\n",
       "      <td>60.0</td>\n",
       "    </tr>\n",
       "  </tbody>\n",
       "</table>\n",
       "</div>"
      ],
      "text/plain": [
       "         C0        C1        C2  Appliances(t-1)\n",
       "0 -0.790653  0.386887  0.168916             60.0\n",
       "1 -0.788940  0.379753  0.161812             60.0"
      ]
     },
     "execution_count": 20,
     "metadata": {},
     "output_type": "execute_result"
    }
   ],
   "source": [
    "pca_reduced_train.head(2)"
   ]
  },
  {
   "cell_type": "code",
   "execution_count": 28,
   "id": "plain-explanation",
   "metadata": {},
   "outputs": [
    {
     "name": "stderr",
     "output_type": "stream",
     "text": [
      "/home/hugo/anaconda3/lib/python3.8/site-packages/pandas/core/frame.py:4441: SettingWithCopyWarning: \n",
      "A value is trying to be set on a copy of a slice from a DataFrame\n",
      "\n",
      "See the caveats in the documentation: https://pandas.pydata.org/pandas-docs/stable/user_guide/indexing.html#returning-a-view-versus-a-copy\n",
      "  return super().rename(\n"
     ]
    }
   ],
   "source": [
    "#ALtera o nome da columa porque o modelo utiliza esse label como variável endogena \n",
    "test.rename(columns = {'Appliances(t)': 'Appliances(t-1)'}, inplace = True)\n",
    "start = len(train)\n",
    "end = len(train) + len(test) -1\n",
    "forecast, pca_reduced_test = pca_arimax.run_test_model(test, sarimax,start,end)"
   ]
  },
  {
   "cell_type": "code",
   "execution_count": 29,
   "id": "veterinary-router",
   "metadata": {},
   "outputs": [
    {
     "data": {
      "text/plain": [
       "array([ 250.70514062,  204.84522495,  208.47978944, ...,  -75.48662929,\n",
       "       -140.63264148, -163.32214765])"
      ]
     },
     "execution_count": 29,
     "metadata": {},
     "output_type": "execute_result"
    }
   ],
   "source": [
    "forecast"
   ]
  },
  {
   "cell_type": "code",
   "execution_count": 32,
   "id": "unavailable-gnome",
   "metadata": {},
   "outputs": [
    {
     "data": {
      "text/html": [
       "<div>\n",
       "<style scoped>\n",
       "    .dataframe tbody tr th:only-of-type {\n",
       "        vertical-align: middle;\n",
       "    }\n",
       "\n",
       "    .dataframe tbody tr th {\n",
       "        vertical-align: top;\n",
       "    }\n",
       "\n",
       "    .dataframe thead th {\n",
       "        text-align: right;\n",
       "    }\n",
       "</style>\n",
       "<table border=\"1\" class=\"dataframe\">\n",
       "  <thead>\n",
       "    <tr style=\"text-align: right;\">\n",
       "      <th></th>\n",
       "      <th>C0</th>\n",
       "      <th>C1</th>\n",
       "      <th>C2</th>\n",
       "      <th>Appliances(t-1)</th>\n",
       "    </tr>\n",
       "  </thead>\n",
       "  <tbody>\n",
       "    <tr>\n",
       "      <th>0</th>\n",
       "      <td>-0.536229</td>\n",
       "      <td>0.379623</td>\n",
       "      <td>-0.028061</td>\n",
       "      <td>280</td>\n",
       "    </tr>\n",
       "    <tr>\n",
       "      <th>1</th>\n",
       "      <td>-0.526844</td>\n",
       "      <td>0.400591</td>\n",
       "      <td>-0.024446</td>\n",
       "      <td>320</td>\n",
       "    </tr>\n",
       "    <tr>\n",
       "      <th>2</th>\n",
       "      <td>-0.519235</td>\n",
       "      <td>0.384981</td>\n",
       "      <td>-0.004433</td>\n",
       "      <td>360</td>\n",
       "    </tr>\n",
       "    <tr>\n",
       "      <th>3</th>\n",
       "      <td>-0.516002</td>\n",
       "      <td>0.379201</td>\n",
       "      <td>0.000447</td>\n",
       "      <td>210</td>\n",
       "    </tr>\n",
       "    <tr>\n",
       "      <th>4</th>\n",
       "      <td>-0.502806</td>\n",
       "      <td>0.404541</td>\n",
       "      <td>-0.003880</td>\n",
       "      <td>90</td>\n",
       "    </tr>\n",
       "  </tbody>\n",
       "</table>\n",
       "</div>"
      ],
      "text/plain": [
       "         C0        C1        C2  Appliances(t-1)\n",
       "0 -0.536229  0.379623 -0.028061              280\n",
       "1 -0.526844  0.400591 -0.024446              320\n",
       "2 -0.519235  0.384981 -0.004433              360\n",
       "3 -0.516002  0.379201  0.000447              210\n",
       "4 -0.502806  0.404541 -0.003880               90"
      ]
     },
     "execution_count": 32,
     "metadata": {},
     "output_type": "execute_result"
    }
   ],
   "source": [
    "#pca_reduced_test['Appliances(t-1)'].head(2)\n",
    "pca_reduced_test.head(5)"
   ]
  },
  {
   "cell_type": "code",
   "execution_count": 33,
   "id": "oriental-headline",
   "metadata": {},
   "outputs": [
    {
     "name": "stdout",
     "output_type": "stream",
     "text": [
      "225.80870073189277\n",
      "264.6636625549886\n"
     ]
    }
   ],
   "source": [
    "print(Measures.rmse(pca_reduced_test['Appliances(t-1)'],forecast))\n",
    "print(Measures.mape(pca_reduced_test['Appliances(t-1)'],forecast))"
   ]
  },
  {
   "cell_type": "markdown",
   "id": "plain-verification",
   "metadata": {},
   "source": [
    "## Model: PcaSarimax - PCA-SARIMAX - Final model "
   ]
  },
  {
   "cell_type": "code",
   "execution_count": null,
   "id": "corrected-perfume",
   "metadata": {},
   "outputs": [],
   "source": [
    "#order=(0,0,1), seasonal_order=(0,1,1,7) ==> 198.542782\t161.229953\t233.440971\t55.778863\n",
    "# order=[4,0,0],seasonal_order=[5,1,0,7]==> 231.298042\t192.277452\t278.761252\t60.937779\n",
    "# order=[1,0,0],seasonal_order=[1,1,1,7]==> 193.390913\t154.115144\t215.690672\t53.695569\n",
    "# order=[2,0,0],seasonal_order=[1,1,1,7]==> 197.281172\t158.910376\t223.941404\t56.833807\n",
    "# order=[1,0,1],seasonal_order=[1,1,1,7]==> 194.718208\t155.646919\t217.600043\t56.32993\n",
    "# order=[1,0,1],seasonal_order=[1,0,1,7]==> 159.672044\t125.575645\t172.611668\t52.118226\n",
    "# order=[1,0,0],seasonal_order=[1,0,1,7]==> 159.428875\t124.994671\t171.189957\t51.985863\n",
    "#159.428875\t124.994671\t171.189957\t51.985863\n",
    "# order=[1,0,0],seasonal_order=[1,0,0,7]==> 158.768037\t124.465851\t170.801876\t51.938651\n",
    "#158.768037\t124.465851\t170.801876\t51.938651\n",
    "#order=[1,0,0],seasonal_order=[0,0,0,7]==> 158.135784\t124.097266\t170.87774\t51.708168\n",
    "# order=[1,0,0],seasonal_order=[0,0,0,0]==>158.135784\t124.097266\t170.87774\t51.708168\n",
    "\n",
    "# order=[2,0,0],seasonal_order=[0,0,0,0]==> 158.946251\t125.183403\t172.284921\t52.377286\n",
    "#order=[2,0,1],seasonal_order=[0,0,0,0]==> 158.744321\t124.722451\t171.211912\t52.230366\n",
    "\n",
    "#Utilizar o ARIMAX melhor um pouquinho, quase nada "
   ]
  },
  {
   "cell_type": "code",
   "execution_count": 18,
   "id": "optimum-musician",
   "metadata": {},
   "outputs": [],
   "source": [
    "pca_sarimax = PcaSarimax(n_components = 3,\n",
    "                       endogen_variable = 'Appliances(t-1)',\n",
    "                       order=[1,0,0],\n",
    "                       seasonal_order=[1,0,0,7])"
   ]
  },
  {
   "cell_type": "markdown",
   "id": "reliable-future",
   "metadata": {},
   "source": [
    "## Sliding Window PyFTS: PCA-SARIMAX"
   ]
  },
  {
   "cell_type": "code",
   "execution_count": 19,
   "id": "green-possession",
   "metadata": {},
   "outputs": [
    {
     "name": "stdout",
     "output_type": "stream",
     "text": [
      "--------------------\n",
      "training window 0\n"
     ]
    },
    {
     "name": "stderr",
     "output_type": "stream",
     "text": [
      "/home/hugo/anaconda3/lib/python3.8/site-packages/statsmodels/base/model.py:566: ConvergenceWarning: Maximum Likelihood optimization failed to converge. Check mle_retvals\n",
      "  warnings.warn(\"Maximum Likelihood optimization failed to \"\n"
     ]
    },
    {
     "name": "stdout",
     "output_type": "stream",
     "text": [
      "[ 23:53:51] getting statistics\n",
      "--------------------\n",
      "training window 657\n"
     ]
    },
    {
     "name": "stderr",
     "output_type": "stream",
     "text": [
      "/home/hugo/anaconda3/lib/python3.8/site-packages/statsmodels/base/model.py:566: ConvergenceWarning: Maximum Likelihood optimization failed to converge. Check mle_retvals\n",
      "  warnings.warn(\"Maximum Likelihood optimization failed to \"\n"
     ]
    },
    {
     "name": "stdout",
     "output_type": "stream",
     "text": [
      "[ 23:53:58] getting statistics\n",
      "--------------------\n",
      "training window 1314\n"
     ]
    },
    {
     "name": "stderr",
     "output_type": "stream",
     "text": [
      "/home/hugo/anaconda3/lib/python3.8/site-packages/statsmodels/base/model.py:566: ConvergenceWarning: Maximum Likelihood optimization failed to converge. Check mle_retvals\n",
      "  warnings.warn(\"Maximum Likelihood optimization failed to \"\n"
     ]
    },
    {
     "name": "stdout",
     "output_type": "stream",
     "text": [
      "[ 23:54:05] getting statistics\n",
      "--------------------\n",
      "training window 1971\n"
     ]
    },
    {
     "name": "stderr",
     "output_type": "stream",
     "text": [
      "/home/hugo/anaconda3/lib/python3.8/site-packages/statsmodels/base/model.py:566: ConvergenceWarning: Maximum Likelihood optimization failed to converge. Check mle_retvals\n",
      "  warnings.warn(\"Maximum Likelihood optimization failed to \"\n"
     ]
    },
    {
     "name": "stdout",
     "output_type": "stream",
     "text": [
      "[ 23:54:12] getting statistics\n",
      "--------------------\n",
      "training window 2628\n"
     ]
    },
    {
     "name": "stderr",
     "output_type": "stream",
     "text": [
      "/home/hugo/anaconda3/lib/python3.8/site-packages/statsmodels/base/model.py:566: ConvergenceWarning: Maximum Likelihood optimization failed to converge. Check mle_retvals\n",
      "  warnings.warn(\"Maximum Likelihood optimization failed to \"\n"
     ]
    },
    {
     "name": "stdout",
     "output_type": "stream",
     "text": [
      "[ 23:54:19] getting statistics\n",
      "--------------------\n",
      "training window 3285\n"
     ]
    },
    {
     "name": "stderr",
     "output_type": "stream",
     "text": [
      "/home/hugo/anaconda3/lib/python3.8/site-packages/statsmodels/base/model.py:566: ConvergenceWarning: Maximum Likelihood optimization failed to converge. Check mle_retvals\n",
      "  warnings.warn(\"Maximum Likelihood optimization failed to \"\n"
     ]
    },
    {
     "name": "stdout",
     "output_type": "stream",
     "text": [
      "[ 23:54:26] getting statistics\n",
      "--------------------\n",
      "training window 3942\n"
     ]
    },
    {
     "name": "stderr",
     "output_type": "stream",
     "text": [
      "/home/hugo/anaconda3/lib/python3.8/site-packages/statsmodels/base/model.py:566: ConvergenceWarning: Maximum Likelihood optimization failed to converge. Check mle_retvals\n",
      "  warnings.warn(\"Maximum Likelihood optimization failed to \"\n"
     ]
    },
    {
     "name": "stdout",
     "output_type": "stream",
     "text": [
      "[ 23:54:32] getting statistics\n",
      "--------------------\n",
      "training window 4599\n"
     ]
    },
    {
     "name": "stderr",
     "output_type": "stream",
     "text": [
      "/home/hugo/anaconda3/lib/python3.8/site-packages/statsmodels/base/model.py:566: ConvergenceWarning: Maximum Likelihood optimization failed to converge. Check mle_retvals\n",
      "  warnings.warn(\"Maximum Likelihood optimization failed to \"\n"
     ]
    },
    {
     "name": "stdout",
     "output_type": "stream",
     "text": [
      "[ 23:54:40] getting statistics\n",
      "--------------------\n",
      "training window 5256\n"
     ]
    },
    {
     "name": "stderr",
     "output_type": "stream",
     "text": [
      "/home/hugo/anaconda3/lib/python3.8/site-packages/statsmodels/base/model.py:566: ConvergenceWarning: Maximum Likelihood optimization failed to converge. Check mle_retvals\n",
      "  warnings.warn(\"Maximum Likelihood optimization failed to \"\n"
     ]
    },
    {
     "name": "stdout",
     "output_type": "stream",
     "text": [
      "[ 23:54:46] getting statistics\n",
      "--------------------\n",
      "training window 5913\n"
     ]
    },
    {
     "name": "stderr",
     "output_type": "stream",
     "text": [
      "/home/hugo/anaconda3/lib/python3.8/site-packages/statsmodels/base/model.py:566: ConvergenceWarning: Maximum Likelihood optimization failed to converge. Check mle_retvals\n",
      "  warnings.warn(\"Maximum Likelihood optimization failed to \"\n"
     ]
    },
    {
     "name": "stdout",
     "output_type": "stream",
     "text": [
      "[ 23:54:53] getting statistics\n",
      "--------------------\n",
      "training window 6570\n"
     ]
    },
    {
     "name": "stderr",
     "output_type": "stream",
     "text": [
      "/home/hugo/anaconda3/lib/python3.8/site-packages/statsmodels/base/model.py:566: ConvergenceWarning: Maximum Likelihood optimization failed to converge. Check mle_retvals\n",
      "  warnings.warn(\"Maximum Likelihood optimization failed to \"\n"
     ]
    },
    {
     "name": "stdout",
     "output_type": "stream",
     "text": [
      "[ 23:54:58] getting statistics\n",
      "--------------------\n",
      "training window 7227\n"
     ]
    },
    {
     "name": "stderr",
     "output_type": "stream",
     "text": [
      "/home/hugo/anaconda3/lib/python3.8/site-packages/statsmodels/base/model.py:566: ConvergenceWarning: Maximum Likelihood optimization failed to converge. Check mle_retvals\n",
      "  warnings.warn(\"Maximum Likelihood optimization failed to \"\n"
     ]
    },
    {
     "name": "stdout",
     "output_type": "stream",
     "text": [
      "[ 23:55:05] getting statistics\n",
      "--------------------\n",
      "training window 7884\n"
     ]
    },
    {
     "name": "stderr",
     "output_type": "stream",
     "text": [
      "/home/hugo/anaconda3/lib/python3.8/site-packages/statsmodels/base/model.py:566: ConvergenceWarning: Maximum Likelihood optimization failed to converge. Check mle_retvals\n",
      "  warnings.warn(\"Maximum Likelihood optimization failed to \"\n"
     ]
    },
    {
     "name": "stdout",
     "output_type": "stream",
     "text": [
      "[ 23:55:11] getting statistics\n",
      "--------------------\n",
      "training window 8541\n"
     ]
    },
    {
     "name": "stderr",
     "output_type": "stream",
     "text": [
      "/home/hugo/anaconda3/lib/python3.8/site-packages/statsmodels/base/model.py:566: ConvergenceWarning: Maximum Likelihood optimization failed to converge. Check mle_retvals\n",
      "  warnings.warn(\"Maximum Likelihood optimization failed to \"\n"
     ]
    },
    {
     "name": "stdout",
     "output_type": "stream",
     "text": [
      "[ 23:55:19] getting statistics\n",
      "--------------------\n",
      "training window 9198\n"
     ]
    },
    {
     "name": "stderr",
     "output_type": "stream",
     "text": [
      "/home/hugo/anaconda3/lib/python3.8/site-packages/statsmodels/base/model.py:566: ConvergenceWarning: Maximum Likelihood optimization failed to converge. Check mle_retvals\n",
      "  warnings.warn(\"Maximum Likelihood optimization failed to \"\n"
     ]
    },
    {
     "name": "stdout",
     "output_type": "stream",
     "text": [
      "[ 23:55:30] getting statistics\n",
      "--------------------\n",
      "training window 9855\n"
     ]
    },
    {
     "name": "stderr",
     "output_type": "stream",
     "text": [
      "/home/hugo/anaconda3/lib/python3.8/site-packages/statsmodels/base/model.py:566: ConvergenceWarning: Maximum Likelihood optimization failed to converge. Check mle_retvals\n",
      "  warnings.warn(\"Maximum Likelihood optimization failed to \"\n"
     ]
    },
    {
     "name": "stdout",
     "output_type": "stream",
     "text": [
      "[ 23:55:37] getting statistics\n",
      "--------------------\n",
      "training window 10512\n"
     ]
    },
    {
     "name": "stderr",
     "output_type": "stream",
     "text": [
      "/home/hugo/anaconda3/lib/python3.8/site-packages/statsmodels/base/model.py:566: ConvergenceWarning: Maximum Likelihood optimization failed to converge. Check mle_retvals\n",
      "  warnings.warn(\"Maximum Likelihood optimization failed to \"\n"
     ]
    },
    {
     "name": "stdout",
     "output_type": "stream",
     "text": [
      "[ 23:55:46] getting statistics\n",
      "--------------------\n",
      "training window 11169\n"
     ]
    },
    {
     "name": "stderr",
     "output_type": "stream",
     "text": [
      "/home/hugo/anaconda3/lib/python3.8/site-packages/statsmodels/base/model.py:566: ConvergenceWarning: Maximum Likelihood optimization failed to converge. Check mle_retvals\n",
      "  warnings.warn(\"Maximum Likelihood optimization failed to \"\n"
     ]
    },
    {
     "name": "stdout",
     "output_type": "stream",
     "text": [
      "[ 23:55:53] getting statistics\n",
      "--------------------\n",
      "training window 11826\n"
     ]
    },
    {
     "name": "stderr",
     "output_type": "stream",
     "text": [
      "/home/hugo/anaconda3/lib/python3.8/site-packages/statsmodels/base/model.py:566: ConvergenceWarning: Maximum Likelihood optimization failed to converge. Check mle_retvals\n",
      "  warnings.warn(\"Maximum Likelihood optimization failed to \"\n"
     ]
    },
    {
     "name": "stdout",
     "output_type": "stream",
     "text": [
      "[ 23:56:01] getting statistics\n",
      "--------------------\n",
      "training window 12483\n"
     ]
    },
    {
     "name": "stderr",
     "output_type": "stream",
     "text": [
      "/home/hugo/anaconda3/lib/python3.8/site-packages/statsmodels/base/model.py:566: ConvergenceWarning: Maximum Likelihood optimization failed to converge. Check mle_retvals\n",
      "  warnings.warn(\"Maximum Likelihood optimization failed to \"\n"
     ]
    },
    {
     "name": "stdout",
     "output_type": "stream",
     "text": [
      "[ 23:56:09] getting statistics\n",
      "--------------------\n",
      "training window 13140\n"
     ]
    },
    {
     "name": "stderr",
     "output_type": "stream",
     "text": [
      "/home/hugo/anaconda3/lib/python3.8/site-packages/statsmodels/base/model.py:566: ConvergenceWarning: Maximum Likelihood optimization failed to converge. Check mle_retvals\n",
      "  warnings.warn(\"Maximum Likelihood optimization failed to \"\n"
     ]
    },
    {
     "name": "stdout",
     "output_type": "stream",
     "text": [
      "[ 23:56:19] getting statistics\n",
      "--------------------\n",
      "training window 13797\n"
     ]
    },
    {
     "name": "stderr",
     "output_type": "stream",
     "text": [
      "/home/hugo/anaconda3/lib/python3.8/site-packages/statsmodels/base/model.py:566: ConvergenceWarning: Maximum Likelihood optimization failed to converge. Check mle_retvals\n",
      "  warnings.warn(\"Maximum Likelihood optimization failed to \"\n"
     ]
    },
    {
     "name": "stdout",
     "output_type": "stream",
     "text": [
      "[ 23:56:29] getting statistics\n",
      "--------------------\n",
      "training window 14454\n"
     ]
    },
    {
     "name": "stderr",
     "output_type": "stream",
     "text": [
      "/home/hugo/anaconda3/lib/python3.8/site-packages/statsmodels/base/model.py:566: ConvergenceWarning: Maximum Likelihood optimization failed to converge. Check mle_retvals\n",
      "  warnings.warn(\"Maximum Likelihood optimization failed to \"\n"
     ]
    },
    {
     "name": "stdout",
     "output_type": "stream",
     "text": [
      "[ 23:56:40] getting statistics\n",
      "--------------------\n",
      "training window 15111\n"
     ]
    },
    {
     "name": "stderr",
     "output_type": "stream",
     "text": [
      "/home/hugo/anaconda3/lib/python3.8/site-packages/statsmodels/base/model.py:566: ConvergenceWarning: Maximum Likelihood optimization failed to converge. Check mle_retvals\n",
      "  warnings.warn(\"Maximum Likelihood optimization failed to \"\n"
     ]
    },
    {
     "name": "stdout",
     "output_type": "stream",
     "text": [
      "[ 23:56:50] getting statistics\n",
      "--------------------\n",
      "training window 15768\n"
     ]
    },
    {
     "name": "stderr",
     "output_type": "stream",
     "text": [
      "/home/hugo/anaconda3/lib/python3.8/site-packages/statsmodels/base/model.py:566: ConvergenceWarning: Maximum Likelihood optimization failed to converge. Check mle_retvals\n",
      "  warnings.warn(\"Maximum Likelihood optimization failed to \"\n"
     ]
    },
    {
     "name": "stdout",
     "output_type": "stream",
     "text": [
      "[ 23:56:59] getting statistics\n",
      "--------------------\n",
      "training window 16425\n"
     ]
    },
    {
     "name": "stderr",
     "output_type": "stream",
     "text": [
      "/home/hugo/anaconda3/lib/python3.8/site-packages/statsmodels/base/model.py:566: ConvergenceWarning: Maximum Likelihood optimization failed to converge. Check mle_retvals\n",
      "  warnings.warn(\"Maximum Likelihood optimization failed to \"\n"
     ]
    },
    {
     "name": "stdout",
     "output_type": "stream",
     "text": [
      "[ 23:57:06] getting statistics\n",
      "--------------------\n",
      "training window 17082\n"
     ]
    },
    {
     "name": "stderr",
     "output_type": "stream",
     "text": [
      "/home/hugo/anaconda3/lib/python3.8/site-packages/statsmodels/base/model.py:566: ConvergenceWarning: Maximum Likelihood optimization failed to converge. Check mle_retvals\n",
      "  warnings.warn(\"Maximum Likelihood optimization failed to \"\n"
     ]
    },
    {
     "name": "stdout",
     "output_type": "stream",
     "text": [
      "[ 23:57:12] getting statistics\n",
      "--------------------\n",
      "training window 17739\n"
     ]
    },
    {
     "name": "stderr",
     "output_type": "stream",
     "text": [
      "/home/hugo/anaconda3/lib/python3.8/site-packages/statsmodels/base/model.py:566: ConvergenceWarning: Maximum Likelihood optimization failed to converge. Check mle_retvals\n",
      "  warnings.warn(\"Maximum Likelihood optimization failed to \"\n"
     ]
    },
    {
     "name": "stdout",
     "output_type": "stream",
     "text": [
      "[ 23:57:18] getting statistics\n",
      "--------------------\n",
      "training window 18396\n"
     ]
    },
    {
     "name": "stderr",
     "output_type": "stream",
     "text": [
      "/home/hugo/anaconda3/lib/python3.8/site-packages/statsmodels/base/model.py:566: ConvergenceWarning: Maximum Likelihood optimization failed to converge. Check mle_retvals\n",
      "  warnings.warn(\"Maximum Likelihood optimization failed to \"\n"
     ]
    },
    {
     "name": "stdout",
     "output_type": "stream",
     "text": [
      "[ 23:57:26] getting statistics\n",
      "--------------------\n",
      "training window 19053\n"
     ]
    },
    {
     "name": "stderr",
     "output_type": "stream",
     "text": [
      "/home/hugo/anaconda3/lib/python3.8/site-packages/statsmodels/base/model.py:566: ConvergenceWarning: Maximum Likelihood optimization failed to converge. Check mle_retvals\n",
      "  warnings.warn(\"Maximum Likelihood optimization failed to \"\n"
     ]
    },
    {
     "name": "stdout",
     "output_type": "stream",
     "text": [
      "[ 23:57:32] getting statistics\n"
     ]
    }
   ],
   "source": [
    "result = {\n",
    "     \"window\": [],\n",
    "     \"rmse\": [],\n",
    "     \"mae\": [],\n",
    "     \"mape\": [],\n",
    "     \"smape\": [],\n",
    "     \"nrmse\":[],\n",
    "}\n",
    "\n",
    "tam = len(data)\n",
    "n_windows = 30\n",
    "windows_length = math.floor(tam / n_windows)\n",
    "for ct, ttrain, ttest in Util.sliding_window(data, windows_length, 0.75, inc=1):\n",
    "    if len(ttest) > 0:\n",
    "        \n",
    "        data_train = ttrain.loc[:,'Appliances(t-1)':'Tdewpoint(t-1)']\n",
    "        data_test = ttest.loc[:,'lights(t-1)':'Appliances(t)']\n",
    "        \n",
    "        #ALtera o nome da columa porque o modelo utiliza esse label como variável endogena \n",
    "        data_test.rename(columns = {'Appliances(t)': 'Appliances(t-1)'}, inplace = True)\n",
    "        \n",
    "        start = len(data_train)\n",
    "        end = len(data_train)+ len(data_test) -1\n",
    "        #appliance = ttest['Appliances_t+1'].reset_index()\n",
    "        \n",
    "        print('-' * 20)\n",
    "        print(f'training window {(ct)}')\n",
    "        model, sarimax, pca_reduced_train = pca_sarimax.run_train_model(data_train)\n",
    "        forecast, pca_reduced_test = pca_sarimax.run_test_model(data_test,sarimax,start,end)\n",
    "        \n",
    "        print(\"[{0: %H:%M:%S}]\".format(datetime.datetime.now()) + f\" getting statistics\")\n",
    "        rmse = Measures.rmse(pca_reduced_test['Appliances(t-1)'],forecast)\n",
    "        mape = Measures.mape(pca_reduced_test['Appliances(t-1)'],forecast)\n",
    "        smape = Measures.smape(pca_reduced_test['Appliances(t-1)'],forecast)\n",
    "        \n",
    "#         forecast = pd.DataFrame(forecast)\n",
    "#         forecast.fillna(forecast.mean(),inplace=True)\n",
    "#         forecast = np.array(forecast).reshape(-1)\n",
    "        mae = mean_absolute_error(pca_reduced_test['Appliances(t-1)'], forecast)\n",
    "    \n",
    "        nrmse = cal_nrmse(rmse,pca_reduced_test['Appliances(t-1)'])\n",
    "    \n",
    "#         # Grafico de comparação Original x Previsto para cada janela\n",
    "#         fig, ax = plt.subplots(nrows=1, ncols=1, figsize=[15, 3])\n",
    "#         ax.plot(pca_reduced_test['Appliances(t-1)'], label='Original')\n",
    "#         ax.plot(forecast, label='Forecast')\n",
    "#         handles, labels = ax.get_legend_handles_labels()\n",
    "#         lgd = ax.legend(handles, labels, loc=2, bbox_to_anchor=(1, 1))\n",
    "#         plt.show()\n",
    "        \n",
    "        \n",
    "        result[\"rmse\"].append(round(rmse,3))\n",
    "        result[\"mae\"].append(round(mae,3))\n",
    "        result[\"mape\"].append(round(mape,3))\n",
    "        result[\"smape\"].append(round(smape,3))\n",
    "        result[\"nrmse\"].append(round(nrmse,3))\n",
    "        result[\"window\"].append(ct)\n",
    "        \n",
    "measures = pd.DataFrame(result)"
   ]
  },
  {
   "cell_type": "code",
   "execution_count": 21,
   "id": "czech-tulsa",
   "metadata": {
    "scrolled": true
   },
   "outputs": [
    {
     "data": {
      "text/html": [
       "<div>\n",
       "<style scoped>\n",
       "    .dataframe tbody tr th:only-of-type {\n",
       "        vertical-align: middle;\n",
       "    }\n",
       "\n",
       "    .dataframe tbody tr th {\n",
       "        vertical-align: top;\n",
       "    }\n",
       "\n",
       "    .dataframe thead th {\n",
       "        text-align: right;\n",
       "    }\n",
       "</style>\n",
       "<table border=\"1\" class=\"dataframe\">\n",
       "  <thead>\n",
       "    <tr style=\"text-align: right;\">\n",
       "      <th></th>\n",
       "      <th>window</th>\n",
       "      <th>rmse</th>\n",
       "      <th>mae</th>\n",
       "      <th>mape</th>\n",
       "      <th>smape</th>\n",
       "      <th>nrmse</th>\n",
       "    </tr>\n",
       "  </thead>\n",
       "  <tbody>\n",
       "    <tr>\n",
       "      <th>0</th>\n",
       "      <td>0</td>\n",
       "      <td>340.727</td>\n",
       "      <td>309.659</td>\n",
       "      <td>538.153</td>\n",
       "      <td>61.720</td>\n",
       "      <td>0.710</td>\n",
       "    </tr>\n",
       "    <tr>\n",
       "      <th>1</th>\n",
       "      <td>657</td>\n",
       "      <td>122.034</td>\n",
       "      <td>84.166</td>\n",
       "      <td>94.247</td>\n",
       "      <td>45.194</td>\n",
       "      <td>0.151</td>\n",
       "    </tr>\n",
       "    <tr>\n",
       "      <th>2</th>\n",
       "      <td>1314</td>\n",
       "      <td>350.016</td>\n",
       "      <td>246.597</td>\n",
       "      <td>230.166</td>\n",
       "      <td>62.313</td>\n",
       "      <td>0.422</td>\n",
       "    </tr>\n",
       "    <tr>\n",
       "      <th>3</th>\n",
       "      <td>1971</td>\n",
       "      <td>110.121</td>\n",
       "      <td>83.564</td>\n",
       "      <td>196.640</td>\n",
       "      <td>51.900</td>\n",
       "      <td>1.101</td>\n",
       "    </tr>\n",
       "    <tr>\n",
       "      <th>4</th>\n",
       "      <td>2628</td>\n",
       "      <td>167.364</td>\n",
       "      <td>145.118</td>\n",
       "      <td>208.608</td>\n",
       "      <td>46.193</td>\n",
       "      <td>0.294</td>\n",
       "    </tr>\n",
       "    <tr>\n",
       "      <th>5</th>\n",
       "      <td>3285</td>\n",
       "      <td>127.333</td>\n",
       "      <td>107.189</td>\n",
       "      <td>200.907</td>\n",
       "      <td>43.340</td>\n",
       "      <td>0.311</td>\n",
       "    </tr>\n",
       "    <tr>\n",
       "      <th>6</th>\n",
       "      <td>3942</td>\n",
       "      <td>146.074</td>\n",
       "      <td>110.866</td>\n",
       "      <td>115.497</td>\n",
       "      <td>63.005</td>\n",
       "      <td>0.200</td>\n",
       "    </tr>\n",
       "    <tr>\n",
       "      <th>7</th>\n",
       "      <td>4599</td>\n",
       "      <td>106.281</td>\n",
       "      <td>70.325</td>\n",
       "      <td>102.548</td>\n",
       "      <td>38.342</td>\n",
       "      <td>0.159</td>\n",
       "    </tr>\n",
       "    <tr>\n",
       "      <th>8</th>\n",
       "      <td>5256</td>\n",
       "      <td>208.852</td>\n",
       "      <td>174.671</td>\n",
       "      <td>258.782</td>\n",
       "      <td>51.314</td>\n",
       "      <td>0.426</td>\n",
       "    </tr>\n",
       "    <tr>\n",
       "      <th>9</th>\n",
       "      <td>5913</td>\n",
       "      <td>116.293</td>\n",
       "      <td>70.324</td>\n",
       "      <td>74.343</td>\n",
       "      <td>40.564</td>\n",
       "      <td>0.153</td>\n",
       "    </tr>\n",
       "    <tr>\n",
       "      <th>10</th>\n",
       "      <td>6570</td>\n",
       "      <td>175.992</td>\n",
       "      <td>135.445</td>\n",
       "      <td>211.847</td>\n",
       "      <td>76.321</td>\n",
       "      <td>0.320</td>\n",
       "    </tr>\n",
       "    <tr>\n",
       "      <th>11</th>\n",
       "      <td>7227</td>\n",
       "      <td>80.009</td>\n",
       "      <td>54.156</td>\n",
       "      <td>79.472</td>\n",
       "      <td>27.676</td>\n",
       "      <td>0.136</td>\n",
       "    </tr>\n",
       "    <tr>\n",
       "      <th>12</th>\n",
       "      <td>7884</td>\n",
       "      <td>120.595</td>\n",
       "      <td>69.388</td>\n",
       "      <td>84.056</td>\n",
       "      <td>42.651</td>\n",
       "      <td>0.177</td>\n",
       "    </tr>\n",
       "    <tr>\n",
       "      <th>13</th>\n",
       "      <td>8541</td>\n",
       "      <td>221.083</td>\n",
       "      <td>196.538</td>\n",
       "      <td>309.775</td>\n",
       "      <td>51.527</td>\n",
       "      <td>0.320</td>\n",
       "    </tr>\n",
       "    <tr>\n",
       "      <th>14</th>\n",
       "      <td>9198</td>\n",
       "      <td>112.881</td>\n",
       "      <td>76.438</td>\n",
       "      <td>78.798</td>\n",
       "      <td>41.826</td>\n",
       "      <td>0.168</td>\n",
       "    </tr>\n",
       "    <tr>\n",
       "      <th>15</th>\n",
       "      <td>9855</td>\n",
       "      <td>97.314</td>\n",
       "      <td>61.630</td>\n",
       "      <td>88.151</td>\n",
       "      <td>26.096</td>\n",
       "      <td>0.512</td>\n",
       "    </tr>\n",
       "    <tr>\n",
       "      <th>16</th>\n",
       "      <td>10512</td>\n",
       "      <td>201.578</td>\n",
       "      <td>129.964</td>\n",
       "      <td>95.985</td>\n",
       "      <td>62.289</td>\n",
       "      <td>0.320</td>\n",
       "    </tr>\n",
       "    <tr>\n",
       "      <th>17</th>\n",
       "      <td>11169</td>\n",
       "      <td>48.477</td>\n",
       "      <td>37.873</td>\n",
       "      <td>74.933</td>\n",
       "      <td>51.201</td>\n",
       "      <td>0.808</td>\n",
       "    </tr>\n",
       "    <tr>\n",
       "      <th>18</th>\n",
       "      <td>11826</td>\n",
       "      <td>200.593</td>\n",
       "      <td>175.403</td>\n",
       "      <td>250.698</td>\n",
       "      <td>56.530</td>\n",
       "      <td>0.456</td>\n",
       "    </tr>\n",
       "    <tr>\n",
       "      <th>19</th>\n",
       "      <td>12483</td>\n",
       "      <td>102.265</td>\n",
       "      <td>90.412</td>\n",
       "      <td>139.870</td>\n",
       "      <td>38.756</td>\n",
       "      <td>0.292</td>\n",
       "    </tr>\n",
       "    <tr>\n",
       "      <th>20</th>\n",
       "      <td>13140</td>\n",
       "      <td>201.692</td>\n",
       "      <td>185.883</td>\n",
       "      <td>250.315</td>\n",
       "      <td>51.871</td>\n",
       "      <td>0.265</td>\n",
       "    </tr>\n",
       "    <tr>\n",
       "      <th>21</th>\n",
       "      <td>13797</td>\n",
       "      <td>135.316</td>\n",
       "      <td>112.799</td>\n",
       "      <td>179.377</td>\n",
       "      <td>60.262</td>\n",
       "      <td>0.260</td>\n",
       "    </tr>\n",
       "    <tr>\n",
       "      <th>22</th>\n",
       "      <td>14454</td>\n",
       "      <td>194.731</td>\n",
       "      <td>162.286</td>\n",
       "      <td>248.508</td>\n",
       "      <td>79.327</td>\n",
       "      <td>2.164</td>\n",
       "    </tr>\n",
       "    <tr>\n",
       "      <th>23</th>\n",
       "      <td>15111</td>\n",
       "      <td>186.968</td>\n",
       "      <td>142.116</td>\n",
       "      <td>153.653</td>\n",
       "      <td>75.154</td>\n",
       "      <td>0.246</td>\n",
       "    </tr>\n",
       "    <tr>\n",
       "      <th>24</th>\n",
       "      <td>15768</td>\n",
       "      <td>187.281</td>\n",
       "      <td>159.158</td>\n",
       "      <td>235.092</td>\n",
       "      <td>84.136</td>\n",
       "      <td>0.426</td>\n",
       "    </tr>\n",
       "    <tr>\n",
       "      <th>25</th>\n",
       "      <td>16425</td>\n",
       "      <td>85.627</td>\n",
       "      <td>71.703</td>\n",
       "      <td>120.597</td>\n",
       "      <td>47.773</td>\n",
       "      <td>0.231</td>\n",
       "    </tr>\n",
       "    <tr>\n",
       "      <th>26</th>\n",
       "      <td>17082</td>\n",
       "      <td>218.921</td>\n",
       "      <td>151.481</td>\n",
       "      <td>83.776</td>\n",
       "      <td>56.918</td>\n",
       "      <td>0.353</td>\n",
       "    </tr>\n",
       "    <tr>\n",
       "      <th>27</th>\n",
       "      <td>17739</td>\n",
       "      <td>146.781</td>\n",
       "      <td>128.195</td>\n",
       "      <td>222.929</td>\n",
       "      <td>46.625</td>\n",
       "      <td>0.408</td>\n",
       "    </tr>\n",
       "    <tr>\n",
       "      <th>28</th>\n",
       "      <td>18396</td>\n",
       "      <td>84.229</td>\n",
       "      <td>54.791</td>\n",
       "      <td>52.365</td>\n",
       "      <td>21.459</td>\n",
       "      <td>0.187</td>\n",
       "    </tr>\n",
       "    <tr>\n",
       "      <th>29</th>\n",
       "      <td>19053</td>\n",
       "      <td>165.613</td>\n",
       "      <td>135.838</td>\n",
       "      <td>143.969</td>\n",
       "      <td>55.876</td>\n",
       "      <td>0.204</td>\n",
       "    </tr>\n",
       "  </tbody>\n",
       "</table>\n",
       "</div>"
      ],
      "text/plain": [
       "    window     rmse      mae     mape   smape  nrmse\n",
       "0        0  340.727  309.659  538.153  61.720  0.710\n",
       "1      657  122.034   84.166   94.247  45.194  0.151\n",
       "2     1314  350.016  246.597  230.166  62.313  0.422\n",
       "3     1971  110.121   83.564  196.640  51.900  1.101\n",
       "4     2628  167.364  145.118  208.608  46.193  0.294\n",
       "5     3285  127.333  107.189  200.907  43.340  0.311\n",
       "6     3942  146.074  110.866  115.497  63.005  0.200\n",
       "7     4599  106.281   70.325  102.548  38.342  0.159\n",
       "8     5256  208.852  174.671  258.782  51.314  0.426\n",
       "9     5913  116.293   70.324   74.343  40.564  0.153\n",
       "10    6570  175.992  135.445  211.847  76.321  0.320\n",
       "11    7227   80.009   54.156   79.472  27.676  0.136\n",
       "12    7884  120.595   69.388   84.056  42.651  0.177\n",
       "13    8541  221.083  196.538  309.775  51.527  0.320\n",
       "14    9198  112.881   76.438   78.798  41.826  0.168\n",
       "15    9855   97.314   61.630   88.151  26.096  0.512\n",
       "16   10512  201.578  129.964   95.985  62.289  0.320\n",
       "17   11169   48.477   37.873   74.933  51.201  0.808\n",
       "18   11826  200.593  175.403  250.698  56.530  0.456\n",
       "19   12483  102.265   90.412  139.870  38.756  0.292\n",
       "20   13140  201.692  185.883  250.315  51.871  0.265\n",
       "21   13797  135.316  112.799  179.377  60.262  0.260\n",
       "22   14454  194.731  162.286  248.508  79.327  2.164\n",
       "23   15111  186.968  142.116  153.653  75.154  0.246\n",
       "24   15768  187.281  159.158  235.092  84.136  0.426\n",
       "25   16425   85.627   71.703  120.597  47.773  0.231\n",
       "26   17082  218.921  151.481   83.776  56.918  0.353\n",
       "27   17739  146.781  128.195  222.929  46.625  0.408\n",
       "28   18396   84.229   54.791   52.365  21.459  0.187\n",
       "29   19053  165.613  135.838  143.969  55.876  0.204"
      ]
     },
     "execution_count": 21,
     "metadata": {},
     "output_type": "execute_result"
    }
   ],
   "source": [
    "measures"
   ]
  },
  {
   "cell_type": "code",
   "execution_count": 22,
   "id": "provincial-facing",
   "metadata": {},
   "outputs": [],
   "source": [
    "measures.to_csv (r'win_pca_sarimax_aec.csv', index = False, header=True)"
   ]
  },
  {
   "cell_type": "code",
   "execution_count": 23,
   "id": "prerequisite-return",
   "metadata": {},
   "outputs": [],
   "source": [
    "### Mean Statistics PCA-SARIMAX"
   ]
  },
  {
   "cell_type": "code",
   "execution_count": 24,
   "id": "legitimate-airport",
   "metadata": {},
   "outputs": [
    {
     "name": "stdout",
     "output_type": "stream",
     "text": [
      "Mean Statistics PCA-SARIMAX (test): \n"
     ]
    },
    {
     "data": {
      "text/html": [
       "<div>\n",
       "<style scoped>\n",
       "    .dataframe tbody tr th:only-of-type {\n",
       "        vertical-align: middle;\n",
       "    }\n",
       "\n",
       "    .dataframe tbody tr th {\n",
       "        vertical-align: top;\n",
       "    }\n",
       "\n",
       "    .dataframe thead th {\n",
       "        text-align: right;\n",
       "    }\n",
       "</style>\n",
       "<table border=\"1\" class=\"dataframe\">\n",
       "  <thead>\n",
       "    <tr style=\"text-align: right;\">\n",
       "      <th></th>\n",
       "      <th>rmse</th>\n",
       "      <th>mae</th>\n",
       "      <th>mape</th>\n",
       "      <th>smape</th>\n",
       "      <th>nrmse</th>\n",
       "      <th>rmse_std</th>\n",
       "      <th>mae_std</th>\n",
       "      <th>mape_std</th>\n",
       "      <th>smape_std</th>\n",
       "      <th>nrmse_std</th>\n",
       "    </tr>\n",
       "  </thead>\n",
       "  <tbody>\n",
       "    <tr>\n",
       "      <th>0</th>\n",
       "      <td>158.768</td>\n",
       "      <td>124.466</td>\n",
       "      <td>170.802</td>\n",
       "      <td>51.939</td>\n",
       "      <td>0.406</td>\n",
       "      <td>69.073</td>\n",
       "      <td>61.025</td>\n",
       "      <td>100.139</td>\n",
       "      <td>15.023</td>\n",
       "      <td>0.394</td>\n",
       "    </tr>\n",
       "  </tbody>\n",
       "</table>\n",
       "</div>"
      ],
      "text/plain": [
       "      rmse      mae     mape   smape  nrmse  rmse_std  mae_std  mape_std  \\\n",
       "0  158.768  124.466  170.802  51.939  0.406    69.073   61.025   100.139   \n",
       "\n",
       "   smape_std  nrmse_std  \n",
       "0     15.023      0.394  "
      ]
     },
     "execution_count": 24,
     "metadata": {},
     "output_type": "execute_result"
    }
   ],
   "source": [
    "final_result = {\n",
    "     \"rmse\": [],\n",
    "     \"mae\":[],\n",
    "     \"mape\": [],\n",
    "     \"smape\": [],\n",
    "     \"nrmse\":[],\n",
    "     \"rmse_std\": [],\n",
    "     \"mae_std\": [],\n",
    "     \"mape_std\": [],\n",
    "     \"smape_std\": [],\n",
    "     \"nrmse_std\": []\n",
    "}\n",
    "\n",
    "final_result[\"rmse\"].append(round(statistics.mean(measures['rmse']),3))\n",
    "final_result[\"mape\"].append(round(statistics.mean(measures['mape']),3))\n",
    "final_result[\"smape\"].append(round(statistics.mean(measures['smape']),3))\n",
    "final_result[\"mae\"].append(round(statistics.mean(measures['mae']),3))\n",
    "final_result[\"nrmse\"].append(round(statistics.mean(measures['nrmse']),3))\n",
    "\n",
    "final_result[\"rmse_std\"].append(round(statistics.stdev(measures['rmse']),3))\n",
    "final_result[\"mape_std\"].append(round(statistics.stdev(measures['mape']),3))\n",
    "final_result[\"smape_std\"].append(round(statistics.stdev(measures['smape']),3))\n",
    "final_result[\"mae_std\"].append(round(statistics.stdev(measures['mae']),3))\n",
    "final_result[\"nrmse_std\"].append(round(statistics.stdev(measures['nrmse']),3))\n",
    "        \n",
    "final_measures_pca = pd.DataFrame(final_result)\n",
    "\n",
    "print(\"Mean Statistics PCA-SARIMAX (test): \")\n",
    "final_measures_pca"
   ]
  },
  {
   "cell_type": "code",
   "execution_count": null,
   "id": "approximate-durham",
   "metadata": {},
   "outputs": [],
   "source": []
  }
 ],
 "metadata": {
  "kernelspec": {
   "display_name": "Python 3",
   "language": "python",
   "name": "python3"
  },
  "language_info": {
   "codemirror_mode": {
    "name": "ipython",
    "version": 3
   },
   "file_extension": ".py",
   "mimetype": "text/x-python",
   "name": "python",
   "nbconvert_exporter": "python",
   "pygments_lexer": "ipython3",
   "version": "3.8.5"
  }
 },
 "nbformat": 4,
 "nbformat_minor": 5
}
