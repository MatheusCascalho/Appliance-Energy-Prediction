{
 "cells": [
  {
   "cell_type": "code",
   "execution_count": 1,
   "id": "informal-dayton",
   "metadata": {},
   "outputs": [
    {
     "data": {
      "text/plain": [
       "{'divide': 'warn', 'over': 'warn', 'under': 'ignore', 'invalid': 'warn'}"
      ]
     },
     "execution_count": 1,
     "metadata": {},
     "output_type": "execute_result"
    }
   ],
   "source": [
    "import sys\n",
    "sys.path.append(\"/home/hugo/projetos-doutorado/Appliance-Energy-Prediction\")\n",
    "import pandas as pd\n",
    "from pca_fts.PcaWeightedMVFTS import PcaWeightedMVFTS\n",
    "from pyFTS.benchmarks import Measures\n",
    "import matplotlib.pyplot as plt\n",
    "from pyFTS.common import Util\n",
    "import datetime\n",
    "import statistics\n",
    "import math\n",
    "import numpy as np\n",
    "from sklearn.metrics import mean_absolute_error\n",
    "from sklearn.metrics import r2_score\n",
    "np.seterr(divide='ignore', invalid='ignore')"
   ]
  },
  {
   "cell_type": "markdown",
   "id": "regulated-compatibility",
   "metadata": {},
   "source": [
    "## Aux functions"
   ]
  },
  {
   "cell_type": "code",
   "execution_count": 2,
   "id": "black-homeless",
   "metadata": {},
   "outputs": [],
   "source": [
    "def sample_first_prows(data, perc=0.75):\n",
    "    return data.head(int(len(data)*(perc)))"
   ]
  },
  {
   "cell_type": "code",
   "execution_count": 3,
   "id": "architectural-locking",
   "metadata": {},
   "outputs": [],
   "source": [
    "# convert series to supervised learning\n",
    "def series_to_supervised_miso(data, n_in, n_out, endog_var='Global_active_power', dropnan=True):\n",
    "\t\"\"\"\n",
    "\tFrame a time series as a supervised learning dataset.\n",
    "\tArguments:\n",
    "\t\tdata: Sequence of observations as a list or NumPy array.\n",
    "\t\tn_in: Number of lag observations as input (X).\n",
    "\t\tn_out: Number of observations as output (y).\n",
    "\t\tdropnan: Boolean whether or not to drop rows with NaN values.\n",
    "\tReturns:\n",
    "\t\tPandas DataFrame of series framed for supervised learning.\n",
    "\t\"\"\"\n",
    "\tn_vars = 1 if type(data) is list else data.shape[1]\n",
    "\tdf = pd.DataFrame(data)\n",
    "\tcols, names = list(), list()\n",
    "\t# input sequence (t-n, ... t-1)\n",
    "\tfor i in range(n_in, 0, -1):\n",
    "\t\tcols.append(df.shift(i))\n",
    "\t\tnames += [(df.columns[j]+'(t-%d)' % (i)) for j in range(n_vars)]\n",
    "\t# forecast sequence (t, t+1, ... t+n)\n",
    "\tfor i in range(0, n_out):\n",
    "\t\tcols.append(df[endog_var].shift(-i))\n",
    "\t\tif i == 0:\n",
    "\t\t\tnames += [(endog_var+'(t)')]\n",
    "\t\telse:\n",
    "\t\t\tnames += [(endog_var+'(t+%d)' % (i))]\n",
    "\t# put it all together\n",
    "\tagg = pd.concat(cols, axis=1)\n",
    "\tagg.columns = names\n",
    "\t# drop rows with NaN values\n",
    "\tif dropnan:\n",
    "\t\tagg.dropna(inplace=True)\n",
    "\treturn agg"
   ]
  },
  {
   "cell_type": "code",
   "execution_count": 4,
   "id": "frozen-hudson",
   "metadata": {},
   "outputs": [],
   "source": [
    "def clean_dataset(df):\n",
    "    assert isinstance(df, pd.DataFrame) \n",
    "    df.dropna(inplace=True)\n",
    "    indices_to_keep = ~df.isin([np.nan, np.inf, -np.inf]).any(1)\n",
    "    return df[indices_to_keep].astype(np.float64)"
   ]
  },
  {
   "cell_type": "code",
   "execution_count": 5,
   "id": "adopted-federation",
   "metadata": {},
   "outputs": [],
   "source": [
    "def cal_nrmse(rmse, y):\n",
    "    x = max(y)-min(y)\n",
    "    return (rmse/x)"
   ]
  },
  {
   "cell_type": "markdown",
   "id": "classical-alaska",
   "metadata": {},
   "source": [
    "## Dataset Household Power Consumption "
   ]
  },
  {
   "cell_type": "code",
   "execution_count": 17,
   "id": "selective-dealer",
   "metadata": {
    "scrolled": true
   },
   "outputs": [
    {
     "name": "stderr",
     "output_type": "stream",
     "text": [
      "/home/hugo/anaconda3/lib/python3.8/site-packages/IPython/core/interactiveshell.py:3165: DtypeWarning: Columns (2,3,4,5,6,7) have mixed types.Specify dtype option on import or set low_memory=False.\n",
      "  has_raised = await self.run_ast_nodes(code_ast.body, cell_name,\n"
     ]
    },
    {
     "data": {
      "text/html": [
       "<div>\n",
       "<style scoped>\n",
       "    .dataframe tbody tr th:only-of-type {\n",
       "        vertical-align: middle;\n",
       "    }\n",
       "\n",
       "    .dataframe tbody tr th {\n",
       "        vertical-align: top;\n",
       "    }\n",
       "\n",
       "    .dataframe thead th {\n",
       "        text-align: right;\n",
       "    }\n",
       "</style>\n",
       "<table border=\"1\" class=\"dataframe\">\n",
       "  <thead>\n",
       "    <tr style=\"text-align: right;\">\n",
       "      <th></th>\n",
       "      <th>Global_active_power</th>\n",
       "      <th>Global_reactive_power</th>\n",
       "      <th>Voltage</th>\n",
       "      <th>Global_intensity</th>\n",
       "      <th>Sub_metering_1</th>\n",
       "      <th>Sub_metering_2</th>\n",
       "      <th>Sub_metering_3</th>\n",
       "    </tr>\n",
       "  </thead>\n",
       "  <tbody>\n",
       "    <tr>\n",
       "      <th>0</th>\n",
       "      <td>4.216</td>\n",
       "      <td>0.418</td>\n",
       "      <td>234.84</td>\n",
       "      <td>18.4</td>\n",
       "      <td>0.0</td>\n",
       "      <td>1.0</td>\n",
       "      <td>17.0</td>\n",
       "    </tr>\n",
       "    <tr>\n",
       "      <th>30</th>\n",
       "      <td>2.720</td>\n",
       "      <td>0.000</td>\n",
       "      <td>235.06</td>\n",
       "      <td>11.6</td>\n",
       "      <td>0.0</td>\n",
       "      <td>0.0</td>\n",
       "      <td>17.0</td>\n",
       "    </tr>\n",
       "    <tr>\n",
       "      <th>60</th>\n",
       "      <td>3.452</td>\n",
       "      <td>0.000</td>\n",
       "      <td>235.20</td>\n",
       "      <td>15.2</td>\n",
       "      <td>0.0</td>\n",
       "      <td>1.0</td>\n",
       "      <td>17.0</td>\n",
       "    </tr>\n",
       "    <tr>\n",
       "      <th>90</th>\n",
       "      <td>4.298</td>\n",
       "      <td>0.000</td>\n",
       "      <td>232.39</td>\n",
       "      <td>18.4</td>\n",
       "      <td>0.0</td>\n",
       "      <td>1.0</td>\n",
       "      <td>16.0</td>\n",
       "    </tr>\n",
       "    <tr>\n",
       "      <th>120</th>\n",
       "      <td>3.262</td>\n",
       "      <td>0.052</td>\n",
       "      <td>232.64</td>\n",
       "      <td>14.0</td>\n",
       "      <td>0.0</td>\n",
       "      <td>0.0</td>\n",
       "      <td>17.0</td>\n",
       "    </tr>\n",
       "  </tbody>\n",
       "</table>\n",
       "</div>"
      ],
      "text/plain": [
       "     Global_active_power  Global_reactive_power  Voltage  Global_intensity  \\\n",
       "0                  4.216                  0.418   234.84              18.4   \n",
       "30                 2.720                  0.000   235.06              11.6   \n",
       "60                 3.452                  0.000   235.20              15.2   \n",
       "90                 4.298                  0.000   232.39              18.4   \n",
       "120                3.262                  0.052   232.64              14.0   \n",
       "\n",
       "     Sub_metering_1  Sub_metering_2  Sub_metering_3  \n",
       "0               0.0             1.0            17.0  \n",
       "30              0.0             0.0            17.0  \n",
       "60              0.0             1.0            17.0  \n",
       "90              0.0             1.0            16.0  \n",
       "120             0.0             0.0            17.0  "
      ]
     },
     "execution_count": 17,
     "metadata": {},
     "output_type": "execute_result"
    }
   ],
   "source": [
    "filepath = '/home/hugo/projetos-doutorado/Appliance-Energy-Prediction/data/household_power_consumption.csv'\n",
    "data = pd.read_csv(filepath, sep = \";\")\n",
    "data = data.drop(labels=['Time','Date'], axis=1)\n",
    "data = data.loc[0: : 30] # 30 minutes\n",
    "data.dropna(inplace = True)\n",
    "data = clean_dataset(data)\n",
    "data.head()\n"
   ]
  },
  {
   "cell_type": "code",
   "execution_count": 18,
   "id": "abroad-drunk",
   "metadata": {},
   "outputs": [
    {
     "name": "stdout",
     "output_type": "stream",
     "text": [
      "<class 'pandas.core.frame.DataFrame'>\n",
      "Int64Index: 68308 entries, 0 to 2075250\n",
      "Data columns (total 7 columns):\n",
      " #   Column                 Non-Null Count  Dtype  \n",
      "---  ------                 --------------  -----  \n",
      " 0   Global_active_power    68308 non-null  float64\n",
      " 1   Global_reactive_power  68308 non-null  float64\n",
      " 2   Voltage                68308 non-null  float64\n",
      " 3   Global_intensity       68308 non-null  float64\n",
      " 4   Sub_metering_1         68308 non-null  float64\n",
      " 5   Sub_metering_2         68308 non-null  float64\n",
      " 6   Sub_metering_3         68308 non-null  float64\n",
      "dtypes: float64(7)\n",
      "memory usage: 4.2 MB\n"
     ]
    }
   ],
   "source": [
    "data['Global_active_power'] = pd.to_numeric(data['Global_active_power'],errors='coerce')\n",
    "data['Global_reactive_power'] = pd.to_numeric(data['Global_reactive_power'],errors='coerce')\n",
    "data['Voltage'] = pd.to_numeric(data['Voltage'],errors='coerce')\n",
    "data['Global_intensity'] = pd.to_numeric(data['Global_intensity'],errors='coerce')\n",
    "data['Sub_metering_1'] = pd.to_numeric(data['Sub_metering_1'],errors='coerce')\n",
    "data['Sub_metering_2'] = pd.to_numeric(data['Sub_metering_2'],errors='coerce')\n",
    "data['Sub_metering_3'] = pd.to_numeric(data['Sub_metering_3'],errors='coerce')\n",
    "data.info()"
   ]
  },
  {
   "cell_type": "markdown",
   "id": "favorite-theater",
   "metadata": {},
   "source": [
    "### Dataset Household: columns"
   ]
  },
  {
   "cell_type": "markdown",
   "id": "funny-forth",
   "metadata": {},
   "source": [
    "### Dataset Household: Preprocessing, Lag = 1, t+1"
   ]
  },
  {
   "cell_type": "code",
   "execution_count": 19,
   "id": "pregnant-terror",
   "metadata": {},
   "outputs": [
    {
     "data": {
      "text/html": [
       "<div>\n",
       "<style scoped>\n",
       "    .dataframe tbody tr th:only-of-type {\n",
       "        vertical-align: middle;\n",
       "    }\n",
       "\n",
       "    .dataframe tbody tr th {\n",
       "        vertical-align: top;\n",
       "    }\n",
       "\n",
       "    .dataframe thead th {\n",
       "        text-align: right;\n",
       "    }\n",
       "</style>\n",
       "<table border=\"1\" class=\"dataframe\">\n",
       "  <thead>\n",
       "    <tr style=\"text-align: right;\">\n",
       "      <th></th>\n",
       "      <th>Global_active_power(t-1)</th>\n",
       "      <th>Global_reactive_power(t-1)</th>\n",
       "      <th>Voltage(t-1)</th>\n",
       "      <th>Global_intensity(t-1)</th>\n",
       "      <th>Sub_metering_1(t-1)</th>\n",
       "      <th>Sub_metering_2(t-1)</th>\n",
       "      <th>Sub_metering_3(t-1)</th>\n",
       "      <th>Global_active_power(t)</th>\n",
       "    </tr>\n",
       "  </thead>\n",
       "  <tbody>\n",
       "    <tr>\n",
       "      <th>30</th>\n",
       "      <td>4.216</td>\n",
       "      <td>0.418</td>\n",
       "      <td>234.84</td>\n",
       "      <td>18.4</td>\n",
       "      <td>0.0</td>\n",
       "      <td>1.0</td>\n",
       "      <td>17.0</td>\n",
       "      <td>2.720</td>\n",
       "    </tr>\n",
       "    <tr>\n",
       "      <th>60</th>\n",
       "      <td>2.720</td>\n",
       "      <td>0.000</td>\n",
       "      <td>235.06</td>\n",
       "      <td>11.6</td>\n",
       "      <td>0.0</td>\n",
       "      <td>0.0</td>\n",
       "      <td>17.0</td>\n",
       "      <td>3.452</td>\n",
       "    </tr>\n",
       "    <tr>\n",
       "      <th>90</th>\n",
       "      <td>3.452</td>\n",
       "      <td>0.000</td>\n",
       "      <td>235.20</td>\n",
       "      <td>15.2</td>\n",
       "      <td>0.0</td>\n",
       "      <td>1.0</td>\n",
       "      <td>17.0</td>\n",
       "      <td>4.298</td>\n",
       "    </tr>\n",
       "    <tr>\n",
       "      <th>120</th>\n",
       "      <td>4.298</td>\n",
       "      <td>0.000</td>\n",
       "      <td>232.39</td>\n",
       "      <td>18.4</td>\n",
       "      <td>0.0</td>\n",
       "      <td>1.0</td>\n",
       "      <td>16.0</td>\n",
       "      <td>3.262</td>\n",
       "    </tr>\n",
       "    <tr>\n",
       "      <th>150</th>\n",
       "      <td>3.262</td>\n",
       "      <td>0.052</td>\n",
       "      <td>232.64</td>\n",
       "      <td>14.0</td>\n",
       "      <td>0.0</td>\n",
       "      <td>0.0</td>\n",
       "      <td>17.0</td>\n",
       "      <td>3.214</td>\n",
       "    </tr>\n",
       "  </tbody>\n",
       "</table>\n",
       "</div>"
      ],
      "text/plain": [
       "     Global_active_power(t-1)  Global_reactive_power(t-1)  Voltage(t-1)  \\\n",
       "30                      4.216                       0.418        234.84   \n",
       "60                      2.720                       0.000        235.06   \n",
       "90                      3.452                       0.000        235.20   \n",
       "120                     4.298                       0.000        232.39   \n",
       "150                     3.262                       0.052        232.64   \n",
       "\n",
       "     Global_intensity(t-1)  Sub_metering_1(t-1)  Sub_metering_2(t-1)  \\\n",
       "30                    18.4                  0.0                  1.0   \n",
       "60                    11.6                  0.0                  0.0   \n",
       "90                    15.2                  0.0                  1.0   \n",
       "120                   18.4                  0.0                  1.0   \n",
       "150                   14.0                  0.0                  0.0   \n",
       "\n",
       "     Sub_metering_3(t-1)  Global_active_power(t)  \n",
       "30                  17.0                   2.720  \n",
       "60                  17.0                   3.452  \n",
       "90                  17.0                   4.298  \n",
       "120                 16.0                   3.262  \n",
       "150                 17.0                   3.214  "
      ]
     },
     "execution_count": 19,
     "metadata": {},
     "output_type": "execute_result"
    }
   ],
   "source": [
    "# frame as supervised learning\n",
    "data = series_to_supervised_miso(data, 1, 1,endog_var='Global_active_power')\n",
    "data.head()"
   ]
  },
  {
   "cell_type": "markdown",
   "id": "sufficient-plain",
   "metadata": {},
   "source": [
    "## Model: PcaWeightedMVFTS - PCA-MVFTS"
   ]
  },
  {
   "cell_type": "code",
   "execution_count": 20,
   "id": "signal-security",
   "metadata": {},
   "outputs": [],
   "source": [
    "pca_wmvfts = PcaWeightedMVFTS(n_components = 3,\n",
    "                       endogen_variable = 'Global_active_power(t-1)',\n",
    "                       n_part = 50)"
   ]
  },
  {
   "cell_type": "code",
   "execution_count": 21,
   "id": "worthy-daniel",
   "metadata": {
    "scrolled": true
   },
   "outputs": [
    {
     "name": "stderr",
     "output_type": "stream",
     "text": [
      "/home/hugo/anaconda3/lib/python3.8/site-packages/pandas/core/frame.py:4441: SettingWithCopyWarning: \n",
      "A value is trying to be set on a copy of a slice from a DataFrame\n",
      "\n",
      "See the caveats in the documentation: https://pandas.pydata.org/pandas-docs/stable/user_guide/indexing.html#returning-a-view-versus-a-copy\n",
      "  return super().rename(\n"
     ]
    },
    {
     "name": "stdout",
     "output_type": "stream",
     "text": [
      "--------------------\n",
      "training window 0\n",
      "[ 23:41:46] getting statistics\n",
      "Results: (0.10935971313062534, 0.046165337359855625, 8.130436607444723, 3.3174791495858584, 0.015)\n",
      "--------------------\n",
      "training window 2276\n"
     ]
    },
    {
     "name": "stderr",
     "output_type": "stream",
     "text": [
      "/home/hugo/anaconda3/lib/python3.8/site-packages/pandas/core/frame.py:4441: SettingWithCopyWarning: \n",
      "A value is trying to be set on a copy of a slice from a DataFrame\n",
      "\n",
      "See the caveats in the documentation: https://pandas.pydata.org/pandas-docs/stable/user_guide/indexing.html#returning-a-view-versus-a-copy\n",
      "  return super().rename(\n"
     ]
    },
    {
     "name": "stdout",
     "output_type": "stream",
     "text": [
      "[ 23:41:50] getting statistics\n",
      "Results: (0.09507553169050045, 0.03128516490102911, 4.130685747689725, 1.9013435160224856, 0.012)\n",
      "--------------------\n",
      "training window 4552\n"
     ]
    },
    {
     "name": "stderr",
     "output_type": "stream",
     "text": [
      "/home/hugo/anaconda3/lib/python3.8/site-packages/pandas/core/frame.py:4441: SettingWithCopyWarning: \n",
      "A value is trying to be set on a copy of a slice from a DataFrame\n",
      "\n",
      "See the caveats in the documentation: https://pandas.pydata.org/pandas-docs/stable/user_guide/indexing.html#returning-a-view-versus-a-copy\n",
      "  return super().rename(\n"
     ]
    },
    {
     "name": "stdout",
     "output_type": "stream",
     "text": [
      "[ 23:41:54] getting statistics\n",
      "Results: (0.09681097184413603, 0.03819325010190729, 12.679951869062103, 4.482938506520221, 0.016)\n",
      "--------------------\n",
      "training window 6828\n"
     ]
    },
    {
     "name": "stderr",
     "output_type": "stream",
     "text": [
      "/home/hugo/anaconda3/lib/python3.8/site-packages/pandas/core/frame.py:4441: SettingWithCopyWarning: \n",
      "A value is trying to be set on a copy of a slice from a DataFrame\n",
      "\n",
      "See the caveats in the documentation: https://pandas.pydata.org/pandas-docs/stable/user_guide/indexing.html#returning-a-view-versus-a-copy\n",
      "  return super().rename(\n"
     ]
    },
    {
     "name": "stdout",
     "output_type": "stream",
     "text": [
      "[ 23:41:58] getting statistics\n",
      "Results: (0.024160567431336, 0.0053989680890760144, 2.32831877647851, 0.9077952144243555, 0.004)\n",
      "--------------------\n",
      "training window 9104\n"
     ]
    },
    {
     "name": "stderr",
     "output_type": "stream",
     "text": [
      "/home/hugo/anaconda3/lib/python3.8/site-packages/pandas/core/frame.py:4441: SettingWithCopyWarning: \n",
      "A value is trying to be set on a copy of a slice from a DataFrame\n",
      "\n",
      "See the caveats in the documentation: https://pandas.pydata.org/pandas-docs/stable/user_guide/indexing.html#returning-a-view-versus-a-copy\n",
      "  return super().rename(\n"
     ]
    },
    {
     "name": "stdout",
     "output_type": "stream",
     "text": [
      "[ 23:42:01] getting statistics\n",
      "Results: (0.04649302295714832, 0.006089909641840167, 0.46405189143747183, 0.264663912262693, 0.01)\n",
      "--------------------\n",
      "training window 11380\n"
     ]
    },
    {
     "name": "stderr",
     "output_type": "stream",
     "text": [
      "/home/hugo/anaconda3/lib/python3.8/site-packages/pandas/core/frame.py:4441: SettingWithCopyWarning: \n",
      "A value is trying to be set on a copy of a slice from a DataFrame\n",
      "\n",
      "See the caveats in the documentation: https://pandas.pydata.org/pandas-docs/stable/user_guide/indexing.html#returning-a-view-versus-a-copy\n",
      "  return super().rename(\n"
     ]
    },
    {
     "name": "stdout",
     "output_type": "stream",
     "text": [
      "[ 23:42:06] getting statistics\n",
      "Results: (0.053950309195140815, 0.01319660961468797, 2.0534380903028846, 0.9785575721093602, 0.008)\n",
      "--------------------\n",
      "training window 13656\n"
     ]
    },
    {
     "name": "stderr",
     "output_type": "stream",
     "text": [
      "/home/hugo/anaconda3/lib/python3.8/site-packages/pandas/core/frame.py:4441: SettingWithCopyWarning: \n",
      "A value is trying to be set on a copy of a slice from a DataFrame\n",
      "\n",
      "See the caveats in the documentation: https://pandas.pydata.org/pandas-docs/stable/user_guide/indexing.html#returning-a-view-versus-a-copy\n",
      "  return super().rename(\n"
     ]
    },
    {
     "name": "stdout",
     "output_type": "stream",
     "text": [
      "[ 23:42:10] getting statistics\n",
      "Results: (0.05759622507060631, 0.026968482518441778, 0.3454369485811524, 0.16101165843431625, 0.007)\n",
      "--------------------\n",
      "training window 15932\n"
     ]
    },
    {
     "name": "stderr",
     "output_type": "stream",
     "text": [
      "/home/hugo/anaconda3/lib/python3.8/site-packages/pandas/core/frame.py:4441: SettingWithCopyWarning: \n",
      "A value is trying to be set on a copy of a slice from a DataFrame\n",
      "\n",
      "See the caveats in the documentation: https://pandas.pydata.org/pandas-docs/stable/user_guide/indexing.html#returning-a-view-versus-a-copy\n",
      "  return super().rename(\n"
     ]
    },
    {
     "name": "stdout",
     "output_type": "stream",
     "text": [
      "[ 23:42:15] getting statistics\n",
      "Results: (0.08585692865001641, 0.044503963543539, 3.448530124684272, 1.6180274788336686, 0.011)\n",
      "--------------------\n",
      "training window 18208\n"
     ]
    },
    {
     "name": "stderr",
     "output_type": "stream",
     "text": [
      "/home/hugo/anaconda3/lib/python3.8/site-packages/pandas/core/frame.py:4441: SettingWithCopyWarning: \n",
      "A value is trying to be set on a copy of a slice from a DataFrame\n",
      "\n",
      "See the caveats in the documentation: https://pandas.pydata.org/pandas-docs/stable/user_guide/indexing.html#returning-a-view-versus-a-copy\n",
      "  return super().rename(\n"
     ]
    },
    {
     "name": "stdout",
     "output_type": "stream",
     "text": [
      "[ 23:42:19] getting statistics\n",
      "Results: (0.1267141642227467, 0.059771761463970625, 15.647900208768037, 5.495918519643014, 0.021)\n",
      "--------------------\n",
      "training window 20484\n"
     ]
    },
    {
     "name": "stderr",
     "output_type": "stream",
     "text": [
      "/home/hugo/anaconda3/lib/python3.8/site-packages/pandas/core/frame.py:4441: SettingWithCopyWarning: \n",
      "A value is trying to be set on a copy of a slice from a DataFrame\n",
      "\n",
      "See the caveats in the documentation: https://pandas.pydata.org/pandas-docs/stable/user_guide/indexing.html#returning-a-view-versus-a-copy\n",
      "  return super().rename(\n"
     ]
    },
    {
     "name": "stdout",
     "output_type": "stream",
     "text": [
      "[ 23:42:23] getting statistics\n",
      "Results: (0.056742796147849724, 0.007795763666904715, 0.6920010417903274, 0.30518897808581635, 0.01)\n",
      "--------------------\n",
      "training window 22760\n"
     ]
    },
    {
     "name": "stderr",
     "output_type": "stream",
     "text": [
      "/home/hugo/anaconda3/lib/python3.8/site-packages/pandas/core/frame.py:4441: SettingWithCopyWarning: \n",
      "A value is trying to be set on a copy of a slice from a DataFrame\n",
      "\n",
      "See the caveats in the documentation: https://pandas.pydata.org/pandas-docs/stable/user_guide/indexing.html#returning-a-view-versus-a-copy\n",
      "  return super().rename(\n"
     ]
    },
    {
     "name": "stdout",
     "output_type": "stream",
     "text": [
      "[ 23:42:28] getting statistics\n",
      "Results: (0.10575465787902218, 0.033227734749924576, 10.985515850456904, 3.4240450542628635, 0.016)\n",
      "--------------------\n",
      "training window 25036\n"
     ]
    },
    {
     "name": "stderr",
     "output_type": "stream",
     "text": [
      "/home/hugo/anaconda3/lib/python3.8/site-packages/pandas/core/frame.py:4441: SettingWithCopyWarning: \n",
      "A value is trying to be set on a copy of a slice from a DataFrame\n",
      "\n",
      "See the caveats in the documentation: https://pandas.pydata.org/pandas-docs/stable/user_guide/indexing.html#returning-a-view-versus-a-copy\n",
      "  return super().rename(\n"
     ]
    },
    {
     "name": "stdout",
     "output_type": "stream",
     "text": [
      "[ 23:42:32] getting statistics\n",
      "Results: (0.06368027549072901, 0.019455087344164082, 6.334901559737091, 2.3928840804019234, 0.012)\n",
      "--------------------\n",
      "training window 27312\n"
     ]
    },
    {
     "name": "stderr",
     "output_type": "stream",
     "text": [
      "/home/hugo/anaconda3/lib/python3.8/site-packages/pandas/core/frame.py:4441: SettingWithCopyWarning: \n",
      "A value is trying to be set on a copy of a slice from a DataFrame\n",
      "\n",
      "See the caveats in the documentation: https://pandas.pydata.org/pandas-docs/stable/user_guide/indexing.html#returning-a-view-versus-a-copy\n",
      "  return super().rename(\n"
     ]
    },
    {
     "name": "stdout",
     "output_type": "stream",
     "text": [
      "[ 23:42:36] getting statistics\n",
      "Results: (0.037750658823054145, 0.009223734964873064, 8.010600315880751, 2.3129206392038024, 0.044)\n",
      "--------------------\n",
      "training window 29588\n"
     ]
    },
    {
     "name": "stderr",
     "output_type": "stream",
     "text": [
      "/home/hugo/anaconda3/lib/python3.8/site-packages/pandas/core/frame.py:4441: SettingWithCopyWarning: \n",
      "A value is trying to be set on a copy of a slice from a DataFrame\n",
      "\n",
      "See the caveats in the documentation: https://pandas.pydata.org/pandas-docs/stable/user_guide/indexing.html#returning-a-view-versus-a-copy\n",
      "  return super().rename(\n"
     ]
    },
    {
     "name": "stdout",
     "output_type": "stream",
     "text": [
      "[ 23:42:41] getting statistics\n",
      "Results: (0.1299428032619152, 0.06552222544790774, 8.8024066021801, 3.467871012974033, 0.018)\n",
      "--------------------\n",
      "training window 31864\n"
     ]
    },
    {
     "name": "stderr",
     "output_type": "stream",
     "text": [
      "/home/hugo/anaconda3/lib/python3.8/site-packages/pandas/core/frame.py:4441: SettingWithCopyWarning: \n",
      "A value is trying to be set on a copy of a slice from a DataFrame\n",
      "\n",
      "See the caveats in the documentation: https://pandas.pydata.org/pandas-docs/stable/user_guide/indexing.html#returning-a-view-versus-a-copy\n",
      "  return super().rename(\n"
     ]
    },
    {
     "name": "stdout",
     "output_type": "stream",
     "text": [
      "[ 23:42:45] getting statistics\n",
      "Results: (0.0284216576137393, 0.0038233984453113646, 0.2678074963864425, 0.14486107722866765, 0.004)\n",
      "--------------------\n",
      "training window 34140\n"
     ]
    },
    {
     "name": "stderr",
     "output_type": "stream",
     "text": [
      "/home/hugo/anaconda3/lib/python3.8/site-packages/pandas/core/frame.py:4441: SettingWithCopyWarning: \n",
      "A value is trying to be set on a copy of a slice from a DataFrame\n",
      "\n",
      "See the caveats in the documentation: https://pandas.pydata.org/pandas-docs/stable/user_guide/indexing.html#returning-a-view-versus-a-copy\n",
      "  return super().rename(\n"
     ]
    },
    {
     "name": "stdout",
     "output_type": "stream",
     "text": [
      "[ 23:42:49] getting statistics\n",
      "Results: (0.1229739300519993, 0.0408738729724721, 7.587655230354683, 2.9154387971969378, 0.019)\n",
      "--------------------\n",
      "training window 36416\n"
     ]
    },
    {
     "name": "stderr",
     "output_type": "stream",
     "text": [
      "/home/hugo/anaconda3/lib/python3.8/site-packages/pandas/core/frame.py:4441: SettingWithCopyWarning: \n",
      "A value is trying to be set on a copy of a slice from a DataFrame\n",
      "\n",
      "See the caveats in the documentation: https://pandas.pydata.org/pandas-docs/stable/user_guide/indexing.html#returning-a-view-versus-a-copy\n",
      "  return super().rename(\n"
     ]
    },
    {
     "name": "stdout",
     "output_type": "stream",
     "text": [
      "[ 23:42:53] getting statistics\n",
      "Results: (0.03115170413919894, 0.008241237036614668, 1.4001750503191719, 0.6514572937485308, 0.005)\n",
      "--------------------\n",
      "training window 38692\n"
     ]
    },
    {
     "name": "stderr",
     "output_type": "stream",
     "text": [
      "/home/hugo/anaconda3/lib/python3.8/site-packages/pandas/core/frame.py:4441: SettingWithCopyWarning: \n",
      "A value is trying to be set on a copy of a slice from a DataFrame\n",
      "\n",
      "See the caveats in the documentation: https://pandas.pydata.org/pandas-docs/stable/user_guide/indexing.html#returning-a-view-versus-a-copy\n",
      "  return super().rename(\n"
     ]
    },
    {
     "name": "stdout",
     "output_type": "stream",
     "text": [
      "[ 23:42:58] getting statistics\n",
      "Results: (0.11999245756064134, 0.0400743977002895, 6.324597771536249, 2.495253785551542, 0.019)\n",
      "--------------------\n",
      "training window 40968\n"
     ]
    },
    {
     "name": "stderr",
     "output_type": "stream",
     "text": [
      "/home/hugo/anaconda3/lib/python3.8/site-packages/pandas/core/frame.py:4441: SettingWithCopyWarning: \n",
      "A value is trying to be set on a copy of a slice from a DataFrame\n",
      "\n",
      "See the caveats in the documentation: https://pandas.pydata.org/pandas-docs/stable/user_guide/indexing.html#returning-a-view-versus-a-copy\n",
      "  return super().rename(\n"
     ]
    },
    {
     "name": "stdout",
     "output_type": "stream",
     "text": [
      "[ 23:43:03] getting statistics\n",
      "Results: (0.10328957029463612, 0.04327019811580516, 12.099144116214463, 4.470926194150408, 0.018)\n",
      "--------------------\n",
      "training window 43244\n"
     ]
    },
    {
     "name": "stderr",
     "output_type": "stream",
     "text": [
      "/home/hugo/anaconda3/lib/python3.8/site-packages/pandas/core/frame.py:4441: SettingWithCopyWarning: \n",
      "A value is trying to be set on a copy of a slice from a DataFrame\n",
      "\n",
      "See the caveats in the documentation: https://pandas.pydata.org/pandas-docs/stable/user_guide/indexing.html#returning-a-view-versus-a-copy\n",
      "  return super().rename(\n"
     ]
    },
    {
     "name": "stdout",
     "output_type": "stream",
     "text": [
      "[ 23:43:07] getting statistics\n",
      "Results: (0.012786544526559156, 0.001362145085422812, 0.4803502998111704, 0.20742825826800215, 0.004)\n",
      "--------------------\n",
      "training window 45520\n"
     ]
    },
    {
     "name": "stderr",
     "output_type": "stream",
     "text": [
      "/home/hugo/anaconda3/lib/python3.8/site-packages/pandas/core/frame.py:4441: SettingWithCopyWarning: \n",
      "A value is trying to be set on a copy of a slice from a DataFrame\n",
      "\n",
      "See the caveats in the documentation: https://pandas.pydata.org/pandas-docs/stable/user_guide/indexing.html#returning-a-view-versus-a-copy\n",
      "  return super().rename(\n"
     ]
    },
    {
     "name": "stdout",
     "output_type": "stream",
     "text": [
      "[ 23:43:11] getting statistics\n",
      "Results: (0.03165370397452165, 0.007208587934458321, 2.301726395356494, 0.9700714367872256, 0.006)\n",
      "--------------------\n",
      "training window 47796\n"
     ]
    },
    {
     "name": "stderr",
     "output_type": "stream",
     "text": [
      "/home/hugo/anaconda3/lib/python3.8/site-packages/pandas/core/frame.py:4441: SettingWithCopyWarning: \n",
      "A value is trying to be set on a copy of a slice from a DataFrame\n",
      "\n",
      "See the caveats in the documentation: https://pandas.pydata.org/pandas-docs/stable/user_guide/indexing.html#returning-a-view-versus-a-copy\n",
      "  return super().rename(\n"
     ]
    },
    {
     "name": "stdout",
     "output_type": "stream",
     "text": [
      "[ 23:43:16] getting statistics\n",
      "Results: (0.07986621299291712, 0.027733663454533746, 6.749917242875432, 2.694587528595504, 0.015)\n",
      "--------------------\n",
      "training window 50072\n"
     ]
    },
    {
     "name": "stderr",
     "output_type": "stream",
     "text": [
      "/home/hugo/anaconda3/lib/python3.8/site-packages/pandas/core/frame.py:4441: SettingWithCopyWarning: \n",
      "A value is trying to be set on a copy of a slice from a DataFrame\n",
      "\n",
      "See the caveats in the documentation: https://pandas.pydata.org/pandas-docs/stable/user_guide/indexing.html#returning-a-view-versus-a-copy\n",
      "  return super().rename(\n"
     ]
    },
    {
     "name": "stdout",
     "output_type": "stream",
     "text": [
      "[ 23:43:20] getting statistics\n",
      "Results: (0.06432290958779349, 0.01986918809796151, 3.8205406985580814, 1.564261211540901, 0.012)\n",
      "--------------------\n",
      "training window 52348\n"
     ]
    },
    {
     "name": "stderr",
     "output_type": "stream",
     "text": [
      "/home/hugo/anaconda3/lib/python3.8/site-packages/pandas/core/frame.py:4441: SettingWithCopyWarning: \n",
      "A value is trying to be set on a copy of a slice from a DataFrame\n",
      "\n",
      "See the caveats in the documentation: https://pandas.pydata.org/pandas-docs/stable/user_guide/indexing.html#returning-a-view-versus-a-copy\n",
      "  return super().rename(\n"
     ]
    },
    {
     "name": "stdout",
     "output_type": "stream",
     "text": [
      "[ 23:43:24] getting statistics\n",
      "Results: (0.03381993016094745, 0.0047468047579072815, 0.42045553580087186, 0.19796311062662944, 0.004)\n",
      "--------------------\n",
      "training window 54624\n"
     ]
    },
    {
     "name": "stderr",
     "output_type": "stream",
     "text": [
      "/home/hugo/anaconda3/lib/python3.8/site-packages/pandas/core/frame.py:4441: SettingWithCopyWarning: \n",
      "A value is trying to be set on a copy of a slice from a DataFrame\n",
      "\n",
      "See the caveats in the documentation: https://pandas.pydata.org/pandas-docs/stable/user_guide/indexing.html#returning-a-view-versus-a-copy\n",
      "  return super().rename(\n"
     ]
    },
    {
     "name": "stdout",
     "output_type": "stream",
     "text": [
      "[ 23:43:28] getting statistics\n",
      "Results: (0.0423837238012084, 0.01494458528114769, 2.657134458491664, 1.1651320538691783, 0.007)\n",
      "--------------------\n",
      "training window 56900\n"
     ]
    },
    {
     "name": "stderr",
     "output_type": "stream",
     "text": [
      "/home/hugo/anaconda3/lib/python3.8/site-packages/pandas/core/frame.py:4441: SettingWithCopyWarning: \n",
      "A value is trying to be set on a copy of a slice from a DataFrame\n",
      "\n",
      "See the caveats in the documentation: https://pandas.pydata.org/pandas-docs/stable/user_guide/indexing.html#returning-a-view-versus-a-copy\n",
      "  return super().rename(\n"
     ]
    },
    {
     "name": "stdout",
     "output_type": "stream",
     "text": [
      "[ 23:43:33] getting statistics\n",
      "Results: (0.1452723471636345, 0.0377874456927939, 7.702343435741689, 2.97729578843285, 0.023)\n",
      "--------------------\n",
      "training window 59176\n"
     ]
    },
    {
     "name": "stderr",
     "output_type": "stream",
     "text": [
      "/home/hugo/anaconda3/lib/python3.8/site-packages/pandas/core/frame.py:4441: SettingWithCopyWarning: \n",
      "A value is trying to be set on a copy of a slice from a DataFrame\n",
      "\n",
      "See the caveats in the documentation: https://pandas.pydata.org/pandas-docs/stable/user_guide/indexing.html#returning-a-view-versus-a-copy\n",
      "  return super().rename(\n"
     ]
    },
    {
     "name": "stdout",
     "output_type": "stream",
     "text": [
      "[ 23:43:37] getting statistics\n",
      "Results: (0.049398438116152396, 0.025084598184771087, 3.40496295169462, 1.3572052589574666, 0.007)\n",
      "--------------------\n",
      "training window 61452\n"
     ]
    },
    {
     "name": "stderr",
     "output_type": "stream",
     "text": [
      "/home/hugo/anaconda3/lib/python3.8/site-packages/pandas/core/frame.py:4441: SettingWithCopyWarning: \n",
      "A value is trying to be set on a copy of a slice from a DataFrame\n",
      "\n",
      "See the caveats in the documentation: https://pandas.pydata.org/pandas-docs/stable/user_guide/indexing.html#returning-a-view-versus-a-copy\n",
      "  return super().rename(\n"
     ]
    },
    {
     "name": "stdout",
     "output_type": "stream",
     "text": [
      "[ 23:43:41] getting statistics\n",
      "Results: (0.05522467198897568, 0.01715250548622147, 8.1502986588354, 2.8490024835101044, 0.03)\n",
      "--------------------\n",
      "training window 63728\n"
     ]
    },
    {
     "name": "stderr",
     "output_type": "stream",
     "text": [
      "/home/hugo/anaconda3/lib/python3.8/site-packages/pandas/core/frame.py:4441: SettingWithCopyWarning: \n",
      "A value is trying to be set on a copy of a slice from a DataFrame\n",
      "\n",
      "See the caveats in the documentation: https://pandas.pydata.org/pandas-docs/stable/user_guide/indexing.html#returning-a-view-versus-a-copy\n",
      "  return super().rename(\n"
     ]
    },
    {
     "name": "stdout",
     "output_type": "stream",
     "text": [
      "[ 23:43:45] getting statistics\n",
      "Results: (0.06449421427344428, 0.03075506497494304, 4.62172558331087, 1.9397286586125537, 0.011)\n",
      "--------------------\n",
      "training window 66004\n"
     ]
    },
    {
     "name": "stderr",
     "output_type": "stream",
     "text": [
      "/home/hugo/anaconda3/lib/python3.8/site-packages/pandas/core/frame.py:4441: SettingWithCopyWarning: \n",
      "A value is trying to be set on a copy of a slice from a DataFrame\n",
      "\n",
      "See the caveats in the documentation: https://pandas.pydata.org/pandas-docs/stable/user_guide/indexing.html#returning-a-view-versus-a-copy\n",
      "  return super().rename(\n"
     ]
    },
    {
     "name": "stdout",
     "output_type": "stream",
     "text": [
      "[ 23:43:49] getting statistics\n",
      "Results: (0.003827906207110826, 0.015660988755951444, 0.23856788614684613, 0.11536881284118466, 0.0)\n"
     ]
    }
   ],
   "source": [
    "result = {\n",
    "     \"window\": [],\n",
    "     \"rmse\": [],\n",
    "     \"mae\": [],\n",
    "     \"mape\": [],\n",
    "     \"smape\": [],\n",
    "     \"nrmse\":[]\n",
    "}\n",
    "\n",
    "num_fuzzy_rules = {\n",
    "    \"window\": [],\n",
    "    \"qtd\": []\n",
    "}\n",
    "\n",
    "tam = len(data)\n",
    "n_windows = 30\n",
    "windows_length = math.floor(tam / n_windows)\n",
    "for ct, ttrain, ttest in Util.sliding_window(data, windows_length, 0.75, inc=1):\n",
    "    if len(ttest) > 0:\n",
    "        \n",
    "        data_train = ttrain.loc[:,'Global_active_power(t-1)':'Sub_metering_3(t-1)']\n",
    "        data_test = ttest.loc[:,'Global_reactive_power(t-1)':'Global_active_power(t)']\n",
    "         \n",
    "        #ALtera o nome da columa porque o modelo utiliza esse label como variável endogena \n",
    "        data_test.rename(columns = {'Global_active_power(t)': 'Global_active_power(t-1)'}, inplace = True)\n",
    "        \n",
    "        print('-' * 20)\n",
    "        print(f'training window {(ct)}')\n",
    "        model, pca_reduced_train = pca_wmvfts.run_train_model(data_train)\n",
    "        forecast, forecast_self, pca_reduced_test = pca_wmvfts.run_test_model(model,data_test)\n",
    "        \n",
    "        num_fuzzy_rules[\"window\"].append(ct)\n",
    "        num_fuzzy_rules[\"qtd\"].append(len(model))\n",
    "        \n",
    "        print(\"[{0: %H:%M:%S}]\".format(datetime.datetime.now()) + f\" getting statistics\")\n",
    "        \n",
    "        #Teste e cálculo dos erros da previsão  \n",
    "        #valor use Global_reactive_power(t-1) é o Global_reactive_power(t) --> label igual por causa do modelo \n",
    "        rmse = Measures.rmse(pca_reduced_test['Global_active_power(t-1)'],forecast)\n",
    "        mape = Measures.mape(pca_reduced_test['Global_active_power(t-1)'],forecast)\n",
    "        smape = Measures.smape(pca_reduced_test['Global_active_power(t-1)'],forecast)\n",
    "        \n",
    "        forecast = pd.DataFrame(forecast)\n",
    "        forecast.fillna(forecast.mean(),inplace=True)\n",
    "        forecast = np.array(forecast).reshape(-1)\n",
    "        mae = mean_absolute_error(pca_reduced_test['Global_active_power(t-1)'], forecast)\n",
    "        \n",
    "        nrmse = round(cal_nrmse(rmse, pca_reduced_test['Global_active_power(t-1)']),3)\n",
    "        \n",
    "        print(f'Results: {(rmse,mae,mape,smape,nrmse)}')\n",
    "        \n",
    "#         # Grafico de comparação Original x Previsto para cada janela\n",
    "#         fig, ax = plt.subplots(nrows=1, ncols=1, figsize=[15, 3])\n",
    "#         ax.plot(pca_reduced_test['Global_active_power(t-1)'], label='Original')\n",
    "#         ax.plot(forecast, label='Forecast')\n",
    "#         handles, labels = ax.get_legend_handles_labels()\n",
    "#         lgd = ax.legend(handles, labels, loc=2, bbox_to_anchor=(1, 1))\n",
    "#         plt.show()\n",
    "        \n",
    "        result[\"rmse\"].append(round(rmse,3))\n",
    "        result[\"mape\"].append(round(mape,3))\n",
    "        result[\"smape\"].append(round(smape,3))\n",
    "        result[\"mae\"].append(round(mae,3))\n",
    "        result[\"nrmse\"].append(round(nrmse,3))\n",
    "        result[\"window\"].append(ct)\n",
    "        \n",
    "measures = pd.DataFrame(result)\n",
    "rules = pd.DataFrame(num_fuzzy_rules)\n",
    "\n"
   ]
  },
  {
   "cell_type": "code",
   "execution_count": 23,
   "id": "casual-television",
   "metadata": {},
   "outputs": [
    {
     "data": {
      "text/html": [
       "<div>\n",
       "<style scoped>\n",
       "    .dataframe tbody tr th:only-of-type {\n",
       "        vertical-align: middle;\n",
       "    }\n",
       "\n",
       "    .dataframe tbody tr th {\n",
       "        vertical-align: top;\n",
       "    }\n",
       "\n",
       "    .dataframe thead th {\n",
       "        text-align: right;\n",
       "    }\n",
       "</style>\n",
       "<table border=\"1\" class=\"dataframe\">\n",
       "  <thead>\n",
       "    <tr style=\"text-align: right;\">\n",
       "      <th></th>\n",
       "      <th>window</th>\n",
       "      <th>rmse</th>\n",
       "      <th>mae</th>\n",
       "      <th>mape</th>\n",
       "      <th>smape</th>\n",
       "      <th>nrmse</th>\n",
       "    </tr>\n",
       "  </thead>\n",
       "  <tbody>\n",
       "    <tr>\n",
       "      <th>0</th>\n",
       "      <td>0</td>\n",
       "      <td>0.109</td>\n",
       "      <td>0.046</td>\n",
       "      <td>8.130</td>\n",
       "      <td>3.317</td>\n",
       "      <td>0.015</td>\n",
       "    </tr>\n",
       "    <tr>\n",
       "      <th>1</th>\n",
       "      <td>2276</td>\n",
       "      <td>0.095</td>\n",
       "      <td>0.031</td>\n",
       "      <td>4.131</td>\n",
       "      <td>1.901</td>\n",
       "      <td>0.012</td>\n",
       "    </tr>\n",
       "    <tr>\n",
       "      <th>2</th>\n",
       "      <td>4552</td>\n",
       "      <td>0.097</td>\n",
       "      <td>0.038</td>\n",
       "      <td>12.680</td>\n",
       "      <td>4.483</td>\n",
       "      <td>0.016</td>\n",
       "    </tr>\n",
       "    <tr>\n",
       "      <th>3</th>\n",
       "      <td>6828</td>\n",
       "      <td>0.024</td>\n",
       "      <td>0.005</td>\n",
       "      <td>2.328</td>\n",
       "      <td>0.908</td>\n",
       "      <td>0.004</td>\n",
       "    </tr>\n",
       "    <tr>\n",
       "      <th>4</th>\n",
       "      <td>9104</td>\n",
       "      <td>0.046</td>\n",
       "      <td>0.006</td>\n",
       "      <td>0.464</td>\n",
       "      <td>0.265</td>\n",
       "      <td>0.010</td>\n",
       "    </tr>\n",
       "    <tr>\n",
       "      <th>5</th>\n",
       "      <td>11380</td>\n",
       "      <td>0.054</td>\n",
       "      <td>0.013</td>\n",
       "      <td>2.053</td>\n",
       "      <td>0.979</td>\n",
       "      <td>0.008</td>\n",
       "    </tr>\n",
       "    <tr>\n",
       "      <th>6</th>\n",
       "      <td>13656</td>\n",
       "      <td>0.058</td>\n",
       "      <td>0.027</td>\n",
       "      <td>0.345</td>\n",
       "      <td>0.161</td>\n",
       "      <td>0.007</td>\n",
       "    </tr>\n",
       "    <tr>\n",
       "      <th>7</th>\n",
       "      <td>15932</td>\n",
       "      <td>0.086</td>\n",
       "      <td>0.045</td>\n",
       "      <td>3.449</td>\n",
       "      <td>1.618</td>\n",
       "      <td>0.011</td>\n",
       "    </tr>\n",
       "    <tr>\n",
       "      <th>8</th>\n",
       "      <td>18208</td>\n",
       "      <td>0.127</td>\n",
       "      <td>0.060</td>\n",
       "      <td>15.648</td>\n",
       "      <td>5.496</td>\n",
       "      <td>0.021</td>\n",
       "    </tr>\n",
       "    <tr>\n",
       "      <th>9</th>\n",
       "      <td>20484</td>\n",
       "      <td>0.057</td>\n",
       "      <td>0.008</td>\n",
       "      <td>0.692</td>\n",
       "      <td>0.305</td>\n",
       "      <td>0.010</td>\n",
       "    </tr>\n",
       "    <tr>\n",
       "      <th>10</th>\n",
       "      <td>22760</td>\n",
       "      <td>0.106</td>\n",
       "      <td>0.033</td>\n",
       "      <td>10.986</td>\n",
       "      <td>3.424</td>\n",
       "      <td>0.016</td>\n",
       "    </tr>\n",
       "    <tr>\n",
       "      <th>11</th>\n",
       "      <td>25036</td>\n",
       "      <td>0.064</td>\n",
       "      <td>0.019</td>\n",
       "      <td>6.335</td>\n",
       "      <td>2.393</td>\n",
       "      <td>0.012</td>\n",
       "    </tr>\n",
       "    <tr>\n",
       "      <th>12</th>\n",
       "      <td>27312</td>\n",
       "      <td>0.038</td>\n",
       "      <td>0.009</td>\n",
       "      <td>8.011</td>\n",
       "      <td>2.313</td>\n",
       "      <td>0.044</td>\n",
       "    </tr>\n",
       "    <tr>\n",
       "      <th>13</th>\n",
       "      <td>29588</td>\n",
       "      <td>0.130</td>\n",
       "      <td>0.066</td>\n",
       "      <td>8.802</td>\n",
       "      <td>3.468</td>\n",
       "      <td>0.018</td>\n",
       "    </tr>\n",
       "    <tr>\n",
       "      <th>14</th>\n",
       "      <td>31864</td>\n",
       "      <td>0.028</td>\n",
       "      <td>0.004</td>\n",
       "      <td>0.268</td>\n",
       "      <td>0.145</td>\n",
       "      <td>0.004</td>\n",
       "    </tr>\n",
       "    <tr>\n",
       "      <th>15</th>\n",
       "      <td>34140</td>\n",
       "      <td>0.123</td>\n",
       "      <td>0.041</td>\n",
       "      <td>7.588</td>\n",
       "      <td>2.915</td>\n",
       "      <td>0.019</td>\n",
       "    </tr>\n",
       "    <tr>\n",
       "      <th>16</th>\n",
       "      <td>36416</td>\n",
       "      <td>0.031</td>\n",
       "      <td>0.008</td>\n",
       "      <td>1.400</td>\n",
       "      <td>0.651</td>\n",
       "      <td>0.005</td>\n",
       "    </tr>\n",
       "    <tr>\n",
       "      <th>17</th>\n",
       "      <td>38692</td>\n",
       "      <td>0.120</td>\n",
       "      <td>0.040</td>\n",
       "      <td>6.325</td>\n",
       "      <td>2.495</td>\n",
       "      <td>0.019</td>\n",
       "    </tr>\n",
       "    <tr>\n",
       "      <th>18</th>\n",
       "      <td>40968</td>\n",
       "      <td>0.103</td>\n",
       "      <td>0.043</td>\n",
       "      <td>12.099</td>\n",
       "      <td>4.471</td>\n",
       "      <td>0.018</td>\n",
       "    </tr>\n",
       "    <tr>\n",
       "      <th>19</th>\n",
       "      <td>43244</td>\n",
       "      <td>0.013</td>\n",
       "      <td>0.001</td>\n",
       "      <td>0.480</td>\n",
       "      <td>0.207</td>\n",
       "      <td>0.004</td>\n",
       "    </tr>\n",
       "    <tr>\n",
       "      <th>20</th>\n",
       "      <td>45520</td>\n",
       "      <td>0.032</td>\n",
       "      <td>0.007</td>\n",
       "      <td>2.302</td>\n",
       "      <td>0.970</td>\n",
       "      <td>0.006</td>\n",
       "    </tr>\n",
       "    <tr>\n",
       "      <th>21</th>\n",
       "      <td>47796</td>\n",
       "      <td>0.080</td>\n",
       "      <td>0.028</td>\n",
       "      <td>6.750</td>\n",
       "      <td>2.695</td>\n",
       "      <td>0.015</td>\n",
       "    </tr>\n",
       "    <tr>\n",
       "      <th>22</th>\n",
       "      <td>50072</td>\n",
       "      <td>0.064</td>\n",
       "      <td>0.020</td>\n",
       "      <td>3.821</td>\n",
       "      <td>1.564</td>\n",
       "      <td>0.012</td>\n",
       "    </tr>\n",
       "    <tr>\n",
       "      <th>23</th>\n",
       "      <td>52348</td>\n",
       "      <td>0.034</td>\n",
       "      <td>0.005</td>\n",
       "      <td>0.420</td>\n",
       "      <td>0.198</td>\n",
       "      <td>0.004</td>\n",
       "    </tr>\n",
       "    <tr>\n",
       "      <th>24</th>\n",
       "      <td>54624</td>\n",
       "      <td>0.042</td>\n",
       "      <td>0.015</td>\n",
       "      <td>2.657</td>\n",
       "      <td>1.165</td>\n",
       "      <td>0.007</td>\n",
       "    </tr>\n",
       "    <tr>\n",
       "      <th>25</th>\n",
       "      <td>56900</td>\n",
       "      <td>0.145</td>\n",
       "      <td>0.038</td>\n",
       "      <td>7.702</td>\n",
       "      <td>2.977</td>\n",
       "      <td>0.023</td>\n",
       "    </tr>\n",
       "    <tr>\n",
       "      <th>26</th>\n",
       "      <td>59176</td>\n",
       "      <td>0.049</td>\n",
       "      <td>0.025</td>\n",
       "      <td>3.405</td>\n",
       "      <td>1.357</td>\n",
       "      <td>0.007</td>\n",
       "    </tr>\n",
       "    <tr>\n",
       "      <th>27</th>\n",
       "      <td>61452</td>\n",
       "      <td>0.055</td>\n",
       "      <td>0.017</td>\n",
       "      <td>8.150</td>\n",
       "      <td>2.849</td>\n",
       "      <td>0.030</td>\n",
       "    </tr>\n",
       "    <tr>\n",
       "      <th>28</th>\n",
       "      <td>63728</td>\n",
       "      <td>0.064</td>\n",
       "      <td>0.031</td>\n",
       "      <td>4.622</td>\n",
       "      <td>1.940</td>\n",
       "      <td>0.011</td>\n",
       "    </tr>\n",
       "    <tr>\n",
       "      <th>29</th>\n",
       "      <td>66004</td>\n",
       "      <td>0.004</td>\n",
       "      <td>0.016</td>\n",
       "      <td>0.239</td>\n",
       "      <td>0.115</td>\n",
       "      <td>0.000</td>\n",
       "    </tr>\n",
       "  </tbody>\n",
       "</table>\n",
       "</div>"
      ],
      "text/plain": [
       "    window   rmse    mae    mape  smape  nrmse\n",
       "0        0  0.109  0.046   8.130  3.317  0.015\n",
       "1     2276  0.095  0.031   4.131  1.901  0.012\n",
       "2     4552  0.097  0.038  12.680  4.483  0.016\n",
       "3     6828  0.024  0.005   2.328  0.908  0.004\n",
       "4     9104  0.046  0.006   0.464  0.265  0.010\n",
       "5    11380  0.054  0.013   2.053  0.979  0.008\n",
       "6    13656  0.058  0.027   0.345  0.161  0.007\n",
       "7    15932  0.086  0.045   3.449  1.618  0.011\n",
       "8    18208  0.127  0.060  15.648  5.496  0.021\n",
       "9    20484  0.057  0.008   0.692  0.305  0.010\n",
       "10   22760  0.106  0.033  10.986  3.424  0.016\n",
       "11   25036  0.064  0.019   6.335  2.393  0.012\n",
       "12   27312  0.038  0.009   8.011  2.313  0.044\n",
       "13   29588  0.130  0.066   8.802  3.468  0.018\n",
       "14   31864  0.028  0.004   0.268  0.145  0.004\n",
       "15   34140  0.123  0.041   7.588  2.915  0.019\n",
       "16   36416  0.031  0.008   1.400  0.651  0.005\n",
       "17   38692  0.120  0.040   6.325  2.495  0.019\n",
       "18   40968  0.103  0.043  12.099  4.471  0.018\n",
       "19   43244  0.013  0.001   0.480  0.207  0.004\n",
       "20   45520  0.032  0.007   2.302  0.970  0.006\n",
       "21   47796  0.080  0.028   6.750  2.695  0.015\n",
       "22   50072  0.064  0.020   3.821  1.564  0.012\n",
       "23   52348  0.034  0.005   0.420  0.198  0.004\n",
       "24   54624  0.042  0.015   2.657  1.165  0.007\n",
       "25   56900  0.145  0.038   7.702  2.977  0.023\n",
       "26   59176  0.049  0.025   3.405  1.357  0.007\n",
       "27   61452  0.055  0.017   8.150  2.849  0.030\n",
       "28   63728  0.064  0.031   4.622  1.940  0.011\n",
       "29   66004  0.004  0.016   0.239  0.115  0.000"
      ]
     },
     "execution_count": 23,
     "metadata": {},
     "output_type": "execute_result"
    }
   ],
   "source": [
    "measures"
   ]
  },
  {
   "cell_type": "code",
   "execution_count": 13,
   "id": "cardiovascular-immunology",
   "metadata": {},
   "outputs": [],
   "source": [
    "#measures.to_csv (r'win_pca_wmvfts_hcp_1min.csv', index = False, header=True)"
   ]
  },
  {
   "cell_type": "code",
   "execution_count": 24,
   "id": "thrown-understanding",
   "metadata": {},
   "outputs": [],
   "source": [
    "measures.to_csv (r'win_pca_wmvfts_hcp_30min.csv', index = False, header=True)"
   ]
  },
  {
   "cell_type": "markdown",
   "id": "descending-rings",
   "metadata": {},
   "source": [
    "### Mean Statistics PCA-WMVFTS:"
   ]
  },
  {
   "cell_type": "code",
   "execution_count": 25,
   "id": "qualified-distinction",
   "metadata": {},
   "outputs": [
    {
     "name": "stdout",
     "output_type": "stream",
     "text": [
      "Mean Statistics PCA-WMVFTS (test): \n"
     ]
    },
    {
     "data": {
      "text/html": [
       "<div>\n",
       "<style scoped>\n",
       "    .dataframe tbody tr th:only-of-type {\n",
       "        vertical-align: middle;\n",
       "    }\n",
       "\n",
       "    .dataframe tbody tr th {\n",
       "        vertical-align: top;\n",
       "    }\n",
       "\n",
       "    .dataframe thead th {\n",
       "        text-align: right;\n",
       "    }\n",
       "</style>\n",
       "<table border=\"1\" class=\"dataframe\">\n",
       "  <thead>\n",
       "    <tr style=\"text-align: right;\">\n",
       "      <th></th>\n",
       "      <th>rmse</th>\n",
       "      <th>mae</th>\n",
       "      <th>mape</th>\n",
       "      <th>smape</th>\n",
       "      <th>nrmse</th>\n",
       "      <th>rmse_std</th>\n",
       "      <th>mae_std</th>\n",
       "      <th>mape_std</th>\n",
       "      <th>smape_std</th>\n",
       "      <th>nrmse_std</th>\n",
       "      <th>rules</th>\n",
       "    </tr>\n",
       "  </thead>\n",
       "  <tbody>\n",
       "    <tr>\n",
       "      <th>0</th>\n",
       "      <td>0.069</td>\n",
       "      <td>0.025</td>\n",
       "      <td>5.076</td>\n",
       "      <td>1.925</td>\n",
       "      <td>0.013</td>\n",
       "      <td>0.038</td>\n",
       "      <td>0.017</td>\n",
       "      <td>4.228</td>\n",
       "      <td>1.474</td>\n",
       "      <td>0.009</td>\n",
       "      <td>6555.567</td>\n",
       "    </tr>\n",
       "  </tbody>\n",
       "</table>\n",
       "</div>"
      ],
      "text/plain": [
       "    rmse    mae   mape  smape  nrmse  rmse_std  mae_std  mape_std  smape_std  \\\n",
       "0  0.069  0.025  5.076  1.925  0.013     0.038    0.017     4.228      1.474   \n",
       "\n",
       "   nrmse_std     rules  \n",
       "0      0.009  6555.567  "
      ]
     },
     "execution_count": 25,
     "metadata": {},
     "output_type": "execute_result"
    }
   ],
   "source": [
    "final_result = {\n",
    "     \"rmse\": [],\n",
    "     \"mae\": [],\n",
    "     \"mape\": [],\n",
    "     \"smape\": [],\n",
    "     \"nrmse\":[],\n",
    "     \"rmse_std\": [],\n",
    "     \"mae_std\": [],\n",
    "     \"mape_std\": [],\n",
    "     \"smape_std\": [],\n",
    "     \"nrmse_std\": [],\n",
    "     \"rules\":[]\n",
    "}\n",
    "\n",
    "final_result[\"rmse\"].append(round(statistics.mean(measures['rmse']),3))\n",
    "final_result[\"mae\"].append(round(statistics.mean(measures['mae']),3))\n",
    "final_result[\"mape\"].append(round(statistics.mean(measures['mape']),3))\n",
    "final_result[\"smape\"].append(round(statistics.mean(measures['smape']),3))\n",
    "final_result[\"nrmse\"].append(round(statistics.mean(measures['nrmse']),3))\n",
    "\n",
    "final_result[\"rmse_std\"].append(round(statistics.stdev(measures['rmse']),3))\n",
    "final_result[\"mape_std\"].append(round(statistics.stdev(measures['mape']),3))\n",
    "final_result[\"smape_std\"].append(round(statistics.stdev(measures['smape']),3))\n",
    "final_result[\"mae_std\"].append(round(statistics.stdev(measures['mae']),3))\n",
    "final_result[\"nrmse_std\"].append(round(statistics.stdev(measures['nrmse']),3))\n",
    "\n",
    "final_result[\"rules\"].append(round(statistics.mean(rules.loc[:,'qtd']),3))\n",
    "\n",
    "        \n",
    "final_measures_pca = pd.DataFrame(final_result)\n",
    "\n",
    "print(\"Mean Statistics PCA-WMVFTS (test): \")\n",
    "final_measures_pca"
   ]
  },
  {
   "cell_type": "code",
   "execution_count": 16,
   "id": "wound-giving",
   "metadata": {},
   "outputs": [],
   "source": [
    "#final_measures_pca.to_csv (r'pca_wmvfts_hpc_1min.csv', index = False, header=True)"
   ]
  },
  {
   "cell_type": "code",
   "execution_count": 26,
   "id": "brilliant-crystal",
   "metadata": {},
   "outputs": [],
   "source": [
    "final_measures_pca.to_csv (r'pca_wmvfts_hpc_30min.csv', index = False, header=True)"
   ]
  },
  {
   "cell_type": "markdown",
   "id": "found-cradle",
   "metadata": {},
   "source": [
    "### Extras "
   ]
  },
  {
   "cell_type": "code",
   "execution_count": 12,
   "id": "chronic-clarity",
   "metadata": {},
   "outputs": [],
   "source": [
    "# pca_reduced_test"
   ]
  },
  {
   "cell_type": "code",
   "execution_count": 13,
   "id": "better-document",
   "metadata": {},
   "outputs": [],
   "source": [
    "# print(model)"
   ]
  },
  {
   "cell_type": "code",
   "execution_count": 14,
   "id": "cleared-collins",
   "metadata": {},
   "outputs": [],
   "source": [
    "# train = sample_first_prows(data,0.75)\n",
    "# test = data.iloc[max(train.index):]\n",
    "# y_test = data.iloc[max(train.index):]['Appliances_t+1'].values"
   ]
  },
  {
   "cell_type": "code",
   "execution_count": 15,
   "id": "developed-laptop",
   "metadata": {},
   "outputs": [],
   "source": [
    "# pca_wmvfts = PcaWeightedMVFTS(n_components = 2,\n",
    "#                        endogen_variable = 'Appliances_t+1',\n",
    "#                        n_part = 50)"
   ]
  },
  {
   "cell_type": "code",
   "execution_count": 16,
   "id": "copyrighted-gregory",
   "metadata": {
    "scrolled": true
   },
   "outputs": [],
   "source": [
    "# model, pca_reduced_train = pca_wmvfts.run_train_model(train)\n",
    "# forecast, forecast_self, pca_reduced_test = pca_wmvfts.run_test_model(model,test)"
   ]
  },
  {
   "cell_type": "code",
   "execution_count": 17,
   "id": "auburn-basketball",
   "metadata": {},
   "outputs": [],
   "source": [
    "#model.mvflrg"
   ]
  },
  {
   "cell_type": "code",
   "execution_count": 18,
   "id": "smoking-desert",
   "metadata": {},
   "outputs": [],
   "source": [
    "# forecast_1 = model.predict(pca_reduced_test)"
   ]
  },
  {
   "cell_type": "code",
   "execution_count": 19,
   "id": "contained-covering",
   "metadata": {},
   "outputs": [],
   "source": [
    "# Measures.rmse(y_test,forecast)"
   ]
  },
  {
   "cell_type": "code",
   "execution_count": 20,
   "id": "detected-preview",
   "metadata": {},
   "outputs": [],
   "source": [
    "# Measures.rmse(forecast_1,y_test)"
   ]
  },
  {
   "cell_type": "code",
   "execution_count": 21,
   "id": "historic-reference",
   "metadata": {},
   "outputs": [],
   "source": [
    "# Measures.rmse(y_test,forecast_self)"
   ]
  },
  {
   "cell_type": "code",
   "execution_count": 22,
   "id": "assisted-sussex",
   "metadata": {},
   "outputs": [],
   "source": [
    "# fig, ax = plt.subplots(nrows=1, ncols=1, figsize=[15, 3])\n",
    "# ax.plot(y_test, label='Original')\n",
    "# ax.plot(forecast, label='Forecast')\n",
    "# handles, labels = ax.get_legend_handles_labels()\n",
    "# lgd = ax.legend(handles, labels, loc=2, bbox_to_anchor=(1, 1))\n",
    "# plt.show()\n"
   ]
  },
  {
   "cell_type": "code",
   "execution_count": 23,
   "id": "desperate-airplane",
   "metadata": {},
   "outputs": [],
   "source": [
    "# diff = data.loc[:,'lights':'Tdewpoint']\n",
    "# diff = diff.diff()\n",
    "# diff['Appliances'] = data['Appliances']\n",
    "# data = diff.dropna()"
   ]
  }
 ],
 "metadata": {
  "kernelspec": {
   "display_name": "Python 3",
   "language": "python",
   "name": "python3"
  },
  "language_info": {
   "codemirror_mode": {
    "name": "ipython",
    "version": 3
   },
   "file_extension": ".py",
   "mimetype": "text/x-python",
   "name": "python",
   "nbconvert_exporter": "python",
   "pygments_lexer": "ipython3",
   "version": "3.8.5"
  }
 },
 "nbformat": 4,
 "nbformat_minor": 5
}
