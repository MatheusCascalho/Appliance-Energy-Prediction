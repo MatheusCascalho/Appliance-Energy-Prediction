{
 "cells": [
  {
   "cell_type": "code",
   "execution_count": 1,
   "id": "c1893871-1be5-452c-8178-4205d6d8c7c2",
   "metadata": {},
   "outputs": [],
   "source": [
    "import sys\n",
    "import pandas as pd\n",
    "import numpy as np\n",
    "from datetime import datetime\n",
    "import matplotlib.pyplot as plt\n",
    "from statsmodels.tsa.arima.model import ARIMA\n",
    "import statsmodels.api as sm\n",
    "from pyFTS.benchmarks import Measures\n",
    "import math\n",
    "from pyFTS.common import Util\n",
    "import datetime\n",
    "import statistics\n",
    "from sklearn.preprocessing import MinMaxScaler, StandardScaler\n",
    "from pmdarima.arima import auto_arima\n",
    "from sklearn.metrics import mean_absolute_error\n",
    "from sklearn.metrics import r2_score\n",
    "sys.path.append(\"/home/hugo/projetos-doutorado/Appliance-Energy-Prediction\")\n",
    "from pre_processing.PreProcessing import PreProcessing"
   ]
  },
  {
   "cell_type": "markdown",
   "id": "manual-offset",
   "metadata": {},
   "source": [
    "## Aux functions"
   ]
  },
  {
   "cell_type": "code",
   "execution_count": 2,
   "id": "proved-output",
   "metadata": {},
   "outputs": [],
   "source": [
    "# convert series to supervised learning\n",
    "def series_to_supervised_miso(data, n_in, n_out, endog_var, dropnan=True):\n",
    "\t\"\"\"\n",
    "\tFrame a time series as a supervised learning dataset.\n",
    "\tArguments:\n",
    "\t\tdata: Sequence of observations as a list or NumPy array.\n",
    "\t\tn_in: Number of lag observations as input (X).\n",
    "\t\tn_out: Number of observations as output (y).\n",
    "\t\tdropnan: Boolean whether or not to drop rows with NaN values.\n",
    "\tReturns:\n",
    "\t\tPandas DataFrame of series framed for supervised learning.\n",
    "\t\"\"\"\n",
    "\tn_vars = 1 if type(data) is list else data.shape[1]\n",
    "\tdf = pd.DataFrame(data)\n",
    "\tcols, names = list(), list()\n",
    "\t# input sequence (t-n, ... t-1)\n",
    "\tfor i in range(n_in, 0, -1):\n",
    "\t\tcols.append(df.shift(i))\n",
    "\t\tnames += [(df.columns[j]+'(t-%d)' % (i)) for j in range(n_vars)]\n",
    "\t# forecast sequence (t, t+1, ... t+n)\n",
    "\tfor i in range(0, n_out):\n",
    "\t\tcols.append(df[endog_var].shift(-i))\n",
    "\t\tif i == 0:\n",
    "\t\t\tnames += [(endog_var+'(t)')]\n",
    "\t\telse:\n",
    "\t\t\tnames += [(endog_var+'(t+%d)' % (i))]\n",
    "\t# put it all together\n",
    "\tagg = pd.concat(cols, axis=1)\n",
    "\tagg.columns = names\n",
    "\t# drop rows with NaN values\n",
    "\tif dropnan:\n",
    "\t\tagg.dropna(inplace=True)\n",
    "\treturn agg"
   ]
  },
  {
   "cell_type": "code",
   "execution_count": 3,
   "id": "pregnant-maryland",
   "metadata": {},
   "outputs": [],
   "source": [
    "def clean_dataset(df):\n",
    "    assert isinstance(df, pd.DataFrame) \n",
    "    df.dropna(inplace=True)\n",
    "    indices_to_keep = ~df.isin([np.nan, np.inf, -np.inf]).any(1)\n",
    "    return df[indices_to_keep].astype(np.float64)"
   ]
  },
  {
   "cell_type": "code",
   "execution_count": 4,
   "id": "three-gossip",
   "metadata": {},
   "outputs": [],
   "source": [
    "def cal_nrmse(rmse, y):\n",
    "    x = max(y)-min(y)\n",
    "    return (rmse/x)"
   ]
  },
  {
   "cell_type": "markdown",
   "id": "surface-setting",
   "metadata": {},
   "source": [
    "## Dataset Household Power Consumption "
   ]
  },
  {
   "cell_type": "code",
   "execution_count": 18,
   "id": "4b63ff4b-f465-495e-b863-2ea7434ca0bc",
   "metadata": {
    "scrolled": true
   },
   "outputs": [
    {
     "name": "stderr",
     "output_type": "stream",
     "text": [
      "/home/hugo/anaconda3/lib/python3.8/site-packages/IPython/core/interactiveshell.py:3165: DtypeWarning: Columns (2,3,4,5,6,7) have mixed types.Specify dtype option on import or set low_memory=False.\n",
      "  has_raised = await self.run_ast_nodes(code_ast.body, cell_name,\n"
     ]
    }
   ],
   "source": [
    "filepath = '/home/hugo/projetos-doutorado/Appliance-Energy-Prediction/data/household_power_consumption.csv'\n",
    "data = pd.read_csv(filepath, sep = \";\")\n",
    "data = data.drop(labels=['Time','Date'], axis=1)\n",
    "#data = data.loc[0: : 30] # 30 minutes\n",
    "data.dropna(inplace = True)\n",
    "data = clean_dataset(data)\n",
    "data.head()\n",
    "values = data.values"
   ]
  },
  {
   "cell_type": "markdown",
   "id": "compressed-native",
   "metadata": {},
   "source": [
    "## Dataset Household Power Consumption : Preprocessing, Lag = 1, t+1"
   ]
  },
  {
   "cell_type": "code",
   "execution_count": 19,
   "id": "hungarian-shopper",
   "metadata": {},
   "outputs": [],
   "source": [
    "cols = data.columns\n",
    "list_cols = list(cols)"
   ]
  },
  {
   "cell_type": "code",
   "execution_count": 20,
   "id": "dated-aruba",
   "metadata": {},
   "outputs": [
    {
     "data": {
      "text/html": [
       "<div>\n",
       "<style scoped>\n",
       "    .dataframe tbody tr th:only-of-type {\n",
       "        vertical-align: middle;\n",
       "    }\n",
       "\n",
       "    .dataframe tbody tr th {\n",
       "        vertical-align: top;\n",
       "    }\n",
       "\n",
       "    .dataframe thead th {\n",
       "        text-align: right;\n",
       "    }\n",
       "</style>\n",
       "<table border=\"1\" class=\"dataframe\">\n",
       "  <thead>\n",
       "    <tr style=\"text-align: right;\">\n",
       "      <th></th>\n",
       "      <th>Global_active_power(t-1)</th>\n",
       "      <th>Global_reactive_power(t-1)</th>\n",
       "      <th>Voltage(t-1)</th>\n",
       "      <th>Global_intensity(t-1)</th>\n",
       "      <th>Sub_metering_1(t-1)</th>\n",
       "      <th>Sub_metering_2(t-1)</th>\n",
       "      <th>Sub_metering_3(t-1)</th>\n",
       "      <th>Global_active_power(t)</th>\n",
       "    </tr>\n",
       "  </thead>\n",
       "  <tbody>\n",
       "    <tr>\n",
       "      <th>1</th>\n",
       "      <td>0.374796</td>\n",
       "      <td>0.300719</td>\n",
       "      <td>0.376090</td>\n",
       "      <td>0.377593</td>\n",
       "      <td>0.0</td>\n",
       "      <td>0.0125</td>\n",
       "      <td>0.548387</td>\n",
       "      <td>0.478363</td>\n",
       "    </tr>\n",
       "    <tr>\n",
       "      <th>2</th>\n",
       "      <td>0.478363</td>\n",
       "      <td>0.313669</td>\n",
       "      <td>0.336995</td>\n",
       "      <td>0.473029</td>\n",
       "      <td>0.0</td>\n",
       "      <td>0.0125</td>\n",
       "      <td>0.516129</td>\n",
       "      <td>0.479631</td>\n",
       "    </tr>\n",
       "    <tr>\n",
       "      <th>3</th>\n",
       "      <td>0.479631</td>\n",
       "      <td>0.358273</td>\n",
       "      <td>0.326010</td>\n",
       "      <td>0.473029</td>\n",
       "      <td>0.0</td>\n",
       "      <td>0.0250</td>\n",
       "      <td>0.548387</td>\n",
       "      <td>0.480898</td>\n",
       "    </tr>\n",
       "    <tr>\n",
       "      <th>4</th>\n",
       "      <td>0.480898</td>\n",
       "      <td>0.361151</td>\n",
       "      <td>0.340549</td>\n",
       "      <td>0.473029</td>\n",
       "      <td>0.0</td>\n",
       "      <td>0.0125</td>\n",
       "      <td>0.548387</td>\n",
       "      <td>0.325005</td>\n",
       "    </tr>\n",
       "    <tr>\n",
       "      <th>5</th>\n",
       "      <td>0.325005</td>\n",
       "      <td>0.379856</td>\n",
       "      <td>0.403231</td>\n",
       "      <td>0.323651</td>\n",
       "      <td>0.0</td>\n",
       "      <td>0.0125</td>\n",
       "      <td>0.548387</td>\n",
       "      <td>0.311787</td>\n",
       "    </tr>\n",
       "  </tbody>\n",
       "</table>\n",
       "</div>"
      ],
      "text/plain": [
       "   Global_active_power(t-1)  Global_reactive_power(t-1)  Voltage(t-1)  \\\n",
       "1                  0.374796                    0.300719      0.376090   \n",
       "2                  0.478363                    0.313669      0.336995   \n",
       "3                  0.479631                    0.358273      0.326010   \n",
       "4                  0.480898                    0.361151      0.340549   \n",
       "5                  0.325005                    0.379856      0.403231   \n",
       "\n",
       "   Global_intensity(t-1)  Sub_metering_1(t-1)  Sub_metering_2(t-1)  \\\n",
       "1               0.377593                  0.0               0.0125   \n",
       "2               0.473029                  0.0               0.0125   \n",
       "3               0.473029                  0.0               0.0250   \n",
       "4               0.473029                  0.0               0.0125   \n",
       "5               0.323651                  0.0               0.0125   \n",
       "\n",
       "   Sub_metering_3(t-1)  Global_active_power(t)  \n",
       "1             0.548387                0.478363  \n",
       "2             0.516129                0.479631  \n",
       "3             0.548387                0.480898  \n",
       "4             0.548387                0.325005  \n",
       "5             0.548387                0.311787  "
      ]
     },
     "execution_count": 20,
     "metadata": {},
     "output_type": "execute_result"
    }
   ],
   "source": [
    "# normalize features\n",
    "scaler = MinMaxScaler()\n",
    "scaled = scaler.fit_transform(values)\n",
    "data_scaled = pd.DataFrame(scaled, columns=list_cols)\n",
    "# frame as supervised learning\n",
    "data_scaled = series_to_supervised_miso(data_scaled, 1, 1,endog_var='Global_active_power')\n",
    "data_scaled.head()"
   ]
  },
  {
   "cell_type": "code",
   "execution_count": 21,
   "id": "successful-shelf",
   "metadata": {},
   "outputs": [
    {
     "data": {
      "text/html": [
       "<div>\n",
       "<style scoped>\n",
       "    .dataframe tbody tr th:only-of-type {\n",
       "        vertical-align: middle;\n",
       "    }\n",
       "\n",
       "    .dataframe tbody tr th {\n",
       "        vertical-align: top;\n",
       "    }\n",
       "\n",
       "    .dataframe thead th {\n",
       "        text-align: right;\n",
       "    }\n",
       "</style>\n",
       "<table border=\"1\" class=\"dataframe\">\n",
       "  <thead>\n",
       "    <tr style=\"text-align: right;\">\n",
       "      <th></th>\n",
       "      <th>Global_active_power(t-1)</th>\n",
       "      <th>Global_reactive_power(t-1)</th>\n",
       "      <th>Voltage(t-1)</th>\n",
       "      <th>Global_intensity(t-1)</th>\n",
       "      <th>Sub_metering_1(t-1)</th>\n",
       "      <th>Sub_metering_2(t-1)</th>\n",
       "      <th>Sub_metering_3(t-1)</th>\n",
       "      <th>Global_active_power(t)</th>\n",
       "    </tr>\n",
       "  </thead>\n",
       "  <tbody>\n",
       "    <tr>\n",
       "      <th>1</th>\n",
       "      <td>4.216</td>\n",
       "      <td>0.418</td>\n",
       "      <td>234.84</td>\n",
       "      <td>18.4</td>\n",
       "      <td>0.0</td>\n",
       "      <td>1.0</td>\n",
       "      <td>17.0</td>\n",
       "      <td>5.360</td>\n",
       "    </tr>\n",
       "    <tr>\n",
       "      <th>2</th>\n",
       "      <td>5.360</td>\n",
       "      <td>0.436</td>\n",
       "      <td>233.63</td>\n",
       "      <td>23.0</td>\n",
       "      <td>0.0</td>\n",
       "      <td>1.0</td>\n",
       "      <td>16.0</td>\n",
       "      <td>5.374</td>\n",
       "    </tr>\n",
       "    <tr>\n",
       "      <th>3</th>\n",
       "      <td>5.374</td>\n",
       "      <td>0.498</td>\n",
       "      <td>233.29</td>\n",
       "      <td>23.0</td>\n",
       "      <td>0.0</td>\n",
       "      <td>2.0</td>\n",
       "      <td>17.0</td>\n",
       "      <td>5.388</td>\n",
       "    </tr>\n",
       "    <tr>\n",
       "      <th>4</th>\n",
       "      <td>5.388</td>\n",
       "      <td>0.502</td>\n",
       "      <td>233.74</td>\n",
       "      <td>23.0</td>\n",
       "      <td>0.0</td>\n",
       "      <td>1.0</td>\n",
       "      <td>17.0</td>\n",
       "      <td>3.666</td>\n",
       "    </tr>\n",
       "    <tr>\n",
       "      <th>5</th>\n",
       "      <td>3.666</td>\n",
       "      <td>0.528</td>\n",
       "      <td>235.68</td>\n",
       "      <td>15.8</td>\n",
       "      <td>0.0</td>\n",
       "      <td>1.0</td>\n",
       "      <td>17.0</td>\n",
       "      <td>3.520</td>\n",
       "    </tr>\n",
       "  </tbody>\n",
       "</table>\n",
       "</div>"
      ],
      "text/plain": [
       "   Global_active_power(t-1)  Global_reactive_power(t-1)  Voltage(t-1)  \\\n",
       "1                     4.216                       0.418        234.84   \n",
       "2                     5.360                       0.436        233.63   \n",
       "3                     5.374                       0.498        233.29   \n",
       "4                     5.388                       0.502        233.74   \n",
       "5                     3.666                       0.528        235.68   \n",
       "\n",
       "   Global_intensity(t-1)  Sub_metering_1(t-1)  Sub_metering_2(t-1)  \\\n",
       "1                   18.4                  0.0                  1.0   \n",
       "2                   23.0                  0.0                  1.0   \n",
       "3                   23.0                  0.0                  2.0   \n",
       "4                   23.0                  0.0                  1.0   \n",
       "5                   15.8                  0.0                  1.0   \n",
       "\n",
       "   Sub_metering_3(t-1)  Global_active_power(t)  \n",
       "1                 17.0                   5.360  \n",
       "2                 16.0                   5.374  \n",
       "3                 17.0                   5.388  \n",
       "4                 17.0                   3.666  \n",
       "5                 17.0                   3.520  "
      ]
     },
     "execution_count": 21,
     "metadata": {},
     "output_type": "execute_result"
    }
   ],
   "source": [
    "data = series_to_supervised_miso(data, 1, 1,endog_var='Global_active_power')\n",
    "data.head()"
   ]
  },
  {
   "cell_type": "code",
   "execution_count": 22,
   "id": "trained-endorsement",
   "metadata": {},
   "outputs": [
    {
     "data": {
      "text/html": [
       "<div>\n",
       "<style scoped>\n",
       "    .dataframe tbody tr th:only-of-type {\n",
       "        vertical-align: middle;\n",
       "    }\n",
       "\n",
       "    .dataframe tbody tr th {\n",
       "        vertical-align: top;\n",
       "    }\n",
       "\n",
       "    .dataframe thead th {\n",
       "        text-align: right;\n",
       "    }\n",
       "</style>\n",
       "<table border=\"1\" class=\"dataframe\">\n",
       "  <thead>\n",
       "    <tr style=\"text-align: right;\">\n",
       "      <th></th>\n",
       "      <th>Global_active_power(t-1)</th>\n",
       "      <th>Global_reactive_power(t-1)</th>\n",
       "      <th>Voltage(t-1)</th>\n",
       "      <th>Global_intensity(t-1)</th>\n",
       "      <th>Sub_metering_1(t-1)</th>\n",
       "      <th>Sub_metering_2(t-1)</th>\n",
       "      <th>Sub_metering_3(t-1)</th>\n",
       "      <th>Global_active_power(t)</th>\n",
       "    </tr>\n",
       "  </thead>\n",
       "  <tbody>\n",
       "    <tr>\n",
       "      <th>count</th>\n",
       "      <td>2049279.000</td>\n",
       "      <td>2049279.000</td>\n",
       "      <td>2049279.00</td>\n",
       "      <td>2049279.000</td>\n",
       "      <td>2049279.000</td>\n",
       "      <td>2049279.000</td>\n",
       "      <td>2049279.000</td>\n",
       "      <td>2049279.000</td>\n",
       "    </tr>\n",
       "    <tr>\n",
       "      <th>mean</th>\n",
       "      <td>1.092</td>\n",
       "      <td>0.124</td>\n",
       "      <td>240.84</td>\n",
       "      <td>4.628</td>\n",
       "      <td>1.122</td>\n",
       "      <td>1.299</td>\n",
       "      <td>6.458</td>\n",
       "      <td>1.092</td>\n",
       "    </tr>\n",
       "    <tr>\n",
       "      <th>std</th>\n",
       "      <td>1.057</td>\n",
       "      <td>0.113</td>\n",
       "      <td>3.24</td>\n",
       "      <td>4.444</td>\n",
       "      <td>6.153</td>\n",
       "      <td>5.822</td>\n",
       "      <td>8.437</td>\n",
       "      <td>1.057</td>\n",
       "    </tr>\n",
       "    <tr>\n",
       "      <th>min</th>\n",
       "      <td>0.076</td>\n",
       "      <td>0.000</td>\n",
       "      <td>223.20</td>\n",
       "      <td>0.200</td>\n",
       "      <td>0.000</td>\n",
       "      <td>0.000</td>\n",
       "      <td>0.000</td>\n",
       "      <td>0.076</td>\n",
       "    </tr>\n",
       "    <tr>\n",
       "      <th>25%</th>\n",
       "      <td>0.308</td>\n",
       "      <td>0.048</td>\n",
       "      <td>238.99</td>\n",
       "      <td>1.400</td>\n",
       "      <td>0.000</td>\n",
       "      <td>0.000</td>\n",
       "      <td>0.000</td>\n",
       "      <td>0.308</td>\n",
       "    </tr>\n",
       "    <tr>\n",
       "      <th>50%</th>\n",
       "      <td>0.602</td>\n",
       "      <td>0.100</td>\n",
       "      <td>241.01</td>\n",
       "      <td>2.600</td>\n",
       "      <td>0.000</td>\n",
       "      <td>0.000</td>\n",
       "      <td>1.000</td>\n",
       "      <td>0.602</td>\n",
       "    </tr>\n",
       "    <tr>\n",
       "      <th>75%</th>\n",
       "      <td>1.528</td>\n",
       "      <td>0.194</td>\n",
       "      <td>242.89</td>\n",
       "      <td>6.400</td>\n",
       "      <td>0.000</td>\n",
       "      <td>1.000</td>\n",
       "      <td>17.000</td>\n",
       "      <td>1.528</td>\n",
       "    </tr>\n",
       "    <tr>\n",
       "      <th>max</th>\n",
       "      <td>11.122</td>\n",
       "      <td>1.390</td>\n",
       "      <td>254.15</td>\n",
       "      <td>48.400</td>\n",
       "      <td>88.000</td>\n",
       "      <td>80.000</td>\n",
       "      <td>31.000</td>\n",
       "      <td>11.122</td>\n",
       "    </tr>\n",
       "  </tbody>\n",
       "</table>\n",
       "</div>"
      ],
      "text/plain": [
       "       Global_active_power(t-1)  Global_reactive_power(t-1)  Voltage(t-1)  \\\n",
       "count               2049279.000                 2049279.000    2049279.00   \n",
       "mean                      1.092                       0.124        240.84   \n",
       "std                       1.057                       0.113          3.24   \n",
       "min                       0.076                       0.000        223.20   \n",
       "25%                       0.308                       0.048        238.99   \n",
       "50%                       0.602                       0.100        241.01   \n",
       "75%                       1.528                       0.194        242.89   \n",
       "max                      11.122                       1.390        254.15   \n",
       "\n",
       "       Global_intensity(t-1)  Sub_metering_1(t-1)  Sub_metering_2(t-1)  \\\n",
       "count            2049279.000          2049279.000          2049279.000   \n",
       "mean                   4.628                1.122                1.299   \n",
       "std                    4.444                6.153                5.822   \n",
       "min                    0.200                0.000                0.000   \n",
       "25%                    1.400                0.000                0.000   \n",
       "50%                    2.600                0.000                0.000   \n",
       "75%                    6.400                0.000                1.000   \n",
       "max                   48.400               88.000               80.000   \n",
       "\n",
       "       Sub_metering_3(t-1)  Global_active_power(t)  \n",
       "count          2049279.000             2049279.000  \n",
       "mean                 6.458                   1.092  \n",
       "std                  8.437                   1.057  \n",
       "min                  0.000                   0.076  \n",
       "25%                  0.000                   0.308  \n",
       "50%                  1.000                   0.602  \n",
       "75%                 17.000                   1.528  \n",
       "max                 31.000                  11.122  "
      ]
     },
     "execution_count": 22,
     "metadata": {},
     "output_type": "execute_result"
    }
   ],
   "source": [
    "round(data.describe(),3)"
   ]
  },
  {
   "cell_type": "markdown",
   "id": "interesting-detection",
   "metadata": {},
   "source": [
    "## Model: SARIMAX"
   ]
  },
  {
   "cell_type": "markdown",
   "id": "sufficient-plain",
   "metadata": {},
   "source": [
    "### Define SARIMAX parameters"
   ]
  },
  {
   "cell_type": "code",
   "execution_count": 32,
   "id": "selective-season",
   "metadata": {},
   "outputs": [
    {
     "data": {
      "text/plain": [
       "(68307, 8)"
      ]
     },
     "execution_count": 32,
     "metadata": {},
     "output_type": "execute_result"
    }
   ],
   "source": [
    "values = data.values\n",
    "values.shape"
   ]
  },
  {
   "cell_type": "code",
   "execution_count": 30,
   "id": "9ca14fe9-544f-418b-ba92-c9365a4506c3",
   "metadata": {},
   "outputs": [],
   "source": [
    "values = data.values\n",
    "train_size=int(len(values)*0.30)\n",
    "test_size = int(len(values)) - train_size\n",
    "#print(test_size)"
   ]
  },
  {
   "cell_type": "code",
   "execution_count": 38,
   "id": "invalid-heart",
   "metadata": {},
   "outputs": [
    {
     "name": "stdout",
     "output_type": "stream",
     "text": [
      "(20492, 7) (20492,) (47815, 7) (47815,)\n"
     ]
    }
   ],
   "source": [
    "# split into train and test sets\n",
    "train_X, train_y = data.loc[:,'Global_active_power(t-1)':'Sub_metering_3(t-1)'].values[:train_size], data['Global_active_power(t-1)'].values[:train_size]\n",
    "test_X, test_y = data.loc[:,'Global_active_power(t-1)':'Sub_metering_3(t-1)'].values[train_size:], data['Global_active_power(t)'].values[train_size:]\n",
    "\n",
    "train_y.reshape(-1)\n",
    "test_y.reshape(-1)\n",
    "\n",
    "# train_X, train_y = data_scaled.loc[:,'use [kW](t-1)':'precipProbability(t-1)'].values[:train_size], data_scaled['use [kW](t-1)'].values[:train_size]\n",
    "# test_X, test_y = data_scaled.loc[:,'use [kW](t-1)':'precipProbability(t-1)'].values[train_size:], data_scaled['use [kW](t)'].values[train_size:]\n",
    "\n",
    "# train_y.reshape(-1)\n",
    "# test_y.reshape(-1)\n",
    "\n",
    "print(train_X.shape, train_y.shape, test_X.shape, test_y.shape)"
   ]
  },
  {
   "cell_type": "code",
   "execution_count": 41,
   "id": "strategic-electron",
   "metadata": {},
   "outputs": [
    {
     "data": {
      "image/png": "[encoded data removed]",
      "text/plain": [
       "<Figure size 1080x720 with 2 Axes>"
      ]
     },
     "metadata": {
      "needs_background": "light"
     },
     "output_type": "display_data"
    }
   ],
   "source": [
    "#Correlograms\n",
    "fig,ax= plt.subplots(2,1, figsize=(15,10))\n",
    "fig=sm.tsa.graphics.plot_acf(train_y, lags=100, ax=ax[0])\n",
    "fig=sm.tsa.graphics.plot_pacf(train_y, lags=100, ax=ax[1])\n",
    "plt.show()"
   ]
  },
  {
   "cell_type": "code",
   "execution_count": 40,
   "id": "atmospheric-mason",
   "metadata": {},
   "outputs": [
    {
     "data": {
      "image/png": "[encoded data removed]",
      "text/plain": [
       "<Figure size 1080x360 with 1 Axes>"
      ]
     },
     "metadata": {
      "needs_background": "light"
     },
     "output_type": "display_data"
    }
   ],
   "source": [
    "fig, ax = plt.subplots(nrows=1, ncols=1, figsize=[15, 5])\n",
    "ax.plot(test_y, label='Global_active_power')\n",
    "handles, labels = ax.get_legend_handles_labels()\n",
    "lgd = ax.legend(handles, labels, loc=2, bbox_to_anchor=(1, 1))\n",
    "plt.show()"
   ]
  },
  {
   "cell_type": "code",
   "execution_count": 42,
   "id": "loaded-victor",
   "metadata": {
    "scrolled": true
   },
   "outputs": [
    {
     "name": "stdout",
     "output_type": "stream",
     "text": [
      "Performing stepwise search to minimize aic\n",
      " ARIMA(0,0,0)(0,1,0)[7] intercept   : AIC=-433869.329, Time=26.35 sec\n"
     ]
    },
    {
     "name": "stderr",
     "output_type": "stream",
     "text": [
      "/home/hugo/anaconda3/lib/python3.8/site-packages/statsmodels/tsa/statespace/sarimax.py:1890: RuntimeWarning: invalid value encountered in reciprocal\n",
      "  return np.roots(self.polynomial_reduced_ar)**-1\n",
      "/home/hugo/anaconda3/lib/python3.8/site-packages/pmdarima/arima/_auto_solvers.py:38: RuntimeWarning: invalid value encountered in true_divide\n",
      "  max_invroot = max(0, *np.abs(1 / model.arroots()))\n"
     ]
    },
    {
     "name": "stdout",
     "output_type": "stream",
     "text": [
      " ARIMA(1,0,0)(1,1,0)[7] intercept   : AIC=-433888.433, Time=51.67 sec\n"
     ]
    },
    {
     "name": "stderr",
     "output_type": "stream",
     "text": [
      "/home/hugo/anaconda3/lib/python3.8/site-packages/statsmodels/tsa/statespace/sarimax.py:1897: RuntimeWarning: invalid value encountered in reciprocal\n",
      "  return np.roots(self.polynomial_reduced_ma)**-1\n",
      "/home/hugo/anaconda3/lib/python3.8/site-packages/pmdarima/arima/_auto_solvers.py:40: RuntimeWarning: invalid value encountered in true_divide\n",
      "  max_invroot = max(0, *np.abs(1 / model.maroots()))\n"
     ]
    },
    {
     "name": "stdout",
     "output_type": "stream",
     "text": [
      " ARIMA(0,0,1)(0,1,1)[7] intercept   : AIC=325906134142142088662043452974459554916502721131389375709236428800.000, Time=42.34 sec\n",
      " ARIMA(0,0,0)(0,1,0)[7]             : AIC=-433871.329, Time=23.52 sec\n",
      " ARIMA(1,0,0)(0,1,0)[7] intercept   : AIC=-433867.329, Time=30.35 sec\n"
     ]
    },
    {
     "name": "stderr",
     "output_type": "stream",
     "text": [
      "/home/hugo/anaconda3/lib/python3.8/site-packages/statsmodels/tsa/statespace/sarimax.py:1890: RuntimeWarning: invalid value encountered in reciprocal\n",
      "  return np.roots(self.polynomial_reduced_ar)**-1\n",
      "/home/hugo/anaconda3/lib/python3.8/site-packages/pmdarima/arima/_auto_solvers.py:38: RuntimeWarning: invalid value encountered in true_divide\n",
      "  max_invroot = max(0, *np.abs(1 / model.arroots()))\n"
     ]
    },
    {
     "name": "stdout",
     "output_type": "stream",
     "text": [
      " ARIMA(1,0,0)(2,1,0)[7] intercept   : AIC=-433163.603, Time=74.99 sec\n"
     ]
    },
    {
     "name": "stderr",
     "output_type": "stream",
     "text": [
      "/home/hugo/anaconda3/lib/python3.8/site-packages/statsmodels/tsa/statespace/sarimax.py:1890: RuntimeWarning: invalid value encountered in reciprocal\n",
      "  return np.roots(self.polynomial_reduced_ar)**-1\n",
      "/home/hugo/anaconda3/lib/python3.8/site-packages/pmdarima/arima/_auto_solvers.py:38: RuntimeWarning: invalid value encountered in true_divide\n",
      "  max_invroot = max(0, *np.abs(1 / model.arroots()))\n"
     ]
    },
    {
     "name": "stdout",
     "output_type": "stream",
     "text": [
      " ARIMA(1,0,0)(1,1,1)[7] intercept   : AIC=4021057297235658143401301910142112569543476227308830539103308518385532999901173277215002011506403301080515153810031640576.000, Time=122.73 sec\n",
      " ARIMA(1,0,0)(0,1,1)[7] intercept   : AIC=3122214024054750364665742620542696333260580294649432066620391424.000, Time=107.41 sec\n",
      " ARIMA(1,0,0)(2,1,1)[7] intercept   : AIC=inf, Time=nan sec\n",
      " ARIMA(0,0,0)(1,1,0)[7] intercept   : AIC=-433890.433, Time=42.02 sec\n",
      " ARIMA(0,0,0)(2,1,0)[7] intercept   : AIC=-433165.603, Time=63.23 sec\n",
      " ARIMA(0,0,0)(1,1,1)[7] intercept   : AIC=79415460108522995316391178918506876830241192548489839082924989922720584567364287222508431732327317504.000, Time=25.42 sec\n",
      " ARIMA(0,0,0)(0,1,1)[7] intercept   : AIC=553466152457436170704779324545861373237871522499647876955994255869870080.000, Time=120.98 sec\n",
      " ARIMA(0,0,0)(2,1,1)[7] intercept   : AIC=inf, Time=nan sec\n",
      " ARIMA(0,0,1)(1,1,0)[7] intercept   : AIC=-433888.433, Time=47.70 sec\n",
      " ARIMA(1,0,1)(1,1,0)[7] intercept   : AIC=-183488.673, Time=114.19 sec\n",
      " ARIMA(0,0,0)(1,1,0)[7]             : AIC=-433892.433, Time=38.48 sec\n",
      " ARIMA(0,0,0)(2,1,0)[7]             : AIC=-433167.603, Time=59.91 sec\n",
      " ARIMA(0,0,0)(1,1,1)[7]             : AIC=77992778310289587776146399108339113129420028550886855230100355590427791275912843855526200509479256064.000, Time=27.87 sec\n",
      " ARIMA(0,0,0)(0,1,1)[7]             : AIC=544171615190157007503366843514205150146009659659537396893349599068028928.000, Time=115.98 sec\n",
      " ARIMA(0,0,0)(2,1,1)[7]             : AIC=inf, Time=nan sec\n",
      " ARIMA(1,0,0)(1,1,0)[7]             : AIC=-307076.397, Time=86.53 sec\n",
      " ARIMA(0,0,1)(1,1,0)[7]             : AIC=-184511.563, Time=89.67 sec\n",
      " ARIMA(1,0,1)(1,1,0)[7]             : AIC=-184935.449, Time=103.17 sec\n",
      "\n",
      "Best model:  ARIMA(0,0,0)(1,1,0)[7]          \n",
      "Total fit time: 1441.780 seconds\n"
     ]
    }
   ],
   "source": [
    "# # # m = 7 => daily\n",
    "# # # m = 52 => weekly\n",
    "# sarimax_model = auto_arima(train_y,\n",
    "#                        exogenous= train_X,\n",
    "#                        test='adf',\n",
    "#                        start_p=0,\n",
    "#                        start_q=0,\n",
    "#                        max_p=5,\n",
    "#                        max_q=5,\n",
    "#                        start_Q=0,\n",
    "#                        start_P=0,\n",
    "#                        max_P=5,\n",
    "#                        max_Q=5,\n",
    "#                        m=7,\n",
    "#                        seasonal=True,\n",
    "#                        d=None,\n",
    "#                        D=1,\n",
    "#                        max_D=5,\n",
    "#                        trace=True,\n",
    "#                        error_action='ignore',\n",
    "#                        suppress_warnings=True,\n",
    "#                        stepwise=True)\n",
    "#                        #n_fits = 50)"
   ]
  },
  {
   "cell_type": "code",
   "execution_count": 43,
   "id": "terminal-force",
   "metadata": {
    "scrolled": true
   },
   "outputs": [],
   "source": [
    "#ARIMA(0,0,1)(3,1,1)[7] intercept   : AIC=-90795.546, Time=847.26 sec\n",
    "#ARIMA(0,0,1)(4,1,3)[7] intercept   : AIC=-54962.100, Time=787.74 sec\n",
    "\n",
    "#sarimax_model.summary()"
   ]
  },
  {
   "cell_type": "code",
   "execution_count": 44,
   "id": "sufficient-position",
   "metadata": {},
   "outputs": [],
   "source": [
    "# from statsmodels.tsa.statespace.sarimax import SARIMAX\n",
    "# model= SARIMAX(endog=train_y, \n",
    "#  exog=train_X,\n",
    "#  order=(0,0,1),\n",
    "#  seasonal_order=(4,1,3,7),\n",
    "#  enforce_invertibility=False, \n",
    "#  enforce_stationarity=False)"
   ]
  },
  {
   "cell_type": "code",
   "execution_count": 45,
   "id": "single-angel",
   "metadata": {
    "scrolled": true
   },
   "outputs": [],
   "source": [
    "# results = model.fit(disp=True)"
   ]
  },
  {
   "cell_type": "code",
   "execution_count": 46,
   "id": "medium-morning",
   "metadata": {},
   "outputs": [],
   "source": [
    "# results.summary()"
   ]
  },
  {
   "cell_type": "code",
   "execution_count": 47,
   "id": "wooden-thursday",
   "metadata": {},
   "outputs": [],
   "source": [
    "# steps = -1\n",
    "# yhat = results.predict(start=train_size, end=train_size+test_size+(steps),exog=test_X)\n",
    "# #yhat"
   ]
  },
  {
   "cell_type": "code",
   "execution_count": 48,
   "id": "rubber-people",
   "metadata": {},
   "outputs": [],
   "source": [
    "# test_X = test_X.reshape((test_X.shape[0], test_X.shape[1]))\n",
    "# # invert scaling for forecast\n",
    "# inv_yhat = np.concatenate((yhat.reshape(len(yhat),1), test_X[:, 1:]), axis=1)\n",
    "# print(inv_yhat.shape)\n",
    "# inv_yhat = scaler.inverse_transform(inv_yhat)\n",
    "# inv_yhat = inv_yhat[:,0]\n",
    "# # invert scaling for actual - observed data\n",
    "# test_y = test_y.reshape((len(test_y), 1))\n",
    "# inv_y = np.concatenate((test_y, test_X[:, 1:]), axis=1)\n",
    "# inv_y = scaler.inverse_transform(inv_y)\n",
    "# inv_y = inv_y[:,0]"
   ]
  },
  {
   "cell_type": "code",
   "execution_count": 49,
   "id": "unsigned-portable",
   "metadata": {},
   "outputs": [],
   "source": [
    "# rmse = Measures.rmse(inv_yhat,inv_y)\n",
    "# mape = Measures.mape(inv_yhat,inv_y)\n",
    "# smape = Measures.smape(inv_yhat,inv_y)\n",
    "# print('Test RMSE: %.3f' % rmse)\n",
    "# print('Test MAPE: %.3f' % mape)\n",
    "# print('Test SMAPE: %.3f' % smape)"
   ]
  },
  {
   "cell_type": "code",
   "execution_count": 50,
   "id": "entire-works",
   "metadata": {
    "scrolled": true
   },
   "outputs": [],
   "source": [
    "# fig, ax = plt.subplots(nrows=1, ncols=1, figsize=[15, 3])\n",
    "# ax.plot(inv_y, label='Original')\n",
    "# ax.plot(inv_yhat, label='Forecast')\n",
    "# handles, labels = ax.get_legend_handles_labels()\n",
    "# lgd = ax.legend(handles, labels, loc=2, bbox_to_anchor=(1, 1))\n",
    "# plt.show()"
   ]
  },
  {
   "cell_type": "markdown",
   "id": "linear-kingdom",
   "metadata": {},
   "source": [
    "## Model: SARIMAX - Final model"
   ]
  },
  {
   "cell_type": "code",
   "execution_count": null,
   "id": "metropolitan-southeast",
   "metadata": {},
   "outputs": [],
   "source": [
    "#ARIMA(0,0,0)(1,1,0)[7] ==> 0.902202\t0.519547\t65.394955\t23.331343       \n",
    "#ARIMA(0,0,1)(1,1,0)[7] ==> 0.902202\t0.519547\t65.394955\t23.331343\n",
    "#ARIMA(1,0,0)(1,1,0)[7] ==> 0.902005\t0.519383\t65.376321\t23.311373\n",
    "#ARIMA(1,0,1)(1,1,0)[7] ==> 0.901897\t0.519288\t65.344658\t23.31225\n",
    "#ARIMA(1,0,1)(1,1,1)[7] ==> 0.901002\t0.5175\t64.984911\t22.945788\n",
    "#ARIMA(1,0,1)(2,1,1)[7] ==> 0.901163\t0.517725\t64.994578\t23.008908"
   ]
  },
  {
   "cell_type": "code",
   "execution_count": 23,
   "id": "norman-sight",
   "metadata": {},
   "outputs": [],
   "source": [
    "def train_sarimax(endog, exog, order, seasonal_order):\n",
    "    model=sm.tsa.SARIMAX(endog = endog, exog = exog, \n",
    "                          order=order,\n",
    "                          seasonal_order=seasonal_order, \n",
    "                         enforce_invertibility=False, \n",
    "                         enforce_stationarity=False)\n",
    "    sarimax = model.fit()\n",
    "    return sarimax\n",
    "\n",
    "\n",
    "def test_sarimax(model,start,end,exog):\n",
    "    forecasts = model.predict(start=start, end=end, exog=exog)\n",
    "    return forecasts\n",
    "    "
   ]
  },
  {
   "cell_type": "code",
   "execution_count": 24,
   "id": "important-investment",
   "metadata": {},
   "outputs": [],
   "source": [
    "def transform_original(test_X,test_y,yhat):\n",
    "    test_X = test_X.reshape((test_X.shape[0], test_X.shape[1]))\n",
    "    # invert scaling for forecast\n",
    "    inv_yhat = np.concatenate((yhat.reshape(len(yhat),1), test_X[:, 1:]), axis=1)\n",
    "    inv_yhat = scaler.inverse_transform(inv_yhat)\n",
    "    inv_yhat = inv_yhat[:,0]\n",
    "    # invert scaling for actual - observed data\n",
    "    test_y = test_y.reshape((len(test_y), 1))\n",
    "    inv_y = np.concatenate((test_y, test_X[:, 1:]), axis=1)\n",
    "    inv_y = scaler.inverse_transform(inv_y)\n",
    "    inv_y = inv_y[:,0]\n",
    "    \n",
    "#     fig, ax = plt.subplots(nrows=1, ncols=1, figsize=[15, 3])\n",
    "#     ax.plot(inv_y, label='Original')\n",
    "#     ax.plot(inv_yhat, label='Forecast')\n",
    "#     handles, labels = ax.get_legend_handles_labels()\n",
    "#     lgd = ax.legend(handles, labels, loc=2, bbox_to_anchor=(1, 1))\n",
    "#     plt.show()\n",
    "    \n",
    "    return inv_y,inv_yhat"
   ]
  },
  {
   "cell_type": "markdown",
   "id": "requested-shelf",
   "metadata": {},
   "source": [
    "## Sliding Window PyFTS: SARIMAX"
   ]
  },
  {
   "cell_type": "code",
   "execution_count": 25,
   "id": "ideal-customer",
   "metadata": {
    "scrolled": false
   },
   "outputs": [
    {
     "name": "stdout",
     "output_type": "stream",
     "text": [
      "--------------------\n",
      "training window 0\n"
     ]
    },
    {
     "name": "stderr",
     "output_type": "stream",
     "text": [
      "/home/hugo/anaconda3/lib/python3.8/site-packages/statsmodels/tsa/base/tsa_model.py:578: ValueWarning: An unsupported index was provided and will be ignored when e.g. forecasting.\n",
      "  warnings.warn('An unsupported index was provided and will be'\n",
      "/home/hugo/anaconda3/lib/python3.8/site-packages/statsmodels/tsa/base/tsa_model.py:578: ValueWarning: An unsupported index was provided and will be ignored when e.g. forecasting.\n",
      "  warnings.warn('An unsupported index was provided and will be'\n",
      "/home/hugo/anaconda3/lib/python3.8/site-packages/statsmodels/tsa/base/tsa_model.py:376: ValueWarning: No supported index is available. Prediction results will be given with an integer index beginning at `start`.\n",
      "  warnings.warn('No supported index is available.'\n"
     ]
    },
    {
     "name": "stdout",
     "output_type": "stream",
     "text": [
      "[ 14:01:25] getting statistics\n",
      "--------------------\n",
      "training window 68309\n"
     ]
    },
    {
     "name": "stderr",
     "output_type": "stream",
     "text": [
      "/home/hugo/anaconda3/lib/python3.8/site-packages/statsmodels/tsa/base/tsa_model.py:578: ValueWarning: An unsupported index was provided and will be ignored when e.g. forecasting.\n",
      "  warnings.warn('An unsupported index was provided and will be'\n",
      "/home/hugo/anaconda3/lib/python3.8/site-packages/statsmodels/tsa/base/tsa_model.py:578: ValueWarning: An unsupported index was provided and will be ignored when e.g. forecasting.\n",
      "  warnings.warn('An unsupported index was provided and will be'\n",
      "/home/hugo/anaconda3/lib/python3.8/site-packages/statsmodels/base/model.py:566: ConvergenceWarning: Maximum Likelihood optimization failed to converge. Check mle_retvals\n",
      "  warnings.warn(\"Maximum Likelihood optimization failed to \"\n",
      "/home/hugo/anaconda3/lib/python3.8/site-packages/statsmodels/tsa/base/tsa_model.py:376: ValueWarning: No supported index is available. Prediction results will be given with an integer index beginning at `start`.\n",
      "  warnings.warn('No supported index is available.'\n"
     ]
    },
    {
     "name": "stdout",
     "output_type": "stream",
     "text": [
      "[ 14:07:36] getting statistics\n",
      "--------------------\n",
      "training window 136618\n"
     ]
    },
    {
     "name": "stderr",
     "output_type": "stream",
     "text": [
      "/home/hugo/anaconda3/lib/python3.8/site-packages/statsmodels/tsa/base/tsa_model.py:578: ValueWarning: An unsupported index was provided and will be ignored when e.g. forecasting.\n",
      "  warnings.warn('An unsupported index was provided and will be'\n",
      "/home/hugo/anaconda3/lib/python3.8/site-packages/statsmodels/tsa/base/tsa_model.py:578: ValueWarning: An unsupported index was provided and will be ignored when e.g. forecasting.\n",
      "  warnings.warn('An unsupported index was provided and will be'\n",
      "/home/hugo/anaconda3/lib/python3.8/site-packages/statsmodels/base/model.py:566: ConvergenceWarning: Maximum Likelihood optimization failed to converge. Check mle_retvals\n",
      "  warnings.warn(\"Maximum Likelihood optimization failed to \"\n",
      "/home/hugo/anaconda3/lib/python3.8/site-packages/statsmodels/tsa/base/tsa_model.py:376: ValueWarning: No supported index is available. Prediction results will be given with an integer index beginning at `start`.\n",
      "  warnings.warn('No supported index is available.'\n"
     ]
    },
    {
     "name": "stdout",
     "output_type": "stream",
     "text": [
      "[ 14:13:11] getting statistics\n",
      "--------------------\n",
      "training window 204927\n"
     ]
    },
    {
     "name": "stderr",
     "output_type": "stream",
     "text": [
      "/home/hugo/anaconda3/lib/python3.8/site-packages/statsmodels/tsa/base/tsa_model.py:578: ValueWarning: An unsupported index was provided and will be ignored when e.g. forecasting.\n",
      "  warnings.warn('An unsupported index was provided and will be'\n",
      "/home/hugo/anaconda3/lib/python3.8/site-packages/statsmodels/tsa/base/tsa_model.py:578: ValueWarning: An unsupported index was provided and will be ignored when e.g. forecasting.\n",
      "  warnings.warn('An unsupported index was provided and will be'\n",
      "/home/hugo/anaconda3/lib/python3.8/site-packages/statsmodels/base/model.py:566: ConvergenceWarning: Maximum Likelihood optimization failed to converge. Check mle_retvals\n",
      "  warnings.warn(\"Maximum Likelihood optimization failed to \"\n",
      "/home/hugo/anaconda3/lib/python3.8/site-packages/statsmodels/tsa/base/tsa_model.py:376: ValueWarning: No supported index is available. Prediction results will be given with an integer index beginning at `start`.\n",
      "  warnings.warn('No supported index is available.'\n"
     ]
    },
    {
     "name": "stdout",
     "output_type": "stream",
     "text": [
      "[ 14:20:12] getting statistics\n",
      "--------------------\n",
      "training window 273236\n"
     ]
    },
    {
     "name": "stderr",
     "output_type": "stream",
     "text": [
      "/home/hugo/anaconda3/lib/python3.8/site-packages/statsmodels/tsa/base/tsa_model.py:578: ValueWarning: An unsupported index was provided and will be ignored when e.g. forecasting.\n",
      "  warnings.warn('An unsupported index was provided and will be'\n",
      "/home/hugo/anaconda3/lib/python3.8/site-packages/statsmodels/tsa/base/tsa_model.py:578: ValueWarning: An unsupported index was provided and will be ignored when e.g. forecasting.\n",
      "  warnings.warn('An unsupported index was provided and will be'\n",
      "/home/hugo/anaconda3/lib/python3.8/site-packages/statsmodels/base/model.py:566: ConvergenceWarning: Maximum Likelihood optimization failed to converge. Check mle_retvals\n",
      "  warnings.warn(\"Maximum Likelihood optimization failed to \"\n",
      "/home/hugo/anaconda3/lib/python3.8/site-packages/statsmodels/tsa/base/tsa_model.py:376: ValueWarning: No supported index is available. Prediction results will be given with an integer index beginning at `start`.\n",
      "  warnings.warn('No supported index is available.'\n"
     ]
    },
    {
     "name": "stdout",
     "output_type": "stream",
     "text": [
      "[ 14:26:06] getting statistics\n",
      "--------------------\n",
      "training window 341545\n"
     ]
    },
    {
     "name": "stderr",
     "output_type": "stream",
     "text": [
      "/home/hugo/anaconda3/lib/python3.8/site-packages/statsmodels/tsa/base/tsa_model.py:578: ValueWarning: An unsupported index was provided and will be ignored when e.g. forecasting.\n",
      "  warnings.warn('An unsupported index was provided and will be'\n",
      "/home/hugo/anaconda3/lib/python3.8/site-packages/statsmodels/tsa/base/tsa_model.py:578: ValueWarning: An unsupported index was provided and will be ignored when e.g. forecasting.\n",
      "  warnings.warn('An unsupported index was provided and will be'\n",
      "/home/hugo/anaconda3/lib/python3.8/site-packages/statsmodels/base/model.py:566: ConvergenceWarning: Maximum Likelihood optimization failed to converge. Check mle_retvals\n",
      "  warnings.warn(\"Maximum Likelihood optimization failed to \"\n",
      "/home/hugo/anaconda3/lib/python3.8/site-packages/statsmodels/tsa/base/tsa_model.py:376: ValueWarning: No supported index is available. Prediction results will be given with an integer index beginning at `start`.\n",
      "  warnings.warn('No supported index is available.'\n"
     ]
    },
    {
     "name": "stdout",
     "output_type": "stream",
     "text": [
      "[ 14:52:41] getting statistics\n",
      "--------------------\n",
      "training window 409854\n"
     ]
    },
    {
     "name": "stderr",
     "output_type": "stream",
     "text": [
      "/home/hugo/anaconda3/lib/python3.8/site-packages/statsmodels/tsa/base/tsa_model.py:578: ValueWarning: An unsupported index was provided and will be ignored when e.g. forecasting.\n",
      "  warnings.warn('An unsupported index was provided and will be'\n",
      "/home/hugo/anaconda3/lib/python3.8/site-packages/statsmodels/tsa/base/tsa_model.py:578: ValueWarning: An unsupported index was provided and will be ignored when e.g. forecasting.\n",
      "  warnings.warn('An unsupported index was provided and will be'\n",
      "/home/hugo/anaconda3/lib/python3.8/site-packages/statsmodels/base/model.py:566: ConvergenceWarning: Maximum Likelihood optimization failed to converge. Check mle_retvals\n",
      "  warnings.warn(\"Maximum Likelihood optimization failed to \"\n",
      "/home/hugo/anaconda3/lib/python3.8/site-packages/statsmodels/tsa/base/tsa_model.py:376: ValueWarning: No supported index is available. Prediction results will be given with an integer index beginning at `start`.\n",
      "  warnings.warn('No supported index is available.'\n"
     ]
    },
    {
     "name": "stdout",
     "output_type": "stream",
     "text": [
      "[ 14:59:00] getting statistics\n",
      "--------------------\n",
      "training window 478163\n"
     ]
    },
    {
     "name": "stderr",
     "output_type": "stream",
     "text": [
      "/home/hugo/anaconda3/lib/python3.8/site-packages/statsmodels/tsa/base/tsa_model.py:578: ValueWarning: An unsupported index was provided and will be ignored when e.g. forecasting.\n",
      "  warnings.warn('An unsupported index was provided and will be'\n",
      "/home/hugo/anaconda3/lib/python3.8/site-packages/statsmodels/tsa/base/tsa_model.py:578: ValueWarning: An unsupported index was provided and will be ignored when e.g. forecasting.\n",
      "  warnings.warn('An unsupported index was provided and will be'\n",
      "/home/hugo/anaconda3/lib/python3.8/site-packages/statsmodels/base/model.py:566: ConvergenceWarning: Maximum Likelihood optimization failed to converge. Check mle_retvals\n",
      "  warnings.warn(\"Maximum Likelihood optimization failed to \"\n",
      "/home/hugo/anaconda3/lib/python3.8/site-packages/statsmodels/tsa/base/tsa_model.py:376: ValueWarning: No supported index is available. Prediction results will be given with an integer index beginning at `start`.\n",
      "  warnings.warn('No supported index is available.'\n"
     ]
    },
    {
     "name": "stdout",
     "output_type": "stream",
     "text": [
      "[ 15:05:22] getting statistics\n",
      "--------------------\n",
      "training window 546472\n"
     ]
    },
    {
     "name": "stderr",
     "output_type": "stream",
     "text": [
      "/home/hugo/anaconda3/lib/python3.8/site-packages/statsmodels/tsa/base/tsa_model.py:578: ValueWarning: An unsupported index was provided and will be ignored when e.g. forecasting.\n",
      "  warnings.warn('An unsupported index was provided and will be'\n",
      "/home/hugo/anaconda3/lib/python3.8/site-packages/statsmodels/tsa/base/tsa_model.py:578: ValueWarning: An unsupported index was provided and will be ignored when e.g. forecasting.\n",
      "  warnings.warn('An unsupported index was provided and will be'\n",
      "/home/hugo/anaconda3/lib/python3.8/site-packages/statsmodels/base/model.py:566: ConvergenceWarning: Maximum Likelihood optimization failed to converge. Check mle_retvals\n",
      "  warnings.warn(\"Maximum Likelihood optimization failed to \"\n",
      "/home/hugo/anaconda3/lib/python3.8/site-packages/statsmodels/tsa/base/tsa_model.py:376: ValueWarning: No supported index is available. Prediction results will be given with an integer index beginning at `start`.\n",
      "  warnings.warn('No supported index is available.'\n"
     ]
    },
    {
     "name": "stdout",
     "output_type": "stream",
     "text": [
      "[ 15:11:52] getting statistics\n",
      "--------------------\n",
      "training window 614781\n"
     ]
    },
    {
     "name": "stderr",
     "output_type": "stream",
     "text": [
      "/home/hugo/anaconda3/lib/python3.8/site-packages/statsmodels/tsa/base/tsa_model.py:578: ValueWarning: An unsupported index was provided and will be ignored when e.g. forecasting.\n",
      "  warnings.warn('An unsupported index was provided and will be'\n",
      "/home/hugo/anaconda3/lib/python3.8/site-packages/statsmodels/tsa/base/tsa_model.py:578: ValueWarning: An unsupported index was provided and will be ignored when e.g. forecasting.\n",
      "  warnings.warn('An unsupported index was provided and will be'\n",
      "/home/hugo/anaconda3/lib/python3.8/site-packages/statsmodels/base/model.py:566: ConvergenceWarning: Maximum Likelihood optimization failed to converge. Check mle_retvals\n",
      "  warnings.warn(\"Maximum Likelihood optimization failed to \"\n",
      "/home/hugo/anaconda3/lib/python3.8/site-packages/statsmodels/tsa/base/tsa_model.py:376: ValueWarning: No supported index is available. Prediction results will be given with an integer index beginning at `start`.\n",
      "  warnings.warn('No supported index is available.'\n"
     ]
    },
    {
     "name": "stdout",
     "output_type": "stream",
     "text": [
      "[ 15:18:04] getting statistics\n",
      "--------------------\n",
      "training window 683090\n"
     ]
    },
    {
     "name": "stderr",
     "output_type": "stream",
     "text": [
      "/home/hugo/anaconda3/lib/python3.8/site-packages/statsmodels/tsa/base/tsa_model.py:578: ValueWarning: An unsupported index was provided and will be ignored when e.g. forecasting.\n",
      "  warnings.warn('An unsupported index was provided and will be'\n",
      "/home/hugo/anaconda3/lib/python3.8/site-packages/statsmodels/tsa/base/tsa_model.py:578: ValueWarning: An unsupported index was provided and will be ignored when e.g. forecasting.\n",
      "  warnings.warn('An unsupported index was provided and will be'\n",
      "/home/hugo/anaconda3/lib/python3.8/site-packages/statsmodels/base/model.py:566: ConvergenceWarning: Maximum Likelihood optimization failed to converge. Check mle_retvals\n",
      "  warnings.warn(\"Maximum Likelihood optimization failed to \"\n",
      "/home/hugo/anaconda3/lib/python3.8/site-packages/statsmodels/tsa/base/tsa_model.py:376: ValueWarning: No supported index is available. Prediction results will be given with an integer index beginning at `start`.\n",
      "  warnings.warn('No supported index is available.'\n"
     ]
    },
    {
     "name": "stdout",
     "output_type": "stream",
     "text": [
      "[ 15:24:15] getting statistics\n",
      "--------------------\n",
      "training window 751399\n"
     ]
    },
    {
     "name": "stderr",
     "output_type": "stream",
     "text": [
      "/home/hugo/anaconda3/lib/python3.8/site-packages/statsmodels/tsa/base/tsa_model.py:578: ValueWarning: An unsupported index was provided and will be ignored when e.g. forecasting.\n",
      "  warnings.warn('An unsupported index was provided and will be'\n",
      "/home/hugo/anaconda3/lib/python3.8/site-packages/statsmodels/tsa/base/tsa_model.py:578: ValueWarning: An unsupported index was provided and will be ignored when e.g. forecasting.\n",
      "  warnings.warn('An unsupported index was provided and will be'\n",
      "/home/hugo/anaconda3/lib/python3.8/site-packages/statsmodels/base/model.py:566: ConvergenceWarning: Maximum Likelihood optimization failed to converge. Check mle_retvals\n",
      "  warnings.warn(\"Maximum Likelihood optimization failed to \"\n",
      "/home/hugo/anaconda3/lib/python3.8/site-packages/statsmodels/tsa/base/tsa_model.py:376: ValueWarning: No supported index is available. Prediction results will be given with an integer index beginning at `start`.\n",
      "  warnings.warn('No supported index is available.'\n"
     ]
    },
    {
     "name": "stdout",
     "output_type": "stream",
     "text": [
      "[ 15:30:26] getting statistics\n",
      "--------------------\n",
      "training window 819708\n"
     ]
    },
    {
     "name": "stderr",
     "output_type": "stream",
     "text": [
      "/home/hugo/anaconda3/lib/python3.8/site-packages/statsmodels/tsa/base/tsa_model.py:578: ValueWarning: An unsupported index was provided and will be ignored when e.g. forecasting.\n",
      "  warnings.warn('An unsupported index was provided and will be'\n",
      "/home/hugo/anaconda3/lib/python3.8/site-packages/statsmodels/tsa/base/tsa_model.py:578: ValueWarning: An unsupported index was provided and will be ignored when e.g. forecasting.\n",
      "  warnings.warn('An unsupported index was provided and will be'\n",
      "/home/hugo/anaconda3/lib/python3.8/site-packages/statsmodels/base/model.py:566: ConvergenceWarning: Maximum Likelihood optimization failed to converge. Check mle_retvals\n",
      "  warnings.warn(\"Maximum Likelihood optimization failed to \"\n",
      "/home/hugo/anaconda3/lib/python3.8/site-packages/statsmodels/tsa/base/tsa_model.py:376: ValueWarning: No supported index is available. Prediction results will be given with an integer index beginning at `start`.\n",
      "  warnings.warn('No supported index is available.'\n"
     ]
    },
    {
     "name": "stdout",
     "output_type": "stream",
     "text": [
      "[ 15:36:40] getting statistics\n",
      "--------------------\n",
      "training window 888017\n"
     ]
    },
    {
     "name": "stderr",
     "output_type": "stream",
     "text": [
      "/home/hugo/anaconda3/lib/python3.8/site-packages/statsmodels/tsa/base/tsa_model.py:578: ValueWarning: An unsupported index was provided and will be ignored when e.g. forecasting.\n",
      "  warnings.warn('An unsupported index was provided and will be'\n",
      "/home/hugo/anaconda3/lib/python3.8/site-packages/statsmodels/tsa/base/tsa_model.py:578: ValueWarning: An unsupported index was provided and will be ignored when e.g. forecasting.\n",
      "  warnings.warn('An unsupported index was provided and will be'\n",
      "/home/hugo/anaconda3/lib/python3.8/site-packages/statsmodels/base/model.py:566: ConvergenceWarning: Maximum Likelihood optimization failed to converge. Check mle_retvals\n",
      "  warnings.warn(\"Maximum Likelihood optimization failed to \"\n",
      "/home/hugo/anaconda3/lib/python3.8/site-packages/statsmodels/tsa/base/tsa_model.py:376: ValueWarning: No supported index is available. Prediction results will be given with an integer index beginning at `start`.\n",
      "  warnings.warn('No supported index is available.'\n"
     ]
    },
    {
     "name": "stdout",
     "output_type": "stream",
     "text": [
      "[ 15:43:02] getting statistics\n",
      "--------------------\n",
      "training window 956326\n"
     ]
    },
    {
     "name": "stderr",
     "output_type": "stream",
     "text": [
      "/home/hugo/anaconda3/lib/python3.8/site-packages/statsmodels/tsa/base/tsa_model.py:578: ValueWarning: An unsupported index was provided and will be ignored when e.g. forecasting.\n",
      "  warnings.warn('An unsupported index was provided and will be'\n",
      "/home/hugo/anaconda3/lib/python3.8/site-packages/statsmodels/tsa/base/tsa_model.py:578: ValueWarning: An unsupported index was provided and will be ignored when e.g. forecasting.\n",
      "  warnings.warn('An unsupported index was provided and will be'\n",
      "/home/hugo/anaconda3/lib/python3.8/site-packages/statsmodels/base/model.py:566: ConvergenceWarning: Maximum Likelihood optimization failed to converge. Check mle_retvals\n",
      "  warnings.warn(\"Maximum Likelihood optimization failed to \"\n",
      "/home/hugo/anaconda3/lib/python3.8/site-packages/statsmodels/tsa/base/tsa_model.py:376: ValueWarning: No supported index is available. Prediction results will be given with an integer index beginning at `start`.\n",
      "  warnings.warn('No supported index is available.'\n"
     ]
    },
    {
     "name": "stdout",
     "output_type": "stream",
     "text": [
      "[ 15:49:29] getting statistics\n",
      "--------------------\n",
      "training window 1024635\n"
     ]
    },
    {
     "name": "stderr",
     "output_type": "stream",
     "text": [
      "/home/hugo/anaconda3/lib/python3.8/site-packages/statsmodels/tsa/base/tsa_model.py:578: ValueWarning: An unsupported index was provided and will be ignored when e.g. forecasting.\n",
      "  warnings.warn('An unsupported index was provided and will be'\n",
      "/home/hugo/anaconda3/lib/python3.8/site-packages/statsmodels/tsa/base/tsa_model.py:578: ValueWarning: An unsupported index was provided and will be ignored when e.g. forecasting.\n",
      "  warnings.warn('An unsupported index was provided and will be'\n",
      "/home/hugo/anaconda3/lib/python3.8/site-packages/statsmodels/base/model.py:566: ConvergenceWarning: Maximum Likelihood optimization failed to converge. Check mle_retvals\n",
      "  warnings.warn(\"Maximum Likelihood optimization failed to \"\n",
      "/home/hugo/anaconda3/lib/python3.8/site-packages/statsmodels/tsa/base/tsa_model.py:376: ValueWarning: No supported index is available. Prediction results will be given with an integer index beginning at `start`.\n",
      "  warnings.warn('No supported index is available.'\n"
     ]
    },
    {
     "name": "stdout",
     "output_type": "stream",
     "text": [
      "[ 16:48:56] getting statistics\n",
      "--------------------\n",
      "training window 1092944\n"
     ]
    },
    {
     "name": "stderr",
     "output_type": "stream",
     "text": [
      "/home/hugo/anaconda3/lib/python3.8/site-packages/statsmodels/tsa/base/tsa_model.py:578: ValueWarning: An unsupported index was provided and will be ignored when e.g. forecasting.\n",
      "  warnings.warn('An unsupported index was provided and will be'\n",
      "/home/hugo/anaconda3/lib/python3.8/site-packages/statsmodels/tsa/base/tsa_model.py:578: ValueWarning: An unsupported index was provided and will be ignored when e.g. forecasting.\n",
      "  warnings.warn('An unsupported index was provided and will be'\n",
      "/home/hugo/anaconda3/lib/python3.8/site-packages/statsmodels/base/model.py:566: ConvergenceWarning: Maximum Likelihood optimization failed to converge. Check mle_retvals\n",
      "  warnings.warn(\"Maximum Likelihood optimization failed to \"\n",
      "/home/hugo/anaconda3/lib/python3.8/site-packages/statsmodels/tsa/base/tsa_model.py:376: ValueWarning: No supported index is available. Prediction results will be given with an integer index beginning at `start`.\n",
      "  warnings.warn('No supported index is available.'\n"
     ]
    },
    {
     "name": "stdout",
     "output_type": "stream",
     "text": [
      "[ 16:55:20] getting statistics\n",
      "--------------------\n",
      "training window 1161253\n"
     ]
    },
    {
     "name": "stderr",
     "output_type": "stream",
     "text": [
      "/home/hugo/anaconda3/lib/python3.8/site-packages/statsmodels/tsa/base/tsa_model.py:578: ValueWarning: An unsupported index was provided and will be ignored when e.g. forecasting.\n",
      "  warnings.warn('An unsupported index was provided and will be'\n",
      "/home/hugo/anaconda3/lib/python3.8/site-packages/statsmodels/tsa/base/tsa_model.py:578: ValueWarning: An unsupported index was provided and will be ignored when e.g. forecasting.\n",
      "  warnings.warn('An unsupported index was provided and will be'\n",
      "/home/hugo/anaconda3/lib/python3.8/site-packages/statsmodels/base/model.py:566: ConvergenceWarning: Maximum Likelihood optimization failed to converge. Check mle_retvals\n",
      "  warnings.warn(\"Maximum Likelihood optimization failed to \"\n",
      "/home/hugo/anaconda3/lib/python3.8/site-packages/statsmodels/tsa/base/tsa_model.py:376: ValueWarning: No supported index is available. Prediction results will be given with an integer index beginning at `start`.\n",
      "  warnings.warn('No supported index is available.'\n"
     ]
    },
    {
     "name": "stdout",
     "output_type": "stream",
     "text": [
      "[ 17:01:09] getting statistics\n",
      "--------------------\n",
      "training window 1229562\n"
     ]
    },
    {
     "name": "stderr",
     "output_type": "stream",
     "text": [
      "/home/hugo/anaconda3/lib/python3.8/site-packages/statsmodels/tsa/base/tsa_model.py:578: ValueWarning: An unsupported index was provided and will be ignored when e.g. forecasting.\n",
      "  warnings.warn('An unsupported index was provided and will be'\n",
      "/home/hugo/anaconda3/lib/python3.8/site-packages/statsmodels/tsa/base/tsa_model.py:578: ValueWarning: An unsupported index was provided and will be ignored when e.g. forecasting.\n",
      "  warnings.warn('An unsupported index was provided and will be'\n",
      "/home/hugo/anaconda3/lib/python3.8/site-packages/statsmodels/base/model.py:566: ConvergenceWarning: Maximum Likelihood optimization failed to converge. Check mle_retvals\n",
      "  warnings.warn(\"Maximum Likelihood optimization failed to \"\n",
      "/home/hugo/anaconda3/lib/python3.8/site-packages/statsmodels/tsa/base/tsa_model.py:376: ValueWarning: No supported index is available. Prediction results will be given with an integer index beginning at `start`.\n",
      "  warnings.warn('No supported index is available.'\n"
     ]
    },
    {
     "name": "stdout",
     "output_type": "stream",
     "text": [
      "[ 17:07:33] getting statistics\n",
      "--------------------\n",
      "training window 1297871\n"
     ]
    },
    {
     "name": "stderr",
     "output_type": "stream",
     "text": [
      "/home/hugo/anaconda3/lib/python3.8/site-packages/statsmodels/tsa/base/tsa_model.py:578: ValueWarning: An unsupported index was provided and will be ignored when e.g. forecasting.\n",
      "  warnings.warn('An unsupported index was provided and will be'\n",
      "/home/hugo/anaconda3/lib/python3.8/site-packages/statsmodels/tsa/base/tsa_model.py:578: ValueWarning: An unsupported index was provided and will be ignored when e.g. forecasting.\n",
      "  warnings.warn('An unsupported index was provided and will be'\n",
      "/home/hugo/anaconda3/lib/python3.8/site-packages/statsmodels/base/model.py:566: ConvergenceWarning: Maximum Likelihood optimization failed to converge. Check mle_retvals\n",
      "  warnings.warn(\"Maximum Likelihood optimization failed to \"\n",
      "/home/hugo/anaconda3/lib/python3.8/site-packages/statsmodels/tsa/base/tsa_model.py:376: ValueWarning: No supported index is available. Prediction results will be given with an integer index beginning at `start`.\n",
      "  warnings.warn('No supported index is available.'\n"
     ]
    },
    {
     "name": "stdout",
     "output_type": "stream",
     "text": [
      "[ 17:13:59] getting statistics\n",
      "--------------------\n",
      "training window 1366180\n"
     ]
    },
    {
     "name": "stderr",
     "output_type": "stream",
     "text": [
      "/home/hugo/anaconda3/lib/python3.8/site-packages/statsmodels/tsa/base/tsa_model.py:578: ValueWarning: An unsupported index was provided and will be ignored when e.g. forecasting.\n",
      "  warnings.warn('An unsupported index was provided and will be'\n",
      "/home/hugo/anaconda3/lib/python3.8/site-packages/statsmodels/tsa/base/tsa_model.py:578: ValueWarning: An unsupported index was provided and will be ignored when e.g. forecasting.\n",
      "  warnings.warn('An unsupported index was provided and will be'\n",
      "/home/hugo/anaconda3/lib/python3.8/site-packages/statsmodels/base/model.py:566: ConvergenceWarning: Maximum Likelihood optimization failed to converge. Check mle_retvals\n",
      "  warnings.warn(\"Maximum Likelihood optimization failed to \"\n",
      "/home/hugo/anaconda3/lib/python3.8/site-packages/statsmodels/tsa/base/tsa_model.py:376: ValueWarning: No supported index is available. Prediction results will be given with an integer index beginning at `start`.\n",
      "  warnings.warn('No supported index is available.'\n"
     ]
    },
    {
     "name": "stdout",
     "output_type": "stream",
     "text": [
      "[ 17:20:20] getting statistics\n",
      "--------------------\n",
      "training window 1434489\n"
     ]
    },
    {
     "name": "stderr",
     "output_type": "stream",
     "text": [
      "/home/hugo/anaconda3/lib/python3.8/site-packages/statsmodels/tsa/base/tsa_model.py:578: ValueWarning: An unsupported index was provided and will be ignored when e.g. forecasting.\n",
      "  warnings.warn('An unsupported index was provided and will be'\n",
      "/home/hugo/anaconda3/lib/python3.8/site-packages/statsmodels/tsa/base/tsa_model.py:578: ValueWarning: An unsupported index was provided and will be ignored when e.g. forecasting.\n",
      "  warnings.warn('An unsupported index was provided and will be'\n",
      "/home/hugo/anaconda3/lib/python3.8/site-packages/statsmodels/base/model.py:566: ConvergenceWarning: Maximum Likelihood optimization failed to converge. Check mle_retvals\n",
      "  warnings.warn(\"Maximum Likelihood optimization failed to \"\n",
      "/home/hugo/anaconda3/lib/python3.8/site-packages/statsmodels/tsa/base/tsa_model.py:376: ValueWarning: No supported index is available. Prediction results will be given with an integer index beginning at `start`.\n",
      "  warnings.warn('No supported index is available.'\n"
     ]
    },
    {
     "name": "stdout",
     "output_type": "stream",
     "text": [
      "[ 17:26:47] getting statistics\n",
      "--------------------\n",
      "training window 1502798\n"
     ]
    },
    {
     "name": "stderr",
     "output_type": "stream",
     "text": [
      "/home/hugo/anaconda3/lib/python3.8/site-packages/statsmodels/tsa/base/tsa_model.py:578: ValueWarning: An unsupported index was provided and will be ignored when e.g. forecasting.\n",
      "  warnings.warn('An unsupported index was provided and will be'\n",
      "/home/hugo/anaconda3/lib/python3.8/site-packages/statsmodels/tsa/base/tsa_model.py:578: ValueWarning: An unsupported index was provided and will be ignored when e.g. forecasting.\n",
      "  warnings.warn('An unsupported index was provided and will be'\n",
      "/home/hugo/anaconda3/lib/python3.8/site-packages/statsmodels/base/model.py:566: ConvergenceWarning: Maximum Likelihood optimization failed to converge. Check mle_retvals\n",
      "  warnings.warn(\"Maximum Likelihood optimization failed to \"\n",
      "/home/hugo/anaconda3/lib/python3.8/site-packages/statsmodels/tsa/base/tsa_model.py:376: ValueWarning: No supported index is available. Prediction results will be given with an integer index beginning at `start`.\n",
      "  warnings.warn('No supported index is available.'\n"
     ]
    },
    {
     "name": "stdout",
     "output_type": "stream",
     "text": [
      "[ 17:30:15] getting statistics\n",
      "--------------------\n",
      "training window 1571107\n"
     ]
    },
    {
     "name": "stderr",
     "output_type": "stream",
     "text": [
      "/home/hugo/anaconda3/lib/python3.8/site-packages/statsmodels/tsa/base/tsa_model.py:578: ValueWarning: An unsupported index was provided and will be ignored when e.g. forecasting.\n",
      "  warnings.warn('An unsupported index was provided and will be'\n",
      "/home/hugo/anaconda3/lib/python3.8/site-packages/statsmodels/tsa/base/tsa_model.py:578: ValueWarning: An unsupported index was provided and will be ignored when e.g. forecasting.\n",
      "  warnings.warn('An unsupported index was provided and will be'\n",
      "/home/hugo/anaconda3/lib/python3.8/site-packages/statsmodels/base/model.py:566: ConvergenceWarning: Maximum Likelihood optimization failed to converge. Check mle_retvals\n",
      "  warnings.warn(\"Maximum Likelihood optimization failed to \"\n",
      "/home/hugo/anaconda3/lib/python3.8/site-packages/statsmodels/tsa/base/tsa_model.py:376: ValueWarning: No supported index is available. Prediction results will be given with an integer index beginning at `start`.\n",
      "  warnings.warn('No supported index is available.'\n"
     ]
    },
    {
     "name": "stdout",
     "output_type": "stream",
     "text": [
      "[ 17:45:16] getting statistics\n",
      "--------------------\n",
      "training window 1639416\n"
     ]
    },
    {
     "name": "stderr",
     "output_type": "stream",
     "text": [
      "/home/hugo/anaconda3/lib/python3.8/site-packages/statsmodels/tsa/base/tsa_model.py:578: ValueWarning: An unsupported index was provided and will be ignored when e.g. forecasting.\n",
      "  warnings.warn('An unsupported index was provided and will be'\n",
      "/home/hugo/anaconda3/lib/python3.8/site-packages/statsmodels/tsa/base/tsa_model.py:578: ValueWarning: An unsupported index was provided and will be ignored when e.g. forecasting.\n",
      "  warnings.warn('An unsupported index was provided and will be'\n",
      "/home/hugo/anaconda3/lib/python3.8/site-packages/statsmodels/base/model.py:566: ConvergenceWarning: Maximum Likelihood optimization failed to converge. Check mle_retvals\n",
      "  warnings.warn(\"Maximum Likelihood optimization failed to \"\n",
      "/home/hugo/anaconda3/lib/python3.8/site-packages/statsmodels/tsa/base/tsa_model.py:376: ValueWarning: No supported index is available. Prediction results will be given with an integer index beginning at `start`.\n",
      "  warnings.warn('No supported index is available.'\n"
     ]
    },
    {
     "name": "stdout",
     "output_type": "stream",
     "text": [
      "[ 17:49:09] getting statistics\n",
      "--------------------\n",
      "training window 1707725\n"
     ]
    },
    {
     "name": "stderr",
     "output_type": "stream",
     "text": [
      "/home/hugo/anaconda3/lib/python3.8/site-packages/statsmodels/tsa/base/tsa_model.py:578: ValueWarning: An unsupported index was provided and will be ignored when e.g. forecasting.\n",
      "  warnings.warn('An unsupported index was provided and will be'\n",
      "/home/hugo/anaconda3/lib/python3.8/site-packages/statsmodels/tsa/base/tsa_model.py:578: ValueWarning: An unsupported index was provided and will be ignored when e.g. forecasting.\n",
      "  warnings.warn('An unsupported index was provided and will be'\n",
      "/home/hugo/anaconda3/lib/python3.8/site-packages/statsmodels/base/model.py:566: ConvergenceWarning: Maximum Likelihood optimization failed to converge. Check mle_retvals\n",
      "  warnings.warn(\"Maximum Likelihood optimization failed to \"\n",
      "/home/hugo/anaconda3/lib/python3.8/site-packages/statsmodels/tsa/base/tsa_model.py:376: ValueWarning: No supported index is available. Prediction results will be given with an integer index beginning at `start`.\n",
      "  warnings.warn('No supported index is available.'\n"
     ]
    },
    {
     "name": "stdout",
     "output_type": "stream",
     "text": [
      "[ 17:53:17] getting statistics\n",
      "--------------------\n",
      "training window 1776034\n"
     ]
    },
    {
     "name": "stderr",
     "output_type": "stream",
     "text": [
      "/home/hugo/anaconda3/lib/python3.8/site-packages/statsmodels/tsa/base/tsa_model.py:578: ValueWarning: An unsupported index was provided and will be ignored when e.g. forecasting.\n",
      "  warnings.warn('An unsupported index was provided and will be'\n",
      "/home/hugo/anaconda3/lib/python3.8/site-packages/statsmodels/tsa/base/tsa_model.py:578: ValueWarning: An unsupported index was provided and will be ignored when e.g. forecasting.\n",
      "  warnings.warn('An unsupported index was provided and will be'\n",
      "/home/hugo/anaconda3/lib/python3.8/site-packages/statsmodels/base/model.py:566: ConvergenceWarning: Maximum Likelihood optimization failed to converge. Check mle_retvals\n",
      "  warnings.warn(\"Maximum Likelihood optimization failed to \"\n",
      "/home/hugo/anaconda3/lib/python3.8/site-packages/statsmodels/tsa/base/tsa_model.py:376: ValueWarning: No supported index is available. Prediction results will be given with an integer index beginning at `start`.\n",
      "  warnings.warn('No supported index is available.'\n"
     ]
    },
    {
     "name": "stdout",
     "output_type": "stream",
     "text": [
      "[ 17:57:09] getting statistics\n",
      "--------------------\n",
      "training window 1844343\n"
     ]
    },
    {
     "name": "stderr",
     "output_type": "stream",
     "text": [
      "/home/hugo/anaconda3/lib/python3.8/site-packages/statsmodels/tsa/base/tsa_model.py:578: ValueWarning: An unsupported index was provided and will be ignored when e.g. forecasting.\n",
      "  warnings.warn('An unsupported index was provided and will be'\n",
      "/home/hugo/anaconda3/lib/python3.8/site-packages/statsmodels/tsa/base/tsa_model.py:578: ValueWarning: An unsupported index was provided and will be ignored when e.g. forecasting.\n",
      "  warnings.warn('An unsupported index was provided and will be'\n",
      "/home/hugo/anaconda3/lib/python3.8/site-packages/statsmodels/base/model.py:566: ConvergenceWarning: Maximum Likelihood optimization failed to converge. Check mle_retvals\n",
      "  warnings.warn(\"Maximum Likelihood optimization failed to \"\n",
      "/home/hugo/anaconda3/lib/python3.8/site-packages/statsmodels/tsa/base/tsa_model.py:376: ValueWarning: No supported index is available. Prediction results will be given with an integer index beginning at `start`.\n",
      "  warnings.warn('No supported index is available.'\n"
     ]
    },
    {
     "name": "stdout",
     "output_type": "stream",
     "text": [
      "[ 18:01:12] getting statistics\n",
      "--------------------\n",
      "training window 1912652\n"
     ]
    },
    {
     "name": "stderr",
     "output_type": "stream",
     "text": [
      "/home/hugo/anaconda3/lib/python3.8/site-packages/statsmodels/tsa/base/tsa_model.py:578: ValueWarning: An unsupported index was provided and will be ignored when e.g. forecasting.\n",
      "  warnings.warn('An unsupported index was provided and will be'\n",
      "/home/hugo/anaconda3/lib/python3.8/site-packages/statsmodels/tsa/base/tsa_model.py:578: ValueWarning: An unsupported index was provided and will be ignored when e.g. forecasting.\n",
      "  warnings.warn('An unsupported index was provided and will be'\n",
      "/home/hugo/anaconda3/lib/python3.8/site-packages/statsmodels/base/model.py:566: ConvergenceWarning: Maximum Likelihood optimization failed to converge. Check mle_retvals\n",
      "  warnings.warn(\"Maximum Likelihood optimization failed to \"\n",
      "/home/hugo/anaconda3/lib/python3.8/site-packages/statsmodels/tsa/base/tsa_model.py:376: ValueWarning: No supported index is available. Prediction results will be given with an integer index beginning at `start`.\n",
      "  warnings.warn('No supported index is available.'\n"
     ]
    },
    {
     "name": "stdout",
     "output_type": "stream",
     "text": [
      "[ 18:05:20] getting statistics\n",
      "--------------------\n",
      "training window 1980961\n"
     ]
    },
    {
     "name": "stderr",
     "output_type": "stream",
     "text": [
      "/home/hugo/anaconda3/lib/python3.8/site-packages/statsmodels/tsa/base/tsa_model.py:578: ValueWarning: An unsupported index was provided and will be ignored when e.g. forecasting.\n",
      "  warnings.warn('An unsupported index was provided and will be'\n",
      "/home/hugo/anaconda3/lib/python3.8/site-packages/statsmodels/tsa/base/tsa_model.py:578: ValueWarning: An unsupported index was provided and will be ignored when e.g. forecasting.\n",
      "  warnings.warn('An unsupported index was provided and will be'\n",
      "/home/hugo/anaconda3/lib/python3.8/site-packages/statsmodels/base/model.py:566: ConvergenceWarning: Maximum Likelihood optimization failed to converge. Check mle_retvals\n",
      "  warnings.warn(\"Maximum Likelihood optimization failed to \"\n",
      "/home/hugo/anaconda3/lib/python3.8/site-packages/statsmodels/tsa/base/tsa_model.py:376: ValueWarning: No supported index is available. Prediction results will be given with an integer index beginning at `start`.\n",
      "  warnings.warn('No supported index is available.'\n"
     ]
    },
    {
     "name": "stdout",
     "output_type": "stream",
     "text": [
      "[ 18:09:06] getting statistics\n"
     ]
    }
   ],
   "source": [
    "result = {\n",
    "     \"window\": [],\n",
    "     \"rmse\": [],\n",
    "     \"mae\": [],\n",
    "     \"mape\": [],\n",
    "     \"smape\": [],\n",
    "     \"nrmse\":[]\n",
    "}\n",
    "\n",
    "tam = len(data)\n",
    "n_windows = 30\n",
    "windows_length = math.floor(tam / n_windows)\n",
    "for ct, ttrain, ttest in Util.sliding_window(data_scaled, windows_length, 0.75, inc=1):\n",
    "    if len(ttest) > 0:\n",
    "        \n",
    "        start = len(ttrain)\n",
    "        end = len(ttrain)+ len(ttest) -1\n",
    "        \n",
    "        print('-' * 20)\n",
    "        print(f'training window {(ct)}')\n",
    "        model = train_sarimax(ttrain.loc[:,'Global_active_power(t-1)'], \n",
    "                              ttrain.loc[:,'Global_reactive_power(t-1)':'Sub_metering_3(t-1)'], \n",
    "                              [1,0,1], \n",
    "                              [1,1,1,7])\n",
    "        yhat = test_sarimax(model, start, end, ttest.loc[:,'Global_reactive_power(t-1)':'Sub_metering_3(t-1)']) \n",
    "        \n",
    "        print(\"[{0: %H:%M:%S}]\".format(datetime.datetime.now()) + f\" getting statistics\")\n",
    "\n",
    "        test_X = ttest.loc[:,'Global_active_power(t-1)':'Sub_metering_3(t-1)'].values\n",
    "        test_X = test_X.reshape((test_X.shape[0],test_X.shape[1]))\n",
    "        test_y = ttest['Global_active_power(t)'].values \n",
    "\n",
    "        appliances,forecast = transform_original(test_X = test_X,test_y = test_y,yhat = yhat.values)\n",
    "        \n",
    "        rmse = Measures.rmse(appliances,forecast)\n",
    "        mape = Measures.mape(appliances,forecast)\n",
    "        smape = Measures.smape(appliances,forecast)\n",
    "        \n",
    "        forecast = pd.DataFrame(forecast)\n",
    "        forecast.fillna(forecast.mean(),inplace=True)\n",
    "        forecast = np.array(forecast).reshape(-1)\n",
    "        mae = mean_absolute_error(appliances, forecast)\n",
    "                \n",
    "        nrmse = cal_nrmse(rmse, appliances)\n",
    "                \n",
    "        result[\"rmse\"].append(round(rmse,3))\n",
    "        result[\"mae\"].append(round(mae,3))\n",
    "        result[\"mape\"].append(round(mape,3))\n",
    "        result[\"smape\"].append(round(smape,3))\n",
    "        result[\"nrmse\"].append(round(nrmse,3))\n",
    "        result[\"window\"].append(ct)\n",
    "\n",
    "measures = pd.DataFrame(result)\n"
   ]
  },
  {
   "cell_type": "code",
   "execution_count": 26,
   "id": "finished-transcription",
   "metadata": {},
   "outputs": [
    {
     "data": {
      "text/html": [
       "<div>\n",
       "<style scoped>\n",
       "    .dataframe tbody tr th:only-of-type {\n",
       "        vertical-align: middle;\n",
       "    }\n",
       "\n",
       "    .dataframe tbody tr th {\n",
       "        vertical-align: top;\n",
       "    }\n",
       "\n",
       "    .dataframe thead th {\n",
       "        text-align: right;\n",
       "    }\n",
       "</style>\n",
       "<table border=\"1\" class=\"dataframe\">\n",
       "  <thead>\n",
       "    <tr style=\"text-align: right;\">\n",
       "      <th></th>\n",
       "      <th>window</th>\n",
       "      <th>rmse</th>\n",
       "      <th>mae</th>\n",
       "      <th>mape</th>\n",
       "      <th>smape</th>\n",
       "      <th>nrmse</th>\n",
       "    </tr>\n",
       "  </thead>\n",
       "  <tbody>\n",
       "    <tr>\n",
       "      <th>0</th>\n",
       "      <td>0</td>\n",
       "      <td>0.395</td>\n",
       "      <td>0.173</td>\n",
       "      <td>16.933</td>\n",
       "      <td>7.304</td>\n",
       "      <td>0.051</td>\n",
       "    </tr>\n",
       "    <tr>\n",
       "      <th>1</th>\n",
       "      <td>68309</td>\n",
       "      <td>0.323</td>\n",
       "      <td>0.120</td>\n",
       "      <td>8.541</td>\n",
       "      <td>3.994</td>\n",
       "      <td>0.041</td>\n",
       "    </tr>\n",
       "    <tr>\n",
       "      <th>2</th>\n",
       "      <td>136618</td>\n",
       "      <td>0.326</td>\n",
       "      <td>0.119</td>\n",
       "      <td>14.324</td>\n",
       "      <td>6.163</td>\n",
       "      <td>0.043</td>\n",
       "    </tr>\n",
       "    <tr>\n",
       "      <th>3</th>\n",
       "      <td>204927</td>\n",
       "      <td>0.265</td>\n",
       "      <td>0.094</td>\n",
       "      <td>15.261</td>\n",
       "      <td>6.675</td>\n",
       "      <td>0.037</td>\n",
       "    </tr>\n",
       "    <tr>\n",
       "      <th>4</th>\n",
       "      <td>273236</td>\n",
       "      <td>0.199</td>\n",
       "      <td>0.070</td>\n",
       "      <td>13.241</td>\n",
       "      <td>6.611</td>\n",
       "      <td>0.027</td>\n",
       "    </tr>\n",
       "    <tr>\n",
       "      <th>5</th>\n",
       "      <td>341545</td>\n",
       "      <td>0.283</td>\n",
       "      <td>0.102</td>\n",
       "      <td>11.432</td>\n",
       "      <td>5.352</td>\n",
       "      <td>0.038</td>\n",
       "    </tr>\n",
       "    <tr>\n",
       "      <th>6</th>\n",
       "      <td>409854</td>\n",
       "      <td>0.294</td>\n",
       "      <td>0.108</td>\n",
       "      <td>8.332</td>\n",
       "      <td>3.858</td>\n",
       "      <td>0.032</td>\n",
       "    </tr>\n",
       "    <tr>\n",
       "      <th>7</th>\n",
       "      <td>478163</td>\n",
       "      <td>0.331</td>\n",
       "      <td>0.133</td>\n",
       "      <td>9.088</td>\n",
       "      <td>4.139</td>\n",
       "      <td>0.035</td>\n",
       "    </tr>\n",
       "    <tr>\n",
       "      <th>8</th>\n",
       "      <td>546472</td>\n",
       "      <td>0.256</td>\n",
       "      <td>0.095</td>\n",
       "      <td>8.726</td>\n",
       "      <td>4.044</td>\n",
       "      <td>0.038</td>\n",
       "    </tr>\n",
       "    <tr>\n",
       "      <th>9</th>\n",
       "      <td>614781</td>\n",
       "      <td>0.290</td>\n",
       "      <td>0.106</td>\n",
       "      <td>9.318</td>\n",
       "      <td>4.518</td>\n",
       "      <td>0.043</td>\n",
       "    </tr>\n",
       "    <tr>\n",
       "      <th>10</th>\n",
       "      <td>683090</td>\n",
       "      <td>0.284</td>\n",
       "      <td>0.132</td>\n",
       "      <td>18.628</td>\n",
       "      <td>9.976</td>\n",
       "      <td>0.032</td>\n",
       "    </tr>\n",
       "    <tr>\n",
       "      <th>11</th>\n",
       "      <td>751399</td>\n",
       "      <td>0.269</td>\n",
       "      <td>0.113</td>\n",
       "      <td>18.155</td>\n",
       "      <td>8.458</td>\n",
       "      <td>0.039</td>\n",
       "    </tr>\n",
       "    <tr>\n",
       "      <th>12</th>\n",
       "      <td>819708</td>\n",
       "      <td>0.082</td>\n",
       "      <td>0.041</td>\n",
       "      <td>26.631</td>\n",
       "      <td>13.619</td>\n",
       "      <td>0.079</td>\n",
       "    </tr>\n",
       "    <tr>\n",
       "      <th>13</th>\n",
       "      <td>888017</td>\n",
       "      <td>0.276</td>\n",
       "      <td>0.108</td>\n",
       "      <td>10.247</td>\n",
       "      <td>4.626</td>\n",
       "      <td>0.035</td>\n",
       "    </tr>\n",
       "    <tr>\n",
       "      <th>14</th>\n",
       "      <td>956326</td>\n",
       "      <td>0.302</td>\n",
       "      <td>0.129</td>\n",
       "      <td>9.279</td>\n",
       "      <td>4.317</td>\n",
       "      <td>0.036</td>\n",
       "    </tr>\n",
       "    <tr>\n",
       "      <th>15</th>\n",
       "      <td>1024635</td>\n",
       "      <td>0.268</td>\n",
       "      <td>0.109</td>\n",
       "      <td>12.467</td>\n",
       "      <td>5.522</td>\n",
       "      <td>0.031</td>\n",
       "    </tr>\n",
       "    <tr>\n",
       "      <th>16</th>\n",
       "      <td>1092944</td>\n",
       "      <td>0.298</td>\n",
       "      <td>0.149</td>\n",
       "      <td>19.370</td>\n",
       "      <td>8.298</td>\n",
       "      <td>0.027</td>\n",
       "    </tr>\n",
       "    <tr>\n",
       "      <th>17</th>\n",
       "      <td>1161253</td>\n",
       "      <td>0.275</td>\n",
       "      <td>0.103</td>\n",
       "      <td>8.650</td>\n",
       "      <td>4.015</td>\n",
       "      <td>0.036</td>\n",
       "    </tr>\n",
       "    <tr>\n",
       "      <th>18</th>\n",
       "      <td>1229562</td>\n",
       "      <td>0.233</td>\n",
       "      <td>0.088</td>\n",
       "      <td>11.107</td>\n",
       "      <td>5.071</td>\n",
       "      <td>0.027</td>\n",
       "    </tr>\n",
       "    <tr>\n",
       "      <th>19</th>\n",
       "      <td>1297871</td>\n",
       "      <td>0.138</td>\n",
       "      <td>0.058</td>\n",
       "      <td>13.522</td>\n",
       "      <td>5.899</td>\n",
       "      <td>0.031</td>\n",
       "    </tr>\n",
       "    <tr>\n",
       "      <th>20</th>\n",
       "      <td>1366180</td>\n",
       "      <td>0.254</td>\n",
       "      <td>0.107</td>\n",
       "      <td>17.024</td>\n",
       "      <td>7.169</td>\n",
       "      <td>0.038</td>\n",
       "    </tr>\n",
       "    <tr>\n",
       "      <th>21</th>\n",
       "      <td>1434489</td>\n",
       "      <td>0.286</td>\n",
       "      <td>0.113</td>\n",
       "      <td>10.260</td>\n",
       "      <td>4.686</td>\n",
       "      <td>0.034</td>\n",
       "    </tr>\n",
       "    <tr>\n",
       "      <th>22</th>\n",
       "      <td>1502798</td>\n",
       "      <td>0.296</td>\n",
       "      <td>0.118</td>\n",
       "      <td>9.399</td>\n",
       "      <td>4.295</td>\n",
       "      <td>0.036</td>\n",
       "    </tr>\n",
       "    <tr>\n",
       "      <th>23</th>\n",
       "      <td>1571107</td>\n",
       "      <td>0.258</td>\n",
       "      <td>0.105</td>\n",
       "      <td>6.540</td>\n",
       "      <td>3.207</td>\n",
       "      <td>0.029</td>\n",
       "    </tr>\n",
       "    <tr>\n",
       "      <th>24</th>\n",
       "      <td>1639416</td>\n",
       "      <td>0.239</td>\n",
       "      <td>0.100</td>\n",
       "      <td>10.443</td>\n",
       "      <td>4.704</td>\n",
       "      <td>0.040</td>\n",
       "    </tr>\n",
       "    <tr>\n",
       "      <th>25</th>\n",
       "      <td>1707725</td>\n",
       "      <td>0.239</td>\n",
       "      <td>0.105</td>\n",
       "      <td>11.501</td>\n",
       "      <td>5.728</td>\n",
       "      <td>0.034</td>\n",
       "    </tr>\n",
       "    <tr>\n",
       "      <th>26</th>\n",
       "      <td>1776034</td>\n",
       "      <td>0.253</td>\n",
       "      <td>0.102</td>\n",
       "      <td>12.948</td>\n",
       "      <td>5.691</td>\n",
       "      <td>0.034</td>\n",
       "    </tr>\n",
       "    <tr>\n",
       "      <th>27</th>\n",
       "      <td>1844343</td>\n",
       "      <td>0.110</td>\n",
       "      <td>0.052</td>\n",
       "      <td>17.626</td>\n",
       "      <td>7.413</td>\n",
       "      <td>0.057</td>\n",
       "    </tr>\n",
       "    <tr>\n",
       "      <th>28</th>\n",
       "      <td>1912652</td>\n",
       "      <td>0.258</td>\n",
       "      <td>0.142</td>\n",
       "      <td>19.927</td>\n",
       "      <td>8.439</td>\n",
       "      <td>0.039</td>\n",
       "    </tr>\n",
       "    <tr>\n",
       "      <th>29</th>\n",
       "      <td>1980961</td>\n",
       "      <td>0.221</td>\n",
       "      <td>0.088</td>\n",
       "      <td>7.968</td>\n",
       "      <td>3.817</td>\n",
       "      <td>0.023</td>\n",
       "    </tr>\n",
       "  </tbody>\n",
       "</table>\n",
       "</div>"
      ],
      "text/plain": [
       "     window   rmse    mae    mape   smape  nrmse\n",
       "0         0  0.395  0.173  16.933   7.304  0.051\n",
       "1     68309  0.323  0.120   8.541   3.994  0.041\n",
       "2    136618  0.326  0.119  14.324   6.163  0.043\n",
       "3    204927  0.265  0.094  15.261   6.675  0.037\n",
       "4    273236  0.199  0.070  13.241   6.611  0.027\n",
       "5    341545  0.283  0.102  11.432   5.352  0.038\n",
       "6    409854  0.294  0.108   8.332   3.858  0.032\n",
       "7    478163  0.331  0.133   9.088   4.139  0.035\n",
       "8    546472  0.256  0.095   8.726   4.044  0.038\n",
       "9    614781  0.290  0.106   9.318   4.518  0.043\n",
       "10   683090  0.284  0.132  18.628   9.976  0.032\n",
       "11   751399  0.269  0.113  18.155   8.458  0.039\n",
       "12   819708  0.082  0.041  26.631  13.619  0.079\n",
       "13   888017  0.276  0.108  10.247   4.626  0.035\n",
       "14   956326  0.302  0.129   9.279   4.317  0.036\n",
       "15  1024635  0.268  0.109  12.467   5.522  0.031\n",
       "16  1092944  0.298  0.149  19.370   8.298  0.027\n",
       "17  1161253  0.275  0.103   8.650   4.015  0.036\n",
       "18  1229562  0.233  0.088  11.107   5.071  0.027\n",
       "19  1297871  0.138  0.058  13.522   5.899  0.031\n",
       "20  1366180  0.254  0.107  17.024   7.169  0.038\n",
       "21  1434489  0.286  0.113  10.260   4.686  0.034\n",
       "22  1502798  0.296  0.118   9.399   4.295  0.036\n",
       "23  1571107  0.258  0.105   6.540   3.207  0.029\n",
       "24  1639416  0.239  0.100  10.443   4.704  0.040\n",
       "25  1707725  0.239  0.105  11.501   5.728  0.034\n",
       "26  1776034  0.253  0.102  12.948   5.691  0.034\n",
       "27  1844343  0.110  0.052  17.626   7.413  0.057\n",
       "28  1912652  0.258  0.142  19.927   8.439  0.039\n",
       "29  1980961  0.221  0.088   7.968   3.817  0.023"
      ]
     },
     "execution_count": 26,
     "metadata": {},
     "output_type": "execute_result"
    }
   ],
   "source": [
    "measures"
   ]
  },
  {
   "cell_type": "code",
   "execution_count": 14,
   "id": "fallen-baker",
   "metadata": {},
   "outputs": [],
   "source": [
    "#measures.to_csv (r'win_sarimax_hpc_30min.csv', index = False, header=True)"
   ]
  },
  {
   "cell_type": "code",
   "execution_count": 27,
   "id": "transsexual-bruce",
   "metadata": {},
   "outputs": [],
   "source": [
    "measures.to_csv (r'win_sarimax_hpc_1min.csv', index = False, header=True)"
   ]
  },
  {
   "cell_type": "markdown",
   "id": "administrative-guest",
   "metadata": {},
   "source": [
    "### Mean Statistics SARIMAX"
   ]
  },
  {
   "cell_type": "code",
   "execution_count": 32,
   "id": "registered-browser",
   "metadata": {},
   "outputs": [
    {
     "name": "stdout",
     "output_type": "stream",
     "text": [
      "Mean Statistics SARIMAX (test): \n"
     ]
    },
    {
     "data": {
      "text/html": [
       "<div>\n",
       "<style scoped>\n",
       "    .dataframe tbody tr th:only-of-type {\n",
       "        vertical-align: middle;\n",
       "    }\n",
       "\n",
       "    .dataframe tbody tr th {\n",
       "        vertical-align: top;\n",
       "    }\n",
       "\n",
       "    .dataframe thead th {\n",
       "        text-align: right;\n",
       "    }\n",
       "</style>\n",
       "<table border=\"1\" class=\"dataframe\">\n",
       "  <thead>\n",
       "    <tr style=\"text-align: right;\">\n",
       "      <th></th>\n",
       "      <th>rmse</th>\n",
       "      <th>mae</th>\n",
       "      <th>mape</th>\n",
       "      <th>smape</th>\n",
       "      <th>nrmse</th>\n",
       "      <th>rmse_std</th>\n",
       "      <th>mae_std</th>\n",
       "      <th>mape_std</th>\n",
       "      <th>smape_std</th>\n",
       "      <th>nrmse_std</th>\n",
       "    </tr>\n",
       "  </thead>\n",
       "  <tbody>\n",
       "    <tr>\n",
       "      <th>0</th>\n",
       "      <td>0.26</td>\n",
       "      <td>0.106</td>\n",
       "      <td>12.896</td>\n",
       "      <td>5.92</td>\n",
       "      <td>0.037</td>\n",
       "      <td>0.063</td>\n",
       "      <td>0.027</td>\n",
       "      <td>4.64</td>\n",
       "      <td>2.23</td>\n",
       "      <td>0.01</td>\n",
       "    </tr>\n",
       "  </tbody>\n",
       "</table>\n",
       "</div>"
      ],
      "text/plain": [
       "   rmse    mae    mape  smape  nrmse  rmse_std  mae_std  mape_std  smape_std  \\\n",
       "0  0.26  0.106  12.896   5.92  0.037     0.063    0.027      4.64       2.23   \n",
       "\n",
       "   nrmse_std  \n",
       "0       0.01  "
      ]
     },
     "execution_count": 32,
     "metadata": {},
     "output_type": "execute_result"
    }
   ],
   "source": [
    "final_result = {\n",
    "     \"rmse\": [],\n",
    "     \"mae\": [],\n",
    "     \"mape\": [],\n",
    "     \"smape\": [],\n",
    "     \"nrmse\":[],\n",
    "     \"rmse_std\": [],\n",
    "     \"mae_std\": [],\n",
    "     \"mape_std\": [],\n",
    "     \"smape_std\": [],\n",
    "     \"nrmse_std\": []\n",
    "}\n",
    "\n",
    "final_result[\"rmse\"].append(round(statistics.mean(measures['rmse']),3))\n",
    "final_result[\"mape\"].append(round(statistics.mean(measures['mape']),3))\n",
    "final_result[\"smape\"].append(round(statistics.mean(measures['smape']),3))\n",
    "final_result[\"mae\"].append(round(statistics.mean(measures['mae']),3))\n",
    "final_result[\"nrmse\"].append(round(statistics.mean(measures['nrmse']),3))\n",
    "\n",
    "final_result[\"rmse_std\"].append(round(statistics.stdev(measures['rmse']),3))\n",
    "final_result[\"mape_std\"].append(round(statistics.stdev(measures['mape']),3))\n",
    "final_result[\"smape_std\"].append(round(statistics.stdev(measures['smape']),3))\n",
    "final_result[\"mae_std\"].append(round(statistics.stdev(measures['mae']),3))\n",
    "final_result[\"nrmse_std\"].append(round(statistics.stdev(measures['nrmse']),3))\n",
    "        \n",
    "final_measures_pca = pd.DataFrame(final_result)\n",
    "\n",
    "print(\"Mean Statistics SARIMAX (test): \")\n",
    "final_measures_pca"
   ]
  },
  {
   "cell_type": "code",
   "execution_count": 17,
   "id": "forced-sender",
   "metadata": {},
   "outputs": [],
   "source": [
    "#final_measures_pca.to_csv (r'sarimax_hpc_30mim.csv', index = False, header=True)"
   ]
  },
  {
   "cell_type": "code",
   "execution_count": 31,
   "id": "connected-calibration",
   "metadata": {},
   "outputs": [],
   "source": [
    "final_measures_pca.to_csv (r'sarimax_hpc_1mim.csv', index = False, header=True)"
   ]
  },
  {
   "cell_type": "code",
   "execution_count": null,
   "id": "foreign-initial",
   "metadata": {},
   "outputs": [],
   "source": []
  }
 ],
 "metadata": {
  "kernelspec": {
   "display_name": "Python 3",
   "language": "python",
   "name": "python3"
  },
  "language_info": {
   "codemirror_mode": {
    "name": "ipython",
    "version": 3
   },
   "file_extension": ".py",
   "mimetype": "text/x-python",
   "name": "python",
   "nbconvert_exporter": "python",
   "pygments_lexer": "ipython3",
   "version": "3.8.5"
  }
 },
 "nbformat": 4,
 "nbformat_minor": 5
}
