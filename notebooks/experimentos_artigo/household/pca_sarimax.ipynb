{
 "cells": [
  {
   "cell_type": "code",
   "execution_count": 1,
   "id": "vocational-contamination",
   "metadata": {},
   "outputs": [],
   "source": [
    "import sys\n",
    "sys.path.append(\"/home/hugo/projetos-doutorado/Appliance-Energy-Prediction\")\n",
    "import pandas as pd\n",
    "from pca_fts.PcaSarimax import PcaSarimax\n",
    "from pyFTS.benchmarks import Measures\n",
    "import matplotlib.pyplot as plt\n",
    "from pyFTS.common import Util\n",
    "import datetime\n",
    "import statistics\n",
    "import math\n",
    "import numpy as np\n",
    "from sklearn.metrics import mean_absolute_error\n",
    "from sklearn.metrics import r2_score"
   ]
  },
  {
   "cell_type": "markdown",
   "id": "clear-group",
   "metadata": {},
   "source": [
    "## Aux functions"
   ]
  },
  {
   "cell_type": "code",
   "execution_count": 2,
   "id": "welcome-dictionary",
   "metadata": {},
   "outputs": [],
   "source": [
    "def sample_first_prows(data, perc=0.75):\n",
    "    return data.head(int(len(data)*(perc)))"
   ]
  },
  {
   "cell_type": "code",
   "execution_count": 3,
   "id": "affecting-clearing",
   "metadata": {},
   "outputs": [],
   "source": [
    "# convert series to supervised learning\n",
    "def series_to_supervised_miso(data, n_in, n_out, endog_var, dropnan=True):\n",
    "\t\"\"\"\n",
    "\tFrame a time series as a supervised learning dataset.\n",
    "\tArguments:\n",
    "\t\tdata: Sequence of observations as a list or NumPy array.\n",
    "\t\tn_in: Number of lag observations as input (X).\n",
    "\t\tn_out: Number of observations as output (y).\n",
    "\t\tdropnan: Boolean whether or not to drop rows with NaN values.\n",
    "\tReturns:\n",
    "\t\tPandas DataFrame of series framed for supervised learning.\n",
    "\t\"\"\"\n",
    "\tn_vars = 1 if type(data) is list else data.shape[1]\n",
    "\tdf = pd.DataFrame(data)\n",
    "\tcols, names = list(), list()\n",
    "\t# input sequence (t-n, ... t-1)\n",
    "\tfor i in range(n_in, 0, -1):\n",
    "\t\tcols.append(df.shift(i))\n",
    "\t\tnames += [(df.columns[j]+'(t-%d)' % (i)) for j in range(n_vars)]\n",
    "\t# forecast sequence (t, t+1, ... t+n)\n",
    "\tfor i in range(0, n_out):\n",
    "\t\tcols.append(df[endog_var].shift(-i))\n",
    "\t\tif i == 0:\n",
    "\t\t\tnames += [(endog_var+'(t)')]\n",
    "\t\telse:\n",
    "\t\t\tnames += [(endog_var+'(t+%d)' % (i))]\n",
    "\t# put it all together\n",
    "\tagg = pd.concat(cols, axis=1)\n",
    "\tagg.columns = names\n",
    "\t# drop rows with NaN values\n",
    "\tif dropnan:\n",
    "\t\tagg.dropna(inplace=True)\n",
    "\treturn agg"
   ]
  },
  {
   "cell_type": "code",
   "execution_count": 4,
   "id": "occupied-heritage",
   "metadata": {},
   "outputs": [],
   "source": [
    "def clean_dataset(df):\n",
    "    assert isinstance(df, pd.DataFrame) \n",
    "    df.dropna(inplace=True)\n",
    "    indices_to_keep = ~df.isin([np.nan, np.inf, -np.inf]).any(1)\n",
    "    return df[indices_to_keep].astype(np.float64)"
   ]
  },
  {
   "cell_type": "code",
   "execution_count": 5,
   "id": "marked-thursday",
   "metadata": {},
   "outputs": [],
   "source": [
    "def cal_nrmse(rmse, y):\n",
    "    x = max(y)-min(y)\n",
    "    return (rmse/x)"
   ]
  },
  {
   "cell_type": "markdown",
   "id": "rubber-underwear",
   "metadata": {},
   "source": [
    "## Dataset Household Power Consumption"
   ]
  },
  {
   "cell_type": "code",
   "execution_count": 16,
   "id": "allied-cigarette",
   "metadata": {},
   "outputs": [
    {
     "name": "stderr",
     "output_type": "stream",
     "text": [
      "/home/hugo/anaconda3/lib/python3.8/site-packages/IPython/core/interactiveshell.py:3165: DtypeWarning: Columns (2,3,4,5,6,7) have mixed types.Specify dtype option on import or set low_memory=False.\n",
      "  has_raised = await self.run_ast_nodes(code_ast.body, cell_name,\n"
     ]
    },
    {
     "data": {
      "text/html": [
       "<div>\n",
       "<style scoped>\n",
       "    .dataframe tbody tr th:only-of-type {\n",
       "        vertical-align: middle;\n",
       "    }\n",
       "\n",
       "    .dataframe tbody tr th {\n",
       "        vertical-align: top;\n",
       "    }\n",
       "\n",
       "    .dataframe thead th {\n",
       "        text-align: right;\n",
       "    }\n",
       "</style>\n",
       "<table border=\"1\" class=\"dataframe\">\n",
       "  <thead>\n",
       "    <tr style=\"text-align: right;\">\n",
       "      <th></th>\n",
       "      <th>Global_active_power</th>\n",
       "      <th>Global_reactive_power</th>\n",
       "      <th>Voltage</th>\n",
       "      <th>Global_intensity</th>\n",
       "      <th>Sub_metering_1</th>\n",
       "      <th>Sub_metering_2</th>\n",
       "      <th>Sub_metering_3</th>\n",
       "    </tr>\n",
       "  </thead>\n",
       "  <tbody>\n",
       "    <tr>\n",
       "      <th>0</th>\n",
       "      <td>4.216</td>\n",
       "      <td>0.418</td>\n",
       "      <td>234.84</td>\n",
       "      <td>18.4</td>\n",
       "      <td>0.0</td>\n",
       "      <td>1.0</td>\n",
       "      <td>17.0</td>\n",
       "    </tr>\n",
       "    <tr>\n",
       "      <th>1</th>\n",
       "      <td>5.360</td>\n",
       "      <td>0.436</td>\n",
       "      <td>233.63</td>\n",
       "      <td>23.0</td>\n",
       "      <td>0.0</td>\n",
       "      <td>1.0</td>\n",
       "      <td>16.0</td>\n",
       "    </tr>\n",
       "    <tr>\n",
       "      <th>2</th>\n",
       "      <td>5.374</td>\n",
       "      <td>0.498</td>\n",
       "      <td>233.29</td>\n",
       "      <td>23.0</td>\n",
       "      <td>0.0</td>\n",
       "      <td>2.0</td>\n",
       "      <td>17.0</td>\n",
       "    </tr>\n",
       "    <tr>\n",
       "      <th>3</th>\n",
       "      <td>5.388</td>\n",
       "      <td>0.502</td>\n",
       "      <td>233.74</td>\n",
       "      <td>23.0</td>\n",
       "      <td>0.0</td>\n",
       "      <td>1.0</td>\n",
       "      <td>17.0</td>\n",
       "    </tr>\n",
       "    <tr>\n",
       "      <th>4</th>\n",
       "      <td>3.666</td>\n",
       "      <td>0.528</td>\n",
       "      <td>235.68</td>\n",
       "      <td>15.8</td>\n",
       "      <td>0.0</td>\n",
       "      <td>1.0</td>\n",
       "      <td>17.0</td>\n",
       "    </tr>\n",
       "  </tbody>\n",
       "</table>\n",
       "</div>"
      ],
      "text/plain": [
       "   Global_active_power  Global_reactive_power  Voltage  Global_intensity  \\\n",
       "0                4.216                  0.418   234.84              18.4   \n",
       "1                5.360                  0.436   233.63              23.0   \n",
       "2                5.374                  0.498   233.29              23.0   \n",
       "3                5.388                  0.502   233.74              23.0   \n",
       "4                3.666                  0.528   235.68              15.8   \n",
       "\n",
       "   Sub_metering_1  Sub_metering_2  Sub_metering_3  \n",
       "0             0.0             1.0            17.0  \n",
       "1             0.0             1.0            16.0  \n",
       "2             0.0             2.0            17.0  \n",
       "3             0.0             1.0            17.0  \n",
       "4             0.0             1.0            17.0  "
      ]
     },
     "execution_count": 16,
     "metadata": {},
     "output_type": "execute_result"
    }
   ],
   "source": [
    "filepath = '/home/hugo/projetos-doutorado/Appliance-Energy-Prediction/data/household_power_consumption.csv'\n",
    "data = pd.read_csv(filepath, sep = \";\")\n",
    "data = data.drop(labels=['Time','Date'], axis=1)\n",
    "#data = data.loc[0: : 30] # 30 minutes\n",
    "data.dropna(inplace = True)\n",
    "data = clean_dataset(data)\n",
    "data.head()"
   ]
  },
  {
   "cell_type": "markdown",
   "id": "regional-tanzania",
   "metadata": {},
   "source": [
    "## Dataset Household Power Consumption, Lag = 1, t+1"
   ]
  },
  {
   "cell_type": "code",
   "execution_count": 17,
   "id": "statewide-banana",
   "metadata": {},
   "outputs": [
    {
     "data": {
      "text/html": [
       "<div>\n",
       "<style scoped>\n",
       "    .dataframe tbody tr th:only-of-type {\n",
       "        vertical-align: middle;\n",
       "    }\n",
       "\n",
       "    .dataframe tbody tr th {\n",
       "        vertical-align: top;\n",
       "    }\n",
       "\n",
       "    .dataframe thead th {\n",
       "        text-align: right;\n",
       "    }\n",
       "</style>\n",
       "<table border=\"1\" class=\"dataframe\">\n",
       "  <thead>\n",
       "    <tr style=\"text-align: right;\">\n",
       "      <th></th>\n",
       "      <th>Global_active_power(t-1)</th>\n",
       "      <th>Global_reactive_power(t-1)</th>\n",
       "      <th>Voltage(t-1)</th>\n",
       "      <th>Global_intensity(t-1)</th>\n",
       "      <th>Sub_metering_1(t-1)</th>\n",
       "      <th>Sub_metering_2(t-1)</th>\n",
       "      <th>Sub_metering_3(t-1)</th>\n",
       "      <th>Global_active_power(t)</th>\n",
       "    </tr>\n",
       "  </thead>\n",
       "  <tbody>\n",
       "    <tr>\n",
       "      <th>1</th>\n",
       "      <td>4.216</td>\n",
       "      <td>0.418</td>\n",
       "      <td>234.84</td>\n",
       "      <td>18.4</td>\n",
       "      <td>0.0</td>\n",
       "      <td>1.0</td>\n",
       "      <td>17.0</td>\n",
       "      <td>5.360</td>\n",
       "    </tr>\n",
       "    <tr>\n",
       "      <th>2</th>\n",
       "      <td>5.360</td>\n",
       "      <td>0.436</td>\n",
       "      <td>233.63</td>\n",
       "      <td>23.0</td>\n",
       "      <td>0.0</td>\n",
       "      <td>1.0</td>\n",
       "      <td>16.0</td>\n",
       "      <td>5.374</td>\n",
       "    </tr>\n",
       "    <tr>\n",
       "      <th>3</th>\n",
       "      <td>5.374</td>\n",
       "      <td>0.498</td>\n",
       "      <td>233.29</td>\n",
       "      <td>23.0</td>\n",
       "      <td>0.0</td>\n",
       "      <td>2.0</td>\n",
       "      <td>17.0</td>\n",
       "      <td>5.388</td>\n",
       "    </tr>\n",
       "    <tr>\n",
       "      <th>4</th>\n",
       "      <td>5.388</td>\n",
       "      <td>0.502</td>\n",
       "      <td>233.74</td>\n",
       "      <td>23.0</td>\n",
       "      <td>0.0</td>\n",
       "      <td>1.0</td>\n",
       "      <td>17.0</td>\n",
       "      <td>3.666</td>\n",
       "    </tr>\n",
       "    <tr>\n",
       "      <th>5</th>\n",
       "      <td>3.666</td>\n",
       "      <td>0.528</td>\n",
       "      <td>235.68</td>\n",
       "      <td>15.8</td>\n",
       "      <td>0.0</td>\n",
       "      <td>1.0</td>\n",
       "      <td>17.0</td>\n",
       "      <td>3.520</td>\n",
       "    </tr>\n",
       "  </tbody>\n",
       "</table>\n",
       "</div>"
      ],
      "text/plain": [
       "   Global_active_power(t-1)  Global_reactive_power(t-1)  Voltage(t-1)  \\\n",
       "1                     4.216                       0.418        234.84   \n",
       "2                     5.360                       0.436        233.63   \n",
       "3                     5.374                       0.498        233.29   \n",
       "4                     5.388                       0.502        233.74   \n",
       "5                     3.666                       0.528        235.68   \n",
       "\n",
       "   Global_intensity(t-1)  Sub_metering_1(t-1)  Sub_metering_2(t-1)  \\\n",
       "1                   18.4                  0.0                  1.0   \n",
       "2                   23.0                  0.0                  1.0   \n",
       "3                   23.0                  0.0                  2.0   \n",
       "4                   23.0                  0.0                  1.0   \n",
       "5                   15.8                  0.0                  1.0   \n",
       "\n",
       "   Sub_metering_3(t-1)  Global_active_power(t)  \n",
       "1                 17.0                   5.360  \n",
       "2                 16.0                   5.374  \n",
       "3                 17.0                   5.388  \n",
       "4                 17.0                   3.666  \n",
       "5                 17.0                   3.520  "
      ]
     },
     "execution_count": 17,
     "metadata": {},
     "output_type": "execute_result"
    }
   ],
   "source": [
    "data = series_to_supervised_miso(data, 1, 1,endog_var='Global_active_power')\n",
    "data.head()"
   ]
  },
  {
   "cell_type": "markdown",
   "id": "expected-ozone",
   "metadata": {},
   "source": [
    "## Model: PcaSarimax - PCA-SARIMAX"
   ]
  },
  {
   "cell_type": "markdown",
   "id": "destroyed-cargo",
   "metadata": {},
   "source": [
    "### Define SARIMAX parameters "
   ]
  },
  {
   "cell_type": "code",
   "execution_count": 8,
   "id": "becoming-charity",
   "metadata": {},
   "outputs": [],
   "source": [
    "pca_sarimax = PcaSarimax(n_components = 2,\n",
    "                       endogen_variable = 'Global_active_power(t-1)',\n",
    "                       order = [0, 0, 0],\n",
    "                       seasonal_order = [0,0,0,0])"
   ]
  },
  {
   "cell_type": "code",
   "execution_count": 9,
   "id": "previous-norway",
   "metadata": {},
   "outputs": [],
   "source": [
    "df_train = data.loc[:,'Global_active_power(t-1)':'Sub_metering_3(t-1)']\n",
    "train = sample_first_prows(data, perc=0.30)"
   ]
  },
  {
   "cell_type": "code",
   "execution_count": 10,
   "id": "violent-mentor",
   "metadata": {},
   "outputs": [
    {
     "data": {
      "text/html": [
       "<div>\n",
       "<style scoped>\n",
       "    .dataframe tbody tr th:only-of-type {\n",
       "        vertical-align: middle;\n",
       "    }\n",
       "\n",
       "    .dataframe tbody tr th {\n",
       "        vertical-align: top;\n",
       "    }\n",
       "\n",
       "    .dataframe thead th {\n",
       "        text-align: right;\n",
       "    }\n",
       "</style>\n",
       "<table border=\"1\" class=\"dataframe\">\n",
       "  <thead>\n",
       "    <tr style=\"text-align: right;\">\n",
       "      <th></th>\n",
       "      <th>C0</th>\n",
       "      <th>C1</th>\n",
       "      <th>Global_active_power(t-1)</th>\n",
       "    </tr>\n",
       "  </thead>\n",
       "  <tbody>\n",
       "    <tr>\n",
       "      <th>0</th>\n",
       "      <td>0.651087</td>\n",
       "      <td>0.191734</td>\n",
       "      <td>4.216</td>\n",
       "    </tr>\n",
       "    <tr>\n",
       "      <th>1</th>\n",
       "      <td>0.633207</td>\n",
       "      <td>0.144267</td>\n",
       "      <td>2.720</td>\n",
       "    </tr>\n",
       "  </tbody>\n",
       "</table>\n",
       "</div>"
      ],
      "text/plain": [
       "         C0        C1  Global_active_power(t-1)\n",
       "0  0.651087  0.191734                     4.216\n",
       "1  0.633207  0.144267                     2.720"
      ]
     },
     "execution_count": 10,
     "metadata": {},
     "output_type": "execute_result"
    }
   ],
   "source": [
    "reduced = pca_sarimax.apply_pca(train)\n",
    "reduced.head(2)"
   ]
  },
  {
   "cell_type": "code",
   "execution_count": 11,
   "id": "czech-marketplace",
   "metadata": {},
   "outputs": [
    {
     "data": {
      "text/html": [
       "<div>\n",
       "<style scoped>\n",
       "    .dataframe tbody tr th:only-of-type {\n",
       "        vertical-align: middle;\n",
       "    }\n",
       "\n",
       "    .dataframe tbody tr th {\n",
       "        vertical-align: top;\n",
       "    }\n",
       "\n",
       "    .dataframe thead th {\n",
       "        text-align: right;\n",
       "    }\n",
       "</style>\n",
       "<table border=\"1\" class=\"dataframe\">\n",
       "  <thead>\n",
       "    <tr style=\"text-align: right;\">\n",
       "      <th></th>\n",
       "      <th>C0</th>\n",
       "      <th>C1</th>\n",
       "    </tr>\n",
       "  </thead>\n",
       "  <tbody>\n",
       "    <tr>\n",
       "      <th>0</th>\n",
       "      <td>0.651087</td>\n",
       "      <td>0.191734</td>\n",
       "    </tr>\n",
       "    <tr>\n",
       "      <th>1</th>\n",
       "      <td>0.633207</td>\n",
       "      <td>0.144267</td>\n",
       "    </tr>\n",
       "  </tbody>\n",
       "</table>\n",
       "</div>"
      ],
      "text/plain": [
       "         C0        C1\n",
       "0  0.651087  0.191734\n",
       "1  0.633207  0.144267"
      ]
     },
     "execution_count": 11,
     "metadata": {},
     "output_type": "execute_result"
    }
   ],
   "source": [
    "exog = reduced.drop(labels=['Global_active_power(t-1)'], axis=1)\n",
    "exog.head(2)"
   ]
  },
  {
   "cell_type": "code",
   "execution_count": 12,
   "id": "motivated-daniel",
   "metadata": {},
   "outputs": [
    {
     "data": {
      "text/plain": [
       "0    4.216\n",
       "1    2.720\n",
       "2    3.452\n",
       "Name: Global_active_power(t-1), dtype: float64"
      ]
     },
     "execution_count": 12,
     "metadata": {},
     "output_type": "execute_result"
    }
   ],
   "source": [
    "endog = reduced['Global_active_power(t-1)']\n",
    "endog.head(3)"
   ]
  },
  {
   "cell_type": "code",
   "execution_count": 13,
   "id": "directed-democrat",
   "metadata": {},
   "outputs": [],
   "source": [
    "train_y = endog\n",
    "train_X = exog"
   ]
  },
  {
   "cell_type": "code",
   "execution_count": 14,
   "id": "electoral-morris",
   "metadata": {
    "scrolled": false
   },
   "outputs": [],
   "source": [
    "# Define arimax paraters using the embedded data \n",
    "# from pmdarima.arima import auto_arima\n",
    "# sarimax_model = auto_arima(train_y,\n",
    "#                        exogenous= train_X,\n",
    "#                        test='adf',\n",
    "#                        start_p=0,\n",
    "#                        start_q=0,\n",
    "#                        max_p=5,\n",
    "#                        max_q=5,\n",
    "#                        start_Q=0,\n",
    "#                        start_P=0,\n",
    "#                        max_P=5,\n",
    "#                        max_Q=5,\n",
    "#                        m=7,\n",
    "#                        seasonal=True,\n",
    "#                        d=None,\n",
    "#                        D=1,\n",
    "#                        max_D=5,\n",
    "#                        trace=True,\n",
    "#                        error_action='ignore',\n",
    "#                        suppress_warnings=True,\n",
    "#                        stepwise=True)\n",
    "# #                        n_fits = 50)"
   ]
  },
  {
   "cell_type": "code",
   "execution_count": 15,
   "id": "alpine-break",
   "metadata": {},
   "outputs": [],
   "source": [
    "#  ARIMA(0,0,0)(0,1,0)[7] intercept   : AIC=40774.955, Time=6.39 sec\n",
    "#  ARIMA(1,0,0)(1,1,0)[7] intercept   : AIC=33919.774, Time=26.49 sec\n",
    "#  ARIMA(0,0,1)(0,1,1)[7] intercept   : AIC=inf, Time=57.71 sec\n",
    "#  ARIMA(0,0,0)(0,1,0)[7]             : AIC=40772.955, Time=11.11 sec\n",
    "#  ARIMA(1,0,0)(0,1,0)[7] intercept   : AIC=39425.191, Time=7.92 sec\n",
    "#  ARIMA(1,0,0)(2,1,0)[7] intercept   : AIC=32398.909, Time=46.83 sec\n",
    "#  ARIMA(1,0,0)(3,1,0)[7] intercept   : AIC=31218.484, Time=64.64 sec\n",
    "#  ARIMA(1,0,0)(4,1,0)[7] intercept   : AIC=30213.416, Time=96.16 sec\n",
    "#  ARIMA(1,0,0)(5,1,0)[7] intercept   : AIC=29495.805, Time=161.14 sec"
   ]
  },
  {
   "cell_type": "markdown",
   "id": "consecutive-advice",
   "metadata": {},
   "source": [
    "### Test the model with the best parameters "
   ]
  },
  {
   "cell_type": "code",
   "execution_count": 16,
   "id": "equipped-value",
   "metadata": {},
   "outputs": [],
   "source": [
    "# pca_arimax = PcaSarimax(n_components = 2,\n",
    "#                        endogen_variable = 'Global_active_power(t-1)',\n",
    "#                        order=[4,0,0],\n",
    "#                        seasonal_order=[5,1,0,7])"
   ]
  },
  {
   "cell_type": "code",
   "execution_count": 26,
   "id": "posted-visit",
   "metadata": {},
   "outputs": [],
   "source": [
    "# df_train = data.loc[:,'Global_active_power(t-1)':'Sub_metering_3(t-1)']\n",
    "# df_test = data.loc[:,'Global_reactive_power(t-1)':'Global_active_power(t)']\n",
    "# train = sample_first_prows(df_train,0.75)\n",
    "# test = df_test.iloc[max(train.index):]"
   ]
  },
  {
   "cell_type": "code",
   "execution_count": 9,
   "id": "significant-original",
   "metadata": {},
   "outputs": [],
   "source": [
    "# model, sarimax, pca_reduced_train = pca_arimax.run_train_model(train)"
   ]
  },
  {
   "cell_type": "code",
   "execution_count": 10,
   "id": "referenced-wages",
   "metadata": {},
   "outputs": [],
   "source": [
    "# sarimax.summary()"
   ]
  },
  {
   "cell_type": "code",
   "execution_count": 11,
   "id": "innovative-albany",
   "metadata": {},
   "outputs": [],
   "source": [
    "# pca_reduced_train.head(2)"
   ]
  },
  {
   "cell_type": "code",
   "execution_count": 12,
   "id": "plain-explanation",
   "metadata": {},
   "outputs": [],
   "source": [
    "#ALtera o nome da columa porque o modelo utiliza esse label como variável endogena \n",
    "# test.rename(columns = {'use [kW](t)': 'use [kW](t-1)'}, inplace = True)\n",
    "# start = len(train)\n",
    "# end = len(train) + len(test) -1\n",
    "# forecast, pca_reduced_test = pca_arimax.run_test_model(test, sarimax,start,end)"
   ]
  },
  {
   "cell_type": "code",
   "execution_count": 13,
   "id": "veterinary-router",
   "metadata": {},
   "outputs": [],
   "source": [
    "# forecast"
   ]
  },
  {
   "cell_type": "code",
   "execution_count": 14,
   "id": "unavailable-gnome",
   "metadata": {},
   "outputs": [],
   "source": [
    "#pca_reduced_test['Appliances(t-1)'].head(2)\n",
    "# pca_reduced_test.head(5)"
   ]
  },
  {
   "cell_type": "code",
   "execution_count": 15,
   "id": "oriental-headline",
   "metadata": {},
   "outputs": [],
   "source": [
    "# print(Measures.rmse(pca_reduced_test['use [kW](t-1)'],forecast))\n",
    "# print(Measures.mape(pca_reduced_test['use [kW](t-1)'],forecast))"
   ]
  },
  {
   "cell_type": "markdown",
   "id": "plain-verification",
   "metadata": {},
   "source": [
    "## Model: PcaSarimax - PCA-SARIMAX - Final model "
   ]
  },
  {
   "cell_type": "code",
   "execution_count": 41,
   "id": "corrected-perfume",
   "metadata": {},
   "outputs": [],
   "source": [
    "# ARIMA(1,0,0)(5,1,0)[7] ==> 0.901978\t0.519373\t65.378872\t23.312508 \n",
    "# ARIMA(1,0,0)(1,1,0)[7] ==> 0.901978\t0.519373\t65.378872\t23.312508\n",
    "# ARIMA(1,0,1)(1,1,1)[7] ==> 0.901098\t0.517399\t64.944311\t22.93125\n",
    "# ARIMA(1,0,0)(1,1,1)[7] ==> 0.901256\t0.517574\t64.99313\t22.962299\n",
    "# ARIMA(1,0,1)(1,1,0)[7] ==> 0.901879\t0.519276\t65.342213\t23.30976\n",
    "# ARIMA(1,0,1)(2,1,0)[7]==> 0.901052\t0.517548\t64.931938\t22.989602"
   ]
  },
  {
   "cell_type": "code",
   "execution_count": 18,
   "id": "optimum-musician",
   "metadata": {},
   "outputs": [],
   "source": [
    "pca_sarimax = PcaSarimax(n_components = 3,\n",
    "                       endogen_variable = 'Global_active_power(t-1)',\n",
    "                       order=[1,0,1],\n",
    "                       seasonal_order=[2,1,1,7])"
   ]
  },
  {
   "cell_type": "markdown",
   "id": "reliable-future",
   "metadata": {},
   "source": [
    "## Sliding Window PyFTS: PCA-SARIMAX"
   ]
  },
  {
   "cell_type": "code",
   "execution_count": 19,
   "id": "green-possession",
   "metadata": {},
   "outputs": [
    {
     "name": "stderr",
     "output_type": "stream",
     "text": [
      "/home/hugo/anaconda3/lib/python3.8/site-packages/pandas/core/frame.py:4441: SettingWithCopyWarning: \n",
      "A value is trying to be set on a copy of a slice from a DataFrame\n",
      "\n",
      "See the caveats in the documentation: https://pandas.pydata.org/pandas-docs/stable/user_guide/indexing.html#returning-a-view-versus-a-copy\n",
      "  return super().rename(\n"
     ]
    },
    {
     "name": "stdout",
     "output_type": "stream",
     "text": [
      "--------------------\n",
      "training window 0\n"
     ]
    },
    {
     "name": "stderr",
     "output_type": "stream",
     "text": [
      "/home/hugo/anaconda3/lib/python3.8/site-packages/statsmodels/base/model.py:566: ConvergenceWarning: Maximum Likelihood optimization failed to converge. Check mle_retvals\n",
      "  warnings.warn(\"Maximum Likelihood optimization failed to \"\n"
     ]
    },
    {
     "name": "stdout",
     "output_type": "stream",
     "text": [
      "[ 10:52:01] getting statistics\n",
      "--------------------\n",
      "training window 68309\n"
     ]
    },
    {
     "name": "stderr",
     "output_type": "stream",
     "text": [
      "/home/hugo/anaconda3/lib/python3.8/site-packages/pandas/core/frame.py:4441: SettingWithCopyWarning: \n",
      "A value is trying to be set on a copy of a slice from a DataFrame\n",
      "\n",
      "See the caveats in the documentation: https://pandas.pydata.org/pandas-docs/stable/user_guide/indexing.html#returning-a-view-versus-a-copy\n",
      "  return super().rename(\n",
      "/home/hugo/anaconda3/lib/python3.8/site-packages/statsmodels/base/model.py:566: ConvergenceWarning: Maximum Likelihood optimization failed to converge. Check mle_retvals\n",
      "  warnings.warn(\"Maximum Likelihood optimization failed to \"\n"
     ]
    },
    {
     "name": "stdout",
     "output_type": "stream",
     "text": [
      "[ 10:57:55] getting statistics\n",
      "--------------------\n",
      "training window 136618\n"
     ]
    },
    {
     "name": "stderr",
     "output_type": "stream",
     "text": [
      "/home/hugo/anaconda3/lib/python3.8/site-packages/pandas/core/frame.py:4441: SettingWithCopyWarning: \n",
      "A value is trying to be set on a copy of a slice from a DataFrame\n",
      "\n",
      "See the caveats in the documentation: https://pandas.pydata.org/pandas-docs/stable/user_guide/indexing.html#returning-a-view-versus-a-copy\n",
      "  return super().rename(\n",
      "/home/hugo/anaconda3/lib/python3.8/site-packages/statsmodels/base/model.py:566: ConvergenceWarning: Maximum Likelihood optimization failed to converge. Check mle_retvals\n",
      "  warnings.warn(\"Maximum Likelihood optimization failed to \"\n"
     ]
    },
    {
     "name": "stdout",
     "output_type": "stream",
     "text": [
      "[ 11:04:37] getting statistics\n",
      "--------------------\n",
      "training window 204927\n"
     ]
    },
    {
     "name": "stderr",
     "output_type": "stream",
     "text": [
      "/home/hugo/anaconda3/lib/python3.8/site-packages/pandas/core/frame.py:4441: SettingWithCopyWarning: \n",
      "A value is trying to be set on a copy of a slice from a DataFrame\n",
      "\n",
      "See the caveats in the documentation: https://pandas.pydata.org/pandas-docs/stable/user_guide/indexing.html#returning-a-view-versus-a-copy\n",
      "  return super().rename(\n",
      "/home/hugo/anaconda3/lib/python3.8/site-packages/statsmodels/base/model.py:566: ConvergenceWarning: Maximum Likelihood optimization failed to converge. Check mle_retvals\n",
      "  warnings.warn(\"Maximum Likelihood optimization failed to \"\n"
     ]
    },
    {
     "name": "stdout",
     "output_type": "stream",
     "text": [
      "[ 11:11:25] getting statistics\n",
      "--------------------\n",
      "training window 273236\n"
     ]
    },
    {
     "name": "stderr",
     "output_type": "stream",
     "text": [
      "/home/hugo/anaconda3/lib/python3.8/site-packages/pandas/core/frame.py:4441: SettingWithCopyWarning: \n",
      "A value is trying to be set on a copy of a slice from a DataFrame\n",
      "\n",
      "See the caveats in the documentation: https://pandas.pydata.org/pandas-docs/stable/user_guide/indexing.html#returning-a-view-versus-a-copy\n",
      "  return super().rename(\n",
      "/home/hugo/anaconda3/lib/python3.8/site-packages/statsmodels/base/model.py:566: ConvergenceWarning: Maximum Likelihood optimization failed to converge. Check mle_retvals\n",
      "  warnings.warn(\"Maximum Likelihood optimization failed to \"\n"
     ]
    },
    {
     "name": "stdout",
     "output_type": "stream",
     "text": [
      "[ 11:17:38] getting statistics\n",
      "--------------------\n",
      "training window 341545\n"
     ]
    },
    {
     "name": "stderr",
     "output_type": "stream",
     "text": [
      "/home/hugo/anaconda3/lib/python3.8/site-packages/pandas/core/frame.py:4441: SettingWithCopyWarning: \n",
      "A value is trying to be set on a copy of a slice from a DataFrame\n",
      "\n",
      "See the caveats in the documentation: https://pandas.pydata.org/pandas-docs/stable/user_guide/indexing.html#returning-a-view-versus-a-copy\n",
      "  return super().rename(\n",
      "/home/hugo/anaconda3/lib/python3.8/site-packages/statsmodels/base/model.py:566: ConvergenceWarning: Maximum Likelihood optimization failed to converge. Check mle_retvals\n",
      "  warnings.warn(\"Maximum Likelihood optimization failed to \"\n"
     ]
    },
    {
     "name": "stdout",
     "output_type": "stream",
     "text": [
      "[ 11:23:49] getting statistics\n",
      "--------------------\n",
      "training window 409854\n"
     ]
    },
    {
     "name": "stderr",
     "output_type": "stream",
     "text": [
      "/home/hugo/anaconda3/lib/python3.8/site-packages/pandas/core/frame.py:4441: SettingWithCopyWarning: \n",
      "A value is trying to be set on a copy of a slice from a DataFrame\n",
      "\n",
      "See the caveats in the documentation: https://pandas.pydata.org/pandas-docs/stable/user_guide/indexing.html#returning-a-view-versus-a-copy\n",
      "  return super().rename(\n",
      "/home/hugo/anaconda3/lib/python3.8/site-packages/statsmodels/base/model.py:566: ConvergenceWarning: Maximum Likelihood optimization failed to converge. Check mle_retvals\n",
      "  warnings.warn(\"Maximum Likelihood optimization failed to \"\n"
     ]
    },
    {
     "name": "stdout",
     "output_type": "stream",
     "text": [
      "[ 11:30:21] getting statistics\n",
      "--------------------\n",
      "training window 478163\n"
     ]
    },
    {
     "name": "stderr",
     "output_type": "stream",
     "text": [
      "/home/hugo/anaconda3/lib/python3.8/site-packages/pandas/core/frame.py:4441: SettingWithCopyWarning: \n",
      "A value is trying to be set on a copy of a slice from a DataFrame\n",
      "\n",
      "See the caveats in the documentation: https://pandas.pydata.org/pandas-docs/stable/user_guide/indexing.html#returning-a-view-versus-a-copy\n",
      "  return super().rename(\n",
      "/home/hugo/anaconda3/lib/python3.8/site-packages/statsmodels/base/model.py:566: ConvergenceWarning: Maximum Likelihood optimization failed to converge. Check mle_retvals\n",
      "  warnings.warn(\"Maximum Likelihood optimization failed to \"\n"
     ]
    },
    {
     "name": "stdout",
     "output_type": "stream",
     "text": [
      "[ 11:35:09] getting statistics\n",
      "--------------------\n",
      "training window 546472\n"
     ]
    },
    {
     "name": "stderr",
     "output_type": "stream",
     "text": [
      "/home/hugo/anaconda3/lib/python3.8/site-packages/pandas/core/frame.py:4441: SettingWithCopyWarning: \n",
      "A value is trying to be set on a copy of a slice from a DataFrame\n",
      "\n",
      "See the caveats in the documentation: https://pandas.pydata.org/pandas-docs/stable/user_guide/indexing.html#returning-a-view-versus-a-copy\n",
      "  return super().rename(\n",
      "/home/hugo/anaconda3/lib/python3.8/site-packages/statsmodels/base/model.py:566: ConvergenceWarning: Maximum Likelihood optimization failed to converge. Check mle_retvals\n",
      "  warnings.warn(\"Maximum Likelihood optimization failed to \"\n"
     ]
    },
    {
     "name": "stdout",
     "output_type": "stream",
     "text": [
      "[ 11:40:00] getting statistics\n",
      "--------------------\n",
      "training window 614781\n"
     ]
    },
    {
     "name": "stderr",
     "output_type": "stream",
     "text": [
      "/home/hugo/anaconda3/lib/python3.8/site-packages/pandas/core/frame.py:4441: SettingWithCopyWarning: \n",
      "A value is trying to be set on a copy of a slice from a DataFrame\n",
      "\n",
      "See the caveats in the documentation: https://pandas.pydata.org/pandas-docs/stable/user_guide/indexing.html#returning-a-view-versus-a-copy\n",
      "  return super().rename(\n",
      "/home/hugo/anaconda3/lib/python3.8/site-packages/statsmodels/base/model.py:566: ConvergenceWarning: Maximum Likelihood optimization failed to converge. Check mle_retvals\n",
      "  warnings.warn(\"Maximum Likelihood optimization failed to \"\n"
     ]
    },
    {
     "name": "stdout",
     "output_type": "stream",
     "text": [
      "[ 11:44:48] getting statistics\n",
      "--------------------\n",
      "training window 683090\n"
     ]
    },
    {
     "name": "stderr",
     "output_type": "stream",
     "text": [
      "/home/hugo/anaconda3/lib/python3.8/site-packages/pandas/core/frame.py:4441: SettingWithCopyWarning: \n",
      "A value is trying to be set on a copy of a slice from a DataFrame\n",
      "\n",
      "See the caveats in the documentation: https://pandas.pydata.org/pandas-docs/stable/user_guide/indexing.html#returning-a-view-versus-a-copy\n",
      "  return super().rename(\n",
      "/home/hugo/anaconda3/lib/python3.8/site-packages/statsmodels/base/model.py:566: ConvergenceWarning: Maximum Likelihood optimization failed to converge. Check mle_retvals\n",
      "  warnings.warn(\"Maximum Likelihood optimization failed to \"\n"
     ]
    },
    {
     "name": "stdout",
     "output_type": "stream",
     "text": [
      "[ 12:07:27] getting statistics\n",
      "--------------------\n",
      "training window 751399\n"
     ]
    },
    {
     "name": "stderr",
     "output_type": "stream",
     "text": [
      "/home/hugo/anaconda3/lib/python3.8/site-packages/pandas/core/frame.py:4441: SettingWithCopyWarning: \n",
      "A value is trying to be set on a copy of a slice from a DataFrame\n",
      "\n",
      "See the caveats in the documentation: https://pandas.pydata.org/pandas-docs/stable/user_guide/indexing.html#returning-a-view-versus-a-copy\n",
      "  return super().rename(\n",
      "/home/hugo/anaconda3/lib/python3.8/site-packages/statsmodels/base/model.py:566: ConvergenceWarning: Maximum Likelihood optimization failed to converge. Check mle_retvals\n",
      "  warnings.warn(\"Maximum Likelihood optimization failed to \"\n"
     ]
    },
    {
     "name": "stdout",
     "output_type": "stream",
     "text": [
      "[ 12:13:05] getting statistics\n",
      "--------------------\n",
      "training window 819708\n"
     ]
    },
    {
     "name": "stderr",
     "output_type": "stream",
     "text": [
      "/home/hugo/anaconda3/lib/python3.8/site-packages/pandas/core/frame.py:4441: SettingWithCopyWarning: \n",
      "A value is trying to be set on a copy of a slice from a DataFrame\n",
      "\n",
      "See the caveats in the documentation: https://pandas.pydata.org/pandas-docs/stable/user_guide/indexing.html#returning-a-view-versus-a-copy\n",
      "  return super().rename(\n",
      "/home/hugo/anaconda3/lib/python3.8/site-packages/statsmodels/base/model.py:566: ConvergenceWarning: Maximum Likelihood optimization failed to converge. Check mle_retvals\n",
      "  warnings.warn(\"Maximum Likelihood optimization failed to \"\n"
     ]
    },
    {
     "name": "stdout",
     "output_type": "stream",
     "text": [
      "[ 12:18:11] getting statistics\n",
      "--------------------\n",
      "training window 888017\n"
     ]
    },
    {
     "name": "stderr",
     "output_type": "stream",
     "text": [
      "/home/hugo/anaconda3/lib/python3.8/site-packages/pandas/core/frame.py:4441: SettingWithCopyWarning: \n",
      "A value is trying to be set on a copy of a slice from a DataFrame\n",
      "\n",
      "See the caveats in the documentation: https://pandas.pydata.org/pandas-docs/stable/user_guide/indexing.html#returning-a-view-versus-a-copy\n",
      "  return super().rename(\n",
      "/home/hugo/anaconda3/lib/python3.8/site-packages/statsmodels/base/model.py:566: ConvergenceWarning: Maximum Likelihood optimization failed to converge. Check mle_retvals\n",
      "  warnings.warn(\"Maximum Likelihood optimization failed to \"\n"
     ]
    },
    {
     "name": "stdout",
     "output_type": "stream",
     "text": [
      "[ 12:23:23] getting statistics\n",
      "--------------------\n",
      "training window 956326\n"
     ]
    },
    {
     "name": "stderr",
     "output_type": "stream",
     "text": [
      "/home/hugo/anaconda3/lib/python3.8/site-packages/pandas/core/frame.py:4441: SettingWithCopyWarning: \n",
      "A value is trying to be set on a copy of a slice from a DataFrame\n",
      "\n",
      "See the caveats in the documentation: https://pandas.pydata.org/pandas-docs/stable/user_guide/indexing.html#returning-a-view-versus-a-copy\n",
      "  return super().rename(\n",
      "/home/hugo/anaconda3/lib/python3.8/site-packages/statsmodels/base/model.py:566: ConvergenceWarning: Maximum Likelihood optimization failed to converge. Check mle_retvals\n",
      "  warnings.warn(\"Maximum Likelihood optimization failed to \"\n"
     ]
    },
    {
     "name": "stdout",
     "output_type": "stream",
     "text": [
      "[ 12:31:12] getting statistics\n",
      "--------------------\n",
      "training window 1024635\n"
     ]
    },
    {
     "name": "stderr",
     "output_type": "stream",
     "text": [
      "/home/hugo/anaconda3/lib/python3.8/site-packages/pandas/core/frame.py:4441: SettingWithCopyWarning: \n",
      "A value is trying to be set on a copy of a slice from a DataFrame\n",
      "\n",
      "See the caveats in the documentation: https://pandas.pydata.org/pandas-docs/stable/user_guide/indexing.html#returning-a-view-versus-a-copy\n",
      "  return super().rename(\n",
      "/home/hugo/anaconda3/lib/python3.8/site-packages/statsmodels/base/model.py:566: ConvergenceWarning: Maximum Likelihood optimization failed to converge. Check mle_retvals\n",
      "  warnings.warn(\"Maximum Likelihood optimization failed to \"\n"
     ]
    },
    {
     "name": "stdout",
     "output_type": "stream",
     "text": [
      "[ 12:36:41] getting statistics\n",
      "--------------------\n",
      "training window 1092944\n"
     ]
    },
    {
     "name": "stderr",
     "output_type": "stream",
     "text": [
      "/home/hugo/anaconda3/lib/python3.8/site-packages/pandas/core/frame.py:4441: SettingWithCopyWarning: \n",
      "A value is trying to be set on a copy of a slice from a DataFrame\n",
      "\n",
      "See the caveats in the documentation: https://pandas.pydata.org/pandas-docs/stable/user_guide/indexing.html#returning-a-view-versus-a-copy\n",
      "  return super().rename(\n",
      "/home/hugo/anaconda3/lib/python3.8/site-packages/statsmodels/base/model.py:566: ConvergenceWarning: Maximum Likelihood optimization failed to converge. Check mle_retvals\n",
      "  warnings.warn(\"Maximum Likelihood optimization failed to \"\n"
     ]
    },
    {
     "name": "stdout",
     "output_type": "stream",
     "text": [
      "[ 12:41:57] getting statistics\n",
      "--------------------\n",
      "training window 1161253\n"
     ]
    },
    {
     "name": "stderr",
     "output_type": "stream",
     "text": [
      "/home/hugo/anaconda3/lib/python3.8/site-packages/pandas/core/frame.py:4441: SettingWithCopyWarning: \n",
      "A value is trying to be set on a copy of a slice from a DataFrame\n",
      "\n",
      "See the caveats in the documentation: https://pandas.pydata.org/pandas-docs/stable/user_guide/indexing.html#returning-a-view-versus-a-copy\n",
      "  return super().rename(\n",
      "/home/hugo/anaconda3/lib/python3.8/site-packages/statsmodels/base/model.py:566: ConvergenceWarning: Maximum Likelihood optimization failed to converge. Check mle_retvals\n",
      "  warnings.warn(\"Maximum Likelihood optimization failed to \"\n"
     ]
    },
    {
     "name": "stdout",
     "output_type": "stream",
     "text": [
      "[ 12:47:12] getting statistics\n",
      "--------------------\n",
      "training window 1229562\n"
     ]
    },
    {
     "name": "stderr",
     "output_type": "stream",
     "text": [
      "/home/hugo/anaconda3/lib/python3.8/site-packages/pandas/core/frame.py:4441: SettingWithCopyWarning: \n",
      "A value is trying to be set on a copy of a slice from a DataFrame\n",
      "\n",
      "See the caveats in the documentation: https://pandas.pydata.org/pandas-docs/stable/user_guide/indexing.html#returning-a-view-versus-a-copy\n",
      "  return super().rename(\n",
      "/home/hugo/anaconda3/lib/python3.8/site-packages/statsmodels/base/model.py:566: ConvergenceWarning: Maximum Likelihood optimization failed to converge. Check mle_retvals\n",
      "  warnings.warn(\"Maximum Likelihood optimization failed to \"\n"
     ]
    },
    {
     "name": "stdout",
     "output_type": "stream",
     "text": [
      "[ 12:52:17] getting statistics\n",
      "--------------------\n",
      "training window 1297871\n"
     ]
    },
    {
     "name": "stderr",
     "output_type": "stream",
     "text": [
      "/home/hugo/anaconda3/lib/python3.8/site-packages/pandas/core/frame.py:4441: SettingWithCopyWarning: \n",
      "A value is trying to be set on a copy of a slice from a DataFrame\n",
      "\n",
      "See the caveats in the documentation: https://pandas.pydata.org/pandas-docs/stable/user_guide/indexing.html#returning-a-view-versus-a-copy\n",
      "  return super().rename(\n",
      "/home/hugo/anaconda3/lib/python3.8/site-packages/statsmodels/base/model.py:566: ConvergenceWarning: Maximum Likelihood optimization failed to converge. Check mle_retvals\n",
      "  warnings.warn(\"Maximum Likelihood optimization failed to \"\n"
     ]
    },
    {
     "name": "stdout",
     "output_type": "stream",
     "text": [
      "[ 12:57:51] getting statistics\n",
      "--------------------\n",
      "training window 1366180\n"
     ]
    },
    {
     "name": "stderr",
     "output_type": "stream",
     "text": [
      "/home/hugo/anaconda3/lib/python3.8/site-packages/pandas/core/frame.py:4441: SettingWithCopyWarning: \n",
      "A value is trying to be set on a copy of a slice from a DataFrame\n",
      "\n",
      "See the caveats in the documentation: https://pandas.pydata.org/pandas-docs/stable/user_guide/indexing.html#returning-a-view-versus-a-copy\n",
      "  return super().rename(\n",
      "/home/hugo/anaconda3/lib/python3.8/site-packages/statsmodels/base/model.py:566: ConvergenceWarning: Maximum Likelihood optimization failed to converge. Check mle_retvals\n",
      "  warnings.warn(\"Maximum Likelihood optimization failed to \"\n"
     ]
    },
    {
     "name": "stdout",
     "output_type": "stream",
     "text": [
      "[ 13:03:22] getting statistics\n",
      "--------------------\n",
      "training window 1434489\n"
     ]
    },
    {
     "name": "stderr",
     "output_type": "stream",
     "text": [
      "/home/hugo/anaconda3/lib/python3.8/site-packages/pandas/core/frame.py:4441: SettingWithCopyWarning: \n",
      "A value is trying to be set on a copy of a slice from a DataFrame\n",
      "\n",
      "See the caveats in the documentation: https://pandas.pydata.org/pandas-docs/stable/user_guide/indexing.html#returning-a-view-versus-a-copy\n",
      "  return super().rename(\n",
      "/home/hugo/anaconda3/lib/python3.8/site-packages/statsmodels/base/model.py:566: ConvergenceWarning: Maximum Likelihood optimization failed to converge. Check mle_retvals\n",
      "  warnings.warn(\"Maximum Likelihood optimization failed to \"\n"
     ]
    },
    {
     "name": "stdout",
     "output_type": "stream",
     "text": [
      "[ 13:08:23] getting statistics\n",
      "--------------------\n",
      "training window 1502798\n"
     ]
    },
    {
     "name": "stderr",
     "output_type": "stream",
     "text": [
      "/home/hugo/anaconda3/lib/python3.8/site-packages/pandas/core/frame.py:4441: SettingWithCopyWarning: \n",
      "A value is trying to be set on a copy of a slice from a DataFrame\n",
      "\n",
      "See the caveats in the documentation: https://pandas.pydata.org/pandas-docs/stable/user_guide/indexing.html#returning-a-view-versus-a-copy\n",
      "  return super().rename(\n",
      "/home/hugo/anaconda3/lib/python3.8/site-packages/statsmodels/base/model.py:566: ConvergenceWarning: Maximum Likelihood optimization failed to converge. Check mle_retvals\n",
      "  warnings.warn(\"Maximum Likelihood optimization failed to \"\n"
     ]
    },
    {
     "name": "stdout",
     "output_type": "stream",
     "text": [
      "[ 13:13:22] getting statistics\n",
      "--------------------\n",
      "training window 1571107\n"
     ]
    },
    {
     "name": "stderr",
     "output_type": "stream",
     "text": [
      "/home/hugo/anaconda3/lib/python3.8/site-packages/pandas/core/frame.py:4441: SettingWithCopyWarning: \n",
      "A value is trying to be set on a copy of a slice from a DataFrame\n",
      "\n",
      "See the caveats in the documentation: https://pandas.pydata.org/pandas-docs/stable/user_guide/indexing.html#returning-a-view-versus-a-copy\n",
      "  return super().rename(\n",
      "/home/hugo/anaconda3/lib/python3.8/site-packages/statsmodels/base/model.py:566: ConvergenceWarning: Maximum Likelihood optimization failed to converge. Check mle_retvals\n",
      "  warnings.warn(\"Maximum Likelihood optimization failed to \"\n"
     ]
    },
    {
     "name": "stdout",
     "output_type": "stream",
     "text": [
      "[ 13:18:39] getting statistics\n",
      "--------------------\n",
      "training window 1639416\n"
     ]
    },
    {
     "name": "stderr",
     "output_type": "stream",
     "text": [
      "/home/hugo/anaconda3/lib/python3.8/site-packages/pandas/core/frame.py:4441: SettingWithCopyWarning: \n",
      "A value is trying to be set on a copy of a slice from a DataFrame\n",
      "\n",
      "See the caveats in the documentation: https://pandas.pydata.org/pandas-docs/stable/user_guide/indexing.html#returning-a-view-versus-a-copy\n",
      "  return super().rename(\n",
      "/home/hugo/anaconda3/lib/python3.8/site-packages/statsmodels/base/model.py:566: ConvergenceWarning: Maximum Likelihood optimization failed to converge. Check mle_retvals\n",
      "  warnings.warn(\"Maximum Likelihood optimization failed to \"\n"
     ]
    },
    {
     "name": "stdout",
     "output_type": "stream",
     "text": [
      "[ 13:23:43] getting statistics\n",
      "--------------------\n",
      "training window 1707725\n"
     ]
    },
    {
     "name": "stderr",
     "output_type": "stream",
     "text": [
      "/home/hugo/anaconda3/lib/python3.8/site-packages/pandas/core/frame.py:4441: SettingWithCopyWarning: \n",
      "A value is trying to be set on a copy of a slice from a DataFrame\n",
      "\n",
      "See the caveats in the documentation: https://pandas.pydata.org/pandas-docs/stable/user_guide/indexing.html#returning-a-view-versus-a-copy\n",
      "  return super().rename(\n",
      "/home/hugo/anaconda3/lib/python3.8/site-packages/statsmodels/base/model.py:566: ConvergenceWarning: Maximum Likelihood optimization failed to converge. Check mle_retvals\n",
      "  warnings.warn(\"Maximum Likelihood optimization failed to \"\n"
     ]
    },
    {
     "name": "stdout",
     "output_type": "stream",
     "text": [
      "[ 13:29:03] getting statistics\n",
      "--------------------\n",
      "training window 1776034\n"
     ]
    },
    {
     "name": "stderr",
     "output_type": "stream",
     "text": [
      "/home/hugo/anaconda3/lib/python3.8/site-packages/pandas/core/frame.py:4441: SettingWithCopyWarning: \n",
      "A value is trying to be set on a copy of a slice from a DataFrame\n",
      "\n",
      "See the caveats in the documentation: https://pandas.pydata.org/pandas-docs/stable/user_guide/indexing.html#returning-a-view-versus-a-copy\n",
      "  return super().rename(\n",
      "/home/hugo/anaconda3/lib/python3.8/site-packages/statsmodels/base/model.py:566: ConvergenceWarning: Maximum Likelihood optimization failed to converge. Check mle_retvals\n",
      "  warnings.warn(\"Maximum Likelihood optimization failed to \"\n"
     ]
    },
    {
     "name": "stdout",
     "output_type": "stream",
     "text": [
      "[ 13:34:41] getting statistics\n",
      "--------------------\n",
      "training window 1844343\n"
     ]
    },
    {
     "name": "stderr",
     "output_type": "stream",
     "text": [
      "/home/hugo/anaconda3/lib/python3.8/site-packages/pandas/core/frame.py:4441: SettingWithCopyWarning: \n",
      "A value is trying to be set on a copy of a slice from a DataFrame\n",
      "\n",
      "See the caveats in the documentation: https://pandas.pydata.org/pandas-docs/stable/user_guide/indexing.html#returning-a-view-versus-a-copy\n",
      "  return super().rename(\n",
      "/home/hugo/anaconda3/lib/python3.8/site-packages/statsmodels/base/model.py:566: ConvergenceWarning: Maximum Likelihood optimization failed to converge. Check mle_retvals\n",
      "  warnings.warn(\"Maximum Likelihood optimization failed to \"\n"
     ]
    },
    {
     "name": "stdout",
     "output_type": "stream",
     "text": [
      "[ 13:40:44] getting statistics\n",
      "--------------------\n",
      "training window 1912652\n"
     ]
    },
    {
     "name": "stderr",
     "output_type": "stream",
     "text": [
      "/home/hugo/anaconda3/lib/python3.8/site-packages/pandas/core/frame.py:4441: SettingWithCopyWarning: \n",
      "A value is trying to be set on a copy of a slice from a DataFrame\n",
      "\n",
      "See the caveats in the documentation: https://pandas.pydata.org/pandas-docs/stable/user_guide/indexing.html#returning-a-view-versus-a-copy\n",
      "  return super().rename(\n",
      "/home/hugo/anaconda3/lib/python3.8/site-packages/statsmodels/base/model.py:566: ConvergenceWarning: Maximum Likelihood optimization failed to converge. Check mle_retvals\n",
      "  warnings.warn(\"Maximum Likelihood optimization failed to \"\n"
     ]
    },
    {
     "name": "stdout",
     "output_type": "stream",
     "text": [
      "[ 13:46:31] getting statistics\n",
      "--------------------\n",
      "training window 1980961\n"
     ]
    },
    {
     "name": "stderr",
     "output_type": "stream",
     "text": [
      "/home/hugo/anaconda3/lib/python3.8/site-packages/pandas/core/frame.py:4441: SettingWithCopyWarning: \n",
      "A value is trying to be set on a copy of a slice from a DataFrame\n",
      "\n",
      "See the caveats in the documentation: https://pandas.pydata.org/pandas-docs/stable/user_guide/indexing.html#returning-a-view-versus-a-copy\n",
      "  return super().rename(\n",
      "/home/hugo/anaconda3/lib/python3.8/site-packages/statsmodels/base/model.py:566: ConvergenceWarning: Maximum Likelihood optimization failed to converge. Check mle_retvals\n",
      "  warnings.warn(\"Maximum Likelihood optimization failed to \"\n"
     ]
    },
    {
     "name": "stdout",
     "output_type": "stream",
     "text": [
      "[ 13:53:13] getting statistics\n"
     ]
    }
   ],
   "source": [
    "result = {\n",
    "     \"window\": [],\n",
    "     \"rmse\": [],\n",
    "     \"mae\": [],\n",
    "     \"mape\": [],\n",
    "     \"smape\": [],\n",
    "     \"nrmse\":[]\n",
    "}\n",
    "\n",
    "tam = len(data)\n",
    "n_windows = 30\n",
    "windows_length = math.floor(tam / n_windows)\n",
    "for ct, ttrain, ttest in Util.sliding_window(data, windows_length, 0.75, inc=1):\n",
    "    if len(ttest) > 0:\n",
    "\n",
    "        data_train = ttrain.loc[:,'Global_active_power(t-1)':'Sub_metering_3(t-1)']\n",
    "        data_test = ttest.loc[:,'Global_reactive_power(t-1)':'Global_active_power(t)']\n",
    "        \n",
    "        #ALtera o nome da columa porque o modelo utiliza esse label como variável endogena \n",
    "        data_test.rename(columns = {'Global_active_power(t)': 'Global_active_power(t-1)'}, inplace = True)\n",
    "        \n",
    "        start = len(data_train)\n",
    "        end = len(data_train)+ len(data_test) -1\n",
    "        \n",
    "        print('-' * 20)\n",
    "        print(f'training window {(ct)}')\n",
    "        model, sarimax, pca_reduced_train = pca_sarimax.run_train_model(data_train)\n",
    "        forecast, pca_reduced_test = pca_sarimax.run_test_model(data_test,sarimax,start,end)\n",
    "        \n",
    "        print(\"[{0: %H:%M:%S}]\".format(datetime.datetime.now()) + f\" getting statistics\")\n",
    "        rmse = Measures.rmse(pca_reduced_test['Global_active_power(t-1)'],forecast)\n",
    "        mape = Measures.mape(pca_reduced_test['Global_active_power(t-1)'],forecast)\n",
    "        smape = Measures.smape(pca_reduced_test['Global_active_power(t-1)'],forecast)\n",
    "        \n",
    "#         forecast = pd.DataFrame(forecast)\n",
    "#         forecast.fillna(forecast.mean(),inplace=True)\n",
    "#         forecast = np.array(forecast).reshape(-1)\n",
    "        mae = mean_absolute_error(pca_reduced_test['Global_active_power(t-1)'], forecast)\n",
    "    \n",
    "        # Grafico de comparação Original x Previsto para cada janela\n",
    "#         fig, ax = plt.subplots(nrows=1, ncols=1, figsize=[15, 3])\n",
    "#         ax.plot(pca_reduced_test['Global_active_power(t-1)'], label='Original')\n",
    "#         ax.plot(forecast, label='Forecast')\n",
    "#         handles, labels = ax.get_legend_handles_labels()\n",
    "#         lgd = ax.legend(handles, labels, loc=2, bbox_to_anchor=(1, 1))\n",
    "#         plt.show()\n",
    "        \n",
    "        nrmse = cal_nrmse(rmse, pca_reduced_test['Global_active_power(t-1)'])\n",
    "                \n",
    "        result[\"rmse\"].append(round(rmse,3))\n",
    "        result[\"mae\"].append(round(mae,3))\n",
    "        result[\"mape\"].append(round(mape,3))\n",
    "        result[\"smape\"].append(round(smape,3))\n",
    "        result[\"nrmse\"].append(round(nrmse,3))\n",
    "        result[\"window\"].append(ct)\n",
    "        \n",
    "measures = pd.DataFrame(result)"
   ]
  },
  {
   "cell_type": "code",
   "execution_count": 20,
   "id": "czech-tulsa",
   "metadata": {
    "scrolled": false
   },
   "outputs": [
    {
     "data": {
      "text/html": [
       "<div>\n",
       "<style scoped>\n",
       "    .dataframe tbody tr th:only-of-type {\n",
       "        vertical-align: middle;\n",
       "    }\n",
       "\n",
       "    .dataframe tbody tr th {\n",
       "        vertical-align: top;\n",
       "    }\n",
       "\n",
       "    .dataframe thead th {\n",
       "        text-align: right;\n",
       "    }\n",
       "</style>\n",
       "<table border=\"1\" class=\"dataframe\">\n",
       "  <thead>\n",
       "    <tr style=\"text-align: right;\">\n",
       "      <th></th>\n",
       "      <th>window</th>\n",
       "      <th>rmse</th>\n",
       "      <th>mae</th>\n",
       "      <th>mape</th>\n",
       "      <th>smape</th>\n",
       "      <th>nrmse</th>\n",
       "    </tr>\n",
       "  </thead>\n",
       "  <tbody>\n",
       "    <tr>\n",
       "      <th>0</th>\n",
       "      <td>0</td>\n",
       "      <td>0.394</td>\n",
       "      <td>0.172</td>\n",
       "      <td>16.528</td>\n",
       "      <td>6.998</td>\n",
       "      <td>0.050</td>\n",
       "    </tr>\n",
       "    <tr>\n",
       "      <th>1</th>\n",
       "      <td>68309</td>\n",
       "      <td>0.323</td>\n",
       "      <td>0.119</td>\n",
       "      <td>8.533</td>\n",
       "      <td>3.983</td>\n",
       "      <td>0.041</td>\n",
       "    </tr>\n",
       "    <tr>\n",
       "      <th>2</th>\n",
       "      <td>136618</td>\n",
       "      <td>0.327</td>\n",
       "      <td>0.117</td>\n",
       "      <td>14.122</td>\n",
       "      <td>5.955</td>\n",
       "      <td>0.043</td>\n",
       "    </tr>\n",
       "    <tr>\n",
       "      <th>3</th>\n",
       "      <td>204927</td>\n",
       "      <td>0.265</td>\n",
       "      <td>0.093</td>\n",
       "      <td>15.215</td>\n",
       "      <td>6.619</td>\n",
       "      <td>0.037</td>\n",
       "    </tr>\n",
       "    <tr>\n",
       "      <th>4</th>\n",
       "      <td>273236</td>\n",
       "      <td>0.198</td>\n",
       "      <td>0.065</td>\n",
       "      <td>11.172</td>\n",
       "      <td>5.297</td>\n",
       "      <td>0.027</td>\n",
       "    </tr>\n",
       "    <tr>\n",
       "      <th>5</th>\n",
       "      <td>341545</td>\n",
       "      <td>0.283</td>\n",
       "      <td>0.101</td>\n",
       "      <td>11.320</td>\n",
       "      <td>5.283</td>\n",
       "      <td>0.038</td>\n",
       "    </tr>\n",
       "    <tr>\n",
       "      <th>6</th>\n",
       "      <td>409854</td>\n",
       "      <td>0.294</td>\n",
       "      <td>0.108</td>\n",
       "      <td>8.339</td>\n",
       "      <td>3.857</td>\n",
       "      <td>0.032</td>\n",
       "    </tr>\n",
       "    <tr>\n",
       "      <th>7</th>\n",
       "      <td>478163</td>\n",
       "      <td>0.330</td>\n",
       "      <td>0.129</td>\n",
       "      <td>8.473</td>\n",
       "      <td>3.870</td>\n",
       "      <td>0.035</td>\n",
       "    </tr>\n",
       "    <tr>\n",
       "      <th>8</th>\n",
       "      <td>546472</td>\n",
       "      <td>0.256</td>\n",
       "      <td>0.095</td>\n",
       "      <td>8.453</td>\n",
       "      <td>3.936</td>\n",
       "      <td>0.038</td>\n",
       "    </tr>\n",
       "    <tr>\n",
       "      <th>9</th>\n",
       "      <td>614781</td>\n",
       "      <td>0.289</td>\n",
       "      <td>0.102</td>\n",
       "      <td>8.795</td>\n",
       "      <td>4.078</td>\n",
       "      <td>0.043</td>\n",
       "    </tr>\n",
       "    <tr>\n",
       "      <th>10</th>\n",
       "      <td>683090</td>\n",
       "      <td>0.277</td>\n",
       "      <td>0.101</td>\n",
       "      <td>11.548</td>\n",
       "      <td>5.001</td>\n",
       "      <td>0.031</td>\n",
       "    </tr>\n",
       "    <tr>\n",
       "      <th>11</th>\n",
       "      <td>751399</td>\n",
       "      <td>0.268</td>\n",
       "      <td>0.105</td>\n",
       "      <td>16.010</td>\n",
       "      <td>6.764</td>\n",
       "      <td>0.038</td>\n",
       "    </tr>\n",
       "    <tr>\n",
       "      <th>12</th>\n",
       "      <td>819708</td>\n",
       "      <td>0.080</td>\n",
       "      <td>0.037</td>\n",
       "      <td>22.895</td>\n",
       "      <td>10.862</td>\n",
       "      <td>0.077</td>\n",
       "    </tr>\n",
       "    <tr>\n",
       "      <th>13</th>\n",
       "      <td>888017</td>\n",
       "      <td>0.276</td>\n",
       "      <td>0.104</td>\n",
       "      <td>9.285</td>\n",
       "      <td>4.230</td>\n",
       "      <td>0.034</td>\n",
       "    </tr>\n",
       "    <tr>\n",
       "      <th>14</th>\n",
       "      <td>956326</td>\n",
       "      <td>0.300</td>\n",
       "      <td>0.119</td>\n",
       "      <td>8.888</td>\n",
       "      <td>4.010</td>\n",
       "      <td>0.036</td>\n",
       "    </tr>\n",
       "    <tr>\n",
       "      <th>15</th>\n",
       "      <td>1024635</td>\n",
       "      <td>0.265</td>\n",
       "      <td>0.095</td>\n",
       "      <td>9.097</td>\n",
       "      <td>4.135</td>\n",
       "      <td>0.031</td>\n",
       "    </tr>\n",
       "    <tr>\n",
       "      <th>16</th>\n",
       "      <td>1092944</td>\n",
       "      <td>0.285</td>\n",
       "      <td>0.100</td>\n",
       "      <td>8.569</td>\n",
       "      <td>3.924</td>\n",
       "      <td>0.026</td>\n",
       "    </tr>\n",
       "    <tr>\n",
       "      <th>17</th>\n",
       "      <td>1161253</td>\n",
       "      <td>0.275</td>\n",
       "      <td>0.102</td>\n",
       "      <td>8.447</td>\n",
       "      <td>3.935</td>\n",
       "      <td>0.036</td>\n",
       "    </tr>\n",
       "    <tr>\n",
       "      <th>18</th>\n",
       "      <td>1229562</td>\n",
       "      <td>0.233</td>\n",
       "      <td>0.085</td>\n",
       "      <td>11.152</td>\n",
       "      <td>4.962</td>\n",
       "      <td>0.027</td>\n",
       "    </tr>\n",
       "    <tr>\n",
       "      <th>19</th>\n",
       "      <td>1297871</td>\n",
       "      <td>0.137</td>\n",
       "      <td>0.054</td>\n",
       "      <td>12.086</td>\n",
       "      <td>5.374</td>\n",
       "      <td>0.030</td>\n",
       "    </tr>\n",
       "    <tr>\n",
       "      <th>20</th>\n",
       "      <td>1366180</td>\n",
       "      <td>0.252</td>\n",
       "      <td>0.099</td>\n",
       "      <td>13.397</td>\n",
       "      <td>5.919</td>\n",
       "      <td>0.038</td>\n",
       "    </tr>\n",
       "    <tr>\n",
       "      <th>21</th>\n",
       "      <td>1434489</td>\n",
       "      <td>0.286</td>\n",
       "      <td>0.112</td>\n",
       "      <td>10.034</td>\n",
       "      <td>4.590</td>\n",
       "      <td>0.034</td>\n",
       "    </tr>\n",
       "    <tr>\n",
       "      <th>22</th>\n",
       "      <td>1502798</td>\n",
       "      <td>0.295</td>\n",
       "      <td>0.116</td>\n",
       "      <td>9.077</td>\n",
       "      <td>4.144</td>\n",
       "      <td>0.036</td>\n",
       "    </tr>\n",
       "    <tr>\n",
       "      <th>23</th>\n",
       "      <td>1571107</td>\n",
       "      <td>0.257</td>\n",
       "      <td>0.098</td>\n",
       "      <td>6.004</td>\n",
       "      <td>2.893</td>\n",
       "      <td>0.029</td>\n",
       "    </tr>\n",
       "    <tr>\n",
       "      <th>24</th>\n",
       "      <td>1639416</td>\n",
       "      <td>0.236</td>\n",
       "      <td>0.094</td>\n",
       "      <td>9.437</td>\n",
       "      <td>4.284</td>\n",
       "      <td>0.039</td>\n",
       "    </tr>\n",
       "    <tr>\n",
       "      <th>25</th>\n",
       "      <td>1707725</td>\n",
       "      <td>0.237</td>\n",
       "      <td>0.095</td>\n",
       "      <td>10.059</td>\n",
       "      <td>4.794</td>\n",
       "      <td>0.033</td>\n",
       "    </tr>\n",
       "    <tr>\n",
       "      <th>26</th>\n",
       "      <td>1776034</td>\n",
       "      <td>0.253</td>\n",
       "      <td>0.098</td>\n",
       "      <td>12.491</td>\n",
       "      <td>5.429</td>\n",
       "      <td>0.034</td>\n",
       "    </tr>\n",
       "    <tr>\n",
       "      <th>27</th>\n",
       "      <td>1844343</td>\n",
       "      <td>0.108</td>\n",
       "      <td>0.046</td>\n",
       "      <td>14.828</td>\n",
       "      <td>6.224</td>\n",
       "      <td>0.056</td>\n",
       "    </tr>\n",
       "    <tr>\n",
       "      <th>28</th>\n",
       "      <td>1912652</td>\n",
       "      <td>0.242</td>\n",
       "      <td>0.093</td>\n",
       "      <td>9.027</td>\n",
       "      <td>4.104</td>\n",
       "      <td>0.036</td>\n",
       "    </tr>\n",
       "    <tr>\n",
       "      <th>29</th>\n",
       "      <td>1980961</td>\n",
       "      <td>0.218</td>\n",
       "      <td>0.082</td>\n",
       "      <td>8.757</td>\n",
       "      <td>4.015</td>\n",
       "      <td>0.023</td>\n",
       "    </tr>\n",
       "  </tbody>\n",
       "</table>\n",
       "</div>"
      ],
      "text/plain": [
       "     window   rmse    mae    mape   smape  nrmse\n",
       "0         0  0.394  0.172  16.528   6.998  0.050\n",
       "1     68309  0.323  0.119   8.533   3.983  0.041\n",
       "2    136618  0.327  0.117  14.122   5.955  0.043\n",
       "3    204927  0.265  0.093  15.215   6.619  0.037\n",
       "4    273236  0.198  0.065  11.172   5.297  0.027\n",
       "5    341545  0.283  0.101  11.320   5.283  0.038\n",
       "6    409854  0.294  0.108   8.339   3.857  0.032\n",
       "7    478163  0.330  0.129   8.473   3.870  0.035\n",
       "8    546472  0.256  0.095   8.453   3.936  0.038\n",
       "9    614781  0.289  0.102   8.795   4.078  0.043\n",
       "10   683090  0.277  0.101  11.548   5.001  0.031\n",
       "11   751399  0.268  0.105  16.010   6.764  0.038\n",
       "12   819708  0.080  0.037  22.895  10.862  0.077\n",
       "13   888017  0.276  0.104   9.285   4.230  0.034\n",
       "14   956326  0.300  0.119   8.888   4.010  0.036\n",
       "15  1024635  0.265  0.095   9.097   4.135  0.031\n",
       "16  1092944  0.285  0.100   8.569   3.924  0.026\n",
       "17  1161253  0.275  0.102   8.447   3.935  0.036\n",
       "18  1229562  0.233  0.085  11.152   4.962  0.027\n",
       "19  1297871  0.137  0.054  12.086   5.374  0.030\n",
       "20  1366180  0.252  0.099  13.397   5.919  0.038\n",
       "21  1434489  0.286  0.112  10.034   4.590  0.034\n",
       "22  1502798  0.295  0.116   9.077   4.144  0.036\n",
       "23  1571107  0.257  0.098   6.004   2.893  0.029\n",
       "24  1639416  0.236  0.094   9.437   4.284  0.039\n",
       "25  1707725  0.237  0.095  10.059   4.794  0.033\n",
       "26  1776034  0.253  0.098  12.491   5.429  0.034\n",
       "27  1844343  0.108  0.046  14.828   6.224  0.056\n",
       "28  1912652  0.242  0.093   9.027   4.104  0.036\n",
       "29  1980961  0.218  0.082   8.757   4.015  0.023"
      ]
     },
     "execution_count": 20,
     "metadata": {},
     "output_type": "execute_result"
    }
   ],
   "source": [
    "measures"
   ]
  },
  {
   "cell_type": "code",
   "execution_count": 11,
   "id": "extra-following",
   "metadata": {},
   "outputs": [],
   "source": [
    "#measures.to_csv (r'win_pca_sarimax_hpc_30min.csv', index = False, header=True)"
   ]
  },
  {
   "cell_type": "code",
   "execution_count": 21,
   "id": "modular-letter",
   "metadata": {},
   "outputs": [],
   "source": [
    "measures.to_csv (r'win_pca_sarimax_hpc_1min.csv', index = False, header=True)"
   ]
  },
  {
   "cell_type": "code",
   "execution_count": 22,
   "id": "prerequisite-return",
   "metadata": {},
   "outputs": [],
   "source": [
    "### Mean Statistics PCA-SARIMAX"
   ]
  },
  {
   "cell_type": "code",
   "execution_count": 27,
   "id": "legitimate-airport",
   "metadata": {},
   "outputs": [
    {
     "name": "stdout",
     "output_type": "stream",
     "text": [
      "Mean Statistics PCA-SARIMAX (test): \n"
     ]
    },
    {
     "data": {
      "text/html": [
       "<div>\n",
       "<style scoped>\n",
       "    .dataframe tbody tr th:only-of-type {\n",
       "        vertical-align: middle;\n",
       "    }\n",
       "\n",
       "    .dataframe tbody tr th {\n",
       "        vertical-align: top;\n",
       "    }\n",
       "\n",
       "    .dataframe thead th {\n",
       "        text-align: right;\n",
       "    }\n",
       "</style>\n",
       "<table border=\"1\" class=\"dataframe\">\n",
       "  <thead>\n",
       "    <tr style=\"text-align: right;\">\n",
       "      <th></th>\n",
       "      <th>rmse</th>\n",
       "      <th>mae</th>\n",
       "      <th>mape</th>\n",
       "      <th>smape</th>\n",
       "      <th>nrmse</th>\n",
       "      <th>rmse_std</th>\n",
       "      <th>mae_std</th>\n",
       "      <th>mape_std</th>\n",
       "      <th>smape_std</th>\n",
       "      <th>nrmse_std</th>\n",
       "    </tr>\n",
       "  </thead>\n",
       "  <tbody>\n",
       "    <tr>\n",
       "      <th>0</th>\n",
       "      <td>0.258</td>\n",
       "      <td>0.098</td>\n",
       "      <td>11.068</td>\n",
       "      <td>4.982</td>\n",
       "      <td>0.037</td>\n",
       "      <td>0.064</td>\n",
       "      <td>0.025</td>\n",
       "      <td>3.449</td>\n",
       "      <td>1.505</td>\n",
       "      <td>0.01</td>\n",
       "    </tr>\n",
       "  </tbody>\n",
       "</table>\n",
       "</div>"
      ],
      "text/plain": [
       "    rmse    mae    mape  smape  nrmse  rmse_std  mae_std  mape_std  smape_std  \\\n",
       "0  0.258  0.098  11.068  4.982  0.037     0.064    0.025     3.449      1.505   \n",
       "\n",
       "   nrmse_std  \n",
       "0       0.01  "
      ]
     },
     "execution_count": 27,
     "metadata": {},
     "output_type": "execute_result"
    }
   ],
   "source": [
    "final_result = {\n",
    "     \"rmse\": [],\n",
    "     \"mae\": [],\n",
    "     \"mape\": [],\n",
    "     \"smape\": [],\n",
    "     \"nrmse\":[],\n",
    "     \"rmse_std\": [],\n",
    "     \"mae_std\": [],\n",
    "     \"mape_std\": [],\n",
    "     \"smape_std\": [],\n",
    "     \"nrmse_std\": []\n",
    "}\n",
    "\n",
    "final_result[\"rmse\"].append(round(statistics.mean(measures['rmse']),3))\n",
    "final_result[\"mape\"].append(round(statistics.mean(measures['mape']),3))\n",
    "final_result[\"smape\"].append(round(statistics.mean(measures['smape']),3))\n",
    "final_result[\"mae\"].append(round(statistics.mean(measures['mae']),3))\n",
    "final_result[\"nrmse\"].append(round(statistics.mean(measures['nrmse']),3))\n",
    "\n",
    "final_result[\"rmse_std\"].append(round(statistics.stdev(measures['rmse']),3))\n",
    "final_result[\"mape_std\"].append(round(statistics.stdev(measures['mape']),3))\n",
    "final_result[\"smape_std\"].append(round(statistics.stdev(measures['smape']),3))\n",
    "final_result[\"mae_std\"].append(round(statistics.stdev(measures['mae']),3))\n",
    "final_result[\"nrmse_std\"].append(round(statistics.stdev(measures['nrmse']),3))\n",
    "        \n",
    "final_measures_pca = pd.DataFrame(final_result)\n",
    "\n",
    "print(\"Mean Statistics PCA-SARIMAX (test): \")\n",
    "final_measures_pca"
   ]
  },
  {
   "cell_type": "code",
   "execution_count": 24,
   "id": "approximate-durham",
   "metadata": {},
   "outputs": [],
   "source": [
    "#final_measures_pca.to_csv (r'pca_sarimax_hpc_30mim.csv', index = False, header=True)"
   ]
  },
  {
   "cell_type": "code",
   "execution_count": 26,
   "id": "sustainable-maker",
   "metadata": {},
   "outputs": [],
   "source": [
    "final_measures_pca.to_csv (r'pca_sarimax_hpc_1mim.csv', index = False, header=True)"
   ]
  },
  {
   "cell_type": "code",
   "execution_count": null,
   "id": "particular-tulsa",
   "metadata": {},
   "outputs": [],
   "source": []
  }
 ],
 "metadata": {
  "kernelspec": {
   "display_name": "Python 3",
   "language": "python",
   "name": "python3"
  },
  "language_info": {
   "codemirror_mode": {
    "name": "ipython",
    "version": 3
   },
   "file_extension": ".py",
   "mimetype": "text/x-python",
   "name": "python",
   "nbconvert_exporter": "python",
   "pygments_lexer": "ipython3",
   "version": "3.8.5"
  }
 },
 "nbformat": 4,
 "nbformat_minor": 5
}
