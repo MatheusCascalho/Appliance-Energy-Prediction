{
 "cells": [
  {
   "cell_type": "code",
   "execution_count": 32,
   "id": "c1893871-1be5-452c-8178-4205d6d8c7c2",
   "metadata": {},
   "outputs": [],
   "source": [
    "import pandas as pd\n",
    "import numpy as np\n",
    "from datetime import datetime\n",
    "import matplotlib.pyplot as plt\n",
    "from statsmodels.tsa.arima.model import ARIMA\n",
    "import statsmodels.api as sm\n",
    "from pyFTS.benchmarks import Measures\n",
    "import math\n",
    "from pyFTS.common import Util\n",
    "import datetime\n",
    "import statistics\n",
    "from sklearn.preprocessing import MinMaxScaler, StandardScaler\n",
    "from pmdarima.arima import auto_arima\n",
    "from sklearn.metrics import mean_absolute_error\n",
    "from sklearn.metrics import r2_score"
   ]
  },
  {
   "cell_type": "markdown",
   "id": "manual-offset",
   "metadata": {},
   "source": [
    "## Aux functions"
   ]
  },
  {
   "cell_type": "code",
   "execution_count": 33,
   "id": "proved-output",
   "metadata": {},
   "outputs": [],
   "source": [
    "# convert series to supervised learning\n",
    "def series_to_supervised_miso(data, n_in, n_out, endog_var, dropnan=True):\n",
    "\t\"\"\"\n",
    "\tFrame a time series as a supervised learning dataset.\n",
    "\tArguments:\n",
    "\t\tdata: Sequence of observations as a list or NumPy array.\n",
    "\t\tn_in: Number of lag observations as input (X).\n",
    "\t\tn_out: Number of observations as output (y).\n",
    "\t\tdropnan: Boolean whether or not to drop rows with NaN values.\n",
    "\tReturns:\n",
    "\t\tPandas DataFrame of series framed for supervised learning.\n",
    "\t\"\"\"\n",
    "\tn_vars = 1 if type(data) is list else data.shape[1]\n",
    "\tdf = pd.DataFrame(data)\n",
    "\tcols, names = list(), list()\n",
    "\t# input sequence (t-n, ... t-1)\n",
    "\tfor i in range(n_in, 0, -1):\n",
    "\t\tcols.append(df.shift(i))\n",
    "\t\tnames += [(df.columns[j]+'(t-%d)' % (i)) for j in range(n_vars)]\n",
    "\t# forecast sequence (t, t+1, ... t+n)\n",
    "\tfor i in range(0, n_out):\n",
    "\t\tcols.append(df[endog_var].shift(-i))\n",
    "\t\tif i == 0:\n",
    "\t\t\tnames += [(endog_var+'(t)')]\n",
    "\t\telse:\n",
    "\t\t\tnames += [(endog_var+'(t+%d)' % (i))]\n",
    "\t# put it all together\n",
    "\tagg = pd.concat(cols, axis=1)\n",
    "\tagg.columns = names\n",
    "\t# drop rows with NaN values\n",
    "\tif dropnan:\n",
    "\t\tagg.dropna(inplace=True)\n",
    "\treturn agg"
   ]
  },
  {
   "cell_type": "code",
   "execution_count": 34,
   "id": "pregnant-maryland",
   "metadata": {},
   "outputs": [],
   "source": [
    "def clean_dataset(df):\n",
    "    assert isinstance(df, pd.DataFrame) \n",
    "    df.dropna(inplace=True)\n",
    "    indices_to_keep = ~df.isin([np.nan, np.inf, -np.inf]).any(1)\n",
    "    return df[indices_to_keep].astype(np.float64)"
   ]
  },
  {
   "cell_type": "markdown",
   "id": "plain-cement",
   "metadata": {},
   "source": [
    "## Dataset Smart Home with Weather information"
   ]
  },
  {
   "cell_type": "code",
   "execution_count": 4,
   "id": "4b63ff4b-f465-495e-b863-2ea7434ca0bc",
   "metadata": {
    "scrolled": true
   },
   "outputs": [
    {
     "name": "stderr",
     "output_type": "stream",
     "text": [
      "/home/hugo/anaconda3/lib/python3.8/site-packages/IPython/core/interactiveshell.py:3165: DtypeWarning: Columns (0,27) have mixed types.Specify dtype option on import or set low_memory=False.\n",
      "  has_raised = await self.run_ast_nodes(code_ast.body, cell_name,\n"
     ]
    },
    {
     "data": {
      "text/html": [
       "<div>\n",
       "<style scoped>\n",
       "    .dataframe tbody tr th:only-of-type {\n",
       "        vertical-align: middle;\n",
       "    }\n",
       "\n",
       "    .dataframe tbody tr th {\n",
       "        vertical-align: top;\n",
       "    }\n",
       "\n",
       "    .dataframe thead th {\n",
       "        text-align: right;\n",
       "    }\n",
       "</style>\n",
       "<table border=\"1\" class=\"dataframe\">\n",
       "  <thead>\n",
       "    <tr style=\"text-align: right;\">\n",
       "      <th></th>\n",
       "      <th>use [kW]</th>\n",
       "      <th>gen [kW]</th>\n",
       "      <th>Dishwasher [kW]</th>\n",
       "      <th>Furnace 1 [kW]</th>\n",
       "      <th>Furnace 2 [kW]</th>\n",
       "      <th>Home office [kW]</th>\n",
       "      <th>Fridge [kW]</th>\n",
       "      <th>Wine cellar [kW]</th>\n",
       "      <th>Garage door [kW]</th>\n",
       "      <th>Kitchen 12 [kW]</th>\n",
       "      <th>...</th>\n",
       "      <th>temperature</th>\n",
       "      <th>humidity</th>\n",
       "      <th>visibility</th>\n",
       "      <th>apparentTemperature</th>\n",
       "      <th>pressure</th>\n",
       "      <th>windSpeed</th>\n",
       "      <th>windBearing</th>\n",
       "      <th>precipIntensity</th>\n",
       "      <th>dewPoint</th>\n",
       "      <th>precipProbability</th>\n",
       "    </tr>\n",
       "  </thead>\n",
       "  <tbody>\n",
       "    <tr>\n",
       "      <th>0</th>\n",
       "      <td>0.932833</td>\n",
       "      <td>0.003483</td>\n",
       "      <td>0.000033</td>\n",
       "      <td>0.020700</td>\n",
       "      <td>0.061917</td>\n",
       "      <td>0.442633</td>\n",
       "      <td>0.124150</td>\n",
       "      <td>0.006983</td>\n",
       "      <td>0.013083</td>\n",
       "      <td>0.000417</td>\n",
       "      <td>...</td>\n",
       "      <td>36.14</td>\n",
       "      <td>0.62</td>\n",
       "      <td>10.0</td>\n",
       "      <td>29.26</td>\n",
       "      <td>1016.91</td>\n",
       "      <td>9.18</td>\n",
       "      <td>282.0</td>\n",
       "      <td>0.0</td>\n",
       "      <td>24.4</td>\n",
       "      <td>0.0</td>\n",
       "    </tr>\n",
       "    <tr>\n",
       "      <th>10</th>\n",
       "      <td>1.585083</td>\n",
       "      <td>0.003417</td>\n",
       "      <td>0.000050</td>\n",
       "      <td>0.022100</td>\n",
       "      <td>0.678733</td>\n",
       "      <td>0.440200</td>\n",
       "      <td>0.121450</td>\n",
       "      <td>0.007433</td>\n",
       "      <td>0.013583</td>\n",
       "      <td>0.000350</td>\n",
       "      <td>...</td>\n",
       "      <td>36.14</td>\n",
       "      <td>0.62</td>\n",
       "      <td>10.0</td>\n",
       "      <td>29.26</td>\n",
       "      <td>1016.91</td>\n",
       "      <td>9.18</td>\n",
       "      <td>282.0</td>\n",
       "      <td>0.0</td>\n",
       "      <td>24.4</td>\n",
       "      <td>0.0</td>\n",
       "    </tr>\n",
       "    <tr>\n",
       "      <th>20</th>\n",
       "      <td>0.533817</td>\n",
       "      <td>0.003450</td>\n",
       "      <td>0.000000</td>\n",
       "      <td>0.020633</td>\n",
       "      <td>0.062967</td>\n",
       "      <td>0.270033</td>\n",
       "      <td>0.004950</td>\n",
       "      <td>0.007033</td>\n",
       "      <td>0.013117</td>\n",
       "      <td>0.000750</td>\n",
       "      <td>...</td>\n",
       "      <td>36.14</td>\n",
       "      <td>0.62</td>\n",
       "      <td>10.0</td>\n",
       "      <td>29.26</td>\n",
       "      <td>1016.91</td>\n",
       "      <td>9.18</td>\n",
       "      <td>282.0</td>\n",
       "      <td>0.0</td>\n",
       "      <td>24.4</td>\n",
       "      <td>0.0</td>\n",
       "    </tr>\n",
       "    <tr>\n",
       "      <th>30</th>\n",
       "      <td>1.190950</td>\n",
       "      <td>0.003083</td>\n",
       "      <td>0.000217</td>\n",
       "      <td>0.387400</td>\n",
       "      <td>0.061883</td>\n",
       "      <td>0.256867</td>\n",
       "      <td>0.004933</td>\n",
       "      <td>0.101783</td>\n",
       "      <td>0.012533</td>\n",
       "      <td>0.000700</td>\n",
       "      <td>...</td>\n",
       "      <td>36.14</td>\n",
       "      <td>0.62</td>\n",
       "      <td>10.0</td>\n",
       "      <td>29.26</td>\n",
       "      <td>1016.91</td>\n",
       "      <td>9.18</td>\n",
       "      <td>282.0</td>\n",
       "      <td>0.0</td>\n",
       "      <td>24.4</td>\n",
       "      <td>0.0</td>\n",
       "    </tr>\n",
       "    <tr>\n",
       "      <th>40</th>\n",
       "      <td>1.582083</td>\n",
       "      <td>0.003067</td>\n",
       "      <td>0.000050</td>\n",
       "      <td>0.022050</td>\n",
       "      <td>0.681717</td>\n",
       "      <td>0.242433</td>\n",
       "      <td>0.005550</td>\n",
       "      <td>0.122400</td>\n",
       "      <td>0.013550</td>\n",
       "      <td>0.000567</td>\n",
       "      <td>...</td>\n",
       "      <td>36.14</td>\n",
       "      <td>0.62</td>\n",
       "      <td>10.0</td>\n",
       "      <td>29.26</td>\n",
       "      <td>1016.91</td>\n",
       "      <td>9.18</td>\n",
       "      <td>282.0</td>\n",
       "      <td>0.0</td>\n",
       "      <td>24.4</td>\n",
       "      <td>0.0</td>\n",
       "    </tr>\n",
       "  </tbody>\n",
       "</table>\n",
       "<p>5 rows × 27 columns</p>\n",
       "</div>"
      ],
      "text/plain": [
       "    use [kW]  gen [kW]  Dishwasher [kW]  Furnace 1 [kW]  Furnace 2 [kW]  \\\n",
       "0   0.932833  0.003483         0.000033        0.020700        0.061917   \n",
       "10  1.585083  0.003417         0.000050        0.022100        0.678733   \n",
       "20  0.533817  0.003450         0.000000        0.020633        0.062967   \n",
       "30  1.190950  0.003083         0.000217        0.387400        0.061883   \n",
       "40  1.582083  0.003067         0.000050        0.022050        0.681717   \n",
       "\n",
       "    Home office [kW]  Fridge [kW]  Wine cellar [kW]  Garage door [kW]  \\\n",
       "0           0.442633     0.124150          0.006983          0.013083   \n",
       "10          0.440200     0.121450          0.007433          0.013583   \n",
       "20          0.270033     0.004950          0.007033          0.013117   \n",
       "30          0.256867     0.004933          0.101783          0.012533   \n",
       "40          0.242433     0.005550          0.122400          0.013550   \n",
       "\n",
       "    Kitchen 12 [kW]  ...  temperature  humidity  visibility  \\\n",
       "0          0.000417  ...        36.14      0.62        10.0   \n",
       "10         0.000350  ...        36.14      0.62        10.0   \n",
       "20         0.000750  ...        36.14      0.62        10.0   \n",
       "30         0.000700  ...        36.14      0.62        10.0   \n",
       "40         0.000567  ...        36.14      0.62        10.0   \n",
       "\n",
       "    apparentTemperature  pressure  windSpeed  windBearing  precipIntensity  \\\n",
       "0                 29.26   1016.91       9.18        282.0              0.0   \n",
       "10                29.26   1016.91       9.18        282.0              0.0   \n",
       "20                29.26   1016.91       9.18        282.0              0.0   \n",
       "30                29.26   1016.91       9.18        282.0              0.0   \n",
       "40                29.26   1016.91       9.18        282.0              0.0   \n",
       "\n",
       "    dewPoint  precipProbability  \n",
       "0       24.4                0.0  \n",
       "10      24.4                0.0  \n",
       "20      24.4                0.0  \n",
       "30      24.4                0.0  \n",
       "40      24.4                0.0  \n",
       "\n",
       "[5 rows x 27 columns]"
      ]
     },
     "execution_count": 4,
     "metadata": {},
     "output_type": "execute_result"
    }
   ],
   "source": [
    "df = pd.read_csv('/home/hugo/projetos-doutorado/Appliance-Energy-Prediction/data/HomeC.csv')\n",
    "data = df.drop(labels=['icon','summary','cloudCover', 'House overall [kW]', 'time'], axis=1)\n",
    "data = data.loc[0: : 10]\n",
    "data\n",
    "data.dropna(inplace=True)\n",
    "data = clean_dataset(data)\n",
    "values = data.values\n",
    "data.head()"
   ]
  },
  {
   "cell_type": "markdown",
   "id": "portuguese-vietnamese",
   "metadata": {},
   "source": [
    "## Dataset Smart Home with Weather information: Preprocessing, Lag = 1, t+1"
   ]
  },
  {
   "cell_type": "code",
   "execution_count": 5,
   "id": "hungarian-shopper",
   "metadata": {},
   "outputs": [],
   "source": [
    "cols = data.columns\n",
    "list_cols = list(cols)"
   ]
  },
  {
   "cell_type": "code",
   "execution_count": 6,
   "id": "dated-aruba",
   "metadata": {},
   "outputs": [
    {
     "data": {
      "text/html": [
       "<div>\n",
       "<style scoped>\n",
       "    .dataframe tbody tr th:only-of-type {\n",
       "        vertical-align: middle;\n",
       "    }\n",
       "\n",
       "    .dataframe tbody tr th {\n",
       "        vertical-align: top;\n",
       "    }\n",
       "\n",
       "    .dataframe thead th {\n",
       "        text-align: right;\n",
       "    }\n",
       "</style>\n",
       "<table border=\"1\" class=\"dataframe\">\n",
       "  <thead>\n",
       "    <tr style=\"text-align: right;\">\n",
       "      <th></th>\n",
       "      <th>use [kW](t-1)</th>\n",
       "      <th>gen [kW](t-1)</th>\n",
       "      <th>Dishwasher [kW](t-1)</th>\n",
       "      <th>Furnace 1 [kW](t-1)</th>\n",
       "      <th>Furnace 2 [kW](t-1)</th>\n",
       "      <th>Home office [kW](t-1)</th>\n",
       "      <th>Fridge [kW](t-1)</th>\n",
       "      <th>Wine cellar [kW](t-1)</th>\n",
       "      <th>Garage door [kW](t-1)</th>\n",
       "      <th>Kitchen 12 [kW](t-1)</th>\n",
       "      <th>...</th>\n",
       "      <th>humidity(t-1)</th>\n",
       "      <th>visibility(t-1)</th>\n",
       "      <th>apparentTemperature(t-1)</th>\n",
       "      <th>pressure(t-1)</th>\n",
       "      <th>windSpeed(t-1)</th>\n",
       "      <th>windBearing(t-1)</th>\n",
       "      <th>precipIntensity(t-1)</th>\n",
       "      <th>dewPoint(t-1)</th>\n",
       "      <th>precipProbability(t-1)</th>\n",
       "      <th>use [kW](t)</th>\n",
       "    </tr>\n",
       "  </thead>\n",
       "  <tbody>\n",
       "    <tr>\n",
       "      <th>1</th>\n",
       "      <td>0.072766</td>\n",
       "      <td>0.005898</td>\n",
       "      <td>0.000024</td>\n",
       "      <td>0.010888</td>\n",
       "      <td>0.077812</td>\n",
       "      <td>0.602792</td>\n",
       "      <td>0.157918</td>\n",
       "      <td>0.005668</td>\n",
       "      <td>0.012850</td>\n",
       "      <td>0.000455</td>\n",
       "      <td>...</td>\n",
       "      <td>0.576471</td>\n",
       "      <td>1.0</td>\n",
       "      <td>0.460511</td>\n",
       "      <td>0.544238</td>\n",
       "      <td>0.400698</td>\n",
       "      <td>0.785515</td>\n",
       "      <td>0.0</td>\n",
       "      <td>0.502677</td>\n",
       "      <td>0.0</td>\n",
       "      <td>0.123647</td>\n",
       "    </tr>\n",
       "    <tr>\n",
       "      <th>2</th>\n",
       "      <td>0.123647</td>\n",
       "      <td>0.005785</td>\n",
       "      <td>0.000036</td>\n",
       "      <td>0.011633</td>\n",
       "      <td>0.853812</td>\n",
       "      <td>0.599478</td>\n",
       "      <td>0.154481</td>\n",
       "      <td>0.006034</td>\n",
       "      <td>0.013343</td>\n",
       "      <td>0.000382</td>\n",
       "      <td>...</td>\n",
       "      <td>0.576471</td>\n",
       "      <td>1.0</td>\n",
       "      <td>0.460511</td>\n",
       "      <td>0.544238</td>\n",
       "      <td>0.400698</td>\n",
       "      <td>0.785515</td>\n",
       "      <td>0.0</td>\n",
       "      <td>0.502677</td>\n",
       "      <td>0.0</td>\n",
       "      <td>0.041640</td>\n",
       "    </tr>\n",
       "    <tr>\n",
       "      <th>3</th>\n",
       "      <td>0.041640</td>\n",
       "      <td>0.005842</td>\n",
       "      <td>0.000000</td>\n",
       "      <td>0.010852</td>\n",
       "      <td>0.079133</td>\n",
       "      <td>0.367696</td>\n",
       "      <td>0.006174</td>\n",
       "      <td>0.005709</td>\n",
       "      <td>0.012882</td>\n",
       "      <td>0.000818</td>\n",
       "      <td>...</td>\n",
       "      <td>0.576471</td>\n",
       "      <td>1.0</td>\n",
       "      <td>0.460511</td>\n",
       "      <td>0.544238</td>\n",
       "      <td>0.400698</td>\n",
       "      <td>0.785515</td>\n",
       "      <td>0.0</td>\n",
       "      <td>0.502677</td>\n",
       "      <td>0.0</td>\n",
       "      <td>0.092901</td>\n",
       "    </tr>\n",
       "    <tr>\n",
       "      <th>4</th>\n",
       "      <td>0.092901</td>\n",
       "      <td>0.005221</td>\n",
       "      <td>0.000155</td>\n",
       "      <td>0.205963</td>\n",
       "      <td>0.077770</td>\n",
       "      <td>0.349762</td>\n",
       "      <td>0.006153</td>\n",
       "      <td>0.082798</td>\n",
       "      <td>0.012307</td>\n",
       "      <td>0.000764</td>\n",
       "      <td>...</td>\n",
       "      <td>0.576471</td>\n",
       "      <td>1.0</td>\n",
       "      <td>0.460511</td>\n",
       "      <td>0.544238</td>\n",
       "      <td>0.400698</td>\n",
       "      <td>0.785515</td>\n",
       "      <td>0.0</td>\n",
       "      <td>0.502677</td>\n",
       "      <td>0.0</td>\n",
       "      <td>0.123413</td>\n",
       "    </tr>\n",
       "    <tr>\n",
       "      <th>5</th>\n",
       "      <td>0.123413</td>\n",
       "      <td>0.005193</td>\n",
       "      <td>0.000036</td>\n",
       "      <td>0.011606</td>\n",
       "      <td>0.857565</td>\n",
       "      <td>0.330102</td>\n",
       "      <td>0.006938</td>\n",
       "      <td>0.099571</td>\n",
       "      <td>0.013310</td>\n",
       "      <td>0.000618</td>\n",
       "      <td>...</td>\n",
       "      <td>0.576471</td>\n",
       "      <td>1.0</td>\n",
       "      <td>0.460511</td>\n",
       "      <td>0.544238</td>\n",
       "      <td>0.400698</td>\n",
       "      <td>0.785515</td>\n",
       "      <td>0.0</td>\n",
       "      <td>0.502677</td>\n",
       "      <td>0.0</td>\n",
       "      <td>0.065290</td>\n",
       "    </tr>\n",
       "  </tbody>\n",
       "</table>\n",
       "<p>5 rows × 28 columns</p>\n",
       "</div>"
      ],
      "text/plain": [
       "   use [kW](t-1)  gen [kW](t-1)  Dishwasher [kW](t-1)  Furnace 1 [kW](t-1)  \\\n",
       "1       0.072766       0.005898              0.000024             0.010888   \n",
       "2       0.123647       0.005785              0.000036             0.011633   \n",
       "3       0.041640       0.005842              0.000000             0.010852   \n",
       "4       0.092901       0.005221              0.000155             0.205963   \n",
       "5       0.123413       0.005193              0.000036             0.011606   \n",
       "\n",
       "   Furnace 2 [kW](t-1)  Home office [kW](t-1)  Fridge [kW](t-1)  \\\n",
       "1             0.077812               0.602792          0.157918   \n",
       "2             0.853812               0.599478          0.154481   \n",
       "3             0.079133               0.367696          0.006174   \n",
       "4             0.077770               0.349762          0.006153   \n",
       "5             0.857565               0.330102          0.006938   \n",
       "\n",
       "   Wine cellar [kW](t-1)  Garage door [kW](t-1)  Kitchen 12 [kW](t-1)  ...  \\\n",
       "1               0.005668               0.012850              0.000455  ...   \n",
       "2               0.006034               0.013343              0.000382  ...   \n",
       "3               0.005709               0.012882              0.000818  ...   \n",
       "4               0.082798               0.012307              0.000764  ...   \n",
       "5               0.099571               0.013310              0.000618  ...   \n",
       "\n",
       "   humidity(t-1)  visibility(t-1)  apparentTemperature(t-1)  pressure(t-1)  \\\n",
       "1       0.576471              1.0                  0.460511       0.544238   \n",
       "2       0.576471              1.0                  0.460511       0.544238   \n",
       "3       0.576471              1.0                  0.460511       0.544238   \n",
       "4       0.576471              1.0                  0.460511       0.544238   \n",
       "5       0.576471              1.0                  0.460511       0.544238   \n",
       "\n",
       "   windSpeed(t-1)  windBearing(t-1)  precipIntensity(t-1)  dewPoint(t-1)  \\\n",
       "1        0.400698          0.785515                   0.0       0.502677   \n",
       "2        0.400698          0.785515                   0.0       0.502677   \n",
       "3        0.400698          0.785515                   0.0       0.502677   \n",
       "4        0.400698          0.785515                   0.0       0.502677   \n",
       "5        0.400698          0.785515                   0.0       0.502677   \n",
       "\n",
       "   precipProbability(t-1)  use [kW](t)  \n",
       "1                     0.0     0.123647  \n",
       "2                     0.0     0.041640  \n",
       "3                     0.0     0.092901  \n",
       "4                     0.0     0.123413  \n",
       "5                     0.0     0.065290  \n",
       "\n",
       "[5 rows x 28 columns]"
      ]
     },
     "execution_count": 6,
     "metadata": {},
     "output_type": "execute_result"
    }
   ],
   "source": [
    "# normalize features\n",
    "scaler = MinMaxScaler()\n",
    "scaled = scaler.fit_transform(values)\n",
    "df_scaled = pd.DataFrame(scaled, columns=list_cols)\n",
    "# frame as supervised learning\n",
    "data = series_to_supervised_miso(df_scaled, 1, 1,endog_var='use [kW]')\n",
    "data.head()"
   ]
  },
  {
   "cell_type": "markdown",
   "id": "interesting-detection",
   "metadata": {},
   "source": [
    "## Model: SARIMAX"
   ]
  },
  {
   "cell_type": "markdown",
   "id": "sufficient-plain",
   "metadata": {},
   "source": [
    "### Define SARIMAX parameters"
   ]
  },
  {
   "cell_type": "code",
   "execution_count": 7,
   "id": "selective-season",
   "metadata": {},
   "outputs": [
    {
     "data": {
      "text/plain": [
       "(50390, 28)"
      ]
     },
     "execution_count": 7,
     "metadata": {},
     "output_type": "execute_result"
    }
   ],
   "source": [
    "values = data.values\n",
    "values.shape"
   ]
  },
  {
   "cell_type": "code",
   "execution_count": 8,
   "id": "9ca14fe9-544f-418b-ba92-c9365a4506c3",
   "metadata": {},
   "outputs": [
    {
     "name": "stdout",
     "output_type": "stream",
     "text": [
      "12598\n"
     ]
    }
   ],
   "source": [
    "values = data.values\n",
    "train_size=int(len(values)*0.75)\n",
    "test_size = int(len(values)) - train_size\n",
    "print(test_size)"
   ]
  },
  {
   "cell_type": "code",
   "execution_count": 9,
   "id": "invalid-heart",
   "metadata": {},
   "outputs": [
    {
     "name": "stdout",
     "output_type": "stream",
     "text": [
      "(37792, 27) (37792,) (12598, 27) (12598,)\n"
     ]
    }
   ],
   "source": [
    "# split into train and test sets\n",
    "train_X, train_y = values[:train_size], values[:train_size]\n",
    "test_X, test_y = values[train_size:], values[train_size:]\n",
    "\n",
    "# split into input (all columns exceptc last one) and outputs (last column)\n",
    "train_X, train_y = train_X[:, :-1], train_y[:, -1]\n",
    "test_X, test_y = test_X[:, :-1], test_y[:, -1]\n",
    "\n",
    "# reshape input to be 3D [samples, timesteps, features]; each line turns into an 'sub-array'\n",
    "train_X = train_X.reshape((train_X.shape[0],train_X.shape[1]))\n",
    "test_X = test_X.reshape((test_X.shape[0],test_X.shape[1]))\n",
    "print(train_X.shape, train_y.shape, test_X.shape, test_y.shape)"
   ]
  },
  {
   "cell_type": "code",
   "execution_count": 10,
   "id": "accomplished-default",
   "metadata": {},
   "outputs": [],
   "source": [
    "# cols = data.columns\n",
    "# list_cols_exog = list(cols)\n",
    "# list_cols_exog.remove(\"use [kW]\")"
   ]
  },
  {
   "cell_type": "code",
   "execution_count": 11,
   "id": "present-pacific",
   "metadata": {
    "scrolled": true
   },
   "outputs": [],
   "source": [
    "# df_train_X = pd.DataFrame(train_X,columns=list_cols_exog)\n",
    "# df_test_X = pd.DataFrame(train_X,columns=list_cols_exog)"
   ]
  },
  {
   "cell_type": "code",
   "execution_count": 12,
   "id": "automotive-attraction",
   "metadata": {},
   "outputs": [],
   "source": [
    "# list_cols_endog = []\n",
    "# list_cols_endog.append('use [kW]')\n",
    "# df_train_y = pd.DataFrame(train_y,columns=list_cols_endog)\n",
    "# df_test_y = pd.DataFrame(test_y,columns=list_cols_endog)\n",
    "#df_train_y"
   ]
  },
  {
   "cell_type": "code",
   "execution_count": 13,
   "id": "light-small",
   "metadata": {},
   "outputs": [],
   "source": [
    "# from matplotlib import pyplot\n",
    "# from statsmodels.graphics.tsaplots import plot_acf\n",
    "# plot_acf(df_train_y)\n",
    "# pyplot.show()"
   ]
  },
  {
   "cell_type": "code",
   "execution_count": 14,
   "id": "strategic-electron",
   "metadata": {},
   "outputs": [
    {
     "data": {
      "image/png": "[encoded data removed]",
      "text/plain": [
       "<Figure size 1080x720 with 2 Axes>"
      ]
     },
     "metadata": {
      "needs_background": "light"
     },
     "output_type": "display_data"
    }
   ],
   "source": [
    "#Correlograms\n",
    "fig,ax= plt.subplots(2,1, figsize=(15,10))\n",
    "fig=sm.tsa.graphics.plot_acf(train_y, lags=50, ax=ax[0])\n",
    "fig=sm.tsa.graphics.plot_pacf(train_y, lags=50, ax=ax[1])\n",
    "plt.show()"
   ]
  },
  {
   "cell_type": "code",
   "execution_count": 15,
   "id": "atmospheric-mason",
   "metadata": {},
   "outputs": [
    {
     "data": {
      "image/png": "[encoded data removed]",
      "text/plain": [
       "<Figure size 1080x360 with 1 Axes>"
      ]
     },
     "metadata": {
      "needs_background": "light"
     },
     "output_type": "display_data"
    }
   ],
   "source": [
    "fig, ax = plt.subplots(nrows=1, ncols=1, figsize=[15, 5])\n",
    "ax.plot(test_y, label='Appliances')\n",
    "handles, labels = ax.get_legend_handles_labels()\n",
    "lgd = ax.legend(handles, labels, loc=2, bbox_to_anchor=(1, 1))\n",
    "plt.show()"
   ]
  },
  {
   "cell_type": "code",
   "execution_count": 16,
   "id": "ordinary-quebec",
   "metadata": {},
   "outputs": [],
   "source": [
    "# from statsmodels.tsa.seasonal import seasonal_decompose\n",
    "# import matplotlib.pyplot as plt\n",
    "# result = seasonal_decompose(train_y,model='add',period=365)\n",
    "# fig, (ax1,ax2,ax3) = plt.subplots(3,1, figsize=(30,15))\n",
    "# result.trend.plot(ax=ax1)\n",
    "# result.resid.plot(ax=ax2)\n",
    "# result.seasonal.plot(ax=ax3)"
   ]
  },
  {
   "cell_type": "code",
   "execution_count": 17,
   "id": "neutral-calculation",
   "metadata": {},
   "outputs": [],
   "source": [
    "# from pmdarima.arima import auto_arima\n",
    "# step_wise=auto_arima(train_y, \n",
    "#  exogenous= train_X,\n",
    "#  start_p=1, start_q=1, \n",
    "#  max_p=3, max_q=3, \n",
    "#  d=1, max_d=3,\n",
    "#  trace=True, \n",
    "#  error_action='ignore', \n",
    "#  suppress_warnings=True, \n",
    "#  stepwise=True,\n",
    "#  seasonal=True)"
   ]
  },
  {
   "cell_type": "code",
   "execution_count": 18,
   "id": "empty-drinking",
   "metadata": {
    "scrolled": true
   },
   "outputs": [],
   "source": [
    "# m = 7 => daily\n",
    "# m = 54 => weekly\n",
    "# sarimax_model = auto_arima(train_y,\n",
    "#                        exogenous= train_X,\n",
    "#                        test='adf'\n",
    "#                        start_p=1,\n",
    "#                        start_q=1,\n",
    "#                        max_p=3,\n",
    "#                        max_q=3,\n",
    "#                        m=7,\n",
    "#                        seasonal=True,\n",
    "#                        d=None,\n",
    "#                        D=1,\n",
    "#                        trace=True,\n",
    "#                        error_action='ignore',\n",
    "#                        suppress_warnings=True,\n",
    "#                        stepwise=True)"
   ]
  },
  {
   "cell_type": "code",
   "execution_count": 19,
   "id": "loaded-victor",
   "metadata": {
    "scrolled": true
   },
   "outputs": [],
   "source": [
    "# # # m = 7 => daily\n",
    "# # # m = 52 => weekly\n",
    "# sarimax_model = auto_arima(train_y,\n",
    "#                        exogenous= train_X,\n",
    "#                        test='adf',\n",
    "#                        start_p=0,\n",
    "#                        start_q=0,\n",
    "#                        max_p=5,\n",
    "#                        max_q=5,\n",
    "#                        start_Q=0,\n",
    "#                        start_P=0,\n",
    "#                        max_P=5,\n",
    "#                        max_Q=5,\n",
    "#                        m=7,\n",
    "#                        seasonal=True,\n",
    "#                        d=None,\n",
    "#                        D=1,\n",
    "#                        max_D=5,\n",
    "#                        trace=True,\n",
    "#                        error_action='ignore',\n",
    "#                        suppress_warnings=True,\n",
    "#                        stepwise=True,\n",
    "#                        n_fits = 50)"
   ]
  },
  {
   "cell_type": "code",
   "execution_count": 20,
   "id": "terminal-force",
   "metadata": {
    "scrolled": true
   },
   "outputs": [],
   "source": [
    "#ARIMA(0,0,1)(3,1,1)[7] intercept   : AIC=-90795.546, Time=847.26 sec\n",
    "#ARIMA(0,0,1)(4,1,3)[7] intercept   : AIC=-54962.100, Time=787.74 sec\n",
    "\n",
    "#sarimax_model.summary()"
   ]
  },
  {
   "cell_type": "code",
   "execution_count": 21,
   "id": "sufficient-position",
   "metadata": {},
   "outputs": [],
   "source": [
    "# Bons resultados \n",
    "#order=(1,0,1), seasonal_order=(1,1,2,7),==> 81.99098\t41.067328\t44.562429\t12.261336\n",
    "#order=(0,0,1),seasonal_order=(1,1,2,7), ==> 64.766849\t29.142376\t24.884302\t11.20018\n",
    "#order=(0,0,1), seasonal_order=(0,1,2,7),==> 64.749228\t29.107727\t24.8284\t11.160749\n",
    "#order=(0,0,1), seasonal_order=(0,1,1,7), ==> 64.748083\t29.171255\t24.970446\t11.202162\n",
    "#order=(0,0,1), seasonal_order=(0,0,1,7),==> 64.749226\t29.10804\t24.828806\t11.161166\n",
    "\n",
    "from statsmodels.tsa.statespace.sarimax import SARIMAX\n",
    "model= SARIMAX(endog=train_y, \n",
    " exog=train_X,\n",
    " order=(0,0,1),\n",
    " seasonal_order=(4,1,3,7),\n",
    " enforce_invertibility=False, \n",
    " enforce_stationarity=False)"
   ]
  },
  {
   "cell_type": "code",
   "execution_count": 22,
   "id": "single-angel",
   "metadata": {
    "scrolled": true
   },
   "outputs": [
    {
     "name": "stderr",
     "output_type": "stream",
     "text": [
      "/home/hugo/anaconda3/lib/python3.8/site-packages/statsmodels/base/model.py:566: ConvergenceWarning: Maximum Likelihood optimization failed to converge. Check mle_retvals\n",
      "  warnings.warn(\"Maximum Likelihood optimization failed to \"\n"
     ]
    }
   ],
   "source": [
    "results = model.fit(disp=True)"
   ]
  },
  {
   "cell_type": "code",
   "execution_count": 23,
   "id": "medium-morning",
   "metadata": {},
   "outputs": [
    {
     "data": {
      "text/html": [
       "<table class=\"simpletable\">\n",
       "<caption>SARIMAX Results</caption>\n",
       "<tr>\n",
       "  <th>Dep. Variable:</th>                     <td>y</td>                   <th>  No. Observations:  </th>    <td>37792</td>  \n",
       "</tr>\n",
       "<tr>\n",
       "  <th>Model:</th>           <td>SARIMAX(0, 0, 1)x(4, 1, [1, 2, 3], 7)</td> <th>  Log Likelihood     </th>  <td>47530.529</td>\n",
       "</tr>\n",
       "<tr>\n",
       "  <th>Date:</th>                      <td>Fri, 17 Sep 2021</td>            <th>  AIC                </th> <td>-94989.058</td>\n",
       "</tr>\n",
       "<tr>\n",
       "  <th>Time:</th>                          <td>17:16:04</td>                <th>  BIC                </th> <td>-94681.657</td>\n",
       "</tr>\n",
       "<tr>\n",
       "  <th>Sample:</th>                            <td>0</td>                   <th>  HQIC               </th> <td>-94891.492</td>\n",
       "</tr>\n",
       "<tr>\n",
       "  <th></th>                               <td> - 37792</td>                <th>                     </th>      <td> </td>    \n",
       "</tr>\n",
       "<tr>\n",
       "  <th>Covariance Type:</th>                  <td>opg</td>                  <th>                     </th>      <td> </td>    \n",
       "</tr>\n",
       "</table>\n",
       "<table class=\"simpletable\">\n",
       "<tr>\n",
       "      <td></td>        <th>coef</th>     <th>std err</th>      <th>z</th>      <th>P>|z|</th>  <th>[0.025</th>    <th>0.975]</th>  \n",
       "</tr>\n",
       "<tr>\n",
       "  <th>x1</th>       <td>    0.9549</td> <td>    0.002</td> <td>  487.579</td> <td> 0.000</td> <td>    0.951</td> <td>    0.959</td>\n",
       "</tr>\n",
       "<tr>\n",
       "  <th>x2</th>       <td>    0.0003</td> <td>    0.000</td> <td>    0.961</td> <td> 0.337</td> <td>   -0.000</td> <td>    0.001</td>\n",
       "</tr>\n",
       "<tr>\n",
       "  <th>x3</th>       <td>   -0.0031</td> <td>    0.001</td> <td>   -2.959</td> <td> 0.003</td> <td>   -0.005</td> <td>   -0.001</td>\n",
       "</tr>\n",
       "<tr>\n",
       "  <th>x4</th>       <td>    0.0010</td> <td>    0.002</td> <td>    0.489</td> <td> 0.625</td> <td>   -0.003</td> <td>    0.005</td>\n",
       "</tr>\n",
       "<tr>\n",
       "  <th>x5</th>       <td>   -0.0026</td> <td>    0.001</td> <td>   -2.422</td> <td> 0.015</td> <td>   -0.005</td> <td>   -0.000</td>\n",
       "</tr>\n",
       "<tr>\n",
       "  <th>x6</th>       <td>    0.0019</td> <td>    0.001</td> <td>    2.534</td> <td> 0.011</td> <td>    0.000</td> <td>    0.003</td>\n",
       "</tr>\n",
       "<tr>\n",
       "  <th>x7</th>       <td>   -0.0088</td> <td>    0.002</td> <td>   -5.433</td> <td> 0.000</td> <td>   -0.012</td> <td>   -0.006</td>\n",
       "</tr>\n",
       "<tr>\n",
       "  <th>x8</th>       <td>    0.0019</td> <td>    0.003</td> <td>    0.639</td> <td> 0.523</td> <td>   -0.004</td> <td>    0.008</td>\n",
       "</tr>\n",
       "<tr>\n",
       "  <th>x9</th>       <td>    0.0499</td> <td>    0.011</td> <td>    4.443</td> <td> 0.000</td> <td>    0.028</td> <td>    0.072</td>\n",
       "</tr>\n",
       "<tr>\n",
       "  <th>x10</th>      <td>   -0.0109</td> <td>    0.006</td> <td>   -1.853</td> <td> 0.064</td> <td>   -0.022</td> <td>    0.001</td>\n",
       "</tr>\n",
       "<tr>\n",
       "  <th>x11</th>      <td>   -0.0145</td> <td>    0.006</td> <td>   -2.379</td> <td> 0.017</td> <td>   -0.027</td> <td>   -0.003</td>\n",
       "</tr>\n",
       "<tr>\n",
       "  <th>x12</th>      <td>    0.0019</td> <td>    0.003</td> <td>    0.729</td> <td> 0.466</td> <td>   -0.003</td> <td>    0.007</td>\n",
       "</tr>\n",
       "<tr>\n",
       "  <th>x13</th>      <td>    0.0113</td> <td>    0.003</td> <td>    3.248</td> <td> 0.001</td> <td>    0.004</td> <td>    0.018</td>\n",
       "</tr>\n",
       "<tr>\n",
       "  <th>x14</th>      <td>   -0.0141</td> <td>    0.003</td> <td>   -5.542</td> <td> 0.000</td> <td>   -0.019</td> <td>   -0.009</td>\n",
       "</tr>\n",
       "<tr>\n",
       "  <th>x15</th>      <td>   -0.0357</td> <td>    0.004</td> <td>   -8.902</td> <td> 0.000</td> <td>   -0.044</td> <td>   -0.028</td>\n",
       "</tr>\n",
       "<tr>\n",
       "  <th>x16</th>      <td>    0.0044</td> <td>    0.001</td> <td>    8.461</td> <td> 0.000</td> <td>    0.003</td> <td>    0.005</td>\n",
       "</tr>\n",
       "<tr>\n",
       "  <th>x17</th>      <td>    0.0003</td> <td>    0.000</td> <td>    0.961</td> <td> 0.337</td> <td>   -0.000</td> <td>    0.001</td>\n",
       "</tr>\n",
       "<tr>\n",
       "  <th>x18</th>      <td>    0.1658</td> <td>    0.012</td> <td>   13.437</td> <td> 0.000</td> <td>    0.142</td> <td>    0.190</td>\n",
       "</tr>\n",
       "<tr>\n",
       "  <th>x19</th>      <td>    0.0319</td> <td>    0.004</td> <td>    8.594</td> <td> 0.000</td> <td>    0.025</td> <td>    0.039</td>\n",
       "</tr>\n",
       "<tr>\n",
       "  <th>x20</th>      <td>    0.0048</td> <td>    0.001</td> <td>    4.360</td> <td> 0.000</td> <td>    0.003</td> <td>    0.007</td>\n",
       "</tr>\n",
       "<tr>\n",
       "  <th>x21</th>      <td>   -0.1040</td> <td>    0.010</td> <td>  -10.623</td> <td> 0.000</td> <td>   -0.123</td> <td>   -0.085</td>\n",
       "</tr>\n",
       "<tr>\n",
       "  <th>x22</th>      <td>   -0.0004</td> <td>    0.001</td> <td>   -0.305</td> <td> 0.761</td> <td>   -0.003</td> <td>    0.002</td>\n",
       "</tr>\n",
       "<tr>\n",
       "  <th>x23</th>      <td>   -0.0039</td> <td>    0.001</td> <td>   -3.903</td> <td> 0.000</td> <td>   -0.006</td> <td>   -0.002</td>\n",
       "</tr>\n",
       "<tr>\n",
       "  <th>x24</th>      <td>   -0.0004</td> <td>    0.000</td> <td>   -0.873</td> <td> 0.383</td> <td>   -0.001</td> <td>    0.001</td>\n",
       "</tr>\n",
       "<tr>\n",
       "  <th>x25</th>      <td>   -0.0023</td> <td>    0.002</td> <td>   -1.063</td> <td> 0.288</td> <td>   -0.006</td> <td>    0.002</td>\n",
       "</tr>\n",
       "<tr>\n",
       "  <th>x26</th>      <td>   -0.0742</td> <td>    0.009</td> <td>   -7.949</td> <td> 0.000</td> <td>   -0.092</td> <td>   -0.056</td>\n",
       "</tr>\n",
       "<tr>\n",
       "  <th>x27</th>      <td>    0.0005</td> <td>    0.001</td> <td>    0.528</td> <td> 0.598</td> <td>   -0.001</td> <td>    0.002</td>\n",
       "</tr>\n",
       "<tr>\n",
       "  <th>ma.L1</th>    <td>   -0.7134</td> <td>    0.002</td> <td> -364.814</td> <td> 0.000</td> <td>   -0.717</td> <td>   -0.710</td>\n",
       "</tr>\n",
       "<tr>\n",
       "  <th>ar.S.L7</th>  <td>   -0.3778</td> <td>    0.122</td> <td>   -3.105</td> <td> 0.002</td> <td>   -0.616</td> <td>   -0.139</td>\n",
       "</tr>\n",
       "<tr>\n",
       "  <th>ar.S.L14</th> <td>   -0.1983</td> <td>    0.075</td> <td>   -2.647</td> <td> 0.008</td> <td>   -0.345</td> <td>   -0.051</td>\n",
       "</tr>\n",
       "<tr>\n",
       "  <th>ar.S.L21</th> <td>    0.0472</td> <td>    0.004</td> <td>   10.715</td> <td> 0.000</td> <td>    0.039</td> <td>    0.056</td>\n",
       "</tr>\n",
       "<tr>\n",
       "  <th>ar.S.L28</th> <td>   -0.0135</td> <td>    0.007</td> <td>   -1.978</td> <td> 0.048</td> <td>   -0.027</td> <td>   -0.000</td>\n",
       "</tr>\n",
       "<tr>\n",
       "  <th>ma.S.L7</th>  <td>   -0.6059</td> <td>    0.122</td> <td>   -4.980</td> <td> 0.000</td> <td>   -0.844</td> <td>   -0.367</td>\n",
       "</tr>\n",
       "<tr>\n",
       "  <th>ma.S.L14</th> <td>   -0.1715</td> <td>    0.074</td> <td>   -2.319</td> <td> 0.020</td> <td>   -0.316</td> <td>   -0.027</td>\n",
       "</tr>\n",
       "<tr>\n",
       "  <th>ma.S.L21</th> <td>   -0.2253</td> <td>    0.077</td> <td>   -2.935</td> <td> 0.003</td> <td>   -0.376</td> <td>   -0.075</td>\n",
       "</tr>\n",
       "<tr>\n",
       "  <th>sigma2</th>   <td>    0.0047</td> <td> 1.25e-05</td> <td>  375.517</td> <td> 0.000</td> <td>    0.005</td> <td>    0.005</td>\n",
       "</tr>\n",
       "</table>\n",
       "<table class=\"simpletable\">\n",
       "<tr>\n",
       "  <th>Ljung-Box (L1) (Q):</th>     <td>414.56</td> <th>  Jarque-Bera (JB):  </th> <td>804543.33</td>\n",
       "</tr>\n",
       "<tr>\n",
       "  <th>Prob(Q):</th>                 <td>0.00</td>  <th>  Prob(JB):          </th>   <td>0.00</td>   \n",
       "</tr>\n",
       "<tr>\n",
       "  <th>Heteroskedasticity (H):</th>  <td>6.66</td>  <th>  Skew:              </th>   <td>2.57</td>   \n",
       "</tr>\n",
       "<tr>\n",
       "  <th>Prob(H) (two-sided):</th>     <td>0.00</td>  <th>  Kurtosis:          </th>   <td>25.02</td>  \n",
       "</tr>\n",
       "</table><br/><br/>Warnings:<br/>[1] Covariance matrix calculated using the outer product of gradients (complex-step).<br/>[2] Covariance matrix is singular or near-singular, with condition number 5.86e+17. Standard errors may be unstable."
      ],
      "text/plain": [
       "<class 'statsmodels.iolib.summary.Summary'>\n",
       "\"\"\"\n",
       "                                         SARIMAX Results                                         \n",
       "=================================================================================================\n",
       "Dep. Variable:                                         y   No. Observations:                37792\n",
       "Model:             SARIMAX(0, 0, 1)x(4, 1, [1, 2, 3], 7)   Log Likelihood               47530.529\n",
       "Date:                                   Fri, 17 Sep 2021   AIC                         -94989.058\n",
       "Time:                                           17:16:04   BIC                         -94681.657\n",
       "Sample:                                                0   HQIC                        -94891.492\n",
       "                                                 - 37792                                         \n",
       "Covariance Type:                                     opg                                         \n",
       "==============================================================================\n",
       "                 coef    std err          z      P>|z|      [0.025      0.975]\n",
       "------------------------------------------------------------------------------\n",
       "x1             0.9549      0.002    487.579      0.000       0.951       0.959\n",
       "x2             0.0003      0.000      0.961      0.337      -0.000       0.001\n",
       "x3            -0.0031      0.001     -2.959      0.003      -0.005      -0.001\n",
       "x4             0.0010      0.002      0.489      0.625      -0.003       0.005\n",
       "x5            -0.0026      0.001     -2.422      0.015      -0.005      -0.000\n",
       "x6             0.0019      0.001      2.534      0.011       0.000       0.003\n",
       "x7            -0.0088      0.002     -5.433      0.000      -0.012      -0.006\n",
       "x8             0.0019      0.003      0.639      0.523      -0.004       0.008\n",
       "x9             0.0499      0.011      4.443      0.000       0.028       0.072\n",
       "x10           -0.0109      0.006     -1.853      0.064      -0.022       0.001\n",
       "x11           -0.0145      0.006     -2.379      0.017      -0.027      -0.003\n",
       "x12            0.0019      0.003      0.729      0.466      -0.003       0.007\n",
       "x13            0.0113      0.003      3.248      0.001       0.004       0.018\n",
       "x14           -0.0141      0.003     -5.542      0.000      -0.019      -0.009\n",
       "x15           -0.0357      0.004     -8.902      0.000      -0.044      -0.028\n",
       "x16            0.0044      0.001      8.461      0.000       0.003       0.005\n",
       "x17            0.0003      0.000      0.961      0.337      -0.000       0.001\n",
       "x18            0.1658      0.012     13.437      0.000       0.142       0.190\n",
       "x19            0.0319      0.004      8.594      0.000       0.025       0.039\n",
       "x20            0.0048      0.001      4.360      0.000       0.003       0.007\n",
       "x21           -0.1040      0.010    -10.623      0.000      -0.123      -0.085\n",
       "x22           -0.0004      0.001     -0.305      0.761      -0.003       0.002\n",
       "x23           -0.0039      0.001     -3.903      0.000      -0.006      -0.002\n",
       "x24           -0.0004      0.000     -0.873      0.383      -0.001       0.001\n",
       "x25           -0.0023      0.002     -1.063      0.288      -0.006       0.002\n",
       "x26           -0.0742      0.009     -7.949      0.000      -0.092      -0.056\n",
       "x27            0.0005      0.001      0.528      0.598      -0.001       0.002\n",
       "ma.L1         -0.7134      0.002   -364.814      0.000      -0.717      -0.710\n",
       "ar.S.L7       -0.3778      0.122     -3.105      0.002      -0.616      -0.139\n",
       "ar.S.L14      -0.1983      0.075     -2.647      0.008      -0.345      -0.051\n",
       "ar.S.L21       0.0472      0.004     10.715      0.000       0.039       0.056\n",
       "ar.S.L28      -0.0135      0.007     -1.978      0.048      -0.027      -0.000\n",
       "ma.S.L7       -0.6059      0.122     -4.980      0.000      -0.844      -0.367\n",
       "ma.S.L14      -0.1715      0.074     -2.319      0.020      -0.316      -0.027\n",
       "ma.S.L21      -0.2253      0.077     -2.935      0.003      -0.376      -0.075\n",
       "sigma2         0.0047   1.25e-05    375.517      0.000       0.005       0.005\n",
       "===================================================================================\n",
       "Ljung-Box (L1) (Q):                 414.56   Jarque-Bera (JB):            804543.33\n",
       "Prob(Q):                              0.00   Prob(JB):                         0.00\n",
       "Heteroskedasticity (H):               6.66   Skew:                             2.57\n",
       "Prob(H) (two-sided):                  0.00   Kurtosis:                        25.02\n",
       "===================================================================================\n",
       "\n",
       "Warnings:\n",
       "[1] Covariance matrix calculated using the outer product of gradients (complex-step).\n",
       "[2] Covariance matrix is singular or near-singular, with condition number 5.86e+17. Standard errors may be unstable.\n",
       "\"\"\""
      ]
     },
     "execution_count": 23,
     "metadata": {},
     "output_type": "execute_result"
    }
   ],
   "source": [
    "results.summary()"
   ]
  },
  {
   "cell_type": "code",
   "execution_count": 24,
   "id": "wooden-thursday",
   "metadata": {},
   "outputs": [],
   "source": [
    "steps = -1\n",
    "yhat = results.predict(start=train_size, end=train_size+test_size+(steps),exog=test_X)\n",
    "#yhat"
   ]
  },
  {
   "cell_type": "code",
   "execution_count": 25,
   "id": "rubber-people",
   "metadata": {},
   "outputs": [
    {
     "name": "stdout",
     "output_type": "stream",
     "text": [
      "(12598, 27)\n"
     ]
    }
   ],
   "source": [
    "test_X = test_X.reshape((test_X.shape[0], test_X.shape[1]))\n",
    "# invert scaling for forecast\n",
    "inv_yhat = np.concatenate((yhat.reshape(len(yhat),1), test_X[:, 1:]), axis=1)\n",
    "print(inv_yhat.shape)\n",
    "inv_yhat = scaler.inverse_transform(inv_yhat)\n",
    "inv_yhat = inv_yhat[:,0]\n",
    "# invert scaling for actual - observed data\n",
    "test_y = test_y.reshape((len(test_y), 1))\n",
    "inv_y = np.concatenate((test_y, test_X[:, 1:]), axis=1)\n",
    "inv_y = scaler.inverse_transform(inv_y)\n",
    "inv_y = inv_y[:,0]"
   ]
  },
  {
   "cell_type": "code",
   "execution_count": 26,
   "id": "unsigned-portable",
   "metadata": {},
   "outputs": [
    {
     "name": "stdout",
     "output_type": "stream",
     "text": [
      "Test RMSE: 0.571\n",
      "Test MAPE: 54.421\n",
      "Test SMAPE: 21.089\n"
     ]
    }
   ],
   "source": [
    "rmse = Measures.rmse(inv_yhat,inv_y)\n",
    "mape = Measures.mape(inv_yhat,inv_y)\n",
    "smape = Measures.smape(inv_yhat,inv_y)\n",
    "print('Test RMSE: %.3f' % rmse)\n",
    "print('Test MAPE: %.3f' % mape)\n",
    "print('Test SMAPE: %.3f' % smape)"
   ]
  },
  {
   "cell_type": "code",
   "execution_count": 27,
   "id": "entire-works",
   "metadata": {
    "scrolled": true
   },
   "outputs": [
    {
     "data": {
      "image/png": "[encoded data removed]",
      "text/plain": [
       "<Figure size 1080x216 with 1 Axes>"
      ]
     },
     "metadata": {
      "needs_background": "light"
     },
     "output_type": "display_data"
    }
   ],
   "source": [
    "fig, ax = plt.subplots(nrows=1, ncols=1, figsize=[15, 3])\n",
    "ax.plot(inv_y, label='Original')\n",
    "ax.plot(inv_yhat, label='Forecast')\n",
    "handles, labels = ax.get_legend_handles_labels()\n",
    "lgd = ax.legend(handles, labels, loc=2, bbox_to_anchor=(1, 1))\n",
    "plt.show()"
   ]
  },
  {
   "cell_type": "markdown",
   "id": "linear-kingdom",
   "metadata": {},
   "source": [
    "## Model: SARIMAX - Final model"
   ]
  },
  {
   "cell_type": "code",
   "execution_count": 29,
   "id": "norman-sight",
   "metadata": {},
   "outputs": [],
   "source": [
    "def train_sarimax(endog, exog, order, seasonal_order):\n",
    "    model=sm.tsa.SARIMAX(endog = endog, exog = exog, \n",
    "                          order=(0,0,1),\n",
    "                          seasonal_order=(4,1,3,7), \n",
    "                         enforce_invertibility=False, \n",
    "                         enforce_stationarity=False)\n",
    "    sarimax = model.fit()\n",
    "    return sarimax\n",
    "\n",
    "\n",
    "def test_sarimax(model,start,end,exog):\n",
    "    forecasts = model.predict(start=start, end=end, exog=exog)\n",
    "    return forecasts\n",
    "    "
   ]
  },
  {
   "cell_type": "code",
   "execution_count": 35,
   "id": "important-investment",
   "metadata": {},
   "outputs": [],
   "source": [
    "def transform_original(test_X,test_y,yhat):\n",
    "    test_X = test_X.reshape((test_X.shape[0], test_X.shape[1]))\n",
    "    # invert scaling for forecast\n",
    "    inv_yhat = np.concatenate((yhat.reshape(len(yhat),1), test_X[:, 1:]), axis=1)\n",
    "    inv_yhat = scaler.inverse_transform(inv_yhat)\n",
    "    inv_yhat = inv_yhat[:,0]\n",
    "    # invert scaling for actual - observed data\n",
    "    test_y = test_y.reshape((len(test_y), 1))\n",
    "    inv_y = np.concatenate((test_y, test_X[:, 1:]), axis=1)\n",
    "    inv_y = scaler.inverse_transform(inv_y)\n",
    "    inv_y = inv_y[:,0]\n",
    "    \n",
    "    fig, ax = plt.subplots(nrows=1, ncols=1, figsize=[15, 3])\n",
    "    ax.plot(inv_y, label='Original')\n",
    "    ax.plot(inv_yhat, label='Forecast')\n",
    "    handles, labels = ax.get_legend_handles_labels()\n",
    "    lgd = ax.legend(handles, labels, loc=2, bbox_to_anchor=(1, 1))\n",
    "    plt.show()\n",
    "    \n",
    "    return inv_y,inv_yhat"
   ]
  },
  {
   "cell_type": "markdown",
   "id": "requested-shelf",
   "metadata": {},
   "source": [
    "## Sliding Window PyFTS: SARIMAX"
   ]
  },
  {
   "cell_type": "code",
   "execution_count": 36,
   "id": "ideal-customer",
   "metadata": {
    "scrolled": false
   },
   "outputs": [
    {
     "ename": "SyntaxError",
     "evalue": "unmatched ']' (<ipython-input-36-b6f168978ebf>, line 28)",
     "output_type": "error",
     "traceback": [
      "\u001b[0;36m  File \u001b[0;32m\"<ipython-input-36-b6f168978ebf>\"\u001b[0;36m, line \u001b[0;32m28\u001b[0m\n\u001b[0;31m    test_y = test_y.values[:len(test_y)-1]]\u001b[0m\n\u001b[0m                                          ^\u001b[0m\n\u001b[0;31mSyntaxError\u001b[0m\u001b[0;31m:\u001b[0m unmatched ']'\n"
     ]
    }
   ],
   "source": [
    "result = {\n",
    "     \"window\": [],\n",
    "     \"rmse\": [],\n",
    "     \"mae\": [],\n",
    "     \"mape\": [],\n",
    "     \"smape\": []\n",
    "}\n",
    "\n",
    "tam = len(data)\n",
    "n_windows = 30\n",
    "windows_length = math.floor(tam / n_windows)\n",
    "for ct, ttrain, ttest in Util.sliding_window(data, windows_length, 0.75, inc=1):\n",
    "    if len(ttest) > 0:\n",
    "        \n",
    "        start = len(ttrain)\n",
    "        end = len(ttrain)+ len(ttest) -1\n",
    "        \n",
    "        print('-' * 20)\n",
    "        print(f'training window {(ct)}')\n",
    "        model = train_sarimax(ttrain.loc[:,'Appliances(t-1)'], ttrain.loc[:,'Appliances(t-1)':'Tdewpoint(t-1)'], [1,0,1], [1,1,2,7])\n",
    "        yhat = test_sarimax(model, start, end, ttest.loc[:,'Appliances(t-1)':'Tdewpoint(t-1)']) \n",
    "        \n",
    "        print(\"[{0: %H:%M:%S}]\".format(datetime.datetime.now()) + f\" getting statistics\")\n",
    "\n",
    "        test_X = ttest.loc[:,'Appliances(t-1)':'Tdewpoint(t-1)'].values\n",
    "        test_X = test_X.reshape((test_X.shape[0],test_X.shape[1]))\n",
    "        test_y = ttest['Appliances(t)']\n",
    "        test_y = test_y.values[:len(test_y)-1]]\n",
    "        appliances,forecast = transform_original(test_X = test_X,test_y = test_y,yhat = yhat.values[1:])\n",
    "        \n",
    "        rmse = Measures.rmse(appliances,forecast)\n",
    "        mape = Measures.mape(appliances,forecast)\n",
    "        smape = Measures.smape(appliances,forecast)\n",
    "        \n",
    "        forecast = pd.DataFrame(forecast)\n",
    "        forecast.fillna(forecast.mean(),inplace=True)\n",
    "        forecast = np.array(forecast).reshape(-1)\n",
    "        mae = mean_absolute_error(appliances, forecast)\n",
    "                \n",
    "        result[\"rmse\"].append(rmse)\n",
    "        result[\"mae\"].append(mae)\n",
    "        result[\"mape\"].append(mape)\n",
    "        result[\"smape\"].append(smape)\n",
    "        result[\"window\"].append(ct)\n",
    "\n",
    "measures = pd.DataFrame(result)\n"
   ]
  },
  {
   "cell_type": "code",
   "execution_count": null,
   "id": "finished-transcription",
   "metadata": {},
   "outputs": [],
   "source": [
    "measures"
   ]
  },
  {
   "cell_type": "markdown",
   "id": "administrative-guest",
   "metadata": {},
   "source": [
    "### Mean Statistics SARIMAX"
   ]
  },
  {
   "cell_type": "code",
   "execution_count": null,
   "id": "registered-browser",
   "metadata": {},
   "outputs": [],
   "source": [
    "final_result = {\n",
    "     \"rmse\": [],\n",
    "     \"mae\": [],\n",
    "     \"mape\": [],\n",
    "     \"smape\": []\n",
    "}\n",
    "\n",
    "final_result[\"rmse\"].append(statistics.mean(measures['rmse']))\n",
    "final_result[\"mae\"].append(statistics.mean(measures['mae']))\n",
    "final_result[\"mape\"].append(statistics.mean(measures['mape']))\n",
    "final_result[\"smape\"].append(statistics.mean(measures['smape']))\n",
    "        \n",
    "final_measures_pca = pd.DataFrame(final_result)\n",
    "\n",
    "print(\"Mean Statistics SARIMAX (test): \")\n",
    "final_measures_pca"
   ]
  },
  {
   "cell_type": "code",
   "execution_count": null,
   "id": "forced-sender",
   "metadata": {},
   "outputs": [],
   "source": []
  }
 ],
 "metadata": {
  "kernelspec": {
   "display_name": "Python 3",
   "language": "python",
   "name": "python3"
  },
  "language_info": {
   "codemirror_mode": {
    "name": "ipython",
    "version": 3
   },
   "file_extension": ".py",
   "mimetype": "text/x-python",
   "name": "python",
   "nbconvert_exporter": "python",
   "pygments_lexer": "ipython3",
   "version": "3.8.5"
  }
 },
 "nbformat": 4,
 "nbformat_minor": 5
}
