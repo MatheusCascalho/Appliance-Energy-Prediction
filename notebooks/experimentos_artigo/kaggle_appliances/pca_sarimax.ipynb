{
 "cells": [
  {
   "cell_type": "code",
   "execution_count": 1,
   "id": "vocational-contamination",
   "metadata": {},
   "outputs": [],
   "source": [
    "import sys\n",
    "sys.path.append(\"/home/hugo/projetos-doutorado/Appliance-Energy-Prediction\")\n",
    "import pandas as pd\n",
    "from pca_fts.PcaSarimax import PcaSarimax\n",
    "from pyFTS.benchmarks import Measures\n",
    "import matplotlib.pyplot as plt\n",
    "from pyFTS.common import Util\n",
    "import datetime\n",
    "import statistics\n",
    "import math\n",
    "import numpy as np\n",
    "from sklearn.metrics import mean_absolute_error\n",
    "from sklearn.metrics import r2_score"
   ]
  },
  {
   "cell_type": "markdown",
   "id": "clear-group",
   "metadata": {},
   "source": [
    "## Aux functions"
   ]
  },
  {
   "cell_type": "code",
   "execution_count": 2,
   "id": "welcome-dictionary",
   "metadata": {},
   "outputs": [],
   "source": [
    "def sample_first_prows(data, perc=0.75):\n",
    "    return data.head(int(len(data)*(perc)))"
   ]
  },
  {
   "cell_type": "code",
   "execution_count": 3,
   "id": "affecting-clearing",
   "metadata": {},
   "outputs": [],
   "source": [
    "# convert series to supervised learning\n",
    "def series_to_supervised_miso(data, n_in, n_out, endog_var, dropnan=True):\n",
    "\t\"\"\"\n",
    "\tFrame a time series as a supervised learning dataset.\n",
    "\tArguments:\n",
    "\t\tdata: Sequence of observations as a list or NumPy array.\n",
    "\t\tn_in: Number of lag observations as input (X).\n",
    "\t\tn_out: Number of observations as output (y).\n",
    "\t\tdropnan: Boolean whether or not to drop rows with NaN values.\n",
    "\tReturns:\n",
    "\t\tPandas DataFrame of series framed for supervised learning.\n",
    "\t\"\"\"\n",
    "\tn_vars = 1 if type(data) is list else data.shape[1]\n",
    "\tdf = pd.DataFrame(data)\n",
    "\tcols, names = list(), list()\n",
    "\t# input sequence (t-n, ... t-1)\n",
    "\tfor i in range(n_in, 0, -1):\n",
    "\t\tcols.append(df.shift(i))\n",
    "\t\tnames += [(df.columns[j]+'(t-%d)' % (i)) for j in range(n_vars)]\n",
    "\t# forecast sequence (t, t+1, ... t+n)\n",
    "\tfor i in range(0, n_out):\n",
    "\t\tcols.append(df[endog_var].shift(-i))\n",
    "\t\tif i == 0:\n",
    "\t\t\tnames += [(endog_var+'(t)')]\n",
    "\t\telse:\n",
    "\t\t\tnames += [(endog_var+'(t+%d)' % (i))]\n",
    "\t# put it all together\n",
    "\tagg = pd.concat(cols, axis=1)\n",
    "\tagg.columns = names\n",
    "\t# drop rows with NaN values\n",
    "\tif dropnan:\n",
    "\t\tagg.dropna(inplace=True)\n",
    "\treturn agg"
   ]
  },
  {
   "cell_type": "code",
   "execution_count": 4,
   "id": "occupied-heritage",
   "metadata": {},
   "outputs": [],
   "source": [
    "def clean_dataset(df):\n",
    "    assert isinstance(df, pd.DataFrame) \n",
    "    df.dropna(inplace=True)\n",
    "    indices_to_keep = ~df.isin([np.nan, np.inf, -np.inf]).any(1)\n",
    "    return df[indices_to_keep].astype(np.float64)"
   ]
  },
  {
   "cell_type": "code",
   "execution_count": 5,
   "id": "acting-genealogy",
   "metadata": {},
   "outputs": [],
   "source": [
    "def cal_nrmse(rmse, y):\n",
    "    x = max(y)-min(y)\n",
    "    return (rmse/x)"
   ]
  },
  {
   "cell_type": "markdown",
   "id": "honey-middle",
   "metadata": {},
   "source": [
    "## Dataset Smart Home with Weather Information"
   ]
  },
  {
   "cell_type": "code",
   "execution_count": 6,
   "id": "allied-cigarette",
   "metadata": {},
   "outputs": [
    {
     "name": "stderr",
     "output_type": "stream",
     "text": [
      "/home/hugo/anaconda3/lib/python3.8/site-packages/IPython/core/interactiveshell.py:3165: DtypeWarning: Columns (0,27) have mixed types.Specify dtype option on import or set low_memory=False.\n",
      "  has_raised = await self.run_ast_nodes(code_ast.body, cell_name,\n"
     ]
    },
    {
     "data": {
      "text/html": [
       "<div>\n",
       "<style scoped>\n",
       "    .dataframe tbody tr th:only-of-type {\n",
       "        vertical-align: middle;\n",
       "    }\n",
       "\n",
       "    .dataframe tbody tr th {\n",
       "        vertical-align: top;\n",
       "    }\n",
       "\n",
       "    .dataframe thead th {\n",
       "        text-align: right;\n",
       "    }\n",
       "</style>\n",
       "<table border=\"1\" class=\"dataframe\">\n",
       "  <thead>\n",
       "    <tr style=\"text-align: right;\">\n",
       "      <th></th>\n",
       "      <th>use [kW]</th>\n",
       "      <th>gen [kW]</th>\n",
       "      <th>Dishwasher [kW]</th>\n",
       "      <th>Furnace 1 [kW]</th>\n",
       "      <th>Furnace 2 [kW]</th>\n",
       "      <th>Home office [kW]</th>\n",
       "      <th>Fridge [kW]</th>\n",
       "      <th>Wine cellar [kW]</th>\n",
       "      <th>Garage door [kW]</th>\n",
       "      <th>Kitchen 12 [kW]</th>\n",
       "      <th>...</th>\n",
       "      <th>temperature</th>\n",
       "      <th>humidity</th>\n",
       "      <th>visibility</th>\n",
       "      <th>apparentTemperature</th>\n",
       "      <th>pressure</th>\n",
       "      <th>windSpeed</th>\n",
       "      <th>windBearing</th>\n",
       "      <th>precipIntensity</th>\n",
       "      <th>dewPoint</th>\n",
       "      <th>precipProbability</th>\n",
       "    </tr>\n",
       "  </thead>\n",
       "  <tbody>\n",
       "    <tr>\n",
       "      <th>0</th>\n",
       "      <td>0.932833</td>\n",
       "      <td>0.003483</td>\n",
       "      <td>0.000033</td>\n",
       "      <td>0.020700</td>\n",
       "      <td>0.061917</td>\n",
       "      <td>0.442633</td>\n",
       "      <td>0.124150</td>\n",
       "      <td>0.006983</td>\n",
       "      <td>0.013083</td>\n",
       "      <td>0.000417</td>\n",
       "      <td>...</td>\n",
       "      <td>36.14</td>\n",
       "      <td>0.62</td>\n",
       "      <td>10.0</td>\n",
       "      <td>29.26</td>\n",
       "      <td>1016.91</td>\n",
       "      <td>9.18</td>\n",
       "      <td>282.0</td>\n",
       "      <td>0.0</td>\n",
       "      <td>24.4</td>\n",
       "      <td>0.0</td>\n",
       "    </tr>\n",
       "    <tr>\n",
       "      <th>1</th>\n",
       "      <td>0.934333</td>\n",
       "      <td>0.003467</td>\n",
       "      <td>0.000000</td>\n",
       "      <td>0.020717</td>\n",
       "      <td>0.063817</td>\n",
       "      <td>0.444067</td>\n",
       "      <td>0.124000</td>\n",
       "      <td>0.006983</td>\n",
       "      <td>0.013117</td>\n",
       "      <td>0.000417</td>\n",
       "      <td>...</td>\n",
       "      <td>36.14</td>\n",
       "      <td>0.62</td>\n",
       "      <td>10.0</td>\n",
       "      <td>29.26</td>\n",
       "      <td>1016.91</td>\n",
       "      <td>9.18</td>\n",
       "      <td>282.0</td>\n",
       "      <td>0.0</td>\n",
       "      <td>24.4</td>\n",
       "      <td>0.0</td>\n",
       "    </tr>\n",
       "    <tr>\n",
       "      <th>2</th>\n",
       "      <td>0.931817</td>\n",
       "      <td>0.003467</td>\n",
       "      <td>0.000017</td>\n",
       "      <td>0.020700</td>\n",
       "      <td>0.062317</td>\n",
       "      <td>0.446067</td>\n",
       "      <td>0.123533</td>\n",
       "      <td>0.006983</td>\n",
       "      <td>0.013083</td>\n",
       "      <td>0.000433</td>\n",
       "      <td>...</td>\n",
       "      <td>36.14</td>\n",
       "      <td>0.62</td>\n",
       "      <td>10.0</td>\n",
       "      <td>29.26</td>\n",
       "      <td>1016.91</td>\n",
       "      <td>9.18</td>\n",
       "      <td>282.0</td>\n",
       "      <td>0.0</td>\n",
       "      <td>24.4</td>\n",
       "      <td>0.0</td>\n",
       "    </tr>\n",
       "    <tr>\n",
       "      <th>3</th>\n",
       "      <td>1.022050</td>\n",
       "      <td>0.003483</td>\n",
       "      <td>0.000017</td>\n",
       "      <td>0.106900</td>\n",
       "      <td>0.068517</td>\n",
       "      <td>0.446583</td>\n",
       "      <td>0.123133</td>\n",
       "      <td>0.006983</td>\n",
       "      <td>0.013000</td>\n",
       "      <td>0.000433</td>\n",
       "      <td>...</td>\n",
       "      <td>36.14</td>\n",
       "      <td>0.62</td>\n",
       "      <td>10.0</td>\n",
       "      <td>29.26</td>\n",
       "      <td>1016.91</td>\n",
       "      <td>9.18</td>\n",
       "      <td>282.0</td>\n",
       "      <td>0.0</td>\n",
       "      <td>24.4</td>\n",
       "      <td>0.0</td>\n",
       "    </tr>\n",
       "    <tr>\n",
       "      <th>4</th>\n",
       "      <td>1.139400</td>\n",
       "      <td>0.003467</td>\n",
       "      <td>0.000133</td>\n",
       "      <td>0.236933</td>\n",
       "      <td>0.063983</td>\n",
       "      <td>0.446533</td>\n",
       "      <td>0.122850</td>\n",
       "      <td>0.006850</td>\n",
       "      <td>0.012783</td>\n",
       "      <td>0.000450</td>\n",
       "      <td>...</td>\n",
       "      <td>36.14</td>\n",
       "      <td>0.62</td>\n",
       "      <td>10.0</td>\n",
       "      <td>29.26</td>\n",
       "      <td>1016.91</td>\n",
       "      <td>9.18</td>\n",
       "      <td>282.0</td>\n",
       "      <td>0.0</td>\n",
       "      <td>24.4</td>\n",
       "      <td>0.0</td>\n",
       "    </tr>\n",
       "  </tbody>\n",
       "</table>\n",
       "<p>5 rows × 27 columns</p>\n",
       "</div>"
      ],
      "text/plain": [
       "   use [kW]  gen [kW]  Dishwasher [kW]  Furnace 1 [kW]  Furnace 2 [kW]  \\\n",
       "0  0.932833  0.003483         0.000033        0.020700        0.061917   \n",
       "1  0.934333  0.003467         0.000000        0.020717        0.063817   \n",
       "2  0.931817  0.003467         0.000017        0.020700        0.062317   \n",
       "3  1.022050  0.003483         0.000017        0.106900        0.068517   \n",
       "4  1.139400  0.003467         0.000133        0.236933        0.063983   \n",
       "\n",
       "   Home office [kW]  Fridge [kW]  Wine cellar [kW]  Garage door [kW]  \\\n",
       "0          0.442633     0.124150          0.006983          0.013083   \n",
       "1          0.444067     0.124000          0.006983          0.013117   \n",
       "2          0.446067     0.123533          0.006983          0.013083   \n",
       "3          0.446583     0.123133          0.006983          0.013000   \n",
       "4          0.446533     0.122850          0.006850          0.012783   \n",
       "\n",
       "   Kitchen 12 [kW]  ...  temperature  humidity  visibility  \\\n",
       "0         0.000417  ...        36.14      0.62        10.0   \n",
       "1         0.000417  ...        36.14      0.62        10.0   \n",
       "2         0.000433  ...        36.14      0.62        10.0   \n",
       "3         0.000433  ...        36.14      0.62        10.0   \n",
       "4         0.000450  ...        36.14      0.62        10.0   \n",
       "\n",
       "   apparentTemperature  pressure  windSpeed  windBearing  precipIntensity  \\\n",
       "0                29.26   1016.91       9.18        282.0              0.0   \n",
       "1                29.26   1016.91       9.18        282.0              0.0   \n",
       "2                29.26   1016.91       9.18        282.0              0.0   \n",
       "3                29.26   1016.91       9.18        282.0              0.0   \n",
       "4                29.26   1016.91       9.18        282.0              0.0   \n",
       "\n",
       "   dewPoint  precipProbability  \n",
       "0      24.4                0.0  \n",
       "1      24.4                0.0  \n",
       "2      24.4                0.0  \n",
       "3      24.4                0.0  \n",
       "4      24.4                0.0  \n",
       "\n",
       "[5 rows x 27 columns]"
      ]
     },
     "execution_count": 6,
     "metadata": {},
     "output_type": "execute_result"
    }
   ],
   "source": [
    "df = pd.read_csv('/home/hugo/projetos-doutorado/Appliance-Energy-Prediction/data/HomeC.csv')\n",
    "data = df.drop(labels=['icon','summary','cloudCover', 'House overall [kW]', 'time'], axis=1)\n",
    "#data = data.loc[0: : 10]\n",
    "data\n",
    "data.dropna(inplace=True)\n",
    "data = clean_dataset(data)\n",
    "data.head()"
   ]
  },
  {
   "cell_type": "markdown",
   "id": "crazy-coach",
   "metadata": {},
   "source": [
    "## Dataset Smart Home with Weather Information, Lag = 1, t+1"
   ]
  },
  {
   "cell_type": "code",
   "execution_count": 7,
   "id": "statewide-banana",
   "metadata": {},
   "outputs": [
    {
     "data": {
      "text/html": [
       "<div>\n",
       "<style scoped>\n",
       "    .dataframe tbody tr th:only-of-type {\n",
       "        vertical-align: middle;\n",
       "    }\n",
       "\n",
       "    .dataframe tbody tr th {\n",
       "        vertical-align: top;\n",
       "    }\n",
       "\n",
       "    .dataframe thead th {\n",
       "        text-align: right;\n",
       "    }\n",
       "</style>\n",
       "<table border=\"1\" class=\"dataframe\">\n",
       "  <thead>\n",
       "    <tr style=\"text-align: right;\">\n",
       "      <th></th>\n",
       "      <th>use [kW](t-1)</th>\n",
       "      <th>gen [kW](t-1)</th>\n",
       "      <th>Dishwasher [kW](t-1)</th>\n",
       "      <th>Furnace 1 [kW](t-1)</th>\n",
       "      <th>Furnace 2 [kW](t-1)</th>\n",
       "      <th>Home office [kW](t-1)</th>\n",
       "      <th>Fridge [kW](t-1)</th>\n",
       "      <th>Wine cellar [kW](t-1)</th>\n",
       "      <th>Garage door [kW](t-1)</th>\n",
       "      <th>Kitchen 12 [kW](t-1)</th>\n",
       "      <th>...</th>\n",
       "      <th>humidity(t-1)</th>\n",
       "      <th>visibility(t-1)</th>\n",
       "      <th>apparentTemperature(t-1)</th>\n",
       "      <th>pressure(t-1)</th>\n",
       "      <th>windSpeed(t-1)</th>\n",
       "      <th>windBearing(t-1)</th>\n",
       "      <th>precipIntensity(t-1)</th>\n",
       "      <th>dewPoint(t-1)</th>\n",
       "      <th>precipProbability(t-1)</th>\n",
       "      <th>use [kW](t)</th>\n",
       "    </tr>\n",
       "  </thead>\n",
       "  <tbody>\n",
       "    <tr>\n",
       "      <th>1</th>\n",
       "      <td>0.932833</td>\n",
       "      <td>0.003483</td>\n",
       "      <td>0.000033</td>\n",
       "      <td>0.020700</td>\n",
       "      <td>0.061917</td>\n",
       "      <td>0.442633</td>\n",
       "      <td>0.124150</td>\n",
       "      <td>0.006983</td>\n",
       "      <td>0.013083</td>\n",
       "      <td>0.000417</td>\n",
       "      <td>...</td>\n",
       "      <td>0.62</td>\n",
       "      <td>10.0</td>\n",
       "      <td>29.26</td>\n",
       "      <td>1016.91</td>\n",
       "      <td>9.18</td>\n",
       "      <td>282.0</td>\n",
       "      <td>0.0</td>\n",
       "      <td>24.4</td>\n",
       "      <td>0.0</td>\n",
       "      <td>0.934333</td>\n",
       "    </tr>\n",
       "    <tr>\n",
       "      <th>2</th>\n",
       "      <td>0.934333</td>\n",
       "      <td>0.003467</td>\n",
       "      <td>0.000000</td>\n",
       "      <td>0.020717</td>\n",
       "      <td>0.063817</td>\n",
       "      <td>0.444067</td>\n",
       "      <td>0.124000</td>\n",
       "      <td>0.006983</td>\n",
       "      <td>0.013117</td>\n",
       "      <td>0.000417</td>\n",
       "      <td>...</td>\n",
       "      <td>0.62</td>\n",
       "      <td>10.0</td>\n",
       "      <td>29.26</td>\n",
       "      <td>1016.91</td>\n",
       "      <td>9.18</td>\n",
       "      <td>282.0</td>\n",
       "      <td>0.0</td>\n",
       "      <td>24.4</td>\n",
       "      <td>0.0</td>\n",
       "      <td>0.931817</td>\n",
       "    </tr>\n",
       "    <tr>\n",
       "      <th>3</th>\n",
       "      <td>0.931817</td>\n",
       "      <td>0.003467</td>\n",
       "      <td>0.000017</td>\n",
       "      <td>0.020700</td>\n",
       "      <td>0.062317</td>\n",
       "      <td>0.446067</td>\n",
       "      <td>0.123533</td>\n",
       "      <td>0.006983</td>\n",
       "      <td>0.013083</td>\n",
       "      <td>0.000433</td>\n",
       "      <td>...</td>\n",
       "      <td>0.62</td>\n",
       "      <td>10.0</td>\n",
       "      <td>29.26</td>\n",
       "      <td>1016.91</td>\n",
       "      <td>9.18</td>\n",
       "      <td>282.0</td>\n",
       "      <td>0.0</td>\n",
       "      <td>24.4</td>\n",
       "      <td>0.0</td>\n",
       "      <td>1.022050</td>\n",
       "    </tr>\n",
       "    <tr>\n",
       "      <th>4</th>\n",
       "      <td>1.022050</td>\n",
       "      <td>0.003483</td>\n",
       "      <td>0.000017</td>\n",
       "      <td>0.106900</td>\n",
       "      <td>0.068517</td>\n",
       "      <td>0.446583</td>\n",
       "      <td>0.123133</td>\n",
       "      <td>0.006983</td>\n",
       "      <td>0.013000</td>\n",
       "      <td>0.000433</td>\n",
       "      <td>...</td>\n",
       "      <td>0.62</td>\n",
       "      <td>10.0</td>\n",
       "      <td>29.26</td>\n",
       "      <td>1016.91</td>\n",
       "      <td>9.18</td>\n",
       "      <td>282.0</td>\n",
       "      <td>0.0</td>\n",
       "      <td>24.4</td>\n",
       "      <td>0.0</td>\n",
       "      <td>1.139400</td>\n",
       "    </tr>\n",
       "    <tr>\n",
       "      <th>5</th>\n",
       "      <td>1.139400</td>\n",
       "      <td>0.003467</td>\n",
       "      <td>0.000133</td>\n",
       "      <td>0.236933</td>\n",
       "      <td>0.063983</td>\n",
       "      <td>0.446533</td>\n",
       "      <td>0.122850</td>\n",
       "      <td>0.006850</td>\n",
       "      <td>0.012783</td>\n",
       "      <td>0.000450</td>\n",
       "      <td>...</td>\n",
       "      <td>0.62</td>\n",
       "      <td>10.0</td>\n",
       "      <td>29.26</td>\n",
       "      <td>1016.91</td>\n",
       "      <td>9.18</td>\n",
       "      <td>282.0</td>\n",
       "      <td>0.0</td>\n",
       "      <td>24.4</td>\n",
       "      <td>0.0</td>\n",
       "      <td>1.391867</td>\n",
       "    </tr>\n",
       "  </tbody>\n",
       "</table>\n",
       "<p>5 rows × 28 columns</p>\n",
       "</div>"
      ],
      "text/plain": [
       "   use [kW](t-1)  gen [kW](t-1)  Dishwasher [kW](t-1)  Furnace 1 [kW](t-1)  \\\n",
       "1       0.932833       0.003483              0.000033             0.020700   \n",
       "2       0.934333       0.003467              0.000000             0.020717   \n",
       "3       0.931817       0.003467              0.000017             0.020700   \n",
       "4       1.022050       0.003483              0.000017             0.106900   \n",
       "5       1.139400       0.003467              0.000133             0.236933   \n",
       "\n",
       "   Furnace 2 [kW](t-1)  Home office [kW](t-1)  Fridge [kW](t-1)  \\\n",
       "1             0.061917               0.442633          0.124150   \n",
       "2             0.063817               0.444067          0.124000   \n",
       "3             0.062317               0.446067          0.123533   \n",
       "4             0.068517               0.446583          0.123133   \n",
       "5             0.063983               0.446533          0.122850   \n",
       "\n",
       "   Wine cellar [kW](t-1)  Garage door [kW](t-1)  Kitchen 12 [kW](t-1)  ...  \\\n",
       "1               0.006983               0.013083              0.000417  ...   \n",
       "2               0.006983               0.013117              0.000417  ...   \n",
       "3               0.006983               0.013083              0.000433  ...   \n",
       "4               0.006983               0.013000              0.000433  ...   \n",
       "5               0.006850               0.012783              0.000450  ...   \n",
       "\n",
       "   humidity(t-1)  visibility(t-1)  apparentTemperature(t-1)  pressure(t-1)  \\\n",
       "1           0.62             10.0                     29.26        1016.91   \n",
       "2           0.62             10.0                     29.26        1016.91   \n",
       "3           0.62             10.0                     29.26        1016.91   \n",
       "4           0.62             10.0                     29.26        1016.91   \n",
       "5           0.62             10.0                     29.26        1016.91   \n",
       "\n",
       "   windSpeed(t-1)  windBearing(t-1)  precipIntensity(t-1)  dewPoint(t-1)  \\\n",
       "1            9.18             282.0                   0.0           24.4   \n",
       "2            9.18             282.0                   0.0           24.4   \n",
       "3            9.18             282.0                   0.0           24.4   \n",
       "4            9.18             282.0                   0.0           24.4   \n",
       "5            9.18             282.0                   0.0           24.4   \n",
       "\n",
       "   precipProbability(t-1)  use [kW](t)  \n",
       "1                     0.0     0.934333  \n",
       "2                     0.0     0.931817  \n",
       "3                     0.0     1.022050  \n",
       "4                     0.0     1.139400  \n",
       "5                     0.0     1.391867  \n",
       "\n",
       "[5 rows x 28 columns]"
      ]
     },
     "execution_count": 7,
     "metadata": {},
     "output_type": "execute_result"
    }
   ],
   "source": [
    "data = series_to_supervised_miso(data, 1, 1,endog_var='use [kW]')\n",
    "data.head()"
   ]
  },
  {
   "cell_type": "markdown",
   "id": "expected-ozone",
   "metadata": {},
   "source": [
    "## Model: PcaSarimax - PCA-SARIMAX"
   ]
  },
  {
   "cell_type": "markdown",
   "id": "destroyed-cargo",
   "metadata": {},
   "source": [
    "### Define SARIMAX parameters "
   ]
  },
  {
   "cell_type": "code",
   "execution_count": 7,
   "id": "becoming-charity",
   "metadata": {},
   "outputs": [],
   "source": [
    "pca_sarimax = PcaSarimax(n_components = 2,\n",
    "                       endogen_variable = 'use [kW](t-1)',\n",
    "                       order = [0, 0, 0],\n",
    "                       seasonal_order = [0,0,0,0])"
   ]
  },
  {
   "cell_type": "code",
   "execution_count": 8,
   "id": "previous-norway",
   "metadata": {},
   "outputs": [],
   "source": [
    "df_train = data.loc[:,'use [kW](t-1)':'precipProbability(t-1)']\n",
    "train = sample_first_prows(data, perc=0.30)"
   ]
  },
  {
   "cell_type": "code",
   "execution_count": 9,
   "id": "violent-mentor",
   "metadata": {},
   "outputs": [
    {
     "data": {
      "text/html": [
       "<div>\n",
       "<style scoped>\n",
       "    .dataframe tbody tr th:only-of-type {\n",
       "        vertical-align: middle;\n",
       "    }\n",
       "\n",
       "    .dataframe tbody tr th {\n",
       "        vertical-align: top;\n",
       "    }\n",
       "\n",
       "    .dataframe thead th {\n",
       "        text-align: right;\n",
       "    }\n",
       "</style>\n",
       "<table border=\"1\" class=\"dataframe\">\n",
       "  <thead>\n",
       "    <tr style=\"text-align: right;\">\n",
       "      <th></th>\n",
       "      <th>C0</th>\n",
       "      <th>C1</th>\n",
       "      <th>use [kW](t-1)</th>\n",
       "    </tr>\n",
       "  </thead>\n",
       "  <tbody>\n",
       "    <tr>\n",
       "      <th>0</th>\n",
       "      <td>-0.137571</td>\n",
       "      <td>-0.220618</td>\n",
       "      <td>0.932833</td>\n",
       "    </tr>\n",
       "    <tr>\n",
       "      <th>1</th>\n",
       "      <td>-0.317482</td>\n",
       "      <td>0.483682</td>\n",
       "      <td>1.585083</td>\n",
       "    </tr>\n",
       "  </tbody>\n",
       "</table>\n",
       "</div>"
      ],
      "text/plain": [
       "         C0        C1  use [kW](t-1)\n",
       "0 -0.137571 -0.220618       0.932833\n",
       "1 -0.317482  0.483682       1.585083"
      ]
     },
     "execution_count": 9,
     "metadata": {},
     "output_type": "execute_result"
    }
   ],
   "source": [
    "reduced = pca_sarimax.apply_pca(train)\n",
    "reduced.head(2)"
   ]
  },
  {
   "cell_type": "code",
   "execution_count": 10,
   "id": "czech-marketplace",
   "metadata": {},
   "outputs": [
    {
     "data": {
      "text/html": [
       "<div>\n",
       "<style scoped>\n",
       "    .dataframe tbody tr th:only-of-type {\n",
       "        vertical-align: middle;\n",
       "    }\n",
       "\n",
       "    .dataframe tbody tr th {\n",
       "        vertical-align: top;\n",
       "    }\n",
       "\n",
       "    .dataframe thead th {\n",
       "        text-align: right;\n",
       "    }\n",
       "</style>\n",
       "<table border=\"1\" class=\"dataframe\">\n",
       "  <thead>\n",
       "    <tr style=\"text-align: right;\">\n",
       "      <th></th>\n",
       "      <th>C0</th>\n",
       "      <th>C1</th>\n",
       "    </tr>\n",
       "  </thead>\n",
       "  <tbody>\n",
       "    <tr>\n",
       "      <th>0</th>\n",
       "      <td>-0.137571</td>\n",
       "      <td>-0.220618</td>\n",
       "    </tr>\n",
       "    <tr>\n",
       "      <th>1</th>\n",
       "      <td>-0.317482</td>\n",
       "      <td>0.483682</td>\n",
       "    </tr>\n",
       "  </tbody>\n",
       "</table>\n",
       "</div>"
      ],
      "text/plain": [
       "         C0        C1\n",
       "0 -0.137571 -0.220618\n",
       "1 -0.317482  0.483682"
      ]
     },
     "execution_count": 10,
     "metadata": {},
     "output_type": "execute_result"
    }
   ],
   "source": [
    "exog = reduced.drop(labels=['use [kW](t-1)'], axis=1)\n",
    "exog.head(2)"
   ]
  },
  {
   "cell_type": "code",
   "execution_count": 11,
   "id": "motivated-daniel",
   "metadata": {},
   "outputs": [
    {
     "data": {
      "text/plain": [
       "0    0.932833\n",
       "1    1.585083\n",
       "2    0.533817\n",
       "Name: use [kW](t-1), dtype: float64"
      ]
     },
     "execution_count": 11,
     "metadata": {},
     "output_type": "execute_result"
    }
   ],
   "source": [
    "endog = reduced['use [kW](t-1)']\n",
    "endog.head(3)"
   ]
  },
  {
   "cell_type": "code",
   "execution_count": 12,
   "id": "directed-democrat",
   "metadata": {},
   "outputs": [],
   "source": [
    "train_y = endog\n",
    "train_X = exog"
   ]
  },
  {
   "cell_type": "code",
   "execution_count": null,
   "id": "electoral-morris",
   "metadata": {
    "scrolled": false
   },
   "outputs": [
    {
     "name": "stdout",
     "output_type": "stream",
     "text": [
      "Performing stepwise search to minimize aic\n",
      " ARIMA(0,0,0)(0,1,0)[7] intercept   : AIC=28245.212, Time=3.74 sec\n",
      " ARIMA(1,0,0)(1,1,0)[7] intercept   : AIC=21913.489, Time=23.21 sec\n",
      " ARIMA(0,0,1)(0,1,1)[7] intercept   : AIC=inf, Time=86.24 sec\n",
      " ARIMA(0,0,0)(0,1,0)[7]             : AIC=28243.214, Time=5.50 sec\n",
      " ARIMA(1,0,0)(0,1,0)[7] intercept   : AIC=25419.717, Time=7.34 sec\n",
      " ARIMA(1,0,0)(2,1,0)[7] intercept   : AIC=20519.374, Time=45.29 sec\n",
      " ARIMA(1,0,0)(3,1,0)[7] intercept   : AIC=19824.193, Time=58.00 sec\n",
      " ARIMA(1,0,0)(4,1,0)[7] intercept   : AIC=19427.974, Time=82.41 sec\n",
      " ARIMA(1,0,0)(5,1,0)[7] intercept   : AIC=19133.263, Time=137.18 sec\n",
      " ARIMA(1,0,0)(5,1,1)[7] intercept   : AIC=inf, Time=348.57 sec\n",
      " ARIMA(1,0,0)(4,1,1)[7] intercept   : AIC=inf, Time=210.98 sec\n"
     ]
    }
   ],
   "source": [
    "# Define arimax paraters using the embedded data \n",
    "# from pmdarima.arima import auto_arima\n",
    "# sarimax_model = auto_arima(train_y,\n",
    "#                        exogenous= train_X,\n",
    "#                        test='adf',\n",
    "#                        start_p=0,\n",
    "#                        start_q=0,\n",
    "#                        max_p=5,\n",
    "#                        max_q=5,\n",
    "#                        start_Q=0,\n",
    "#                        start_P=0,\n",
    "#                        max_P=5,\n",
    "#                        max_Q=5,\n",
    "#                        m=7,\n",
    "#                        seasonal=True,\n",
    "#                        d=None,\n",
    "#                        D=1,\n",
    "#                        max_D=5,\n",
    "#                        trace=True,\n",
    "#                        error_action='ignore',\n",
    "#                        suppress_warnings=True,\n",
    "#                        stepwise=True)\n",
    "# #                        n_fits = 50)"
   ]
  },
  {
   "cell_type": "code",
   "execution_count": 15,
   "id": "alpine-break",
   "metadata": {},
   "outputs": [],
   "source": [
    "# Performing stepwise search to minimize aic\n",
    "#  ARIMA(0,0,0)(0,1,0)[7] intercept   : AIC=28245.212, Time=3.74 sec\n",
    "#  ARIMA(1,0,0)(1,1,0)[7] intercept   : AIC=21913.489, Time=23.21 sec\n",
    "#  ARIMA(0,0,1)(0,1,1)[7] intercept   : AIC=inf, Time=86.24 sec\n",
    "#  ARIMA(0,0,0)(0,1,0)[7]             : AIC=28243.214, Time=5.50 sec\n",
    "#  ARIMA(1,0,0)(0,1,0)[7] intercept   : AIC=25419.717, Time=7.34 sec\n",
    "#  ARIMA(1,0,0)(2,1,0)[7] intercept   : AIC=20519.374, Time=45.29 sec\n",
    "#  ARIMA(1,0,0)(3,1,0)[7] intercept   : AIC=19824.193, Time=58.00 sec\n",
    "#  ARIMA(1,0,0)(4,1,0)[7] intercept   : AIC=19427.974, Time=82.41 sec\n",
    "#  ARIMA(1,0,0)(5,1,0)[7] intercept   : AIC=19133.263, Time=137.18 sec\n",
    "#  ARIMA(1,0,0)(5,1,1)[7] intercept   : AIC=inf, Time=348.57 sec\n",
    "#  ARIMA(1,0,0)(4,1,1)[7] intercept   : AIC=inf, Time=210.98 sec\n"
   ]
  },
  {
   "cell_type": "markdown",
   "id": "consecutive-advice",
   "metadata": {},
   "source": [
    "### Test the model with the best parameters "
   ]
  },
  {
   "cell_type": "code",
   "execution_count": 8,
   "id": "equipped-value",
   "metadata": {},
   "outputs": [],
   "source": [
    "pca_arimax = PcaSarimax(n_components = 2,\n",
    "                       endogen_variable = 'use [kW](t-1)',\n",
    "                       order=[4,0,0],\n",
    "                       seasonal_order=[5,1,0,7])"
   ]
  },
  {
   "cell_type": "code",
   "execution_count": 26,
   "id": "posted-visit",
   "metadata": {},
   "outputs": [],
   "source": [
    "df_train = data.loc[:,'use [kW](t-1)':'precipProbability(t-1)']\n",
    "df_test = data.loc[:,'gen [kW](t-1)':'use [kW](t)']\n",
    "train = sample_first_prows(df_train,0.75)\n",
    "test = df_test.iloc[max(train.index):]"
   ]
  },
  {
   "cell_type": "code",
   "execution_count": 9,
   "id": "significant-original",
   "metadata": {},
   "outputs": [],
   "source": [
    "# model, sarimax, pca_reduced_train = pca_arimax.run_train_model(train)"
   ]
  },
  {
   "cell_type": "code",
   "execution_count": 10,
   "id": "referenced-wages",
   "metadata": {},
   "outputs": [],
   "source": [
    "# sarimax.summary()"
   ]
  },
  {
   "cell_type": "code",
   "execution_count": 11,
   "id": "innovative-albany",
   "metadata": {},
   "outputs": [],
   "source": [
    "# pca_reduced_train.head(2)"
   ]
  },
  {
   "cell_type": "code",
   "execution_count": 12,
   "id": "plain-explanation",
   "metadata": {},
   "outputs": [],
   "source": [
    "#ALtera o nome da columa porque o modelo utiliza esse label como variável endogena \n",
    "# test.rename(columns = {'use [kW](t)': 'use [kW](t-1)'}, inplace = True)\n",
    "# start = len(train)\n",
    "# end = len(train) + len(test) -1\n",
    "# forecast, pca_reduced_test = pca_arimax.run_test_model(test, sarimax,start,end)"
   ]
  },
  {
   "cell_type": "code",
   "execution_count": 13,
   "id": "veterinary-router",
   "metadata": {},
   "outputs": [],
   "source": [
    "# forecast"
   ]
  },
  {
   "cell_type": "code",
   "execution_count": 14,
   "id": "unavailable-gnome",
   "metadata": {},
   "outputs": [],
   "source": [
    "#pca_reduced_test['Appliances(t-1)'].head(2)\n",
    "# pca_reduced_test.head(5)"
   ]
  },
  {
   "cell_type": "code",
   "execution_count": 15,
   "id": "oriental-headline",
   "metadata": {},
   "outputs": [],
   "source": [
    "# print(Measures.rmse(pca_reduced_test['use [kW](t-1)'],forecast))\n",
    "# print(Measures.mape(pca_reduced_test['use [kW](t-1)'],forecast))"
   ]
  },
  {
   "cell_type": "markdown",
   "id": "plain-verification",
   "metadata": {},
   "source": [
    "## Model: PcaSarimax - PCA-SARIMAX - Final model "
   ]
  },
  {
   "cell_type": "code",
   "execution_count": null,
   "id": "corrected-perfume",
   "metadata": {},
   "outputs": [],
   "source": [
    "#ARIMA(1,0,0)(1,1,0)[7] ==> 1.372592\t0.833335\t327.091827\t34.337999      \n",
    "#ARIMA(0,0,1)(0,1,1)[7] ==> 1.298641\t0.729507\t291.425668\t28.129435\n",
    "#ARIMA(1,0,0)(0,1,1)[7] ==> 1.284234\t0.716202\t292.696034\t26.853493\n",
    "#ARIMA(1,0,0)(1,0,0)[7] ==> 0.996471\t0.579249\t274.727737\t27.777424\n",
    "#ARIMA(1,0,0)(1,0,1)[7] ==> 0.994874\t0.577666\t272.759379\t27.534379\n",
    "#ARIMA(2,0,0)(1,0,0)[7] ==> 1.293463\t0.728866\t297.1769\t28.026641\n",
    "#ARIMA(1,0,1)(1,0,1)[7] ==> 1.290961e+65\t1.468332e+64\t1.069531e+66\t29.484988\n",
    "#ARIMA(1,0,0)(2,0,1)[7] ==> 0.994599\t0.577157\t272.337254\t27.458885\n",
    "#ARIMA(1,0,0)(2,0,1)[7] ==> 0.99471\t0.577162\t272.186821\t27.424954\n",
    "#ARIMA(1,0,0)(3,0,2)[7] ==> 0.99471\t0.577162\t272.186821\t27.424954\n",
    "#ARIMA(1,0,0)(4,0,2)[7] ==> 0.994843\t0.57759\t272.146911\t27.471431"
   ]
  },
  {
   "cell_type": "code",
   "execution_count": 10,
   "id": "optimum-musician",
   "metadata": {},
   "outputs": [],
   "source": [
    "pca_sarimax = PcaSarimax(n_components = 3,\n",
    "                       endogen_variable = 'use [kW](t-1)',\n",
    "                       order=[1,0,0],\n",
    "                       seasonal_order=[2,0,1,7])"
   ]
  },
  {
   "cell_type": "markdown",
   "id": "reliable-future",
   "metadata": {},
   "source": [
    "## Sliding Window PyFTS: PCA-SARIMAX"
   ]
  },
  {
   "cell_type": "code",
   "execution_count": 11,
   "id": "green-possession",
   "metadata": {},
   "outputs": [
    {
     "name": "stderr",
     "output_type": "stream",
     "text": [
      "/home/hugo/anaconda3/lib/python3.8/site-packages/pandas/core/frame.py:4441: SettingWithCopyWarning: \n",
      "A value is trying to be set on a copy of a slice from a DataFrame\n",
      "\n",
      "See the caveats in the documentation: https://pandas.pydata.org/pandas-docs/stable/user_guide/indexing.html#returning-a-view-versus-a-copy\n",
      "  return super().rename(\n"
     ]
    },
    {
     "name": "stdout",
     "output_type": "stream",
     "text": [
      "--------------------\n",
      "training window 0\n"
     ]
    },
    {
     "name": "stderr",
     "output_type": "stream",
     "text": [
      "/home/hugo/anaconda3/lib/python3.8/site-packages/statsmodels/base/model.py:566: ConvergenceWarning: Maximum Likelihood optimization failed to converge. Check mle_retvals\n",
      "  warnings.warn(\"Maximum Likelihood optimization failed to \"\n"
     ]
    },
    {
     "name": "stdout",
     "output_type": "stream",
     "text": [
      "[ 14:00:41] getting statistics\n",
      "--------------------\n",
      "training window 16796\n"
     ]
    },
    {
     "name": "stderr",
     "output_type": "stream",
     "text": [
      "/home/hugo/anaconda3/lib/python3.8/site-packages/pandas/core/frame.py:4441: SettingWithCopyWarning: \n",
      "A value is trying to be set on a copy of a slice from a DataFrame\n",
      "\n",
      "See the caveats in the documentation: https://pandas.pydata.org/pandas-docs/stable/user_guide/indexing.html#returning-a-view-versus-a-copy\n",
      "  return super().rename(\n"
     ]
    },
    {
     "name": "stdout",
     "output_type": "stream",
     "text": [
      "[ 14:04:48] getting statistics\n",
      "--------------------\n",
      "training window 33592\n"
     ]
    },
    {
     "name": "stderr",
     "output_type": "stream",
     "text": [
      "/home/hugo/anaconda3/lib/python3.8/site-packages/pandas/core/frame.py:4441: SettingWithCopyWarning: \n",
      "A value is trying to be set on a copy of a slice from a DataFrame\n",
      "\n",
      "See the caveats in the documentation: https://pandas.pydata.org/pandas-docs/stable/user_guide/indexing.html#returning-a-view-versus-a-copy\n",
      "  return super().rename(\n",
      "/home/hugo/anaconda3/lib/python3.8/site-packages/statsmodels/base/model.py:566: ConvergenceWarning: Maximum Likelihood optimization failed to converge. Check mle_retvals\n",
      "  warnings.warn(\"Maximum Likelihood optimization failed to \"\n"
     ]
    },
    {
     "name": "stdout",
     "output_type": "stream",
     "text": [
      "[ 14:08:52] getting statistics\n",
      "--------------------\n",
      "training window 50388\n"
     ]
    },
    {
     "name": "stderr",
     "output_type": "stream",
     "text": [
      "/home/hugo/anaconda3/lib/python3.8/site-packages/pandas/core/frame.py:4441: SettingWithCopyWarning: \n",
      "A value is trying to be set on a copy of a slice from a DataFrame\n",
      "\n",
      "See the caveats in the documentation: https://pandas.pydata.org/pandas-docs/stable/user_guide/indexing.html#returning-a-view-versus-a-copy\n",
      "  return super().rename(\n"
     ]
    },
    {
     "name": "stdout",
     "output_type": "stream",
     "text": [
      "[ 14:14:26] getting statistics\n",
      "--------------------\n",
      "training window 67184\n"
     ]
    },
    {
     "name": "stderr",
     "output_type": "stream",
     "text": [
      "/home/hugo/anaconda3/lib/python3.8/site-packages/pandas/core/frame.py:4441: SettingWithCopyWarning: \n",
      "A value is trying to be set on a copy of a slice from a DataFrame\n",
      "\n",
      "See the caveats in the documentation: https://pandas.pydata.org/pandas-docs/stable/user_guide/indexing.html#returning-a-view-versus-a-copy\n",
      "  return super().rename(\n"
     ]
    },
    {
     "name": "stdout",
     "output_type": "stream",
     "text": [
      "[ 14:18:56] getting statistics\n",
      "--------------------\n",
      "training window 83980\n"
     ]
    },
    {
     "name": "stderr",
     "output_type": "stream",
     "text": [
      "/home/hugo/anaconda3/lib/python3.8/site-packages/pandas/core/frame.py:4441: SettingWithCopyWarning: \n",
      "A value is trying to be set on a copy of a slice from a DataFrame\n",
      "\n",
      "See the caveats in the documentation: https://pandas.pydata.org/pandas-docs/stable/user_guide/indexing.html#returning-a-view-versus-a-copy\n",
      "  return super().rename(\n"
     ]
    },
    {
     "name": "stdout",
     "output_type": "stream",
     "text": [
      "[ 14:22:39] getting statistics\n",
      "--------------------\n",
      "training window 100776\n"
     ]
    },
    {
     "name": "stderr",
     "output_type": "stream",
     "text": [
      "/home/hugo/anaconda3/lib/python3.8/site-packages/pandas/core/frame.py:4441: SettingWithCopyWarning: \n",
      "A value is trying to be set on a copy of a slice from a DataFrame\n",
      "\n",
      "See the caveats in the documentation: https://pandas.pydata.org/pandas-docs/stable/user_guide/indexing.html#returning-a-view-versus-a-copy\n",
      "  return super().rename(\n",
      "/home/hugo/anaconda3/lib/python3.8/site-packages/statsmodels/base/model.py:566: ConvergenceWarning: Maximum Likelihood optimization failed to converge. Check mle_retvals\n",
      "  warnings.warn(\"Maximum Likelihood optimization failed to \"\n"
     ]
    },
    {
     "name": "stdout",
     "output_type": "stream",
     "text": [
      "[ 14:27:25] getting statistics\n",
      "--------------------\n",
      "training window 117572\n"
     ]
    },
    {
     "name": "stderr",
     "output_type": "stream",
     "text": [
      "/home/hugo/anaconda3/lib/python3.8/site-packages/pandas/core/frame.py:4441: SettingWithCopyWarning: \n",
      "A value is trying to be set on a copy of a slice from a DataFrame\n",
      "\n",
      "See the caveats in the documentation: https://pandas.pydata.org/pandas-docs/stable/user_guide/indexing.html#returning-a-view-versus-a-copy\n",
      "  return super().rename(\n"
     ]
    },
    {
     "name": "stdout",
     "output_type": "stream",
     "text": [
      "[ 14:52:50] getting statistics\n",
      "--------------------\n",
      "training window 134368\n"
     ]
    },
    {
     "name": "stderr",
     "output_type": "stream",
     "text": [
      "/home/hugo/anaconda3/lib/python3.8/site-packages/pandas/core/frame.py:4441: SettingWithCopyWarning: \n",
      "A value is trying to be set on a copy of a slice from a DataFrame\n",
      "\n",
      "See the caveats in the documentation: https://pandas.pydata.org/pandas-docs/stable/user_guide/indexing.html#returning-a-view-versus-a-copy\n",
      "  return super().rename(\n"
     ]
    },
    {
     "name": "stdout",
     "output_type": "stream",
     "text": [
      "[ 14:58:09] getting statistics\n",
      "--------------------\n",
      "training window 151164\n"
     ]
    },
    {
     "name": "stderr",
     "output_type": "stream",
     "text": [
      "/home/hugo/anaconda3/lib/python3.8/site-packages/pandas/core/frame.py:4441: SettingWithCopyWarning: \n",
      "A value is trying to be set on a copy of a slice from a DataFrame\n",
      "\n",
      "See the caveats in the documentation: https://pandas.pydata.org/pandas-docs/stable/user_guide/indexing.html#returning-a-view-versus-a-copy\n",
      "  return super().rename(\n",
      "/home/hugo/anaconda3/lib/python3.8/site-packages/statsmodels/base/model.py:566: ConvergenceWarning: Maximum Likelihood optimization failed to converge. Check mle_retvals\n",
      "  warnings.warn(\"Maximum Likelihood optimization failed to \"\n"
     ]
    },
    {
     "name": "stdout",
     "output_type": "stream",
     "text": [
      "[ 15:02:42] getting statistics\n",
      "--------------------\n",
      "training window 167960\n"
     ]
    },
    {
     "name": "stderr",
     "output_type": "stream",
     "text": [
      "/home/hugo/anaconda3/lib/python3.8/site-packages/pandas/core/frame.py:4441: SettingWithCopyWarning: \n",
      "A value is trying to be set on a copy of a slice from a DataFrame\n",
      "\n",
      "See the caveats in the documentation: https://pandas.pydata.org/pandas-docs/stable/user_guide/indexing.html#returning-a-view-versus-a-copy\n",
      "  return super().rename(\n",
      "/home/hugo/anaconda3/lib/python3.8/site-packages/statsmodels/base/model.py:566: ConvergenceWarning: Maximum Likelihood optimization failed to converge. Check mle_retvals\n",
      "  warnings.warn(\"Maximum Likelihood optimization failed to \"\n"
     ]
    },
    {
     "name": "stdout",
     "output_type": "stream",
     "text": [
      "[ 15:07:19] getting statistics\n",
      "--------------------\n",
      "training window 184756\n"
     ]
    },
    {
     "name": "stderr",
     "output_type": "stream",
     "text": [
      "/home/hugo/anaconda3/lib/python3.8/site-packages/pandas/core/frame.py:4441: SettingWithCopyWarning: \n",
      "A value is trying to be set on a copy of a slice from a DataFrame\n",
      "\n",
      "See the caveats in the documentation: https://pandas.pydata.org/pandas-docs/stable/user_guide/indexing.html#returning-a-view-versus-a-copy\n",
      "  return super().rename(\n",
      "/home/hugo/anaconda3/lib/python3.8/site-packages/statsmodels/base/model.py:566: ConvergenceWarning: Maximum Likelihood optimization failed to converge. Check mle_retvals\n",
      "  warnings.warn(\"Maximum Likelihood optimization failed to \"\n"
     ]
    },
    {
     "name": "stdout",
     "output_type": "stream",
     "text": [
      "[ 15:13:04] getting statistics\n",
      "--------------------\n",
      "training window 201552\n"
     ]
    },
    {
     "name": "stderr",
     "output_type": "stream",
     "text": [
      "/home/hugo/anaconda3/lib/python3.8/site-packages/pandas/core/frame.py:4441: SettingWithCopyWarning: \n",
      "A value is trying to be set on a copy of a slice from a DataFrame\n",
      "\n",
      "See the caveats in the documentation: https://pandas.pydata.org/pandas-docs/stable/user_guide/indexing.html#returning-a-view-versus-a-copy\n",
      "  return super().rename(\n",
      "/home/hugo/anaconda3/lib/python3.8/site-packages/statsmodels/base/model.py:566: ConvergenceWarning: Maximum Likelihood optimization failed to converge. Check mle_retvals\n",
      "  warnings.warn(\"Maximum Likelihood optimization failed to \"\n"
     ]
    },
    {
     "name": "stdout",
     "output_type": "stream",
     "text": [
      "[ 15:18:24] getting statistics\n",
      "--------------------\n",
      "training window 218348\n"
     ]
    },
    {
     "name": "stderr",
     "output_type": "stream",
     "text": [
      "/home/hugo/anaconda3/lib/python3.8/site-packages/pandas/core/frame.py:4441: SettingWithCopyWarning: \n",
      "A value is trying to be set on a copy of a slice from a DataFrame\n",
      "\n",
      "See the caveats in the documentation: https://pandas.pydata.org/pandas-docs/stable/user_guide/indexing.html#returning-a-view-versus-a-copy\n",
      "  return super().rename(\n"
     ]
    },
    {
     "name": "stdout",
     "output_type": "stream",
     "text": [
      "[ 15:22:58] getting statistics\n",
      "--------------------\n",
      "training window 235144\n"
     ]
    },
    {
     "name": "stderr",
     "output_type": "stream",
     "text": [
      "/home/hugo/anaconda3/lib/python3.8/site-packages/pandas/core/frame.py:4441: SettingWithCopyWarning: \n",
      "A value is trying to be set on a copy of a slice from a DataFrame\n",
      "\n",
      "See the caveats in the documentation: https://pandas.pydata.org/pandas-docs/stable/user_guide/indexing.html#returning-a-view-versus-a-copy\n",
      "  return super().rename(\n"
     ]
    },
    {
     "name": "stdout",
     "output_type": "stream",
     "text": [
      "[ 15:27:29] getting statistics\n",
      "--------------------\n",
      "training window 251940\n"
     ]
    },
    {
     "name": "stderr",
     "output_type": "stream",
     "text": [
      "/home/hugo/anaconda3/lib/python3.8/site-packages/pandas/core/frame.py:4441: SettingWithCopyWarning: \n",
      "A value is trying to be set on a copy of a slice from a DataFrame\n",
      "\n",
      "See the caveats in the documentation: https://pandas.pydata.org/pandas-docs/stable/user_guide/indexing.html#returning-a-view-versus-a-copy\n",
      "  return super().rename(\n"
     ]
    },
    {
     "name": "stdout",
     "output_type": "stream",
     "text": [
      "[ 15:30:56] getting statistics\n",
      "--------------------\n",
      "training window 268736\n"
     ]
    },
    {
     "name": "stderr",
     "output_type": "stream",
     "text": [
      "/home/hugo/anaconda3/lib/python3.8/site-packages/pandas/core/frame.py:4441: SettingWithCopyWarning: \n",
      "A value is trying to be set on a copy of a slice from a DataFrame\n",
      "\n",
      "See the caveats in the documentation: https://pandas.pydata.org/pandas-docs/stable/user_guide/indexing.html#returning-a-view-versus-a-copy\n",
      "  return super().rename(\n",
      "/home/hugo/anaconda3/lib/python3.8/site-packages/statsmodels/base/model.py:566: ConvergenceWarning: Maximum Likelihood optimization failed to converge. Check mle_retvals\n",
      "  warnings.warn(\"Maximum Likelihood optimization failed to \"\n"
     ]
    },
    {
     "name": "stdout",
     "output_type": "stream",
     "text": [
      "[ 15:34:20] getting statistics\n",
      "--------------------\n",
      "training window 285532\n"
     ]
    },
    {
     "name": "stderr",
     "output_type": "stream",
     "text": [
      "/home/hugo/anaconda3/lib/python3.8/site-packages/pandas/core/frame.py:4441: SettingWithCopyWarning: \n",
      "A value is trying to be set on a copy of a slice from a DataFrame\n",
      "\n",
      "See the caveats in the documentation: https://pandas.pydata.org/pandas-docs/stable/user_guide/indexing.html#returning-a-view-versus-a-copy\n",
      "  return super().rename(\n",
      "/home/hugo/anaconda3/lib/python3.8/site-packages/statsmodels/base/model.py:566: ConvergenceWarning: Maximum Likelihood optimization failed to converge. Check mle_retvals\n",
      "  warnings.warn(\"Maximum Likelihood optimization failed to \"\n"
     ]
    },
    {
     "name": "stdout",
     "output_type": "stream",
     "text": [
      "[ 15:35:57] getting statistics\n",
      "--------------------\n",
      "training window 302328\n"
     ]
    },
    {
     "name": "stderr",
     "output_type": "stream",
     "text": [
      "/home/hugo/anaconda3/lib/python3.8/site-packages/pandas/core/frame.py:4441: SettingWithCopyWarning: \n",
      "A value is trying to be set on a copy of a slice from a DataFrame\n",
      "\n",
      "See the caveats in the documentation: https://pandas.pydata.org/pandas-docs/stable/user_guide/indexing.html#returning-a-view-versus-a-copy\n",
      "  return super().rename(\n",
      "/home/hugo/anaconda3/lib/python3.8/site-packages/statsmodels/base/model.py:566: ConvergenceWarning: Maximum Likelihood optimization failed to converge. Check mle_retvals\n",
      "  warnings.warn(\"Maximum Likelihood optimization failed to \"\n"
     ]
    },
    {
     "name": "stdout",
     "output_type": "stream",
     "text": [
      "[ 15:39:22] getting statistics\n",
      "--------------------\n",
      "training window 319124\n"
     ]
    },
    {
     "name": "stderr",
     "output_type": "stream",
     "text": [
      "/home/hugo/anaconda3/lib/python3.8/site-packages/pandas/core/frame.py:4441: SettingWithCopyWarning: \n",
      "A value is trying to be set on a copy of a slice from a DataFrame\n",
      "\n",
      "See the caveats in the documentation: https://pandas.pydata.org/pandas-docs/stable/user_guide/indexing.html#returning-a-view-versus-a-copy\n",
      "  return super().rename(\n",
      "/home/hugo/anaconda3/lib/python3.8/site-packages/statsmodels/base/model.py:566: ConvergenceWarning: Maximum Likelihood optimization failed to converge. Check mle_retvals\n",
      "  warnings.warn(\"Maximum Likelihood optimization failed to \"\n"
     ]
    },
    {
     "name": "stdout",
     "output_type": "stream",
     "text": [
      "[ 15:41:00] getting statistics\n",
      "--------------------\n",
      "training window 335920\n"
     ]
    },
    {
     "name": "stderr",
     "output_type": "stream",
     "text": [
      "/home/hugo/anaconda3/lib/python3.8/site-packages/pandas/core/frame.py:4441: SettingWithCopyWarning: \n",
      "A value is trying to be set on a copy of a slice from a DataFrame\n",
      "\n",
      "See the caveats in the documentation: https://pandas.pydata.org/pandas-docs/stable/user_guide/indexing.html#returning-a-view-versus-a-copy\n",
      "  return super().rename(\n",
      "/home/hugo/anaconda3/lib/python3.8/site-packages/statsmodels/base/model.py:566: ConvergenceWarning: Maximum Likelihood optimization failed to converge. Check mle_retvals\n",
      "  warnings.warn(\"Maximum Likelihood optimization failed to \"\n"
     ]
    },
    {
     "name": "stdout",
     "output_type": "stream",
     "text": [
      "[ 15:49:40] getting statistics\n",
      "--------------------\n",
      "training window 352716\n"
     ]
    },
    {
     "name": "stderr",
     "output_type": "stream",
     "text": [
      "/home/hugo/anaconda3/lib/python3.8/site-packages/pandas/core/frame.py:4441: SettingWithCopyWarning: \n",
      "A value is trying to be set on a copy of a slice from a DataFrame\n",
      "\n",
      "See the caveats in the documentation: https://pandas.pydata.org/pandas-docs/stable/user_guide/indexing.html#returning-a-view-versus-a-copy\n",
      "  return super().rename(\n"
     ]
    },
    {
     "name": "stdout",
     "output_type": "stream",
     "text": [
      "[ 16:47:39] getting statistics\n",
      "--------------------\n",
      "training window 369512\n"
     ]
    },
    {
     "name": "stderr",
     "output_type": "stream",
     "text": [
      "/home/hugo/anaconda3/lib/python3.8/site-packages/pandas/core/frame.py:4441: SettingWithCopyWarning: \n",
      "A value is trying to be set on a copy of a slice from a DataFrame\n",
      "\n",
      "See the caveats in the documentation: https://pandas.pydata.org/pandas-docs/stable/user_guide/indexing.html#returning-a-view-versus-a-copy\n",
      "  return super().rename(\n"
     ]
    },
    {
     "name": "stdout",
     "output_type": "stream",
     "text": [
      "[ 16:49:49] getting statistics\n",
      "--------------------\n",
      "training window 386308\n"
     ]
    },
    {
     "name": "stderr",
     "output_type": "stream",
     "text": [
      "/home/hugo/anaconda3/lib/python3.8/site-packages/pandas/core/frame.py:4441: SettingWithCopyWarning: \n",
      "A value is trying to be set on a copy of a slice from a DataFrame\n",
      "\n",
      "See the caveats in the documentation: https://pandas.pydata.org/pandas-docs/stable/user_guide/indexing.html#returning-a-view-versus-a-copy\n",
      "  return super().rename(\n",
      "/home/hugo/anaconda3/lib/python3.8/site-packages/statsmodels/base/model.py:566: ConvergenceWarning: Maximum Likelihood optimization failed to converge. Check mle_retvals\n",
      "  warnings.warn(\"Maximum Likelihood optimization failed to \"\n"
     ]
    },
    {
     "name": "stdout",
     "output_type": "stream",
     "text": [
      "[ 16:54:11] getting statistics\n",
      "--------------------\n",
      "training window 403104\n"
     ]
    },
    {
     "name": "stderr",
     "output_type": "stream",
     "text": [
      "/home/hugo/anaconda3/lib/python3.8/site-packages/pandas/core/frame.py:4441: SettingWithCopyWarning: \n",
      "A value is trying to be set on a copy of a slice from a DataFrame\n",
      "\n",
      "See the caveats in the documentation: https://pandas.pydata.org/pandas-docs/stable/user_guide/indexing.html#returning-a-view-versus-a-copy\n",
      "  return super().rename(\n"
     ]
    },
    {
     "name": "stdout",
     "output_type": "stream",
     "text": [
      "[ 16:59:56] getting statistics\n",
      "--------------------\n",
      "training window 419900\n"
     ]
    },
    {
     "name": "stderr",
     "output_type": "stream",
     "text": [
      "/home/hugo/anaconda3/lib/python3.8/site-packages/pandas/core/frame.py:4441: SettingWithCopyWarning: \n",
      "A value is trying to be set on a copy of a slice from a DataFrame\n",
      "\n",
      "See the caveats in the documentation: https://pandas.pydata.org/pandas-docs/stable/user_guide/indexing.html#returning-a-view-versus-a-copy\n",
      "  return super().rename(\n"
     ]
    },
    {
     "name": "stdout",
     "output_type": "stream",
     "text": [
      "[ 17:05:58] getting statistics\n",
      "--------------------\n",
      "training window 436696\n"
     ]
    },
    {
     "name": "stderr",
     "output_type": "stream",
     "text": [
      "/home/hugo/anaconda3/lib/python3.8/site-packages/pandas/core/frame.py:4441: SettingWithCopyWarning: \n",
      "A value is trying to be set on a copy of a slice from a DataFrame\n",
      "\n",
      "See the caveats in the documentation: https://pandas.pydata.org/pandas-docs/stable/user_guide/indexing.html#returning-a-view-versus-a-copy\n",
      "  return super().rename(\n",
      "/home/hugo/anaconda3/lib/python3.8/site-packages/statsmodels/base/model.py:566: ConvergenceWarning: Maximum Likelihood optimization failed to converge. Check mle_retvals\n",
      "  warnings.warn(\"Maximum Likelihood optimization failed to \"\n"
     ]
    },
    {
     "name": "stdout",
     "output_type": "stream",
     "text": [
      "[ 17:10:34] getting statistics\n",
      "--------------------\n",
      "training window 453492\n"
     ]
    },
    {
     "name": "stderr",
     "output_type": "stream",
     "text": [
      "/home/hugo/anaconda3/lib/python3.8/site-packages/pandas/core/frame.py:4441: SettingWithCopyWarning: \n",
      "A value is trying to be set on a copy of a slice from a DataFrame\n",
      "\n",
      "See the caveats in the documentation: https://pandas.pydata.org/pandas-docs/stable/user_guide/indexing.html#returning-a-view-versus-a-copy\n",
      "  return super().rename(\n",
      "/home/hugo/anaconda3/lib/python3.8/site-packages/statsmodels/base/model.py:566: ConvergenceWarning: Maximum Likelihood optimization failed to converge. Check mle_retvals\n",
      "  warnings.warn(\"Maximum Likelihood optimization failed to \"\n"
     ]
    },
    {
     "name": "stdout",
     "output_type": "stream",
     "text": [
      "[ 17:17:47] getting statistics\n",
      "--------------------\n",
      "training window 470288\n"
     ]
    },
    {
     "name": "stderr",
     "output_type": "stream",
     "text": [
      "/home/hugo/anaconda3/lib/python3.8/site-packages/pandas/core/frame.py:4441: SettingWithCopyWarning: \n",
      "A value is trying to be set on a copy of a slice from a DataFrame\n",
      "\n",
      "See the caveats in the documentation: https://pandas.pydata.org/pandas-docs/stable/user_guide/indexing.html#returning-a-view-versus-a-copy\n",
      "  return super().rename(\n",
      "/home/hugo/anaconda3/lib/python3.8/site-packages/statsmodels/base/model.py:566: ConvergenceWarning: Maximum Likelihood optimization failed to converge. Check mle_retvals\n",
      "  warnings.warn(\"Maximum Likelihood optimization failed to \"\n"
     ]
    },
    {
     "name": "stdout",
     "output_type": "stream",
     "text": [
      "[ 17:22:47] getting statistics\n",
      "--------------------\n",
      "training window 487084\n"
     ]
    },
    {
     "name": "stderr",
     "output_type": "stream",
     "text": [
      "/home/hugo/anaconda3/lib/python3.8/site-packages/pandas/core/frame.py:4441: SettingWithCopyWarning: \n",
      "A value is trying to be set on a copy of a slice from a DataFrame\n",
      "\n",
      "See the caveats in the documentation: https://pandas.pydata.org/pandas-docs/stable/user_guide/indexing.html#returning-a-view-versus-a-copy\n",
      "  return super().rename(\n",
      "/home/hugo/anaconda3/lib/python3.8/site-packages/statsmodels/base/model.py:566: ConvergenceWarning: Maximum Likelihood optimization failed to converge. Check mle_retvals\n",
      "  warnings.warn(\"Maximum Likelihood optimization failed to \"\n"
     ]
    },
    {
     "name": "stdout",
     "output_type": "stream",
     "text": [
      "[ 17:26:55] getting statistics\n"
     ]
    }
   ],
   "source": [
    "result = {\n",
    "     \"window\": [],\n",
    "     \"rmse\": [],\n",
    "     \"mae\": [],\n",
    "     \"mape\": [],\n",
    "     \"smape\": [],\n",
    "     \"nrmse\":[]\n",
    "}\n",
    "\n",
    "tam = len(data)\n",
    "n_windows = 30\n",
    "windows_length = math.floor(tam / n_windows)\n",
    "for ct, ttrain, ttest in Util.sliding_window(data, windows_length, 0.75, inc=1):\n",
    "    if len(ttest) > 0:\n",
    "\n",
    "        data_train = ttrain.loc[:,'use [kW](t-1)':'precipProbability(t-1)']\n",
    "        data_test = ttest.loc[:,'gen [kW](t-1)':'use [kW](t)']\n",
    "        \n",
    "        #ALtera o nome da columa porque o modelo utiliza esse label como variável endogena \n",
    "        data_test.rename(columns = {'use [kW](t)': 'use [kW](t-1)'}, inplace = True)\n",
    "        \n",
    "        start = len(data_train)\n",
    "        end = len(data_train)+ len(data_test) -1\n",
    "        #appliance = ttest['Appliances_t+1'].reset_index()\n",
    "        \n",
    "        print('-' * 20)\n",
    "        print(f'training window {(ct)}')\n",
    "        model, sarimax, pca_reduced_train = pca_sarimax.run_train_model(data_train)\n",
    "        forecast, pca_reduced_test = pca_sarimax.run_test_model(data_test,sarimax,start,end)\n",
    "        \n",
    "        print(\"[{0: %H:%M:%S}]\".format(datetime.datetime.now()) + f\" getting statistics\")\n",
    "        rmse = Measures.rmse(pca_reduced_test['use [kW](t-1)'],forecast)\n",
    "        mape = Measures.mape(pca_reduced_test['use [kW](t-1)'],forecast)\n",
    "        smape = Measures.smape(pca_reduced_test['use [kW](t-1)'],forecast)\n",
    "        \n",
    "#         forecast = pd.DataFrame(forecast)\n",
    "#         forecast.fillna(forecast.mean(),inplace=True)\n",
    "#         forecast = np.array(forecast).reshape(-1)\n",
    "        mae = mean_absolute_error(pca_reduced_test['use [kW](t-1)'], forecast)\n",
    "    \n",
    "        # Grafico de comparação Original x Previsto para cada janela\n",
    "#         fig, ax = plt.subplots(nrows=1, ncols=1, figsize=[15, 3])\n",
    "#         ax.plot(pca_reduced_test['use [kW](t-1)'], label='Original')\n",
    "#         ax.plot(forecast, label='Forecast')\n",
    "#         handles, labels = ax.get_legend_handles_labels()\n",
    "#         lgd = ax.legend(handles, labels, loc=2, bbox_to_anchor=(1, 1))\n",
    "#         plt.show()\n",
    "        \n",
    "        \n",
    "        nrmse = cal_nrmse(rmse, pca_reduced_test['use [kW](t-1)'])\n",
    "                \n",
    "        result[\"rmse\"].append(round(rmse,3))\n",
    "        result[\"mae\"].append(round(mae,3))\n",
    "        result[\"mape\"].append(round(mape,3))\n",
    "        result[\"smape\"].append(round(smape,3))\n",
    "        result[\"nrmse\"].append(round(nrmse,3))\n",
    "        result[\"window\"].append(ct)\n",
    "        \n",
    "measures = pd.DataFrame(result)"
   ]
  },
  {
   "cell_type": "code",
   "execution_count": 12,
   "id": "czech-tulsa",
   "metadata": {
    "scrolled": false
   },
   "outputs": [
    {
     "data": {
      "text/html": [
       "<div>\n",
       "<style scoped>\n",
       "    .dataframe tbody tr th:only-of-type {\n",
       "        vertical-align: middle;\n",
       "    }\n",
       "\n",
       "    .dataframe tbody tr th {\n",
       "        vertical-align: top;\n",
       "    }\n",
       "\n",
       "    .dataframe thead th {\n",
       "        text-align: right;\n",
       "    }\n",
       "</style>\n",
       "<table border=\"1\" class=\"dataframe\">\n",
       "  <thead>\n",
       "    <tr style=\"text-align: right;\">\n",
       "      <th></th>\n",
       "      <th>window</th>\n",
       "      <th>rmse</th>\n",
       "      <th>mae</th>\n",
       "      <th>mape</th>\n",
       "      <th>smape</th>\n",
       "      <th>nrmse</th>\n",
       "    </tr>\n",
       "  </thead>\n",
       "  <tbody>\n",
       "    <tr>\n",
       "      <th>0</th>\n",
       "      <td>0</td>\n",
       "      <td>1.073</td>\n",
       "      <td>0.710</td>\n",
       "      <td>93.176</td>\n",
       "      <td>24.113</td>\n",
       "      <td>0.237</td>\n",
       "    </tr>\n",
       "    <tr>\n",
       "      <th>1</th>\n",
       "      <td>16796</td>\n",
       "      <td>0.415</td>\n",
       "      <td>0.215</td>\n",
       "      <td>89.842</td>\n",
       "      <td>12.081</td>\n",
       "      <td>0.053</td>\n",
       "    </tr>\n",
       "    <tr>\n",
       "      <th>2</th>\n",
       "      <td>33592</td>\n",
       "      <td>1.407</td>\n",
       "      <td>0.757</td>\n",
       "      <td>457.184</td>\n",
       "      <td>45.222</td>\n",
       "      <td>0.358</td>\n",
       "    </tr>\n",
       "    <tr>\n",
       "      <th>3</th>\n",
       "      <td>50388</td>\n",
       "      <td>0.703</td>\n",
       "      <td>0.349</td>\n",
       "      <td>31.754</td>\n",
       "      <td>16.481</td>\n",
       "      <td>0.116</td>\n",
       "    </tr>\n",
       "    <tr>\n",
       "      <th>4</th>\n",
       "      <td>67184</td>\n",
       "      <td>0.316</td>\n",
       "      <td>0.156</td>\n",
       "      <td>44.390</td>\n",
       "      <td>11.066</td>\n",
       "      <td>0.049</td>\n",
       "    </tr>\n",
       "    <tr>\n",
       "      <th>5</th>\n",
       "      <td>83980</td>\n",
       "      <td>0.288</td>\n",
       "      <td>0.202</td>\n",
       "      <td>84.772</td>\n",
       "      <td>19.921</td>\n",
       "      <td>0.079</td>\n",
       "    </tr>\n",
       "    <tr>\n",
       "      <th>6</th>\n",
       "      <td>100776</td>\n",
       "      <td>0.395</td>\n",
       "      <td>0.209</td>\n",
       "      <td>40.923</td>\n",
       "      <td>14.559</td>\n",
       "      <td>0.069</td>\n",
       "    </tr>\n",
       "    <tr>\n",
       "      <th>7</th>\n",
       "      <td>117572</td>\n",
       "      <td>0.449</td>\n",
       "      <td>0.196</td>\n",
       "      <td>28.295</td>\n",
       "      <td>11.636</td>\n",
       "      <td>0.073</td>\n",
       "    </tr>\n",
       "    <tr>\n",
       "      <th>8</th>\n",
       "      <td>134368</td>\n",
       "      <td>0.342</td>\n",
       "      <td>0.222</td>\n",
       "      <td>127.938</td>\n",
       "      <td>21.792</td>\n",
       "      <td>0.072</td>\n",
       "    </tr>\n",
       "    <tr>\n",
       "      <th>9</th>\n",
       "      <td>151164</td>\n",
       "      <td>0.503</td>\n",
       "      <td>0.188</td>\n",
       "      <td>62.510</td>\n",
       "      <td>13.490</td>\n",
       "      <td>0.043</td>\n",
       "    </tr>\n",
       "    <tr>\n",
       "      <th>10</th>\n",
       "      <td>167960</td>\n",
       "      <td>0.415</td>\n",
       "      <td>0.196</td>\n",
       "      <td>43.762</td>\n",
       "      <td>14.098</td>\n",
       "      <td>0.053</td>\n",
       "    </tr>\n",
       "    <tr>\n",
       "      <th>11</th>\n",
       "      <td>184756</td>\n",
       "      <td>0.275</td>\n",
       "      <td>0.151</td>\n",
       "      <td>81.168</td>\n",
       "      <td>15.927</td>\n",
       "      <td>0.042</td>\n",
       "    </tr>\n",
       "    <tr>\n",
       "      <th>12</th>\n",
       "      <td>201552</td>\n",
       "      <td>0.429</td>\n",
       "      <td>0.122</td>\n",
       "      <td>127.640</td>\n",
       "      <td>18.948</td>\n",
       "      <td>0.072</td>\n",
       "    </tr>\n",
       "    <tr>\n",
       "      <th>13</th>\n",
       "      <td>218348</td>\n",
       "      <td>0.314</td>\n",
       "      <td>0.222</td>\n",
       "      <td>283.513</td>\n",
       "      <td>24.983</td>\n",
       "      <td>0.096</td>\n",
       "    </tr>\n",
       "    <tr>\n",
       "      <th>14</th>\n",
       "      <td>235144</td>\n",
       "      <td>0.276</td>\n",
       "      <td>0.133</td>\n",
       "      <td>141.350</td>\n",
       "      <td>17.084</td>\n",
       "      <td>0.042</td>\n",
       "    </tr>\n",
       "    <tr>\n",
       "      <th>15</th>\n",
       "      <td>251940</td>\n",
       "      <td>0.550</td>\n",
       "      <td>0.265</td>\n",
       "      <td>125.981</td>\n",
       "      <td>29.693</td>\n",
       "      <td>0.076</td>\n",
       "    </tr>\n",
       "    <tr>\n",
       "      <th>16</th>\n",
       "      <td>268736</td>\n",
       "      <td>1.215</td>\n",
       "      <td>0.535</td>\n",
       "      <td>57.885</td>\n",
       "      <td>15.383</td>\n",
       "      <td>0.102</td>\n",
       "    </tr>\n",
       "    <tr>\n",
       "      <th>17</th>\n",
       "      <td>285532</td>\n",
       "      <td>1.320</td>\n",
       "      <td>0.665</td>\n",
       "      <td>140.889</td>\n",
       "      <td>24.705</td>\n",
       "      <td>0.113</td>\n",
       "    </tr>\n",
       "    <tr>\n",
       "      <th>18</th>\n",
       "      <td>302328</td>\n",
       "      <td>0.926</td>\n",
       "      <td>0.371</td>\n",
       "      <td>42.095</td>\n",
       "      <td>14.291</td>\n",
       "      <td>0.107</td>\n",
       "    </tr>\n",
       "    <tr>\n",
       "      <th>19</th>\n",
       "      <td>319124</td>\n",
       "      <td>0.991</td>\n",
       "      <td>0.444</td>\n",
       "      <td>443.645</td>\n",
       "      <td>20.350</td>\n",
       "      <td>0.088</td>\n",
       "    </tr>\n",
       "    <tr>\n",
       "      <th>20</th>\n",
       "      <td>335920</td>\n",
       "      <td>1.068</td>\n",
       "      <td>0.696</td>\n",
       "      <td>187.921</td>\n",
       "      <td>45.947</td>\n",
       "      <td>0.220</td>\n",
       "    </tr>\n",
       "    <tr>\n",
       "      <th>21</th>\n",
       "      <td>352716</td>\n",
       "      <td>0.883</td>\n",
       "      <td>0.392</td>\n",
       "      <td>89.483</td>\n",
       "      <td>20.195</td>\n",
       "      <td>0.113</td>\n",
       "    </tr>\n",
       "    <tr>\n",
       "      <th>22</th>\n",
       "      <td>369512</td>\n",
       "      <td>0.517</td>\n",
       "      <td>0.243</td>\n",
       "      <td>45.806</td>\n",
       "      <td>19.002</td>\n",
       "      <td>0.055</td>\n",
       "    </tr>\n",
       "    <tr>\n",
       "      <th>23</th>\n",
       "      <td>386308</td>\n",
       "      <td>0.283</td>\n",
       "      <td>0.198</td>\n",
       "      <td>113.293</td>\n",
       "      <td>17.850</td>\n",
       "      <td>0.069</td>\n",
       "    </tr>\n",
       "    <tr>\n",
       "      <th>24</th>\n",
       "      <td>403104</td>\n",
       "      <td>0.478</td>\n",
       "      <td>0.230</td>\n",
       "      <td>39.145</td>\n",
       "      <td>13.646</td>\n",
       "      <td>0.053</td>\n",
       "    </tr>\n",
       "    <tr>\n",
       "      <th>25</th>\n",
       "      <td>419900</td>\n",
       "      <td>0.352</td>\n",
       "      <td>0.185</td>\n",
       "      <td>41.309</td>\n",
       "      <td>17.632</td>\n",
       "      <td>0.052</td>\n",
       "    </tr>\n",
       "    <tr>\n",
       "      <th>26</th>\n",
       "      <td>436696</td>\n",
       "      <td>0.330</td>\n",
       "      <td>0.191</td>\n",
       "      <td>207.429</td>\n",
       "      <td>18.044</td>\n",
       "      <td>0.047</td>\n",
       "    </tr>\n",
       "    <tr>\n",
       "      <th>27</th>\n",
       "      <td>453492</td>\n",
       "      <td>0.462</td>\n",
       "      <td>0.337</td>\n",
       "      <td>54.670</td>\n",
       "      <td>26.840</td>\n",
       "      <td>0.120</td>\n",
       "    </tr>\n",
       "    <tr>\n",
       "      <th>28</th>\n",
       "      <td>470288</td>\n",
       "      <td>0.291</td>\n",
       "      <td>0.217</td>\n",
       "      <td>42.203</td>\n",
       "      <td>16.365</td>\n",
       "      <td>0.095</td>\n",
       "    </tr>\n",
       "    <tr>\n",
       "      <th>29</th>\n",
       "      <td>487084</td>\n",
       "      <td>0.344</td>\n",
       "      <td>0.268</td>\n",
       "      <td>81.354</td>\n",
       "      <td>22.298</td>\n",
       "      <td>0.092</td>\n",
       "    </tr>\n",
       "  </tbody>\n",
       "</table>\n",
       "</div>"
      ],
      "text/plain": [
       "    window   rmse    mae     mape   smape  nrmse\n",
       "0        0  1.073  0.710   93.176  24.113  0.237\n",
       "1    16796  0.415  0.215   89.842  12.081  0.053\n",
       "2    33592  1.407  0.757  457.184  45.222  0.358\n",
       "3    50388  0.703  0.349   31.754  16.481  0.116\n",
       "4    67184  0.316  0.156   44.390  11.066  0.049\n",
       "5    83980  0.288  0.202   84.772  19.921  0.079\n",
       "6   100776  0.395  0.209   40.923  14.559  0.069\n",
       "7   117572  0.449  0.196   28.295  11.636  0.073\n",
       "8   134368  0.342  0.222  127.938  21.792  0.072\n",
       "9   151164  0.503  0.188   62.510  13.490  0.043\n",
       "10  167960  0.415  0.196   43.762  14.098  0.053\n",
       "11  184756  0.275  0.151   81.168  15.927  0.042\n",
       "12  201552  0.429  0.122  127.640  18.948  0.072\n",
       "13  218348  0.314  0.222  283.513  24.983  0.096\n",
       "14  235144  0.276  0.133  141.350  17.084  0.042\n",
       "15  251940  0.550  0.265  125.981  29.693  0.076\n",
       "16  268736  1.215  0.535   57.885  15.383  0.102\n",
       "17  285532  1.320  0.665  140.889  24.705  0.113\n",
       "18  302328  0.926  0.371   42.095  14.291  0.107\n",
       "19  319124  0.991  0.444  443.645  20.350  0.088\n",
       "20  335920  1.068  0.696  187.921  45.947  0.220\n",
       "21  352716  0.883  0.392   89.483  20.195  0.113\n",
       "22  369512  0.517  0.243   45.806  19.002  0.055\n",
       "23  386308  0.283  0.198  113.293  17.850  0.069\n",
       "24  403104  0.478  0.230   39.145  13.646  0.053\n",
       "25  419900  0.352  0.185   41.309  17.632  0.052\n",
       "26  436696  0.330  0.191  207.429  18.044  0.047\n",
       "27  453492  0.462  0.337   54.670  26.840  0.120\n",
       "28  470288  0.291  0.217   42.203  16.365  0.095\n",
       "29  487084  0.344  0.268   81.354  22.298  0.092"
      ]
     },
     "execution_count": 12,
     "metadata": {},
     "output_type": "execute_result"
    }
   ],
   "source": [
    "measures"
   ]
  },
  {
   "cell_type": "code",
   "execution_count": 12,
   "id": "cultural-canon",
   "metadata": {},
   "outputs": [],
   "source": [
    "#measures.to_csv (r'win_pca_sarimax_ksh_10min.csv', index = False, header=True)"
   ]
  },
  {
   "cell_type": "code",
   "execution_count": 13,
   "id": "studied-yacht",
   "metadata": {},
   "outputs": [],
   "source": [
    "measures.to_csv (r'win_pca_sarimax_ksh_1min.csv', index = False, header=True)"
   ]
  },
  {
   "cell_type": "code",
   "execution_count": 14,
   "id": "prerequisite-return",
   "metadata": {},
   "outputs": [],
   "source": [
    "### Mean Statistics PCA-SARIMAX"
   ]
  },
  {
   "cell_type": "code",
   "execution_count": 15,
   "id": "legitimate-airport",
   "metadata": {},
   "outputs": [
    {
     "name": "stdout",
     "output_type": "stream",
     "text": [
      "Mean Statistics PCA-SARIMAX (test): \n"
     ]
    },
    {
     "data": {
      "text/html": [
       "<div>\n",
       "<style scoped>\n",
       "    .dataframe tbody tr th:only-of-type {\n",
       "        vertical-align: middle;\n",
       "    }\n",
       "\n",
       "    .dataframe tbody tr th {\n",
       "        vertical-align: top;\n",
       "    }\n",
       "\n",
       "    .dataframe thead th {\n",
       "        text-align: right;\n",
       "    }\n",
       "</style>\n",
       "<table border=\"1\" class=\"dataframe\">\n",
       "  <thead>\n",
       "    <tr style=\"text-align: right;\">\n",
       "      <th></th>\n",
       "      <th>rmse</th>\n",
       "      <th>mae</th>\n",
       "      <th>mape</th>\n",
       "      <th>smape</th>\n",
       "      <th>nrmse</th>\n",
       "      <th>rmse_std</th>\n",
       "      <th>mae_std</th>\n",
       "      <th>mape_std</th>\n",
       "      <th>smape_std</th>\n",
       "      <th>nrmse_std</th>\n",
       "    </tr>\n",
       "  </thead>\n",
       "  <tbody>\n",
       "    <tr>\n",
       "      <th>0</th>\n",
       "      <td>0.587</td>\n",
       "      <td>0.309</td>\n",
       "      <td>115.044</td>\n",
       "      <td>20.121</td>\n",
       "      <td>0.095</td>\n",
       "      <td>0.347</td>\n",
       "      <td>0.184</td>\n",
       "      <td>108.335</td>\n",
       "      <td>8.31</td>\n",
       "      <td>0.067</td>\n",
       "    </tr>\n",
       "  </tbody>\n",
       "</table>\n",
       "</div>"
      ],
      "text/plain": [
       "    rmse    mae     mape   smape  nrmse  rmse_std  mae_std  mape_std  \\\n",
       "0  0.587  0.309  115.044  20.121  0.095     0.347    0.184   108.335   \n",
       "\n",
       "   smape_std  nrmse_std  \n",
       "0       8.31      0.067  "
      ]
     },
     "execution_count": 15,
     "metadata": {},
     "output_type": "execute_result"
    }
   ],
   "source": [
    "final_result = {\n",
    "     \"rmse\": [],\n",
    "     \"mae\": [],\n",
    "     \"mape\": [],\n",
    "     \"smape\": [],\n",
    "     \"nrmse\":[],\n",
    "     \"rmse_std\": [],\n",
    "     \"mae_std\": [],\n",
    "     \"mape_std\": [],\n",
    "     \"smape_std\": [],\n",
    "     \"nrmse_std\": []\n",
    "}\n",
    "\n",
    "final_result[\"rmse\"].append(round(statistics.mean(measures['rmse']),3))\n",
    "final_result[\"mape\"].append(round(statistics.mean(measures['mape']),3))\n",
    "final_result[\"smape\"].append(round(statistics.mean(measures['smape']),3))\n",
    "final_result[\"mae\"].append(round(statistics.mean(measures['mae']),3))\n",
    "final_result[\"nrmse\"].append(round(statistics.mean(measures['nrmse']),3))\n",
    "\n",
    "final_result[\"rmse_std\"].append(round(statistics.stdev(measures['rmse']),3))\n",
    "final_result[\"mape_std\"].append(round(statistics.stdev(measures['mape']),3))\n",
    "final_result[\"smape_std\"].append(round(statistics.stdev(measures['smape']),3))\n",
    "final_result[\"mae_std\"].append(round(statistics.stdev(measures['mae']),3))\n",
    "final_result[\"nrmse_std\"].append(round(statistics.stdev(measures['nrmse']),3))\n",
    "        \n",
    "final_measures_pca = pd.DataFrame(final_result)\n",
    "\n",
    "print(\"Mean Statistics PCA-SARIMAX (test): \")\n",
    "final_measures_pca"
   ]
  },
  {
   "cell_type": "code",
   "execution_count": 16,
   "id": "approximate-durham",
   "metadata": {},
   "outputs": [],
   "source": [
    "#final_measures_pca.to_csv (r'pca_sarimax_ksh_10mim.csv', index = False, header=True)"
   ]
  },
  {
   "cell_type": "code",
   "execution_count": 16,
   "id": "stock-wells",
   "metadata": {},
   "outputs": [],
   "source": [
    "final_measures_pca.to_csv (r'pca_sarimax_ksh_1mim.csv', index = False, header=True)"
   ]
  },
  {
   "cell_type": "code",
   "execution_count": null,
   "id": "cultural-cigarette",
   "metadata": {},
   "outputs": [],
   "source": []
  }
 ],
 "metadata": {
  "kernelspec": {
   "display_name": "Python 3",
   "language": "python",
   "name": "python3"
  },
  "language_info": {
   "codemirror_mode": {
    "name": "ipython",
    "version": 3
   },
   "file_extension": ".py",
   "mimetype": "text/x-python",
   "name": "python",
   "nbconvert_exporter": "python",
   "pygments_lexer": "ipython3",
   "version": "3.8.5"
  }
 },
 "nbformat": 4,
 "nbformat_minor": 5
}
