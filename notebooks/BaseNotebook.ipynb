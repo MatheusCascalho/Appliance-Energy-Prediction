{
 "cells": [
  {
   "cell_type": "code",
   "execution_count": 1,
   "metadata": {},
   "outputs": [],
   "source": [
    "import pandas as pd\n",
    "import numpy as np\n",
    "import PreProcessing\n",
    "from sklearn.preprocessing import MinMaxScaler\n",
    "scaler = MinMaxScaler(feature_range=(0, 1))"
   ]
  },
  {
   "cell_type": "code",
   "execution_count": 2,
   "metadata": {},
   "outputs": [],
   "source": [
    "df = pd.read_csv('energydata_complete.csv')\n",
    "test = PreProcessing.PreProcessing(df, 'Appliances')\n",
    "test.clean(['index', 'date','rv1','rv2','T9','T6','Windspeed'])\n",
    "test.shift(1,1)\n",
    "df = test.data"
   ]
  },
  {
   "cell_type": "code",
   "execution_count": 3,
   "metadata": {},
   "outputs": [
    {
     "data": {
      "text/html": [
       "<div>\n",
       "<style scoped>\n",
       "    .dataframe tbody tr th:only-of-type {\n",
       "        vertical-align: middle;\n",
       "    }\n",
       "\n",
       "    .dataframe tbody tr th {\n",
       "        vertical-align: top;\n",
       "    }\n",
       "\n",
       "    .dataframe thead th {\n",
       "        text-align: right;\n",
       "    }\n",
       "</style>\n",
       "<table border=\"1\" class=\"dataframe\">\n",
       "  <thead>\n",
       "    <tr style=\"text-align: right;\">\n",
       "      <th></th>\n",
       "      <th>Appliances(t-1)</th>\n",
       "      <th>lights(t-1)</th>\n",
       "      <th>T1(t-1)</th>\n",
       "      <th>RH_1(t-1)</th>\n",
       "      <th>T2(t-1)</th>\n",
       "      <th>RH_2(t-1)</th>\n",
       "      <th>T3(t-1)</th>\n",
       "      <th>RH_3(t-1)</th>\n",
       "      <th>T4(t-1)</th>\n",
       "      <th>RH_4(t-1)</th>\n",
       "      <th>...</th>\n",
       "      <th>RH_7(t-1)</th>\n",
       "      <th>T8(t-1)</th>\n",
       "      <th>RH_8(t-1)</th>\n",
       "      <th>RH_9(t-1)</th>\n",
       "      <th>T_out(t-1)</th>\n",
       "      <th>Press_mm_hg(t-1)</th>\n",
       "      <th>RH_out(t-1)</th>\n",
       "      <th>Visibility(t-1)</th>\n",
       "      <th>Tdewpoint(t-1)</th>\n",
       "      <th>Appliances(t)</th>\n",
       "    </tr>\n",
       "  </thead>\n",
       "  <tbody>\n",
       "    <tr>\n",
       "      <th>0</th>\n",
       "      <td>60.0</td>\n",
       "      <td>30.0</td>\n",
       "      <td>19.89</td>\n",
       "      <td>47.596667</td>\n",
       "      <td>19.2</td>\n",
       "      <td>44.790000</td>\n",
       "      <td>19.79</td>\n",
       "      <td>44.730000</td>\n",
       "      <td>19.000000</td>\n",
       "      <td>45.566667</td>\n",
       "      <td>...</td>\n",
       "      <td>41.626667</td>\n",
       "      <td>18.2</td>\n",
       "      <td>48.900000</td>\n",
       "      <td>45.53</td>\n",
       "      <td>6.600000</td>\n",
       "      <td>733.5</td>\n",
       "      <td>92.0</td>\n",
       "      <td>63.000000</td>\n",
       "      <td>5.3</td>\n",
       "      <td>60</td>\n",
       "    </tr>\n",
       "    <tr>\n",
       "      <th>1</th>\n",
       "      <td>60.0</td>\n",
       "      <td>30.0</td>\n",
       "      <td>19.89</td>\n",
       "      <td>46.693333</td>\n",
       "      <td>19.2</td>\n",
       "      <td>44.722500</td>\n",
       "      <td>19.79</td>\n",
       "      <td>44.790000</td>\n",
       "      <td>19.000000</td>\n",
       "      <td>45.992500</td>\n",
       "      <td>...</td>\n",
       "      <td>41.560000</td>\n",
       "      <td>18.2</td>\n",
       "      <td>48.863333</td>\n",
       "      <td>45.56</td>\n",
       "      <td>6.483333</td>\n",
       "      <td>733.6</td>\n",
       "      <td>92.0</td>\n",
       "      <td>59.166667</td>\n",
       "      <td>5.2</td>\n",
       "      <td>50</td>\n",
       "    </tr>\n",
       "    <tr>\n",
       "      <th>2</th>\n",
       "      <td>50.0</td>\n",
       "      <td>30.0</td>\n",
       "      <td>19.89</td>\n",
       "      <td>46.300000</td>\n",
       "      <td>19.2</td>\n",
       "      <td>44.626667</td>\n",
       "      <td>19.79</td>\n",
       "      <td>44.933333</td>\n",
       "      <td>18.926667</td>\n",
       "      <td>45.890000</td>\n",
       "      <td>...</td>\n",
       "      <td>41.433333</td>\n",
       "      <td>18.2</td>\n",
       "      <td>48.730000</td>\n",
       "      <td>45.50</td>\n",
       "      <td>6.366667</td>\n",
       "      <td>733.7</td>\n",
       "      <td>92.0</td>\n",
       "      <td>55.333333</td>\n",
       "      <td>5.1</td>\n",
       "      <td>50</td>\n",
       "    </tr>\n",
       "    <tr>\n",
       "      <th>3</th>\n",
       "      <td>50.0</td>\n",
       "      <td>40.0</td>\n",
       "      <td>19.89</td>\n",
       "      <td>46.066667</td>\n",
       "      <td>19.2</td>\n",
       "      <td>44.590000</td>\n",
       "      <td>19.79</td>\n",
       "      <td>45.000000</td>\n",
       "      <td>18.890000</td>\n",
       "      <td>45.723333</td>\n",
       "      <td>...</td>\n",
       "      <td>41.290000</td>\n",
       "      <td>18.1</td>\n",
       "      <td>48.590000</td>\n",
       "      <td>45.40</td>\n",
       "      <td>6.250000</td>\n",
       "      <td>733.8</td>\n",
       "      <td>92.0</td>\n",
       "      <td>51.500000</td>\n",
       "      <td>5.0</td>\n",
       "      <td>60</td>\n",
       "    </tr>\n",
       "    <tr>\n",
       "      <th>4</th>\n",
       "      <td>60.0</td>\n",
       "      <td>40.0</td>\n",
       "      <td>19.89</td>\n",
       "      <td>46.333333</td>\n",
       "      <td>19.2</td>\n",
       "      <td>44.530000</td>\n",
       "      <td>19.79</td>\n",
       "      <td>45.000000</td>\n",
       "      <td>18.890000</td>\n",
       "      <td>45.530000</td>\n",
       "      <td>...</td>\n",
       "      <td>41.230000</td>\n",
       "      <td>18.1</td>\n",
       "      <td>48.590000</td>\n",
       "      <td>45.40</td>\n",
       "      <td>6.133333</td>\n",
       "      <td>733.9</td>\n",
       "      <td>92.0</td>\n",
       "      <td>47.666667</td>\n",
       "      <td>4.9</td>\n",
       "      <td>50</td>\n",
       "    </tr>\n",
       "  </tbody>\n",
       "</table>\n",
       "<p>5 rows × 24 columns</p>\n",
       "</div>"
      ],
      "text/plain": [
       "   Appliances(t-1)  lights(t-1)  T1(t-1)  RH_1(t-1)  T2(t-1)  RH_2(t-1)  \\\n",
       "0             60.0         30.0    19.89  47.596667     19.2  44.790000   \n",
       "1             60.0         30.0    19.89  46.693333     19.2  44.722500   \n",
       "2             50.0         30.0    19.89  46.300000     19.2  44.626667   \n",
       "3             50.0         40.0    19.89  46.066667     19.2  44.590000   \n",
       "4             60.0         40.0    19.89  46.333333     19.2  44.530000   \n",
       "\n",
       "   T3(t-1)  RH_3(t-1)    T4(t-1)  RH_4(t-1)  ...  RH_7(t-1)  T8(t-1)  \\\n",
       "0    19.79  44.730000  19.000000  45.566667  ...  41.626667     18.2   \n",
       "1    19.79  44.790000  19.000000  45.992500  ...  41.560000     18.2   \n",
       "2    19.79  44.933333  18.926667  45.890000  ...  41.433333     18.2   \n",
       "3    19.79  45.000000  18.890000  45.723333  ...  41.290000     18.1   \n",
       "4    19.79  45.000000  18.890000  45.530000  ...  41.230000     18.1   \n",
       "\n",
       "   RH_8(t-1)  RH_9(t-1)  T_out(t-1)  Press_mm_hg(t-1)  RH_out(t-1)  \\\n",
       "0  48.900000      45.53    6.600000             733.5         92.0   \n",
       "1  48.863333      45.56    6.483333             733.6         92.0   \n",
       "2  48.730000      45.50    6.366667             733.7         92.0   \n",
       "3  48.590000      45.40    6.250000             733.8         92.0   \n",
       "4  48.590000      45.40    6.133333             733.9         92.0   \n",
       "\n",
       "   Visibility(t-1)  Tdewpoint(t-1)  Appliances(t)  \n",
       "0        63.000000             5.3             60  \n",
       "1        59.166667             5.2             50  \n",
       "2        55.333333             5.1             50  \n",
       "3        51.500000             5.0             60  \n",
       "4        47.666667             4.9             50  \n",
       "\n",
       "[5 rows x 24 columns]"
      ]
     },
     "execution_count": 3,
     "metadata": {},
     "output_type": "execute_result"
    }
   ],
   "source": [
    "df.head()"
   ]
  },
  {
   "cell_type": "code",
   "execution_count": 9,
   "metadata": {},
   "outputs": [
    {
     "name": "stdout",
     "output_type": "stream",
     "text": [
      "(14800, 23) (14800, 1) (4934, 23) (4934, 1)\n"
     ]
    }
   ],
   "source": [
    "test.get_train_test_normalized(0.75, 'Appliances(t)')\n",
    "X_train, X_test, y_train, y_test = test.X_train, test.X_test, test.y_train, test.y_test\n",
    "print (X_train.shape, y_train.shape, X_test.shape, y_test.shape)"
   ]
  },
  {
   "cell_type": "markdown",
   "metadata": {},
   "source": [
    "Para a LSTM"
   ]
  },
  {
   "cell_type": "code",
   "execution_count": 10,
   "metadata": {},
   "outputs": [
    {
     "name": "stdout",
     "output_type": "stream",
     "text": [
      "(14800, 1, 23) (14800, 1) (4934, 1, 23) (4934, 1)\n"
     ]
    }
   ],
   "source": [
    "test.reshape_LSTM()\n",
    "X_train, X_test, y_train, y_test = test.X_train, test.X_test, test.y_train, test.y_test\n",
    "print (X_train.shape, y_train.shape, X_test.shape, y_test.shape)"
   ]
  },
  {
   "cell_type": "code",
   "execution_count": 11,
   "metadata": {},
   "outputs": [],
   "source": [
    "from keras.models import Model, Sequential\n",
    "from keras.layers import Dense, Input, LSTM, Dropout\n",
    "from keras import regularizers\n",
    "# design network\n",
    "neurons = 50\n",
    "batch_size = 32\n",
    "epochs = 25\n",
    "model = Sequential()\n",
    "model.add(LSTM(neurons, input_shape=(X_train.shape[1], X_train.shape[2])))\n",
    "model.add(Dense(1))\n",
    "model.compile(loss='mse', optimizer='adam')"
   ]
  },
  {
   "cell_type": "code",
   "execution_count": 12,
   "metadata": {},
   "outputs": [],
   "source": [
    "# design network\n",
    "from keras.callbacks import EarlyStopping\n",
    "model = Sequential()\n",
    "model.add(LSTM(50, input_shape=(X_train.shape[1], X_train.shape[2]), return_sequences=True, activity_regularizer=regularizers.l2(10e-5),\n",
    "               activation='relu', kernel_regularizer=regularizers.l1(10e-5), recurrent_regularizer = regularizers.l2(10e-5)))\n",
    "model.add(LSTM(30, input_shape=(X_train.shape[1], X_train.shape[2]), return_sequences=True, activation='relu'))\n",
    "model.add(LSTM(10, input_shape=(X_train.shape[1], X_train.shape[2]), return_sequences=False, activation='relu'))\n",
    "#model.add(LSTM(5, input_shape=(train_X.shape[1], train_X.shape[2]), return_sequences=False, activation='relu'))\n",
    "#model.add(LSTM(1, input_shape=(train_X.shape[1], train_X.shape[2]))) \n",
    "#model.add(Dropout(0.2))\n",
    "model.add(Dense(1, activation='sigmoid'))\n",
    "\n",
    "model.compile(loss='mse', optimizer='adam',metrics=['mse'])\n",
    "es = EarlyStopping(monitor='mse', mode='min', verbose=1, patience=30)"
   ]
  },
  {
   "cell_type": "code",
   "execution_count": 13,
   "metadata": {},
   "outputs": [
    {
     "name": "stdout",
     "output_type": "stream",
     "text": [
      "Epoch 1/25\n",
      "417/417 [==============================] - 10s 8ms/step - loss: 0.0963 - mse: 0.0755 - val_loss: 0.0129 - val_mse: 0.0089\n",
      "Epoch 2/25\n",
      "417/417 [==============================] - 2s 4ms/step - loss: 0.0114 - mse: 0.0080 - val_loss: 0.0068 - val_mse: 0.0047\n",
      "Epoch 3/25\n",
      "417/417 [==============================] - 1s 3ms/step - loss: 0.0064 - mse: 0.0046 - val_loss: 0.0053 - val_mse: 0.0041\n",
      "Epoch 4/25\n",
      "417/417 [==============================] - 3s 6ms/step - loss: 0.0054 - mse: 0.0043 - val_loss: 0.0049 - val_mse: 0.0041\n",
      "Epoch 5/25\n",
      "417/417 [==============================] - 3s 7ms/step - loss: 0.0050 - mse: 0.0043 - val_loss: 0.0047 - val_mse: 0.0041\n",
      "Epoch 6/25\n",
      "417/417 [==============================] - 1s 3ms/step - loss: 0.0049 - mse: 0.0043 - val_loss: 0.0046 - val_mse: 0.0041\n",
      "Epoch 7/25\n",
      "417/417 [==============================] - 3s 7ms/step - loss: 0.0048 - mse: 0.0043 - val_loss: 0.0046 - val_mse: 0.0041\n",
      "Epoch 8/25\n",
      "417/417 [==============================] - 2s 6ms/step - loss: 0.0048 - mse: 0.0043 - val_loss: 0.0046 - val_mse: 0.0041\n",
      "Epoch 9/25\n",
      "417/417 [==============================] - 2s 4ms/step - loss: 0.0048 - mse: 0.0043 - val_loss: 0.0045 - val_mse: 0.0040\n",
      "Epoch 10/25\n",
      "417/417 [==============================] - 2s 4ms/step - loss: 0.0047 - mse: 0.0042 - val_loss: 0.0044 - val_mse: 0.0040\n",
      "Epoch 11/25\n",
      "417/417 [==============================] - 3s 6ms/step - loss: 0.0047 - mse: 0.0042 - val_loss: 0.0044 - val_mse: 0.0040\n",
      "Epoch 12/25\n",
      "417/417 [==============================] - 1s 2ms/step - loss: 0.0046 - mse: 0.0042 - val_loss: 0.0044 - val_mse: 0.0039\n",
      "Epoch 13/25\n",
      "417/417 [==============================] - 2s 6ms/step - loss: 0.0046 - mse: 0.0041 - val_loss: 0.0043 - val_mse: 0.0039\n",
      "Epoch 14/25\n",
      "417/417 [==============================] - 3s 7ms/step - loss: 0.0046 - mse: 0.0041 - val_loss: 0.0043 - val_mse: 0.0039\n",
      "Epoch 15/25\n",
      "417/417 [==============================] - 3s 6ms/step - loss: 0.0046 - mse: 0.0041 - val_loss: 0.0043 - val_mse: 0.0039\n",
      "Epoch 16/25\n",
      "417/417 [==============================] - 1s 3ms/step - loss: 0.0045 - mse: 0.0041 - val_loss: 0.0043 - val_mse: 0.0039\n",
      "Epoch 17/25\n",
      "417/417 [==============================] - 3s 6ms/step - loss: 0.0045 - mse: 0.0041 - val_loss: 0.0043 - val_mse: 0.0039\n",
      "Epoch 18/25\n",
      "417/417 [==============================] - 3s 6ms/step - loss: 0.0045 - mse: 0.0041 - val_loss: 0.0043 - val_mse: 0.0039\n",
      "Epoch 19/25\n",
      "417/417 [==============================] - 1s 3ms/step - loss: 0.0045 - mse: 0.0041 - val_loss: 0.0043 - val_mse: 0.0039\n",
      "Epoch 20/25\n",
      "417/417 [==============================] - 3s 6ms/step - loss: 0.0045 - mse: 0.0041 - val_loss: 0.0042 - val_mse: 0.0039\n",
      "Epoch 21/25\n",
      "417/417 [==============================] - 3s 6ms/step - loss: 0.0045 - mse: 0.0041 - val_loss: 0.0042 - val_mse: 0.0039\n",
      "Epoch 22/25\n",
      "417/417 [==============================] - 2s 5ms/step - loss: 0.0045 - mse: 0.0041 - val_loss: 0.0042 - val_mse: 0.0039\n",
      "Epoch 23/25\n",
      "417/417 [==============================] - 1s 3ms/step - loss: 0.0045 - mse: 0.0041 - val_loss: 0.0042 - val_mse: 0.0039\n",
      "Epoch 24/25\n",
      "417/417 [==============================] - 2s 6ms/step - loss: 0.0045 - mse: 0.0041 - val_loss: 0.0042 - val_mse: 0.0039\n",
      "Epoch 25/25\n",
      "417/417 [==============================] - 3s 7ms/step - loss: 0.0045 - mse: 0.0041 - val_loss: 0.0042 - val_mse: 0.0039\n"
     ]
    },
    {
     "data": {
      "image/png": "[encoded data removed]",
      "text/plain": [
       "<Figure size 432x288 with 1 Axes>"
      ]
     },
     "metadata": {
      "needs_background": "light"
     },
     "output_type": "display_data"
    }
   ],
   "source": [
    "# fit network\n",
    "import matplotlib.pyplot as plt\n",
    "history = model.fit(X_train, y_train, epochs=epochs, batch_size=batch_size, verbose=1, validation_split=0.1,  shuffle=False)\n",
    "# plot history\n",
    "plt.clf()\n",
    "plt.plot(history.history['loss'], label='train')\n",
    "plt.plot(history.history['val_loss'], label='test')\n",
    "plt.legend()\n",
    "plt.show()\n",
    "plt.savefig('loss.png')\n",
    "plt.close('all')"
   ]
  },
  {
   "cell_type": "code",
   "execution_count": 14,
   "metadata": {},
   "outputs": [],
   "source": [
    "yhat = model.predict(X_test)\n",
    "y_test, y_pred = test.inverse_LSTM(yhat)"
   ]
  },
  {
   "cell_type": "code",
   "execution_count": 15,
   "metadata": {},
   "outputs": [
    {
     "name": "stdout",
     "output_type": "stream",
     "text": [
      "Test RMSE: 68.154\n"
     ]
    }
   ],
   "source": [
    "from pyFTS.benchmarks import Measures\n",
    "rmse = Measures.rmse(y_test, y_pred)\n",
    "print('Test RMSE: %.3f' % rmse)"
   ]
  },
  {
   "cell_type": "code",
   "execution_count": null,
   "metadata": {},
   "outputs": [],
   "source": []
  },
  {
   "cell_type": "code",
   "execution_count": null,
   "metadata": {},
   "outputs": [],
   "source": []
  }
 ],
 "metadata": {
  "interpreter": {
   "hash": "767d51c1340bd893661ea55ea3124f6de3c7a262a8b4abca0554b478b1e2ff90"
  },
  "kernelspec": {
   "display_name": "Python 3.9.6 64-bit ('base': conda)",
   "name": "python3"
  },
  "language_info": {
   "codemirror_mode": {
    "name": "ipython",
    "version": 3
   },
   "file_extension": ".py",
   "mimetype": "text/x-python",
   "name": "python",
   "nbconvert_exporter": "python",
   "pygments_lexer": "ipython3",
   "version": "3.9.6"
  },
  "orig_nbformat": 4
 },
 "nbformat": 4,
 "nbformat_minor": 2
}