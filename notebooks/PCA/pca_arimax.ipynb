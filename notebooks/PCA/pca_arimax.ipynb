{
 "cells": [
  {
   "cell_type": "code",
   "execution_count": 6,
   "id": "vocational-contamination",
   "metadata": {},
   "outputs": [],
   "source": [
    "import sys\n",
    "sys.path.append(\"/home/hugo/projetos-doutorado/Appliance-Energy-Prediction\")\n",
    "import pandas as pd\n",
    "from pca_fts.PcaArimax import PcaArimax\n",
    "from pyFTS.benchmarks import Measures\n",
    "import matplotlib.pyplot as plt\n",
    "from pyFTS.common import Util\n",
    "import datetime\n",
    "import statistics\n",
    "import math"
   ]
  },
  {
   "cell_type": "markdown",
   "id": "clear-group",
   "metadata": {},
   "source": [
    "## Aux functions"
   ]
  },
  {
   "cell_type": "code",
   "execution_count": 2,
   "id": "welcome-dictionary",
   "metadata": {},
   "outputs": [],
   "source": [
    "def sample_first_prows(data, perc=0.75):\n",
    "    return data.head(int(len(data)*(perc)))"
   ]
  },
  {
   "cell_type": "code",
   "execution_count": 7,
   "id": "affecting-clearing",
   "metadata": {},
   "outputs": [],
   "source": [
    "# convert series to supervised learning\n",
    "def series_to_supervised(data, n_in=1, n_out=1, dropnan=True):\n",
    "\t\"\"\"\n",
    "\tFrame a time series as a supervised learning dataset.\n",
    "\tArguments:\n",
    "\t\tdata: Sequence of observations as a list or NumPy array.\n",
    "\t\tn_in: Number of lag observations as input (X).\n",
    "\t\tn_out: Number of observations as output (y).\n",
    "\t\tdropnan: Boolean whether or not to drop rows with NaN values.\n",
    "\tReturns:\n",
    "\t\tPandas DataFrame of series framed for supervised learning.\n",
    "\t\"\"\"\n",
    "\tn_vars = 1 if type(data) is list else data.shape[1]\n",
    "\tdf = pd.DataFrame(data)\n",
    "\tcols, names = list(), list()\n",
    "\t# input sequence (t-n, ... t-1)\n",
    "\tfor i in range(n_in, 0, -1):\n",
    "\t\tcols.append(df.shift(i))\n",
    "\t\tnames += [('var%d(t-%d)' % (j+1, i)) for j in range(n_vars)]\n",
    "\t# forecast sequence (t, t+1, ... t+n)\n",
    "\tfor i in range(0, n_out):\n",
    "\t\tcols.append(df.shift(-i))\n",
    "\t\tif i == 0:\n",
    "\t\t\tnames += [('var%d(t)' % (j+1)) for j in range(n_vars)]\n",
    "\t\telse:\n",
    "\t\t\tnames += [('var%d(t+%d)' % (j+1, i)) for j in range(n_vars)]\n",
    "\t# put it all together\n",
    "\tagg = pd.concat(cols, axis=1)\n",
    "\tagg.columns = names\n",
    "\t# drop rows with NaN values\n",
    "\tif dropnan:\n",
    "\t\tagg.dropna(inplace=True)\n",
    "\treturn agg"
   ]
  },
  {
   "cell_type": "markdown",
   "id": "filled-movement",
   "metadata": {},
   "source": [
    "## Dataset Energy Appliances"
   ]
  },
  {
   "cell_type": "code",
   "execution_count": 8,
   "id": "allied-cigarette",
   "metadata": {},
   "outputs": [
    {
     "data": {
      "text/html": [
       "<div>\n",
       "<style scoped>\n",
       "    .dataframe tbody tr th:only-of-type {\n",
       "        vertical-align: middle;\n",
       "    }\n",
       "\n",
       "    .dataframe tbody tr th {\n",
       "        vertical-align: top;\n",
       "    }\n",
       "\n",
       "    .dataframe thead th {\n",
       "        text-align: right;\n",
       "    }\n",
       "</style>\n",
       "<table border=\"1\" class=\"dataframe\">\n",
       "  <thead>\n",
       "    <tr style=\"text-align: right;\">\n",
       "      <th></th>\n",
       "      <th>Appliances</th>\n",
       "      <th>lights</th>\n",
       "      <th>T1</th>\n",
       "      <th>RH_1</th>\n",
       "      <th>T2</th>\n",
       "      <th>RH_2</th>\n",
       "      <th>T3</th>\n",
       "      <th>RH_3</th>\n",
       "      <th>T4</th>\n",
       "      <th>RH_4</th>\n",
       "      <th>...</th>\n",
       "      <th>T8</th>\n",
       "      <th>RH_8</th>\n",
       "      <th>T9</th>\n",
       "      <th>RH_9</th>\n",
       "      <th>T_out</th>\n",
       "      <th>Press_mm_hg</th>\n",
       "      <th>RH_out</th>\n",
       "      <th>Windspeed</th>\n",
       "      <th>Visibility</th>\n",
       "      <th>Tdewpoint</th>\n",
       "    </tr>\n",
       "  </thead>\n",
       "  <tbody>\n",
       "    <tr>\n",
       "      <th>0</th>\n",
       "      <td>60</td>\n",
       "      <td>30</td>\n",
       "      <td>19.89</td>\n",
       "      <td>47.596667</td>\n",
       "      <td>19.2</td>\n",
       "      <td>44.790000</td>\n",
       "      <td>19.79</td>\n",
       "      <td>44.730000</td>\n",
       "      <td>19.000000</td>\n",
       "      <td>45.566667</td>\n",
       "      <td>...</td>\n",
       "      <td>18.2</td>\n",
       "      <td>48.900000</td>\n",
       "      <td>17.033333</td>\n",
       "      <td>45.53</td>\n",
       "      <td>6.600000</td>\n",
       "      <td>733.5</td>\n",
       "      <td>92.0</td>\n",
       "      <td>7.000000</td>\n",
       "      <td>63.000000</td>\n",
       "      <td>5.3</td>\n",
       "    </tr>\n",
       "    <tr>\n",
       "      <th>1</th>\n",
       "      <td>60</td>\n",
       "      <td>30</td>\n",
       "      <td>19.89</td>\n",
       "      <td>46.693333</td>\n",
       "      <td>19.2</td>\n",
       "      <td>44.722500</td>\n",
       "      <td>19.79</td>\n",
       "      <td>44.790000</td>\n",
       "      <td>19.000000</td>\n",
       "      <td>45.992500</td>\n",
       "      <td>...</td>\n",
       "      <td>18.2</td>\n",
       "      <td>48.863333</td>\n",
       "      <td>17.066667</td>\n",
       "      <td>45.56</td>\n",
       "      <td>6.483333</td>\n",
       "      <td>733.6</td>\n",
       "      <td>92.0</td>\n",
       "      <td>6.666667</td>\n",
       "      <td>59.166667</td>\n",
       "      <td>5.2</td>\n",
       "    </tr>\n",
       "    <tr>\n",
       "      <th>2</th>\n",
       "      <td>50</td>\n",
       "      <td>30</td>\n",
       "      <td>19.89</td>\n",
       "      <td>46.300000</td>\n",
       "      <td>19.2</td>\n",
       "      <td>44.626667</td>\n",
       "      <td>19.79</td>\n",
       "      <td>44.933333</td>\n",
       "      <td>18.926667</td>\n",
       "      <td>45.890000</td>\n",
       "      <td>...</td>\n",
       "      <td>18.2</td>\n",
       "      <td>48.730000</td>\n",
       "      <td>17.000000</td>\n",
       "      <td>45.50</td>\n",
       "      <td>6.366667</td>\n",
       "      <td>733.7</td>\n",
       "      <td>92.0</td>\n",
       "      <td>6.333333</td>\n",
       "      <td>55.333333</td>\n",
       "      <td>5.1</td>\n",
       "    </tr>\n",
       "    <tr>\n",
       "      <th>3</th>\n",
       "      <td>50</td>\n",
       "      <td>40</td>\n",
       "      <td>19.89</td>\n",
       "      <td>46.066667</td>\n",
       "      <td>19.2</td>\n",
       "      <td>44.590000</td>\n",
       "      <td>19.79</td>\n",
       "      <td>45.000000</td>\n",
       "      <td>18.890000</td>\n",
       "      <td>45.723333</td>\n",
       "      <td>...</td>\n",
       "      <td>18.1</td>\n",
       "      <td>48.590000</td>\n",
       "      <td>17.000000</td>\n",
       "      <td>45.40</td>\n",
       "      <td>6.250000</td>\n",
       "      <td>733.8</td>\n",
       "      <td>92.0</td>\n",
       "      <td>6.000000</td>\n",
       "      <td>51.500000</td>\n",
       "      <td>5.0</td>\n",
       "    </tr>\n",
       "    <tr>\n",
       "      <th>4</th>\n",
       "      <td>60</td>\n",
       "      <td>40</td>\n",
       "      <td>19.89</td>\n",
       "      <td>46.333333</td>\n",
       "      <td>19.2</td>\n",
       "      <td>44.530000</td>\n",
       "      <td>19.79</td>\n",
       "      <td>45.000000</td>\n",
       "      <td>18.890000</td>\n",
       "      <td>45.530000</td>\n",
       "      <td>...</td>\n",
       "      <td>18.1</td>\n",
       "      <td>48.590000</td>\n",
       "      <td>17.000000</td>\n",
       "      <td>45.40</td>\n",
       "      <td>6.133333</td>\n",
       "      <td>733.9</td>\n",
       "      <td>92.0</td>\n",
       "      <td>5.666667</td>\n",
       "      <td>47.666667</td>\n",
       "      <td>4.9</td>\n",
       "    </tr>\n",
       "  </tbody>\n",
       "</table>\n",
       "<p>5 rows × 26 columns</p>\n",
       "</div>"
      ],
      "text/plain": [
       "   Appliances  lights     T1       RH_1    T2       RH_2     T3       RH_3  \\\n",
       "0          60      30  19.89  47.596667  19.2  44.790000  19.79  44.730000   \n",
       "1          60      30  19.89  46.693333  19.2  44.722500  19.79  44.790000   \n",
       "2          50      30  19.89  46.300000  19.2  44.626667  19.79  44.933333   \n",
       "3          50      40  19.89  46.066667  19.2  44.590000  19.79  45.000000   \n",
       "4          60      40  19.89  46.333333  19.2  44.530000  19.79  45.000000   \n",
       "\n",
       "          T4       RH_4  ...    T8       RH_8         T9   RH_9     T_out  \\\n",
       "0  19.000000  45.566667  ...  18.2  48.900000  17.033333  45.53  6.600000   \n",
       "1  19.000000  45.992500  ...  18.2  48.863333  17.066667  45.56  6.483333   \n",
       "2  18.926667  45.890000  ...  18.2  48.730000  17.000000  45.50  6.366667   \n",
       "3  18.890000  45.723333  ...  18.1  48.590000  17.000000  45.40  6.250000   \n",
       "4  18.890000  45.530000  ...  18.1  48.590000  17.000000  45.40  6.133333   \n",
       "\n",
       "   Press_mm_hg  RH_out  Windspeed  Visibility  Tdewpoint  \n",
       "0        733.5    92.0   7.000000   63.000000        5.3  \n",
       "1        733.6    92.0   6.666667   59.166667        5.2  \n",
       "2        733.7    92.0   6.333333   55.333333        5.1  \n",
       "3        733.8    92.0   6.000000   51.500000        5.0  \n",
       "4        733.9    92.0   5.666667   47.666667        4.9  \n",
       "\n",
       "[5 rows x 26 columns]"
      ]
     },
     "execution_count": 8,
     "metadata": {},
     "output_type": "execute_result"
    }
   ],
   "source": [
    "filename = '/home/hugo/projetos-doutorado/Appliance-Energy-Prediction/data/energydata_complete.csv'\n",
    "data = pd.read_csv(filename)\n",
    "data.pop('date')\n",
    "data.pop('rv1')\n",
    "data.pop('rv2')\n",
    "data.head()"
   ]
  },
  {
   "cell_type": "code",
   "execution_count": 9,
   "id": "inside-consistency",
   "metadata": {},
   "outputs": [
    {
     "data": {
      "text/plain": [
       "array([[ 60.        ,  30.        ,  19.89      , ...,   7.        ,\n",
       "         63.        ,   5.3       ],\n",
       "       [ 60.        ,  30.        ,  19.89      , ...,   6.66666667,\n",
       "         59.16666667,   5.2       ],\n",
       "       [ 50.        ,  30.        ,  19.89      , ...,   6.33333333,\n",
       "         55.33333333,   5.1       ],\n",
       "       ...,\n",
       "       [270.        ,  10.        ,  25.5       , ...,   3.66666667,\n",
       "         25.33333333,  13.26666667],\n",
       "       [420.        ,  10.        ,  25.5       , ...,   3.83333333,\n",
       "         26.16666667,  13.23333333],\n",
       "       [430.        ,  10.        ,  25.5       , ...,   4.        ,\n",
       "         27.        ,  13.2       ]])"
      ]
     },
     "execution_count": 9,
     "metadata": {},
     "output_type": "execute_result"
    }
   ],
   "source": [
    "values = data.values\n",
    "values"
   ]
  },
  {
   "cell_type": "markdown",
   "id": "fleet-particular",
   "metadata": {},
   "source": [
    "### Dataset Energy Appliances: columns"
   ]
  },
  {
   "cell_type": "code",
   "execution_count": 10,
   "id": "olympic-humidity",
   "metadata": {},
   "outputs": [
    {
     "name": "stdout",
     "output_type": "stream",
     "text": [
      "['Appliances', 'lights', 'T1', 'RH_1', 'T2', 'RH_2', 'T3', 'RH_3', 'T4', 'RH_4', 'T5', 'RH_5', 'T6', 'RH_6', 'T7', 'RH_7', 'T8', 'RH_8', 'T9', 'RH_9', 'T_out', 'Press_mm_hg', 'RH_out', 'Windspeed', 'Visibility', 'Tdewpoint', 'Appliances_t+1']\n"
     ]
    }
   ],
   "source": [
    "cols = data.columns\n",
    "list_cols = list(cols)\n",
    "list_cols.append('Appliances_t+1')\n",
    "print(list_cols)"
   ]
  },
  {
   "cell_type": "markdown",
   "id": "aggregate-flour",
   "metadata": {},
   "source": [
    "## Dataset Energy Appliance: Preprocessing, Lag = 1, t+1"
   ]
  },
  {
   "cell_type": "code",
   "execution_count": 11,
   "id": "statewide-banana",
   "metadata": {},
   "outputs": [
    {
     "data": {
      "text/html": [
       "<div>\n",
       "<style scoped>\n",
       "    .dataframe tbody tr th:only-of-type {\n",
       "        vertical-align: middle;\n",
       "    }\n",
       "\n",
       "    .dataframe tbody tr th {\n",
       "        vertical-align: top;\n",
       "    }\n",
       "\n",
       "    .dataframe thead th {\n",
       "        text-align: right;\n",
       "    }\n",
       "</style>\n",
       "<table border=\"1\" class=\"dataframe\">\n",
       "  <thead>\n",
       "    <tr style=\"text-align: right;\">\n",
       "      <th></th>\n",
       "      <th>var1(t-1)</th>\n",
       "      <th>var2(t-1)</th>\n",
       "      <th>var3(t-1)</th>\n",
       "      <th>var4(t-1)</th>\n",
       "      <th>var5(t-1)</th>\n",
       "      <th>var6(t-1)</th>\n",
       "      <th>var7(t-1)</th>\n",
       "      <th>var8(t-1)</th>\n",
       "      <th>var9(t-1)</th>\n",
       "      <th>var10(t-1)</th>\n",
       "      <th>...</th>\n",
       "      <th>var18(t-1)</th>\n",
       "      <th>var19(t-1)</th>\n",
       "      <th>var20(t-1)</th>\n",
       "      <th>var21(t-1)</th>\n",
       "      <th>var22(t-1)</th>\n",
       "      <th>var23(t-1)</th>\n",
       "      <th>var24(t-1)</th>\n",
       "      <th>var25(t-1)</th>\n",
       "      <th>var26(t-1)</th>\n",
       "      <th>var1(t)</th>\n",
       "    </tr>\n",
       "  </thead>\n",
       "  <tbody>\n",
       "    <tr>\n",
       "      <th>1</th>\n",
       "      <td>60.0</td>\n",
       "      <td>30.0</td>\n",
       "      <td>19.89</td>\n",
       "      <td>47.596667</td>\n",
       "      <td>19.2</td>\n",
       "      <td>44.790000</td>\n",
       "      <td>19.79</td>\n",
       "      <td>44.730000</td>\n",
       "      <td>19.000000</td>\n",
       "      <td>45.566667</td>\n",
       "      <td>...</td>\n",
       "      <td>48.900000</td>\n",
       "      <td>17.033333</td>\n",
       "      <td>45.53</td>\n",
       "      <td>6.600000</td>\n",
       "      <td>733.5</td>\n",
       "      <td>92.0</td>\n",
       "      <td>7.000000</td>\n",
       "      <td>63.000000</td>\n",
       "      <td>5.3</td>\n",
       "      <td>60.0</td>\n",
       "    </tr>\n",
       "    <tr>\n",
       "      <th>2</th>\n",
       "      <td>60.0</td>\n",
       "      <td>30.0</td>\n",
       "      <td>19.89</td>\n",
       "      <td>46.693333</td>\n",
       "      <td>19.2</td>\n",
       "      <td>44.722500</td>\n",
       "      <td>19.79</td>\n",
       "      <td>44.790000</td>\n",
       "      <td>19.000000</td>\n",
       "      <td>45.992500</td>\n",
       "      <td>...</td>\n",
       "      <td>48.863333</td>\n",
       "      <td>17.066667</td>\n",
       "      <td>45.56</td>\n",
       "      <td>6.483333</td>\n",
       "      <td>733.6</td>\n",
       "      <td>92.0</td>\n",
       "      <td>6.666667</td>\n",
       "      <td>59.166667</td>\n",
       "      <td>5.2</td>\n",
       "      <td>50.0</td>\n",
       "    </tr>\n",
       "    <tr>\n",
       "      <th>3</th>\n",
       "      <td>50.0</td>\n",
       "      <td>30.0</td>\n",
       "      <td>19.89</td>\n",
       "      <td>46.300000</td>\n",
       "      <td>19.2</td>\n",
       "      <td>44.626667</td>\n",
       "      <td>19.79</td>\n",
       "      <td>44.933333</td>\n",
       "      <td>18.926667</td>\n",
       "      <td>45.890000</td>\n",
       "      <td>...</td>\n",
       "      <td>48.730000</td>\n",
       "      <td>17.000000</td>\n",
       "      <td>45.50</td>\n",
       "      <td>6.366667</td>\n",
       "      <td>733.7</td>\n",
       "      <td>92.0</td>\n",
       "      <td>6.333333</td>\n",
       "      <td>55.333333</td>\n",
       "      <td>5.1</td>\n",
       "      <td>50.0</td>\n",
       "    </tr>\n",
       "    <tr>\n",
       "      <th>4</th>\n",
       "      <td>50.0</td>\n",
       "      <td>40.0</td>\n",
       "      <td>19.89</td>\n",
       "      <td>46.066667</td>\n",
       "      <td>19.2</td>\n",
       "      <td>44.590000</td>\n",
       "      <td>19.79</td>\n",
       "      <td>45.000000</td>\n",
       "      <td>18.890000</td>\n",
       "      <td>45.723333</td>\n",
       "      <td>...</td>\n",
       "      <td>48.590000</td>\n",
       "      <td>17.000000</td>\n",
       "      <td>45.40</td>\n",
       "      <td>6.250000</td>\n",
       "      <td>733.8</td>\n",
       "      <td>92.0</td>\n",
       "      <td>6.000000</td>\n",
       "      <td>51.500000</td>\n",
       "      <td>5.0</td>\n",
       "      <td>60.0</td>\n",
       "    </tr>\n",
       "    <tr>\n",
       "      <th>5</th>\n",
       "      <td>60.0</td>\n",
       "      <td>40.0</td>\n",
       "      <td>19.89</td>\n",
       "      <td>46.333333</td>\n",
       "      <td>19.2</td>\n",
       "      <td>44.530000</td>\n",
       "      <td>19.79</td>\n",
       "      <td>45.000000</td>\n",
       "      <td>18.890000</td>\n",
       "      <td>45.530000</td>\n",
       "      <td>...</td>\n",
       "      <td>48.590000</td>\n",
       "      <td>17.000000</td>\n",
       "      <td>45.40</td>\n",
       "      <td>6.133333</td>\n",
       "      <td>733.9</td>\n",
       "      <td>92.0</td>\n",
       "      <td>5.666667</td>\n",
       "      <td>47.666667</td>\n",
       "      <td>4.9</td>\n",
       "      <td>50.0</td>\n",
       "    </tr>\n",
       "  </tbody>\n",
       "</table>\n",
       "<p>5 rows × 27 columns</p>\n",
       "</div>"
      ],
      "text/plain": [
       "   var1(t-1)  var2(t-1)  var3(t-1)  var4(t-1)  var5(t-1)  var6(t-1)  \\\n",
       "1       60.0       30.0      19.89  47.596667       19.2  44.790000   \n",
       "2       60.0       30.0      19.89  46.693333       19.2  44.722500   \n",
       "3       50.0       30.0      19.89  46.300000       19.2  44.626667   \n",
       "4       50.0       40.0      19.89  46.066667       19.2  44.590000   \n",
       "5       60.0       40.0      19.89  46.333333       19.2  44.530000   \n",
       "\n",
       "   var7(t-1)  var8(t-1)  var9(t-1)  var10(t-1)  ...  var18(t-1)  var19(t-1)  \\\n",
       "1      19.79  44.730000  19.000000   45.566667  ...   48.900000   17.033333   \n",
       "2      19.79  44.790000  19.000000   45.992500  ...   48.863333   17.066667   \n",
       "3      19.79  44.933333  18.926667   45.890000  ...   48.730000   17.000000   \n",
       "4      19.79  45.000000  18.890000   45.723333  ...   48.590000   17.000000   \n",
       "5      19.79  45.000000  18.890000   45.530000  ...   48.590000   17.000000   \n",
       "\n",
       "   var20(t-1)  var21(t-1)  var22(t-1)  var23(t-1)  var24(t-1)  var25(t-1)  \\\n",
       "1       45.53    6.600000       733.5        92.0    7.000000   63.000000   \n",
       "2       45.56    6.483333       733.6        92.0    6.666667   59.166667   \n",
       "3       45.50    6.366667       733.7        92.0    6.333333   55.333333   \n",
       "4       45.40    6.250000       733.8        92.0    6.000000   51.500000   \n",
       "5       45.40    6.133333       733.9        92.0    5.666667   47.666667   \n",
       "\n",
       "   var26(t-1)  var1(t)  \n",
       "1         5.3     60.0  \n",
       "2         5.2     50.0  \n",
       "3         5.1     50.0  \n",
       "4         5.0     60.0  \n",
       "5         4.9     50.0  \n",
       "\n",
       "[5 rows x 27 columns]"
      ]
     },
     "execution_count": 11,
     "metadata": {},
     "output_type": "execute_result"
    }
   ],
   "source": [
    "# frame as supervised learning\n",
    "reframed = series_to_supervised(values, 1, 1)\n",
    "# drop columns we don't want to predict\n",
    "reframed.drop(reframed.columns[[27,28,29,30,31,32,33,34,35,36,37,38,39,40,41,42,43,44,45,46,47,48,49,50,51]], axis=1, inplace=True)\n",
    "#reframed.drop(reframed.columns[[0,27,28,29,30,31,32,33,34,35,36,37,38,39,40,41,42,43,44,45,46,47,48,49,50,51]], axis=1, inplace=True)\n",
    "reframed.head()"
   ]
  },
  {
   "cell_type": "code",
   "execution_count": 12,
   "id": "inner-arlington",
   "metadata": {},
   "outputs": [
    {
     "data": {
      "text/html": [
       "<div>\n",
       "<style scoped>\n",
       "    .dataframe tbody tr th:only-of-type {\n",
       "        vertical-align: middle;\n",
       "    }\n",
       "\n",
       "    .dataframe tbody tr th {\n",
       "        vertical-align: top;\n",
       "    }\n",
       "\n",
       "    .dataframe thead th {\n",
       "        text-align: right;\n",
       "    }\n",
       "</style>\n",
       "<table border=\"1\" class=\"dataframe\">\n",
       "  <thead>\n",
       "    <tr style=\"text-align: right;\">\n",
       "      <th></th>\n",
       "      <th>Appliances</th>\n",
       "      <th>lights</th>\n",
       "      <th>T1</th>\n",
       "      <th>RH_1</th>\n",
       "      <th>T2</th>\n",
       "      <th>RH_2</th>\n",
       "      <th>T3</th>\n",
       "      <th>RH_3</th>\n",
       "      <th>T4</th>\n",
       "      <th>RH_4</th>\n",
       "      <th>...</th>\n",
       "      <th>RH_8</th>\n",
       "      <th>T9</th>\n",
       "      <th>RH_9</th>\n",
       "      <th>T_out</th>\n",
       "      <th>Press_mm_hg</th>\n",
       "      <th>RH_out</th>\n",
       "      <th>Windspeed</th>\n",
       "      <th>Visibility</th>\n",
       "      <th>Tdewpoint</th>\n",
       "      <th>Appliances_t+1</th>\n",
       "    </tr>\n",
       "  </thead>\n",
       "  <tbody>\n",
       "    <tr>\n",
       "      <th>0</th>\n",
       "      <td>60.0</td>\n",
       "      <td>30.0</td>\n",
       "      <td>19.89</td>\n",
       "      <td>47.596667</td>\n",
       "      <td>19.2</td>\n",
       "      <td>44.790000</td>\n",
       "      <td>19.79</td>\n",
       "      <td>44.730000</td>\n",
       "      <td>19.000000</td>\n",
       "      <td>45.566667</td>\n",
       "      <td>...</td>\n",
       "      <td>48.900000</td>\n",
       "      <td>17.033333</td>\n",
       "      <td>45.53</td>\n",
       "      <td>6.600000</td>\n",
       "      <td>733.5</td>\n",
       "      <td>92.0</td>\n",
       "      <td>7.000000</td>\n",
       "      <td>63.000000</td>\n",
       "      <td>5.3</td>\n",
       "      <td>60.0</td>\n",
       "    </tr>\n",
       "    <tr>\n",
       "      <th>1</th>\n",
       "      <td>60.0</td>\n",
       "      <td>30.0</td>\n",
       "      <td>19.89</td>\n",
       "      <td>46.693333</td>\n",
       "      <td>19.2</td>\n",
       "      <td>44.722500</td>\n",
       "      <td>19.79</td>\n",
       "      <td>44.790000</td>\n",
       "      <td>19.000000</td>\n",
       "      <td>45.992500</td>\n",
       "      <td>...</td>\n",
       "      <td>48.863333</td>\n",
       "      <td>17.066667</td>\n",
       "      <td>45.56</td>\n",
       "      <td>6.483333</td>\n",
       "      <td>733.6</td>\n",
       "      <td>92.0</td>\n",
       "      <td>6.666667</td>\n",
       "      <td>59.166667</td>\n",
       "      <td>5.2</td>\n",
       "      <td>50.0</td>\n",
       "    </tr>\n",
       "    <tr>\n",
       "      <th>2</th>\n",
       "      <td>50.0</td>\n",
       "      <td>30.0</td>\n",
       "      <td>19.89</td>\n",
       "      <td>46.300000</td>\n",
       "      <td>19.2</td>\n",
       "      <td>44.626667</td>\n",
       "      <td>19.79</td>\n",
       "      <td>44.933333</td>\n",
       "      <td>18.926667</td>\n",
       "      <td>45.890000</td>\n",
       "      <td>...</td>\n",
       "      <td>48.730000</td>\n",
       "      <td>17.000000</td>\n",
       "      <td>45.50</td>\n",
       "      <td>6.366667</td>\n",
       "      <td>733.7</td>\n",
       "      <td>92.0</td>\n",
       "      <td>6.333333</td>\n",
       "      <td>55.333333</td>\n",
       "      <td>5.1</td>\n",
       "      <td>50.0</td>\n",
       "    </tr>\n",
       "    <tr>\n",
       "      <th>3</th>\n",
       "      <td>50.0</td>\n",
       "      <td>40.0</td>\n",
       "      <td>19.89</td>\n",
       "      <td>46.066667</td>\n",
       "      <td>19.2</td>\n",
       "      <td>44.590000</td>\n",
       "      <td>19.79</td>\n",
       "      <td>45.000000</td>\n",
       "      <td>18.890000</td>\n",
       "      <td>45.723333</td>\n",
       "      <td>...</td>\n",
       "      <td>48.590000</td>\n",
       "      <td>17.000000</td>\n",
       "      <td>45.40</td>\n",
       "      <td>6.250000</td>\n",
       "      <td>733.8</td>\n",
       "      <td>92.0</td>\n",
       "      <td>6.000000</td>\n",
       "      <td>51.500000</td>\n",
       "      <td>5.0</td>\n",
       "      <td>60.0</td>\n",
       "    </tr>\n",
       "    <tr>\n",
       "      <th>4</th>\n",
       "      <td>60.0</td>\n",
       "      <td>40.0</td>\n",
       "      <td>19.89</td>\n",
       "      <td>46.333333</td>\n",
       "      <td>19.2</td>\n",
       "      <td>44.530000</td>\n",
       "      <td>19.79</td>\n",
       "      <td>45.000000</td>\n",
       "      <td>18.890000</td>\n",
       "      <td>45.530000</td>\n",
       "      <td>...</td>\n",
       "      <td>48.590000</td>\n",
       "      <td>17.000000</td>\n",
       "      <td>45.40</td>\n",
       "      <td>6.133333</td>\n",
       "      <td>733.9</td>\n",
       "      <td>92.0</td>\n",
       "      <td>5.666667</td>\n",
       "      <td>47.666667</td>\n",
       "      <td>4.9</td>\n",
       "      <td>50.0</td>\n",
       "    </tr>\n",
       "  </tbody>\n",
       "</table>\n",
       "<p>5 rows × 27 columns</p>\n",
       "</div>"
      ],
      "text/plain": [
       "   Appliances  lights     T1       RH_1    T2       RH_2     T3       RH_3  \\\n",
       "0        60.0    30.0  19.89  47.596667  19.2  44.790000  19.79  44.730000   \n",
       "1        60.0    30.0  19.89  46.693333  19.2  44.722500  19.79  44.790000   \n",
       "2        50.0    30.0  19.89  46.300000  19.2  44.626667  19.79  44.933333   \n",
       "3        50.0    40.0  19.89  46.066667  19.2  44.590000  19.79  45.000000   \n",
       "4        60.0    40.0  19.89  46.333333  19.2  44.530000  19.79  45.000000   \n",
       "\n",
       "          T4       RH_4  ...       RH_8         T9   RH_9     T_out  \\\n",
       "0  19.000000  45.566667  ...  48.900000  17.033333  45.53  6.600000   \n",
       "1  19.000000  45.992500  ...  48.863333  17.066667  45.56  6.483333   \n",
       "2  18.926667  45.890000  ...  48.730000  17.000000  45.50  6.366667   \n",
       "3  18.890000  45.723333  ...  48.590000  17.000000  45.40  6.250000   \n",
       "4  18.890000  45.530000  ...  48.590000  17.000000  45.40  6.133333   \n",
       "\n",
       "   Press_mm_hg  RH_out  Windspeed  Visibility  Tdewpoint  Appliances_t+1  \n",
       "0        733.5    92.0   7.000000   63.000000        5.3            60.0  \n",
       "1        733.6    92.0   6.666667   59.166667        5.2            50.0  \n",
       "2        733.7    92.0   6.333333   55.333333        5.1            50.0  \n",
       "3        733.8    92.0   6.000000   51.500000        5.0            60.0  \n",
       "4        733.9    92.0   5.666667   47.666667        4.9            50.0  \n",
       "\n",
       "[5 rows x 27 columns]"
      ]
     },
     "execution_count": 12,
     "metadata": {},
     "output_type": "execute_result"
    }
   ],
   "source": [
    "data = pd.DataFrame(reframed.values,columns=list_cols)\n",
    "data.head()"
   ]
  },
  {
   "cell_type": "markdown",
   "id": "changing-colon",
   "metadata": {},
   "source": [
    "## Model: PcaArimax - PCA-ARIMAX"
   ]
  },
  {
   "cell_type": "markdown",
   "id": "patient-score",
   "metadata": {},
   "source": [
    "### Define ARIMAX parameters "
   ]
  },
  {
   "cell_type": "code",
   "execution_count": 30,
   "id": "becoming-charity",
   "metadata": {},
   "outputs": [],
   "source": [
    "pca_sarimax = PcaArimax(n_components = 2,\n",
    "                       endogen_variable = 'Appliances_t+1',\n",
    "                       order = [3, 1, 2])"
   ]
  },
  {
   "cell_type": "code",
   "execution_count": 31,
   "id": "violent-mentor",
   "metadata": {},
   "outputs": [
    {
     "data": {
      "text/html": [
       "<div>\n",
       "<style scoped>\n",
       "    .dataframe tbody tr th:only-of-type {\n",
       "        vertical-align: middle;\n",
       "    }\n",
       "\n",
       "    .dataframe tbody tr th {\n",
       "        vertical-align: top;\n",
       "    }\n",
       "\n",
       "    .dataframe thead th {\n",
       "        text-align: right;\n",
       "    }\n",
       "</style>\n",
       "<table border=\"1\" class=\"dataframe\">\n",
       "  <thead>\n",
       "    <tr style=\"text-align: right;\">\n",
       "      <th></th>\n",
       "      <th>x</th>\n",
       "      <th>y</th>\n",
       "      <th>Appliances_t+1</th>\n",
       "    </tr>\n",
       "  </thead>\n",
       "  <tbody>\n",
       "    <tr>\n",
       "      <th>0</th>\n",
       "      <td>-0.728215</td>\n",
       "      <td>0.596265</td>\n",
       "      <td>60.0</td>\n",
       "    </tr>\n",
       "    <tr>\n",
       "      <th>1</th>\n",
       "      <td>-0.727195</td>\n",
       "      <td>0.592026</td>\n",
       "      <td>50.0</td>\n",
       "    </tr>\n",
       "  </tbody>\n",
       "</table>\n",
       "</div>"
      ],
      "text/plain": [
       "          x         y  Appliances_t+1\n",
       "0 -0.728215  0.596265            60.0\n",
       "1 -0.727195  0.592026            50.0"
      ]
     },
     "execution_count": 31,
     "metadata": {},
     "output_type": "execute_result"
    }
   ],
   "source": [
    "reduced = pca_sarimax.apply_pca(data)\n",
    "reduced.head(2)"
   ]
  },
  {
   "cell_type": "code",
   "execution_count": 32,
   "id": "czech-marketplace",
   "metadata": {},
   "outputs": [
    {
     "data": {
      "text/html": [
       "<div>\n",
       "<style scoped>\n",
       "    .dataframe tbody tr th:only-of-type {\n",
       "        vertical-align: middle;\n",
       "    }\n",
       "\n",
       "    .dataframe tbody tr th {\n",
       "        vertical-align: top;\n",
       "    }\n",
       "\n",
       "    .dataframe thead th {\n",
       "        text-align: right;\n",
       "    }\n",
       "</style>\n",
       "<table border=\"1\" class=\"dataframe\">\n",
       "  <thead>\n",
       "    <tr style=\"text-align: right;\">\n",
       "      <th></th>\n",
       "      <th>x</th>\n",
       "      <th>y</th>\n",
       "    </tr>\n",
       "  </thead>\n",
       "  <tbody>\n",
       "    <tr>\n",
       "      <th>0</th>\n",
       "      <td>-0.728215</td>\n",
       "      <td>0.596265</td>\n",
       "    </tr>\n",
       "    <tr>\n",
       "      <th>1</th>\n",
       "      <td>-0.727195</td>\n",
       "      <td>0.592026</td>\n",
       "    </tr>\n",
       "  </tbody>\n",
       "</table>\n",
       "</div>"
      ],
      "text/plain": [
       "          x         y\n",
       "0 -0.728215  0.596265\n",
       "1 -0.727195  0.592026"
      ]
     },
     "execution_count": 32,
     "metadata": {},
     "output_type": "execute_result"
    }
   ],
   "source": [
    "exog = reduced.drop(labels=['Appliances_t+1'], axis=1)\n",
    "exog.head(2)"
   ]
  },
  {
   "cell_type": "code",
   "execution_count": 33,
   "id": "motivated-daniel",
   "metadata": {},
   "outputs": [
    {
     "data": {
      "text/plain": [
       "0    60.0\n",
       "1    50.0\n",
       "2    50.0\n",
       "Name: Appliances_t+1, dtype: float64"
      ]
     },
     "execution_count": 33,
     "metadata": {},
     "output_type": "execute_result"
    }
   ],
   "source": [
    "endog = reduced['Appliances_t+1']\n",
    "endog.head(3)"
   ]
  },
  {
   "cell_type": "code",
   "execution_count": 34,
   "id": "electoral-morris",
   "metadata": {},
   "outputs": [
    {
     "name": "stdout",
     "output_type": "stream",
     "text": [
      "Performing stepwise search to minimize aic\n",
      " ARIMA(1,1,1)(0,0,0)[0] intercept   : AIC=222093.125, Time=37.60 sec\n",
      " ARIMA(0,1,0)(0,0,0)[0] intercept   : AIC=224694.705, Time=1.02 sec\n",
      " ARIMA(1,1,0)(0,0,0)[0] intercept   : AIC=224620.388, Time=2.12 sec\n",
      " ARIMA(0,1,1)(0,0,0)[0] intercept   : AIC=224531.032, Time=3.24 sec\n",
      " ARIMA(0,1,0)(0,0,0)[0]             : AIC=224692.715, Time=8.26 sec\n",
      " ARIMA(2,1,1)(0,0,0)[0] intercept   : AIC=221930.549, Time=24.39 sec\n",
      " ARIMA(2,1,0)(0,0,0)[0] intercept   : AIC=223273.092, Time=3.92 sec\n",
      " ARIMA(3,1,1)(0,0,0)[0] intercept   : AIC=221867.373, Time=35.46 sec\n",
      " ARIMA(3,1,0)(0,0,0)[0] intercept   : AIC=222897.900, Time=3.95 sec\n",
      " ARIMA(3,1,2)(0,0,0)[0] intercept   : AIC=221868.938, Time=49.25 sec\n",
      " ARIMA(2,1,2)(0,0,0)[0] intercept   : AIC=221872.197, Time=34.82 sec\n",
      " ARIMA(3,1,1)(0,0,0)[0]             : AIC=221865.455, Time=30.54 sec\n",
      " ARIMA(2,1,1)(0,0,0)[0]             : AIC=221928.622, Time=19.03 sec\n",
      " ARIMA(3,1,0)(0,0,0)[0]             : AIC=222895.922, Time=3.53 sec\n",
      " ARIMA(3,1,2)(0,0,0)[0]             : AIC=221867.022, Time=37.91 sec\n",
      " ARIMA(2,1,0)(0,0,0)[0]             : AIC=223271.110, Time=3.28 sec\n",
      " ARIMA(2,1,2)(0,0,0)[0]             : AIC=221870.280, Time=29.18 sec\n",
      "\n",
      "Best model:  ARIMA(3,1,1)(0,0,0)[0]          \n",
      "Total fit time: 327.538 seconds\n"
     ]
    }
   ],
   "source": [
    "# Define arimax paraters using the embedded data \n",
    "# from pmdarima.arima import auto_arima\n",
    "# step_wise=auto_arima(endog, \n",
    "#  exogenous= exog,\n",
    "#  start_p=1, start_q=1, \n",
    "#  max_p=3, max_q=3, \n",
    "#  d=1, max_d=3,\n",
    "#  trace=True, \n",
    "#  error_action='ignore', \n",
    "#  suppress_warnings=True, \n",
    "#  stepwise=True)"
   ]
  },
  {
   "cell_type": "code",
   "execution_count": 35,
   "id": "alpine-break",
   "metadata": {},
   "outputs": [
    {
     "data": {
      "text/html": [
       "<table class=\"simpletable\">\n",
       "<caption>SARIMAX Results</caption>\n",
       "<tr>\n",
       "  <th>Dep. Variable:</th>           <td>y</td>        <th>  No. Observations:  </th>    <td>19734</td>   \n",
       "</tr>\n",
       "<tr>\n",
       "  <th>Model:</th>           <td>SARIMAX(3, 1, 1)</td> <th>  Log Likelihood     </th> <td>-110925.728</td>\n",
       "</tr>\n",
       "<tr>\n",
       "  <th>Date:</th>            <td>Sat, 19 Jun 2021</td> <th>  AIC                </th> <td>221865.455</td> \n",
       "</tr>\n",
       "<tr>\n",
       "  <th>Time:</th>                <td>21:57:32</td>     <th>  BIC                </th> <td>221920.686</td> \n",
       "</tr>\n",
       "<tr>\n",
       "  <th>Sample:</th>                  <td>0</td>        <th>  HQIC               </th> <td>221883.537</td> \n",
       "</tr>\n",
       "<tr>\n",
       "  <th></th>                     <td> - 19734</td>     <th>                     </th>      <td> </td>     \n",
       "</tr>\n",
       "<tr>\n",
       "  <th>Covariance Type:</th>        <td>opg</td>       <th>                     </th>      <td> </td>     \n",
       "</tr>\n",
       "</table>\n",
       "<table class=\"simpletable\">\n",
       "<tr>\n",
       "     <td></td>       <th>coef</th>     <th>std err</th>      <th>z</th>      <th>P>|z|</th>  <th>[0.025</th>    <th>0.975]</th>  \n",
       "</tr>\n",
       "<tr>\n",
       "  <th>x</th>      <td> -275.2184</td> <td>   18.121</td> <td>  -15.188</td> <td> 0.000</td> <td> -310.734</td> <td> -239.703</td>\n",
       "</tr>\n",
       "<tr>\n",
       "  <th>y</th>      <td> -461.4016</td> <td>   19.961</td> <td>  -23.115</td> <td> 0.000</td> <td> -500.524</td> <td> -422.279</td>\n",
       "</tr>\n",
       "<tr>\n",
       "  <th>ar.L1</th>  <td>    0.7001</td> <td>    0.007</td> <td>  104.994</td> <td> 0.000</td> <td>    0.687</td> <td>    0.713</td>\n",
       "</tr>\n",
       "<tr>\n",
       "  <th>ar.L2</th>  <td>   -0.2046</td> <td>    0.004</td> <td>  -46.553</td> <td> 0.000</td> <td>   -0.213</td> <td>   -0.196</td>\n",
       "</tr>\n",
       "<tr>\n",
       "  <th>ar.L3</th>  <td>    0.0685</td> <td>    0.005</td> <td>   12.844</td> <td> 0.000</td> <td>    0.058</td> <td>    0.079</td>\n",
       "</tr>\n",
       "<tr>\n",
       "  <th>ma.L1</th>  <td>   -0.8748</td> <td>    0.006</td> <td> -148.814</td> <td> 0.000</td> <td>   -0.886</td> <td>   -0.863</td>\n",
       "</tr>\n",
       "<tr>\n",
       "  <th>sigma2</th> <td> 4467.9016</td> <td>   14.190</td> <td>  314.874</td> <td> 0.000</td> <td> 4440.091</td> <td> 4495.713</td>\n",
       "</tr>\n",
       "</table>\n",
       "<table class=\"simpletable\">\n",
       "<tr>\n",
       "  <th>Ljung-Box (L1) (Q):</th>     <td>0.00</td> <th>  Jarque-Bera (JB):  </th> <td>369259.11</td>\n",
       "</tr>\n",
       "<tr>\n",
       "  <th>Prob(Q):</th>                <td>0.97</td> <th>  Prob(JB):          </th>   <td>0.00</td>   \n",
       "</tr>\n",
       "<tr>\n",
       "  <th>Heteroskedasticity (H):</th> <td>0.80</td> <th>  Skew:              </th>   <td>2.77</td>   \n",
       "</tr>\n",
       "<tr>\n",
       "  <th>Prob(H) (two-sided):</th>    <td>0.00</td> <th>  Kurtosis:          </th>   <td>23.46</td>  \n",
       "</tr>\n",
       "</table><br/><br/>Warnings:<br/>[1] Covariance matrix calculated using the outer product of gradients (complex-step)."
      ],
      "text/plain": [
       "<class 'statsmodels.iolib.summary.Summary'>\n",
       "\"\"\"\n",
       "                               SARIMAX Results                                \n",
       "==============================================================================\n",
       "Dep. Variable:                      y   No. Observations:                19734\n",
       "Model:               SARIMAX(3, 1, 1)   Log Likelihood             -110925.728\n",
       "Date:                Sat, 19 Jun 2021   AIC                         221865.455\n",
       "Time:                        21:57:32   BIC                         221920.686\n",
       "Sample:                             0   HQIC                        221883.537\n",
       "                              - 19734                                         \n",
       "Covariance Type:                  opg                                         \n",
       "==============================================================================\n",
       "                 coef    std err          z      P>|z|      [0.025      0.975]\n",
       "------------------------------------------------------------------------------\n",
       "x           -275.2184     18.121    -15.188      0.000    -310.734    -239.703\n",
       "y           -461.4016     19.961    -23.115      0.000    -500.524    -422.279\n",
       "ar.L1          0.7001      0.007    104.994      0.000       0.687       0.713\n",
       "ar.L2         -0.2046      0.004    -46.553      0.000      -0.213      -0.196\n",
       "ar.L3          0.0685      0.005     12.844      0.000       0.058       0.079\n",
       "ma.L1         -0.8748      0.006   -148.814      0.000      -0.886      -0.863\n",
       "sigma2      4467.9016     14.190    314.874      0.000    4440.091    4495.713\n",
       "===================================================================================\n",
       "Ljung-Box (L1) (Q):                   0.00   Jarque-Bera (JB):            369259.11\n",
       "Prob(Q):                              0.97   Prob(JB):                         0.00\n",
       "Heteroskedasticity (H):               0.80   Skew:                             2.77\n",
       "Prob(H) (two-sided):                  0.00   Kurtosis:                        23.46\n",
       "===================================================================================\n",
       "\n",
       "Warnings:\n",
       "[1] Covariance matrix calculated using the outer product of gradients (complex-step).\n",
       "\"\"\""
      ]
     },
     "execution_count": 35,
     "metadata": {},
     "output_type": "execute_result"
    }
   ],
   "source": [
    "# Best model:  ARIMA(3,1,1)(0,0,0)[0]          \n",
    "# Total fit time: 327.538 seconds\n",
    "step_wise.summary()"
   ]
  },
  {
   "cell_type": "markdown",
   "id": "consecutive-advice",
   "metadata": {},
   "source": [
    "### Test the model with the best parameters "
   ]
  },
  {
   "cell_type": "code",
   "execution_count": 36,
   "id": "equipped-value",
   "metadata": {},
   "outputs": [],
   "source": [
    "pca_arimax = PcaArimax(n_components = 2,\n",
    "                       endogen_variable = 'Appliances_t+1',\n",
    "                       order = [3,1,1])"
   ]
  },
  {
   "cell_type": "code",
   "execution_count": 37,
   "id": "posted-visit",
   "metadata": {},
   "outputs": [],
   "source": [
    "train = sample_first_prows(data,0.75)\n",
    "test = data.iloc[max(train.index):]\n",
    "y_test = data.iloc[max(train.index):]['Appliances_t+1'].values"
   ]
  },
  {
   "cell_type": "code",
   "execution_count": 38,
   "id": "significant-original",
   "metadata": {},
   "outputs": [
    {
     "name": "stderr",
     "output_type": "stream",
     "text": [
      "/home/hugo/anaconda3/lib/python3.8/site-packages/statsmodels/base/model.py:566: ConvergenceWarning: Maximum Likelihood optimization failed to converge. Check mle_retvals\n",
      "  warnings.warn(\"Maximum Likelihood optimization failed to \"\n"
     ]
    }
   ],
   "source": [
    "model, sarimax, pca_reduced_train = pca_arimax.run_train_model(train)"
   ]
  },
  {
   "cell_type": "code",
   "execution_count": 39,
   "id": "referenced-wages",
   "metadata": {},
   "outputs": [
    {
     "data": {
      "text/html": [
       "<table class=\"simpletable\">\n",
       "<caption>SARIMAX Results</caption>\n",
       "<tr>\n",
       "  <th>Dep. Variable:</th>           <td>y</td>        <th>  No. Observations:  </th>    <td>14800</td>  \n",
       "</tr>\n",
       "<tr>\n",
       "  <th>Model:</th>           <td>SARIMAX(3, 1, 1)</td> <th>  Log Likelihood     </th> <td>-83572.613</td>\n",
       "</tr>\n",
       "<tr>\n",
       "  <th>Date:</th>            <td>Sat, 19 Jun 2021</td> <th>  AIC                </th> <td>167207.226</td>\n",
       "</tr>\n",
       "<tr>\n",
       "  <th>Time:</th>                <td>22:01:47</td>     <th>  BIC                </th> <td>167442.891</td>\n",
       "</tr>\n",
       "<tr>\n",
       "  <th>Sample:</th>                  <td>0</td>        <th>  HQIC               </th> <td>167285.469</td>\n",
       "</tr>\n",
       "<tr>\n",
       "  <th></th>                     <td> - 14800</td>     <th>                     </th>      <td> </td>    \n",
       "</tr>\n",
       "<tr>\n",
       "  <th>Covariance Type:</th>        <td>opg</td>       <th>                     </th>      <td> </td>    \n",
       "</tr>\n",
       "</table>\n",
       "<table class=\"simpletable\">\n",
       "<tr>\n",
       "       <td></td>          <th>coef</th>     <th>std err</th>      <th>z</th>      <th>P>|z|</th>  <th>[0.025</th>    <th>0.975]</th>  \n",
       "</tr>\n",
       "<tr>\n",
       "  <th>Appliances</th>  <td>   -0.2132</td> <td>    0.022</td> <td>   -9.915</td> <td> 0.000</td> <td>   -0.255</td> <td>   -0.171</td>\n",
       "</tr>\n",
       "<tr>\n",
       "  <th>lights</th>      <td>    0.3067</td> <td>    0.069</td> <td>    4.450</td> <td> 0.000</td> <td>    0.172</td> <td>    0.442</td>\n",
       "</tr>\n",
       "<tr>\n",
       "  <th>T1</th>          <td>   -7.4136</td> <td>    8.490</td> <td>   -0.873</td> <td> 0.383</td> <td>  -24.053</td> <td>    9.226</td>\n",
       "</tr>\n",
       "<tr>\n",
       "  <th>RH_1</th>        <td>  -15.6893</td> <td>    0.811</td> <td>  -19.350</td> <td> 0.000</td> <td>  -17.278</td> <td>  -14.100</td>\n",
       "</tr>\n",
       "<tr>\n",
       "  <th>T2</th>          <td>   20.1966</td> <td>    5.236</td> <td>    3.857</td> <td> 0.000</td> <td>    9.935</td> <td>   30.459</td>\n",
       "</tr>\n",
       "<tr>\n",
       "  <th>RH_2</th>        <td>    8.8978</td> <td>    1.553</td> <td>    5.729</td> <td> 0.000</td> <td>    5.854</td> <td>   11.942</td>\n",
       "</tr>\n",
       "<tr>\n",
       "  <th>T3</th>          <td>  -77.1862</td> <td>    6.230</td> <td>  -12.390</td> <td> 0.000</td> <td>  -89.396</td> <td>  -64.976</td>\n",
       "</tr>\n",
       "<tr>\n",
       "  <th>RH_3</th>        <td>   -9.2423</td> <td>    2.177</td> <td>   -4.246</td> <td> 0.000</td> <td>  -13.509</td> <td>   -4.976</td>\n",
       "</tr>\n",
       "<tr>\n",
       "  <th>T4</th>          <td>  -44.3807</td> <td>    4.431</td> <td>  -10.016</td> <td> 0.000</td> <td>  -53.066</td> <td>  -35.696</td>\n",
       "</tr>\n",
       "<tr>\n",
       "  <th>RH_4</th>        <td>    9.9116</td> <td>    2.235</td> <td>    4.435</td> <td> 0.000</td> <td>    5.531</td> <td>   14.292</td>\n",
       "</tr>\n",
       "<tr>\n",
       "  <th>T5</th>          <td>   -4.0824</td> <td>    5.109</td> <td>   -0.799</td> <td> 0.424</td> <td>  -14.096</td> <td>    5.932</td>\n",
       "</tr>\n",
       "<tr>\n",
       "  <th>RH_5</th>        <td>   -0.1765</td> <td>    0.278</td> <td>   -0.634</td> <td> 0.526</td> <td>   -0.722</td> <td>    0.369</td>\n",
       "</tr>\n",
       "<tr>\n",
       "  <th>T6</th>          <td>    0.2524</td> <td>    2.762</td> <td>    0.091</td> <td> 0.927</td> <td>   -5.161</td> <td>    5.665</td>\n",
       "</tr>\n",
       "<tr>\n",
       "  <th>RH_6</th>        <td>   -0.0755</td> <td>    0.375</td> <td>   -0.201</td> <td> 0.841</td> <td>   -0.811</td> <td>    0.660</td>\n",
       "</tr>\n",
       "<tr>\n",
       "  <th>T7</th>          <td>   -2.7050</td> <td>    8.666</td> <td>   -0.312</td> <td> 0.755</td> <td>  -19.690</td> <td>   14.280</td>\n",
       "</tr>\n",
       "<tr>\n",
       "  <th>RH_7</th>        <td>   -3.5116</td> <td>    2.342</td> <td>   -1.500</td> <td> 0.134</td> <td>   -8.101</td> <td>    1.078</td>\n",
       "</tr>\n",
       "<tr>\n",
       "  <th>T8</th>          <td>   -2.5370</td> <td>    6.836</td> <td>   -0.371</td> <td> 0.711</td> <td>  -15.935</td> <td>   10.861</td>\n",
       "</tr>\n",
       "<tr>\n",
       "  <th>RH_8</th>        <td>   -2.1723</td> <td>    2.151</td> <td>   -1.010</td> <td> 0.312</td> <td>   -6.388</td> <td>    2.043</td>\n",
       "</tr>\n",
       "<tr>\n",
       "  <th>T9</th>          <td>   -1.0130</td> <td>   11.969</td> <td>   -0.085</td> <td> 0.933</td> <td>  -24.473</td> <td>   22.447</td>\n",
       "</tr>\n",
       "<tr>\n",
       "  <th>RH_9</th>        <td>   -9.4640</td> <td>    1.968</td> <td>   -4.808</td> <td> 0.000</td> <td>  -13.322</td> <td>   -5.606</td>\n",
       "</tr>\n",
       "<tr>\n",
       "  <th>T_out</th>       <td>    0.7585</td> <td>   11.131</td> <td>    0.068</td> <td> 0.946</td> <td>  -21.058</td> <td>   22.575</td>\n",
       "</tr>\n",
       "<tr>\n",
       "  <th>Press_mm_hg</th> <td>   -2.7538</td> <td>    2.705</td> <td>   -1.018</td> <td> 0.309</td> <td>   -8.056</td> <td>    2.548</td>\n",
       "</tr>\n",
       "<tr>\n",
       "  <th>RH_out</th>      <td>   -1.4687</td> <td>    2.148</td> <td>   -0.684</td> <td> 0.494</td> <td>   -5.679</td> <td>    2.742</td>\n",
       "</tr>\n",
       "<tr>\n",
       "  <th>Windspeed</th>   <td>    0.4898</td> <td>    2.018</td> <td>    0.243</td> <td> 0.808</td> <td>   -3.466</td> <td>    4.445</td>\n",
       "</tr>\n",
       "<tr>\n",
       "  <th>Visibility</th>  <td>   -0.0074</td> <td>    0.189</td> <td>   -0.039</td> <td> 0.969</td> <td>   -0.378</td> <td>    0.363</td>\n",
       "</tr>\n",
       "<tr>\n",
       "  <th>Tdewpoint</th>   <td>    5.9350</td> <td>   10.805</td> <td>    0.549</td> <td> 0.583</td> <td>  -15.242</td> <td>   27.112</td>\n",
       "</tr>\n",
       "<tr>\n",
       "  <th>ar.L1</th>       <td>    0.9157</td> <td>    0.026</td> <td>   35.703</td> <td> 0.000</td> <td>    0.865</td> <td>    0.966</td>\n",
       "</tr>\n",
       "<tr>\n",
       "  <th>ar.L2</th>       <td>   -0.3674</td> <td>    0.024</td> <td>  -15.189</td> <td> 0.000</td> <td>   -0.415</td> <td>   -0.320</td>\n",
       "</tr>\n",
       "<tr>\n",
       "  <th>ar.L3</th>       <td>    0.1537</td> <td>    0.012</td> <td>   12.683</td> <td> 0.000</td> <td>    0.130</td> <td>    0.177</td>\n",
       "</tr>\n",
       "<tr>\n",
       "  <th>ma.L1</th>       <td>   -0.9007</td> <td>    0.008</td> <td> -107.754</td> <td> 0.000</td> <td>   -0.917</td> <td>   -0.884</td>\n",
       "</tr>\n",
       "<tr>\n",
       "  <th>sigma2</th>      <td> 4538.3972</td> <td>   18.364</td> <td>  247.140</td> <td> 0.000</td> <td> 4502.405</td> <td> 4574.389</td>\n",
       "</tr>\n",
       "</table>\n",
       "<table class=\"simpletable\">\n",
       "<tr>\n",
       "  <th>Ljung-Box (L1) (Q):</th>     <td>0.09</td> <th>  Jarque-Bera (JB):  </th> <td>272325.90</td>\n",
       "</tr>\n",
       "<tr>\n",
       "  <th>Prob(Q):</th>                <td>0.76</td> <th>  Prob(JB):          </th>   <td>0.00</td>   \n",
       "</tr>\n",
       "<tr>\n",
       "  <th>Heteroskedasticity (H):</th> <td>0.85</td> <th>  Skew:              </th>   <td>2.82</td>   \n",
       "</tr>\n",
       "<tr>\n",
       "  <th>Prob(H) (two-sided):</th>    <td>0.00</td> <th>  Kurtosis:          </th>   <td>23.24</td>  \n",
       "</tr>\n",
       "</table><br/><br/>Warnings:<br/>[1] Covariance matrix calculated using the outer product of gradients (complex-step)."
      ],
      "text/plain": [
       "<class 'statsmodels.iolib.summary.Summary'>\n",
       "\"\"\"\n",
       "                               SARIMAX Results                                \n",
       "==============================================================================\n",
       "Dep. Variable:                      y   No. Observations:                14800\n",
       "Model:               SARIMAX(3, 1, 1)   Log Likelihood              -83572.613\n",
       "Date:                Sat, 19 Jun 2021   AIC                         167207.226\n",
       "Time:                        22:01:47   BIC                         167442.891\n",
       "Sample:                             0   HQIC                        167285.469\n",
       "                              - 14800                                         \n",
       "Covariance Type:                  opg                                         \n",
       "===============================================================================\n",
       "                  coef    std err          z      P>|z|      [0.025      0.975]\n",
       "-------------------------------------------------------------------------------\n",
       "Appliances     -0.2132      0.022     -9.915      0.000      -0.255      -0.171\n",
       "lights          0.3067      0.069      4.450      0.000       0.172       0.442\n",
       "T1             -7.4136      8.490     -0.873      0.383     -24.053       9.226\n",
       "RH_1          -15.6893      0.811    -19.350      0.000     -17.278     -14.100\n",
       "T2             20.1966      5.236      3.857      0.000       9.935      30.459\n",
       "RH_2            8.8978      1.553      5.729      0.000       5.854      11.942\n",
       "T3            -77.1862      6.230    -12.390      0.000     -89.396     -64.976\n",
       "RH_3           -9.2423      2.177     -4.246      0.000     -13.509      -4.976\n",
       "T4            -44.3807      4.431    -10.016      0.000     -53.066     -35.696\n",
       "RH_4            9.9116      2.235      4.435      0.000       5.531      14.292\n",
       "T5             -4.0824      5.109     -0.799      0.424     -14.096       5.932\n",
       "RH_5           -0.1765      0.278     -0.634      0.526      -0.722       0.369\n",
       "T6              0.2524      2.762      0.091      0.927      -5.161       5.665\n",
       "RH_6           -0.0755      0.375     -0.201      0.841      -0.811       0.660\n",
       "T7             -2.7050      8.666     -0.312      0.755     -19.690      14.280\n",
       "RH_7           -3.5116      2.342     -1.500      0.134      -8.101       1.078\n",
       "T8             -2.5370      6.836     -0.371      0.711     -15.935      10.861\n",
       "RH_8           -2.1723      2.151     -1.010      0.312      -6.388       2.043\n",
       "T9             -1.0130     11.969     -0.085      0.933     -24.473      22.447\n",
       "RH_9           -9.4640      1.968     -4.808      0.000     -13.322      -5.606\n",
       "T_out           0.7585     11.131      0.068      0.946     -21.058      22.575\n",
       "Press_mm_hg    -2.7538      2.705     -1.018      0.309      -8.056       2.548\n",
       "RH_out         -1.4687      2.148     -0.684      0.494      -5.679       2.742\n",
       "Windspeed       0.4898      2.018      0.243      0.808      -3.466       4.445\n",
       "Visibility     -0.0074      0.189     -0.039      0.969      -0.378       0.363\n",
       "Tdewpoint       5.9350     10.805      0.549      0.583     -15.242      27.112\n",
       "ar.L1           0.9157      0.026     35.703      0.000       0.865       0.966\n",
       "ar.L2          -0.3674      0.024    -15.189      0.000      -0.415      -0.320\n",
       "ar.L3           0.1537      0.012     12.683      0.000       0.130       0.177\n",
       "ma.L1          -0.9007      0.008   -107.754      0.000      -0.917      -0.884\n",
       "sigma2       4538.3972     18.364    247.140      0.000    4502.405    4574.389\n",
       "===================================================================================\n",
       "Ljung-Box (L1) (Q):                   0.09   Jarque-Bera (JB):            272325.90\n",
       "Prob(Q):                              0.76   Prob(JB):                         0.00\n",
       "Heteroskedasticity (H):               0.85   Skew:                             2.82\n",
       "Prob(H) (two-sided):                  0.00   Kurtosis:                        23.24\n",
       "===================================================================================\n",
       "\n",
       "Warnings:\n",
       "[1] Covariance matrix calculated using the outer product of gradients (complex-step).\n",
       "\"\"\""
      ]
     },
     "execution_count": 39,
     "metadata": {},
     "output_type": "execute_result"
    }
   ],
   "source": [
    "sarimax.summary()"
   ]
  },
  {
   "cell_type": "code",
   "execution_count": 40,
   "id": "innovative-albany",
   "metadata": {},
   "outputs": [
    {
     "data": {
      "text/html": [
       "<div>\n",
       "<style scoped>\n",
       "    .dataframe tbody tr th:only-of-type {\n",
       "        vertical-align: middle;\n",
       "    }\n",
       "\n",
       "    .dataframe tbody tr th {\n",
       "        vertical-align: top;\n",
       "    }\n",
       "\n",
       "    .dataframe thead th {\n",
       "        text-align: right;\n",
       "    }\n",
       "</style>\n",
       "<table border=\"1\" class=\"dataframe\">\n",
       "  <thead>\n",
       "    <tr style=\"text-align: right;\">\n",
       "      <th></th>\n",
       "      <th>x</th>\n",
       "      <th>y</th>\n",
       "      <th>Appliances_t+1</th>\n",
       "    </tr>\n",
       "  </thead>\n",
       "  <tbody>\n",
       "    <tr>\n",
       "      <th>0</th>\n",
       "      <td>-0.795656</td>\n",
       "      <td>0.394111</td>\n",
       "      <td>60.0</td>\n",
       "    </tr>\n",
       "    <tr>\n",
       "      <th>1</th>\n",
       "      <td>-0.793946</td>\n",
       "      <td>0.386976</td>\n",
       "      <td>50.0</td>\n",
       "    </tr>\n",
       "  </tbody>\n",
       "</table>\n",
       "</div>"
      ],
      "text/plain": [
       "          x         y  Appliances_t+1\n",
       "0 -0.795656  0.394111            60.0\n",
       "1 -0.793946  0.386976            50.0"
      ]
     },
     "execution_count": 40,
     "metadata": {},
     "output_type": "execute_result"
    }
   ],
   "source": [
    "pca_reduced_train.head(2)"
   ]
  },
  {
   "cell_type": "code",
   "execution_count": 41,
   "id": "plain-explanation",
   "metadata": {},
   "outputs": [],
   "source": [
    "start = len(train)\n",
    "end = len(train) + len(test) -1\n",
    "forecast, pca_reduced_test = pca_arimax.run_test_model(test, sarimax,start,end)"
   ]
  },
  {
   "cell_type": "code",
   "execution_count": 50,
   "id": "veterinary-router",
   "metadata": {},
   "outputs": [
    {
     "data": {
      "text/plain": [
       "[347.14880966599685,\n",
       " 432.5245459851285,\n",
       " 493.3749876625034,\n",
       " 540.088801361544,\n",
       " 554.1734454628149,\n",
       " 418.89578911880017,\n",
       " 436.53287165790334,\n",
       " 454.293066926376,\n",
       " 384.7606944921481,\n",
       " 370.90313416995104,\n",
       " 369.27607204315154,\n",
       " 376.7610815195303,\n",
       " 432.7752260691195,\n",
       " 460.2624265533059,\n",
       " 485.4954812593096,\n",
       " 494.7889508344024,\n",
       " 541.3038392260896,\n",
       " 575.589735864919,\n",
       " 595.0641483258487,\n",
       " 606.9450414437015,\n",
       " 607.6726880397637,\n",
       " 633.5626167245791,\n",
       " 639.7346253494279,\n",
       " 638.4473534497729,\n",
       " 637.1115090028061,\n",
       " 633.3406575755171,\n",
       " 637.4068213009032,\n",
       " 648.6159123162734,\n",
       " 649.6630997180582,\n",
       " 660.5303686773441,\n",
       " 662.8449987669637,\n",
       " 670.4215698560029,\n",
       " 627.1252618218177,\n",
       " 617.8016403764277,\n",
       " 534.6230248880665,\n",
       " 489.59088592692933,\n",
       " 574.643248661605,\n",
       " 569.5550376989586,\n",
       " 476.83935277367436,\n",
       " 484.15953609209464,\n",
       " 501.18299335386837,\n",
       " 569.6282556617552,\n",
       " 613.4074507704217,\n",
       " 619.8832936135286,\n",
       " 658.4681024704132,\n",
       " 677.8414786523754,\n",
       " 659.0678427824741,\n",
       " 661.950463098884,\n",
       " 666.0099339476883,\n",
       " 622.8364150559473,\n",
       " 601.9287851239678,\n",
       " 574.359950173296,\n",
       " 591.453018025466,\n",
       " 672.3040381298551,\n",
       " 690.8078321047096,\n",
       " 710.6007625691627,\n",
       " 746.8586511110043,\n",
       " 746.4877983412789,\n",
       " 809.5565412612605,\n",
       " 809.5356189483946,\n",
       " 792.2498501225882,\n",
       " 785.2374602028967,\n",
       " 801.2556330648404,\n",
       " 843.5445542491179,\n",
       " 832.0780859892557,\n",
       " 830.0641049831056,\n",
       " 826.976933221551,\n",
       " 869.0276355124961,\n",
       " 868.6281045216137,\n",
       " 876.6879101370323,\n",
       " 880.9895310883921,\n",
       " 884.2319444065124,\n",
       " 853.2899235835366,\n",
       " 832.2556265367875,\n",
       " 842.9381569451589,\n",
       " 806.307265471818,\n",
       " 825.2834383383952,\n",
       " 811.286218690755,\n",
       " 791.8332129588471,\n",
       " 779.2269599026286,\n",
       " 783.6109645839251,\n",
       " 763.031781932129,\n",
       " 752.1687776735653,\n",
       " 755.1998592429409,\n",
       " 740.3791330168115,\n",
       " 709.6047216660081,\n",
       " 701.5325732662814,\n",
       " 711.6905721864141,\n",
       " 705.8463065595442,\n",
       " 704.3182980569836,\n",
       " 698.8090084618007,\n",
       " 707.0365284049567,\n",
       " 713.6124264948367,\n",
       " 708.7119315907212,\n",
       " 705.5935869669138,\n",
       " 713.3539854372748,\n",
       " 703.509882146308,\n",
       " 690.7161199525535,\n",
       " 695.5482915177554,\n",
       " 692.7424546145357,\n",
       " 690.3599842993035,\n",
       " 696.9656800908269,\n",
       " 703.587085111235,\n",
       " 698.285707145912,\n",
       " 702.3859142861966,\n",
       " 695.0085082675578,\n",
       " 675.3683879332548,\n",
       " 657.7883371053786,\n",
       " 648.0315382820563,\n",
       " 654.0968642392172,\n",
       " 637.9201812773554,\n",
       " 643.4503426256342,\n",
       " 647.1874405096187,\n",
       " 647.6390731996271,\n",
       " 644.3615435651564,\n",
       " 665.4980251287061,\n",
       " 643.517846522529,\n",
       " 668.1684562799019,\n",
       " 678.4424936773648,\n",
       " 644.4201685109947,\n",
       " 626.7997821020663,\n",
       " 605.2472304566909,\n",
       " 606.3189140654777,\n",
       " 616.7600628689052,\n",
       " 567.7122256375169,\n",
       " 596.2833467309611,\n",
       " 567.2474888419547,\n",
       " 520.3519093862033,\n",
       " 589.6117213627249,\n",
       " 631.3323779559105,\n",
       " 643.8958224002954,\n",
       " 675.4829677741673,\n",
       " 659.9524473782958,\n",
       " 675.3073180317606,\n",
       " 690.0978289125778,\n",
       " 689.4790551643628,\n",
       " 707.1509497449724,\n",
       " 570.9817533397318,\n",
       " 548.1875869314108,\n",
       " 599.5722547937448,\n",
       " 563.6522821850604,\n",
       " 523.4263521396979,\n",
       " 513.8765280904581,\n",
       " 494.3584033391335,\n",
       " 499.559129193618,\n",
       " 525.5947090410655,\n",
       " 596.4110636356845,\n",
       " 541.2779974931791,\n",
       " 522.8459485170742,\n",
       " 605.7752905160469,\n",
       " 637.3806254869451,\n",
       " 607.2231925061205,\n",
       " 593.3677148346696,\n",
       " 567.3123120483942,\n",
       " 539.4849375753865,\n",
       " 581.8503104016827,\n",
       " 597.2949548814759,\n",
       " 548.599939302112,\n",
       " 599.5232702671956,\n",
       " 615.6897997408641,\n",
       " 598.8003738716616,\n",
       " 596.9479349487829,\n",
       " 604.2135871429155,\n",
       " 620.6998989929207]"
      ]
     },
     "execution_count": 50,
     "metadata": {},
     "output_type": "execute_result"
    }
   ],
   "source": [
    "list(forecast)"
   ]
  },
  {
   "cell_type": "code",
   "execution_count": 44,
   "id": "unavailable-gnome",
   "metadata": {},
   "outputs": [
    {
     "data": {
      "text/plain": [
       "0    280.0\n",
       "1    280.0\n",
       "Name: Appliances_t+1, dtype: float64"
      ]
     },
     "execution_count": 44,
     "metadata": {},
     "output_type": "execute_result"
    }
   ],
   "source": [
    "pca_reduced_test['Appliances_t+1'].head(2)"
   ]
  },
  {
   "cell_type": "code",
   "execution_count": 45,
   "id": "oriental-headline",
   "metadata": {},
   "outputs": [
    {
     "name": "stdout",
     "output_type": "stream",
     "text": [
      "272.77573136060977\n",
      "322.62767298873143\n"
     ]
    }
   ],
   "source": [
    "print(Measures.rmse(pca_reduced_test['Appliances_t+1'],forecast.values))\n",
    "print(Measures.mape(pca_reduced_test['Appliances_t+1'],forecast.values))"
   ]
  },
  {
   "cell_type": "markdown",
   "id": "immune-broadway",
   "metadata": {},
   "source": [
    "## Model: PcaArimax - PCA-ARIMAX - Final model "
   ]
  },
  {
   "cell_type": "code",
   "execution_count": 46,
   "id": "optimum-musician",
   "metadata": {},
   "outputs": [],
   "source": [
    "pca_sarimax = PcaArimax(n_components = 2,\n",
    "                       endogen_variable = 'Appliances',\n",
    "                       order=[3,1,1])"
   ]
  },
  {
   "cell_type": "markdown",
   "id": "nervous-agent",
   "metadata": {},
   "source": [
    "## Sliding Window PyFTS: PCA-ARIMAX"
   ]
  },
  {
   "cell_type": "code",
   "execution_count": 47,
   "id": "green-possession",
   "metadata": {},
   "outputs": [
    {
     "name": "stdout",
     "output_type": "stream",
     "text": [
      "--------------------\n",
      "training window 0\n"
     ]
    },
    {
     "name": "stderr",
     "output_type": "stream",
     "text": [
      "/home/hugo/anaconda3/lib/python3.8/site-packages/statsmodels/base/model.py:566: ConvergenceWarning: Maximum Likelihood optimization failed to converge. Check mle_retvals\n",
      "  warnings.warn(\"Maximum Likelihood optimization failed to \"\n"
     ]
    },
    {
     "name": "stdout",
     "output_type": "stream",
     "text": [
      "[ 22:02:53] getting statistics\n",
      "--------------------\n",
      "training window 657\n"
     ]
    },
    {
     "name": "stderr",
     "output_type": "stream",
     "text": [
      "/home/hugo/anaconda3/lib/python3.8/site-packages/statsmodels/base/model.py:566: ConvergenceWarning: Maximum Likelihood optimization failed to converge. Check mle_retvals\n",
      "  warnings.warn(\"Maximum Likelihood optimization failed to \"\n"
     ]
    },
    {
     "name": "stdout",
     "output_type": "stream",
     "text": [
      "[ 22:02:59] getting statistics\n",
      "--------------------\n",
      "training window 1314\n"
     ]
    },
    {
     "name": "stderr",
     "output_type": "stream",
     "text": [
      "/home/hugo/anaconda3/lib/python3.8/site-packages/statsmodels/base/model.py:566: ConvergenceWarning: Maximum Likelihood optimization failed to converge. Check mle_retvals\n",
      "  warnings.warn(\"Maximum Likelihood optimization failed to \"\n"
     ]
    },
    {
     "name": "stdout",
     "output_type": "stream",
     "text": [
      "[ 22:03:06] getting statistics\n",
      "--------------------\n",
      "training window 1971\n"
     ]
    },
    {
     "name": "stderr",
     "output_type": "stream",
     "text": [
      "/home/hugo/anaconda3/lib/python3.8/site-packages/statsmodels/base/model.py:566: ConvergenceWarning: Maximum Likelihood optimization failed to converge. Check mle_retvals\n",
      "  warnings.warn(\"Maximum Likelihood optimization failed to \"\n"
     ]
    },
    {
     "name": "stdout",
     "output_type": "stream",
     "text": [
      "[ 22:03:13] getting statistics\n",
      "--------------------\n",
      "training window 2628\n"
     ]
    },
    {
     "name": "stderr",
     "output_type": "stream",
     "text": [
      "/home/hugo/anaconda3/lib/python3.8/site-packages/statsmodels/base/model.py:566: ConvergenceWarning: Maximum Likelihood optimization failed to converge. Check mle_retvals\n",
      "  warnings.warn(\"Maximum Likelihood optimization failed to \"\n"
     ]
    },
    {
     "name": "stdout",
     "output_type": "stream",
     "text": [
      "[ 22:03:19] getting statistics\n",
      "--------------------\n",
      "training window 3285\n"
     ]
    },
    {
     "name": "stderr",
     "output_type": "stream",
     "text": [
      "/home/hugo/anaconda3/lib/python3.8/site-packages/statsmodels/base/model.py:566: ConvergenceWarning: Maximum Likelihood optimization failed to converge. Check mle_retvals\n",
      "  warnings.warn(\"Maximum Likelihood optimization failed to \"\n"
     ]
    },
    {
     "name": "stdout",
     "output_type": "stream",
     "text": [
      "[ 22:03:26] getting statistics\n",
      "--------------------\n",
      "training window 3942\n"
     ]
    },
    {
     "name": "stderr",
     "output_type": "stream",
     "text": [
      "/home/hugo/anaconda3/lib/python3.8/site-packages/statsmodels/base/model.py:566: ConvergenceWarning: Maximum Likelihood optimization failed to converge. Check mle_retvals\n",
      "  warnings.warn(\"Maximum Likelihood optimization failed to \"\n"
     ]
    },
    {
     "name": "stdout",
     "output_type": "stream",
     "text": [
      "[ 22:03:32] getting statistics\n",
      "--------------------\n",
      "training window 4599\n"
     ]
    },
    {
     "name": "stderr",
     "output_type": "stream",
     "text": [
      "/home/hugo/anaconda3/lib/python3.8/site-packages/statsmodels/base/model.py:566: ConvergenceWarning: Maximum Likelihood optimization failed to converge. Check mle_retvals\n",
      "  warnings.warn(\"Maximum Likelihood optimization failed to \"\n"
     ]
    },
    {
     "name": "stdout",
     "output_type": "stream",
     "text": [
      "[ 22:03:39] getting statistics\n",
      "--------------------\n",
      "training window 5256\n"
     ]
    },
    {
     "name": "stderr",
     "output_type": "stream",
     "text": [
      "/home/hugo/anaconda3/lib/python3.8/site-packages/statsmodels/base/model.py:566: ConvergenceWarning: Maximum Likelihood optimization failed to converge. Check mle_retvals\n",
      "  warnings.warn(\"Maximum Likelihood optimization failed to \"\n"
     ]
    },
    {
     "name": "stdout",
     "output_type": "stream",
     "text": [
      "[ 22:03:45] getting statistics\n",
      "--------------------\n",
      "training window 5913\n"
     ]
    },
    {
     "name": "stderr",
     "output_type": "stream",
     "text": [
      "/home/hugo/anaconda3/lib/python3.8/site-packages/statsmodels/base/model.py:566: ConvergenceWarning: Maximum Likelihood optimization failed to converge. Check mle_retvals\n",
      "  warnings.warn(\"Maximum Likelihood optimization failed to \"\n"
     ]
    },
    {
     "name": "stdout",
     "output_type": "stream",
     "text": [
      "[ 22:03:53] getting statistics\n",
      "--------------------\n",
      "training window 6570\n"
     ]
    },
    {
     "name": "stderr",
     "output_type": "stream",
     "text": [
      "/home/hugo/anaconda3/lib/python3.8/site-packages/statsmodels/base/model.py:566: ConvergenceWarning: Maximum Likelihood optimization failed to converge. Check mle_retvals\n",
      "  warnings.warn(\"Maximum Likelihood optimization failed to \"\n"
     ]
    },
    {
     "name": "stdout",
     "output_type": "stream",
     "text": [
      "[ 22:04:00] getting statistics\n",
      "--------------------\n",
      "training window 7227\n"
     ]
    },
    {
     "name": "stderr",
     "output_type": "stream",
     "text": [
      "/home/hugo/anaconda3/lib/python3.8/site-packages/statsmodels/base/model.py:566: ConvergenceWarning: Maximum Likelihood optimization failed to converge. Check mle_retvals\n",
      "  warnings.warn(\"Maximum Likelihood optimization failed to \"\n"
     ]
    },
    {
     "name": "stdout",
     "output_type": "stream",
     "text": [
      "[ 22:04:05] getting statistics\n",
      "--------------------\n",
      "training window 7884\n"
     ]
    },
    {
     "name": "stderr",
     "output_type": "stream",
     "text": [
      "/home/hugo/anaconda3/lib/python3.8/site-packages/statsmodels/base/model.py:566: ConvergenceWarning: Maximum Likelihood optimization failed to converge. Check mle_retvals\n",
      "  warnings.warn(\"Maximum Likelihood optimization failed to \"\n"
     ]
    },
    {
     "name": "stdout",
     "output_type": "stream",
     "text": [
      "[ 22:04:12] getting statistics\n",
      "--------------------\n",
      "training window 8541\n"
     ]
    },
    {
     "name": "stderr",
     "output_type": "stream",
     "text": [
      "/home/hugo/anaconda3/lib/python3.8/site-packages/statsmodels/base/model.py:566: ConvergenceWarning: Maximum Likelihood optimization failed to converge. Check mle_retvals\n",
      "  warnings.warn(\"Maximum Likelihood optimization failed to \"\n"
     ]
    },
    {
     "name": "stdout",
     "output_type": "stream",
     "text": [
      "[ 22:04:19] getting statistics\n",
      "--------------------\n",
      "training window 9198\n"
     ]
    },
    {
     "name": "stderr",
     "output_type": "stream",
     "text": [
      "/home/hugo/anaconda3/lib/python3.8/site-packages/statsmodels/base/model.py:566: ConvergenceWarning: Maximum Likelihood optimization failed to converge. Check mle_retvals\n",
      "  warnings.warn(\"Maximum Likelihood optimization failed to \"\n"
     ]
    },
    {
     "name": "stdout",
     "output_type": "stream",
     "text": [
      "[ 22:04:26] getting statistics\n",
      "--------------------\n",
      "training window 9855\n"
     ]
    },
    {
     "name": "stderr",
     "output_type": "stream",
     "text": [
      "/home/hugo/anaconda3/lib/python3.8/site-packages/statsmodels/base/model.py:566: ConvergenceWarning: Maximum Likelihood optimization failed to converge. Check mle_retvals\n",
      "  warnings.warn(\"Maximum Likelihood optimization failed to \"\n"
     ]
    },
    {
     "name": "stdout",
     "output_type": "stream",
     "text": [
      "[ 22:04:33] getting statistics\n",
      "--------------------\n",
      "training window 10512\n"
     ]
    },
    {
     "name": "stderr",
     "output_type": "stream",
     "text": [
      "/home/hugo/anaconda3/lib/python3.8/site-packages/statsmodels/base/model.py:566: ConvergenceWarning: Maximum Likelihood optimization failed to converge. Check mle_retvals\n",
      "  warnings.warn(\"Maximum Likelihood optimization failed to \"\n"
     ]
    },
    {
     "name": "stdout",
     "output_type": "stream",
     "text": [
      "[ 22:04:39] getting statistics\n",
      "--------------------\n",
      "training window 11169\n"
     ]
    },
    {
     "name": "stderr",
     "output_type": "stream",
     "text": [
      "/home/hugo/anaconda3/lib/python3.8/site-packages/statsmodels/base/model.py:566: ConvergenceWarning: Maximum Likelihood optimization failed to converge. Check mle_retvals\n",
      "  warnings.warn(\"Maximum Likelihood optimization failed to \"\n"
     ]
    },
    {
     "name": "stdout",
     "output_type": "stream",
     "text": [
      "[ 22:04:46] getting statistics\n",
      "--------------------\n",
      "training window 11826\n"
     ]
    },
    {
     "name": "stderr",
     "output_type": "stream",
     "text": [
      "/home/hugo/anaconda3/lib/python3.8/site-packages/statsmodels/base/model.py:566: ConvergenceWarning: Maximum Likelihood optimization failed to converge. Check mle_retvals\n",
      "  warnings.warn(\"Maximum Likelihood optimization failed to \"\n"
     ]
    },
    {
     "name": "stdout",
     "output_type": "stream",
     "text": [
      "[ 22:04:53] getting statistics\n",
      "--------------------\n",
      "training window 12483\n"
     ]
    },
    {
     "name": "stderr",
     "output_type": "stream",
     "text": [
      "/home/hugo/anaconda3/lib/python3.8/site-packages/statsmodels/base/model.py:566: ConvergenceWarning: Maximum Likelihood optimization failed to converge. Check mle_retvals\n",
      "  warnings.warn(\"Maximum Likelihood optimization failed to \"\n"
     ]
    },
    {
     "name": "stdout",
     "output_type": "stream",
     "text": [
      "[ 22:04:59] getting statistics\n",
      "--------------------\n",
      "training window 13140\n"
     ]
    },
    {
     "name": "stderr",
     "output_type": "stream",
     "text": [
      "/home/hugo/anaconda3/lib/python3.8/site-packages/statsmodels/base/model.py:566: ConvergenceWarning: Maximum Likelihood optimization failed to converge. Check mle_retvals\n",
      "  warnings.warn(\"Maximum Likelihood optimization failed to \"\n"
     ]
    },
    {
     "name": "stdout",
     "output_type": "stream",
     "text": [
      "[ 22:05:05] getting statistics\n",
      "--------------------\n",
      "training window 13797\n"
     ]
    },
    {
     "name": "stderr",
     "output_type": "stream",
     "text": [
      "/home/hugo/anaconda3/lib/python3.8/site-packages/statsmodels/base/model.py:566: ConvergenceWarning: Maximum Likelihood optimization failed to converge. Check mle_retvals\n",
      "  warnings.warn(\"Maximum Likelihood optimization failed to \"\n"
     ]
    },
    {
     "name": "stdout",
     "output_type": "stream",
     "text": [
      "[ 22:05:12] getting statistics\n",
      "--------------------\n",
      "training window 14454\n"
     ]
    },
    {
     "name": "stderr",
     "output_type": "stream",
     "text": [
      "/home/hugo/anaconda3/lib/python3.8/site-packages/statsmodels/base/model.py:566: ConvergenceWarning: Maximum Likelihood optimization failed to converge. Check mle_retvals\n",
      "  warnings.warn(\"Maximum Likelihood optimization failed to \"\n"
     ]
    },
    {
     "name": "stdout",
     "output_type": "stream",
     "text": [
      "[ 22:05:18] getting statistics\n",
      "--------------------\n",
      "training window 15111\n"
     ]
    },
    {
     "name": "stderr",
     "output_type": "stream",
     "text": [
      "/home/hugo/anaconda3/lib/python3.8/site-packages/statsmodels/base/model.py:566: ConvergenceWarning: Maximum Likelihood optimization failed to converge. Check mle_retvals\n",
      "  warnings.warn(\"Maximum Likelihood optimization failed to \"\n"
     ]
    },
    {
     "name": "stdout",
     "output_type": "stream",
     "text": [
      "[ 22:05:24] getting statistics\n",
      "--------------------\n",
      "training window 15768\n"
     ]
    },
    {
     "name": "stderr",
     "output_type": "stream",
     "text": [
      "/home/hugo/anaconda3/lib/python3.8/site-packages/statsmodels/base/model.py:566: ConvergenceWarning: Maximum Likelihood optimization failed to converge. Check mle_retvals\n",
      "  warnings.warn(\"Maximum Likelihood optimization failed to \"\n"
     ]
    },
    {
     "name": "stdout",
     "output_type": "stream",
     "text": [
      "[ 22:05:31] getting statistics\n",
      "--------------------\n",
      "training window 16425\n"
     ]
    },
    {
     "name": "stderr",
     "output_type": "stream",
     "text": [
      "/home/hugo/anaconda3/lib/python3.8/site-packages/statsmodels/base/model.py:566: ConvergenceWarning: Maximum Likelihood optimization failed to converge. Check mle_retvals\n",
      "  warnings.warn(\"Maximum Likelihood optimization failed to \"\n"
     ]
    },
    {
     "name": "stdout",
     "output_type": "stream",
     "text": [
      "[ 22:05:37] getting statistics\n",
      "--------------------\n",
      "training window 17082\n"
     ]
    },
    {
     "name": "stderr",
     "output_type": "stream",
     "text": [
      "/home/hugo/anaconda3/lib/python3.8/site-packages/statsmodels/base/model.py:566: ConvergenceWarning: Maximum Likelihood optimization failed to converge. Check mle_retvals\n",
      "  warnings.warn(\"Maximum Likelihood optimization failed to \"\n"
     ]
    },
    {
     "name": "stdout",
     "output_type": "stream",
     "text": [
      "[ 22:05:46] getting statistics\n",
      "--------------------\n",
      "training window 17739\n"
     ]
    },
    {
     "name": "stderr",
     "output_type": "stream",
     "text": [
      "/home/hugo/anaconda3/lib/python3.8/site-packages/statsmodels/base/model.py:566: ConvergenceWarning: Maximum Likelihood optimization failed to converge. Check mle_retvals\n",
      "  warnings.warn(\"Maximum Likelihood optimization failed to \"\n"
     ]
    },
    {
     "name": "stdout",
     "output_type": "stream",
     "text": [
      "[ 22:05:54] getting statistics\n",
      "--------------------\n",
      "training window 18396\n"
     ]
    },
    {
     "name": "stderr",
     "output_type": "stream",
     "text": [
      "/home/hugo/anaconda3/lib/python3.8/site-packages/statsmodels/base/model.py:566: ConvergenceWarning: Maximum Likelihood optimization failed to converge. Check mle_retvals\n",
      "  warnings.warn(\"Maximum Likelihood optimization failed to \"\n"
     ]
    },
    {
     "name": "stdout",
     "output_type": "stream",
     "text": [
      "[ 22:06:02] getting statistics\n",
      "--------------------\n",
      "training window 19053\n"
     ]
    },
    {
     "name": "stderr",
     "output_type": "stream",
     "text": [
      "/home/hugo/anaconda3/lib/python3.8/site-packages/statsmodels/base/model.py:566: ConvergenceWarning: Maximum Likelihood optimization failed to converge. Check mle_retvals\n",
      "  warnings.warn(\"Maximum Likelihood optimization failed to \"\n"
     ]
    },
    {
     "name": "stdout",
     "output_type": "stream",
     "text": [
      "[ 22:06:10] getting statistics\n"
     ]
    }
   ],
   "source": [
    "result = {\n",
    "     \"window\": [],\n",
    "     \"rmse\": [],\n",
    "     \"mape\": [],\n",
    "     \"smape\": []\n",
    "}\n",
    "\n",
    "tam = len(data)\n",
    "n_windows = 30\n",
    "windows_length = math.floor(tam / n_windows)\n",
    "for ct, ttrain, ttest in Util.sliding_window(data, windows_length, 0.75, inc=1):\n",
    "    if len(ttest) > 0:\n",
    "        \n",
    "        start = len(ttrain)\n",
    "        end = len(ttrain)+ len(ttest) -1\n",
    "        appliance = ttest['Appliances_t+1'].reset_index()\n",
    "        \n",
    "        print('-' * 20)\n",
    "        print(f'training window {(ct)}')\n",
    "        model, sarimax, pca_reduced_train = pca_sarimax.run_train_model(ttrain)\n",
    "        forecast, pca_reduced_test = pca_sarimax.run_test_model(ttest,sarimax,start,end)\n",
    "        \n",
    "        print(\"[{0: %H:%M:%S}]\".format(datetime.datetime.now()) + f\" getting statistics\")\n",
    "        rmse = Measures.rmse(list(appliance.iloc[:,1]),list(forecast))\n",
    "        mape = Measures.mape(list(appliance.iloc[:,1]),list(forecast))\n",
    "        smape = Measures.smape(list(appliance.iloc[:,1]),list(forecast))\n",
    "        \n",
    "        result[\"rmse\"].append(rmse)\n",
    "        result[\"mape\"].append(mape)\n",
    "        result[\"smape\"].append(smape)\n",
    "        result[\"window\"].append(ct)\n",
    "        \n",
    "measures = pd.DataFrame(result)"
   ]
  },
  {
   "cell_type": "code",
   "execution_count": 48,
   "id": "czech-tulsa",
   "metadata": {},
   "outputs": [
    {
     "data": {
      "text/html": [
       "<div>\n",
       "<style scoped>\n",
       "    .dataframe tbody tr th:only-of-type {\n",
       "        vertical-align: middle;\n",
       "    }\n",
       "\n",
       "    .dataframe tbody tr th {\n",
       "        vertical-align: top;\n",
       "    }\n",
       "\n",
       "    .dataframe thead th {\n",
       "        text-align: right;\n",
       "    }\n",
       "</style>\n",
       "<table border=\"1\" class=\"dataframe\">\n",
       "  <thead>\n",
       "    <tr style=\"text-align: right;\">\n",
       "      <th></th>\n",
       "      <th>window</th>\n",
       "      <th>rmse</th>\n",
       "      <th>mape</th>\n",
       "      <th>smape</th>\n",
       "    </tr>\n",
       "  </thead>\n",
       "  <tbody>\n",
       "    <tr>\n",
       "      <th>0</th>\n",
       "      <td>0</td>\n",
       "      <td>425.641545</td>\n",
       "      <td>453.795045</td>\n",
       "      <td>85.025870</td>\n",
       "    </tr>\n",
       "    <tr>\n",
       "      <th>1</th>\n",
       "      <td>657</td>\n",
       "      <td>877.006386</td>\n",
       "      <td>1165.350289</td>\n",
       "      <td>72.275187</td>\n",
       "    </tr>\n",
       "    <tr>\n",
       "      <th>2</th>\n",
       "      <td>1314</td>\n",
       "      <td>766.906447</td>\n",
       "      <td>994.003002</td>\n",
       "      <td>95.569425</td>\n",
       "    </tr>\n",
       "    <tr>\n",
       "      <th>3</th>\n",
       "      <td>1971</td>\n",
       "      <td>246.428125</td>\n",
       "      <td>648.741824</td>\n",
       "      <td>76.866543</td>\n",
       "    </tr>\n",
       "    <tr>\n",
       "      <th>4</th>\n",
       "      <td>2628</td>\n",
       "      <td>139.315380</td>\n",
       "      <td>134.078713</td>\n",
       "      <td>42.662548</td>\n",
       "    </tr>\n",
       "    <tr>\n",
       "      <th>5</th>\n",
       "      <td>3285</td>\n",
       "      <td>175.423570</td>\n",
       "      <td>242.698241</td>\n",
       "      <td>57.166792</td>\n",
       "    </tr>\n",
       "    <tr>\n",
       "      <th>6</th>\n",
       "      <td>3942</td>\n",
       "      <td>220.925024</td>\n",
       "      <td>253.061682</td>\n",
       "      <td>50.848908</td>\n",
       "    </tr>\n",
       "    <tr>\n",
       "      <th>7</th>\n",
       "      <td>4599</td>\n",
       "      <td>130.468043</td>\n",
       "      <td>144.876919</td>\n",
       "      <td>42.082949</td>\n",
       "    </tr>\n",
       "    <tr>\n",
       "      <th>8</th>\n",
       "      <td>5256</td>\n",
       "      <td>208.282010</td>\n",
       "      <td>313.907711</td>\n",
       "      <td>63.585635</td>\n",
       "    </tr>\n",
       "    <tr>\n",
       "      <th>9</th>\n",
       "      <td>5913</td>\n",
       "      <td>217.284225</td>\n",
       "      <td>107.330246</td>\n",
       "      <td>69.553473</td>\n",
       "    </tr>\n",
       "    <tr>\n",
       "      <th>10</th>\n",
       "      <td>6570</td>\n",
       "      <td>632.464370</td>\n",
       "      <td>1129.992493</td>\n",
       "      <td>78.412300</td>\n",
       "    </tr>\n",
       "    <tr>\n",
       "      <th>11</th>\n",
       "      <td>7227</td>\n",
       "      <td>214.287248</td>\n",
       "      <td>257.933820</td>\n",
       "      <td>83.273327</td>\n",
       "    </tr>\n",
       "    <tr>\n",
       "      <th>12</th>\n",
       "      <td>7884</td>\n",
       "      <td>250.000103</td>\n",
       "      <td>367.622561</td>\n",
       "      <td>57.634940</td>\n",
       "    </tr>\n",
       "    <tr>\n",
       "      <th>13</th>\n",
       "      <td>8541</td>\n",
       "      <td>638.019990</td>\n",
       "      <td>970.081821</td>\n",
       "      <td>68.747370</td>\n",
       "    </tr>\n",
       "    <tr>\n",
       "      <th>14</th>\n",
       "      <td>9198</td>\n",
       "      <td>260.536636</td>\n",
       "      <td>302.967376</td>\n",
       "      <td>49.444628</td>\n",
       "    </tr>\n",
       "    <tr>\n",
       "      <th>15</th>\n",
       "      <td>9855</td>\n",
       "      <td>127.758947</td>\n",
       "      <td>172.052889</td>\n",
       "      <td>41.701812</td>\n",
       "    </tr>\n",
       "    <tr>\n",
       "      <th>16</th>\n",
       "      <td>10512</td>\n",
       "      <td>178.328819</td>\n",
       "      <td>119.333420</td>\n",
       "      <td>54.711626</td>\n",
       "    </tr>\n",
       "    <tr>\n",
       "      <th>17</th>\n",
       "      <td>11169</td>\n",
       "      <td>182.158320</td>\n",
       "      <td>265.492538</td>\n",
       "      <td>83.764152</td>\n",
       "    </tr>\n",
       "    <tr>\n",
       "      <th>18</th>\n",
       "      <td>11826</td>\n",
       "      <td>529.784981</td>\n",
       "      <td>647.445320</td>\n",
       "      <td>69.512090</td>\n",
       "    </tr>\n",
       "    <tr>\n",
       "      <th>19</th>\n",
       "      <td>12483</td>\n",
       "      <td>196.189732</td>\n",
       "      <td>252.360870</td>\n",
       "      <td>59.614507</td>\n",
       "    </tr>\n",
       "    <tr>\n",
       "      <th>20</th>\n",
       "      <td>13140</td>\n",
       "      <td>995.184689</td>\n",
       "      <td>1379.278202</td>\n",
       "      <td>79.858122</td>\n",
       "    </tr>\n",
       "    <tr>\n",
       "      <th>21</th>\n",
       "      <td>13797</td>\n",
       "      <td>356.063204</td>\n",
       "      <td>384.002828</td>\n",
       "      <td>67.376833</td>\n",
       "    </tr>\n",
       "    <tr>\n",
       "      <th>22</th>\n",
       "      <td>14454</td>\n",
       "      <td>190.566964</td>\n",
       "      <td>241.138706</td>\n",
       "      <td>72.838016</td>\n",
       "    </tr>\n",
       "    <tr>\n",
       "      <th>23</th>\n",
       "      <td>15111</td>\n",
       "      <td>324.793362</td>\n",
       "      <td>367.954938</td>\n",
       "      <td>87.087324</td>\n",
       "    </tr>\n",
       "    <tr>\n",
       "      <th>24</th>\n",
       "      <td>15768</td>\n",
       "      <td>200.708041</td>\n",
       "      <td>243.349380</td>\n",
       "      <td>66.850604</td>\n",
       "    </tr>\n",
       "    <tr>\n",
       "      <th>25</th>\n",
       "      <td>16425</td>\n",
       "      <td>320.156570</td>\n",
       "      <td>389.707248</td>\n",
       "      <td>88.935710</td>\n",
       "    </tr>\n",
       "    <tr>\n",
       "      <th>26</th>\n",
       "      <td>17082</td>\n",
       "      <td>306.144145</td>\n",
       "      <td>182.502377</td>\n",
       "      <td>74.818823</td>\n",
       "    </tr>\n",
       "    <tr>\n",
       "      <th>27</th>\n",
       "      <td>17739</td>\n",
       "      <td>125.567768</td>\n",
       "      <td>170.418897</td>\n",
       "      <td>73.245567</td>\n",
       "    </tr>\n",
       "    <tr>\n",
       "      <th>28</th>\n",
       "      <td>18396</td>\n",
       "      <td>524.588486</td>\n",
       "      <td>494.600438</td>\n",
       "      <td>97.485614</td>\n",
       "    </tr>\n",
       "    <tr>\n",
       "      <th>29</th>\n",
       "      <td>19053</td>\n",
       "      <td>536.353569</td>\n",
       "      <td>661.737195</td>\n",
       "      <td>64.444586</td>\n",
       "    </tr>\n",
       "  </tbody>\n",
       "</table>\n",
       "</div>"
      ],
      "text/plain": [
       "    window        rmse         mape      smape\n",
       "0        0  425.641545   453.795045  85.025870\n",
       "1      657  877.006386  1165.350289  72.275187\n",
       "2     1314  766.906447   994.003002  95.569425\n",
       "3     1971  246.428125   648.741824  76.866543\n",
       "4     2628  139.315380   134.078713  42.662548\n",
       "5     3285  175.423570   242.698241  57.166792\n",
       "6     3942  220.925024   253.061682  50.848908\n",
       "7     4599  130.468043   144.876919  42.082949\n",
       "8     5256  208.282010   313.907711  63.585635\n",
       "9     5913  217.284225   107.330246  69.553473\n",
       "10    6570  632.464370  1129.992493  78.412300\n",
       "11    7227  214.287248   257.933820  83.273327\n",
       "12    7884  250.000103   367.622561  57.634940\n",
       "13    8541  638.019990   970.081821  68.747370\n",
       "14    9198  260.536636   302.967376  49.444628\n",
       "15    9855  127.758947   172.052889  41.701812\n",
       "16   10512  178.328819   119.333420  54.711626\n",
       "17   11169  182.158320   265.492538  83.764152\n",
       "18   11826  529.784981   647.445320  69.512090\n",
       "19   12483  196.189732   252.360870  59.614507\n",
       "20   13140  995.184689  1379.278202  79.858122\n",
       "21   13797  356.063204   384.002828  67.376833\n",
       "22   14454  190.566964   241.138706  72.838016\n",
       "23   15111  324.793362   367.954938  87.087324\n",
       "24   15768  200.708041   243.349380  66.850604\n",
       "25   16425  320.156570   389.707248  88.935710\n",
       "26   17082  306.144145   182.502377  74.818823\n",
       "27   17739  125.567768   170.418897  73.245567\n",
       "28   18396  524.588486   494.600438  97.485614\n",
       "29   19053  536.353569   661.737195  64.444586"
      ]
     },
     "execution_count": 48,
     "metadata": {},
     "output_type": "execute_result"
    }
   ],
   "source": [
    "measures"
   ]
  },
  {
   "cell_type": "markdown",
   "id": "selected-newark",
   "metadata": {},
   "source": [
    "### Mean Statistics PCA-ARIMAX"
   ]
  },
  {
   "cell_type": "code",
   "execution_count": 49,
   "id": "legitimate-airport",
   "metadata": {},
   "outputs": [
    {
     "name": "stdout",
     "output_type": "stream",
     "text": [
      "Mean Statistics PCA-ARIMAX (test): \n"
     ]
    },
    {
     "data": {
      "text/html": [
       "<div>\n",
       "<style scoped>\n",
       "    .dataframe tbody tr th:only-of-type {\n",
       "        vertical-align: middle;\n",
       "    }\n",
       "\n",
       "    .dataframe tbody tr th {\n",
       "        vertical-align: top;\n",
       "    }\n",
       "\n",
       "    .dataframe thead th {\n",
       "        text-align: right;\n",
       "    }\n",
       "</style>\n",
       "<table border=\"1\" class=\"dataframe\">\n",
       "  <thead>\n",
       "    <tr style=\"text-align: right;\">\n",
       "      <th></th>\n",
       "      <th>rmse</th>\n",
       "      <th>mape</th>\n",
       "      <th>smape</th>\n",
       "    </tr>\n",
       "  </thead>\n",
       "  <tbody>\n",
       "    <tr>\n",
       "      <th>0</th>\n",
       "      <td>349.911223</td>\n",
       "      <td>448.5939</td>\n",
       "      <td>69.179843</td>\n",
       "    </tr>\n",
       "  </tbody>\n",
       "</table>\n",
       "</div>"
      ],
      "text/plain": [
       "         rmse      mape      smape\n",
       "0  349.911223  448.5939  69.179843"
      ]
     },
     "execution_count": 49,
     "metadata": {},
     "output_type": "execute_result"
    }
   ],
   "source": [
    "final_result = {\n",
    "     \"rmse\": [],\n",
    "     \"mape\": [],\n",
    "     \"smape\": []\n",
    "}\n",
    "\n",
    "final_result[\"rmse\"].append(statistics.mean(measures['rmse']))\n",
    "final_result[\"mape\"].append(statistics.mean(measures['mape']))\n",
    "final_result[\"smape\"].append(statistics.mean(measures['smape']))\n",
    "        \n",
    "final_measures_pca = pd.DataFrame(final_result)\n",
    "\n",
    "print(\"Mean Statistics PCA-ARIMAX (test): \")\n",
    "final_measures_pca"
   ]
  },
  {
   "cell_type": "code",
   "execution_count": null,
   "id": "approximate-durham",
   "metadata": {},
   "outputs": [],
   "source": []
  }
 ],
 "metadata": {
  "kernelspec": {
   "display_name": "Python 3",
   "language": "python",
   "name": "python3"
  },
  "language_info": {
   "codemirror_mode": {
    "name": "ipython",
    "version": 3
   },
   "file_extension": ".py",
   "mimetype": "text/x-python",
   "name": "python",
   "nbconvert_exporter": "python",
   "pygments_lexer": "ipython3",
   "version": "3.8.5"
  }
 },
 "nbformat": 4,
 "nbformat_minor": 5
}
