{
 "cells": [
  {
   "cell_type": "code",
   "execution_count": 44,
   "id": "dirty-manitoba",
   "metadata": {},
   "outputs": [],
   "source": [
    "import pandas as pd\n",
    "import numpy as np\n",
    "import matplotlib.pyplot as plt\n",
    "# To get reproducible results with Keras\n",
    "from numpy.random import seed\n",
    "# from tensorflow import set_random_seed\n",
    "# set_random_seed(2)\n",
    "import tensorflow \n",
    "tensorflow.random.set_seed(2)\n",
    "from keras.models import Model, Sequential\n",
    "from keras.layers import Dense, Input, LSTM, Dropout\n",
    "from keras.layers import TimeDistributed, RepeatVector\n",
    "from keras.models import Model\n",
    "from keras import regularizers\n",
    "\n",
    "from keras import regularizers\n",
    "from sklearn.preprocessing import MinMaxScaler, StandardScaler\n",
    "from pyFTS.benchmarks import Measures\n",
    "import statistics\n",
    "from pyFTS.common.Util import persist_obj, load_obj\n",
    "from pyFTS.models.multivariate import common, variable, wmvfts\n",
    "from pyFTS.partitioners import Grid\n",
    "from pyFTS.common import Membership\n",
    "import math\n",
    "import pyFTS\n",
    "import datetime\n",
    "from pyFTS.common import Util\n",
    "import seaborn as sns"
   ]
  },
  {
   "cell_type": "code",
   "execution_count": 39,
   "id": "armed-facial",
   "metadata": {},
   "outputs": [],
   "source": [
    "def sample_first_prows(data, perc=0.75):\n",
    "    return data.head(int(len(data)*(perc))-1)"
   ]
  },
  {
   "cell_type": "code",
   "execution_count": 7,
   "id": "motivated-ground",
   "metadata": {},
   "outputs": [],
   "source": [
    "# To get reproducible results with Keras\n",
    "from numpy.random import seed\n",
    "seed(1)\n",
    "# from tensorflow import set_random_seed\n",
    "# set_random_seed(2)\n",
    "import tensorflow\n",
    "tensorflow.random.set_seed(2)"
   ]
  },
  {
   "cell_type": "code",
   "execution_count": 8,
   "id": "enhanced-musical",
   "metadata": {},
   "outputs": [],
   "source": [
    "# convert series to supervised learning\n",
    "def series_to_supervised(data, n_in=1, n_out=1, dropnan=True):\n",
    "\t\"\"\"\n",
    "\tFrame a time series as a supervised learning dataset.\n",
    "\tArguments:\n",
    "\t\tdata: Sequence of observations as a list or NumPy array.\n",
    "\t\tn_in: Number of lag observations as input (X).\n",
    "\t\tn_out: Number of observations as output (y).\n",
    "\t\tdropnan: Boolean whether or not to drop rows with NaN values.\n",
    "\tReturns:\n",
    "\t\tPandas DataFrame of series framed for supervised learning.\n",
    "\t\"\"\"\n",
    "\tn_vars = 1 if type(data) is list else data.shape[1]\n",
    "\tdf = pd.DataFrame(data)\n",
    "\tcols, names = list(), list()\n",
    "\t# input sequence (t-n, ... t-1)\n",
    "\tfor i in range(n_in, 0, -1):\n",
    "\t\tcols.append(df.shift(i))\n",
    "\t\tnames += [('var%d(t-%d)' % (j+1, i)) for j in range(n_vars)]\n",
    "\t# forecast sequence (t, t+1, ... t+n)\n",
    "\tfor i in range(0, n_out):\n",
    "\t\tcols.append(df.shift(-i))\n",
    "\t\tif i == 0:\n",
    "\t\t\tnames += [('var%d(t)' % (j+1)) for j in range(n_vars)]\n",
    "\t\telse:\n",
    "\t\t\tnames += [('var%d(t+%d)' % (j+1, i)) for j in range(n_vars)]\n",
    "\t# put it all together\n",
    "\tagg = pd.concat(cols, axis=1)\n",
    "\tagg.columns = names\n",
    "\t# drop rows with NaN values\n",
    "\tif dropnan:\n",
    "\t\tagg.dropna(inplace=True)\n",
    "\treturn agg"
   ]
  },
  {
   "cell_type": "code",
   "execution_count": 9,
   "id": "included-wilson",
   "metadata": {},
   "outputs": [
    {
     "data": {
      "text/plain": [
       "array([[ 60.        ,  30.        ,  19.89      , ...,   7.        ,\n",
       "         63.        ,   5.3       ],\n",
       "       [ 60.        ,  30.        ,  19.89      , ...,   6.66666667,\n",
       "         59.16666667,   5.2       ],\n",
       "       [ 50.        ,  30.        ,  19.89      , ...,   6.33333333,\n",
       "         55.33333333,   5.1       ],\n",
       "       ...,\n",
       "       [270.        ,  10.        ,  25.5       , ...,   3.66666667,\n",
       "         25.33333333,  13.26666667],\n",
       "       [420.        ,  10.        ,  25.5       , ...,   3.83333333,\n",
       "         26.16666667,  13.23333333],\n",
       "       [430.        ,  10.        ,  25.5       , ...,   4.        ,\n",
       "         27.        ,  13.2       ]])"
      ]
     },
     "execution_count": 9,
     "metadata": {},
     "output_type": "execute_result"
    }
   ],
   "source": [
    "dataset = pd.read_csv('/home/hugo/projetos-doutorado/Appliance-Energy-Prediction/data/energydata_complete.csv')\n",
    "data = dataset.drop(labels=['date','rv1','rv2'], axis=1)\n",
    "values = data.values\n",
    "values"
   ]
  },
  {
   "cell_type": "code",
   "execution_count": 50,
   "id": "north-vertical",
   "metadata": {},
   "outputs": [],
   "source": [
    "train = sample_first_prows(data,0.75)\n",
    "test = data.iloc[max(train.index)+2:]"
   ]
  },
  {
   "cell_type": "code",
   "execution_count": 51,
   "id": "scientific-dispatch",
   "metadata": {},
   "outputs": [
    {
     "data": {
      "text/plain": [
       "(4934, 26)"
      ]
     },
     "execution_count": 51,
     "metadata": {},
     "output_type": "execute_result"
    }
   ],
   "source": [
    "test.shape"
   ]
  },
  {
   "cell_type": "code",
   "execution_count": 10,
   "id": "organizational-hughes",
   "metadata": {},
   "outputs": [
    {
     "data": {
      "text/plain": [
       "Index(['Appliances', 'lights', 'T1', 'RH_1', 'T2', 'RH_2', 'T3', 'RH_3', 'T4',\n",
       "       'RH_4', 'T5', 'RH_5', 'T6', 'RH_6', 'T7', 'RH_7', 'T8', 'RH_8', 'T9',\n",
       "       'RH_9', 'T_out', 'Press_mm_hg', 'RH_out', 'Windspeed', 'Visibility',\n",
       "       'Tdewpoint'],\n",
       "      dtype='object')"
      ]
     },
     "execution_count": 10,
     "metadata": {},
     "output_type": "execute_result"
    }
   ],
   "source": [
    "data.columns"
   ]
  },
  {
   "cell_type": "code",
   "execution_count": 11,
   "id": "lined-quilt",
   "metadata": {},
   "outputs": [
    {
     "data": {
      "text/plain": [
       "26"
      ]
     },
     "execution_count": 11,
     "metadata": {},
     "output_type": "execute_result"
    }
   ],
   "source": [
    "len(data.columns)"
   ]
  },
  {
   "cell_type": "code",
   "execution_count": 12,
   "id": "perfect-address",
   "metadata": {},
   "outputs": [
    {
     "data": {
      "image/png": "[encoded data removed]",
      "text/plain": [
       "<Figure size 432x288 with 7 Axes>"
      ]
     },
     "metadata": {
      "needs_background": "light"
     },
     "output_type": "display_data"
    }
   ],
   "source": [
    "from matplotlib import pyplot\n",
    "# specify columns to plot\n",
    "groups = [0, 1, 2, 3, 4, 5, 6]\n",
    "i = 1\n",
    "# plot each column\n",
    "pyplot.figure()\n",
    "for group in groups:\n",
    "\tpyplot.subplot(len(groups), 1, i)\n",
    "\tpyplot.plot(values[:, group])\n",
    "\tpyplot.title(dataset.columns[group], y=0.5, loc='right')\n",
    "\ti += 1\n",
    "pyplot.show()\n",
    "pyplot.close('all')"
   ]
  },
  {
   "cell_type": "code",
   "execution_count": 13,
   "id": "quality-enemy",
   "metadata": {},
   "outputs": [
    {
     "data": {
      "text/html": [
       "<div>\n",
       "<style scoped>\n",
       "    .dataframe tbody tr th:only-of-type {\n",
       "        vertical-align: middle;\n",
       "    }\n",
       "\n",
       "    .dataframe tbody tr th {\n",
       "        vertical-align: top;\n",
       "    }\n",
       "\n",
       "    .dataframe thead th {\n",
       "        text-align: right;\n",
       "    }\n",
       "</style>\n",
       "<table border=\"1\" class=\"dataframe\">\n",
       "  <thead>\n",
       "    <tr style=\"text-align: right;\">\n",
       "      <th></th>\n",
       "      <th>var1(t-1)</th>\n",
       "      <th>var2(t-1)</th>\n",
       "      <th>var3(t-1)</th>\n",
       "      <th>var4(t-1)</th>\n",
       "      <th>var5(t-1)</th>\n",
       "      <th>var6(t-1)</th>\n",
       "      <th>var7(t-1)</th>\n",
       "      <th>var8(t-1)</th>\n",
       "      <th>var9(t-1)</th>\n",
       "      <th>var10(t-1)</th>\n",
       "      <th>...</th>\n",
       "      <th>var18(t-1)</th>\n",
       "      <th>var19(t-1)</th>\n",
       "      <th>var20(t-1)</th>\n",
       "      <th>var21(t-1)</th>\n",
       "      <th>var22(t-1)</th>\n",
       "      <th>var23(t-1)</th>\n",
       "      <th>var24(t-1)</th>\n",
       "      <th>var25(t-1)</th>\n",
       "      <th>var26(t-1)</th>\n",
       "      <th>var1(t)</th>\n",
       "    </tr>\n",
       "  </thead>\n",
       "  <tbody>\n",
       "    <tr>\n",
       "      <th>1</th>\n",
       "      <td>0.046729</td>\n",
       "      <td>0.428571</td>\n",
       "      <td>0.32735</td>\n",
       "      <td>0.566187</td>\n",
       "      <td>0.225345</td>\n",
       "      <td>0.684038</td>\n",
       "      <td>0.215188</td>\n",
       "      <td>0.746066</td>\n",
       "      <td>0.351351</td>\n",
       "      <td>0.764262</td>\n",
       "      <td>...</td>\n",
       "      <td>0.661412</td>\n",
       "      <td>0.223032</td>\n",
       "      <td>0.677290</td>\n",
       "      <td>0.372990</td>\n",
       "      <td>0.097674</td>\n",
       "      <td>0.894737</td>\n",
       "      <td>0.500000</td>\n",
       "      <td>0.953846</td>\n",
       "      <td>0.538462</td>\n",
       "      <td>0.046729</td>\n",
       "    </tr>\n",
       "    <tr>\n",
       "      <th>2</th>\n",
       "      <td>0.046729</td>\n",
       "      <td>0.428571</td>\n",
       "      <td>0.32735</td>\n",
       "      <td>0.541326</td>\n",
       "      <td>0.225345</td>\n",
       "      <td>0.682140</td>\n",
       "      <td>0.215188</td>\n",
       "      <td>0.748871</td>\n",
       "      <td>0.351351</td>\n",
       "      <td>0.782437</td>\n",
       "      <td>...</td>\n",
       "      <td>0.660155</td>\n",
       "      <td>0.226500</td>\n",
       "      <td>0.678532</td>\n",
       "      <td>0.369239</td>\n",
       "      <td>0.100000</td>\n",
       "      <td>0.894737</td>\n",
       "      <td>0.476190</td>\n",
       "      <td>0.894872</td>\n",
       "      <td>0.533937</td>\n",
       "      <td>0.037383</td>\n",
       "    </tr>\n",
       "    <tr>\n",
       "      <th>3</th>\n",
       "      <td>0.037383</td>\n",
       "      <td>0.428571</td>\n",
       "      <td>0.32735</td>\n",
       "      <td>0.530502</td>\n",
       "      <td>0.225345</td>\n",
       "      <td>0.679445</td>\n",
       "      <td>0.215188</td>\n",
       "      <td>0.755569</td>\n",
       "      <td>0.344745</td>\n",
       "      <td>0.778062</td>\n",
       "      <td>...</td>\n",
       "      <td>0.655586</td>\n",
       "      <td>0.219563</td>\n",
       "      <td>0.676049</td>\n",
       "      <td>0.365488</td>\n",
       "      <td>0.102326</td>\n",
       "      <td>0.894737</td>\n",
       "      <td>0.452381</td>\n",
       "      <td>0.835897</td>\n",
       "      <td>0.529412</td>\n",
       "      <td>0.037383</td>\n",
       "    </tr>\n",
       "    <tr>\n",
       "      <th>4</th>\n",
       "      <td>0.037383</td>\n",
       "      <td>0.571429</td>\n",
       "      <td>0.32735</td>\n",
       "      <td>0.524080</td>\n",
       "      <td>0.225345</td>\n",
       "      <td>0.678414</td>\n",
       "      <td>0.215188</td>\n",
       "      <td>0.758685</td>\n",
       "      <td>0.341441</td>\n",
       "      <td>0.770949</td>\n",
       "      <td>...</td>\n",
       "      <td>0.650788</td>\n",
       "      <td>0.219563</td>\n",
       "      <td>0.671909</td>\n",
       "      <td>0.361736</td>\n",
       "      <td>0.104651</td>\n",
       "      <td>0.894737</td>\n",
       "      <td>0.428571</td>\n",
       "      <td>0.776923</td>\n",
       "      <td>0.524887</td>\n",
       "      <td>0.046729</td>\n",
       "    </tr>\n",
       "    <tr>\n",
       "      <th>5</th>\n",
       "      <td>0.046729</td>\n",
       "      <td>0.571429</td>\n",
       "      <td>0.32735</td>\n",
       "      <td>0.531419</td>\n",
       "      <td>0.225345</td>\n",
       "      <td>0.676727</td>\n",
       "      <td>0.215188</td>\n",
       "      <td>0.758685</td>\n",
       "      <td>0.341441</td>\n",
       "      <td>0.762697</td>\n",
       "      <td>...</td>\n",
       "      <td>0.650788</td>\n",
       "      <td>0.219563</td>\n",
       "      <td>0.671909</td>\n",
       "      <td>0.357985</td>\n",
       "      <td>0.106977</td>\n",
       "      <td>0.894737</td>\n",
       "      <td>0.404762</td>\n",
       "      <td>0.717949</td>\n",
       "      <td>0.520362</td>\n",
       "      <td>0.037383</td>\n",
       "    </tr>\n",
       "  </tbody>\n",
       "</table>\n",
       "<p>5 rows × 27 columns</p>\n",
       "</div>"
      ],
      "text/plain": [
       "   var1(t-1)  var2(t-1)  var3(t-1)  var4(t-1)  var5(t-1)  var6(t-1)  \\\n",
       "1   0.046729   0.428571    0.32735   0.566187   0.225345   0.684038   \n",
       "2   0.046729   0.428571    0.32735   0.541326   0.225345   0.682140   \n",
       "3   0.037383   0.428571    0.32735   0.530502   0.225345   0.679445   \n",
       "4   0.037383   0.571429    0.32735   0.524080   0.225345   0.678414   \n",
       "5   0.046729   0.571429    0.32735   0.531419   0.225345   0.676727   \n",
       "\n",
       "   var7(t-1)  var8(t-1)  var9(t-1)  var10(t-1)  ...  var18(t-1)  var19(t-1)  \\\n",
       "1   0.215188   0.746066   0.351351    0.764262  ...    0.661412    0.223032   \n",
       "2   0.215188   0.748871   0.351351    0.782437  ...    0.660155    0.226500   \n",
       "3   0.215188   0.755569   0.344745    0.778062  ...    0.655586    0.219563   \n",
       "4   0.215188   0.758685   0.341441    0.770949  ...    0.650788    0.219563   \n",
       "5   0.215188   0.758685   0.341441    0.762697  ...    0.650788    0.219563   \n",
       "\n",
       "   var20(t-1)  var21(t-1)  var22(t-1)  var23(t-1)  var24(t-1)  var25(t-1)  \\\n",
       "1    0.677290    0.372990    0.097674    0.894737    0.500000    0.953846   \n",
       "2    0.678532    0.369239    0.100000    0.894737    0.476190    0.894872   \n",
       "3    0.676049    0.365488    0.102326    0.894737    0.452381    0.835897   \n",
       "4    0.671909    0.361736    0.104651    0.894737    0.428571    0.776923   \n",
       "5    0.671909    0.357985    0.106977    0.894737    0.404762    0.717949   \n",
       "\n",
       "   var26(t-1)   var1(t)  \n",
       "1    0.538462  0.046729  \n",
       "2    0.533937  0.037383  \n",
       "3    0.529412  0.037383  \n",
       "4    0.524887  0.046729  \n",
       "5    0.520362  0.037383  \n",
       "\n",
       "[5 rows x 27 columns]"
      ]
     },
     "execution_count": 13,
     "metadata": {},
     "output_type": "execute_result"
    }
   ],
   "source": [
    "# normalize features\n",
    "scaler = MinMaxScaler(feature_range=(0, 1))\n",
    "scaled = scaler.fit_transform(values)\n",
    "# frame as supervised learning\n",
    "reframed = series_to_supervised(scaled, 1, 1)\n",
    "# drop columns we don't want to predict\n",
    "reframed.drop(reframed.columns[[27,28,29,30,31,32,33,34,35,36,37,38,39,40,41,42,43,44,45,46,47,48,49,50,51]], axis=1, inplace=True)\n",
    "#reframed.drop(reframed.columns[[0,27,28,29,30,31,32,33,34,35,36,37,38,39,40,41,42,43,44,45,46,47,48,49,50,51]], axis=1, inplace=True)\n",
    "reframed.head()"
   ]
  },
  {
   "cell_type": "code",
   "execution_count": 14,
   "id": "acceptable-terror",
   "metadata": {},
   "outputs": [
    {
     "data": {
      "text/plain": [
       "19734"
      ]
     },
     "execution_count": 14,
     "metadata": {},
     "output_type": "execute_result"
    }
   ],
   "source": [
    "len(reframed.values)"
   ]
  },
  {
   "cell_type": "code",
   "execution_count": 15,
   "id": "recognized-template",
   "metadata": {},
   "outputs": [
    {
     "name": "stdout",
     "output_type": "stream",
     "text": [
      "4934\n"
     ]
    }
   ],
   "source": [
    "values = reframed.values\n",
    "train_size=int(len(values) *0.75)\n",
    "test_size = int(len(values)) - train_size\n",
    "print(test_size)"
   ]
  },
  {
   "cell_type": "code",
   "execution_count": 16,
   "id": "greater-flavor",
   "metadata": {},
   "outputs": [
    {
     "name": "stdout",
     "output_type": "stream",
     "text": [
      "(14800, 1, 26) (14800,) (4934, 1, 26) (4934,)\n"
     ]
    }
   ],
   "source": [
    "# split into train and test sets\n",
    "train_X, train_y = values[:train_size], values[:train_size]\n",
    "test_X, test_y = values[train_size:], values[train_size:]\n",
    "\n",
    "# split into input (all columns exceptc last one) and outputs (last column)\n",
    "train_X, train_y = train_X[:, :-1], train_y[:, -1]\n",
    "test_X, test_y = test_X[:, :-1], test_y[:, -1]\n",
    "\n",
    "# reshape input to be 3D [samples, timesteps, features]; each line turns into an 'sub-array'\n",
    "train_X = train_X.reshape((train_X.shape[0], 1, train_X.shape[1]))\n",
    "test_X = test_X.reshape((test_X.shape[0], 1, test_X.shape[1]))\n",
    "print(train_X.shape, train_y.shape, test_X.shape, test_y.shape)"
   ]
  },
  {
   "cell_type": "code",
   "execution_count": 17,
   "id": "ultimate-lightweight",
   "metadata": {},
   "outputs": [
    {
     "data": {
      "text/plain": [
       "array([0.04672897, 0.03738318, 0.03738318, ..., 0.27102804, 0.27102804,\n",
       "       0.25233645])"
      ]
     },
     "execution_count": 17,
     "metadata": {},
     "output_type": "execute_result"
    }
   ],
   "source": [
    "train_y"
   ]
  },
  {
   "cell_type": "code",
   "execution_count": 18,
   "id": "animated-comedy",
   "metadata": {},
   "outputs": [],
   "source": [
    "# define the autoencoder network model\n",
    "def autoencoder_model(X):\n",
    "    inputs = Input(shape=(X.shape[1], X.shape[2]))\n",
    "    L1 = LSTM(16, activation='relu', return_sequences=True, \n",
    "              kernel_regularizer=regularizers.l2(0.00))(inputs)\n",
    "    L2 = LSTM(4, activation='relu', return_sequences=False)(L1)\n",
    "    L3 = RepeatVector(X.shape[1])(L2)\n",
    "    L4 = LSTM(4, activation='relu', return_sequences=True)(L3)\n",
    "    L5 = LSTM(16, activation='relu', return_sequences=True)(L4)\n",
    "    output = TimeDistributed(Dense(X.shape[2]))(L5)    \n",
    "    model = Model(inputs=inputs, outputs=output)\n",
    "    return model"
   ]
  },
  {
   "cell_type": "code",
   "execution_count": 21,
   "id": "married-fifty",
   "metadata": {},
   "outputs": [
    {
     "name": "stdout",
     "output_type": "stream",
     "text": [
      "Model: \"model\"\n",
      "_________________________________________________________________\n",
      "Layer (type)                 Output Shape              Param #   \n",
      "=================================================================\n",
      "input_2 (InputLayer)         [(None, 1, 26)]           0         \n",
      "_________________________________________________________________\n",
      "lstm_2 (LSTM)                (None, 1, 16)             2752      \n",
      "_________________________________________________________________\n",
      "lstm_3 (LSTM)                (None, 4)                 336       \n",
      "_________________________________________________________________\n",
      "repeat_vector (RepeatVector) (None, 1, 4)              0         \n",
      "_________________________________________________________________\n",
      "lstm_4 (LSTM)                (None, 1, 4)              144       \n",
      "_________________________________________________________________\n",
      "lstm_5 (LSTM)                (None, 1, 16)             1344      \n",
      "_________________________________________________________________\n",
      "time_distributed (TimeDistri (None, 1, 26)             442       \n",
      "=================================================================\n",
      "Total params: 5,018\n",
      "Trainable params: 5,018\n",
      "Non-trainable params: 0\n",
      "_________________________________________________________________\n"
     ]
    }
   ],
   "source": [
    "# create the autoencoder model\n",
    "model = autoencoder_model(train_X)\n",
    "model.compile(optimizer='adam', loss='mae')\n",
    "model.summary()"
   ]
  },
  {
   "cell_type": "code",
   "execution_count": 23,
   "id": "subjective-waste",
   "metadata": {},
   "outputs": [
    {
     "name": "stdout",
     "output_type": "stream",
     "text": [
      "Epoch 1/100\n",
      "1406/1406 [==============================] - 8s 3ms/step - loss: 0.1709 - val_loss: 0.0943\n",
      "Epoch 2/100\n",
      "1406/1406 [==============================] - 4s 3ms/step - loss: 0.0728 - val_loss: 0.0823\n",
      "Epoch 3/100\n",
      "1406/1406 [==============================] - 4s 3ms/step - loss: 0.0669 - val_loss: 0.0733\n",
      "Epoch 4/100\n",
      "1406/1406 [==============================] - 4s 3ms/step - loss: 0.0651 - val_loss: 0.0700\n",
      "Epoch 5/100\n",
      "1406/1406 [==============================] - 4s 3ms/step - loss: 0.0642 - val_loss: 0.0680\n",
      "Epoch 6/100\n",
      "1406/1406 [==============================] - 4s 3ms/step - loss: 0.0635 - val_loss: 0.0691\n",
      "Epoch 7/100\n",
      "1406/1406 [==============================] - 4s 3ms/step - loss: 0.0633 - val_loss: 0.0639\n",
      "Epoch 8/100\n",
      "1406/1406 [==============================] - 4s 3ms/step - loss: 0.0626 - val_loss: 0.0665\n",
      "Epoch 9/100\n",
      "1406/1406 [==============================] - 3s 2ms/step - loss: 0.0624 - val_loss: 0.0637\n",
      "Epoch 10/100\n",
      "1406/1406 [==============================] - 4s 3ms/step - loss: 0.0616 - val_loss: 0.0652\n",
      "Epoch 11/100\n",
      "1406/1406 [==============================] - 4s 3ms/step - loss: 0.0617 - val_loss: 0.0625\n",
      "Epoch 12/100\n",
      "1406/1406 [==============================] - 4s 3ms/step - loss: 0.0613 - val_loss: 0.0656\n",
      "Epoch 13/100\n",
      "1406/1406 [==============================] - 4s 3ms/step - loss: 0.0612 - val_loss: 0.0628\n",
      "Epoch 14/100\n",
      "1406/1406 [==============================] - 4s 3ms/step - loss: 0.0610 - val_loss: 0.0631\n",
      "Epoch 15/100\n",
      "1406/1406 [==============================] - 4s 3ms/step - loss: 0.0614 - val_loss: 0.0627\n",
      "Epoch 16/100\n",
      "1406/1406 [==============================] - 4s 3ms/step - loss: 0.0606 - val_loss: 0.0609\n",
      "Epoch 17/100\n",
      "1406/1406 [==============================] - 4s 3ms/step - loss: 0.0609 - val_loss: 0.0626\n",
      "Epoch 18/100\n",
      "1406/1406 [==============================] - 4s 3ms/step - loss: 0.0604 - val_loss: 0.0628\n",
      "Epoch 19/100\n",
      "1406/1406 [==============================] - 4s 3ms/step - loss: 0.0607 - val_loss: 0.0633\n",
      "Epoch 20/100\n",
      "1406/1406 [==============================] - 4s 3ms/step - loss: 0.0604 - val_loss: 0.0603\n",
      "Epoch 21/100\n",
      "1406/1406 [==============================] - 4s 3ms/step - loss: 0.0605 - val_loss: 0.0615\n",
      "Epoch 22/100\n",
      "1406/1406 [==============================] - 4s 3ms/step - loss: 0.0601 - val_loss: 0.0607\n",
      "Epoch 23/100\n",
      "1406/1406 [==============================] - 4s 3ms/step - loss: 0.0604 - val_loss: 0.0621\n",
      "Epoch 24/100\n",
      "1406/1406 [==============================] - 4s 3ms/step - loss: 0.0603 - val_loss: 0.0622\n",
      "Epoch 25/100\n",
      "1406/1406 [==============================] - 4s 3ms/step - loss: 0.0602 - val_loss: 0.0613\n",
      "Epoch 26/100\n",
      "1406/1406 [==============================] - 4s 3ms/step - loss: 0.0602 - val_loss: 0.0614\n",
      "Epoch 27/100\n",
      "1406/1406 [==============================] - 4s 3ms/step - loss: 0.0603 - val_loss: 0.0619\n",
      "Epoch 28/100\n",
      "1406/1406 [==============================] - 4s 3ms/step - loss: 0.0599 - val_loss: 0.0619\n",
      "Epoch 29/100\n",
      "1406/1406 [==============================] - 4s 3ms/step - loss: 0.0603 - val_loss: 0.0616\n",
      "Epoch 30/100\n",
      "1406/1406 [==============================] - 4s 3ms/step - loss: 0.0601 - val_loss: 0.0630\n",
      "Epoch 31/100\n",
      "1406/1406 [==============================] - 4s 3ms/step - loss: 0.0600 - val_loss: 0.0588\n",
      "Epoch 32/100\n",
      "1406/1406 [==============================] - 4s 3ms/step - loss: 0.0600 - val_loss: 0.0617\n",
      "Epoch 33/100\n",
      "1406/1406 [==============================] - 4s 3ms/step - loss: 0.0596 - val_loss: 0.0611\n",
      "Epoch 34/100\n",
      "1406/1406 [==============================] - 4s 3ms/step - loss: 0.0599 - val_loss: 0.0621\n",
      "Epoch 35/100\n",
      "1406/1406 [==============================] - 4s 3ms/step - loss: 0.0602 - val_loss: 0.0602\n",
      "Epoch 36/100\n",
      "1406/1406 [==============================] - 4s 3ms/step - loss: 0.0599 - val_loss: 0.0618\n",
      "Epoch 37/100\n",
      "1406/1406 [==============================] - 4s 3ms/step - loss: 0.0597 - val_loss: 0.0610\n",
      "Epoch 38/100\n",
      "1406/1406 [==============================] - 4s 3ms/step - loss: 0.0596 - val_loss: 0.0629\n",
      "Epoch 39/100\n",
      "1406/1406 [==============================] - 4s 3ms/step - loss: 0.0595 - val_loss: 0.0624\n",
      "Epoch 40/100\n",
      "1406/1406 [==============================] - 4s 3ms/step - loss: 0.0595 - val_loss: 0.0605\n",
      "Epoch 41/100\n",
      "1406/1406 [==============================] - 3s 2ms/step - loss: 0.0594 - val_loss: 0.0640\n",
      "Epoch 42/100\n",
      "1406/1406 [==============================] - 3s 2ms/step - loss: 0.0597 - val_loss: 0.0603\n",
      "Epoch 43/100\n",
      "1406/1406 [==============================] - 3s 2ms/step - loss: 0.0594 - val_loss: 0.0626\n",
      "Epoch 44/100\n",
      "1406/1406 [==============================] - 3s 2ms/step - loss: 0.0594 - val_loss: 0.0617\n",
      "Epoch 45/100\n",
      "1406/1406 [==============================] - 3s 2ms/step - loss: 0.0592 - val_loss: 0.0620\n",
      "Epoch 46/100\n",
      "1406/1406 [==============================] - 3s 2ms/step - loss: 0.0592 - val_loss: 0.0620\n",
      "Epoch 47/100\n",
      "1406/1406 [==============================] - 3s 2ms/step - loss: 0.0591 - val_loss: 0.0609\n",
      "Epoch 48/100\n",
      "1406/1406 [==============================] - 3s 2ms/step - loss: 0.0591 - val_loss: 0.0616\n",
      "Epoch 49/100\n",
      "1406/1406 [==============================] - 3s 2ms/step - loss: 0.0591 - val_loss: 0.0618\n",
      "Epoch 50/100\n",
      "1406/1406 [==============================] - 3s 2ms/step - loss: 0.0592 - val_loss: 0.0623\n",
      "Epoch 51/100\n",
      "1406/1406 [==============================] - 3s 2ms/step - loss: 0.0590 - val_loss: 0.0614\n",
      "Epoch 52/100\n",
      "1406/1406 [==============================] - 3s 2ms/step - loss: 0.0589 - val_loss: 0.0623\n",
      "Epoch 53/100\n",
      "1406/1406 [==============================] - 3s 2ms/step - loss: 0.0588 - val_loss: 0.0627\n",
      "Epoch 54/100\n",
      "1406/1406 [==============================] - 3s 2ms/step - loss: 0.0589 - val_loss: 0.0647\n",
      "Epoch 55/100\n",
      "1406/1406 [==============================] - 3s 2ms/step - loss: 0.0588 - val_loss: 0.0632\n",
      "Epoch 56/100\n",
      "1406/1406 [==============================] - 3s 2ms/step - loss: 0.0591 - val_loss: 0.0627\n",
      "Epoch 57/100\n",
      "1406/1406 [==============================] - 3s 2ms/step - loss: 0.0586 - val_loss: 0.0616\n",
      "Epoch 58/100\n",
      "1406/1406 [==============================] - 3s 2ms/step - loss: 0.0589 - val_loss: 0.0633\n",
      "Epoch 59/100\n",
      "1406/1406 [==============================] - 3s 2ms/step - loss: 0.0589 - val_loss: 0.0636\n",
      "Epoch 60/100\n",
      "1406/1406 [==============================] - 3s 2ms/step - loss: 0.0587 - val_loss: 0.0631\n",
      "Epoch 61/100\n",
      "1406/1406 [==============================] - 3s 2ms/step - loss: 0.0588 - val_loss: 0.0627\n",
      "Epoch 62/100\n",
      "1406/1406 [==============================] - 3s 2ms/step - loss: 0.0585 - val_loss: 0.0627\n",
      "Epoch 63/100\n",
      "1406/1406 [==============================] - 3s 2ms/step - loss: 0.0586 - val_loss: 0.0624\n",
      "Epoch 64/100\n",
      "1406/1406 [==============================] - 3s 2ms/step - loss: 0.0586 - val_loss: 0.0623\n",
      "Epoch 65/100\n",
      "1406/1406 [==============================] - 3s 2ms/step - loss: 0.0584 - val_loss: 0.0627\n",
      "Epoch 66/100\n",
      "1406/1406 [==============================] - 3s 2ms/step - loss: 0.0584 - val_loss: 0.0629\n",
      "Epoch 67/100\n",
      "1406/1406 [==============================] - 3s 2ms/step - loss: 0.0585 - val_loss: 0.0635\n",
      "Epoch 68/100\n",
      "1406/1406 [==============================] - 3s 2ms/step - loss: 0.0586 - val_loss: 0.0635\n",
      "Epoch 69/100\n",
      "1406/1406 [==============================] - 3s 2ms/step - loss: 0.0584 - val_loss: 0.0643\n",
      "Epoch 70/100\n",
      "1406/1406 [==============================] - 3s 2ms/step - loss: 0.0582 - val_loss: 0.0643\n",
      "Epoch 71/100\n",
      "1406/1406 [==============================] - 3s 2ms/step - loss: 0.0584 - val_loss: 0.0628\n",
      "Epoch 72/100\n",
      "1406/1406 [==============================] - 3s 2ms/step - loss: 0.0582 - val_loss: 0.0644\n",
      "Epoch 73/100\n",
      "1406/1406 [==============================] - 3s 2ms/step - loss: 0.0583 - val_loss: 0.0637\n",
      "Epoch 74/100\n",
      "1406/1406 [==============================] - 3s 2ms/step - loss: 0.0585 - val_loss: 0.0646\n",
      "Epoch 75/100\n",
      "1406/1406 [==============================] - 3s 2ms/step - loss: 0.0584 - val_loss: 0.0669\n",
      "Epoch 76/100\n",
      "1406/1406 [==============================] - 3s 2ms/step - loss: 0.0580 - val_loss: 0.0645\n",
      "Epoch 77/100\n",
      "1406/1406 [==============================] - 3s 2ms/step - loss: 0.0584 - val_loss: 0.0643\n",
      "Epoch 78/100\n",
      "1406/1406 [==============================] - 3s 2ms/step - loss: 0.0580 - val_loss: 0.0646\n",
      "Epoch 79/100\n",
      "1406/1406 [==============================] - 3s 2ms/step - loss: 0.0580 - val_loss: 0.0640\n"
     ]
    },
    {
     "name": "stdout",
     "output_type": "stream",
     "text": [
      "Epoch 80/100\n",
      "1406/1406 [==============================] - 3s 2ms/step - loss: 0.0581 - val_loss: 0.0657\n",
      "Epoch 81/100\n",
      "1406/1406 [==============================] - 3s 2ms/step - loss: 0.0579 - val_loss: 0.0632\n",
      "Epoch 82/100\n",
      "1406/1406 [==============================] - 3s 2ms/step - loss: 0.0581 - val_loss: 0.0639\n",
      "Epoch 83/100\n",
      "1406/1406 [==============================] - 3s 2ms/step - loss: 0.0582 - val_loss: 0.0638\n",
      "Epoch 84/100\n",
      "1406/1406 [==============================] - 3s 2ms/step - loss: 0.0579 - val_loss: 0.0639\n",
      "Epoch 85/100\n",
      "1406/1406 [==============================] - 3s 2ms/step - loss: 0.0581 - val_loss: 0.0639\n",
      "Epoch 86/100\n",
      "1406/1406 [==============================] - 3s 2ms/step - loss: 0.0579 - val_loss: 0.0653\n",
      "Epoch 87/100\n",
      "1406/1406 [==============================] - 3s 2ms/step - loss: 0.0580 - val_loss: 0.0641\n",
      "Epoch 88/100\n",
      "1406/1406 [==============================] - 3s 2ms/step - loss: 0.0576 - val_loss: 0.0646\n",
      "Epoch 89/100\n",
      "1406/1406 [==============================] - 3s 2ms/step - loss: 0.0577 - val_loss: 0.0647\n",
      "Epoch 90/100\n",
      "1406/1406 [==============================] - 3s 2ms/step - loss: 0.0574 - val_loss: 0.0642\n",
      "Epoch 91/100\n",
      "1406/1406 [==============================] - 3s 2ms/step - loss: 0.0575 - val_loss: 0.0631\n",
      "Epoch 92/100\n",
      "1406/1406 [==============================] - 3s 2ms/step - loss: 0.0576 - val_loss: 0.0641\n",
      "Epoch 93/100\n",
      "1406/1406 [==============================] - 3s 2ms/step - loss: 0.0576 - val_loss: 0.0645\n",
      "Epoch 94/100\n",
      "1406/1406 [==============================] - 4s 3ms/step - loss: 0.0577 - val_loss: 0.0637\n",
      "Epoch 95/100\n",
      "1406/1406 [==============================] - 4s 3ms/step - loss: 0.0576 - val_loss: 0.0649\n",
      "Epoch 96/100\n",
      "1406/1406 [==============================] - 3s 2ms/step - loss: 0.0574 - val_loss: 0.0636\n",
      "Epoch 97/100\n",
      "1406/1406 [==============================] - 3s 2ms/step - loss: 0.0577 - val_loss: 0.0642\n",
      "Epoch 98/100\n",
      "1406/1406 [==============================] - 3s 2ms/step - loss: 0.0574 - val_loss: 0.0645\n",
      "Epoch 99/100\n",
      "1406/1406 [==============================] - 4s 3ms/step - loss: 0.0576 - val_loss: 0.0629\n",
      "Epoch 100/100\n",
      "1406/1406 [==============================] - 3s 2ms/step - loss: 0.0575 - val_loss: 0.0641\n"
     ]
    }
   ],
   "source": [
    "# fit the model to the data\n",
    "nb_epochs = 100\n",
    "batch_size = 10\n",
    "history = model.fit(train_X, train_X, epochs=nb_epochs, batch_size=batch_size,\n",
    "                    validation_split=0.05).history"
   ]
  },
  {
   "cell_type": "code",
   "execution_count": 24,
   "id": "limiting-procedure",
   "metadata": {},
   "outputs": [
    {
     "data": {
      "image/png": "[encoded data removed]",
      "text/plain": [
       "<Figure size 1120x480 with 1 Axes>"
      ]
     },
     "metadata": {
      "needs_background": "light"
     },
     "output_type": "display_data"
    }
   ],
   "source": [
    "# plot the training losses\n",
    "fig, ax = plt.subplots(figsize=(14, 6), dpi=80)\n",
    "ax.plot(history['loss'], 'b', label='Train', linewidth=2)\n",
    "ax.plot(history['val_loss'], 'r', label='Validation', linewidth=2)\n",
    "ax.set_title('Model loss', fontsize=16)\n",
    "ax.set_ylabel('Loss (mae)')\n",
    "ax.set_xlabel('Epoch')\n",
    "ax.legend(loc='upper right')\n",
    "plt.show()"
   ]
  },
  {
   "cell_type": "code",
   "execution_count": 45,
   "id": "demanding-mambo",
   "metadata": {},
   "outputs": [
    {
     "name": "stderr",
     "output_type": "stream",
     "text": [
      "/home/hugo/anaconda3/lib/python3.8/site-packages/seaborn/distributions.py:2557: FutureWarning: `distplot` is a deprecated function and will be removed in a future version. Please adapt your code to use either `displot` (a figure-level function with similar flexibility) or `histplot` (an axes-level function for histograms).\n",
      "  warnings.warn(msg, FutureWarning)\n"
     ]
    },
    {
     "data": {
      "text/plain": [
       "(0.0, 0.5)"
      ]
     },
     "execution_count": 45,
     "metadata": {},
     "output_type": "execute_result"
    },
    {
     "data": {
      "image/png": "[encoded data removed]",
      "text/plain": [
       "<Figure size 1280x720 with 1 Axes>"
      ]
     },
     "metadata": {
      "needs_background": "light"
     },
     "output_type": "display_data"
    }
   ],
   "source": [
    "# plot the loss distribution of the training set\n",
    "X_pred = model.predict(train_X)\n",
    "X_pred = X_pred.reshape(X_pred.shape[0], X_pred.shape[2])\n",
    "X_pred = pd.DataFrame(X_pred, columns=train.columns)\n",
    "X_pred.index = train.index\n",
    "\n",
    "scored = pd.DataFrame(index=train.index)\n",
    "Xtrain = train_X.reshape(train_X.shape[0], train_X.shape[2])\n",
    "scored['Loss_mae'] = np.mean(np.abs(X_pred-Xtrain), axis = 1)\n",
    "plt.figure(figsize=(16,9), dpi=80)\n",
    "plt.title('Loss Distribution', fontsize=16)\n",
    "sns.distplot(scored['Loss_mae'], bins = 20, kde= True, color = 'blue');\n",
    "plt.xlim([0.0,.5])"
   ]
  },
  {
   "cell_type": "code",
   "execution_count": 53,
   "id": "unlike-draft",
   "metadata": {},
   "outputs": [
    {
     "data": {
      "text/html": [
       "<div>\n",
       "<style scoped>\n",
       "    .dataframe tbody tr th:only-of-type {\n",
       "        vertical-align: middle;\n",
       "    }\n",
       "\n",
       "    .dataframe tbody tr th {\n",
       "        vertical-align: top;\n",
       "    }\n",
       "\n",
       "    .dataframe thead th {\n",
       "        text-align: right;\n",
       "    }\n",
       "</style>\n",
       "<table border=\"1\" class=\"dataframe\">\n",
       "  <thead>\n",
       "    <tr style=\"text-align: right;\">\n",
       "      <th></th>\n",
       "      <th>Loss_mae</th>\n",
       "      <th>Threshold</th>\n",
       "      <th>Anomaly</th>\n",
       "    </tr>\n",
       "  </thead>\n",
       "  <tbody>\n",
       "    <tr>\n",
       "      <th>14801</th>\n",
       "      <td>0.063019</td>\n",
       "      <td>0.175</td>\n",
       "      <td>False</td>\n",
       "    </tr>\n",
       "    <tr>\n",
       "      <th>14802</th>\n",
       "      <td>0.063910</td>\n",
       "      <td>0.175</td>\n",
       "      <td>False</td>\n",
       "    </tr>\n",
       "    <tr>\n",
       "      <th>14803</th>\n",
       "      <td>0.065207</td>\n",
       "      <td>0.175</td>\n",
       "      <td>False</td>\n",
       "    </tr>\n",
       "    <tr>\n",
       "      <th>14804</th>\n",
       "      <td>0.066399</td>\n",
       "      <td>0.175</td>\n",
       "      <td>False</td>\n",
       "    </tr>\n",
       "    <tr>\n",
       "      <th>14805</th>\n",
       "      <td>0.062531</td>\n",
       "      <td>0.175</td>\n",
       "      <td>False</td>\n",
       "    </tr>\n",
       "  </tbody>\n",
       "</table>\n",
       "</div>"
      ],
      "text/plain": [
       "       Loss_mae  Threshold  Anomaly\n",
       "14801  0.063019      0.175    False\n",
       "14802  0.063910      0.175    False\n",
       "14803  0.065207      0.175    False\n",
       "14804  0.066399      0.175    False\n",
       "14805  0.062531      0.175    False"
      ]
     },
     "execution_count": 53,
     "metadata": {},
     "output_type": "execute_result"
    }
   ],
   "source": [
    "# calculate the loss on the test set\n",
    "X_pred = model.predict(test_X)\n",
    "X_pred = X_pred.reshape(X_pred.shape[0], X_pred.shape[2])\n",
    "X_pred = pd.DataFrame(X_pred, columns=test.columns)\n",
    "X_pred.index = test.index\n",
    "\n",
    "scored = pd.DataFrame(index=test.index)\n",
    "Xtest = test_X.reshape(test_X.shape[0], test_X.shape[2])\n",
    "scored['Loss_mae'] = np.mean(np.abs(X_pred-Xtest), axis = 1)\n",
    "scored['Threshold'] = 0.175\n",
    "scored['Anomaly'] = scored['Loss_mae'] > scored['Threshold']\n",
    "scored.head()"
   ]
  },
  {
   "cell_type": "code",
   "execution_count": 57,
   "id": "adequate-maria",
   "metadata": {},
   "outputs": [],
   "source": [
    "# calculate the same metrics for the training set \n",
    "# and merge all data in a single dataframe for plotting\n",
    "X_pred_train = model.predict(train_X)\n",
    "X_pred_train = X_pred_train.reshape(X_pred_train.shape[0], X_pred_train.shape[2])\n",
    "X_pred_train = pd.DataFrame(X_pred_train, columns=train.columns)\n",
    "X_pred_train.index = train.index\n",
    "\n",
    "scored_train = pd.DataFrame(index=train.index)\n",
    "scored_train['Loss_mae'] = np.mean(np.abs(X_pred_train-Xtrain), axis = 1)\n",
    "scored_train['Threshold'] = 0.175\n",
    "scored_train['Anomaly'] = scored_train['Loss_mae'] > scored_train['Threshold']\n",
    "scored = pd.concat([scored_train, scored])"
   ]
  },
  {
   "cell_type": "code",
   "execution_count": 58,
   "id": "desirable-memory",
   "metadata": {},
   "outputs": [
    {
     "data": {
      "text/plain": [
       "<AxesSubplot:>"
      ]
     },
     "execution_count": 58,
     "metadata": {},
     "output_type": "execute_result"
    },
    {
     "data": {
      "image/png": "[encoded data removed]",
      "text/plain": [
       "<Figure size 1152x648 with 1 Axes>"
      ]
     },
     "metadata": {
      "needs_background": "light"
     },
     "output_type": "display_data"
    }
   ],
   "source": [
    "# plot bearing failure time plot\n",
    "scored.plot(logy=True,  figsize=(16,9), ylim=[1e-2,1e2], color=['blue','red'])"
   ]
  },
  {
   "cell_type": "code",
   "execution_count": null,
   "id": "parental-bermuda",
   "metadata": {},
   "outputs": [],
   "source": []
  }
 ],
 "metadata": {
  "kernelspec": {
   "display_name": "Python 3",
   "language": "python",
   "name": "python3"
  },
  "language_info": {
   "codemirror_mode": {
    "name": "ipython",
    "version": 3
   },
   "file_extension": ".py",
   "mimetype": "text/x-python",
   "name": "python",
   "nbconvert_exporter": "python",
   "pygments_lexer": "ipython3",
   "version": "3.8.5"
  }
 },
 "nbformat": 4,
 "nbformat_minor": 5
}
